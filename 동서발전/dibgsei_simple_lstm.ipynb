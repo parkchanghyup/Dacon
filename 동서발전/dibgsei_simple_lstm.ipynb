{
  "nbformat": 4,
  "nbformat_minor": 0,
  "metadata": {
    "kernelspec": {
      "name": "python3",
      "display_name": "Python 3"
    },
    "colab": {
      "name": "dibgsei_simple_lstm.ipynb",
      "provenance": [],
      "collapsed_sections": []
    },
    "language_info": {
      "name": "python"
    },
    "accelerator": "GPU"
  },
  "cells": [
    {
      "cell_type": "code",
      "metadata": {
        "id": "Y2Gs4cL0kSDh"
      },
      "source": [
        ""
      ],
      "execution_count": null,
      "outputs": []
    },
    {
      "cell_type": "code",
      "metadata": {
        "id": "uXia0OHkkSDo"
      },
      "source": [
        "import torch\n",
        "import torch.nn as nn\n",
        "import seaborn as sns\n",
        "import numpy as np\n",
        "import pandas as pd\n",
        "import matplotlib.pyplot as plt"
      ],
      "execution_count": 3,
      "outputs": []
    },
    {
      "cell_type": "markdown",
      "metadata": {
        "id": "GAM5Vt5LkSDq"
      },
      "source": [
        "## 데이터 다운로드"
      ]
    },
    {
      "cell_type": "code",
      "metadata": {
        "colab": {
          "base_uri": "https://localhost:8080/"
        },
        "id": "OvdeO_1tkSDq",
        "outputId": "a2f3c631-1bed-4cf0-fdd9-be48b84d7860"
      },
      "source": [
        "!wget 'https://bit.ly/3dD5MU9'\n",
        "\n",
        "import zipfile\n",
        "with zipfile.ZipFile('3dD5MU9', 'r') as existing_zip:\n",
        "    existing_zip.extractall('data')"
      ],
      "execution_count": 4,
      "outputs": [
        {
          "output_type": "stream",
          "text": [
            "--2021-04-28 13:01:52--  https://bit.ly/3dD5MU9\n",
            "Resolving bit.ly (bit.ly)... 67.199.248.10, 67.199.248.11\n",
            "Connecting to bit.ly (bit.ly)|67.199.248.10|:443... connected.\n",
            "HTTP request sent, awaiting response... 301 Moved Permanently\n",
            "Location: https://drive.google.com/uc?export=download&id=1kkF00wW8v0npJ8S2nA7--eMTH3gOL03z [following]\n",
            "--2021-04-28 13:01:53--  https://drive.google.com/uc?export=download&id=1kkF00wW8v0npJ8S2nA7--eMTH3gOL03z\n",
            "Resolving drive.google.com (drive.google.com)... 108.177.97.102, 108.177.97.113, 108.177.97.100, ...\n",
            "Connecting to drive.google.com (drive.google.com)|108.177.97.102|:443... connected.\n",
            "HTTP request sent, awaiting response... 302 Moved Temporarily\n",
            "Location: https://doc-14-94-docs.googleusercontent.com/docs/securesc/ha0ro937gcuc7l7deffksulhg5h7mbp1/3pjcnj71732mln28khujm7mleb821f3q/1619614875000/00192245294648390361/*/1kkF00wW8v0npJ8S2nA7--eMTH3gOL03z?e=download [following]\n",
            "Warning: wildcards not supported in HTTP.\n",
            "--2021-04-28 13:01:56--  https://doc-14-94-docs.googleusercontent.com/docs/securesc/ha0ro937gcuc7l7deffksulhg5h7mbp1/3pjcnj71732mln28khujm7mleb821f3q/1619614875000/00192245294648390361/*/1kkF00wW8v0npJ8S2nA7--eMTH3gOL03z?e=download\n",
            "Resolving doc-14-94-docs.googleusercontent.com (doc-14-94-docs.googleusercontent.com)... 74.125.204.132, 2404:6800:4008:c04::84\n",
            "Connecting to doc-14-94-docs.googleusercontent.com (doc-14-94-docs.googleusercontent.com)|74.125.204.132|:443... connected.\n",
            "HTTP request sent, awaiting response... 200 OK\n",
            "Length: unspecified [application/x-zip-compressed]\n",
            "Saving to: ‘3dD5MU9’\n",
            "\n",
            "3dD5MU9                 [ <=>                ]   2.07M  --.-KB/s    in 0.02s   \n",
            "\n",
            "2021-04-28 13:01:57 (86.0 MB/s) - ‘3dD5MU9’ saved [2172031]\n",
            "\n"
          ],
          "name": "stdout"
        }
      ]
    },
    {
      "cell_type": "markdown",
      "metadata": {
        "id": "XMA-gTz7kSDr"
      },
      "source": [
        "### 예측해야될 데이터\n",
        "---\n",
        "- dangjin_floating : 당진수상태양광 발전량(KW)\n",
        "- dangjin_warehouse : 당진자재창고태양광 발전량(KW)\n",
        "- dangjin : 당진태양광 발전량(KW)\n",
        "- ulsan : 울산태양광 발전량(KW)"
      ]
    },
    {
      "cell_type": "code",
      "metadata": {
        "id": "hs6P_MOpkSDr"
      },
      "source": [
        "dangjin_fcst_data = pd.read_csv('data/dangjin_fcst_data.csv') #당진지역 발전소 동네 예보\n",
        "dangjin_obs_data = pd.read_csv('data/dangjin_obs_data.csv') # 당진지역 발전소 인근 기상 관측 자료\n",
        "\n",
        "ulsan_fcst_data = pd.read_csv('data/ulsan_fcst_data.csv') # 울산지역 발전소 동네 에보\n",
        "ulsan_obs_data = pd.read_csv('data/ulsan_obs_data.csv') # 울산지역 인근 기상 관측 자료\n",
        "\n",
        "energy = pd.read_csv('data/energy.csv') # 발전소별 발전량\n",
        "site_info = pd.read_csv('data/site_info.csv') #발전소 정보\n",
        "\n",
        "\n",
        "sample_submission = pd.read_csv('data/sample_submission.csv')"
      ],
      "execution_count": 5,
      "outputs": []
    },
    {
      "cell_type": "markdown",
      "metadata": {
        "id": "oZnRnp6XkSDs"
      },
      "source": [
        "### 결측치 처리"
      ]
    },
    {
      "cell_type": "code",
      "metadata": {
        "id": "kPKdyr1_kSDs"
      },
      "source": [
        "dangjin_obs_data.fillna(dangjin_obs_data.mean(),inplace = True)\n",
        "ulsan_obs_data.fillna(ulsan_obs_data.mean(),inplace = True)\n",
        "energy.fillna(energy.mean(),inplace = True)"
      ],
      "execution_count": 6,
      "outputs": []
    },
    {
      "cell_type": "markdown",
      "metadata": {
        "id": "WRKn4lNZkSDs"
      },
      "source": [
        "### 울산"
      ]
    },
    {
      "cell_type": "code",
      "metadata": {
        "colab": {
          "base_uri": "https://localhost:8080/",
          "height": 235
        },
        "id": "AzcCYKoXkSDt",
        "outputId": "a5693b6f-5761-4239-ff31-1db97edfba23"
      },
      "source": [
        "energy = energy.set_index('time')\n",
        "\n",
        "energy.head()"
      ],
      "execution_count": 7,
      "outputs": [
        {
          "output_type": "execute_result",
          "data": {
            "text/html": [
              "<div>\n",
              "<style scoped>\n",
              "    .dataframe tbody tr th:only-of-type {\n",
              "        vertical-align: middle;\n",
              "    }\n",
              "\n",
              "    .dataframe tbody tr th {\n",
              "        vertical-align: top;\n",
              "    }\n",
              "\n",
              "    .dataframe thead th {\n",
              "        text-align: right;\n",
              "    }\n",
              "</style>\n",
              "<table border=\"1\" class=\"dataframe\">\n",
              "  <thead>\n",
              "    <tr style=\"text-align: right;\">\n",
              "      <th></th>\n",
              "      <th>dangjin_floating</th>\n",
              "      <th>dangjin_warehouse</th>\n",
              "      <th>dangjin</th>\n",
              "      <th>ulsan</th>\n",
              "    </tr>\n",
              "    <tr>\n",
              "      <th>time</th>\n",
              "      <th></th>\n",
              "      <th></th>\n",
              "      <th></th>\n",
              "      <th></th>\n",
              "    </tr>\n",
              "  </thead>\n",
              "  <tbody>\n",
              "    <tr>\n",
              "      <th>2018-03-01 1:00:00</th>\n",
              "      <td>0.0</td>\n",
              "      <td>0.0</td>\n",
              "      <td>0</td>\n",
              "      <td>0</td>\n",
              "    </tr>\n",
              "    <tr>\n",
              "      <th>2018-03-01 2:00:00</th>\n",
              "      <td>0.0</td>\n",
              "      <td>0.0</td>\n",
              "      <td>0</td>\n",
              "      <td>0</td>\n",
              "    </tr>\n",
              "    <tr>\n",
              "      <th>2018-03-01 3:00:00</th>\n",
              "      <td>0.0</td>\n",
              "      <td>0.0</td>\n",
              "      <td>0</td>\n",
              "      <td>0</td>\n",
              "    </tr>\n",
              "    <tr>\n",
              "      <th>2018-03-01 4:00:00</th>\n",
              "      <td>0.0</td>\n",
              "      <td>0.0</td>\n",
              "      <td>0</td>\n",
              "      <td>0</td>\n",
              "    </tr>\n",
              "    <tr>\n",
              "      <th>2018-03-01 5:00:00</th>\n",
              "      <td>0.0</td>\n",
              "      <td>0.0</td>\n",
              "      <td>0</td>\n",
              "      <td>0</td>\n",
              "    </tr>\n",
              "  </tbody>\n",
              "</table>\n",
              "</div>"
            ],
            "text/plain": [
              "                    dangjin_floating  dangjin_warehouse  dangjin  ulsan\n",
              "time                                                                   \n",
              "2018-03-01 1:00:00               0.0                0.0        0      0\n",
              "2018-03-01 2:00:00               0.0                0.0        0      0\n",
              "2018-03-01 3:00:00               0.0                0.0        0      0\n",
              "2018-03-01 4:00:00               0.0                0.0        0      0\n",
              "2018-03-01 5:00:00               0.0                0.0        0      0"
            ]
          },
          "metadata": {
            "tags": []
          },
          "execution_count": 7
        }
      ]
    },
    {
      "cell_type": "markdown",
      "metadata": {
        "id": "w_-fqd4rkSDt"
      },
      "source": [
        "## 모델링"
      ]
    },
    {
      "cell_type": "code",
      "metadata": {
        "id": "D6h_emR3kSDt"
      },
      "source": [
        "import torch\n",
        "import torch.optim as optim\n",
        "import numpy as np\n",
        "import matplotlib.pyplot as plt\n",
        "from sklearn.preprocessing import MinMaxScaler"
      ],
      "execution_count": 8,
      "outputs": []
    },
    {
      "cell_type": "code",
      "metadata": {
        "id": "nVYJhKbDkSDt"
      },
      "source": [
        "# hyper parameters\n",
        "seq_length = 7\n",
        "data_dim = 5\n",
        "hidden_dim = 30\n",
        "output_dim = 1\n",
        "learning_rate = 0.01\n",
        "iterations = 501"
      ],
      "execution_count": 9,
      "outputs": []
    },
    {
      "cell_type": "markdown",
      "metadata": {
        "id": "HZy8nW8MkSDu"
      },
      "source": [
        "### ulsan"
      ]
    },
    {
      "cell_type": "code",
      "metadata": {
        "colab": {
          "base_uri": "https://localhost:8080/",
          "height": 235
        },
        "id": "xMqBhsRXkSDu",
        "outputId": "285b8449-bde5-4292-9750-6ef5d93df97d"
      },
      "source": [
        "energy.tail()"
      ],
      "execution_count": 10,
      "outputs": [
        {
          "output_type": "execute_result",
          "data": {
            "text/html": [
              "<div>\n",
              "<style scoped>\n",
              "    .dataframe tbody tr th:only-of-type {\n",
              "        vertical-align: middle;\n",
              "    }\n",
              "\n",
              "    .dataframe tbody tr th {\n",
              "        vertical-align: top;\n",
              "    }\n",
              "\n",
              "    .dataframe thead th {\n",
              "        text-align: right;\n",
              "    }\n",
              "</style>\n",
              "<table border=\"1\" class=\"dataframe\">\n",
              "  <thead>\n",
              "    <tr style=\"text-align: right;\">\n",
              "      <th></th>\n",
              "      <th>dangjin_floating</th>\n",
              "      <th>dangjin_warehouse</th>\n",
              "      <th>dangjin</th>\n",
              "      <th>ulsan</th>\n",
              "    </tr>\n",
              "    <tr>\n",
              "      <th>time</th>\n",
              "      <th></th>\n",
              "      <th></th>\n",
              "      <th></th>\n",
              "      <th></th>\n",
              "    </tr>\n",
              "  </thead>\n",
              "  <tbody>\n",
              "    <tr>\n",
              "      <th>2021-01-31 20:00:00</th>\n",
              "      <td>0.0</td>\n",
              "      <td>0.0</td>\n",
              "      <td>0</td>\n",
              "      <td>0</td>\n",
              "    </tr>\n",
              "    <tr>\n",
              "      <th>2021-01-31 21:00:00</th>\n",
              "      <td>0.0</td>\n",
              "      <td>0.0</td>\n",
              "      <td>0</td>\n",
              "      <td>0</td>\n",
              "    </tr>\n",
              "    <tr>\n",
              "      <th>2021-01-31 22:00:00</th>\n",
              "      <td>0.0</td>\n",
              "      <td>0.0</td>\n",
              "      <td>0</td>\n",
              "      <td>0</td>\n",
              "    </tr>\n",
              "    <tr>\n",
              "      <th>2021-01-31 23:00:00</th>\n",
              "      <td>0.0</td>\n",
              "      <td>0.0</td>\n",
              "      <td>0</td>\n",
              "      <td>0</td>\n",
              "    </tr>\n",
              "    <tr>\n",
              "      <th>2021-01-31 24:00:00</th>\n",
              "      <td>0.0</td>\n",
              "      <td>0.0</td>\n",
              "      <td>0</td>\n",
              "      <td>0</td>\n",
              "    </tr>\n",
              "  </tbody>\n",
              "</table>\n",
              "</div>"
            ],
            "text/plain": [
              "                     dangjin_floating  dangjin_warehouse  dangjin  ulsan\n",
              "time                                                                    \n",
              "2021-01-31 20:00:00               0.0                0.0        0      0\n",
              "2021-01-31 21:00:00               0.0                0.0        0      0\n",
              "2021-01-31 22:00:00               0.0                0.0        0      0\n",
              "2021-01-31 23:00:00               0.0                0.0        0      0\n",
              "2021-01-31 24:00:00               0.0                0.0        0      0"
            ]
          },
          "metadata": {
            "tags": []
          },
          "execution_count": 10
        }
      ]
    },
    {
      "cell_type": "code",
      "metadata": {
        "colab": {
          "base_uri": "https://localhost:8080/",
          "height": 35
        },
        "id": "sN-4h9SXkSDu",
        "outputId": "3fce644a-4fa1-4821-c1d3-14308f7c55e4"
      },
      "source": [
        "ulsan = energy['ulsan'].values.astype(float)\n",
        "dangjin_floating = energy['dangjin_floating'].values.astype(float)\n",
        "dangjin_warehouse = energy['dangjin_warehouse'].values.astype(float)\n",
        "dangjin\t = energy['dangjin'].values.astype(float)\n",
        "\n",
        "\n",
        "'''valid_data_size = 700\n",
        "train_data = ulsan[:-valid_data_size]\n",
        "valid_data = ulsan[-valid_data_size:]'''"
      ],
      "execution_count": 120,
      "outputs": [
        {
          "output_type": "execute_result",
          "data": {
            "application/vnd.google.colaboratory.intrinsic+json": {
              "type": "string"
            },
            "text/plain": [
              "'valid_data_size = 700\\ntrain_data = ulsan[:-valid_data_size]\\nvalid_data = ulsan[-valid_data_size:]'"
            ]
          },
          "metadata": {
            "tags": []
          },
          "execution_count": 120
        }
      ]
    },
    {
      "cell_type": "code",
      "metadata": {
        "id": "OqVVqGGCkSDv"
      },
      "source": [
        "from sklearn.preprocessing import MinMaxScaler\n",
        "scaler = MinMaxScaler()\n",
        "train_data_norm = scaler.fit_transform(train_data.reshape(-1,1))"
      ],
      "execution_count": 15,
      "outputs": []
    },
    {
      "cell_type": "code",
      "metadata": {
        "id": "vcaGb850kSDv"
      },
      "source": [
        "sequence_length = 96 \n",
        "def make_batch(input_data, sl):\n",
        "    train_x = []\n",
        "    train_y = []\n",
        "    L = len(input_data)\n",
        "    for i in range(L-sl):\n",
        "        train_seq = input_data[i:i+sl]\n",
        "        train_label = input_data[i+sl:i+sl+1]\n",
        "        train_x.append(train_seq)\n",
        "        train_y.append(train_label)\n",
        "    return train_x, train_y"
      ],
      "execution_count": 121,
      "outputs": []
    },
    {
      "cell_type": "code",
      "metadata": {
        "id": "iRnsZ5ZBkSDw"
      },
      "source": [
        "device = torch.device(\"cuda:0\" if torch.cuda.is_available() else \"cpu\")"
      ],
      "execution_count": 102,
      "outputs": []
    },
    {
      "cell_type": "code",
      "metadata": {
        "id": "6H_AO1UlkSDw"
      },
      "source": [
        "class RNN(nn.Module):\n",
        "    \n",
        "    def __init__(self):\n",
        "        super().__init__()\n",
        "        self.input_vector = 1\n",
        "        self.sequence_length = 100\n",
        "        self.output_vector = 100\n",
        "        self.num_layers = 4\n",
        "        \n",
        "        self.lstm = nn.LSTM(input_size=self.input_vector, hidden_size=self.output_vector, num_layers=self.num_layers, batch_first=True)\n",
        "        self.linear = nn.Sequential(\n",
        "            nn.Linear(self.output_vector, 50),\n",
        "            nn.Linear(50, 30),\n",
        "            nn.Linear(30, 10),\n",
        "            nn.Linear(10,1)\n",
        "        )\n",
        "        \n",
        "    def forward(self, x):\n",
        "        output, _ = self.lstm(x) #(hidden, cell) 데이터는 사용하지 않음\n",
        "        return self.linear(output[:,-1,:])\n"
      ],
      "execution_count": 103,
      "outputs": []
    },
    {
      "cell_type": "code",
      "metadata": {
        "colab": {
          "base_uri": "https://localhost:8080/"
        },
        "id": "b-rbB0v_kSDw",
        "outputId": "95b2716b-3bde-4cdb-956a-9e9be5da94ec"
      },
      "source": [
        "train_x, train_y = make_batch(ulsan.reshape(-1,1), sequence_length)\n",
        "tensor_x = torch.Tensor(train_x)\n",
        "tensor_y = torch.Tensor(train_y)\n",
        "\n",
        "\n",
        "ulsan = RNN()\n",
        "ulsan = ulsan.to(device)\n",
        "\n",
        "optimizer = torch.optim.Adam(ulsan.parameters(), lr=0.001)\n",
        "criterion = nn.MSELoss()\n",
        "epochs = 600\n",
        "for i in range(epochs):\n",
        "    model.train()\n",
        "    tensor_x = tensor_x.to(device)\n",
        "    tensor_y = tensor_y.to(device)\n",
        "    output = ulsan(tensor_x)\n",
        "    loss = criterion(output, tensor_y.view(-1,1))\n",
        "    \n",
        "    optimizer.zero_grad()\n",
        "    loss.backward()\n",
        "    optimizer.step()\n",
        "    \n",
        "    if i%25 == 0:\n",
        "        print('Epoch {}, Loss {:.5f}'.format(i, loss.item()))\n",
        "\n",
        "x_input = np.array(energy.ulsan[-672:]) #  next value based on data of last year\n",
        "x_input = x_input.reshape((1, 672, 1)) \n",
        "\n",
        "\n",
        "for i in range(672):\n",
        "    \n",
        "    x_input = torch.Tensor(x_input)\n",
        "    x_input = x_input.to(device)\n",
        "    predict = model(x_input).cpu().detach().numpy()\n",
        "    new_input = predict.reshape((1,1,1))\n",
        "    x_input = np.concatenate((x_input[:,-671:].cpu(), new_input), axis = 1)\n",
        "ulsan_pred = x_input.reshape((x_input.shape[1]))    "
      ],
      "execution_count": 107,
      "outputs": [
        {
          "output_type": "stream",
          "text": [
            "Epoch 0, Loss 439.74878\n",
            "Epoch 25, Loss 568.05463\n",
            "Epoch 50, Loss 494.38327\n",
            "Epoch 75, Loss 462.51663\n",
            "Epoch 100, Loss 451.09293\n",
            "Epoch 125, Loss 445.11185\n",
            "Epoch 150, Loss 441.48483\n",
            "Epoch 175, Loss 438.47583\n"
          ],
          "name": "stdout"
        }
      ]
    },
    {
      "cell_type": "code",
      "metadata": {
        "colab": {
          "base_uri": "https://localhost:8080/"
        },
        "id": "jbJb6TDrwJiM",
        "outputId": "ca950bfc-7413-4880-de88-b0a445cdf2cb"
      },
      "source": [
        "train_x, train_y = make_batch(dangjin.reshape(-1,1), sequence_length)\n",
        "tensor_x = torch.Tensor(train_x)\n",
        "tensor_y = torch.Tensor(train_y)\n",
        "\n",
        "\n",
        "dangjin = RNN()\n",
        "dangjin = dangjin.to(device)\n",
        "\n",
        "optimizer = torch.optim.Adam(dangjin.parameters(), lr=0.001)\n",
        "criterion = nn.MSELoss()\n",
        "epochs = 600\n",
        "for i in range(epochs):\n",
        "    model.train()\n",
        "    tensor_x = tensor_x.to(device)\n",
        "    tensor_y = tensor_y.to(device)\n",
        "    output = dangjin(tensor_x)\n",
        "    loss = criterion(output, tensor_y.view(-1,1))\n",
        "    \n",
        "    optimizer.zero_grad()\n",
        "    loss.backward()\n",
        "    optimizer.step()\n",
        "    \n",
        "    if i%25 == 0:\n",
        "        print('Epoch {}, Loss {:.5f}'.format(i, loss.item()))\n",
        "\n",
        "x_input = np.array(energy.dangjin[-672:]) #  next value based on data of last year\n",
        "x_input = x_input.reshape((1, 672, 1)) \n",
        "\n",
        "\n",
        "for i in range(672):\n",
        "    \n",
        "    x_input = torch.Tensor(x_input)\n",
        "    x_input = x_input.to(device)\n",
        "    predict = model(x_input).cpu().detach().numpy()\n",
        "    new_input = predict.reshape((1,1,1))\n",
        "    x_input = np.concatenate((x_input[:,-671:].cpu(), new_input), axis = 1)\n",
        "dangjin_pred = x_input.reshape((x_input.shape[1]))    "
      ],
      "execution_count": 122,
      "outputs": [
        {
          "output_type": "stream",
          "text": [
            "Epoch 0, Loss 68113.13281\n",
            "Epoch 25, Loss 65633.44531\n",
            "Epoch 50, Loss 51141.35156\n",
            "Epoch 75, Loss 48565.36328\n",
            "Epoch 100, Loss 48563.94922\n",
            "Epoch 125, Loss 48558.73438\n",
            "Epoch 150, Loss 48557.18750\n",
            "Epoch 175, Loss 48557.11328\n",
            "Epoch 200, Loss 48556.87109\n",
            "Epoch 225, Loss 48556.27734\n",
            "Epoch 250, Loss 48551.46484\n",
            "Epoch 275, Loss 40932.50000\n",
            "Epoch 300, Loss 3479.84302\n",
            "Epoch 325, Loss 2774.48047\n",
            "Epoch 350, Loss 2482.87866\n",
            "Epoch 375, Loss 2419.37378\n",
            "Epoch 400, Loss 2288.97998\n",
            "Epoch 425, Loss 2249.44531\n",
            "Epoch 450, Loss 2217.58594\n",
            "Epoch 475, Loss 2196.78784\n",
            "Epoch 500, Loss 2203.05688\n",
            "Epoch 525, Loss 2152.76172\n",
            "Epoch 550, Loss 2175.37866\n",
            "Epoch 575, Loss 2110.50024\n"
          ],
          "name": "stdout"
        }
      ]
    },
    {
      "cell_type": "code",
      "metadata": {
        "id": "2abziaMewJac"
      },
      "source": [
        "train_x, train_y = make_batch(dangjin_floating.reshape(-1,1), sequence_length)\n",
        "tensor_x = torch.Tensor(train_x)\n",
        "tensor_y = torch.Tensor(train_y)\n",
        "\n",
        "\n",
        "dangjin_floating = RNN()\n",
        "dangjin_floating = dangjin_floating.to(device)\n",
        "\n",
        "optimizer = torch.optim.Adam(dangjin_floating.parameters(), lr=0.001)\n",
        "criterion = nn.MSELoss()\n",
        "epochs = 600\n",
        "for i in range(epochs):\n",
        "    model.train()\n",
        "    tensor_x = tensor_x.to(device)\n",
        "    tensor_y = tensor_y.to(device)\n",
        "    output = dangjin_floating(tensor_x)\n",
        "    loss = criterion(output, tensor_y.view(-1,1))\n",
        "    \n",
        "    optimizer.zero_grad()\n",
        "    loss.backward()\n",
        "    optimizer.step()\n",
        "    \n",
        "    if i%25 == 0:\n",
        "        print('Epoch {}, Loss {:.5f}'.format(i, loss.item()))\n",
        "\n",
        "x_input = np.array(energy.dangjin_floating[-672:]) #  next value based on data of last year\n",
        "x_input = x_input.reshape((1, 672, 1)) \n",
        "\n",
        "\n",
        "for i in range(672):\n",
        "    \n",
        "    x_input = torch.Tensor(x_input)\n",
        "    x_input = x_input.to(device)\n",
        "    predict = model(x_input).cpu().detach().numpy()\n",
        "    new_input = predict.reshape((1,1,1))\n",
        "    x_input = np.concatenate((x_input[:,-671:].cpu(), new_input), axis = 1)\n",
        "dangjin_floating_pred = x_input.reshape((x_input.shape[1]))    "
      ],
      "execution_count": 125,
      "outputs": []
    },
    {
      "cell_type": "code",
      "metadata": {
        "id": "n-4C72yYwJRi"
      },
      "source": [
        "train_x, train_y = make_batch(dangjin_warehouse.reshape(-1,1), sequence_length)\n",
        "tensor_x = torch.Tensor(train_x)\n",
        "tensor_y = torch.Tensor(train_y)\n",
        "\n",
        "\n",
        "dangjin_warehouse = RNN()\n",
        "dangjin_warehouse = dangjin_warehouse.to(device)\n",
        "\n",
        "optimizer = torch.optim.Adam(dangjin_warehouse.parameters(), lr=0.001)\n",
        "criterion = nn.MSELoss()\n",
        "epochs = 600\n",
        "for i in range(epochs):\n",
        "    model.train()\n",
        "    tensor_x = tensor_x.to(device)\n",
        "    tensor_y = tensor_y.to(device)\n",
        "    output = dangjin_warehouse(tensor_x)\n",
        "    loss = criterion(output, tensor_y.view(-1,1))\n",
        "    \n",
        "    optimizer.zero_grad()\n",
        "    loss.backward()\n",
        "    optimizer.step()\n",
        "    \n",
        "    if i%25 == 0:\n",
        "        print('Epoch {}, Loss {:.5f}'.format(i, loss.item()))\n",
        "\n",
        "x_input = np.array(energy.dangjin_warehouse[-672:]) #  next value based on data of last year\n",
        "x_input = x_input.reshape((1, 672, 1)) \n",
        "\n",
        "\n",
        "for i in range(672):\n",
        "    \n",
        "    x_input = torch.Tensor(x_input)\n",
        "    x_input = x_input.to(device)\n",
        "    predict = model(x_input).cpu().detach().numpy()\n",
        "    new_input = predict.reshape((1,1,1))\n",
        "    x_input = np.concatenate((x_input[:,-671:].cpu(), new_input), axis = 1)\n",
        "dangjin_warehouse_pred = x_input.reshape((x_input.shape[1]))    "
      ],
      "execution_count": 126,
      "outputs": []
    },
    {
      "cell_type": "code",
      "metadata": {
        "id": "NrAdS1vQwI_E"
      },
      "source": [
        "b"
      ],
      "execution_count": null,
      "outputs": []
    },
    {
      "cell_type": "code",
      "metadata": {
        "id": "V8kh1_-hqOXj"
      },
      "source": [
        "submission = pd.read_csv('data/sample_submission.csv')"
      ],
      "execution_count": 112,
      "outputs": []
    },
    {
      "cell_type": "code",
      "metadata": {
        "id": "CslHT61Vu4h3"
      },
      "source": [
        "submission.iloc[:24*28, 1] = dangjin_floating_pred\n",
        "submission.iloc[:24*28, 2] = dangjin_warehouse_pred\n",
        "submission.iloc[:24*28, 3] = dangjin_pred\n",
        "submission.iloc[:24*28, 4] = ulsan_pred"
      ],
      "execution_count": 127,
      "outputs": []
    },
    {
      "cell_type": "code",
      "metadata": {
        "id": "sJmfz90svFfP"
      },
      "source": [
        "submission.to_csv('submission.csv',index=False)"
      ],
      "execution_count": 129,
      "outputs": []
    }
  ]
}