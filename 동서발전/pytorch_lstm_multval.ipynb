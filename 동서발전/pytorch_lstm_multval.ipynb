{
  "nbformat": 4,
  "nbformat_minor": 0,
  "metadata": {
    "colab": {
      "name": "pytorch_lstm_multval.ipynb",
      "provenance": [],
      "collapsed_sections": []
    },
    "kernelspec": {
      "name": "python3",
      "display_name": "Python 3"
    },
    "language_info": {
      "name": "python"
    },
    "accelerator": "GPU"
  },
  "cells": [
    {
      "cell_type": "markdown",
      "metadata": {
        "id": "BsAJ2ArjQiBv"
      },
      "source": [
        "## 라이브러리 로딩"
      ]
    },
    {
      "cell_type": "code",
      "metadata": {
        "id": "J8uPgFzBQbYM"
      },
      "source": [
        "import pandas as pd\n",
        "from datetime import datetime, timedelta\n",
        "import pandas as pd\n",
        "import numpy as np\n",
        "import matplotlib.pyplot as plt\n",
        "import lightgbm as lgb"
      ],
      "execution_count": null,
      "outputs": []
    },
    {
      "cell_type": "code",
      "metadata": {
        "id": "RgrYjbLzQkcw"
      },
      "source": [
        "\n",
        "import seaborn as sns\n",
        "\n",
        "import torch\n",
        "import torch.nn as nn\n",
        "import torch.optim as optim\n",
        "\n",
        "from sklearn.preprocessing import MinMaxScaler"
      ],
      "execution_count": null,
      "outputs": []
    },
    {
      "cell_type": "markdown",
      "metadata": {
        "id": "evIYzbbjQnpo"
      },
      "source": [
        "## 데이터 다운로드"
      ]
    },
    {
      "cell_type": "code",
      "metadata": {
        "colab": {
          "base_uri": "https://localhost:8080/"
        },
        "id": "9KZAOJisQmw_",
        "outputId": "bb48edc8-db3f-4394-e4db-5e49a94a7341"
      },
      "source": [
        "!wget 'https://bit.ly/3dD5MU9'\n",
        "\n",
        "import zipfile\n",
        "with zipfile.ZipFile('3dD5MU9', 'r') as existing_zip:\n",
        "    existing_zip.extractall('data')"
      ],
      "execution_count": null,
      "outputs": [
        {
          "output_type": "stream",
          "text": [
            "--2021-05-31 14:07:52--  https://bit.ly/3dD5MU9\n",
            "Resolving bit.ly (bit.ly)... 67.199.248.10, 67.199.248.11\n",
            "Connecting to bit.ly (bit.ly)|67.199.248.10|:443... connected.\n",
            "HTTP request sent, awaiting response... 301 Moved Permanently\n",
            "Location: https://drive.google.com/uc?export=download&id=1kkF00wW8v0npJ8S2nA7--eMTH3gOL03z [following]\n",
            "--2021-05-31 14:07:52--  https://drive.google.com/uc?export=download&id=1kkF00wW8v0npJ8S2nA7--eMTH3gOL03z\n",
            "Resolving drive.google.com (drive.google.com)... 64.233.189.138, 64.233.189.100, 64.233.189.113, ...\n",
            "Connecting to drive.google.com (drive.google.com)|64.233.189.138|:443... connected.\n",
            "HTTP request sent, awaiting response... 302 Moved Temporarily\n",
            "Location: https://doc-14-94-docs.googleusercontent.com/docs/securesc/ha0ro937gcuc7l7deffksulhg5h7mbp1/a9rht5l39julpra3im9h687spt6gac6i/1622470050000/00192245294648390361/*/1kkF00wW8v0npJ8S2nA7--eMTH3gOL03z?e=download [following]\n",
            "Warning: wildcards not supported in HTTP.\n",
            "--2021-05-31 14:07:58--  https://doc-14-94-docs.googleusercontent.com/docs/securesc/ha0ro937gcuc7l7deffksulhg5h7mbp1/a9rht5l39julpra3im9h687spt6gac6i/1622470050000/00192245294648390361/*/1kkF00wW8v0npJ8S2nA7--eMTH3gOL03z?e=download\n",
            "Resolving doc-14-94-docs.googleusercontent.com (doc-14-94-docs.googleusercontent.com)... 64.233.189.132, 2404:6800:4008:c07::84\n",
            "Connecting to doc-14-94-docs.googleusercontent.com (doc-14-94-docs.googleusercontent.com)|64.233.189.132|:443... connected.\n",
            "HTTP request sent, awaiting response... 200 OK\n",
            "Length: unspecified [application/x-zip-compressed]\n",
            "Saving to: ‘3dD5MU9’\n",
            "\n",
            "3dD5MU9                 [ <=>                ]   2.07M  --.-KB/s    in 0.02s   \n",
            "\n",
            "2021-05-31 14:07:58 (102 MB/s) - ‘3dD5MU9’ saved [2172031]\n",
            "\n"
          ],
          "name": "stdout"
        }
      ]
    },
    {
      "cell_type": "code",
      "metadata": {
        "id": "s6WZnUv0Qoud"
      },
      "source": [
        "energy = pd.read_csv('data/energy.csv')\n",
        "dangjin_fcst = pd.read_csv('./data/dangjin_fcst_data.csv')\n",
        "ulsan_fcst = pd.read_csv('./data/ulsan_fcst_data.csv')"
      ],
      "execution_count": null,
      "outputs": []
    },
    {
      "cell_type": "markdown",
      "metadata": {
        "id": "hRs0OYmVQrWr"
      },
      "source": [
        "## 데이터 병합"
      ]
    },
    {
      "cell_type": "code",
      "metadata": {
        "id": "us85LWWrQq2W"
      },
      "source": [
        "def to_date(x):\n",
        "    return timedelta(hours=x)"
      ],
      "execution_count": null,
      "outputs": []
    },
    {
      "cell_type": "code",
      "metadata": {
        "id": "HMoey8DUQtK3"
      },
      "source": [
        "def generate_df(df_):\n",
        "    df = df_.copy()\n",
        "\n",
        "    df['Forecast_time'] = pd.to_datetime(df['Forecast time'])\n",
        "\n",
        "    # 20 시\n",
        "    a = df[df[\"forecast\"] == 4.0]\n",
        "    a = a[a[\"Forecast time\"].apply(lambda x: \"20:00:00\" in x)]\n",
        "    a.loc[:, 'Forecast_time'] = a.loc[:, 'Forecast_time'] + a.loc[:, 'forecast'].map(to_date)\n",
        "\n",
        "    # 23 시\n",
        "    b = df[df[\"forecast\"] <= 22]\n",
        "    b = b[b[\"Forecast time\"].apply(lambda x: \"23:00:00\" in x)]\n",
        "    b.loc[:, 'Forecast_time'] = b.loc[:, 'Forecast_time'] + b.loc[:, 'forecast'].map(to_date)\n",
        "\n",
        "    # 병합\n",
        "    c = pd.concat([a, b])\n",
        "    print(f\"20시 사용 데이터 길이 : {len(a)}\")\n",
        "    print(f\"23시 사용 데이터 길이 : {len(b)}\")\n",
        "    print(f\"합친 데이터 길이 : {len(c)}\")\n",
        "    print()\n",
        "\n",
        "    # 정렬\n",
        "    c.sort_values(by=['Forecast_time'], inplace=True)\n",
        "    c = c[['Forecast_time', 'Temperature', 'Humidity', 'WindSpeed', 'WindDirection', 'Cloud']]\n",
        "\n",
        "    return c"
      ],
      "execution_count": 49,
      "outputs": []
    },
    {
      "cell_type": "code",
      "metadata": {
        "colab": {
          "base_uri": "https://localhost:8080/"
        },
        "id": "W2gPGSIDQt-4",
        "outputId": "de3f1f56-f44f-4bf6-faf2-969693d918af"
      },
      "source": [
        "dangjin_filled = generate_df(dangjin_fcst)\n",
        "ulsan_filled = generate_df(ulsan_fcst)"
      ],
      "execution_count": 50,
      "outputs": [
        {
          "output_type": "stream",
          "text": [
            "20시 사용 데이터 길이 : 1096\n",
            "23시 사용 데이터 길이 : 7672\n",
            "합친 데이터 길이 : 8768\n",
            "\n",
            "20시 사용 데이터 길이 : 1096\n",
            "23시 사용 데이터 길이 : 7672\n",
            "합친 데이터 길이 : 8768\n",
            "\n"
          ],
          "name": "stdout"
        }
      ]
    },
    {
      "cell_type": "markdown",
      "metadata": {
        "id": "lrklx5qMQvX-"
      },
      "source": [
        "## 보간"
      ]
    },
    {
      "cell_type": "code",
      "metadata": {
        "id": "40hQwtadQu32"
      },
      "source": [
        "def interpolate_df(df, method='linear'):\n",
        "    new_df = pd.DataFrame()\n",
        "    new_df['Forecast_time'] = pd.date_range(start=df['Forecast_time'].iloc[0], end=df['Forecast_time'].iloc[-1], freq='H')\n",
        "    new_df = pd.merge(new_df, df, on='Forecast_time', how='outer')\n",
        "    return new_df.interpolate(method=method)"
      ],
      "execution_count": 51,
      "outputs": []
    },
    {
      "cell_type": "code",
      "metadata": {
        "id": "YxetpxcGQzKH"
      },
      "source": [
        "dangjin_interpolated = interpolate_df(dangjin_filled, method='linear')\n",
        "ulsan_interpolated = interpolate_df(ulsan_filled, method='linear')"
      ],
      "execution_count": 52,
      "outputs": []
    },
    {
      "cell_type": "code",
      "metadata": {
        "id": "sBGm6SVIQzxk"
      },
      "source": [
        "def train_datast(energy_df, fcst_df, target):\n",
        "    # 일기 예보 있는 날짜만 선택\n",
        "    energy = energy_df.loc[24:]\n",
        "    energy.index = range(energy.shape[0])\n",
        "    \n",
        "    # 발전량 데이터가 있는 날짜만 선택\n",
        "    fcst = fcst_df.loc[:25608-1]\n",
        "    fcst.index = range(fcst.shape[0])\n",
        "    \n",
        "    # 발전량과 일기예보 연결\n",
        "    concat_df = pd.concat([energy, fcst], axis=1)\n",
        "    \n",
        "    \n",
        "    # 예보 시간, 날짜, 기상 예보 및 발전량 선택\n",
        "    feature_df = concat_df[['Forecast_time', 'Temperature', 'Humidity', 'WindSpeed', 'WindDirection', 'Cloud', target]]\n",
        "    \n",
        "\n",
        "    return     feature_df \n"
      ],
      "execution_count": 59,
      "outputs": []
    },
    {
      "cell_type": "code",
      "metadata": {
        "id": "Z6ssXkx2Q0c2"
      },
      "source": [
        "dangjin_interpolated['Forecast_time'] = dangjin_interpolated['Forecast_time'].astype('str')\n",
        "ulsan_interpolated['Forecast_time'] = ulsan_interpolated['Forecast_time'].astype('str')"
      ],
      "execution_count": 55,
      "outputs": []
    },
    {
      "cell_type": "code",
      "metadata": {
        "id": "6Y5WOa5cyfSZ"
      },
      "source": [
        "train = train_datast(energy, dangjin_interpolated, target='dangjin_floating')"
      ],
      "execution_count": 60,
      "outputs": []
    },
    {
      "cell_type": "code",
      "metadata": {
        "id": "QKHPKp2aQ1TN"
      },
      "source": [
        "train = train.set_index('Forecast_time')\n"
      ],
      "execution_count": 61,
      "outputs": []
    },
    {
      "cell_type": "markdown",
      "metadata": {
        "id": "gKYc-Xiv3Jo4"
      },
      "source": [
        ""
      ]
    },
    {
      "cell_type": "markdown",
      "metadata": {
        "id": "rwCQ0Rl83Jj8"
      },
      "source": [
        ""
      ]
    },
    {
      "cell_type": "code",
      "metadata": {
        "colab": {
          "base_uri": "https://localhost:8080/"
        },
        "id": "-4UIRLDUUfFG",
        "outputId": "ba18ffce-68a9-4ead-dc2a-a8e3fc11bd3a"
      },
      "source": [
        "len(train_set[0])"
      ],
      "execution_count": 36,
      "outputs": [
        {
          "output_type": "execute_result",
          "data": {
            "text/plain": [
              "6"
            ]
          },
          "metadata": {
            "tags": []
          },
          "execution_count": 36
        }
      ]
    },
    {
      "cell_type": "code",
      "metadata": {
        "id": "QQ6jrikH3S1X"
      },
      "source": [
        "import pandas as pd\n",
        "import numpy as np\n",
        "from pandas import read_csv\n",
        "from datetime import datetime\n",
        "from pandas import DataFrame\n",
        "from sklearn import preprocessing\n",
        "from sklearn.metrics import mean_squared_error\n",
        "from matplotlib import pyplot"
      ],
      "execution_count": 63,
      "outputs": []
    },
    {
      "cell_type": "code",
      "metadata": {
        "id": "EpdhrtROQ1_L"
      },
      "source": [
        "def series_to_supervised(data, n_in=1, n_out=1, dropnan=True):\n",
        "  n_vars = 1 if type(data) is list else data.shape[1]\n",
        "  df = DataFrame(data)\n",
        "  cols, names = list(), list()\n",
        "  # input sequence (t-n, ... t-1)\n",
        "  for i in range(n_in, 0, -1):\n",
        "      cols.append(df.shift(i))\n",
        "      names += [('var%d(t-%d)' % (j+1, i)) for j in range(n_vars)]\n",
        "  # forecast sequence (t, t+1, ... t+n)\n",
        "  for i in range(0, n_out):\n",
        "      cols.append(df.shift(-i))\n",
        "      if i == 0:\n",
        "          names += [('var%d(t)' % (j+1)) for j in range(n_vars)]\n",
        "      else:\n",
        "          names += [('var%d(t+%d)' % (j+1, i)) for j in range(n_vars)]\n",
        "  # put it all together\n",
        "  agg = pd.concat(cols, axis=1)\n",
        "  agg.columns = names\n",
        "  # drop rows with NaN values\n",
        "  if dropnan:\n",
        "      agg.dropna(inplace=True)\n",
        "  return agg"
      ],
      "execution_count": 64,
      "outputs": []
    },
    {
      "cell_type": "code",
      "metadata": {
        "id": "y3FkbP3027S6"
      },
      "source": [
        "reframed = series_to_supervised(train, 674, 674)"
      ],
      "execution_count": null,
      "outputs": []
    },
    {
      "cell_type": "code",
      "metadata": {
        "id": "VNEw9I9e6gKI"
      },
      "source": [
        ""
      ],
      "execution_count": null,
      "outputs": []
    },
    {
      "cell_type": "markdown",
      "metadata": {
        "id": "4P1336hAQ370"
      },
      "source": [
        "## 모델링\n"
      ]
    },
    {
      "cell_type": "markdown",
      "metadata": {
        "id": "7NTx4crRQ7xH"
      },
      "source": [
        "## 하이퍼 파라미터 설정"
      ]
    },
    {
      "cell_type": "code",
      "metadata": {
        "id": "yszfctiiQ7ER"
      },
      "source": [
        "values = reframed.values\n",
        "n_train_hours = 365 * 24 #1년치 데이터만 가져온다\n",
        "train = values[:n_train_hours, :]\n",
        "test = values[n_train_hours:, :]\n",
        "# split into input and outputs\n",
        "train_X, train_y = train[:, :-1], train[:, -1]\n",
        "test_X, test_y = test[:, :-1], test[:, -1]\n",
        "# reshape input to be 3D [samples, timesteps, features]\n",
        "train_X = train_X.reshape((train_X.shape[0], 1, train_X.shape[1]))\n",
        "test_X = test_X.reshape((test_X.shape[0], 1, test_X.shape[1]))"
      ],
      "execution_count": 80,
      "outputs": []
    },
    {
      "cell_type": "code",
      "metadata": {
        "id": "PoqZ9Iib3h5h"
      },
      "source": [
        "from keras.models import Sequential\n",
        "from keras.layers import Dense\n",
        "from keras.layers import LSTM\n",
        "import numpy as np\n"
      ],
      "execution_count": 73,
      "outputs": []
    },
    {
      "cell_type": "code",
      "metadata": {
        "id": "D2FXZb5sQ27-"
      },
      "source": [
        "model = Sequential()\n",
        "model.add(LSTM(50, input_shape=(train_X.shape[1], train_X.shape[2])))\n",
        "model.add(Dense(1))\n",
        "model.compile(loss='mae', optimizer='adam')"
      ],
      "execution_count": 81,
      "outputs": []
    },
    {
      "cell_type": "code",
      "metadata": {
        "colab": {
          "base_uri": "https://localhost:8080/"
        },
        "id": "LW7hAYDKudHx",
        "outputId": "75afdbaf-75e0-4bbd-c484-3ac29a48589a"
      },
      "source": [
        "history = model.fit(train_X, train_y, epochs=50, batch_size=72, \n",
        "        validation_data=(test_X, test_y), verbose=2, shuffle=False)"
      ],
      "execution_count": 82,
      "outputs": [
        {
          "output_type": "stream",
          "text": [
            "Epoch 1/50\n",
            "122/122 - 2s - loss: 129.7900\n",
            "Epoch 2/50\n",
            "122/122 - 0s - loss: 128.2335\n",
            "Epoch 3/50\n",
            "122/122 - 0s - loss: 127.0178\n",
            "Epoch 4/50\n",
            "122/122 - 0s - loss: 126.1044\n",
            "Epoch 5/50\n",
            "122/122 - 0s - loss: 125.1168\n",
            "Epoch 6/50\n",
            "122/122 - 0s - loss: 124.3215\n",
            "Epoch 7/50\n",
            "122/122 - 0s - loss: 123.6624\n",
            "Epoch 8/50\n",
            "122/122 - 0s - loss: 122.8710\n",
            "Epoch 9/50\n",
            "122/122 - 0s - loss: 121.8375\n",
            "Epoch 10/50\n",
            "122/122 - 0s - loss: 120.9438\n",
            "Epoch 11/50\n",
            "122/122 - 0s - loss: 120.3145\n",
            "Epoch 12/50\n",
            "122/122 - 0s - loss: 119.7341\n",
            "Epoch 13/50\n",
            "122/122 - 0s - loss: 118.7728\n",
            "Epoch 14/50\n",
            "122/122 - 0s - loss: 117.8995\n",
            "Epoch 15/50\n",
            "122/122 - 0s - loss: 117.2570\n",
            "Epoch 16/50\n",
            "122/122 - 0s - loss: 116.5838\n",
            "Epoch 17/50\n",
            "122/122 - 0s - loss: 115.7842\n",
            "Epoch 18/50\n",
            "122/122 - 0s - loss: 115.1697\n",
            "Epoch 19/50\n",
            "122/122 - 0s - loss: 114.6744\n",
            "Epoch 20/50\n",
            "122/122 - 0s - loss: 113.9721\n",
            "Epoch 21/50\n",
            "122/122 - 0s - loss: 113.3907\n",
            "Epoch 22/50\n",
            "122/122 - 0s - loss: 112.6996\n",
            "Epoch 23/50\n",
            "122/122 - 0s - loss: 111.6174\n",
            "Epoch 24/50\n",
            "122/122 - 0s - loss: 111.1364\n",
            "Epoch 25/50\n",
            "122/122 - 0s - loss: 110.3784\n",
            "Epoch 26/50\n",
            "122/122 - 0s - loss: 109.8312\n",
            "Epoch 27/50\n",
            "122/122 - 0s - loss: 109.1768\n",
            "Epoch 28/50\n",
            "122/122 - 0s - loss: 108.7338\n",
            "Epoch 29/50\n",
            "122/122 - 0s - loss: 108.1093\n",
            "Epoch 30/50\n",
            "122/122 - 0s - loss: 107.4062\n",
            "Epoch 31/50\n",
            "122/122 - 0s - loss: 107.2847\n",
            "Epoch 32/50\n",
            "122/122 - 0s - loss: 106.4272\n",
            "Epoch 33/50\n",
            "122/122 - 0s - loss: 105.8953\n",
            "Epoch 34/50\n",
            "122/122 - 0s - loss: 105.1682\n",
            "Epoch 35/50\n",
            "122/122 - 0s - loss: 104.8701\n",
            "Epoch 36/50\n",
            "122/122 - 0s - loss: 104.2216\n",
            "Epoch 37/50\n",
            "122/122 - 0s - loss: 103.4426\n",
            "Epoch 38/50\n",
            "122/122 - 0s - loss: 103.0660\n",
            "Epoch 39/50\n",
            "122/122 - 0s - loss: 102.8093\n",
            "Epoch 40/50\n",
            "122/122 - 0s - loss: 102.3759\n",
            "Epoch 41/50\n",
            "122/122 - 0s - loss: 101.3556\n",
            "Epoch 42/50\n",
            "122/122 - 0s - loss: 100.8403\n",
            "Epoch 43/50\n",
            "122/122 - 0s - loss: 100.3260\n",
            "Epoch 44/50\n",
            "122/122 - 0s - loss: 99.9131\n",
            "Epoch 45/50\n",
            "122/122 - 0s - loss: 99.0785\n",
            "Epoch 46/50\n",
            "122/122 - 0s - loss: 98.8913\n",
            "Epoch 47/50\n",
            "122/122 - 0s - loss: 98.4298\n",
            "Epoch 48/50\n",
            "122/122 - 0s - loss: 98.0620\n",
            "Epoch 49/50\n",
            "122/122 - 0s - loss: 97.4838\n",
            "Epoch 50/50\n",
            "122/122 - 0s - loss: 96.9529\n"
          ],
          "name": "stdout"
        }
      ]
    },
    {
      "cell_type": "code",
      "metadata": {
        "id": "0jkSPIh4uiu_",
        "colab": {
          "base_uri": "https://localhost:8080/",
          "height": 265
        },
        "outputId": "337dc7fb-28e1-4ac6-fac2-b0f2b3a1b19e"
      },
      "source": [
        "pyplot.plot(history.history['loss'], label='train')\n",
        "pyplot.plot(history.history['val_loss'], label='test')\n",
        "pyplot.legend()\n",
        "pyplot.show()"
      ],
      "execution_count": 78,
      "outputs": [
        {
          "output_type": "display_data",
          "data": {
            "image/png": "[encoded data removed]",
            "text/plain": [
              "<Figure size 432x288 with 1 Axes>"
            ]
          },
          "metadata": {
            "tags": [],
            "needs_background": "light"
          }
        }
      ]
    },
    {
      "cell_type": "code",
      "metadata": {
        "id": "8_-3jAzc6AsX"
      },
      "source": [
        ""
      ],
      "execution_count": null,
      "outputs": []
    }
  ]
}