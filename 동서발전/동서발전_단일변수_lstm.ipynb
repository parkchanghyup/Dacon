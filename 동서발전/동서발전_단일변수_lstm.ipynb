{
 "cells": [
  {
   "cell_type": "markdown",
   "metadata": {},
   "source": [
    "pytorch기반 간단한 lstm 모델입니다. 중간중간 불필요한 코드는 주석 처리 하였습니다. 감사합니다."
   ]
  },
  {
   "cell_type": "markdown",
   "metadata": {},
   "source": [
    "## 라이브러리 로딩"
   ]
  },
  {
   "cell_type": "code",
   "execution_count": 1,
   "metadata": {
    "id": "uXia0OHkkSDo"
   },
   "outputs": [],
   "source": [
    "\n",
    "import seaborn as sns\n",
    "import numpy as np\n",
    "import pandas as pd\n",
    "import matplotlib.pyplot as plt\n",
    "\n",
    "\n",
    "import torch\n",
    "import torch.nn as nn\n",
    "import torch.optim as optim\n",
    "\n",
    "from sklearn.preprocessing import MinMaxScaler"
   ]
  },
  {
   "cell_type": "markdown",
   "metadata": {
    "id": "GAM5Vt5LkSDq"
   },
   "source": [
    "## 데이터 다운로드"
   ]
  },
  {
   "cell_type": "code",
   "execution_count": 4,
   "metadata": {
    "colab": {
     "base_uri": "https://localhost:8080/"
    },
    "id": "OvdeO_1tkSDq",
    "outputId": "a2f3c631-1bed-4cf0-fdd9-be48b84d7860"
   },
   "outputs": [
    {
     "name": "stdout",
     "output_type": "stream",
     "text": [
      "--2021-04-28 13:01:52--  https://bit.ly/3dD5MU9\n",
      "Resolving bit.ly (bit.ly)... 67.199.248.10, 67.199.248.11\n",
      "Connecting to bit.ly (bit.ly)|67.199.248.10|:443... connected.\n",
      "HTTP request sent, awaiting response... 301 Moved Permanently\n",
      "Location: https://drive.google.com/uc?export=download&id=1kkF00wW8v0npJ8S2nA7--eMTH3gOL03z [following]\n",
      "--2021-04-28 13:01:53--  https://drive.google.com/uc?export=download&id=1kkF00wW8v0npJ8S2nA7--eMTH3gOL03z\n",
      "Resolving drive.google.com (drive.google.com)... 108.177.97.102, 108.177.97.113, 108.177.97.100, ...\n",
      "Connecting to drive.google.com (drive.google.com)|108.177.97.102|:443... connected.\n",
      "HTTP request sent, awaiting response... 302 Moved Temporarily\n",
      "Location: https://doc-14-94-docs.googleusercontent.com/docs/securesc/ha0ro937gcuc7l7deffksulhg5h7mbp1/3pjcnj71732mln28khujm7mleb821f3q/1619614875000/00192245294648390361/*/1kkF00wW8v0npJ8S2nA7--eMTH3gOL03z?e=download [following]\n",
      "Warning: wildcards not supported in HTTP.\n",
      "--2021-04-28 13:01:56--  https://doc-14-94-docs.googleusercontent.com/docs/securesc/ha0ro937gcuc7l7deffksulhg5h7mbp1/3pjcnj71732mln28khujm7mleb821f3q/1619614875000/00192245294648390361/*/1kkF00wW8v0npJ8S2nA7--eMTH3gOL03z?e=download\n",
      "Resolving doc-14-94-docs.googleusercontent.com (doc-14-94-docs.googleusercontent.com)... 74.125.204.132, 2404:6800:4008:c04::84\n",
      "Connecting to doc-14-94-docs.googleusercontent.com (doc-14-94-docs.googleusercontent.com)|74.125.204.132|:443... connected.\n",
      "HTTP request sent, awaiting response... 200 OK\n",
      "Length: unspecified [application/x-zip-compressed]\n",
      "Saving to: ‘3dD5MU9’\n",
      "\n",
      "3dD5MU9                 [ <=>                ]   2.07M  --.-KB/s    in 0.02s   \n",
      "\n",
      "2021-04-28 13:01:57 (86.0 MB/s) - ‘3dD5MU9’ saved [2172031]\n",
      "\n"
     ]
    }
   ],
   "source": [
    "!wget 'https://bit.ly/3dD5MU9'\n",
    "\n",
    "import zipfile\n",
    "with zipfile.ZipFile('3dD5MU9', 'r') as existing_zip:\n",
    "    existing_zip.extractall('data')"
   ]
  },
  {
   "cell_type": "markdown",
   "metadata": {
    "id": "XMA-gTz7kSDr"
   },
   "source": [
    "### 예측해야될 데이터\n",
    "---\n",
    "- dangjin_floating : 당진수상태양광 발전량(KW)\n",
    "- dangjin_warehouse : 당진자재창고태양광 발전량(KW)\n",
    "- dangjin : 당진태양광 발전량(KW)\n",
    "- ulsan : 울산태양광 발전량(KW)"
   ]
  },
  {
   "cell_type": "code",
   "execution_count": 136,
   "metadata": {
    "id": "hs6P_MOpkSDr"
   },
   "outputs": [],
   "source": [
    "#dangjin_fcst_data = pd.read_csv('data/dangjin_fcst_data.csv') #당진지역 발전소 동네 예보\n",
    "#dangjin_obs_data = pd.read_csv('data/dangjin_obs_data.csv') # 당진지역 발전소 인근 기상 관측 자료\n",
    "\n",
    "#ulsan_fcst_data = pd.read_csv('data/ulsan_fcst_data.csv') # 울산지역 발전소 동네 에보\n",
    "#ulsan_obs_data = pd.read_csv('data/ulsan_obs_data.csv') # 울산지역 인근 기상 관측 자료\n",
    "\n",
    "#site_info = pd.read_csv('data/site_info.csv') #발전소 정보\n",
    "\n",
    "energy = pd.read_csv('data/energy.csv') # 발전소별 발전량"
   ]
  },
  {
   "cell_type": "markdown",
   "metadata": {
    "id": "oZnRnp6XkSDs"
   },
   "source": [
    "### 결측치 처리"
   ]
  },
  {
   "cell_type": "code",
   "execution_count": 137,
   "metadata": {
    "id": "kPKdyr1_kSDs"
   },
   "outputs": [],
   "source": [
    "#dangjin_obs_data.fillna(dangjin_obs_data.mean(),inplace = True)\n",
    "#ulsan_obs_data.fillna(ulsan_obs_data.mean(),inplace = True)\n",
    "energy.fillna(energy.mean(),inplace = True)"
   ]
  },
  {
   "cell_type": "markdown",
   "metadata": {},
   "source": [
    "### energy의 time를 index로 지정"
   ]
  },
  {
   "cell_type": "code",
   "execution_count": 138,
   "metadata": {},
   "outputs": [
    {
     "data": {
      "text/html": [
       "<div>\n",
       "<style scoped>\n",
       "    .dataframe tbody tr th:only-of-type {\n",
       "        vertical-align: middle;\n",
       "    }\n",
       "\n",
       "    .dataframe tbody tr th {\n",
       "        vertical-align: top;\n",
       "    }\n",
       "\n",
       "    .dataframe thead th {\n",
       "        text-align: right;\n",
       "    }\n",
       "</style>\n",
       "<table border=\"1\" class=\"dataframe\">\n",
       "  <thead>\n",
       "    <tr style=\"text-align: right;\">\n",
       "      <th></th>\n",
       "      <th>time</th>\n",
       "      <th>dangjin_floating</th>\n",
       "      <th>dangjin_warehouse</th>\n",
       "      <th>dangjin</th>\n",
       "      <th>ulsan</th>\n",
       "    </tr>\n",
       "  </thead>\n",
       "  <tbody>\n",
       "    <tr>\n",
       "      <th>0</th>\n",
       "      <td>2018-03-01 1:00:00</td>\n",
       "      <td>0.0</td>\n",
       "      <td>0.0</td>\n",
       "      <td>0</td>\n",
       "      <td>0</td>\n",
       "    </tr>\n",
       "    <tr>\n",
       "      <th>1</th>\n",
       "      <td>2018-03-01 2:00:00</td>\n",
       "      <td>0.0</td>\n",
       "      <td>0.0</td>\n",
       "      <td>0</td>\n",
       "      <td>0</td>\n",
       "    </tr>\n",
       "    <tr>\n",
       "      <th>2</th>\n",
       "      <td>2018-03-01 3:00:00</td>\n",
       "      <td>0.0</td>\n",
       "      <td>0.0</td>\n",
       "      <td>0</td>\n",
       "      <td>0</td>\n",
       "    </tr>\n",
       "    <tr>\n",
       "      <th>3</th>\n",
       "      <td>2018-03-01 4:00:00</td>\n",
       "      <td>0.0</td>\n",
       "      <td>0.0</td>\n",
       "      <td>0</td>\n",
       "      <td>0</td>\n",
       "    </tr>\n",
       "    <tr>\n",
       "      <th>4</th>\n",
       "      <td>2018-03-01 5:00:00</td>\n",
       "      <td>0.0</td>\n",
       "      <td>0.0</td>\n",
       "      <td>0</td>\n",
       "      <td>0</td>\n",
       "    </tr>\n",
       "  </tbody>\n",
       "</table>\n",
       "</div>"
      ],
      "text/plain": [
       "                 time  dangjin_floating  dangjin_warehouse  dangjin  ulsan\n",
       "0  2018-03-01 1:00:00               0.0                0.0        0      0\n",
       "1  2018-03-01 2:00:00               0.0                0.0        0      0\n",
       "2  2018-03-01 3:00:00               0.0                0.0        0      0\n",
       "3  2018-03-01 4:00:00               0.0                0.0        0      0\n",
       "4  2018-03-01 5:00:00               0.0                0.0        0      0"
      ]
     },
     "execution_count": 138,
     "metadata": {},
     "output_type": "execute_result"
    }
   ],
   "source": [
    "energy.head()"
   ]
  },
  {
   "cell_type": "code",
   "execution_count": 139,
   "metadata": {},
   "outputs": [
    {
     "data": {
      "text/html": [
       "<div>\n",
       "<style scoped>\n",
       "    .dataframe tbody tr th:only-of-type {\n",
       "        vertical-align: middle;\n",
       "    }\n",
       "\n",
       "    .dataframe tbody tr th {\n",
       "        vertical-align: top;\n",
       "    }\n",
       "\n",
       "    .dataframe thead th {\n",
       "        text-align: right;\n",
       "    }\n",
       "</style>\n",
       "<table border=\"1\" class=\"dataframe\">\n",
       "  <thead>\n",
       "    <tr style=\"text-align: right;\">\n",
       "      <th></th>\n",
       "      <th>dangjin_floating</th>\n",
       "      <th>dangjin_warehouse</th>\n",
       "      <th>dangjin</th>\n",
       "      <th>ulsan</th>\n",
       "    </tr>\n",
       "    <tr>\n",
       "      <th>time</th>\n",
       "      <th></th>\n",
       "      <th></th>\n",
       "      <th></th>\n",
       "      <th></th>\n",
       "    </tr>\n",
       "  </thead>\n",
       "  <tbody>\n",
       "    <tr>\n",
       "      <th>2018-03-01 1:00:00</th>\n",
       "      <td>0.0</td>\n",
       "      <td>0.0</td>\n",
       "      <td>0</td>\n",
       "      <td>0</td>\n",
       "    </tr>\n",
       "    <tr>\n",
       "      <th>2018-03-01 2:00:00</th>\n",
       "      <td>0.0</td>\n",
       "      <td>0.0</td>\n",
       "      <td>0</td>\n",
       "      <td>0</td>\n",
       "    </tr>\n",
       "    <tr>\n",
       "      <th>2018-03-01 3:00:00</th>\n",
       "      <td>0.0</td>\n",
       "      <td>0.0</td>\n",
       "      <td>0</td>\n",
       "      <td>0</td>\n",
       "    </tr>\n",
       "    <tr>\n",
       "      <th>2018-03-01 4:00:00</th>\n",
       "      <td>0.0</td>\n",
       "      <td>0.0</td>\n",
       "      <td>0</td>\n",
       "      <td>0</td>\n",
       "    </tr>\n",
       "    <tr>\n",
       "      <th>2018-03-01 5:00:00</th>\n",
       "      <td>0.0</td>\n",
       "      <td>0.0</td>\n",
       "      <td>0</td>\n",
       "      <td>0</td>\n",
       "    </tr>\n",
       "  </tbody>\n",
       "</table>\n",
       "</div>"
      ],
      "text/plain": [
       "                    dangjin_floating  dangjin_warehouse  dangjin  ulsan\n",
       "time                                                                   \n",
       "2018-03-01 1:00:00               0.0                0.0        0      0\n",
       "2018-03-01 2:00:00               0.0                0.0        0      0\n",
       "2018-03-01 3:00:00               0.0                0.0        0      0\n",
       "2018-03-01 4:00:00               0.0                0.0        0      0\n",
       "2018-03-01 5:00:00               0.0                0.0        0      0"
      ]
     },
     "execution_count": 139,
     "metadata": {},
     "output_type": "execute_result"
    }
   ],
   "source": [
    "energy = energy.set_index('time')\n",
    "energy.head()"
   ]
  },
  {
   "cell_type": "markdown",
   "metadata": {},
   "source": [
    "## 모델링"
   ]
  },
  {
   "cell_type": "code",
   "execution_count": null,
   "metadata": {},
   "outputs": [],
   "source": [
    "# 데이터 타입을 float로 변경\n",
    "\n",
    "ulsan = energy['ulsan'].values.astype(float)\n",
    "dangjin_floating = energy['dangjin_floating'].values.astype(float)\n",
    "dangjin_warehouse = energy['dangjin_warehouse'].values.astype(float)\n",
    "dangjin\t = energy['dangjin'].values.astype(float)\n",
    "\n",
    "\n",
    "'''valid_data_size = 700\n",
    "train_data = ulsan[:-valid_data_size]\n",
    "valid_data = ulsan[-valid_data_size:]'''"
   ]
  },
  {
   "cell_type": "markdown",
   "metadata": {},
   "source": [
    "### 하이퍼 파라미터 설정"
   ]
  },
  {
   "cell_type": "code",
   "execution_count": 121,
   "metadata": {},
   "outputs": [],
   "source": [
    "# hyper parameters\n",
    "\n",
    "learning_rate = 0.0001\n",
    "sequence_length = 48\n",
    "optimizer = torch.optim.Adam(dangjin_floating.parameters(), lr=learning_rate)\n",
    "criterion = nn.MSELoss()\n",
    "epochs = 2000"
   ]
  },
  {
   "cell_type": "code",
   "execution_count": 123,
   "metadata": {},
   "outputs": [],
   "source": [
    "# 데이터를 시퀀스 형태로 변경\n",
    "def make_batch(input_data, sl):\n",
    "    train_x = []\n",
    "    train_y = []\n",
    "    L = len(input_data)\n",
    "    for i in range(L-sl):\n",
    "        train_seq = input_data[i:i+sl]\n",
    "        train_label = input_data[i+sl:i+sl+1]\n",
    "        train_x.append(train_seq)\n",
    "        train_y.append(train_label)\n",
    "    return train_x, train_y"
   ]
  },
  {
   "cell_type": "code",
   "execution_count": 125,
   "metadata": {},
   "outputs": [],
   "source": [
    "## 모델 설계\n",
    "\n",
    "class simple_lstm(nn.Module):\n",
    "    \n",
    "    def __init__(self):\n",
    "        super().__init__()\n",
    "        self.input_vector = 1\n",
    "        self.sequence_length = 48\n",
    "        self.output_vector = 100\n",
    "        self.num_layers = 4\n",
    "        \n",
    "        self.lstm = nn.LSTM(input_size=self.input_vector, hidden_size=self.output_vector, num_layers=self.num_layers, batch_first=True)\n",
    "        self.linear = nn.Sequential(\n",
    "            nn.Linear(self.output_vector, 50),\n",
    "            nn.Linear(50, 30),\n",
    "            nn.Linear(30, 10),\n",
    "            nn.Linear(10,1)\n",
    "        )\n",
    "        \n",
    "    def forward(self, x):\n",
    "        output, _ = self.lstm(x) #(hidden, cell) 데이터는 사용하지 않음\n",
    "        return self.linear(output[:,-1,:])\n",
    "    \n",
    "device = torch.device(\"cuda:1\" if torch.cuda.is_available() else \"cpu\")"
   ]
  },
  {
   "cell_type": "markdown",
   "metadata": {},
   "source": [
    "### dangjin_floating"
   ]
  },
  {
   "cell_type": "code",
   "execution_count": 126,
   "metadata": {},
   "outputs": [
    {
     "name": "stdout",
     "output_type": "stream",
     "text": [
      "Epoch 0, Loss 51607.18750\n",
      "Epoch 100, Loss 50474.10938\n",
      "Epoch 200, Loss 45387.08984\n",
      "Epoch 300, Loss 38815.38281\n",
      "Epoch 400, Loss 36820.07812\n",
      "Epoch 500, Loss 36777.92969\n",
      "Epoch 600, Loss 36701.80078\n",
      "Epoch 700, Loss 11610.52637\n",
      "Epoch 800, Loss 3390.51074\n",
      "Epoch 900, Loss 2091.19971\n",
      "Epoch 1000, Loss 1824.76257\n",
      "Epoch 1100, Loss 1724.69397\n",
      "Epoch 1200, Loss 1677.57312\n",
      "Epoch 1300, Loss 1646.18567\n",
      "Epoch 1400, Loss 1621.87109\n",
      "Epoch 1500, Loss 1601.47058\n",
      "Epoch 1600, Loss 1583.33533\n",
      "Epoch 1700, Loss 1573.04211\n",
      "Epoch 1800, Loss 1547.74414\n",
      "Epoch 1900, Loss 1529.49780\n"
     ]
    }
   ],
   "source": [
    "\n",
    "train_x, train_y = make_batch(dangjin_floating.reshape(-1,1), sequence_length)\n",
    "tensor_x = torch.Tensor(train_x)\n",
    "tensor_y = torch.Tensor(train_y)\n",
    "\n",
    "\n",
    "dangjin_floating = simple_lstm()\n",
    "dangjin_floating = dangjin_floating.to(device)\n",
    "\n",
    "\n",
    "for i in range(epochs):\n",
    "    dangjin_floating.train()\n",
    "    tensor_x = tensor_x.to(device)\n",
    "    tensor_y = tensor_y.to(device)\n",
    "    output = dangjin_floating(tensor_x)\n",
    "    loss = criterion(output, tensor_y.view(-1,1))\n",
    "    \n",
    "    optimizer.zero_grad()\n",
    "    loss.backward()\n",
    "    optimizer.step()\n",
    "    \n",
    "    if i%100 == 0:\n",
    "        print('Epoch {}, Loss {:.5f}'.format(i, loss.item()))\n",
    "\n",
    "x_input = np.array(energy.dangjin_floating[-48:]) #  next value based on data of last year\n",
    "x_input = x_input.reshape((1, 48, 1)) \n",
    "dangjin_floating_pred = []\n",
    "\n",
    "for i in range(672):\n",
    "    \n",
    "    x_input = torch.Tensor(x_input)\n",
    "    x_input = x_input.to(device)\n",
    "    predict = dangjin_floating(x_input).cpu().detach().numpy()\n",
    "    \n",
    "    new_input = predict.reshape((1,1,1))\n",
    "    x_input = np.concatenate((x_input[:,-47:].cpu(), new_input), axis = 1)\n",
    "    dangjin_floating_pred.append(predict[0][0])"
   ]
  },
  {
   "cell_type": "markdown",
   "metadata": {},
   "source": [
    "### dangjin_warehouse"
   ]
  },
  {
   "cell_type": "code",
   "execution_count": 127,
   "metadata": {},
   "outputs": [
    {
     "name": "stdout",
     "output_type": "stream",
     "text": [
      "Epoch 0, Loss 29917.44336\n",
      "Epoch 100, Loss 29111.88672\n",
      "Epoch 200, Loss 25745.57617\n",
      "Epoch 300, Loss 21959.69141\n",
      "Epoch 400, Loss 21364.75977\n",
      "Epoch 500, Loss 21360.80078\n",
      "Epoch 600, Loss 10386.91602\n",
      "Epoch 700, Loss 2431.11304\n",
      "Epoch 800, Loss 1243.15015\n",
      "Epoch 900, Loss 1057.00940\n",
      "Epoch 1000, Loss 998.33832\n",
      "Epoch 1100, Loss 973.09003\n",
      "Epoch 1200, Loss 957.60693\n",
      "Epoch 1300, Loss 947.63898\n",
      "Epoch 1400, Loss 944.88098\n",
      "Epoch 1500, Loss 932.76764\n",
      "Epoch 1600, Loss 926.85754\n",
      "Epoch 1700, Loss 921.19336\n",
      "Epoch 1800, Loss 915.44659\n",
      "Epoch 1900, Loss 910.47699\n"
     ]
    }
   ],
   "source": [
    "train_x, train_y = make_batch(dangjin_warehouse.reshape(-1,1), sequence_length)\n",
    "tensor_x = torch.Tensor(train_x)\n",
    "tensor_y = torch.Tensor(train_y)\n",
    "\n",
    "\n",
    "dangjin_warehouse = simple_lstm()\n",
    "dangjin_warehouse = dangjin_warehouse.to(device)\n",
    "\n",
    "optimizer = torch.optim.Adam(dangjin_warehouse.parameters(), lr=learning_rate)\n",
    "criterion = nn.MSELoss()\n",
    "epochs = 2000\n",
    "for i in range(epochs):\n",
    "    dangjin_warehouse.train()\n",
    "    tensor_x = tensor_x.to(device)\n",
    "    tensor_y = tensor_y.to(device)\n",
    "    output = dangjin_warehouse(tensor_x)\n",
    "    loss = criterion(output, tensor_y.view(-1,1))\n",
    "    \n",
    "    optimizer.zero_grad()\n",
    "    loss.backward()\n",
    "    optimizer.step()\n",
    "    \n",
    "    if i%100 == 0:\n",
    "        print('Epoch {}, Loss {:.5f}'.format(i, loss.item()))\n",
    "\n",
    "x_input = np.array(energy.dangjin_warehouse[-48:]) #  next value based on data of last year\n",
    "x_input = x_input.reshape((1, 48, 1)) \n",
    "dangjin_warehouse_pred= []\n",
    "\n",
    "for i in range(672):\n",
    "    \n",
    "    x_input = torch.Tensor(x_input)\n",
    "    x_input = x_input.to(device)\n",
    "    predict = dangjin_warehouse(x_input).cpu().detach().numpy()\n",
    "    \n",
    "    new_input = predict.reshape((1,1,1))\n",
    "    x_input = np.concatenate((x_input[:,-47:].cpu(), new_input), axis = 1)\n",
    "    dangjin_warehouse_pred.append(predict[0][0])"
   ]
  },
  {
   "cell_type": "markdown",
   "metadata": {
    "colab": {
     "base_uri": "https://localhost:8080/",
     "height": 235
    },
    "id": "AzcCYKoXkSDt",
    "outputId": "a5693b6f-5761-4239-ff31-1db97edfba23"
   },
   "source": [
    "### dangjin"
   ]
  },
  {
   "cell_type": "code",
   "execution_count": 128,
   "metadata": {},
   "outputs": [
    {
     "name": "stdout",
     "output_type": "stream",
     "text": [
      "Epoch 0, Loss 68106.37500\n",
      "Epoch 100, Loss 67076.81250\n",
      "Epoch 200, Loss 62106.85938\n",
      "Epoch 300, Loss 53530.99609\n",
      "Epoch 400, Loss 48857.75391\n",
      "Epoch 500, Loss 48557.49609\n",
      "Epoch 600, Loss 48539.19922\n",
      "Epoch 700, Loss 18589.34375\n",
      "Epoch 800, Loss 5169.63281\n",
      "Epoch 900, Loss 2888.71973\n",
      "Epoch 1000, Loss 2448.78076\n",
      "Epoch 1100, Loss 2310.64258\n",
      "Epoch 1200, Loss 2253.53320\n",
      "Epoch 1300, Loss 2195.58960\n",
      "Epoch 1400, Loss 2162.60083\n",
      "Epoch 1500, Loss 2134.94263\n",
      "Epoch 1600, Loss 2116.73560\n",
      "Epoch 1700, Loss 2087.17432\n",
      "Epoch 1800, Loss 2073.54834\n",
      "Epoch 1900, Loss 2047.24402\n"
     ]
    }
   ],
   "source": [
    "train_x, train_y = make_batch(dangjin.reshape(-1,1), sequence_length)\n",
    "tensor_x = torch.Tensor(train_x)\n",
    "tensor_y = torch.Tensor(train_y)\n",
    "\n",
    "\n",
    "dangjin = simple_lstm()\n",
    "dangjin = dangjin.to(device)\n",
    "\n",
    "optimizer = torch.optim.Adam(dangjin.parameters(), lr=learning_rate)\n",
    "criterion = nn.MSELoss()\n",
    "epochs = 2000\n",
    "for i in range(epochs):\n",
    "    dangjin.train()\n",
    "    tensor_x = tensor_x.to(device)\n",
    "    tensor_y = tensor_y.to(device)\n",
    "    output = dangjin(tensor_x)\n",
    "    loss = criterion(output, tensor_y.view(-1,1))\n",
    "    \n",
    "    optimizer.zero_grad()\n",
    "    loss.backward()\n",
    "    optimizer.step()\n",
    "    \n",
    "    if i%100 == 0:\n",
    "        print('Epoch {}, Loss {:.5f}'.format(i, loss.item()))\n",
    "\n",
    "x_input = np.array(energy.dangjin[-48:]) #  next value based on data of last year\n",
    "x_input = x_input.reshape((1, 48, 1)) \n",
    "dangjin_pred = []\n",
    "\n",
    "for i in range(672):\n",
    "    \n",
    "    x_input = torch.Tensor(x_input)\n",
    "    x_input = x_input.to(device)\n",
    "    predict = dangjin(x_input).cpu().detach().numpy()\n",
    "    new_input = predict.reshape((1,1,1))\n",
    "    x_input = np.concatenate((x_input[:,-47:].cpu(), new_input), axis = 1)\n",
    "    dangjin_pred.append(predict[0][0])"
   ]
  },
  {
   "cell_type": "markdown",
   "metadata": {},
   "source": [
    "### ulsan"
   ]
  },
  {
   "cell_type": "code",
   "execution_count": 129,
   "metadata": {},
   "outputs": [
    {
     "name": "stdout",
     "output_type": "stream",
     "text": [
      "Epoch 0, Loss 14268.14746\n",
      "Epoch 100, Loss 13706.44629\n",
      "Epoch 200, Loss 11392.90527\n",
      "Epoch 300, Loss 10203.51172\n",
      "Epoch 400, Loss 10188.09375\n",
      "Epoch 500, Loss 6441.70605\n",
      "Epoch 600, Loss 1093.24341\n",
      "Epoch 700, Loss 554.00031\n",
      "Epoch 800, Loss 481.30972\n",
      "Epoch 900, Loss 458.63757\n",
      "Epoch 1000, Loss 448.52103\n",
      "Epoch 1100, Loss 441.45630\n",
      "Epoch 1200, Loss 436.88336\n",
      "Epoch 1300, Loss 436.49503\n",
      "Epoch 1400, Loss 430.15289\n",
      "Epoch 1500, Loss 426.38940\n",
      "Epoch 1600, Loss 423.52820\n",
      "Epoch 1700, Loss 420.36932\n",
      "Epoch 1800, Loss 417.65854\n",
      "Epoch 1900, Loss 415.62704\n"
     ]
    }
   ],
   "source": [
    "train_x, train_y = make_batch(ulsan.reshape(-1,1), sequence_length)\n",
    "tensor_x = torch.Tensor(train_x)\n",
    "tensor_y = torch.Tensor(train_y)\n",
    "\n",
    "\n",
    "ulsan = simple_lstm()\n",
    "ulsan = ulsan.to(device)\n",
    "\n",
    "optimizer = torch.optim.Adam(ulsan.parameters(), lr=learning_rate)\n",
    "criterion = nn.MSELoss()\n",
    "epochs = 2000\n",
    "\n",
    "# 학습\n",
    "for i in range(epochs):\n",
    "    ulsan.train()\n",
    "    tensor_x = tensor_x.to(device)\n",
    "    tensor_y = tensor_y.to(device)\n",
    "    output = ulsan(tensor_x)\n",
    "    loss = criterion(output, tensor_y.view(-1,1))\n",
    "    \n",
    "    optimizer.zero_grad()\n",
    "    loss.backward()\n",
    "    optimizer.step()\n",
    "    \n",
    "    if i%100 == 0:\n",
    "        print('Epoch {}, Loss {:.5f}'.format(i, loss.item()))\n",
    "\n",
    "        \n",
    "        \n",
    "# 추론        \n",
    "x_input = np.array(energy.ulsan[-48:]) #  next value based on data of last year\n",
    "x_input = x_input.reshape((1, 48, 1)) \n",
    "ulsan_pred = []\n",
    "\n",
    "for i in range(672):\n",
    "    \n",
    "    x_input = torch.Tensor(x_input)\n",
    "    x_input = x_input.to(device)\n",
    "    predict = ulsan(x_input).cpu().detach().numpy()\n",
    "    new_input = predict.reshape((1,1,1))\n",
    "    x_input = np.concatenate((x_input[:,-47:].cpu(), new_input), axis = 1)\n",
    "    ulsan_pred.append(predict[0][0])"
   ]
  },
  {
   "cell_type": "code",
   "execution_count": 130,
   "metadata": {
    "id": "V8kh1_-hqOXj"
   },
   "outputs": [],
   "source": [
    "submission = pd.read_csv('data/sample_submission.csv')"
   ]
  },
  {
   "cell_type": "code",
   "execution_count": 131,
   "metadata": {
    "id": "CslHT61Vu4h3"
   },
   "outputs": [],
   "source": [
    "submission.iloc[:24*28, 1] = dangjin_floating_pred\n",
    "submission.iloc[:24*28, 2] = dangjin_warehouse_pred\n",
    "submission.iloc[:24*28, 3] = dangjin_pred\n",
    "submission.iloc[:24*28, 4] = ulsan_pred"
   ]
  },
  {
   "cell_type": "code",
   "execution_count": 132,
   "metadata": {
    "id": "sJmfz90svFfP"
   },
   "outputs": [],
   "source": [
    "submission.to_csv('submission.csv',index=False)"
   ]
  },
  {
   "cell_type": "code",
   "execution_count": 89,
   "metadata": {},
   "outputs": [
    {
     "data": {
      "text/html": [
       "<div>\n",
       "<style scoped>\n",
       "    .dataframe tbody tr th:only-of-type {\n",
       "        vertical-align: middle;\n",
       "    }\n",
       "\n",
       "    .dataframe tbody tr th {\n",
       "        vertical-align: top;\n",
       "    }\n",
       "\n",
       "    .dataframe thead th {\n",
       "        text-align: right;\n",
       "    }\n",
       "</style>\n",
       "<table border=\"1\" class=\"dataframe\">\n",
       "  <thead>\n",
       "    <tr style=\"text-align: right;\">\n",
       "      <th></th>\n",
       "      <th>time</th>\n",
       "      <th>dangjin_floating</th>\n",
       "      <th>dangjin_warehouse</th>\n",
       "      <th>dangjin</th>\n",
       "      <th>ulsan</th>\n",
       "    </tr>\n",
       "  </thead>\n",
       "  <tbody>\n",
       "    <tr>\n",
       "      <th>0</th>\n",
       "      <td>2021-02-01 01:00:00</td>\n",
       "      <td>0.130256</td>\n",
       "      <td>-0.747369</td>\n",
       "      <td>0.330018</td>\n",
       "      <td>0.008067</td>\n",
       "    </tr>\n",
       "    <tr>\n",
       "      <th>1</th>\n",
       "      <td>2021-02-01 02:00:00</td>\n",
       "      <td>0.273770</td>\n",
       "      <td>-1.979171</td>\n",
       "      <td>-0.008422</td>\n",
       "      <td>-0.005658</td>\n",
       "    </tr>\n",
       "    <tr>\n",
       "      <th>2</th>\n",
       "      <td>2021-02-01 03:00:00</td>\n",
       "      <td>0.492830</td>\n",
       "      <td>-4.252793</td>\n",
       "      <td>-0.288336</td>\n",
       "      <td>-0.097679</td>\n",
       "    </tr>\n",
       "    <tr>\n",
       "      <th>3</th>\n",
       "      <td>2021-02-01 04:00:00</td>\n",
       "      <td>1.000553</td>\n",
       "      <td>-6.715565</td>\n",
       "      <td>0.094921</td>\n",
       "      <td>-0.486095</td>\n",
       "    </tr>\n",
       "    <tr>\n",
       "      <th>4</th>\n",
       "      <td>2021-02-01 05:00:00</td>\n",
       "      <td>2.784722</td>\n",
       "      <td>-8.265849</td>\n",
       "      <td>3.015755</td>\n",
       "      <td>-1.058972</td>\n",
       "    </tr>\n",
       "    <tr>\n",
       "      <th>...</th>\n",
       "      <td>...</td>\n",
       "      <td>...</td>\n",
       "      <td>...</td>\n",
       "      <td>...</td>\n",
       "      <td>...</td>\n",
       "    </tr>\n",
       "    <tr>\n",
       "      <th>1387</th>\n",
       "      <td>2021-07-08 20:00:00</td>\n",
       "      <td>0.000000</td>\n",
       "      <td>0.000000</td>\n",
       "      <td>0.000000</td>\n",
       "      <td>0.000000</td>\n",
       "    </tr>\n",
       "    <tr>\n",
       "      <th>1388</th>\n",
       "      <td>2021-07-08 21:00:00</td>\n",
       "      <td>0.000000</td>\n",
       "      <td>0.000000</td>\n",
       "      <td>0.000000</td>\n",
       "      <td>0.000000</td>\n",
       "    </tr>\n",
       "    <tr>\n",
       "      <th>1389</th>\n",
       "      <td>2021-07-08 22:00:00</td>\n",
       "      <td>0.000000</td>\n",
       "      <td>0.000000</td>\n",
       "      <td>0.000000</td>\n",
       "      <td>0.000000</td>\n",
       "    </tr>\n",
       "    <tr>\n",
       "      <th>1390</th>\n",
       "      <td>2021-07-08 23:00:00</td>\n",
       "      <td>0.000000</td>\n",
       "      <td>0.000000</td>\n",
       "      <td>0.000000</td>\n",
       "      <td>0.000000</td>\n",
       "    </tr>\n",
       "    <tr>\n",
       "      <th>1391</th>\n",
       "      <td>2021-07-08 24:00:00</td>\n",
       "      <td>0.000000</td>\n",
       "      <td>0.000000</td>\n",
       "      <td>0.000000</td>\n",
       "      <td>0.000000</td>\n",
       "    </tr>\n",
       "  </tbody>\n",
       "</table>\n",
       "<p>1392 rows × 5 columns</p>\n",
       "</div>"
      ],
      "text/plain": [
       "                     time  dangjin_floating  dangjin_warehouse   dangjin  \\\n",
       "0     2021-02-01 01:00:00          0.130256          -0.747369  0.330018   \n",
       "1     2021-02-01 02:00:00          0.273770          -1.979171 -0.008422   \n",
       "2     2021-02-01 03:00:00          0.492830          -4.252793 -0.288336   \n",
       "3     2021-02-01 04:00:00          1.000553          -6.715565  0.094921   \n",
       "4     2021-02-01 05:00:00          2.784722          -8.265849  3.015755   \n",
       "...                   ...               ...                ...       ...   \n",
       "1387  2021-07-08 20:00:00          0.000000           0.000000  0.000000   \n",
       "1388  2021-07-08 21:00:00          0.000000           0.000000  0.000000   \n",
       "1389  2021-07-08 22:00:00          0.000000           0.000000  0.000000   \n",
       "1390  2021-07-08 23:00:00          0.000000           0.000000  0.000000   \n",
       "1391  2021-07-08 24:00:00          0.000000           0.000000  0.000000   \n",
       "\n",
       "         ulsan  \n",
       "0     0.008067  \n",
       "1    -0.005658  \n",
       "2    -0.097679  \n",
       "3    -0.486095  \n",
       "4    -1.058972  \n",
       "...        ...  \n",
       "1387  0.000000  \n",
       "1388  0.000000  \n",
       "1389  0.000000  \n",
       "1390  0.000000  \n",
       "1391  0.000000  \n",
       "\n",
       "[1392 rows x 5 columns]"
      ]
     },
     "execution_count": 89,
     "metadata": {},
     "output_type": "execute_result"
    }
   ],
   "source": [
    "submission"
   ]
  },
  {
   "cell_type": "code",
   "execution_count": null,
   "metadata": {},
   "outputs": [],
   "source": []
  }
 ],
 "metadata": {
  "accelerator": "GPU",
  "colab": {
   "collapsed_sections": [],
   "name": "dibgsei_simple_lstm.ipynb",
   "provenance": []
  },
  "kernelspec": {
   "display_name": "Python 3",
   "language": "python",
   "name": "python3"
  },
  "language_info": {
   "codemirror_mode": {
    "name": "ipython",
    "version": 3
   },
   "file_extension": ".py",
   "mimetype": "text/x-python",
   "name": "python",
   "nbconvert_exporter": "python",
   "pygments_lexer": "ipython3",
   "version": "3.8.3"
  }
 },
 "nbformat": 4,
 "nbformat_minor": 4
}
