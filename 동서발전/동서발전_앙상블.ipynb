{
 "cells": [
  {
   "cell_type": "markdown",
   "metadata": {
    "id": "peEFCG5MxEtq"
   },
   "source": [
    "## 모듈 임포트"
   ]
  },
  {
   "cell_type": "code",
   "execution_count": 1,
   "metadata": {
    "executionInfo": {
     "elapsed": 986,
     "status": "ok",
     "timestamp": 1645526397901,
     "user": {
      "displayName": "박창협",
      "photoUrl": "https://lh3.googleusercontent.com/a-/AOh14GhbK_TrERC077cbvIpvPagMcuMei5NF45-VnGIXRg=s64",
      "userId": "12869697117966953026"
     },
     "user_tz": -540
    },
    "id": "7dgHzDk2xEtr"
   },
   "outputs": [],
   "source": [
    "import pandas as pd\n",
    "from datetime import datetime, timedelta\n",
    "import pandas as pd\n",
    "import numpy as np\n",
    "import matplotlib.pyplot as plt"
   ]
  },
  {
   "cell_type": "markdown",
   "metadata": {
    "id": "5XvNCa0cxEts"
   },
   "source": [
    "## 데이터 로드"
   ]
  },
  {
   "cell_type": "code",
   "execution_count": 2,
   "metadata": {
    "executionInfo": {
     "elapsed": 611,
     "status": "ok",
     "timestamp": 1645526410552,
     "user": {
      "displayName": "박창협",
      "photoUrl": "https://lh3.googleusercontent.com/a-/AOh14GhbK_TrERC077cbvIpvPagMcuMei5NF45-VnGIXRg=s64",
      "userId": "12869697117966953026"
     },
     "user_tz": -540
    },
    "id": "Cc5-Zx_kxEts"
   },
   "outputs": [],
   "source": [
    "energy = pd.read_csv('energy.csv')\n",
    "dangjin_fcst = pd.read_csv('dangjin_fcst_data.csv')\n",
    "ulsan_fcst = pd.read_csv('ulsan_fcst_data.csv')"
   ]
  },
  {
   "cell_type": "markdown",
   "metadata": {
    "id": "jaxITLK3xEtt"
   },
   "source": [
    "## 데이터 병합 \n",
    "- 가장 나중의 예측 데이터가 가장 좋다고 가정."
   ]
  },
  {
   "cell_type": "code",
   "execution_count": 3,
   "metadata": {
    "executionInfo": {
     "elapsed": 10,
     "status": "ok",
     "timestamp": 1645526412344,
     "user": {
      "displayName": "박창협",
      "photoUrl": "https://lh3.googleusercontent.com/a-/AOh14GhbK_TrERC077cbvIpvPagMcuMei5NF45-VnGIXRg=s64",
      "userId": "12869697117966953026"
     },
     "user_tz": -540
    },
    "id": "yAqZEnduxEtt"
   },
   "outputs": [],
   "source": [
    "def to_date(x):\n",
    "    return timedelta(hours=x)"
   ]
  },
  {
   "cell_type": "code",
   "execution_count": 4,
   "metadata": {
    "executionInfo": {
     "elapsed": 9,
     "status": "ok",
     "timestamp": 1645526413776,
     "user": {
      "displayName": "박창협",
      "photoUrl": "https://lh3.googleusercontent.com/a-/AOh14GhbK_TrERC077cbvIpvPagMcuMei5NF45-VnGIXRg=s64",
      "userId": "12869697117966953026"
     },
     "user_tz": -540
    },
    "id": "ioZjk_yFxEtt"
   },
   "outputs": [],
   "source": [
    "def generate_df(df_):\n",
    "    df = df_.copy()\n",
    "\n",
    "    df['Forecast_time'] = pd.to_datetime(df['Forecast time'])\n",
    "\n",
    "    # 20 시\n",
    "    a = df[df[\"forecast\"] == 4.0]\n",
    "    a = a[a[\"Forecast time\"].apply(lambda x: \"20:00:00\" in x)]\n",
    "    a.loc[:, 'Forecast_time'] = a.loc[:, 'Forecast_time'] + \\\n",
    "        a.loc[:, 'forecast'].map(to_date)\n",
    "\n",
    "    # 23 시\n",
    "    b = df[df[\"forecast\"] <= 22]\n",
    "    b = b[b[\"Forecast time\"].apply(lambda x: \"23:00:00\" in x)]\n",
    "    b.loc[:, 'Forecast_time'] = b.loc[:, 'Forecast_time'] + \\\n",
    "        b.loc[:, 'forecast'].map(to_date)\n",
    "\n",
    "    # 병합\n",
    "    c = pd.concat([a, b])\n",
    "    print(f\"20시 사용 데이터 길이 : {len(a)}\")\n",
    "    print(f\"23시 사용 데이터 길이 : {len(b)}\")\n",
    "    print(f\"합친 데이터 길이 : {len(c)}\")\n",
    "    print()\n",
    "\n",
    "    # 정렬\n",
    "    c.sort_values(by=['Forecast_time'], inplace=True)\n",
    "    c = c[['Forecast_time', 'Temperature', 'Humidity',\n",
    "           'WindSpeed', 'WindDirection', 'Cloud']]\n",
    "\n",
    "    return c"
   ]
  },
  {
   "cell_type": "code",
   "execution_count": 5,
   "metadata": {
    "colab": {
     "base_uri": "https://localhost:8080/"
    },
    "executionInfo": {
     "elapsed": 371,
     "status": "ok",
     "timestamp": 1645526415104,
     "user": {
      "displayName": "박창협",
      "photoUrl": "https://lh3.googleusercontent.com/a-/AOh14GhbK_TrERC077cbvIpvPagMcuMei5NF45-VnGIXRg=s64",
      "userId": "12869697117966953026"
     },
     "user_tz": -540
    },
    "id": "Fy4imRuixEtu",
    "outputId": "83192749-0a54-41ca-ef48-5b5eeef37042"
   },
   "outputs": [
    {
     "name": "stdout",
     "output_type": "stream",
     "text": [
      "20시 사용 데이터 길이 : 1096\n",
      "23시 사용 데이터 길이 : 7672\n",
      "합친 데이터 길이 : 8768\n",
      "\n",
      "20시 사용 데이터 길이 : 1096\n",
      "23시 사용 데이터 길이 : 7672\n",
      "합친 데이터 길이 : 8768\n",
      "\n"
     ]
    }
   ],
   "source": [
    "dangjin_filled = generate_df(dangjin_fcst)\n",
    "ulsan_filled = generate_df(ulsan_fcst)"
   ]
  },
  {
   "cell_type": "markdown",
   "metadata": {
    "id": "DXgEGLQhxEtu"
   },
   "source": [
    "## 보간"
   ]
  },
  {
   "cell_type": "code",
   "execution_count": 6,
   "metadata": {
    "executionInfo": {
     "elapsed": 8,
     "status": "ok",
     "timestamp": 1645526416127,
     "user": {
      "displayName": "박창협",
      "photoUrl": "https://lh3.googleusercontent.com/a-/AOh14GhbK_TrERC077cbvIpvPagMcuMei5NF45-VnGIXRg=s64",
      "userId": "12869697117966953026"
     },
     "user_tz": -540
    },
    "id": "o2jTqIiJxEtu"
   },
   "outputs": [],
   "source": [
    "def interpolate_df(df, method='linear'):\n",
    "    new_df = pd.DataFrame()\n",
    "    new_df['Forecast_time'] = pd.date_range(\n",
    "        start=df['Forecast_time'].iloc[0], end=df['Forecast_time'].iloc[-1], freq='H')\n",
    "    new_df = pd.merge(new_df, df, on='Forecast_time', how='outer')\n",
    "    return new_df.interpolate(method=method)"
   ]
  },
  {
   "cell_type": "code",
   "execution_count": 8,
   "metadata": {
    "executionInfo": {
     "elapsed": 317,
     "status": "ok",
     "timestamp": 1645526431488,
     "user": {
      "displayName": "박창협",
      "photoUrl": "https://lh3.googleusercontent.com/a-/AOh14GhbK_TrERC077cbvIpvPagMcuMei5NF45-VnGIXRg=s64",
      "userId": "12869697117966953026"
     },
     "user_tz": -540
    },
    "id": "_4OTPM8DxEtv"
   },
   "outputs": [],
   "source": [
    "dangjin_interpolated = interpolate_df(dangjin_filled, method='ffill')\n",
    "ulsan_interpolated = interpolate_df(ulsan_filled, method='ffill')"
   ]
  },
  {
   "cell_type": "markdown",
   "metadata": {
    "id": "0Bk82ximn-Sc"
   },
   "source": [
    "## 피처엔지니어링"
   ]
  },
  {
   "cell_type": "markdown",
   "metadata": {
    "id": "v7-tPohPxEtv"
   },
   "source": [
    "## 학습 데이터 전처리"
   ]
  },
  {
   "cell_type": "code",
   "execution_count": null,
   "metadata": {
    "id": "xM6Rd7mCxEtw"
   },
   "outputs": [],
   "source": [
    "def train_datast(energy_df, fcst_df, target):\n",
    "    # 일기 예보 있는 날짜만 선택\n",
    "    energy = energy_df.loc[24:]\n",
    "    energy.index = range(energy.shape[0])\n",
    "\n",
    "    # 발전량 데이터가 있는 날짜만 선택\n",
    "    fcst = fcst_df.loc[:25608-1]\n",
    "    fcst.index = range(fcst.shape[0])\n",
    "\n",
    "    # 발전량과 일기예보 연결\n",
    "    concat_df = pd.concat([energy, fcst], axis=1)\n",
    "\n",
    "    # 예보 시간 및 날짜 정보 feature로 추가\n",
    "    concat_df['date'] = concat_df['Forecast_time'].str.split(' ').str[0]\n",
    "    concat_df['hour'] = concat_df['Forecast_time'].str.split(\n",
    "        ' ').str[1].str.split(':').str[0].astype(int)\n",
    "\n",
    "    concat_df['year'] = concat_df['date'].str.split('-').str[0].astype(int)\n",
    "    concat_df['month'] = concat_df['date'].str.split('-').str[1].astype(int)\n",
    "    concat_df['day'] = concat_df['date'].str.split('-').str[2].astype(int)\n",
    "\n",
    "    # 예보 시간, 날짜, 기상 예보 및 발전량 선택\n",
    "    feature_df = concat_df[['year', 'month', 'day', 'hour', 'Temperature',\n",
    "                            'Humidity', 'WindSpeed', 'WindDirection', 'Cloud', target]]\n",
    "\n",
    "    # 마지막 30일을 검증데이터셋으로 나머지를 학습 데이터셋으로 선택\n",
    "    train_df = feature_df.iloc[:-24*90]\n",
    "    val_df = feature_df.iloc[-24*90:]\n",
    "\n",
    "    # 발전량이 0인 데이터를 제외\n",
    "    #train_df = train_df[train_df[target]!=0]\n",
    "\n",
    "    train_x = train_df.loc[:, 'year':'Cloud'].to_numpy()\n",
    "    train_y = train_df[target].to_numpy()\n",
    "    val_x = val_df.loc[:, 'year':'Cloud'].to_numpy()\n",
    "    val_y = val_df[target].to_numpy()\n",
    "\n",
    "    return train_x, train_y, val_x, val_y"
   ]
  },
  {
   "cell_type": "markdown",
   "metadata": {
    "id": "xzGRxRfPxEtw"
   },
   "source": [
    "## LGBM custom metric"
   ]
  },
  {
   "cell_type": "code",
   "execution_count": null,
   "metadata": {
    "id": "jNtvaPblxEtw"
   },
   "outputs": [],
   "source": [
    "def nmae_10(y_pred, dataset):\n",
    "    y_true = dataset.get_label()\n",
    "\n",
    "    absolute_error = abs(y_true - y_pred)\n",
    "    absolute_error /= capacity\n",
    "\n",
    "    target_idx = np.where(y_true >= capacity*0.1)\n",
    "\n",
    "    nmae = 100 * absolute_error[target_idx].mean()\n",
    "\n",
    "    return 'score', nmae, False"
   ]
  },
  {
   "cell_type": "markdown",
   "metadata": {
    "id": "sXlKQzsRxEtw"
   },
   "source": [
    "## Validation Metric"
   ]
  },
  {
   "cell_type": "code",
   "execution_count": null,
   "metadata": {
    "id": "nsgTXjUYxEtw"
   },
   "outputs": [],
   "source": [
    "def sola_nmae(answer, pred):\n",
    "    absolute_error = np.abs(answer - pred)\n",
    "\n",
    "    absolute_error /= capacity\n",
    "\n",
    "    target_idx = np.where(answer >= capacity*0.1)\n",
    "\n",
    "    nmae = 100 * absolute_error[target_idx].mean()\n",
    "\n",
    "    return nmae"
   ]
  },
  {
   "cell_type": "markdown",
   "metadata": {
    "id": "kbqi4HHwfgXY"
   },
   "source": [
    "## bayesian optimization \n",
    "---\n",
    "- bayesian optimization 를 이용하여 하이퍼 파라미터 튜닝\n",
    "- lgbm만 적용."
   ]
  },
  {
   "cell_type": "code",
   "execution_count": null,
   "metadata": {
    "id": "WPzroRg_flq3"
   },
   "outputs": [],
   "source": [
    "from bayes_opt import BayesianOptimization\n",
    "from sklearn.metrics import roc_auc_score\n",
    "from lightgbm import LGBMRegressor\n",
    "from sklearn.metrics import f1_score\n",
    "from sklearn.metrics import log_loss"
   ]
  },
  {
   "cell_type": "code",
   "execution_count": null,
   "metadata": {
    "id": "DTC82hrxBiAa"
   },
   "outputs": [],
   "source": [
    "!pip install Catboost\n",
    "from catboost import CatBoostRegressor"
   ]
  },
  {
   "cell_type": "markdown",
   "metadata": {
    "id": "DC577FiJxEtx"
   },
   "source": [
    "## LightGBM Hyperparameter"
   ]
  },
  {
   "cell_type": "code",
   "execution_count": null,
   "metadata": {
    "id": "BY2ZTCd0xEtx"
   },
   "outputs": [],
   "source": [
    "params = {\n",
    "    'learning_rate': 0.01,\n",
    "    'objective': 'regression',\n",
    "    'metric': 'MultiRMSE',\n",
    "    'seed': 42\n",
    "}"
   ]
  },
  {
   "cell_type": "code",
   "execution_count": null,
   "metadata": {
    "id": "HbrhwrghxEtx"
   },
   "outputs": [],
   "source": [
    "dangjin_interpolated['Forecast_time'] = dangjin_interpolated['Forecast_time'].astype(\n",
    "    'str')\n",
    "ulsan_interpolated['Forecast_time'] = ulsan_interpolated['Forecast_time'].astype(\n",
    "    'str')"
   ]
  },
  {
   "cell_type": "markdown",
   "metadata": {
    "id": "imlrsCkKxEty"
   },
   "source": [
    "## 당진 수상태양광 예측 모델 학습"
   ]
  },
  {
   "cell_type": "code",
   "execution_count": null,
   "metadata": {
    "id": "J3ssEf4c1yuv"
   },
   "outputs": [],
   "source": [
    "energy = energy.fillna(0)"
   ]
  },
  {
   "cell_type": "code",
   "execution_count": null,
   "metadata": {
    "id": "eIg1h8Os6SpV"
   },
   "outputs": [],
   "source": [
    "bayesian_params = {\n",
    "    'max_depth': (5, 20),\n",
    "    'num_leaves': (24, 64),\n",
    "    'min_child_samples': (10, 200),\n",
    "    'min_child_weight': (1, 50),\n",
    "    'subsample': (0.5, 1.0),\n",
    "    'colsample_bytree': (0.5, 1.0),\n",
    "    'max_bin': (10, 500),\n",
    "    'reg_lambda': (0.001, 10),\n",
    "    'reg_alpha': (0.01, 50)\n",
    "}\n",
    "\n",
    "\n",
    "def lgb_eval(max_depth, num_leaves, min_child_samples, min_child_weight, subsample,\n",
    "             colsample_bytree, max_bin, reg_lambda, reg_alpha):\n",
    "    params = {\n",
    "        \"n_estimators\": 1000, \"learning_rate\": 0.01,\n",
    "        # 호출 시 실수형 값이 들어오므로 정수형 하이퍼 파라미터는 정수형으로 변경\n",
    "        'max_depth': int(round(max_depth)),\n",
    "        'num_leaves': int(round(num_leaves)),\n",
    "        'min_child_samples': int(round(min_child_samples)),\n",
    "        'min_child_weight': int(round(min_child_weight)),\n",
    "        'subsample': max(min(subsample, 1), 0),\n",
    "        'colsample_bytree': max(min(colsample_bytree, 1), 0),\n",
    "        'max_bin':  max(int(round(max_bin)), 10),\n",
    "        'reg_lambda': max(reg_lambda, 0),\n",
    "        'reg_alpha': max(reg_alpha, 0),\n",
    "        \"metric\": 'rmse'\n",
    "    }\n",
    "    cv_result = lgb.cv(params, train_data, nfold=5, seed=0,\n",
    "                       verbose_eval=200, stratified=False)\n",
    "    return (-1.0 * np.array(cv_result['rmse-mean'])).max()\n",
    "\n",
    "\n",
    "train_x, train_y, val_x, val_y = train_datast(\n",
    "    energy, dangjin_interpolated, target='dangjin_floating')\n",
    "train_data = lgb.Dataset(train_x, train_y)\n",
    "lgbBO = BayesianOptimization(lgb_eval, bayesian_params, random_state=42)\n",
    "\n",
    "\n",
    "lgbBO.maximize(init_points=5, n_iter=25)\n",
    "####################################################\n",
    "# dictionary에 있는 target값을 모두 추출\n",
    "target_list = []\n",
    "for result in lgbBO.res:\n",
    "    target = result['target']\n",
    "    target_list.append(target)\n",
    "print(target_list)\n",
    "# 가장 큰 target 값을 가지는 순번(index)를 추출\n",
    "print('maximum target index:', np.argmax(np.array(target_list)))\n",
    "\n",
    "#################################################################\n",
    "# 가장 큰 target값을 가지는 index값을 기준으로 res에서 해당 parameter 추출.\n",
    "max_dict = lgbBO.res[np.argmax(np.array(target_list))]\n",
    "print(max_dict)"
   ]
  },
  {
   "cell_type": "code",
   "execution_count": null,
   "metadata": {
    "colab": {
     "base_uri": "https://localhost:8080/"
    },
    "id": "4XQQ7cKV06e0",
    "outputId": "420cee0a-9673-480e-a287-2d61a7f82de1"
   },
   "outputs": [
    {
     "name": "stdout",
     "output_type": "stream",
     "text": [
      "0:\tlearn: 194.1556369\ttest: 194.1556369\ttest1: 155.6591443\tbest: 155.6591443 (0)\ttotal: 56.1ms\tremaining: 4m 40s\n",
      "100:\tlearn: 137.5433396\ttest: 137.5433396\ttest1: 109.8819339\tbest: 109.8819339 (100)\ttotal: 849ms\tremaining: 41.2s\n",
      "200:\tlearn: 105.8964096\ttest: 105.8964096\ttest1: 86.3193966\tbest: 86.3193966 (200)\ttotal: 1.65s\tremaining: 39.5s\n",
      "300:\tlearn: 89.0977659\ttest: 89.0977659\ttest1: 74.9898487\tbest: 74.9898487 (300)\ttotal: 2.43s\tremaining: 38s\n",
      "400:\tlearn: 80.2636787\ttest: 80.2636787\ttest1: 69.4558333\tbest: 69.4558333 (400)\ttotal: 3.21s\tremaining: 36.8s\n",
      "500:\tlearn: 75.3991933\ttest: 75.3991933\ttest1: 66.4545530\tbest: 66.4545530 (500)\ttotal: 3.96s\tremaining: 35.5s\n",
      "600:\tlearn: 72.5018985\ttest: 72.5018985\ttest1: 65.1256411\tbest: 65.1256411 (600)\ttotal: 4.71s\tremaining: 34.5s\n",
      "700:\tlearn: 70.6055045\ttest: 70.6055045\ttest1: 64.3920071\tbest: 64.3920071 (700)\ttotal: 5.47s\tremaining: 33.6s\n",
      "800:\tlearn: 69.2313444\ttest: 69.2313444\ttest1: 63.9694251\tbest: 63.9694251 (800)\ttotal: 6.26s\tremaining: 32.8s\n",
      "900:\tlearn: 68.1095419\ttest: 68.1095419\ttest1: 63.8110978\tbest: 63.8006538 (896)\ttotal: 7.01s\tremaining: 31.9s\n",
      "1000:\tlearn: 67.0708343\ttest: 67.0708343\ttest1: 63.6040671\tbest: 63.6040364 (998)\ttotal: 7.77s\tremaining: 31s\n",
      "1100:\tlearn: 66.1743200\ttest: 66.1743200\ttest1: 63.4619072\tbest: 63.4584587 (1090)\ttotal: 8.54s\tremaining: 30.2s\n",
      "1200:\tlearn: 65.3294066\ttest: 65.3294066\ttest1: 63.4001882\tbest: 63.3886849 (1177)\ttotal: 9.31s\tremaining: 29.4s\n",
      "1300:\tlearn: 64.5372063\ttest: 64.5372063\ttest1: 63.2601038\tbest: 63.2601038 (1300)\ttotal: 10.1s\tremaining: 28.6s\n",
      "1400:\tlearn: 63.8267427\ttest: 63.8267427\ttest1: 63.2485062\tbest: 63.2450507 (1341)\ttotal: 10.8s\tremaining: 27.8s\n",
      "1500:\tlearn: 63.1722427\ttest: 63.1722427\ttest1: 63.2107856\tbest: 63.1986327 (1469)\ttotal: 11.6s\tremaining: 27.1s\n",
      "1600:\tlearn: 62.4909752\ttest: 62.4909752\ttest1: 63.1625982\tbest: 63.1625982 (1600)\ttotal: 12.4s\tremaining: 26.3s\n",
      "1700:\tlearn: 61.8133441\ttest: 61.8133441\ttest1: 63.1815017\tbest: 63.1513140 (1603)\ttotal: 13.1s\tremaining: 25.5s\n",
      "Stopped by overfitting detector  (100 iterations wait)\n",
      "\n",
      "bestTest = 63.15131402\n",
      "bestIteration = 1603\n",
      "\n",
      "Shrink model to first 1604 iterations.\n"
     ]
    },
    {
     "data": {
      "text/plain": [
       "<catboost.core.CatBoostRegressor at 0x7f605d9eacd0>"
      ]
     },
     "execution_count": 45,
     "metadata": {
      "tags": []
     },
     "output_type": "execute_result"
    }
   ],
   "source": [
    "train_x, train_y, val_x, val_y = train_datast(\n",
    "    energy, dangjin_interpolated, target='dangjin_floating')\n",
    "cat1 = CatBoostRegressor(n_estimators=5000, random_seed=42,\n",
    "                         learning_rate=0.005, depth=8, loss_function='MultiRMSE')\n",
    "cat1.fit(train_x, train_y,\n",
    "         eval_set=[(train_x, train_y), (val_x, val_y)],\n",
    "         early_stopping_rounds=100, verbose=100)"
   ]
  },
  {
   "cell_type": "code",
   "execution_count": null,
   "metadata": {
    "colab": {
     "base_uri": "https://localhost:8080/"
    },
    "id": "fN7js8ProVQv",
    "outputId": "78d2751e-2c3b-457b-a0e4-fae1aae010e2"
   },
   "outputs": [
    {
     "name": "stdout",
     "output_type": "stream",
     "text": [
      "Training until validation scores don't improve for 100 rounds.\n",
      "[100]\ttraining's l2: 18665.5\tvalid_1's l2: 12819.9\n",
      "[200]\ttraining's l2: 10718.4\tvalid_1's l2: 8168.04\n",
      "[300]\ttraining's l2: 6993.68\tvalid_1's l2: 5981.95\n",
      "[400]\ttraining's l2: 5247.29\tvalid_1's l2: 5012.31\n",
      "[500]\ttraining's l2: 4372.12\tvalid_1's l2: 4566.6\n",
      "[600]\ttraining's l2: 3875.47\tvalid_1's l2: 4373.11\n",
      "[700]\ttraining's l2: 3545.28\tvalid_1's l2: 4275.84\n",
      "[800]\ttraining's l2: 3293.94\tvalid_1's l2: 4231.69\n",
      "[900]\ttraining's l2: 3097.22\tvalid_1's l2: 4205.1\n",
      "[1000]\ttraining's l2: 2943.1\tvalid_1's l2: 4195.49\n",
      "[1100]\ttraining's l2: 2818.51\tvalid_1's l2: 4192.8\n",
      "Early stopping, best iteration is:\n",
      "[1068]\ttraining's l2: 2855.53\tvalid_1's l2: 4189.82\n"
     ]
    },
    {
     "data": {
      "text/plain": [
       "LGBMRegressor(boosting_type='gbdt', class_weight=None,\n",
       "              colsample_bytree=0.7840043724584478, importance_type='split',\n",
       "              learning_rate=0.005, loss_function='MultiRMSE', max_bin=109,\n",
       "              max_depth=12, min_child_samples=47, min_child_weight=44,\n",
       "              min_split_gain=0.0, n_estimators=5000, n_jobs=-1, num_leaves=61,\n",
       "              objective=None, random_seed=42, random_state=None, reg_alpha=8,\n",
       "              reg_lambda=1.5, silent=True, subsample=0.835744966051806,\n",
       "              subsample_for_bin=200000, subsample_freq=0)"
      ]
     },
     "execution_count": 26,
     "metadata": {
      "tags": []
     },
     "output_type": "execute_result"
    }
   ],
   "source": [
    "train_x, train_y, val_x, val_y = train_datast(\n",
    "    energy, dangjin_interpolated, target='dangjin_floating')\n",
    "dangjin_floating_model = LGBMRegressor(n_estimators=5000, random_seed=42, learning_rate=0.005, loss_function='MultiRMSE',\n",
    "                                       colsample_bytree=0.7840043724584478, max_bin=109, max_depth=12, min_child_samples=47, min_child_weight=44, num_leaves=61, reg_alpha=8, reg_lambda=1.5, subsample=0.835744966051806)\n",
    "dangjin_floating_model.fit(train_x, train_y,\n",
    "                           eval_set=[(train_x, train_y), (val_x, val_y)],\n",
    "                           early_stopping_rounds=100, verbose=100)"
   ]
  },
  {
   "cell_type": "code",
   "execution_count": null,
   "metadata": {
    "colab": {
     "base_uri": "https://localhost:8080/"
    },
    "id": "KP8YijeVm8xG",
    "outputId": "89a1c5a4-e2ba-4b26-ce5a-f158a2bab21c"
   },
   "outputs": [
    {
     "name": "stdout",
     "output_type": "stream",
     "text": [
      "Training until validation scores don't improve for 100 rounds.\n",
      "[100]\ttraining's l2: 17468.2\tvalid_1's l2: 12314.7\n",
      "[200]\ttraining's l2: 9505.46\tvalid_1's l2: 7518.53\n",
      "[300]\ttraining's l2: 6160.28\tvalid_1's l2: 5552.15\n",
      "[400]\ttraining's l2: 4621.98\tvalid_1's l2: 4734.6\n",
      "[500]\ttraining's l2: 3850.62\tvalid_1's l2: 4397.85\n",
      "[600]\ttraining's l2: 3360.87\tvalid_1's l2: 4265.15\n",
      "[700]\ttraining's l2: 3025.62\tvalid_1's l2: 4199.41\n",
      "[800]\ttraining's l2: 2769.75\tvalid_1's l2: 4179.53\n",
      "[900]\ttraining's l2: 2594.36\tvalid_1's l2: 4162.22\n",
      "[1000]\ttraining's l2: 2454.82\tvalid_1's l2: 4151.01\n",
      "[1100]\ttraining's l2: 2326.93\tvalid_1's l2: 4141.93\n",
      "[1200]\ttraining's l2: 2230.02\tvalid_1's l2: 4123.69\n",
      "[1300]\ttraining's l2: 2152.63\tvalid_1's l2: 4103.76\n",
      "[1400]\ttraining's l2: 2065.5\tvalid_1's l2: 4105.27\n",
      "Early stopping, best iteration is:\n",
      "[1309]\ttraining's l2: 2144.3\tvalid_1's l2: 4102.56\n"
     ]
    },
    {
     "data": {
      "text/plain": [
       "LGBMRegressor(boosting_type='gbdt', class_weight=None, colsample_bytree=1,\n",
       "              depth=8, importance_type='split', learning_rate=0.005,\n",
       "              loss_function='MultiRMSE', max_depth=17, min_child_samples=17,\n",
       "              min_child_weight=14, min_split_gain=0.0, n_estimators=5000,\n",
       "              n_jobs=-1, num_leaves=63, objective=None, random_seed=42,\n",
       "              random_state=None, reg_alpha=49.75855787791481,\n",
       "              reg_lambda=0.026935271560602856, silent=True, subsample=1.0,\n",
       "              subsample_for_bin=200000, subsample_freq=0)"
      ]
     },
     "execution_count": 44,
     "metadata": {
      "tags": []
     },
     "output_type": "execute_result"
    }
   ],
   "source": [
    "train_x, train_y, val_x, val_y = train_datast(\n",
    "    energy, dangjin_interpolated, target='dangjin_floating')\n",
    "dangjin_floating_model = LGBMRegressor(n_estimators=5000, random_seed=42, learning_rate=0.005, depth=8, loss_function='MultiRMSE',\n",
    "                                       colsample_bytree=1, max_depth=17, min_child_samples=17, min_child_weight=14, num_leaves=63, reg_alpha=49.75855787791481, reg_lambda=0.026935271560602856, subsample=1.0)\n",
    "dangjin_floating_model.fit(train_x, train_y,\n",
    "                           eval_set=[(train_x, train_y), (val_x, val_y)],\n",
    "                           early_stopping_rounds=100, verbose=100)"
   ]
  },
  {
   "cell_type": "code",
   "execution_count": null,
   "metadata": {
    "colab": {
     "base_uri": "https://localhost:8080/"
    },
    "id": "A6vJn6uWxEty",
    "outputId": "ea8af7c5-c480-4559-8393-9f7a77f406f4"
   },
   "outputs": [
    {
     "name": "stdout",
     "output_type": "stream",
     "text": [
      "Training until validation scores don't improve for 100 rounds.\n",
      "[100]\tvalid_0's score: 10.8133\n",
      "[200]\tvalid_0's score: 8.3101\n",
      "[300]\tvalid_0's score: 7.81402\n",
      "[400]\tvalid_0's score: 7.79694\n",
      "Early stopping, best iteration is:\n",
      "[346]\tvalid_0's score: 7.7516\n"
     ]
    }
   ],
   "source": [
    "train_x, train_y, val_x, val_y = train_datast(\n",
    "    energy, dangjin_interpolated, target='dangjin_floating')\n",
    "train_dataset = lgb.Dataset(train_x, train_y)\n",
    "val_dataset = lgb.Dataset(val_x, val_y)\n",
    "capacity = 1000\n",
    "dangjin_floating_model = lgb.train(\n",
    "    params, train_dataset, 10000, val_dataset, feval=nmae_10, verbose_eval=100, early_stopping_rounds=100)"
   ]
  },
  {
   "cell_type": "markdown",
   "metadata": {
    "id": "wvlPbI_oxEtz"
   },
   "source": [
    "## 당진 자재 창고 태양광 예측 모델 학습"
   ]
  },
  {
   "cell_type": "code",
   "execution_count": null,
   "metadata": {
    "id": "Zs0NsAnsrLjJ"
   },
   "outputs": [],
   "source": [
    "bayesian_params = {\n",
    "    'max_depth': (5, 20),\n",
    "    'num_leaves': (24, 64),\n",
    "    'min_child_samples': (10, 200),\n",
    "    'min_child_weight': (1, 50),\n",
    "    'subsample': (0.5, 1.0),\n",
    "    'colsample_bytree': (0.5, 1.0),\n",
    "    'max_bin': (10, 500),\n",
    "    'reg_lambda': (0.001, 10),\n",
    "    'reg_alpha': (0.01, 50)\n",
    "}\n",
    "\n",
    "\n",
    "def lgb_eval(max_depth, num_leaves, min_child_samples, min_child_weight, subsample,\n",
    "             colsample_bytree, max_bin, reg_lambda, reg_alpha):\n",
    "    params = {\n",
    "        \"n_estimators\": 1000, \"learning_rate\": 0.01,\n",
    "        # 호출 시 실수형 값이 들어오므로 정수형 하이퍼 파라미터는 정수형으로 변경\n",
    "        'max_depth': int(round(max_depth)),\n",
    "        'num_leaves': int(round(num_leaves)),\n",
    "        'min_child_samples': int(round(min_child_samples)),\n",
    "        'min_child_weight': int(round(min_child_weight)),\n",
    "        'subsample': max(min(subsample, 1), 0),\n",
    "        'colsample_bytree': max(min(colsample_bytree, 1), 0),\n",
    "        'max_bin':  max(int(round(max_bin)), 10),\n",
    "        'reg_lambda': max(reg_lambda, 0),\n",
    "        'reg_alpha': max(reg_alpha, 0),\n",
    "        \"metric\": 'rmse'\n",
    "    }\n",
    "    cv_result = lgb.cv(params, train_data, nfold=5, seed=0,\n",
    "                       verbose_eval=200, stratified=False)\n",
    "    return (-1.0 * np.array(cv_result['rmse-mean'])).max()\n",
    "\n",
    "\n",
    "train_x, train_y, val_x, val_y = train_datast(\n",
    "    energy, dangjin_interpolated, target='dangjin_warehouse')\n",
    "train_data = lgb.Dataset(train_x, train_y)\n",
    "lgbBO = BayesianOptimization(lgb_eval, bayesian_params, random_state=42)\n",
    "\n",
    "\n",
    "lgbBO.maximize(init_points=5, n_iter=25)\n",
    "####################################################\n",
    "# dictionary에 있는 target값을 모두 추출\n",
    "target_list = []\n",
    "for result in lgbBO.res:\n",
    "    target = result['target']\n",
    "    target_list.append(target)\n",
    "print(target_list)\n",
    "# 가장 큰 target 값을 가지는 순번(index)를 추출\n",
    "print('maximum target index:', np.argmax(np.array(target_list)))\n",
    "\n",
    "#################################################################\n",
    "# 가장 큰 target값을 가지는 index값을 기준으로 res에서 해당 parameter 추출.\n",
    "max_dict = lgbBO.res[np.argmax(np.array(target_list))]\n",
    "print(max_dict)"
   ]
  },
  {
   "cell_type": "code",
   "execution_count": null,
   "metadata": {
    "colab": {
     "base_uri": "https://localhost:8080/"
    },
    "id": "As6giXXL2NzL",
    "outputId": "4e9706a9-7b24-4529-fa93-45f03d1e0b47"
   },
   "outputs": [
    {
     "name": "stdout",
     "output_type": "stream",
     "text": [
      "0:\tlearn: 147.2824497\ttest: 147.2824497\ttest1: 127.8765996\tbest: 127.8765996 (0)\ttotal: 8.75ms\tremaining: 43.7s\n",
      "100:\tlearn: 104.4879035\ttest: 104.4879035\ttest1: 91.1236448\tbest: 91.1236448 (100)\ttotal: 809ms\tremaining: 39.3s\n",
      "200:\tlearn: 80.7833174\ttest: 80.7833174\ttest1: 72.2627678\tbest: 72.2627678 (200)\ttotal: 1.61s\tremaining: 38.4s\n",
      "300:\tlearn: 68.1673314\ttest: 68.1673314\ttest1: 62.7982141\tbest: 62.7982141 (300)\ttotal: 2.38s\tremaining: 37.2s\n",
      "400:\tlearn: 61.5583586\ttest: 61.5583586\ttest1: 58.6091217\tbest: 58.6091217 (400)\ttotal: 3.19s\tremaining: 36.6s\n",
      "500:\tlearn: 57.9040254\ttest: 57.9040254\ttest1: 56.5747823\tbest: 56.5747823 (500)\ttotal: 4s\tremaining: 35.9s\n",
      "600:\tlearn: 55.7329807\ttest: 55.7329807\ttest1: 55.5735458\tbest: 55.5735458 (600)\ttotal: 4.77s\tremaining: 34.9s\n",
      "700:\tlearn: 54.1945790\ttest: 54.1945790\ttest1: 55.0722148\tbest: 55.0722148 (700)\ttotal: 5.56s\tremaining: 34.1s\n",
      "800:\tlearn: 53.0015268\ttest: 53.0015268\ttest1: 54.7930339\tbest: 54.7930339 (800)\ttotal: 6.3s\tremaining: 33.1s\n",
      "900:\tlearn: 52.0505904\ttest: 52.0505904\ttest1: 54.6238598\tbest: 54.6182339 (899)\ttotal: 7.09s\tremaining: 32.3s\n",
      "1000:\tlearn: 51.1560534\ttest: 51.1560534\ttest1: 54.5523248\tbest: 54.5362218 (987)\ttotal: 7.84s\tremaining: 31.3s\n",
      "1100:\tlearn: 50.4453471\ttest: 50.4453471\ttest1: 54.4527952\tbest: 54.4509763 (1098)\ttotal: 8.59s\tremaining: 30.4s\n",
      "1200:\tlearn: 49.7449347\ttest: 49.7449347\ttest1: 54.4460301\tbest: 54.4339223 (1185)\ttotal: 9.36s\tremaining: 29.6s\n",
      "1300:\tlearn: 49.1444913\ttest: 49.1444913\ttest1: 54.4029511\tbest: 54.3973529 (1270)\ttotal: 10.1s\tremaining: 28.7s\n",
      "1400:\tlearn: 48.5736135\ttest: 48.5736135\ttest1: 54.4245913\tbest: 54.3959138 (1306)\ttotal: 10.8s\tremaining: 27.9s\n",
      "Stopped by overfitting detector  (100 iterations wait)\n",
      "\n",
      "bestTest = 54.39591378\n",
      "bestIteration = 1306\n",
      "\n",
      "Shrink model to first 1307 iterations.\n"
     ]
    },
    {
     "data": {
      "text/plain": [
       "<catboost.core.CatBoostRegressor at 0x7f605df00ed0>"
      ]
     },
     "execution_count": 46,
     "metadata": {
      "tags": []
     },
     "output_type": "execute_result"
    }
   ],
   "source": [
    "train_x, train_y, val_x, val_y = train_datast(\n",
    "    energy, dangjin_interpolated, target='dangjin_warehouse')\n",
    "cat2 = CatBoostRegressor(n_estimators=5000, random_seed=42,\n",
    "                         learning_rate=0.005, depth=8, loss_function='MultiRMSE')\n",
    "cat2.fit(train_x, train_y,\n",
    "         eval_set=[(train_x, train_y), (val_x, val_y)],\n",
    "         early_stopping_rounds=100, verbose=100)"
   ]
  },
  {
   "cell_type": "code",
   "execution_count": null,
   "metadata": {
    "colab": {
     "base_uri": "https://localhost:8080/"
    },
    "id": "Jy5JgE3Ereti",
    "outputId": "3111ea63-2dcd-4310-a45a-d267774fa7b6"
   },
   "outputs": [
    {
     "name": "stdout",
     "output_type": "stream",
     "text": [
      "Training until validation scores don't improve for 100 rounds.\n",
      "[100]\ttraining's l2: 10057.3\tvalid_1's l2: 8089.53\n",
      "[200]\ttraining's l2: 5471.98\tvalid_1's l2: 4970.63\n",
      "[300]\ttraining's l2: 3539.38\tvalid_1's l2: 3813.67\n",
      "[400]\ttraining's l2: 2674.14\tvalid_1's l2: 3368.68\n",
      "[500]\ttraining's l2: 2229.72\tvalid_1's l2: 3195.32\n",
      "[600]\ttraining's l2: 1963\tvalid_1's l2: 3129.7\n",
      "[700]\ttraining's l2: 1785.8\tvalid_1's l2: 3105.45\n",
      "[800]\ttraining's l2: 1651.59\tvalid_1's l2: 3057.7\n",
      "[900]\ttraining's l2: 1547.15\tvalid_1's l2: 3032.77\n",
      "[1000]\ttraining's l2: 1460.65\tvalid_1's l2: 3021.56\n",
      "[1100]\ttraining's l2: 1380.61\tvalid_1's l2: 3024.25\n",
      "Early stopping, best iteration is:\n",
      "[1051]\ttraining's l2: 1417.22\tvalid_1's l2: 3020.03\n"
     ]
    },
    {
     "data": {
      "text/plain": [
       "LGBMRegressor(boosting_type='gbdt', class_weight=None, colsample_bytree=1,\n",
       "              depth=8, importance_type='split', learning_rate=0.005,\n",
       "              loss_function='MultiRMSE', max_depth=17, min_child_samples=17,\n",
       "              min_child_weight=14, min_split_gain=0.0, n_estimators=5000,\n",
       "              n_jobs=-1, num_leaves=63, objective=None, random_seed=42,\n",
       "              random_state=None, reg_alpha=49.75855787791481,\n",
       "              reg_lambda=0.026935271560602856, silent=True, subsample=1.0,\n",
       "              subsample_for_bin=200000, subsample_freq=0)"
      ]
     },
     "execution_count": 37,
     "metadata": {
      "tags": []
     },
     "output_type": "execute_result"
    }
   ],
   "source": [
    "train_x, train_y, val_x, val_y = train_datast(\n",
    "    energy, dangjin_interpolated, target='dangjin_warehouse')\n",
    "dangjin_warehouse_model = LGBMRegressor(n_estimators=5000, random_seed=42, learning_rate=0.005, depth=8, loss_function='MultiRMSE',\n",
    "                                        colsample_bytree=1, max_depth=17, min_child_samples=17, min_child_weight=14, num_leaves=63, reg_alpha=49.75855787791481, reg_lambda=0.026935271560602856, subsample=1.0)\n",
    "dangjin_warehouse_model.fit(train_x, train_y,\n",
    "                            eval_set=[(train_x, train_y), (val_x, val_y)],\n",
    "                            early_stopping_rounds=100, verbose=100)"
   ]
  },
  {
   "cell_type": "markdown",
   "metadata": {
    "id": "hbC-9EokxEtz"
   },
   "source": [
    "## 당진 태양광 예측 모델 학습"
   ]
  },
  {
   "cell_type": "code",
   "execution_count": null,
   "metadata": {
    "id": "s1ffH0mx1OxI"
   },
   "outputs": [],
   "source": [
    "bayesian_params = {\n",
    "    'max_depth': (5, 20),\n",
    "    'num_leaves': (24, 64),\n",
    "    'min_child_samples': (10, 200),\n",
    "    'min_child_weight': (1, 50),\n",
    "    'subsample': (0.5, 1.0),\n",
    "    'colsample_bytree': (0.5, 1.0),\n",
    "    'max_bin': (10, 500),\n",
    "    'reg_lambda': (0.001, 10),\n",
    "    'reg_alpha': (0.01, 50)\n",
    "}\n",
    "\n",
    "\n",
    "def lgb_eval(max_depth, num_leaves, min_child_samples, min_child_weight, subsample,\n",
    "             colsample_bytree, max_bin, reg_lambda, reg_alpha):\n",
    "    params = {\n",
    "        \"n_estimators\": 1000, \"learning_rate\": 0.01,\n",
    "        # 호출 시 실수형 값이 들어오므로 정수형 하이퍼 파라미터는 정수형으로 변경\n",
    "        'max_depth': int(round(max_depth)),\n",
    "        'num_leaves': int(round(num_leaves)),\n",
    "        'min_child_samples': int(round(min_child_samples)),\n",
    "        'min_child_weight': int(round(min_child_weight)),\n",
    "        'subsample': max(min(subsample, 1), 0),\n",
    "        'colsample_bytree': max(min(colsample_bytree, 1), 0),\n",
    "        'max_bin':  max(int(round(max_bin)), 10),\n",
    "        'reg_lambda': max(reg_lambda, 0),\n",
    "        'reg_alpha': max(reg_alpha, 0),\n",
    "        \"metric\": 'rmse'\n",
    "    }\n",
    "    cv_result = lgb.cv(params, train_data, nfold=5, seed=0,\n",
    "                       verbose_eval=200, stratified=False)\n",
    "    return (-1.0 * np.array(cv_result['rmse-mean'])).max()\n",
    "\n",
    "\n",
    "train_x, train_y, val_x, val_y = train_datast(\n",
    "    energy, dangjin_interpolated, target='dangjin')\n",
    "train_data = lgb.Dataset(train_x, train_y)\n",
    "lgbBO = BayesianOptimization(lgb_eval, bayesian_params, random_state=42)\n",
    "\n",
    "\n",
    "lgbBO.maximize(init_points=5, n_iter=25)\n",
    "####################################################\n",
    "# dictionary에 있는 target값을 모두 추출\n",
    "target_list = []\n",
    "for result in lgbBO.res:\n",
    "    target = result['target']\n",
    "    target_list.append(target)\n",
    "print(target_list)\n",
    "# 가장 큰 target 값을 가지는 순번(index)를 추출\n",
    "print('maximum target index:', np.argmax(np.array(target_list)))\n",
    "\n",
    "#################################################################\n",
    "# 가장 큰 target값을 가지는 index값을 기준으로 res에서 해당 parameter 추출.\n",
    "max_dict = lgbBO.res[np.argmax(np.array(target_list))]\n",
    "print(max_dict)"
   ]
  },
  {
   "cell_type": "code",
   "execution_count": null,
   "metadata": {
    "colab": {
     "base_uri": "https://localhost:8080/"
    },
    "id": "TiYN0duz2TLv",
    "outputId": "4ad9872b-4b27-4daa-953e-5ec10008065b"
   },
   "outputs": [
    {
     "name": "stdout",
     "output_type": "stream",
     "text": [
      "0:\tlearn: 221.6732494\ttest: 221.6732494\ttest1: 195.7935698\tbest: 195.7935698 (0)\ttotal: 8.94ms\tremaining: 44.7s\n",
      "100:\tlearn: 155.4908448\ttest: 155.4908448\ttest1: 139.4988065\tbest: 139.4988065 (100)\ttotal: 828ms\tremaining: 40.2s\n",
      "200:\tlearn: 118.4531298\ttest: 118.4531298\ttest1: 110.9761129\tbest: 110.9761129 (200)\ttotal: 1.63s\tremaining: 38.8s\n",
      "300:\tlearn: 98.6978945\ttest: 98.6978945\ttest1: 96.8762299\tbest: 96.8762299 (300)\ttotal: 2.4s\tremaining: 37.5s\n",
      "400:\tlearn: 88.3719796\ttest: 88.3719796\ttest1: 90.2104106\tbest: 90.2104106 (400)\ttotal: 3.2s\tremaining: 36.7s\n",
      "500:\tlearn: 82.8786453\ttest: 82.8786453\ttest1: 86.9354674\tbest: 86.9354674 (500)\ttotal: 3.97s\tremaining: 35.7s\n",
      "600:\tlearn: 79.7389644\ttest: 79.7389644\ttest1: 85.2253733\tbest: 85.2253733 (600)\ttotal: 4.75s\tremaining: 34.8s\n",
      "700:\tlearn: 77.7820001\ttest: 77.7820001\ttest1: 84.2707720\tbest: 84.2707720 (700)\ttotal: 5.55s\tremaining: 34s\n",
      "800:\tlearn: 76.4198706\ttest: 76.4198706\ttest1: 83.7245505\tbest: 83.7215136 (799)\ttotal: 6.34s\tremaining: 33.2s\n",
      "900:\tlearn: 75.2676464\ttest: 75.2676464\ttest1: 83.4022741\tbest: 83.4022741 (900)\ttotal: 7.11s\tremaining: 32.3s\n",
      "1000:\tlearn: 74.3094381\ttest: 74.3094381\ttest1: 83.1347515\tbest: 83.1238208 (997)\ttotal: 7.88s\tremaining: 31.5s\n",
      "1100:\tlearn: 73.4722706\ttest: 73.4722706\ttest1: 82.9113769\tbest: 82.8964508 (1091)\ttotal: 8.66s\tremaining: 30.7s\n",
      "1200:\tlearn: 72.6604647\ttest: 72.6604647\ttest1: 82.8203695\tbest: 82.7920339 (1184)\ttotal: 9.43s\tremaining: 29.8s\n",
      "1300:\tlearn: 71.9711130\ttest: 71.9711130\ttest1: 82.7166606\tbest: 82.7146602 (1299)\ttotal: 10.2s\tremaining: 29s\n",
      "1400:\tlearn: 71.2790578\ttest: 71.2790578\ttest1: 82.6689824\tbest: 82.6458062 (1394)\ttotal: 11s\tremaining: 28.1s\n",
      "1500:\tlearn: 70.6468052\ttest: 70.6468052\ttest1: 82.6279686\tbest: 82.6189739 (1497)\ttotal: 11.7s\tremaining: 27.3s\n",
      "1600:\tlearn: 70.0054388\ttest: 70.0054388\ttest1: 82.6156773\tbest: 82.5771894 (1572)\ttotal: 12.5s\tremaining: 26.5s\n",
      "Stopped by overfitting detector  (100 iterations wait)\n",
      "\n",
      "bestTest = 82.57718937\n",
      "bestIteration = 1572\n",
      "\n",
      "Shrink model to first 1573 iterations.\n"
     ]
    },
    {
     "data": {
      "text/plain": [
       "<catboost.core.CatBoostRegressor at 0x7f605d8b5390>"
      ]
     },
     "execution_count": 47,
     "metadata": {
      "tags": []
     },
     "output_type": "execute_result"
    }
   ],
   "source": [
    "train_x, train_y, val_x, val_y = train_datast(\n",
    "    energy, dangjin_interpolated, target='dangjin')\n",
    "cat3 = CatBoostRegressor(n_estimators=5000, random_seed=42,\n",
    "                         learning_rate=0.005, depth=8, loss_function='MultiRMSE')\n",
    "cat3.fit(train_x, train_y,\n",
    "         eval_set=[(train_x, train_y), (val_x, val_y)],\n",
    "         early_stopping_rounds=100, verbose=100)"
   ]
  },
  {
   "cell_type": "code",
   "execution_count": null,
   "metadata": {
    "colab": {
     "base_uri": "https://localhost:8080/"
    },
    "id": "t7yJDse-1TXY",
    "outputId": "781464ce-a35a-4603-892d-c7ff8237adc6"
   },
   "outputs": [
    {
     "name": "stdout",
     "output_type": "stream",
     "text": [
      "Training until validation scores don't improve for 100 rounds.\n",
      "[100]\ttraining's l2: 22350.1\tvalid_1's l2: 18657.5\n",
      "[200]\ttraining's l2: 11932.6\tvalid_1's l2: 11507.9\n",
      "[300]\ttraining's l2: 7681.95\tvalid_1's l2: 8825.45\n",
      "[400]\ttraining's l2: 5773.28\tvalid_1's l2: 7726.75\n",
      "[500]\ttraining's l2: 4795\tvalid_1's l2: 7345.13\n",
      "[600]\ttraining's l2: 4210.44\tvalid_1's l2: 7175.93\n",
      "[700]\ttraining's l2: 3817.49\tvalid_1's l2: 7071.54\n",
      "[800]\ttraining's l2: 3499.76\tvalid_1's l2: 7084.52\n",
      "Early stopping, best iteration is:\n",
      "[709]\ttraining's l2: 3788.45\tvalid_1's l2: 7070.29\n"
     ]
    },
    {
     "data": {
      "text/plain": [
       "LGBMRegressor(boosting_type='gbdt', class_weight=None, colsample_bytree=1,\n",
       "              depth=8, importance_type='split', learning_rate=0.005,\n",
       "              loss_function='MultiRMSE', max_depth=17, min_child_samples=17,\n",
       "              min_child_weight=14, min_split_gain=0.0, n_estimators=5000,\n",
       "              n_jobs=-1, num_leaves=63, objective=None, random_seed=42,\n",
       "              random_state=None, reg_alpha=49.75855787791481,\n",
       "              reg_lambda=0.026935271560602856, silent=True, subsample=1.0,\n",
       "              subsample_for_bin=200000, subsample_freq=0)"
      ]
     },
     "execution_count": 38,
     "metadata": {
      "tags": []
     },
     "output_type": "execute_result"
    }
   ],
   "source": [
    "train_x, train_y, val_x, val_y = train_datast(\n",
    "    energy, dangjin_interpolated, target='dangjin')\n",
    "dangjin_model = LGBMRegressor(n_estimators=5000, random_seed=42, learning_rate=0.005, depth=8, loss_function='MultiRMSE',\n",
    "                              colsample_bytree=1, max_depth=17, min_child_samples=17, min_child_weight=14, num_leaves=63, reg_alpha=49.75855787791481, reg_lambda=0.026935271560602856, subsample=1.0)\n",
    "dangjin_model.fit(train_x, train_y,\n",
    "                  eval_set=[(train_x, train_y), (val_x, val_y)],\n",
    "                  early_stopping_rounds=100, verbose=100)"
   ]
  },
  {
   "cell_type": "markdown",
   "metadata": {
    "id": "tnYH_ovOxEt0"
   },
   "source": [
    "## 울산 태양광 예측 모델 학습"
   ]
  },
  {
   "cell_type": "code",
   "execution_count": null,
   "metadata": {
    "colab": {
     "base_uri": "https://localhost:8080/"
    },
    "id": "l6A1Yj8p3627",
    "outputId": "3ed4e13f-7458-4ef6-c05b-e35366dddec3"
   },
   "outputs": [
    {
     "name": "stdout",
     "output_type": "stream",
     "text": [
      "|   iter    |  target   | colsam... |  max_bin  | max_depth | min_ch... | min_ch... | num_le... | reg_alpha | reg_la... | subsample |\n",
      "-------------------------------------------------------------------------------------------------------------------------------------\n"
     ]
    },
    {
     "name": "stderr",
     "output_type": "stream",
     "text": [
      "/usr/local/lib/python3.7/dist-packages/lightgbm/engine.py:430: UserWarning: Found `n_estimators` in params. Will use it instead of argument\n",
      "  warnings.warn(\"Found `{}` in params. Will use it instead of argument\".format(alias))\n"
     ]
    },
    {
     "name": "stdout",
     "output_type": "stream",
     "text": [
      "[200]\tcv_agg's rmse: 43.3444 + 0.790529\n",
      "[400]\tcv_agg's rmse: 35.2592 + 0.819072\n",
      "[600]\tcv_agg's rmse: 33.3081 + 0.849848\n",
      "[800]\tcv_agg's rmse: 32.4558 + 0.860089\n",
      "[1000]\tcv_agg's rmse: 31.8717 + 0.867923\n",
      "| \u001b[0m 1       \u001b[0m | \u001b[0m-31.87   \u001b[0m | \u001b[0m 0.6873  \u001b[0m | \u001b[0m 475.9   \u001b[0m | \u001b[0m 15.98   \u001b[0m | \u001b[0m 123.7   \u001b[0m | \u001b[0m 8.645   \u001b[0m | \u001b[0m 30.24   \u001b[0m | \u001b[0m 2.914   \u001b[0m | \u001b[0m 8.662   \u001b[0m | \u001b[0m 0.8006  \u001b[0m |\n",
      "[200]\tcv_agg's rmse: 41.1347 + 0.769208\n",
      "[400]\tcv_agg's rmse: 34.567 + 0.858233\n",
      "[600]\tcv_agg's rmse: 33.1384 + 0.902847\n",
      "[800]\tcv_agg's rmse: 32.3811 + 0.890606\n",
      "[1000]\tcv_agg's rmse: 31.8738 + 0.879971\n",
      "| \u001b[0m 2       \u001b[0m | \u001b[0m-31.87   \u001b[0m | \u001b[0m 0.854   \u001b[0m | \u001b[0m 20.09   \u001b[0m | \u001b[0m 19.55   \u001b[0m | \u001b[0m 168.2   \u001b[0m | \u001b[0m 11.4    \u001b[0m | \u001b[0m 31.27   \u001b[0m | \u001b[0m 9.178   \u001b[0m | \u001b[0m 3.043   \u001b[0m | \u001b[0m 0.7624  \u001b[0m |\n",
      "[200]\tcv_agg's rmse: 42.5475 + 0.792917\n",
      "[400]\tcv_agg's rmse: 34.0367 + 0.788636\n",
      "[600]\tcv_agg's rmse: 31.8651 + 0.785575\n",
      "[800]\tcv_agg's rmse: 30.9206 + 0.782764\n",
      "[1000]\tcv_agg's rmse: 30.278 + 0.772476\n",
      "| \u001b[95m 3       \u001b[0m | \u001b[95m-30.28   \u001b[0m | \u001b[95m 0.716   \u001b[0m | \u001b[95m 152.7   \u001b[0m | \u001b[95m 14.18   \u001b[0m | \u001b[95m 36.5    \u001b[0m | \u001b[95m 15.32   \u001b[0m | \u001b[95m 38.65   \u001b[0m | \u001b[95m 22.81   \u001b[0m | \u001b[95m 7.852   \u001b[0m | \u001b[95m 0.5998  \u001b[0m |\n",
      "[200]\tcv_agg's rmse: 44.1733 + 0.820719\n",
      "[400]\tcv_agg's rmse: 36.0307 + 0.871394\n",
      "[600]\tcv_agg's rmse: 34.1695 + 0.893995\n",
      "[800]\tcv_agg's rmse: 33.5275 + 0.872002\n",
      "[1000]\tcv_agg's rmse: 33.1105 + 0.87419\n",
      "| \u001b[0m 4       \u001b[0m | \u001b[0m-33.11   \u001b[0m | \u001b[0m 0.7571  \u001b[0m | \u001b[0m 300.3   \u001b[0m | \u001b[0m 5.697   \u001b[0m | \u001b[0m 125.4   \u001b[0m | \u001b[0m 9.356   \u001b[0m | \u001b[0m 26.6    \u001b[0m | \u001b[0m 47.44   \u001b[0m | \u001b[0m 9.656   \u001b[0m | \u001b[0m 0.9042  \u001b[0m |\n",
      "[200]\tcv_agg's rmse: 45.212 + 0.766859\n",
      "[400]\tcv_agg's rmse: 35.7539 + 0.751494\n",
      "[600]\tcv_agg's rmse: 33.0709 + 0.775568\n",
      "[800]\tcv_agg's rmse: 31.9325 + 0.785032\n",
      "[1000]\tcv_agg's rmse: 31.2538 + 0.77704\n",
      "| \u001b[0m 5       \u001b[0m | \u001b[0m-31.25   \u001b[0m | \u001b[0m 0.6523  \u001b[0m | \u001b[0m 57.86   \u001b[0m | \u001b[0m 15.26   \u001b[0m | \u001b[0m 93.63   \u001b[0m | \u001b[0m 6.98    \u001b[0m | \u001b[0m 43.81   \u001b[0m | \u001b[0m 1.729   \u001b[0m | \u001b[0m 9.093   \u001b[0m | \u001b[0m 0.6294  \u001b[0m |\n"
     ]
    },
    {
     "name": "stderr",
     "output_type": "stream",
     "text": [
      "/usr/local/lib/python3.7/dist-packages/lightgbm/engine.py:430: UserWarning: Found `n_estimators` in params. Will use it instead of argument\n",
      "  warnings.warn(\"Found `{}` in params. Will use it instead of argument\".format(alias))\n"
     ]
    },
    {
     "name": "stdout",
     "output_type": "stream",
     "text": [
      "[200]\tcv_agg's rmse: 51.0745 + 0.670056\n",
      "[400]\tcv_agg's rmse: 37.9878 + 0.679691\n",
      "[600]\tcv_agg's rmse: 34.6002 + 0.72674\n",
      "[800]\tcv_agg's rmse: 33.0454 + 0.749894\n",
      "[1000]\tcv_agg's rmse: 32.0628 + 0.77945\n",
      "| \u001b[0m 6       \u001b[0m | \u001b[0m-32.06   \u001b[0m | \u001b[0m 0.5191  \u001b[0m | \u001b[0m 148.5   \u001b[0m | \u001b[0m 13.23   \u001b[0m | \u001b[0m 45.03   \u001b[0m | \u001b[0m 12.37   \u001b[0m | \u001b[0m 38.12   \u001b[0m | \u001b[0m 13.49   \u001b[0m | \u001b[0m 8.034   \u001b[0m | \u001b[0m 0.7501  \u001b[0m |\n"
     ]
    },
    {
     "name": "stderr",
     "output_type": "stream",
     "text": [
      "/usr/local/lib/python3.7/dist-packages/lightgbm/engine.py:430: UserWarning: Found `n_estimators` in params. Will use it instead of argument\n",
      "  warnings.warn(\"Found `{}` in params. Will use it instead of argument\".format(alias))\n"
     ]
    },
    {
     "name": "stdout",
     "output_type": "stream",
     "text": [
      "[200]\tcv_agg's rmse: 40.2525 + 0.813608\n",
      "[400]\tcv_agg's rmse: 32.9566 + 0.825117\n",
      "[600]\tcv_agg's rmse: 31.1228 + 0.810085\n",
      "[800]\tcv_agg's rmse: 30.3797 + 0.801109\n",
      "[1000]\tcv_agg's rmse: 29.8357 + 0.788041\n",
      "| \u001b[95m 7       \u001b[0m | \u001b[95m-29.84   \u001b[0m | \u001b[95m 0.8803  \u001b[0m | \u001b[95m 366.3   \u001b[0m | \u001b[95m 14.43   \u001b[0m | \u001b[95m 24.33   \u001b[0m | \u001b[95m 14.85   \u001b[0m | \u001b[95m 41.12   \u001b[0m | \u001b[95m 1.181   \u001b[0m | \u001b[95m 9.672   \u001b[0m | \u001b[95m 0.6052  \u001b[0m |\n"
     ]
    },
    {
     "name": "stderr",
     "output_type": "stream",
     "text": [
      "/usr/local/lib/python3.7/dist-packages/lightgbm/engine.py:430: UserWarning: Found `n_estimators` in params. Will use it instead of argument\n",
      "  warnings.warn(\"Found `{}` in params. Will use it instead of argument\".format(alias))\n"
     ]
    },
    {
     "name": "stdout",
     "output_type": "stream",
     "text": [
      "[200]\tcv_agg's rmse: 43.3306 + 0.778856\n",
      "[400]\tcv_agg's rmse: 35.4581 + 0.795694\n",
      "[600]\tcv_agg's rmse: 33.6604 + 0.830454\n",
      "[800]\tcv_agg's rmse: 32.9561 + 0.840232\n",
      "[1000]\tcv_agg's rmse: 32.5385 + 0.856711\n",
      "| \u001b[0m 8       \u001b[0m | \u001b[0m-32.54   \u001b[0m | \u001b[0m 0.7191  \u001b[0m | \u001b[0m 477.5   \u001b[0m | \u001b[0m 7.77    \u001b[0m | \u001b[0m 187.5   \u001b[0m | \u001b[0m 22.68   \u001b[0m | \u001b[0m 34.42   \u001b[0m | \u001b[0m 30.4    \u001b[0m | \u001b[0m 4.039   \u001b[0m | \u001b[0m 0.699   \u001b[0m |\n"
     ]
    },
    {
     "name": "stderr",
     "output_type": "stream",
     "text": [
      "/usr/local/lib/python3.7/dist-packages/lightgbm/engine.py:430: UserWarning: Found `n_estimators` in params. Will use it instead of argument\n",
      "  warnings.warn(\"Found `{}` in params. Will use it instead of argument\".format(alias))\n"
     ]
    },
    {
     "name": "stdout",
     "output_type": "stream",
     "text": [
      "[200]\tcv_agg's rmse: 45.215 + 0.737398\n",
      "[400]\tcv_agg's rmse: 35.8566 + 0.728676\n",
      "[600]\tcv_agg's rmse: 33.1716 + 0.754587\n",
      "[800]\tcv_agg's rmse: 32.0704 + 0.768806\n",
      "[1000]\tcv_agg's rmse: 31.3984 + 0.787789\n",
      "| \u001b[0m 9       \u001b[0m | \u001b[0m-31.4    \u001b[0m | \u001b[0m 0.563   \u001b[0m | \u001b[0m 129.7   \u001b[0m | \u001b[0m 16.41   \u001b[0m | \u001b[0m 15.21   \u001b[0m | \u001b[0m 41.72   \u001b[0m | \u001b[0m 30.9    \u001b[0m | \u001b[0m 43.17   \u001b[0m | \u001b[0m 1.662   \u001b[0m | \u001b[0m 0.6726  \u001b[0m |\n"
     ]
    },
    {
     "name": "stderr",
     "output_type": "stream",
     "text": [
      "/usr/local/lib/python3.7/dist-packages/lightgbm/engine.py:430: UserWarning: Found `n_estimators` in params. Will use it instead of argument\n",
      "  warnings.warn(\"Found `{}` in params. Will use it instead of argument\".format(alias))\n"
     ]
    },
    {
     "name": "stdout",
     "output_type": "stream",
     "text": [
      "[200]\tcv_agg's rmse: 39.1918 + 0.87087\n",
      "[400]\tcv_agg's rmse: 33.8795 + 0.922267\n",
      "[600]\tcv_agg's rmse: 32.5718 + 0.873163\n",
      "[800]\tcv_agg's rmse: 31.921 + 0.89708\n",
      "[1000]\tcv_agg's rmse: 31.4472 + 0.882782\n",
      "| \u001b[0m 10      \u001b[0m | \u001b[0m-31.45   \u001b[0m | \u001b[0m 0.9828  \u001b[0m | \u001b[0m 325.3   \u001b[0m | \u001b[0m 9.822   \u001b[0m | \u001b[0m 154.4   \u001b[0m | \u001b[0m 6.951   \u001b[0m | \u001b[0m 40.03   \u001b[0m | \u001b[0m 47.1    \u001b[0m | \u001b[0m 2.201   \u001b[0m | \u001b[0m 0.6701  \u001b[0m |\n"
     ]
    },
    {
     "name": "stderr",
     "output_type": "stream",
     "text": [
      "/usr/local/lib/python3.7/dist-packages/lightgbm/engine.py:430: UserWarning: Found `n_estimators` in params. Will use it instead of argument\n",
      "  warnings.warn(\"Found `{}` in params. Will use it instead of argument\".format(alias))\n"
     ]
    },
    {
     "name": "stdout",
     "output_type": "stream",
     "text": [
      "[200]\tcv_agg's rmse: 41.7267 + 0.995598\n",
      "[400]\tcv_agg's rmse: 35.4885 + 0.962114\n",
      "[600]\tcv_agg's rmse: 34.2929 + 0.925337\n",
      "[800]\tcv_agg's rmse: 33.6873 + 0.879349\n",
      "[1000]\tcv_agg's rmse: 33.2525 + 0.914063\n",
      "| \u001b[0m 11      \u001b[0m | \u001b[0m-33.25   \u001b[0m | \u001b[0m 0.9444  \u001b[0m | \u001b[0m 214.3   \u001b[0m | \u001b[0m 5.244   \u001b[0m | \u001b[0m 25.69   \u001b[0m | \u001b[0m 45.5    \u001b[0m | \u001b[0m 46.44   \u001b[0m | \u001b[0m 37.74   \u001b[0m | \u001b[0m 9.788   \u001b[0m | \u001b[0m 0.5115  \u001b[0m |\n"
     ]
    },
    {
     "name": "stderr",
     "output_type": "stream",
     "text": [
      "/usr/local/lib/python3.7/dist-packages/lightgbm/engine.py:430: UserWarning: Found `n_estimators` in params. Will use it instead of argument\n",
      "  warnings.warn(\"Found `{}` in params. Will use it instead of argument\".format(alias))\n"
     ]
    },
    {
     "name": "stdout",
     "output_type": "stream",
     "text": [
      "[200]\tcv_agg's rmse: 45.7942 + 0.732305\n",
      "[400]\tcv_agg's rmse: 36.8219 + 0.730002\n",
      "[600]\tcv_agg's rmse: 34.4127 + 0.782914\n",
      "[800]\tcv_agg's rmse: 33.4429 + 0.822221\n",
      "[1000]\tcv_agg's rmse: 32.7807 + 0.837137\n",
      "| \u001b[0m 12      \u001b[0m | \u001b[0m-32.78   \u001b[0m | \u001b[0m 0.5721  \u001b[0m | \u001b[0m 139.9   \u001b[0m | \u001b[0m 19.59   \u001b[0m | \u001b[0m 193.8   \u001b[0m | \u001b[0m 31.88   \u001b[0m | \u001b[0m 28.32   \u001b[0m | \u001b[0m 43.43   \u001b[0m | \u001b[0m 0.1209  \u001b[0m | \u001b[0m 0.9593  \u001b[0m |\n"
     ]
    },
    {
     "name": "stderr",
     "output_type": "stream",
     "text": [
      "/usr/local/lib/python3.7/dist-packages/lightgbm/engine.py:430: UserWarning: Found `n_estimators` in params. Will use it instead of argument\n",
      "  warnings.warn(\"Found `{}` in params. Will use it instead of argument\".format(alias))\n"
     ]
    },
    {
     "name": "stdout",
     "output_type": "stream",
     "text": [
      "[200]\tcv_agg's rmse: 45.2517 + 0.846411\n",
      "[400]\tcv_agg's rmse: 36.9076 + 0.839772\n",
      "[600]\tcv_agg's rmse: 35.117 + 0.841777\n",
      "[800]\tcv_agg's rmse: 34.4806 + 0.846387\n",
      "[1000]\tcv_agg's rmse: 34.093 + 0.860112\n",
      "| \u001b[0m 13      \u001b[0m | \u001b[0m-34.09   \u001b[0m | \u001b[0m 0.7179  \u001b[0m | \u001b[0m 493.5   \u001b[0m | \u001b[0m 5.156   \u001b[0m | \u001b[0m 156.9   \u001b[0m | \u001b[0m 47.57   \u001b[0m | \u001b[0m 54.8    \u001b[0m | \u001b[0m 43.08   \u001b[0m | \u001b[0m 6.742   \u001b[0m | \u001b[0m 0.5377  \u001b[0m |\n"
     ]
    },
    {
     "name": "stderr",
     "output_type": "stream",
     "text": [
      "/usr/local/lib/python3.7/dist-packages/lightgbm/engine.py:430: UserWarning: Found `n_estimators` in params. Will use it instead of argument\n",
      "  warnings.warn(\"Found `{}` in params. Will use it instead of argument\".format(alias))\n"
     ]
    },
    {
     "name": "stdout",
     "output_type": "stream",
     "text": [
      "[200]\tcv_agg's rmse: 42.0609 + 0.748934\n",
      "[400]\tcv_agg's rmse: 33.7222 + 0.730497\n",
      "[600]\tcv_agg's rmse: 31.6489 + 0.72176\n",
      "[800]\tcv_agg's rmse: 30.6854 + 0.750798\n",
      "[1000]\tcv_agg's rmse: 30.0225 + 0.743198\n",
      "| \u001b[0m 14      \u001b[0m | \u001b[0m-30.02   \u001b[0m | \u001b[0m 0.7406  \u001b[0m | \u001b[0m 457.5   \u001b[0m | \u001b[0m 14.16   \u001b[0m | \u001b[0m 66.65   \u001b[0m | \u001b[0m 41.71   \u001b[0m | \u001b[0m 50.49   \u001b[0m | \u001b[0m 39.4    \u001b[0m | \u001b[0m 4.802   \u001b[0m | \u001b[0m 0.7528  \u001b[0m |\n"
     ]
    },
    {
     "name": "stderr",
     "output_type": "stream",
     "text": [
      "/usr/local/lib/python3.7/dist-packages/lightgbm/engine.py:430: UserWarning: Found `n_estimators` in params. Will use it instead of argument\n",
      "  warnings.warn(\"Found `{}` in params. Will use it instead of argument\".format(alias))\n"
     ]
    },
    {
     "name": "stdout",
     "output_type": "stream",
     "text": [
      "[200]\tcv_agg's rmse: 45.4751 + 0.738784\n",
      "[400]\tcv_agg's rmse: 36.122 + 0.731205\n",
      "[600]\tcv_agg's rmse: 33.4981 + 0.777094\n",
      "[800]\tcv_agg's rmse: 32.4524 + 0.81184\n",
      "[1000]\tcv_agg's rmse: 31.7465 + 0.832039\n",
      "| \u001b[0m 15      \u001b[0m | \u001b[0m-31.75   \u001b[0m | \u001b[0m 0.6046  \u001b[0m | \u001b[0m 396.4   \u001b[0m | \u001b[0m 16.39   \u001b[0m | \u001b[0m 160.4   \u001b[0m | \u001b[0m 43.54   \u001b[0m | \u001b[0m 49.7    \u001b[0m | \u001b[0m 15.7    \u001b[0m | \u001b[0m 7.569   \u001b[0m | \u001b[0m 0.7968  \u001b[0m |\n"
     ]
    },
    {
     "name": "stderr",
     "output_type": "stream",
     "text": [
      "/usr/local/lib/python3.7/dist-packages/lightgbm/engine.py:430: UserWarning: Found `n_estimators` in params. Will use it instead of argument\n",
      "  warnings.warn(\"Found `{}` in params. Will use it instead of argument\".format(alias))\n"
     ]
    },
    {
     "name": "stdout",
     "output_type": "stream",
     "text": [
      "[200]\tcv_agg's rmse: 42.3458 + 0.761025\n",
      "[400]\tcv_agg's rmse: 34.0479 + 0.759437\n",
      "[600]\tcv_agg's rmse: 31.9761 + 0.772779\n",
      "[800]\tcv_agg's rmse: 31.0538 + 0.785273\n",
      "[1000]\tcv_agg's rmse: 30.4271 + 0.803605\n",
      "| \u001b[0m 16      \u001b[0m | \u001b[0m-30.43   \u001b[0m | \u001b[0m 0.6777  \u001b[0m | \u001b[0m 129.3   \u001b[0m | \u001b[0m 19.4    \u001b[0m | \u001b[0m 58.65   \u001b[0m | \u001b[0m 3.669   \u001b[0m | \u001b[0m 38.88   \u001b[0m | \u001b[0m 7.922   \u001b[0m | \u001b[0m 3.934   \u001b[0m | \u001b[0m 0.6713  \u001b[0m |\n"
     ]
    },
    {
     "name": "stderr",
     "output_type": "stream",
     "text": [
      "/usr/local/lib/python3.7/dist-packages/lightgbm/engine.py:430: UserWarning: Found `n_estimators` in params. Will use it instead of argument\n",
      "  warnings.warn(\"Found `{}` in params. Will use it instead of argument\".format(alias))\n"
     ]
    },
    {
     "name": "stdout",
     "output_type": "stream",
     "text": [
      "[200]\tcv_agg's rmse: 40.6373 + 0.790822\n",
      "[400]\tcv_agg's rmse: 33.8646 + 0.859835\n",
      "[600]\tcv_agg's rmse: 32.3516 + 0.843548\n",
      "[800]\tcv_agg's rmse: 31.7315 + 0.873868\n",
      "[1000]\tcv_agg's rmse: 31.2947 + 0.88595\n",
      "| \u001b[0m 17      \u001b[0m | \u001b[0m-31.29   \u001b[0m | \u001b[0m 0.8673  \u001b[0m | \u001b[0m 242.2   \u001b[0m | \u001b[0m 8.114   \u001b[0m | \u001b[0m 72.41   \u001b[0m | \u001b[0m 33.9    \u001b[0m | \u001b[0m 34.03   \u001b[0m | \u001b[0m 17.97   \u001b[0m | \u001b[0m 3.542   \u001b[0m | \u001b[0m 0.6243  \u001b[0m |\n"
     ]
    },
    {
     "name": "stderr",
     "output_type": "stream",
     "text": [
      "/usr/local/lib/python3.7/dist-packages/lightgbm/engine.py:430: UserWarning: Found `n_estimators` in params. Will use it instead of argument\n",
      "  warnings.warn(\"Found `{}` in params. Will use it instead of argument\".format(alias))\n"
     ]
    },
    {
     "name": "stdout",
     "output_type": "stream",
     "text": [
      "[200]\tcv_agg's rmse: 51.3566 + 0.690214\n",
      "[400]\tcv_agg's rmse: 38.435 + 0.704125\n",
      "[600]\tcv_agg's rmse: 35.1897 + 0.755475\n",
      "[800]\tcv_agg's rmse: 33.7209 + 0.7782\n",
      "[1000]\tcv_agg's rmse: 32.836 + 0.810187\n",
      "| \u001b[0m 18      \u001b[0m | \u001b[0m-32.84   \u001b[0m | \u001b[0m 0.5117  \u001b[0m | \u001b[0m 358.0   \u001b[0m | \u001b[0m 10.14   \u001b[0m | \u001b[0m 121.6   \u001b[0m | \u001b[0m 19.77   \u001b[0m | \u001b[0m 37.32   \u001b[0m | \u001b[0m 43.48   \u001b[0m | \u001b[0m 6.945   \u001b[0m | \u001b[0m 0.8228  \u001b[0m |\n"
     ]
    },
    {
     "name": "stderr",
     "output_type": "stream",
     "text": [
      "/usr/local/lib/python3.7/dist-packages/lightgbm/engine.py:430: UserWarning: Found `n_estimators` in params. Will use it instead of argument\n",
      "  warnings.warn(\"Found `{}` in params. Will use it instead of argument\".format(alias))\n"
     ]
    },
    {
     "name": "stdout",
     "output_type": "stream",
     "text": [
      "[200]\tcv_agg's rmse: 39.5155 + 0.889368\n",
      "[400]\tcv_agg's rmse: 33.5919 + 0.883012\n",
      "[600]\tcv_agg's rmse: 32.1336 + 0.919099\n",
      "[800]\tcv_agg's rmse: 31.5153 + 0.889323\n",
      "[1000]\tcv_agg's rmse: 31.0578 + 0.888277\n",
      "| \u001b[0m 19      \u001b[0m | \u001b[0m-31.06   \u001b[0m | \u001b[0m 0.9459  \u001b[0m | \u001b[0m 482.4   \u001b[0m | \u001b[0m 10.69   \u001b[0m | \u001b[0m 44.8    \u001b[0m | \u001b[0m 1.178   \u001b[0m | \u001b[0m 26.86   \u001b[0m | \u001b[0m 47.09   \u001b[0m | \u001b[0m 5.059   \u001b[0m | \u001b[0m 0.7665  \u001b[0m |\n"
     ]
    },
    {
     "name": "stderr",
     "output_type": "stream",
     "text": [
      "/usr/local/lib/python3.7/dist-packages/lightgbm/engine.py:430: UserWarning: Found `n_estimators` in params. Will use it instead of argument\n",
      "  warnings.warn(\"Found `{}` in params. Will use it instead of argument\".format(alias))\n"
     ]
    },
    {
     "name": "stdout",
     "output_type": "stream",
     "text": [
      "[200]\tcv_agg's rmse: 40.2921 + 0.800178\n",
      "[400]\tcv_agg's rmse: 33.4218 + 0.849425\n",
      "[600]\tcv_agg's rmse: 31.8638 + 0.882482\n",
      "[800]\tcv_agg's rmse: 31.0313 + 0.911352\n",
      "[1000]\tcv_agg's rmse: 30.4652 + 0.908304\n",
      "| \u001b[0m 20      \u001b[0m | \u001b[0m-30.47   \u001b[0m | \u001b[0m 0.8859  \u001b[0m | \u001b[0m 432.1   \u001b[0m | \u001b[0m 10.54   \u001b[0m | \u001b[0m 90.1    \u001b[0m | \u001b[0m 45.0    \u001b[0m | \u001b[0m 56.03   \u001b[0m | \u001b[0m 46.27   \u001b[0m | \u001b[0m 7.256   \u001b[0m | \u001b[0m 0.8352  \u001b[0m |\n"
     ]
    },
    {
     "name": "stderr",
     "output_type": "stream",
     "text": [
      "/usr/local/lib/python3.7/dist-packages/lightgbm/engine.py:430: UserWarning: Found `n_estimators` in params. Will use it instead of argument\n",
      "  warnings.warn(\"Found `{}` in params. Will use it instead of argument\".format(alias))\n"
     ]
    },
    {
     "name": "stdout",
     "output_type": "stream",
     "text": [
      "[200]\tcv_agg's rmse: 43.4315 + 0.840202\n",
      "[400]\tcv_agg's rmse: 35.0137 + 0.885223\n",
      "[600]\tcv_agg's rmse: 32.9387 + 0.881223\n",
      "[800]\tcv_agg's rmse: 32.2743 + 0.855158\n",
      "[1000]\tcv_agg's rmse: 31.8549 + 0.867529\n",
      "| \u001b[0m 21      \u001b[0m | \u001b[0m-31.85   \u001b[0m | \u001b[0m 0.7311  \u001b[0m | \u001b[0m 202.0   \u001b[0m | \u001b[0m 5.799   \u001b[0m | \u001b[0m 23.37   \u001b[0m | \u001b[0m 34.89   \u001b[0m | \u001b[0m 48.81   \u001b[0m | \u001b[0m 2.336   \u001b[0m | \u001b[0m 4.16    \u001b[0m | \u001b[0m 0.9549  \u001b[0m |\n"
     ]
    },
    {
     "name": "stderr",
     "output_type": "stream",
     "text": [
      "/usr/local/lib/python3.7/dist-packages/lightgbm/engine.py:430: UserWarning: Found `n_estimators` in params. Will use it instead of argument\n",
      "  warnings.warn(\"Found `{}` in params. Will use it instead of argument\".format(alias))\n"
     ]
    },
    {
     "name": "stdout",
     "output_type": "stream",
     "text": [
      "[200]\tcv_agg's rmse: 42.1917 + 0.744156\n",
      "[400]\tcv_agg's rmse: 34.1832 + 0.775394\n",
      "[600]\tcv_agg's rmse: 32.2839 + 0.80814\n",
      "[800]\tcv_agg's rmse: 31.4808 + 0.812448\n",
      "[1000]\tcv_agg's rmse: 30.9022 + 0.85842\n",
      "| \u001b[0m 22      \u001b[0m | \u001b[0m-30.9    \u001b[0m | \u001b[0m 0.742   \u001b[0m | \u001b[0m 42.06   \u001b[0m | \u001b[0m 11.29   \u001b[0m | \u001b[0m 114.4   \u001b[0m | \u001b[0m 15.56   \u001b[0m | \u001b[0m 49.01   \u001b[0m | \u001b[0m 42.79   \u001b[0m | \u001b[0m 1.311   \u001b[0m | \u001b[0m 0.7267  \u001b[0m |\n"
     ]
    },
    {
     "name": "stderr",
     "output_type": "stream",
     "text": [
      "/usr/local/lib/python3.7/dist-packages/lightgbm/engine.py:430: UserWarning: Found `n_estimators` in params. Will use it instead of argument\n",
      "  warnings.warn(\"Found `{}` in params. Will use it instead of argument\".format(alias))\n"
     ]
    },
    {
     "name": "stdout",
     "output_type": "stream",
     "text": [
      "[200]\tcv_agg's rmse: 40.4568 + 0.790363\n",
      "[400]\tcv_agg's rmse: 33.6317 + 0.863092\n",
      "[600]\tcv_agg's rmse: 32.1025 + 0.865396\n",
      "[800]\tcv_agg's rmse: 31.4125 + 0.892366\n",
      "[1000]\tcv_agg's rmse: 30.9337 + 0.899286\n",
      "| \u001b[0m 23      \u001b[0m | \u001b[0m-30.93   \u001b[0m | \u001b[0m 0.8245  \u001b[0m | \u001b[0m 400.6   \u001b[0m | \u001b[0m 8.705   \u001b[0m | \u001b[0m 74.58   \u001b[0m | \u001b[0m 15.77   \u001b[0m | \u001b[0m 36.78   \u001b[0m | \u001b[0m 13.92   \u001b[0m | \u001b[0m 4.267   \u001b[0m | \u001b[0m 0.8002  \u001b[0m |\n"
     ]
    },
    {
     "name": "stderr",
     "output_type": "stream",
     "text": [
      "/usr/local/lib/python3.7/dist-packages/lightgbm/engine.py:430: UserWarning: Found `n_estimators` in params. Will use it instead of argument\n",
      "  warnings.warn(\"Found `{}` in params. Will use it instead of argument\".format(alias))\n"
     ]
    },
    {
     "name": "stdout",
     "output_type": "stream",
     "text": [
      "[200]\tcv_agg's rmse: 42.5431 + 0.754654\n",
      "[400]\tcv_agg's rmse: 34.6612 + 0.801166\n",
      "[600]\tcv_agg's rmse: 32.7922 + 0.856692\n",
      "[800]\tcv_agg's rmse: 31.9298 + 0.892061\n",
      "[1000]\tcv_agg's rmse: 31.2988 + 0.919713\n",
      "| \u001b[0m 24      \u001b[0m | \u001b[0m-31.3    \u001b[0m | \u001b[0m 0.697   \u001b[0m | \u001b[0m 20.33   \u001b[0m | \u001b[0m 16.37   \u001b[0m | \u001b[0m 154.8   \u001b[0m | \u001b[0m 46.1    \u001b[0m | \u001b[0m 46.83   \u001b[0m | \u001b[0m 13.2    \u001b[0m | \u001b[0m 1.441   \u001b[0m | \u001b[0m 0.7778  \u001b[0m |\n"
     ]
    },
    {
     "name": "stderr",
     "output_type": "stream",
     "text": [
      "/usr/local/lib/python3.7/dist-packages/lightgbm/engine.py:430: UserWarning: Found `n_estimators` in params. Will use it instead of argument\n",
      "  warnings.warn(\"Found `{}` in params. Will use it instead of argument\".format(alias))\n"
     ]
    },
    {
     "name": "stdout",
     "output_type": "stream",
     "text": [
      "[200]\tcv_agg's rmse: 45.4601 + 0.754494\n",
      "[400]\tcv_agg's rmse: 35.9993 + 0.746988\n",
      "[600]\tcv_agg's rmse: 33.2523 + 0.793165\n",
      "[800]\tcv_agg's rmse: 32.1126 + 0.824297\n",
      "[1000]\tcv_agg's rmse: 31.3982 + 0.836476\n",
      "| \u001b[0m 25      \u001b[0m | \u001b[0m-31.4    \u001b[0m | \u001b[0m 0.6631  \u001b[0m | \u001b[0m 463.8   \u001b[0m | \u001b[0m 18.85   \u001b[0m | \u001b[0m 139.5   \u001b[0m | \u001b[0m 3.488   \u001b[0m | \u001b[0m 61.6    \u001b[0m | \u001b[0m 38.41   \u001b[0m | \u001b[0m 9.672   \u001b[0m | \u001b[0m 0.7942  \u001b[0m |\n"
     ]
    },
    {
     "name": "stderr",
     "output_type": "stream",
     "text": [
      "/usr/local/lib/python3.7/dist-packages/lightgbm/engine.py:430: UserWarning: Found `n_estimators` in params. Will use it instead of argument\n",
      "  warnings.warn(\"Found `{}` in params. Will use it instead of argument\".format(alias))\n"
     ]
    },
    {
     "name": "stdout",
     "output_type": "stream",
     "text": [
      "[200]\tcv_agg's rmse: 43.3963 + 0.75015\n",
      "[400]\tcv_agg's rmse: 35.3359 + 0.778882\n",
      "[600]\tcv_agg's rmse: 33.4136 + 0.852581\n",
      "[800]\tcv_agg's rmse: 32.4757 + 0.85827\n",
      "[1000]\tcv_agg's rmse: 31.7724 + 0.89518\n",
      "| \u001b[0m 26      \u001b[0m | \u001b[0m-31.77   \u001b[0m | \u001b[0m 0.7205  \u001b[0m | \u001b[0m 491.8   \u001b[0m | \u001b[0m 17.81   \u001b[0m | \u001b[0m 195.8   \u001b[0m | \u001b[0m 1.898   \u001b[0m | \u001b[0m 53.49   \u001b[0m | \u001b[0m 45.55   \u001b[0m | \u001b[0m 7.023   \u001b[0m | \u001b[0m 0.9826  \u001b[0m |\n"
     ]
    },
    {
     "name": "stderr",
     "output_type": "stream",
     "text": [
      "/usr/local/lib/python3.7/dist-packages/lightgbm/engine.py:430: UserWarning: Found `n_estimators` in params. Will use it instead of argument\n",
      "  warnings.warn(\"Found `{}` in params. Will use it instead of argument\".format(alias))\n"
     ]
    },
    {
     "name": "stdout",
     "output_type": "stream",
     "text": [
      "[200]\tcv_agg's rmse: 39.76 + 0.75614\n",
      "[400]\tcv_agg's rmse: 32.8529 + 0.791415\n",
      "[600]\tcv_agg's rmse: 31.1267 + 0.783953\n",
      "[800]\tcv_agg's rmse: 30.1514 + 0.783354\n",
      "[1000]\tcv_agg's rmse: 29.5226 + 0.778733\n",
      "| \u001b[95m 27      \u001b[0m | \u001b[95m-29.52   \u001b[0m | \u001b[95m 0.8139  \u001b[0m | \u001b[95m 81.16   \u001b[0m | \u001b[95m 19.16   \u001b[0m | \u001b[95m 73.64   \u001b[0m | \u001b[95m 42.82   \u001b[0m | \u001b[95m 63.18   \u001b[0m | \u001b[95m 13.38   \u001b[0m | \u001b[95m 5.832   \u001b[0m | \u001b[95m 0.5939  \u001b[0m |\n"
     ]
    },
    {
     "name": "stderr",
     "output_type": "stream",
     "text": [
      "/usr/local/lib/python3.7/dist-packages/lightgbm/engine.py:430: UserWarning: Found `n_estimators` in params. Will use it instead of argument\n",
      "  warnings.warn(\"Found `{}` in params. Will use it instead of argument\".format(alias))\n"
     ]
    },
    {
     "name": "stdout",
     "output_type": "stream",
     "text": [
      "[200]\tcv_agg's rmse: 42.6986 + 0.791406\n",
      "[400]\tcv_agg's rmse: 34.486 + 0.788415\n",
      "[600]\tcv_agg's rmse: 32.5436 + 0.818295\n",
      "[800]\tcv_agg's rmse: 31.8577 + 0.824314\n",
      "[1000]\tcv_agg's rmse: 31.4079 + 0.88305\n",
      "| \u001b[0m 28      \u001b[0m | \u001b[0m-31.41   \u001b[0m | \u001b[0m 0.6828  \u001b[0m | \u001b[0m 298.4   \u001b[0m | \u001b[0m 7.877   \u001b[0m | \u001b[0m 88.09   \u001b[0m | \u001b[0m 17.05   \u001b[0m | \u001b[0m 46.06   \u001b[0m | \u001b[0m 42.74   \u001b[0m | \u001b[0m 6.824   \u001b[0m | \u001b[0m 0.974   \u001b[0m |\n"
     ]
    },
    {
     "name": "stderr",
     "output_type": "stream",
     "text": [
      "/usr/local/lib/python3.7/dist-packages/lightgbm/engine.py:430: UserWarning: Found `n_estimators` in params. Will use it instead of argument\n",
      "  warnings.warn(\"Found `{}` in params. Will use it instead of argument\".format(alias))\n"
     ]
    },
    {
     "name": "stdout",
     "output_type": "stream",
     "text": [
      "[200]\tcv_agg's rmse: 38.9552 + 0.740557\n",
      "[400]\tcv_agg's rmse: 31.988 + 0.774492\n",
      "[600]\tcv_agg's rmse: 30.3082 + 0.768732\n",
      "[800]\tcv_agg's rmse: 29.4459 + 0.745707\n",
      "[1000]\tcv_agg's rmse: 28.9044 + 0.742276\n",
      "| \u001b[95m 29      \u001b[0m | \u001b[95m-28.9    \u001b[0m | \u001b[95m 0.784   \u001b[0m | \u001b[95m 109.4   \u001b[0m | \u001b[95m 11.94   \u001b[0m | \u001b[95m 47.27   \u001b[0m | \u001b[95m 44.13   \u001b[0m | \u001b[95m 61.17   \u001b[0m | \u001b[95m 7.968   \u001b[0m | \u001b[95m 1.482   \u001b[0m | \u001b[95m 0.8357  \u001b[0m |\n"
     ]
    },
    {
     "name": "stderr",
     "output_type": "stream",
     "text": [
      "/usr/local/lib/python3.7/dist-packages/lightgbm/engine.py:430: UserWarning: Found `n_estimators` in params. Will use it instead of argument\n",
      "  warnings.warn(\"Found `{}` in params. Will use it instead of argument\".format(alias))\n"
     ]
    },
    {
     "name": "stdout",
     "output_type": "stream",
     "text": [
      "[200]\tcv_agg's rmse: 44.453 + 0.773858\n",
      "[400]\tcv_agg's rmse: 34.683 + 0.743977\n",
      "[600]\tcv_agg's rmse: 31.8045 + 0.727943\n",
      "[800]\tcv_agg's rmse: 30.5437 + 0.724247\n",
      "[1000]\tcv_agg's rmse: 29.7926 + 0.720128\n",
      "| \u001b[0m 30      \u001b[0m | \u001b[0m-29.79   \u001b[0m | \u001b[0m 0.5604  \u001b[0m | \u001b[0m 105.9   \u001b[0m | \u001b[0m 16.7    \u001b[0m | \u001b[0m 19.06   \u001b[0m | \u001b[0m 35.31   \u001b[0m | \u001b[0m 54.56   \u001b[0m | \u001b[0m 0.3503  \u001b[0m | \u001b[0m 7.086   \u001b[0m | \u001b[0m 0.8546  \u001b[0m |\n",
      "=====================================================================================================================================\n",
      "[-31.87169204267834, -31.87382437021722, -30.277996485643634, -33.11050533612279, -31.253788171938897, -32.062786070781705, -29.835671627037197, -32.53852369903043, -31.398350710476382, -31.447216391801412, -33.252542340203206, -32.7806688602427, -34.09301746743445, -30.022515417212997, -31.746535365498584, -30.427139192512964, -31.294692598603355, -32.83603563549347, -31.057781960787757, -30.46524687245425, -31.854875332231966, -30.90215652480636, -30.93366352742309, -31.298820982121544, -31.398243149454412, -31.77237908788145, -29.5225649288736, -31.407882932308638, -28.904437835413052, -29.792557684474623]\n",
      "maximum target index: 28\n",
      "{'target': -28.904437835413052, 'params': {'colsample_bytree': 0.7840043724584478, 'max_bin': 109.42082906265013, 'max_depth': 11.939485103471496, 'min_child_samples': 47.27436173622021, 'min_child_weight': 44.12615815161272, 'num_leaves': 61.168181706089655, 'reg_alpha': 7.967786769707356, 'reg_lambda': 1.4818125424587414, 'subsample': 0.835744966051806}}\n"
     ]
    }
   ],
   "source": [
    "bayesian_params = {\n",
    "    'max_depth': (5, 20),\n",
    "    'num_leaves': (24, 64),\n",
    "    'min_child_samples': (10, 200),\n",
    "    'min_child_weight': (1, 50),\n",
    "    'subsample': (0.5, 1.0),\n",
    "    'colsample_bytree': (0.5, 1.0),\n",
    "    'max_bin': (10, 500),\n",
    "    'reg_lambda': (0.001, 10),\n",
    "    'reg_alpha': (0.01, 50)\n",
    "}\n",
    "\n",
    "\n",
    "def lgb_eval(max_depth, num_leaves, min_child_samples, min_child_weight, subsample,\n",
    "             colsample_bytree, max_bin, reg_lambda, reg_alpha):\n",
    "    params = {\n",
    "        \"n_estimators\": 1000, \"learning_rate\": 0.01,\n",
    "        # 호출 시 실수형 값이 들어오므로 정수형 하이퍼 파라미터는 정수형으로 변경\n",
    "        'max_depth': int(round(max_depth)),\n",
    "        'num_leaves': int(round(num_leaves)),\n",
    "        'min_child_samples': int(round(min_child_samples)),\n",
    "        'min_child_weight': int(round(min_child_weight)),\n",
    "        'subsample': max(min(subsample, 1), 0),\n",
    "        'colsample_bytree': max(min(colsample_bytree, 1), 0),\n",
    "        'max_bin':  max(int(round(max_bin)), 10),\n",
    "        'reg_lambda': max(reg_lambda, 0),\n",
    "        'reg_alpha': max(reg_alpha, 0),\n",
    "        \"metric\": 'rmse'\n",
    "    }\n",
    "    cv_result = lgb.cv(params, train_data, nfold=5, seed=0,\n",
    "                       verbose_eval=200, stratified=False)\n",
    "    return (-1.0 * np.array(cv_result['rmse-mean'])).max()\n",
    "\n",
    "\n",
    "train_x, train_y, val_x, val_y = train_datast(\n",
    "    energy, ulsan_interpolated, target='ulsan')\n",
    "train_data = lgb.Dataset(train_x, train_y)\n",
    "\n",
    "lgbB1 = BayesianOptimization(lgb_eval, bayesian_params, random_state=42)\n",
    "\n",
    "\n",
    "lgbB1.maximize(init_points=5, n_iter=25)\n",
    "####################################################\n",
    "# dictionary에 있는 target값을 모두 추출\n",
    "target_list = []\n",
    "for result in lgbB1.res:\n",
    "    target = result['target']\n",
    "    target_list.append(target)\n",
    "print(target_list)\n",
    "# 가장 큰 target 값을 가지는 순번(index)를 추출\n",
    "print('maximum target index:', np.argmax(np.array(target_list)))\n",
    "\n",
    "#################################################################\n",
    "# 가장 큰 target값을 가지는 index값을 기준으로 res에서 해당 parameter 추출.\n",
    "max_dict = lgbB1.res[np.argmax(np.array(target_list))]\n",
    "print(max_dict)"
   ]
  },
  {
   "cell_type": "code",
   "execution_count": null,
   "metadata": {
    "colab": {
     "base_uri": "https://localhost:8080/"
    },
    "id": "wxF51gPG2XRo",
    "outputId": "150a6a1b-b16d-4e95-e0da-324f58c37cec"
   },
   "outputs": [
    {
     "name": "stdout",
     "output_type": "stream",
     "text": [
      "0:\tlearn: 101.0039086\ttest: 101.0039086\ttest1: 96.0822450\tbest: 96.0822450 (0)\ttotal: 11.7ms\tremaining: 58.3s\n",
      "100:\tlearn: 70.8193317\ttest: 70.8193317\ttest1: 65.9290273\tbest: 65.9290273 (100)\ttotal: 820ms\tremaining: 39.8s\n",
      "200:\tlearn: 53.9414769\ttest: 53.9414769\ttest1: 49.1864615\tbest: 49.1864615 (200)\ttotal: 1.63s\tremaining: 38.9s\n",
      "300:\tlearn: 44.9688314\ttest: 44.9688314\ttest1: 39.7857145\tbest: 39.7857145 (300)\ttotal: 2.43s\tremaining: 37.9s\n",
      "400:\tlearn: 40.2113270\ttest: 40.2113270\ttest1: 34.8627865\tbest: 34.8627865 (400)\ttotal: 3.21s\tremaining: 36.8s\n",
      "500:\tlearn: 37.6005385\ttest: 37.6005385\ttest1: 32.0825621\tbest: 32.0825621 (500)\ttotal: 3.99s\tremaining: 35.8s\n",
      "600:\tlearn: 36.0855466\ttest: 36.0855466\ttest1: 30.3288617\tbest: 30.3288617 (600)\ttotal: 4.77s\tremaining: 34.9s\n",
      "700:\tlearn: 35.0208697\ttest: 35.0208697\ttest1: 29.2048439\tbest: 29.2048439 (700)\ttotal: 5.53s\tremaining: 33.9s\n",
      "800:\tlearn: 34.2444007\ttest: 34.2444007\ttest1: 28.4722677\tbest: 28.4720060 (799)\ttotal: 6.29s\tremaining: 33s\n",
      "900:\tlearn: 33.6382140\ttest: 33.6382140\ttest1: 27.9481123\tbest: 27.9481123 (900)\ttotal: 7.04s\tremaining: 32s\n",
      "1000:\tlearn: 33.0927094\ttest: 33.0927094\ttest1: 27.5857383\tbest: 27.5856526 (999)\ttotal: 7.8s\tremaining: 31.2s\n",
      "1100:\tlearn: 32.6202044\ttest: 32.6202044\ttest1: 27.3373025\tbest: 27.3338429 (1097)\ttotal: 8.57s\tremaining: 30.4s\n",
      "1200:\tlearn: 32.1614484\ttest: 32.1614484\ttest1: 27.1582561\tbest: 27.1582561 (1200)\ttotal: 9.35s\tremaining: 29.6s\n",
      "1300:\tlearn: 31.7901028\ttest: 31.7901028\ttest1: 26.9859548\tbest: 26.9859548 (1300)\ttotal: 10.1s\tremaining: 28.8s\n",
      "1400:\tlearn: 31.4677148\ttest: 31.4677148\ttest1: 26.8909031\tbest: 26.8909031 (1400)\ttotal: 10.9s\tremaining: 28s\n",
      "1500:\tlearn: 31.1292668\ttest: 31.1292668\ttest1: 26.8155988\tbest: 26.8155988 (1500)\ttotal: 11.7s\tremaining: 27.3s\n",
      "1600:\tlearn: 30.8219790\ttest: 30.8219790\ttest1: 26.7209267\tbest: 26.7209267 (1600)\ttotal: 12.5s\tremaining: 26.6s\n",
      "1700:\tlearn: 30.5209256\ttest: 30.5209256\ttest1: 26.6783905\tbest: 26.6771736 (1696)\ttotal: 13.3s\tremaining: 25.7s\n",
      "1800:\tlearn: 30.2306492\ttest: 30.2306492\ttest1: 26.6260189\tbest: 26.6244922 (1793)\ttotal: 14s\tremaining: 24.9s\n",
      "1900:\tlearn: 29.9432832\ttest: 29.9432832\ttest1: 26.5960586\tbest: 26.5960586 (1900)\ttotal: 14.8s\tremaining: 24.2s\n",
      "2000:\tlearn: 29.6832636\ttest: 29.6832636\ttest1: 26.5443525\tbest: 26.5443525 (2000)\ttotal: 15.6s\tremaining: 23.4s\n",
      "2100:\tlearn: 29.4184952\ttest: 29.4184952\ttest1: 26.5198614\tbest: 26.5198614 (2100)\ttotal: 16.4s\tremaining: 22.6s\n",
      "2200:\tlearn: 29.1644344\ttest: 29.1644344\ttest1: 26.4456666\tbest: 26.4456666 (2200)\ttotal: 17.1s\tremaining: 21.8s\n",
      "2300:\tlearn: 28.8938331\ttest: 28.8938331\ttest1: 26.4156963\tbest: 26.4148699 (2298)\ttotal: 17.9s\tremaining: 21s\n",
      "2400:\tlearn: 28.6569859\ttest: 28.6569859\ttest1: 26.3724854\tbest: 26.3724854 (2400)\ttotal: 18.7s\tremaining: 20.2s\n",
      "2500:\tlearn: 28.4285206\ttest: 28.4285206\ttest1: 26.3470317\tbest: 26.3470317 (2500)\ttotal: 19.5s\tremaining: 19.4s\n",
      "2600:\tlearn: 28.2067609\ttest: 28.2067609\ttest1: 26.3272053\tbest: 26.3248012 (2597)\ttotal: 20.2s\tremaining: 18.7s\n",
      "2700:\tlearn: 27.9965499\ttest: 27.9965499\ttest1: 26.2990991\tbest: 26.2975076 (2695)\ttotal: 21s\tremaining: 17.9s\n",
      "2800:\tlearn: 27.7914302\ttest: 27.7914302\ttest1: 26.2975689\tbest: 26.2892857 (2725)\ttotal: 21.8s\tremaining: 17.1s\n",
      "Stopped by overfitting detector  (100 iterations wait)\n",
      "\n",
      "bestTest = 26.28928574\n",
      "bestIteration = 2725\n",
      "\n",
      "Shrink model to first 2726 iterations.\n"
     ]
    },
    {
     "data": {
      "text/plain": [
       "<catboost.core.CatBoostRegressor at 0x7f605e2ca890>"
      ]
     },
     "execution_count": 48,
     "metadata": {
      "tags": []
     },
     "output_type": "execute_result"
    }
   ],
   "source": [
    "train_x, train_y, val_x, val_y = train_datast(\n",
    "    energy, ulsan_interpolated, target='ulsan')\n",
    "cat4 = CatBoostRegressor(n_estimators=5000, random_seed=42,\n",
    "                         learning_rate=0.005, depth=8, loss_function='MultiRMSE',)\n",
    "cat4.fit(train_x, train_y,\n",
    "         eval_set=[(train_x, train_y), (val_x, val_y)],\n",
    "         early_stopping_rounds=100, verbose=100)"
   ]
  },
  {
   "cell_type": "code",
   "execution_count": null,
   "metadata": {
    "colab": {
     "base_uri": "https://localhost:8080/"
    },
    "id": "Untm9rje4B6U",
    "outputId": "979fa7c6-5e54-4b4f-f465-9bf1740e83e2"
   },
   "outputs": [
    {
     "name": "stdout",
     "output_type": "stream",
     "text": [
      "Training until validation scores don't improve for 100 rounds.\n",
      "[100]\ttraining's l2: 4608.97\tvalid_1's l2: 4110.71\n",
      "[200]\ttraining's l2: 2428.73\tvalid_1's l2: 2137.56\n",
      "[300]\ttraining's l2: 1536.19\tvalid_1's l2: 1355.2\n",
      "[400]\ttraining's l2: 1132.76\tvalid_1's l2: 998.926\n",
      "[500]\ttraining's l2: 928.258\tvalid_1's l2: 841.563\n",
      "[600]\ttraining's l2: 812.632\tvalid_1's l2: 755.793\n",
      "[700]\ttraining's l2: 737.617\tvalid_1's l2: 720.619\n",
      "[800]\ttraining's l2: 684.487\tvalid_1's l2: 700.004\n",
      "[900]\ttraining's l2: 642.585\tvalid_1's l2: 687.366\n",
      "[1000]\ttraining's l2: 604.167\tvalid_1's l2: 682.872\n",
      "[1100]\ttraining's l2: 571.868\tvalid_1's l2: 680.079\n",
      "[1200]\ttraining's l2: 545.691\tvalid_1's l2: 673.377\n",
      "[1300]\ttraining's l2: 524.467\tvalid_1's l2: 667.374\n",
      "[1400]\ttraining's l2: 503.95\tvalid_1's l2: 664.016\n",
      "[1500]\ttraining's l2: 485.712\tvalid_1's l2: 663.79\n",
      "Early stopping, best iteration is:\n",
      "[1442]\ttraining's l2: 496.22\tvalid_1's l2: 662.85\n"
     ]
    },
    {
     "data": {
      "text/plain": [
       "LGBMRegressor(boosting_type='gbdt', class_weight=None, colsample_bytree=1,\n",
       "              depth=8, importance_type='split', learning_rate=0.005,\n",
       "              loss_function='MultiRMSE', max_depth=17, min_child_samples=17,\n",
       "              min_child_weight=14, min_split_gain=0.0, n_estimators=5000,\n",
       "              n_jobs=-1, num_leaves=63, objective=None, random_seed=42,\n",
       "              random_state=None, reg_alpha=49.75855787791481,\n",
       "              reg_lambda=0.026935271560602856, silent=True, subsample=1.0,\n",
       "              subsample_for_bin=200000, subsample_freq=0)"
      ]
     },
     "execution_count": 39,
     "metadata": {
      "tags": []
     },
     "output_type": "execute_result"
    }
   ],
   "source": [
    "train_x, train_y, val_x, val_y = train_datast(\n",
    "    energy, ulsan_interpolated, target='ulsan')\n",
    "ulsan_model = LGBMRegressor(n_estimators=5000, random_seed=42, learning_rate=0.005, depth=8, loss_function='MultiRMSE',\n",
    "                            colsample_bytree=1, max_depth=17, min_child_samples=17, min_child_weight=14, num_leaves=63, reg_alpha=49.75855787791481, reg_lambda=0.026935271560602856, subsample=1.0)\n",
    "ulsan_model.fit(train_x, train_y,\n",
    "                eval_set=[(train_x, train_y), (val_x, val_y)],\n",
    "                early_stopping_rounds=100, verbose=100)"
   ]
  },
  {
   "cell_type": "markdown",
   "metadata": {
    "id": "BO9Tqf0kxEt0"
   },
   "source": [
    "## 테스트 데이터 전처리"
   ]
  },
  {
   "cell_type": "code",
   "execution_count": null,
   "metadata": {
    "id": "joXBFlSYxEt0"
   },
   "outputs": [],
   "source": [
    "def test_datast(fcst_df):\n",
    "    start = '2021-02-01 00:00:00'\n",
    "    end = '2021-02-28 23:00:00'\n",
    "\n",
    "    start_idx = fcst_df[fcst_df['Forecast_time'] == start].index[0]\n",
    "    end_idx = fcst_df[fcst_df['Forecast_time'] == end].index[0]\n",
    "\n",
    "    test_df = fcst_df.loc[start_idx:end_idx, :].copy()\n",
    "\n",
    "    test_df['date'] = test_df['Forecast_time'].str.split(' ').str[0]\n",
    "    test_df['hour'] = test_df['Forecast_time'].str.split(\n",
    "        ' ').str[1].str.split(':').str[0].astype(int)\n",
    "\n",
    "    test_df['year'] = test_df['date'].str.split('-').str[0].astype(int)\n",
    "    test_df['month'] = test_df['date'].str.split('-').str[1].astype(int)\n",
    "    test_df['day'] = test_df['date'].str.split('-').str[2].astype(int)\n",
    "\n",
    "    test_df = test_df[['year', 'month', 'day', 'hour', 'Temperature',\n",
    "                       'Humidity', 'WindSpeed', 'WindDirection', 'Cloud']]\n",
    "\n",
    "    test_x = test_df.to_numpy()\n",
    "\n",
    "    return test_x"
   ]
  },
  {
   "cell_type": "code",
   "execution_count": null,
   "metadata": {
    "id": "LpkUloADxEt1"
   },
   "outputs": [],
   "source": [
    "dangjin_test = test_datast(dangjin_interpolated)\n",
    "ulsan_test = test_datast(ulsan_interpolated)"
   ]
  },
  {
   "cell_type": "markdown",
   "metadata": {
    "id": "lEoy9yFexEt1"
   },
   "source": [
    "## 각 발전소 발전량 추론"
   ]
  },
  {
   "cell_type": "code",
   "execution_count": null,
   "metadata": {
    "id": "nEptfHh9xEt1"
   },
   "outputs": [],
   "source": [
    "# lgbm 이용\n",
    "dangjin_floating_pred = dangjin_floating_model.predict(dangjin_test)\n",
    "dangjin_warehouse_pred = dangjin_warehouse_model.predict(dangjin_test)\n",
    "dangjin_pred = dangjin_model.predict(dangjin_test)\n",
    "ulsan_pred = ulsan_model.predict(ulsan_test)"
   ]
  },
  {
   "cell_type": "code",
   "execution_count": null,
   "metadata": {
    "id": "aI6-C8m-33Zx"
   },
   "outputs": [],
   "source": [
    "# catboost 이용\n",
    "dangjin_floating_pred += cat1.predict(dangjin_test)\n",
    "dangjin_warehouse_pred += cat2.predict(dangjin_test)\n",
    "dangjin_pred += cat3.predict(dangjin_test)\n",
    "ulsan_pred += cat4.predict(ulsan_test)"
   ]
  },
  {
   "cell_type": "markdown",
   "metadata": {
    "id": "hSCZsBMMxEt1"
   },
   "source": [
    "## 정답 파일 생성 제출"
   ]
  },
  {
   "cell_type": "code",
   "execution_count": null,
   "metadata": {
    "id": "HgA1xvQ2xEt1"
   },
   "outputs": [],
   "source": [
    "submission = pd.read_csv('./data/sample_submission.csv')"
   ]
  },
  {
   "cell_type": "code",
   "execution_count": null,
   "metadata": {
    "id": "wy6wYaulxEt1"
   },
   "outputs": [],
   "source": [
    "submission.iloc[:24*28, 1] = dangjin_floating_pred/2\n",
    "submission.iloc[:24*28, 2] = dangjin_warehouse_pred/2\n",
    "submission.iloc[:24*28, 3] = dangjin_pred/2\n",
    "submission.iloc[:24*28, 4] = ulsan_pred/2"
   ]
  },
  {
   "cell_type": "code",
   "execution_count": null,
   "metadata": {
    "id": "Midj_flsxEt2"
   },
   "outputs": [],
   "source": [
    "submission.to_csv('cat_lgbm_ensemble.csv', index=False)"
   ]
  }
 ],
 "metadata": {
  "accelerator": "GPU",
  "colab": {
   "collapsed_sections": [],
   "name": "동서발전.ipynb",
   "provenance": []
  },
  "kernelspec": {
   "display_name": "Python 3",
   "language": "python",
   "name": "python3"
  },
  "language_info": {
   "codemirror_mode": {
    "name": "ipython",
    "version": 3
   },
   "file_extension": ".py",
   "mimetype": "text/x-python",
   "name": "python",
   "nbconvert_exporter": "python",
   "pygments_lexer": "ipython3",
   "version": "3.8.5"
  },
  "toc": {
   "base_numbering": 1,
   "nav_menu": {},
   "number_sections": true,
   "sideBar": true,
   "skip_h1_title": false,
   "title_cell": "Table of Contents",
   "title_sidebar": "Contents",
   "toc_cell": false,
   "toc_position": {},
   "toc_section_display": true,
   "toc_window_display": false
  }
 },
 "nbformat": 4,
 "nbformat_minor": 1
}
