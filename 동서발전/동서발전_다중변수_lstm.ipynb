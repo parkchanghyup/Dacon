{
 "cells": [
  {
   "cell_type": "markdown",
   "metadata": {
    "id": "5xdkWrmLduoW"
   },
   "source": [
    "pytorch기반 간단한 lstm 모델입니다. 중간중간 불필요한 코드는 주석 처리 하였습니다."
   ]
  },
  {
   "cell_type": "markdown",
   "metadata": {
    "id": "Jt1wBHnHduoZ"
   },
   "source": [
    "## 라이브러리 로딩"
   ]
  },
  {
   "cell_type": "code",
   "execution_count": 3,
   "metadata": {
    "ExecuteTime": {
     "end_time": "2022-02-21T13:24:30.048130Z",
     "start_time": "2022-02-21T13:24:27.195521Z"
    },
    "executionInfo": {
     "elapsed": 286,
     "status": "ok",
     "timestamp": 1645525401873,
     "user": {
      "displayName": "박창협",
      "photoUrl": "https://lh3.googleusercontent.com/a-/AOh14GhbK_TrERC077cbvIpvPagMcuMei5NF45-VnGIXRg=s64",
      "userId": "12869697117966953026"
     },
     "user_tz": -540
    },
    "id": "uXia0OHkkSDo"
   },
   "outputs": [],
   "source": [
    "import seaborn as sns\n",
    "import numpy as np\n",
    "import pandas as pd\n",
    "import matplotlib.pyplot as plt\n",
    "from datetime import datetime, timedelta\n",
    "\n",
    "import torch\n",
    "import torch.nn as nn\n",
    "import torch.optim as optim"
   ]
  },
  {
   "cell_type": "markdown",
   "metadata": {
    "id": "XMA-gTz7kSDr"
   },
   "source": [
    "### 예측해야될 데이터\n",
    "---\n",
    "- dangjin_floating : 당진수상태양광 발전량(KW)\n",
    "- dangjin_warehouse : 당진자재창고태양광 발전량(KW)\n",
    "- dangjin : 당진태양광 발전량(KW)\n",
    "- ulsan : 울산태양광 발전량(KW)"
   ]
  },
  {
   "cell_type": "code",
   "execution_count": 10,
   "metadata": {
    "colab": {
     "base_uri": "https://localhost:8080/",
     "height": 424
    },
    "executionInfo": {
     "elapsed": 1176,
     "status": "ok",
     "timestamp": 1645525424272,
     "user": {
      "displayName": "박창협",
      "photoUrl": "https://lh3.googleusercontent.com/a-/AOh14GhbK_TrERC077cbvIpvPagMcuMei5NF45-VnGIXRg=s64",
      "userId": "12869697117966953026"
     },
     "user_tz": -540
    },
    "id": "hyo9aAmKcqjG",
    "outputId": "dbfec373-1662-47b2-b6f9-8c10fa8715d6"
   },
   "outputs": [
    {
     "data": {
      "text/html": [
       "\n",
       "  <div id=\"df-38940dae-3a03-4257-b9b2-d6b173ea7982\">\n",
       "    <div class=\"colab-df-container\">\n",
       "      <div>\n",
       "<style scoped>\n",
       "    .dataframe tbody tr th:only-of-type {\n",
       "        vertical-align: middle;\n",
       "    }\n",
       "\n",
       "    .dataframe tbody tr th {\n",
       "        vertical-align: top;\n",
       "    }\n",
       "\n",
       "    .dataframe thead th {\n",
       "        text-align: right;\n",
       "    }\n",
       "</style>\n",
       "<table border=\"1\" class=\"dataframe\">\n",
       "  <thead>\n",
       "    <tr style=\"text-align: right;\">\n",
       "      <th></th>\n",
       "      <th>Forecast time</th>\n",
       "      <th>forecast</th>\n",
       "      <th>Temperature</th>\n",
       "      <th>Humidity</th>\n",
       "      <th>WindSpeed</th>\n",
       "      <th>WindDirection</th>\n",
       "      <th>Cloud</th>\n",
       "    </tr>\n",
       "  </thead>\n",
       "  <tbody>\n",
       "    <tr>\n",
       "      <th>0</th>\n",
       "      <td>2018-03-01 11:00:00</td>\n",
       "      <td>4.0</td>\n",
       "      <td>0.0</td>\n",
       "      <td>60.0</td>\n",
       "      <td>7.3</td>\n",
       "      <td>309.0</td>\n",
       "      <td>2.0</td>\n",
       "    </tr>\n",
       "    <tr>\n",
       "      <th>1</th>\n",
       "      <td>2018-03-01 11:00:00</td>\n",
       "      <td>7.0</td>\n",
       "      <td>-2.0</td>\n",
       "      <td>60.0</td>\n",
       "      <td>7.1</td>\n",
       "      <td>314.0</td>\n",
       "      <td>1.0</td>\n",
       "    </tr>\n",
       "    <tr>\n",
       "      <th>2</th>\n",
       "      <td>2018-03-01 11:00:00</td>\n",
       "      <td>10.0</td>\n",
       "      <td>-2.0</td>\n",
       "      <td>60.0</td>\n",
       "      <td>6.7</td>\n",
       "      <td>323.0</td>\n",
       "      <td>1.0</td>\n",
       "    </tr>\n",
       "    <tr>\n",
       "      <th>3</th>\n",
       "      <td>2018-03-01 11:00:00</td>\n",
       "      <td>13.0</td>\n",
       "      <td>-2.0</td>\n",
       "      <td>55.0</td>\n",
       "      <td>6.7</td>\n",
       "      <td>336.0</td>\n",
       "      <td>1.0</td>\n",
       "    </tr>\n",
       "    <tr>\n",
       "      <th>4</th>\n",
       "      <td>2018-03-01 11:00:00</td>\n",
       "      <td>16.0</td>\n",
       "      <td>-4.0</td>\n",
       "      <td>55.0</td>\n",
       "      <td>5.5</td>\n",
       "      <td>339.0</td>\n",
       "      <td>1.0</td>\n",
       "    </tr>\n",
       "    <tr>\n",
       "      <th>...</th>\n",
       "      <td>...</td>\n",
       "      <td>...</td>\n",
       "      <td>...</td>\n",
       "      <td>...</td>\n",
       "      <td>...</td>\n",
       "      <td>...</td>\n",
       "      <td>...</td>\n",
       "    </tr>\n",
       "    <tr>\n",
       "      <th>162203</th>\n",
       "      <td>2021-03-01 08:00:00</td>\n",
       "      <td>52.0</td>\n",
       "      <td>7.0</td>\n",
       "      <td>40.0</td>\n",
       "      <td>3.2</td>\n",
       "      <td>187.0</td>\n",
       "      <td>1.0</td>\n",
       "    </tr>\n",
       "    <tr>\n",
       "      <th>162204</th>\n",
       "      <td>2021-03-01 08:00:00</td>\n",
       "      <td>55.0</td>\n",
       "      <td>8.0</td>\n",
       "      <td>40.0</td>\n",
       "      <td>4.5</td>\n",
       "      <td>217.0</td>\n",
       "      <td>1.0</td>\n",
       "    </tr>\n",
       "    <tr>\n",
       "      <th>162205</th>\n",
       "      <td>2021-03-01 08:00:00</td>\n",
       "      <td>58.0</td>\n",
       "      <td>5.0</td>\n",
       "      <td>55.0</td>\n",
       "      <td>2.2</td>\n",
       "      <td>210.0</td>\n",
       "      <td>1.0</td>\n",
       "    </tr>\n",
       "    <tr>\n",
       "      <th>162206</th>\n",
       "      <td>2021-03-01 08:00:00</td>\n",
       "      <td>61.0</td>\n",
       "      <td>1.0</td>\n",
       "      <td>80.0</td>\n",
       "      <td>1.9</td>\n",
       "      <td>164.0</td>\n",
       "      <td>1.0</td>\n",
       "    </tr>\n",
       "    <tr>\n",
       "      <th>162207</th>\n",
       "      <td>2021-03-01 08:00:00</td>\n",
       "      <td>64.0</td>\n",
       "      <td>1.0</td>\n",
       "      <td>80.0</td>\n",
       "      <td>2.1</td>\n",
       "      <td>152.0</td>\n",
       "      <td>1.0</td>\n",
       "    </tr>\n",
       "  </tbody>\n",
       "</table>\n",
       "<p>162208 rows × 7 columns</p>\n",
       "</div>\n",
       "      <button class=\"colab-df-convert\" onclick=\"convertToInteractive('df-38940dae-3a03-4257-b9b2-d6b173ea7982')\"\n",
       "              title=\"Convert this dataframe to an interactive table.\"\n",
       "              style=\"display:none;\">\n",
       "        \n",
       "  <svg xmlns=\"http://www.w3.org/2000/svg\" height=\"24px\"viewBox=\"0 0 24 24\"\n",
       "       width=\"24px\">\n",
       "    <path d=\"M0 0h24v24H0V0z\" fill=\"none\"/>\n",
       "    <path d=\"M18.56 5.44l.94 2.06.94-2.06 2.06-.94-2.06-.94-.94-2.06-.94 2.06-2.06.94zm-11 1L8.5 8.5l.94-2.06 2.06-.94-2.06-.94L8.5 2.5l-.94 2.06-2.06.94zm10 10l.94 2.06.94-2.06 2.06-.94-2.06-.94-.94-2.06-.94 2.06-2.06.94z\"/><path d=\"M17.41 7.96l-1.37-1.37c-.4-.4-.92-.59-1.43-.59-.52 0-1.04.2-1.43.59L10.3 9.45l-7.72 7.72c-.78.78-.78 2.05 0 2.83L4 21.41c.39.39.9.59 1.41.59.51 0 1.02-.2 1.41-.59l7.78-7.78 2.81-2.81c.8-.78.8-2.07 0-2.86zM5.41 20L4 18.59l7.72-7.72 1.47 1.35L5.41 20z\"/>\n",
       "  </svg>\n",
       "      </button>\n",
       "      \n",
       "  <style>\n",
       "    .colab-df-container {\n",
       "      display:flex;\n",
       "      flex-wrap:wrap;\n",
       "      gap: 12px;\n",
       "    }\n",
       "\n",
       "    .colab-df-convert {\n",
       "      background-color: #E8F0FE;\n",
       "      border: none;\n",
       "      border-radius: 50%;\n",
       "      cursor: pointer;\n",
       "      display: none;\n",
       "      fill: #1967D2;\n",
       "      height: 32px;\n",
       "      padding: 0 0 0 0;\n",
       "      width: 32px;\n",
       "    }\n",
       "\n",
       "    .colab-df-convert:hover {\n",
       "      background-color: #E2EBFA;\n",
       "      box-shadow: 0px 1px 2px rgba(60, 64, 67, 0.3), 0px 1px 3px 1px rgba(60, 64, 67, 0.15);\n",
       "      fill: #174EA6;\n",
       "    }\n",
       "\n",
       "    [theme=dark] .colab-df-convert {\n",
       "      background-color: #3B4455;\n",
       "      fill: #D2E3FC;\n",
       "    }\n",
       "\n",
       "    [theme=dark] .colab-df-convert:hover {\n",
       "      background-color: #434B5C;\n",
       "      box-shadow: 0px 1px 3px 1px rgba(0, 0, 0, 0.15);\n",
       "      filter: drop-shadow(0px 1px 2px rgba(0, 0, 0, 0.3));\n",
       "      fill: #FFFFFF;\n",
       "    }\n",
       "  </style>\n",
       "\n",
       "      <script>\n",
       "        const buttonEl =\n",
       "          document.querySelector('#df-38940dae-3a03-4257-b9b2-d6b173ea7982 button.colab-df-convert');\n",
       "        buttonEl.style.display =\n",
       "          google.colab.kernel.accessAllowed ? 'block' : 'none';\n",
       "\n",
       "        async function convertToInteractive(key) {\n",
       "          const element = document.querySelector('#df-38940dae-3a03-4257-b9b2-d6b173ea7982');\n",
       "          const dataTable =\n",
       "            await google.colab.kernel.invokeFunction('convertToInteractive',\n",
       "                                                     [key], {});\n",
       "          if (!dataTable) return;\n",
       "\n",
       "          const docLinkHtml = 'Like what you see? Visit the ' +\n",
       "            '<a target=\"_blank\" href=https://colab.research.google.com/notebooks/data_table.ipynb>data table notebook</a>'\n",
       "            + ' to learn more about interactive tables.';\n",
       "          element.innerHTML = '';\n",
       "          dataTable['output_type'] = 'display_data';\n",
       "          await google.colab.output.renderOutput(dataTable, element);\n",
       "          const docLink = document.createElement('div');\n",
       "          docLink.innerHTML = docLinkHtml;\n",
       "          element.appendChild(docLink);\n",
       "        }\n",
       "      </script>\n",
       "    </div>\n",
       "  </div>\n",
       "  "
      ],
      "text/plain": [
       "              Forecast time  forecast  ...  WindDirection  Cloud\n",
       "0       2018-03-01 11:00:00       4.0  ...          309.0    2.0\n",
       "1       2018-03-01 11:00:00       7.0  ...          314.0    1.0\n",
       "2       2018-03-01 11:00:00      10.0  ...          323.0    1.0\n",
       "3       2018-03-01 11:00:00      13.0  ...          336.0    1.0\n",
       "4       2018-03-01 11:00:00      16.0  ...          339.0    1.0\n",
       "...                     ...       ...  ...            ...    ...\n",
       "162203  2021-03-01 08:00:00      52.0  ...          187.0    1.0\n",
       "162204  2021-03-01 08:00:00      55.0  ...          217.0    1.0\n",
       "162205  2021-03-01 08:00:00      58.0  ...          210.0    1.0\n",
       "162206  2021-03-01 08:00:00      61.0  ...          164.0    1.0\n",
       "162207  2021-03-01 08:00:00      64.0  ...          152.0    1.0\n",
       "\n",
       "[162208 rows x 7 columns]"
      ]
     },
     "execution_count": 10,
     "metadata": {},
     "output_type": "execute_result"
    }
   ],
   "source": [
    "energy = pd.read_csv('energy.csv')\n",
    "dangjin_fcst = pd.read_csv('dangjin_fcst_data.csv')\n",
    "ulsan_fcst = pd.read_csv('ulsan_fcst_data.csv')\n",
    "pd.read_csv('dangjin_fcst_data.csv')"
   ]
  },
  {
   "cell_type": "code",
   "execution_count": 11,
   "metadata": {
    "executionInfo": {
     "elapsed": 308,
     "status": "ok",
     "timestamp": 1645525425599,
     "user": {
      "displayName": "박창협",
      "photoUrl": "https://lh3.googleusercontent.com/a-/AOh14GhbK_TrERC077cbvIpvPagMcuMei5NF45-VnGIXRg=s64",
      "userId": "12869697117966953026"
     },
     "user_tz": -540
    },
    "id": "4Pmx3QrBcs8J"
   },
   "outputs": [],
   "source": [
    "def to_date(x):\n",
    "    return timedelta(hours=x)"
   ]
  },
  {
   "cell_type": "code",
   "execution_count": 12,
   "metadata": {
    "executionInfo": {
     "elapsed": 6,
     "status": "ok",
     "timestamp": 1645525426832,
     "user": {
      "displayName": "박창협",
      "photoUrl": "https://lh3.googleusercontent.com/a-/AOh14GhbK_TrERC077cbvIpvPagMcuMei5NF45-VnGIXRg=s64",
      "userId": "12869697117966953026"
     },
     "user_tz": -540
    },
    "id": "TwuznqS8dKF-"
   },
   "outputs": [],
   "source": [
    "def generate_df(df_):\n",
    "    \"\"\"\n",
    "    20시 예보 데이터와 23시 예보 데이터만 활용하기 위해 데이터 추출\n",
    "    \"\"\"\n",
    "    df = df_.copy()\n",
    "\n",
    "    df['Forecast_time'] = pd.to_datetime(df['Forecast time'])\n",
    "\n",
    "    # 20 시\n",
    "    a = df[df[\"forecast\"] == 4.0]\n",
    "    a = a[a[\"Forecast time\"].apply(lambda x: \"20:00:00\" in x)]\n",
    "    a.loc[:, 'Forecast_time'] = a.loc[:, 'Forecast_time'] + \\\n",
    "        a.loc[:, 'forecast'].map(to_date)\n",
    "\n",
    "    # 23 시\n",
    "    b = df[df[\"forecast\"] <= 22]\n",
    "    b = b[b[\"Forecast time\"].apply(lambda x: \"23:00:00\" in x)]\n",
    "    b.loc[:, 'Forecast_time'] = b.loc[:, 'Forecast_time'] + \\\n",
    "        b.loc[:, 'forecast'].map(to_date)\n",
    "\n",
    "    # 병합\n",
    "    c = pd.concat([a, b])\n",
    "    print(f\"20시 사용 데이터 길이 : {len(a)}\")\n",
    "    print(f\"23시 사용 데이터 길이 : {len(b)}\")\n",
    "    print(f\"합친 데이터 길이 : {len(c)}\")\n",
    "    print()\n",
    "\n",
    "    # 정렬\n",
    "    c.sort_values(by=['Forecast_time'], inplace=True)\n",
    "    c = c[['Forecast_time', 'Temperature', 'Humidity',\n",
    "           'WindSpeed', 'WindDirection', 'Cloud']]\n",
    "\n",
    "    return c"
   ]
  },
  {
   "cell_type": "code",
   "execution_count": 19,
   "metadata": {
    "executionInfo": {
     "elapsed": 5,
     "status": "ok",
     "timestamp": 1645525512141,
     "user": {
      "displayName": "박창협",
      "photoUrl": "https://lh3.googleusercontent.com/a-/AOh14GhbK_TrERC077cbvIpvPagMcuMei5NF45-VnGIXRg=s64",
      "userId": "12869697117966953026"
     },
     "user_tz": -540
    },
    "id": "wWvxPukVc0Mn"
   },
   "outputs": [],
   "source": [
    "def interpolate_df(df, method='linear'):\n",
    "    \"\"\"\n",
    "    결측치를 보간법으로 채워주는함수 \n",
    "    \"\"\"\n",
    "    new_df = pd.DataFrame()\n",
    "    new_df['Forecast_time'] = pd.date_range(\n",
    "        start=df['Forecast_time'].iloc[0], end=df['Forecast_time'].iloc[-1], freq='H')\n",
    "    new_df = pd.merge(new_df, df, on='Forecast_time', how='outer')\n",
    "    new_df['Forecast_time'] = new_df['Forecast_time'].astype('str')\n",
    "    return new_df.interpolate(method=method)"
   ]
  },
  {
   "cell_type": "code",
   "execution_count": 20,
   "metadata": {
    "executionInfo": {
     "elapsed": 3,
     "status": "ok",
     "timestamp": 1645525513070,
     "user": {
      "displayName": "박창협",
      "photoUrl": "https://lh3.googleusercontent.com/a-/AOh14GhbK_TrERC077cbvIpvPagMcuMei5NF45-VnGIXRg=s64",
      "userId": "12869697117966953026"
     },
     "user_tz": -540
    },
    "id": "4LjPN_Y1c1-X"
   },
   "outputs": [],
   "source": [
    "def train_datast(energy_df, fcst_df, target):\n",
    "    \"\"\"\n",
    "    발전량과 일기예보 데이터 셋을 결합하여 train 데이터셋으로 만들어 주는 함수\n",
    "    \"\"\"\n",
    "    # 일기 예보 있는 날짜만 선택\n",
    "    energy = energy_df.loc[24:]\n",
    "    energy.index = range(energy.shape[0])\n",
    "\n",
    "    # 발전량 데이터가 있는 날짜만 선택\n",
    "    fcst = fcst_df\n",
    "    fcst.index = range(fcst.shape[0])\n",
    "\n",
    "    # 발전량과 일기예보 연결\n",
    "    concat_df = pd.concat([energy, fcst], axis=1)\n",
    "\n",
    "    # 예보 시간, 날짜, 기상 예보 및 발전량 선택\n",
    "    feature_df = concat_df[['Temperature', 'Humidity',\n",
    "                            'WindSpeed', 'WindDirection', 'Cloud', target]]\n",
    "    feature_df.fillna(0, inplace=True)\n",
    "\n",
    "    return np.array(feature_df[:-22])"
   ]
  },
  {
   "cell_type": "code",
   "execution_count": null,
   "metadata": {
    "id": "25UPlSWh-piP"
   },
   "outputs": [],
   "source": [
    "dangjin_filled = generate_df(dangjin_fcst)\n",
    "ulsan_filled = generate_df(ulsan_fcst)"
   ]
  },
  {
   "cell_type": "code",
   "execution_count": 21,
   "metadata": {
    "executionInfo": {
     "elapsed": 7,
     "status": "ok",
     "timestamp": 1645525514841,
     "user": {
      "displayName": "박창협",
      "photoUrl": "https://lh3.googleusercontent.com/a-/AOh14GhbK_TrERC077cbvIpvPagMcuMei5NF45-VnGIXRg=s64",
      "userId": "12869697117966953026"
     },
     "user_tz": -540
    },
    "id": "f8WiafsC9iyU"
   },
   "outputs": [],
   "source": [
    "dangjin_interpolated = interpolate_df(dangjin_filled, method='ffill')\n",
    "ulsan_interpolated = interpolate_df(ulsan_filled, method='ffill')"
   ]
  },
  {
   "cell_type": "code",
   "execution_count": null,
   "metadata": {
    "id": "b6fzPmn-c5dD"
   },
   "outputs": [],
   "source": [
    "dangjin_floating_df = train_datast(\n",
    "    energy, dangjin_interpolated, target='dangjin_floating')\n",
    "ulsan_df = train_datast(energy, ulsan_interpolated, target='ulsan')\n",
    "dangjin_df = train_datast(energy, dangjin_interpolated, target='dangjin')\n",
    "dangjin_warehouse_df = train_datast(\n",
    "    energy, dangjin_interpolated, target='dangjin_warehouse')"
   ]
  },
  {
   "cell_type": "code",
   "execution_count": 23,
   "metadata": {
    "ExecuteTime": {
     "end_time": "2022-02-21T13:25:32.432605Z",
     "start_time": "2022-02-21T13:25:32.418643Z"
    },
    "executionInfo": {
     "elapsed": 623,
     "status": "ok",
     "timestamp": 1645525627804,
     "user": {
      "displayName": "박창협",
      "photoUrl": "https://lh3.googleusercontent.com/a-/AOh14GhbK_TrERC077cbvIpvPagMcuMei5NF45-VnGIXRg=s64",
      "userId": "12869697117966953026"
     },
     "user_tz": -540
    },
    "id": "jszcrSxhduoh"
   },
   "outputs": [],
   "source": [
    "from sklearn.model_selection import train_test_split\n",
    "\n",
    "\n",
    "def make_batch(input_data, sl=24):\n",
    "    \"\"\"\n",
    "    energy 데이터를 sequence length길이에 맞춰 input형태로 변환 시 켜준다.\n",
    "    그리고 train데이터 셋과 test데이터셋을 나눈다.\n",
    "\n",
    "    파라미터 \n",
    "    ---\n",
    "    input_data : \n",
    "        energy 데이터\n",
    "    sl : int\n",
    "        sequence length \n",
    "\n",
    "    returns\n",
    "    train_x : Tensor\n",
    "        model의 학습용 input data\n",
    "    train_y : Tensor\n",
    "        model의 학습용 target data    \n",
    "    valid_x : Tensor\n",
    "        model의 검증용 input data\n",
    "    valid_y : Tensor\n",
    "        model의 검증용 target data    \n",
    "    \"\"\"\n",
    "    train_x = []\n",
    "    train_y = []\n",
    "    L = len(input_data)\n",
    "    for i in range(L-sl):\n",
    "        train_seq = input_data[i:i+sl, :]\n",
    "        train_label = input_data[i+sl, [-1]]\n",
    "        train_x.append(train_seq)\n",
    "        train_y.append(train_label)\n",
    "\n",
    "    tensor_x, tensor_y = torch.Tensor(train_x), torch.Tensor(train_y)\n",
    "    train_x, valid_x, train_y, valid_y = train_test_split(\n",
    "        tensor_x, tensor_y, test_size=0.3)\n",
    "\n",
    "    return train_x, valid_x, train_y, valid_y"
   ]
  },
  {
   "cell_type": "code",
   "execution_count": 24,
   "metadata": {
    "executionInfo": {
     "elapsed": 277,
     "status": "ok",
     "timestamp": 1645525644121,
     "user": {
      "displayName": "박창협",
      "photoUrl": "https://lh3.googleusercontent.com/a-/AOh14GhbK_TrERC077cbvIpvPagMcuMei5NF45-VnGIXRg=s64",
      "userId": "12869697117966953026"
     },
     "user_tz": -540
    },
    "id": "vI900CFQjW3U"
   },
   "outputs": [],
   "source": [
    "from torch.utils.data import Dataset\n",
    "from torch.utils.data import DataLoader\n",
    "\n",
    "\n",
    "class CustomDataset(torch.utils.data.Dataset):\n",
    "    \"\"\"\n",
    "    mini batch 학습을 위한 customdataset\n",
    "    \"\"\"\n",
    "\n",
    "    def __init__(self, tensor_x, tensor_y):\n",
    "        self.x_data = tensor_x\n",
    "        self.y_data = tensor_y\n",
    "\n",
    "    def __len__(self):\n",
    "        return len(self.x_data)\n",
    "\n",
    "    def __getitem__(self, idx):\n",
    "        x = self.x_data[idx]\n",
    "        y = self.y_data[idx]\n",
    "        return x, y"
   ]
  },
  {
   "cell_type": "code",
   "execution_count": 25,
   "metadata": {
    "ExecuteTime": {
     "end_time": "2022-02-21T13:25:50.339499Z",
     "start_time": "2022-02-21T13:25:50.321548Z"
    },
    "executionInfo": {
     "elapsed": 255,
     "status": "ok",
     "timestamp": 1645525648206,
     "user": {
      "displayName": "박창협",
      "photoUrl": "https://lh3.googleusercontent.com/a-/AOh14GhbK_TrERC077cbvIpvPagMcuMei5NF45-VnGIXRg=s64",
      "userId": "12869697117966953026"
     },
     "user_tz": -540
    },
    "id": "yznYWHlYduoh"
   },
   "outputs": [],
   "source": [
    "# 모델 설계\n",
    "class simple_lstm(nn.Module):\n",
    "\n",
    "    def __init__(self, input_vector, sl, output_vector, num_layers):\n",
    "        super().__init__()\n",
    "        self.input_vector = input_vector\n",
    "        self.sequence_length = sl\n",
    "        self.output_vector = output_vector\n",
    "        self.num_layers = num_layers\n",
    "\n",
    "        self.lstm = nn.LSTM(input_size=self.input_vector, hidden_size=self.output_vector,\n",
    "                            num_layers=self.num_layers, batch_first=True)\n",
    "        self.linear = nn.Sequential(\n",
    "            nn.Linear(self.output_vector, 50),\n",
    "            nn.Linear(50, 30),\n",
    "            nn.Linear(30, 10),\n",
    "            nn.Linear(10, 1)\n",
    "        )\n",
    "\n",
    "    def forward(self, x):\n",
    "        output, _ = self.lstm(x)  # (hidden, cell) 데이터는 사용하지 않음\n",
    "        return self.linear(output[:, -1, :])\n",
    "\n",
    "\n",
    "device = torch.device(\"cuda:0\" if torch.cuda.is_available() else \"cpu\")"
   ]
  },
  {
   "cell_type": "code",
   "execution_count": 26,
   "metadata": {
    "executionInfo": {
     "elapsed": 292,
     "status": "ok",
     "timestamp": 1645525652413,
     "user": {
      "displayName": "박창협",
      "photoUrl": "https://lh3.googleusercontent.com/a-/AOh14GhbK_TrERC077cbvIpvPagMcuMei5NF45-VnGIXRg=s64",
      "userId": "12869697117966953026"
     },
     "user_tz": -540
    },
    "id": "2_oe4kcziJSX"
   },
   "outputs": [],
   "source": [
    "def training(model, EPOCHS, optimizer, criterion, train_loader, valid_loader):\n",
    "    \"\"\"\n",
    "    model을 학습하는함수 \n",
    "    검증데이터셋을 이용하여 가장 성능이 좋은 모델을 반환한다.\n",
    "    \"\"\"\n",
    "    best_model = model\n",
    "    BEST_LOSS = int(1e9)\n",
    "    for i in range(EPOCHS):\n",
    "\n",
    "        TRAIN_LOSS = 0\n",
    "        VALID_LOSS = 0\n",
    "        for batch_idx, batch in enumerate(train_loader):\n",
    "            model.train()\n",
    "            tensor_x, tensor_y = batch\n",
    "            # optimizer 초기화\n",
    "            optimizer.zero_grad()\n",
    "\n",
    "            tensor_x = tensor_x.to(device)\n",
    "            tensor_y = tensor_y.to(device)\n",
    "            output = model(tensor_x)\n",
    "            loss = criterion(output, tensor_y.view(-1, 1))\n",
    "\n",
    "            # loss 누적\n",
    "            TRAIN_LOSS += loss.item()\n",
    "\n",
    "            loss.backward()\n",
    "            optimizer.step()\n",
    "\n",
    "        model.eval()\n",
    "\n",
    "        for batch_idx, batch in enumerate(valid_loader):\n",
    "            tensor_x, tensor_y = batch\n",
    "            with torch.no_grad():\n",
    "                tensor_x = tensor_x.to(device)\n",
    "                tensor_y = tensor_y.to(device)\n",
    "                output = model(tensor_x)\n",
    "                loss = criterion(output, tensor_y.view(-1, 1))\n",
    "                VALID_LOSS += loss.item()\n",
    "\n",
    "        # best 모델 저장\n",
    "        if VALID_LOSS < BEST_LOSS:\n",
    "            best_model = model\n",
    "            BEST_LOSS = VALID_LOSS\n",
    "\n",
    "        if i % 100 == 0:\n",
    "            print('Epoch {}, train_Loss {:.5f}, valid_Loss {:.5f}'.format(\n",
    "                i, TRAIN_LOSS, VALID_LOSS))\n",
    "\n",
    "    return best_model"
   ]
  },
  {
   "cell_type": "code",
   "execution_count": 27,
   "metadata": {
    "executionInfo": {
     "elapsed": 6,
     "status": "ok",
     "timestamp": 1645525652645,
     "user": {
      "displayName": "박창협",
      "photoUrl": "https://lh3.googleusercontent.com/a-/AOh14GhbK_TrERC077cbvIpvPagMcuMei5NF45-VnGIXRg=s64",
      "userId": "12869697117966953026"
     },
     "user_tz": -540
    },
    "id": "LcEjUJDPr2xN"
   },
   "outputs": [],
   "source": [
    "def inference(df, model):\n",
    "    \"\"\"\n",
    "    학습된 모델을 이용하여 발전소별 발전량을 예측하는 함수\n",
    "    \"\"\"\n",
    "\n",
    "    x_input = np.array(df[-48:])  # next value based on data of last year\n",
    "    x_input = x_input.reshape((1, 48, 1))\n",
    "    model_pred = []\n",
    "\n",
    "    for i in range(672):\n",
    "\n",
    "        x_input = torch.Tensor(x_input)\n",
    "        x_input = x_input.to(device)\n",
    "        predict = dangjin_floating(x_input).cpu().detach().numpy()\n",
    "\n",
    "        new_input = predict.reshape((1, 1, 1))\n",
    "        x_input = np.concatenate((x_input[:, -47:].cpu(), new_input), axis=1)\n",
    "        model_pred.append(predict[0][0])"
   ]
  },
  {
   "cell_type": "markdown",
   "metadata": {
    "id": "i6LknmMPduoi"
   },
   "source": [
    "### dangjin_floating"
   ]
  },
  {
   "cell_type": "code",
   "execution_count": 28,
   "metadata": {
    "executionInfo": {
     "elapsed": 5,
     "status": "ok",
     "timestamp": 1645525654818,
     "user": {
      "displayName": "박창협",
      "photoUrl": "https://lh3.googleusercontent.com/a-/AOh14GhbK_TrERC077cbvIpvPagMcuMei5NF45-VnGIXRg=s64",
      "userId": "12869697117966953026"
     },
     "user_tz": -540
    },
    "id": "rrhgXcg6f16T"
   },
   "outputs": [],
   "source": [
    "def train_and_inference(df):\n",
    "    \"\"\"\n",
    "    각 발전소 별 모델 학습하고 \n",
    "    성능이 가장 좋은 모델을 이용하여 추론한 결과를 반환하는 함수\n",
    "\n",
    "    파라미터 \n",
    "    ---\n",
    "    df : dataframe\n",
    "        발전소 별 발전량\n",
    "\n",
    "    return\n",
    "    ---\n",
    "    pred : list\n",
    "        학습된 모델을 이용한 예측값\n",
    "    \"\"\"\n",
    "\n",
    "    # hyper parameters\n",
    "    SEQUENCE_LENGTH = 48\n",
    "    INPUT_VECTOR = 1\n",
    "    OUTPUT_VECTOR = 100\n",
    "    NUM_LAYERS = 4\n",
    "    EPOCHS = 1000\n",
    "    LR = 0.0001\n",
    "\n",
    "    # 모델 선언\n",
    "    lstm = simple_lstm(INPUT_VECTOR, SEQUENCE_LENGTH,\n",
    "                       OUTPUT_VECTOR, NUM_LAYERS).to(device)\n",
    "\n",
    "    optimizer = torch.optim.AdamW(lstm.parameters(), lr=LR)\n",
    "    criterion = nn.MSELoss()\n",
    "\n",
    "    train_x, valid_x, train_y, valid_y = make_batch(\n",
    "        df.reshape(-1, 1), SEQUENCE_LENGTH)\n",
    "    trn_data = CustomDataset(train_x, train_y)\n",
    "    val_data = CustomDataset(valid_x, valid_y)\n",
    "    train_loader = DataLoader(trn_data, batch_size=256, shuffle=True)\n",
    "    valid_loader = DataLoader(val_data, batch_size=256, shuffle=True)\n",
    "    print('--------------------train start--------------------')\n",
    "    best_model = training(lstm, EPOCHS, optimizer,\n",
    "                          criterion, train_loader, valid_loader)\n",
    "    print('--------------------inference start--------------------')\n",
    "    pred = inference(df, best_model)\n",
    "\n",
    "    return pred"
   ]
  },
  {
   "cell_type": "code",
   "execution_count": null,
   "metadata": {
    "id": "5v53pMujtMHU"
   },
   "outputs": [],
   "source": [
    "dangjin_floating_pred = train_and_inference(dangjin_floating_df)\n",
    "ulsan_pred = train_and_inference(ulsan_df)\n",
    "dangjin_warehouse_pred = train_and_inference(dangjin_warehouse_df)\n",
    "dangjin_pred = train_and_inference(dangjin_df)"
   ]
  },
  {
   "cell_type": "markdown",
   "metadata": {
    "id": "3pl__166duoi"
   },
   "source": [
    "### 정답 파일 생성"
   ]
  },
  {
   "cell_type": "code",
   "execution_count": null,
   "metadata": {
    "id": "j8dtPY-U_win"
   },
   "outputs": [],
   "source": [
    "submission = pd.read_csv('submission.csv')"
   ]
  },
  {
   "cell_type": "code",
   "execution_count": null,
   "metadata": {
    "id": "CslHT61Vu4h3"
   },
   "outputs": [],
   "source": [
    "submission.iloc[:24*28, 1] = dangjin_floating_pred\n",
    "submission.iloc[:24*28, 2] = dangjin_warehouse_pred\n",
    "submission.iloc[:24*28, 3] = dangjin_pred\n",
    "submission.iloc[:24*28, 4] = ulsan_pred"
   ]
  },
  {
   "cell_type": "code",
   "execution_count": null,
   "metadata": {
    "id": "sJmfz90svFfP"
   },
   "outputs": [],
   "source": [
    "submission.to_csv('submission.csv', index=False)"
   ]
  },
  {
   "cell_type": "code",
   "execution_count": null,
   "metadata": {
    "id": "xM30vnrxduol"
   },
   "outputs": [],
   "source": [
    "submission"
   ]
  }
 ],
 "metadata": {
  "accelerator": "GPU",
  "colab": {
   "collapsed_sections": [],
   "name": "동서발전_다중변수_lstm.ipynb",
   "provenance": []
  },
  "kernelspec": {
   "display_name": "Python 3",
   "language": "python",
   "name": "python3"
  },
  "language_info": {
   "codemirror_mode": {
    "name": "ipython",
    "version": 3
   },
   "file_extension": ".py",
   "mimetype": "text/x-python",
   "name": "python",
   "nbconvert_exporter": "python",
   "pygments_lexer": "ipython3",
   "version": "3.8.5"
  },
  "toc": {
   "base_numbering": 1,
   "nav_menu": {},
   "number_sections": true,
   "sideBar": true,
   "skip_h1_title": false,
   "title_cell": "Table of Contents",
   "title_sidebar": "Contents",
   "toc_cell": false,
   "toc_position": {},
   "toc_section_display": true,
   "toc_window_display": false
  }
 },
 "nbformat": 4,
 "nbformat_minor": 1
}
