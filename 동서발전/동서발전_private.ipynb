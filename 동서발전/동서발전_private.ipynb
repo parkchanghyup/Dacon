{
  "nbformat": 4,
  "nbformat_minor": 0,
  "metadata": {
    "kernelspec": {
      "name": "python3",
      "display_name": "Python 3"
    },
    "colab": {
      "name": "동서발전.ipynb의 사본",
      "provenance": [],
      "collapsed_sections": []
    },
    "language_info": {
      "name": "python"
    }
  },
  "cells": [
    {
      "cell_type": "markdown",
      "metadata": {
        "id": "peEFCG5MxEtq"
      },
      "source": [
        "## 모듈 임포트"
      ]
    },
    {
      "cell_type": "code",
      "metadata": {
        "id": "7dgHzDk2xEtr"
      },
      "source": [
        "import pandas as pd\n",
        "from datetime import datetime, timedelta\n",
        "import pandas as pd\n",
        "import numpy as np\n",
        "import matplotlib.pyplot as plt\n",
        "import lightgbm as lgb"
      ],
      "execution_count": 1,
      "outputs": []
    },
    {
      "cell_type": "markdown",
      "metadata": {
        "id": "5XvNCa0cxEts"
      },
      "source": [
        "## 데이터 로드"
      ]
    },
    {
      "cell_type": "code",
      "metadata": {
        "colab": {
          "base_uri": "https://localhost:8080/"
        },
        "id": "wM2mlOr266NW",
        "outputId": "c9bfa9a9-1d37-4b93-e60c-648f11f3bb35"
      },
      "source": [
        "!wget 'https://bit.ly/3dD5MU9'\n",
        "\n",
        "import zipfile\n",
        "with zipfile.ZipFile('3dD5MU9', 'r') as existing_zip:\n",
        "    existing_zip.extractall('data')"
      ],
      "execution_count": 2,
      "outputs": [
        {
          "output_type": "stream",
          "text": [
            "--2021-06-13 12:04:50--  https://bit.ly/3dD5MU9\n",
            "Resolving bit.ly (bit.ly)... 67.199.248.10, 67.199.248.11\n",
            "Connecting to bit.ly (bit.ly)|67.199.248.10|:443... connected.\n",
            "HTTP request sent, awaiting response... 301 Moved Permanently\n",
            "Location: https://drive.google.com/uc?export=download&id=1kkF00wW8v0npJ8S2nA7--eMTH3gOL03z [following]\n",
            "--2021-06-13 12:04:50--  https://drive.google.com/uc?export=download&id=1kkF00wW8v0npJ8S2nA7--eMTH3gOL03z\n",
            "Resolving drive.google.com (drive.google.com)... 108.177.111.102, 108.177.111.101, 108.177.111.113, ...\n",
            "Connecting to drive.google.com (drive.google.com)|108.177.111.102|:443... connected.\n",
            "HTTP request sent, awaiting response... 302 Moved Temporarily\n",
            "Location: https://doc-14-94-docs.googleusercontent.com/docs/securesc/ha0ro937gcuc7l7deffksulhg5h7mbp1/advg3vvi29oog5mdeovujr45v5vglfo8/1623585825000/00192245294648390361/*/1kkF00wW8v0npJ8S2nA7--eMTH3gOL03z?e=download [following]\n",
            "Warning: wildcards not supported in HTTP.\n",
            "--2021-06-13 12:04:53--  https://doc-14-94-docs.googleusercontent.com/docs/securesc/ha0ro937gcuc7l7deffksulhg5h7mbp1/advg3vvi29oog5mdeovujr45v5vglfo8/1623585825000/00192245294648390361/*/1kkF00wW8v0npJ8S2nA7--eMTH3gOL03z?e=download\n",
            "Resolving doc-14-94-docs.googleusercontent.com (doc-14-94-docs.googleusercontent.com)... 64.233.191.132, 2607:f8b0:4001:c0c::84\n",
            "Connecting to doc-14-94-docs.googleusercontent.com (doc-14-94-docs.googleusercontent.com)|64.233.191.132|:443... connected.\n",
            "HTTP request sent, awaiting response... 200 OK\n",
            "Length: unspecified [application/x-zip-compressed]\n",
            "Saving to: ‘3dD5MU9’\n",
            "\n",
            "3dD5MU9                 [ <=>                ]   2.07M  --.-KB/s    in 0.02s   \n",
            "\n",
            "2021-06-13 12:04:53 (105 MB/s) - ‘3dD5MU9’ saved [2172031]\n",
            "\n"
          ],
          "name": "stdout"
        }
      ]
    },
    {
      "cell_type": "code",
      "metadata": {
        "id": "Cc5-Zx_kxEts"
      },
      "source": [
        "energy = pd.read_csv('data/energy.csv')\n",
        "dangjin_fcst = pd.read_csv('./data/dangjin_fcst_data.csv')\n",
        "ulsan_fcst = pd.read_csv('./data/ulsan_fcst_data.csv')"
      ],
      "execution_count": 3,
      "outputs": []
    },
    {
      "cell_type": "markdown",
      "metadata": {
        "id": "jaxITLK3xEtt"
      },
      "source": [
        "## 데이터 병합 \n",
        "- 가장 나중의 예측 데이터가 가장 좋다고 가정."
      ]
    },
    {
      "cell_type": "code",
      "metadata": {
        "id": "yAqZEnduxEtt"
      },
      "source": [
        "def to_date(x):\n",
        "    return timedelta(hours=x)"
      ],
      "execution_count": 4,
      "outputs": []
    },
    {
      "cell_type": "code",
      "metadata": {
        "id": "ioZjk_yFxEtt"
      },
      "source": [
        "def generate_df(df_):\n",
        "    df = df_.copy()\n",
        "\n",
        "    df['Forecast_time'] = pd.to_datetime(df['Forecast time'])\n",
        "\n",
        "    # 20 시\n",
        "    a = df[df[\"forecast\"] == 4.0]\n",
        "    a = a[a[\"Forecast time\"].apply(lambda x: \"20:00:00\" in x)]\n",
        "    a.loc[:, 'Forecast_time'] = a.loc[:, 'Forecast_time'] + a.loc[:, 'forecast'].map(to_date)\n",
        "\n",
        "    # 23 시\n",
        "    b = df[df[\"forecast\"] <= 22]\n",
        "    b = b[b[\"Forecast time\"].apply(lambda x: \"23:00:00\" in x)]\n",
        "    b.loc[:, 'Forecast_time'] = b.loc[:, 'Forecast_time'] + b.loc[:, 'forecast'].map(to_date)\n",
        "\n",
        "    # 병합\n",
        "    c = pd.concat([a, b])\n",
        "    print(f\"20시 사용 데이터 길이 : {len(a)}\")\n",
        "    print(f\"23시 사용 데이터 길이 : {len(b)}\")\n",
        "    print(f\"합친 데이터 길이 : {len(c)}\")\n",
        "    print()\n",
        "\n",
        "    # 정렬\n",
        "    c.sort_values(by=['Forecast_time'], inplace=True)\n",
        "    c = c[['Forecast_time', 'Temperature', 'Humidity', 'WindSpeed', 'WindDirection', 'Cloud']]\n",
        "\n",
        "    return c"
      ],
      "execution_count": 5,
      "outputs": []
    },
    {
      "cell_type": "code",
      "metadata": {
        "colab": {
          "base_uri": "https://localhost:8080/"
        },
        "id": "Fy4imRuixEtu",
        "outputId": "fa09f34e-a0ba-4d03-af4b-dafd2d3b4297"
      },
      "source": [
        "dangjin_filled = generate_df(dangjin_fcst)\n",
        "ulsan_filled = generate_df(ulsan_fcst)"
      ],
      "execution_count": 6,
      "outputs": [
        {
          "output_type": "stream",
          "text": [
            "20시 사용 데이터 길이 : 1096\n",
            "23시 사용 데이터 길이 : 7672\n",
            "합친 데이터 길이 : 8768\n",
            "\n",
            "20시 사용 데이터 길이 : 1096\n",
            "23시 사용 데이터 길이 : 7672\n",
            "합친 데이터 길이 : 8768\n",
            "\n"
          ],
          "name": "stdout"
        }
      ]
    },
    {
      "cell_type": "markdown",
      "metadata": {
        "id": "DXgEGLQhxEtu"
      },
      "source": [
        "## 보간"
      ]
    },
    {
      "cell_type": "code",
      "metadata": {
        "id": "o2jTqIiJxEtu"
      },
      "source": [
        "def interpolate_df(df, method='linear'):\n",
        "    new_df = pd.DataFrame()\n",
        "    new_df['Forecast_time'] = pd.date_range(start=df['Forecast_time'].iloc[0], end=df['Forecast_time'].iloc[-1], freq='H')\n",
        "    new_df = pd.merge(new_df, df, on='Forecast_time', how='outer')\n",
        "    return new_df.interpolate(method=method)"
      ],
      "execution_count": 7,
      "outputs": []
    },
    {
      "cell_type": "code",
      "metadata": {
        "id": "_4OTPM8DxEtv"
      },
      "source": [
        "dangjin_interpolated = interpolate_df(dangjin_filled, method='linear')\n",
        "ulsan_interpolated = interpolate_df(ulsan_filled, method='linear')"
      ],
      "execution_count": 8,
      "outputs": []
    },
    {
      "cell_type": "markdown",
      "metadata": {
        "id": "v7-tPohPxEtv"
      },
      "source": [
        "## 학습 데이터 전처리"
      ]
    },
    {
      "cell_type": "code",
      "metadata": {
        "id": "xM6Rd7mCxEtw"
      },
      "source": [
        "def train_datast(energy_df, fcst_df, target):\n",
        "    # 일기 예보 있는 날짜만 선택\n",
        "    energy = energy_df.loc[24:]\n",
        "    energy.index = range(energy.shape[0])\n",
        "    \n",
        "    # 발전량 데이터가 있는 날짜만 선택\n",
        "    fcst = fcst_df.loc[:25608-1]\n",
        "    fcst.index = range(fcst.shape[0])\n",
        "    \n",
        "    # 발전량과 일기예보 연결\n",
        "    concat_df = pd.concat([energy, fcst], axis=1)\n",
        "    \n",
        "    # 예보 시간 및 날짜 정보 feature로 추가\n",
        "    concat_df['date'] = concat_df['Forecast_time'].str.split(' ').str[0]\n",
        "    concat_df['hour'] = concat_df['Forecast_time'].str.split(' ').str[1].str.split(':').str[0].astype(int)\n",
        "    \n",
        "    concat_df['year'] = concat_df['date'].str.split('-').str[0].astype(int)\n",
        "    concat_df['month'] = concat_df['date'].str.split('-').str[1].astype(int)\n",
        "    concat_df['day'] = concat_df['date'].str.split('-').str[2].astype(int)\n",
        "    \n",
        "    # 예보 시간, 날짜, 기상 예보 및 발전량 선택\n",
        "    feature_df = concat_df[['year', 'month', 'day', 'hour', 'Temperature', 'Humidity', 'WindSpeed', 'WindDirection', 'Cloud', target]]\n",
        "    \n",
        "    # 마지막 30일을 검증데이터셋으로 나머지를 학습 데이터셋으로 선택\n",
        "    train_df = feature_df.iloc[:-24*90]\n",
        "    val_df = feature_df.iloc[-24*90:]\n",
        "    \n",
        "    # 발전량이 0인 데이터를 제외\n",
        "    #train_df = train_df[train_df[target]!=0]\n",
        "    \n",
        "    train_x = train_df.loc[:, 'year':'Cloud'].to_numpy()\n",
        "    train_y = train_df[target].to_numpy()\n",
        "    val_x = val_df.loc[:, 'year':'Cloud'].to_numpy()\n",
        "    val_y = val_df[target].to_numpy()\n",
        "    \n",
        "    return train_x, train_y, val_x, val_y"
      ],
      "execution_count": 9,
      "outputs": []
    },
    {
      "cell_type": "markdown",
      "metadata": {
        "id": "kbqi4HHwfgXY"
      },
      "source": [
        "## bayesian optimization \n",
        "---\n",
        "- bayesian optimization 를 이용하여 하이퍼 파라미터 튜닝\n",
        "- lgbm만 적용."
      ]
    },
    {
      "cell_type": "code",
      "metadata": {
        "colab": {
          "base_uri": "https://localhost:8080/"
        },
        "id": "4PMHrrknfhhV",
        "outputId": "258589bc-b11f-4b2c-f24f-91d194e752a0"
      },
      "source": [
        "# bayesian optimization 패키지 설치\n",
        "!pip install bayesian-optimization\n",
        "from bayes_opt import BayesianOptimization"
      ],
      "execution_count": 10,
      "outputs": [
        {
          "output_type": "stream",
          "text": [
            "Collecting bayesian-optimization\n",
            "  Downloading https://files.pythonhosted.org/packages/bb/7a/fd8059a3881d3ab37ac8f72f56b73937a14e8bb14a9733e68cc8b17dbe3c/bayesian-optimization-1.2.0.tar.gz\n",
            "Requirement already satisfied: numpy>=1.9.0 in /usr/local/lib/python3.7/dist-packages (from bayesian-optimization) (1.19.5)\n",
            "Requirement already satisfied: scipy>=0.14.0 in /usr/local/lib/python3.7/dist-packages (from bayesian-optimization) (1.4.1)\n",
            "Requirement already satisfied: scikit-learn>=0.18.0 in /usr/local/lib/python3.7/dist-packages (from bayesian-optimization) (0.22.2.post1)\n",
            "Requirement already satisfied: joblib>=0.11 in /usr/local/lib/python3.7/dist-packages (from scikit-learn>=0.18.0->bayesian-optimization) (1.0.1)\n",
            "Building wheels for collected packages: bayesian-optimization\n",
            "  Building wheel for bayesian-optimization (setup.py) ... \u001b[?25l\u001b[?25hdone\n",
            "  Created wheel for bayesian-optimization: filename=bayesian_optimization-1.2.0-cp37-none-any.whl size=11686 sha256=13a90544c739290a7e66731b876402ba580036175f0326b3cd917bcb864bb332\n",
            "  Stored in directory: /root/.cache/pip/wheels/5a/56/ae/e0e3c1fc1954dc3ec712e2df547235ed072b448094d8f94aec\n",
            "Successfully built bayesian-optimization\n",
            "Installing collected packages: bayesian-optimization\n",
            "Successfully installed bayesian-optimization-1.2.0\n"
          ],
          "name": "stdout"
        }
      ]
    },
    {
      "cell_type": "code",
      "metadata": {
        "id": "WPzroRg_flq3",
        "colab": {
          "base_uri": "https://localhost:8080/"
        },
        "outputId": "bf3938e9-3273-46e1-f861-e4e06e464b04"
      },
      "source": [
        "!pip install Catboost\n",
        "from catboost import CatBoostRegressor\n",
        "from lightgbm import LGBMRegressor"
      ],
      "execution_count": 11,
      "outputs": [
        {
          "output_type": "stream",
          "text": [
            "Collecting Catboost\n",
            "\u001b[?25l  Downloading https://files.pythonhosted.org/packages/5a/41/24e14322b9986cf72a8763e0a0a69cc256cf963cf9502c8f0044a62c1ae8/catboost-0.26-cp37-none-manylinux1_x86_64.whl (69.2MB)\n",
            "\u001b[K     |████████████████████████████████| 69.2MB 62kB/s \n",
            "\u001b[?25hRequirement already satisfied: pandas>=0.24.0 in /usr/local/lib/python3.7/dist-packages (from Catboost) (1.1.5)\n",
            "Requirement already satisfied: numpy>=1.16.0 in /usr/local/lib/python3.7/dist-packages (from Catboost) (1.19.5)\n",
            "Requirement already satisfied: plotly in /usr/local/lib/python3.7/dist-packages (from Catboost) (4.4.1)\n",
            "Requirement already satisfied: matplotlib in /usr/local/lib/python3.7/dist-packages (from Catboost) (3.2.2)\n",
            "Requirement already satisfied: scipy in /usr/local/lib/python3.7/dist-packages (from Catboost) (1.4.1)\n",
            "Requirement already satisfied: six in /usr/local/lib/python3.7/dist-packages (from Catboost) (1.15.0)\n",
            "Requirement already satisfied: graphviz in /usr/local/lib/python3.7/dist-packages (from Catboost) (0.10.1)\n",
            "Requirement already satisfied: pytz>=2017.2 in /usr/local/lib/python3.7/dist-packages (from pandas>=0.24.0->Catboost) (2018.9)\n",
            "Requirement already satisfied: python-dateutil>=2.7.3 in /usr/local/lib/python3.7/dist-packages (from pandas>=0.24.0->Catboost) (2.8.1)\n",
            "Requirement already satisfied: retrying>=1.3.3 in /usr/local/lib/python3.7/dist-packages (from plotly->Catboost) (1.3.3)\n",
            "Requirement already satisfied: cycler>=0.10 in /usr/local/lib/python3.7/dist-packages (from matplotlib->Catboost) (0.10.0)\n",
            "Requirement already satisfied: kiwisolver>=1.0.1 in /usr/local/lib/python3.7/dist-packages (from matplotlib->Catboost) (1.3.1)\n",
            "Requirement already satisfied: pyparsing!=2.0.4,!=2.1.2,!=2.1.6,>=2.0.1 in /usr/local/lib/python3.7/dist-packages (from matplotlib->Catboost) (2.4.7)\n",
            "Installing collected packages: Catboost\n",
            "Successfully installed Catboost-0.26\n"
          ],
          "name": "stdout"
        }
      ]
    },
    {
      "cell_type": "code",
      "metadata": {
        "id": "HbrhwrghxEtx"
      },
      "source": [
        "dangjin_interpolated['Forecast_time'] = dangjin_interpolated['Forecast_time'].astype('str')\n",
        "ulsan_interpolated['Forecast_time'] = ulsan_interpolated['Forecast_time'].astype('str')"
      ],
      "execution_count": 12,
      "outputs": []
    },
    {
      "cell_type": "code",
      "metadata": {
        "id": "1idRKueWWYZg"
      },
      "source": [
        "energy = energy.fillna(0)"
      ],
      "execution_count": 13,
      "outputs": []
    },
    {
      "cell_type": "markdown",
      "metadata": {
        "id": "imlrsCkKxEty"
      },
      "source": [
        "## 당진 수상태양광 예측 모델 학습"
      ]
    },
    {
      "cell_type": "code",
      "metadata": {
        "id": "eIg1h8Os6SpV"
      },
      "source": [
        "bayesian_params = {\n",
        "    'max_depth': (5, 20), \n",
        "    'num_leaves': (24, 64), \n",
        "    'min_child_samples': (10, 200), \n",
        "    'min_child_weight':(1, 50),\n",
        "    'subsample':(0.5, 1.0),\n",
        "    'colsample_bytree': (0.5, 1.0),\n",
        "    'max_bin':(10, 500),\n",
        "    'reg_lambda':(0.001, 10),\n",
        "    'reg_alpha': (0.01, 50) \n",
        "}\n",
        "\n",
        "def lgb_eval(max_depth, num_leaves, min_child_samples, min_child_weight, subsample, \n",
        "                colsample_bytree,max_bin, reg_lambda, reg_alpha):\n",
        "    params = {\n",
        "        \"n_estimators\":1000, \"learning_rate\":0.01,\n",
        "        'max_depth': int(round(max_depth)), #  호출 시 실수형 값이 들어오므로 정수형 하이퍼 파라미터는 정수형으로 변경 \n",
        "        'num_leaves': int(round(num_leaves)), \n",
        "        'min_child_samples': int(round(min_child_samples)),\n",
        "        'min_child_weight': int(round(min_child_weight)),\n",
        "        'subsample': max(min(subsample, 1), 0), \n",
        "        'colsample_bytree': max(min(colsample_bytree, 1), 0),\n",
        "        'max_bin':  max(int(round(max_bin)),10),\n",
        "        'reg_lambda': max(reg_lambda,0),\n",
        "        'reg_alpha': max(reg_alpha, 0),\n",
        "        \"metric\" : 'rmse'\n",
        "    }\n",
        "    cv_result = lgb.cv(params, train_data, nfold=5, seed=0, verbose_eval =200,stratified=False)\n",
        "    return (-1.0 * np.array(cv_result['rmse-mean'])).max()\n",
        "\n",
        "train_x, train_y, val_x, val_y = train_datast(energy, dangjin_interpolated, target='dangjin_floating')\n",
        "train_data = lgb.Dataset(train_x, train_y)\n",
        "lgbBO = BayesianOptimization(lgb_eval, bayesian_params, random_state=42)\n",
        "\n",
        "\n",
        "lgbBO.maximize(init_points=5, n_iter=25)\n",
        "####################################################\n",
        "# dictionary에 있는 target값을 모두 추출\n",
        "target_list = []\n",
        "for result in lgbBO.res:\n",
        "    target = result['target']\n",
        "    target_list.append(target)\n",
        "print(target_list)\n",
        "# 가장 큰 target 값을 가지는 순번(index)를 추출\n",
        "print('maximum target index:', np.argmax(np.array(target_list)))\n",
        "\n",
        "#################################################################\n",
        "# 가장 큰 target값을 가지는 index값을 기준으로 res에서 해당 parameter 추출. \n",
        "max_dict = lgbBO.res[np.argmax(np.array(target_list))]\n",
        "print(max_dict)"
      ],
      "execution_count": null,
      "outputs": []
    },
    {
      "cell_type": "markdown",
      "metadata": {
        "id": "jm4_s5w0KAKT"
      },
      "source": [
        "## K-fold dataset"
      ]
    },
    {
      "cell_type": "code",
      "metadata": {
        "id": "HhRkvI5oAB1R"
      },
      "source": [
        "from sklearn.model_selection import StratifiedKFold\n",
        "import random"
      ],
      "execution_count": 16,
      "outputs": []
    },
    {
      "cell_type": "code",
      "metadata": {
        "id": "uhDXMNMiAaf1"
      },
      "source": [
        "def kfold_datast(energy_df, fcst_df, target):\n",
        "    # 일기 예보 있는 날짜만 선택\n",
        "    energy = energy_df.loc[24:]\n",
        "    energy.index = range(energy.shape[0])\n",
        "    \n",
        "    # 발전량 데이터가 있는 날짜만 선택\n",
        "    fcst = fcst_df.loc[:25608-1]\n",
        "    fcst.index = range(fcst.shape[0])\n",
        "    \n",
        "    # 발전량과 일기예보 연결\n",
        "    concat_df = pd.concat([energy, fcst], axis=1)\n",
        "    \n",
        "    # 예보 시간 및 날짜 정보 feature로 추가\n",
        "    concat_df['date'] = concat_df['Forecast_time'].str.split(' ').str[0]\n",
        "    concat_df['hour'] = concat_df['Forecast_time'].str.split(' ').str[1].str.split(':').str[0].astype(int)\n",
        "    \n",
        "    concat_df['year'] = concat_df['date'].str.split('-').str[0].astype(int)\n",
        "    concat_df['month'] = concat_df['date'].str.split('-').str[1].astype(int)\n",
        "    concat_df['day'] = concat_df['date'].str.split('-').str[2].astype(int)\n",
        "    \n",
        "    # 예보 시간, 날짜, 기상 예보 및 발전량 선택\n",
        "    feature_df = concat_df[['year', 'month', 'day', 'hour', 'Temperature', 'Humidity', 'WindSpeed', 'WindDirection', 'Cloud', target]]\n",
        "    return feature_df"
      ],
      "execution_count": 17,
      "outputs": []
    },
    {
      "cell_type": "code",
      "metadata": {
        "id": "OTggmqyFBvoD"
      },
      "source": [
        "random.seed(42)\n",
        "lgb1_models={}\n",
        "target = 'dangjin_floating'\n",
        "\n",
        "skf = StratifiedKFold(n_splits=10, shuffle=True, random_state=42)\n",
        "folds=[]\n",
        "train = kfold_datast (energy, dangjin_interpolated, target=target)\n",
        "\n",
        "\n",
        "for train_idx, valid_idx in skf.split(train, train['dangjin_floating']):\n",
        "    folds.append((train_idx, valid_idx))\n",
        "\n",
        "for fold in range(10):\n",
        "    print(f'===================================={fold+1}============================================')\n",
        "    train_idx, valid_idx = folds[fold]\n",
        "    train_x, val_x, train_y, val_y = train.drop([target],axis=1).iloc[train_idx].values, train.drop([target],axis=1).iloc[valid_idx].values,\\\n",
        "                                         train[target][train_idx].values, train[target][valid_idx].values \n",
        "    lgb = LGBMRegressor(n_estimators=5000 ,random_seed=42, learning_rate=0.005,depth = 10,loss_function='MultiRMSE',\n",
        "                                        colsample_bytree =  1,max_depth = 17, min_child_samples = 17, min_child_weight = 14, num_leaves = 63, reg_alpha=49.75855787791481, reg_lambda= 0.026935271560602856, subsample= 1.0)\n",
        "    lgb.fit(train_x, train_y,\n",
        "                    eval_set=[(train_x, train_y), (val_x, val_y)],\n",
        "                    early_stopping_rounds=50,verbose=100)\n",
        "    lgb1_models[fold]=lgb\n",
        "    print(f'================================================================================\\n\\n')\n",
        "    #2364"
      ],
      "execution_count": null,
      "outputs": []
    },
    {
      "cell_type": "markdown",
      "metadata": {
        "id": "nyUbKEn1nZsa"
      },
      "source": [
        "### 모델저장"
      ]
    },
    {
      "cell_type": "code",
      "metadata": {
        "id": "oENTwj_1n2Ql"
      },
      "source": [
        "from sklearn.externals import joblib\n",
        "for i in range(10):\n",
        "    joblib.dump(lgb1_models[i],'./dangjin_floating/dangjin_floating_{0}.pkl'.format(i+1))"
      ],
      "execution_count": 47,
      "outputs": []
    },
    {
      "cell_type": "markdown",
      "metadata": {
        "id": "Y8G3ejuTWf5T"
      },
      "source": [
        "### cat boost 사용 x "
      ]
    },
    {
      "cell_type": "code",
      "metadata": {
        "id": "4XQQ7cKV06e0"
      },
      "source": [
        "'''train_x, train_y, val_x, val_y = train_datast(energy, dangjin_interpolated, target='dangjin_floating')\n",
        "cat1 = CatBoostRegressor(n_estimators=5000 ,random_seed=42, learning_rate=0.005,depth = 10,loss_function='MultiRMSE')\n",
        "cat1.fit(train_x, train_y,\n",
        "                  eval_set=[(train_x, train_y), (val_x, val_y)],\n",
        "                  early_stopping_rounds=100,verbose=100)'''"
      ],
      "execution_count": null,
      "outputs": []
    },
    {
      "cell_type": "markdown",
      "metadata": {
        "id": "7UWx_fvLWiGt"
      },
      "source": [
        "### lgbm 사용"
      ]
    },
    {
      "cell_type": "code",
      "metadata": {
        "colab": {
          "base_uri": "https://localhost:8080/"
        },
        "id": "KP8YijeVm8xG",
        "outputId": "8dbc557c-1f1e-4af0-fd8e-0ece4ccb6b2d"
      },
      "source": [
        "train_x, train_y, val_x, val_y = train_datast(energy, dangjin_interpolated, target='dangjin_floating')\n",
        "dangjin_floating_model = LGBMRegressor(n_estimators=5000 ,random_seed=42, learning_rate=0.005,depth = 10,loss_function='MultiRMSE',\n",
        "                                       colsample_bytree =  1,max_depth = 17, min_child_samples = 17, min_child_weight = 14, num_leaves = 63, reg_alpha=49.75855787791481, reg_lambda= 0.026935271560602856, subsample= 1.0)\n",
        "dangjin_floating_model.fit(train_x, train_y,\n",
        "                  eval_set=[(train_x, train_y), (val_x, val_y)],\n",
        "                  early_stopping_rounds=100,verbose=100)"
      ],
      "execution_count": null,
      "outputs": [
        {
          "output_type": "stream",
          "text": [
            "Training until validation scores don't improve for 100 rounds.\n",
            "[100]\ttraining's l2: 17468.2\tvalid_1's l2: 12314.7\n",
            "[200]\ttraining's l2: 9505.46\tvalid_1's l2: 7518.53\n",
            "[300]\ttraining's l2: 6160.28\tvalid_1's l2: 5552.15\n",
            "[400]\ttraining's l2: 4621.98\tvalid_1's l2: 4734.6\n",
            "[500]\ttraining's l2: 3850.62\tvalid_1's l2: 4397.85\n",
            "[600]\ttraining's l2: 3360.87\tvalid_1's l2: 4265.15\n",
            "[700]\ttraining's l2: 3025.62\tvalid_1's l2: 4199.41\n",
            "[800]\ttraining's l2: 2769.75\tvalid_1's l2: 4179.53\n",
            "[900]\ttraining's l2: 2594.36\tvalid_1's l2: 4162.22\n",
            "[1000]\ttraining's l2: 2454.82\tvalid_1's l2: 4151.01\n",
            "[1100]\ttraining's l2: 2326.93\tvalid_1's l2: 4141.93\n",
            "[1200]\ttraining's l2: 2230.02\tvalid_1's l2: 4123.69\n",
            "[1300]\ttraining's l2: 2152.63\tvalid_1's l2: 4103.76\n",
            "[1400]\ttraining's l2: 2065.5\tvalid_1's l2: 4105.27\n",
            "Early stopping, best iteration is:\n",
            "[1309]\ttraining's l2: 2144.3\tvalid_1's l2: 4102.56\n"
          ],
          "name": "stdout"
        },
        {
          "output_type": "execute_result",
          "data": {
            "text/plain": [
              "LGBMRegressor(boosting_type='gbdt', class_weight=None, colsample_bytree=1,\n",
              "              depth=10, importance_type='split', learning_rate=0.005,\n",
              "              loss_function='MultiRMSE', max_depth=17, min_child_samples=17,\n",
              "              min_child_weight=14, min_split_gain=0.0, n_estimators=5000,\n",
              "              n_jobs=-1, num_leaves=63, objective=None, random_seed=42,\n",
              "              random_state=None, reg_alpha=49.75855787791481,\n",
              "              reg_lambda=0.026935271560602856, silent=True, subsample=1.0,\n",
              "              subsample_for_bin=200000, subsample_freq=0)"
            ]
          },
          "metadata": {
            "tags": []
          },
          "execution_count": 13
        }
      ]
    },
    {
      "cell_type": "markdown",
      "metadata": {
        "id": "wvlPbI_oxEtz"
      },
      "source": [
        "## 당진 자재 창고 태양광 예측 모델 학습"
      ]
    },
    {
      "cell_type": "code",
      "metadata": {
        "id": "Zs0NsAnsrLjJ"
      },
      "source": [
        "bayesian_params = {\n",
        "    'max_depth': (5, 20), \n",
        "    'num_leaves': (24, 64), \n",
        "    'min_child_samples': (10, 200), \n",
        "    'min_child_weight':(1, 50),\n",
        "    'subsample':(0.5, 1.0),\n",
        "    'colsample_bytree': (0.5, 1.0),\n",
        "    'max_bin':(10, 500),\n",
        "    'reg_lambda':(0.001, 10),\n",
        "    'reg_alpha': (0.01, 50) \n",
        "}\n",
        "\n",
        "def lgb_eval(max_depth, num_leaves, min_child_samples, min_child_weight, subsample, \n",
        "                colsample_bytree,max_bin, reg_lambda, reg_alpha):\n",
        "    params = {\n",
        "        \"n_estimators\":1000, \"learning_rate\":0.01,\n",
        "        'max_depth': int(round(max_depth)), #  호출 시 실수형 값이 들어오므로 정수형 하이퍼 파라미터는 정수형으로 변경 \n",
        "        'num_leaves': int(round(num_leaves)), \n",
        "        'min_child_samples': int(round(min_child_samples)),\n",
        "        'min_child_weight': int(round(min_child_weight)),\n",
        "        'subsample': max(min(subsample, 1), 0), \n",
        "        'colsample_bytree': max(min(colsample_bytree, 1), 0),\n",
        "        'max_bin':  max(int(round(max_bin)),10),\n",
        "        'reg_lambda': max(reg_lambda,0),\n",
        "        'reg_alpha': max(reg_alpha, 0),\n",
        "        \"metric\" : 'rmse'\n",
        "    }\n",
        "    cv_result = lgb.cv(params, train_data, nfold=5, seed=0, verbose_eval =200,stratified=False)\n",
        "    return (-1.0 * np.array(cv_result['rmse-mean'])).max()\n",
        "\n",
        "train_x, train_y, val_x, val_y = train_datast(energy, dangjin_interpolated, target='dangjin_warehouse')\n",
        "train_data = lgb.Dataset(train_x, train_y)\n",
        "lgbBO = BayesianOptimization(lgb_eval, bayesian_params, random_state=42)\n",
        "\n",
        "\n",
        "\n",
        "\n",
        "lgbBO.maximize(init_points=5, n_iter=25)\n",
        "####################################################\n",
        "# dictionary에 있는 target값을 모두 추출\n",
        "target_list = []\n",
        "for result in lgbBO.res:\n",
        "    target = result['target']\n",
        "    target_list.append(target)\n",
        "print(target_list)\n",
        "# 가장 큰 target 값을 가지는 순번(index)를 추출\n",
        "print('maximum target index:', np.argmax(np.array(target_list)))\n",
        "\n",
        "#################################################################\n",
        "# 가장 큰 target값을 가지는 index값을 기준으로 res에서 해당 parameter 추출. \n",
        "max_dict = lgbBO.res[np.argmax(np.array(target_list))]\n",
        "print(max_dict)"
      ],
      "execution_count": null,
      "outputs": []
    },
    {
      "cell_type": "code",
      "metadata": {
        "id": "kotOVQ2gOM2a"
      },
      "source": [
        "random.seed(42)\n",
        "cat2_models={}\n",
        "target = 'dangjin_warehouse'\n",
        "\n",
        "skf = StratifiedKFold(n_splits=10, shuffle=True, random_state=42)\n",
        "folds=[]\n",
        "train = kfold_datast (energy, dangjin_interpolated, target=target)\n",
        "\n",
        "\n",
        "for train_idx, valid_idx in skf.split(train, train['dangjin_warehouse']):\n",
        "    folds.append((train_idx, valid_idx))\n",
        "\n",
        "for fold in range(10):\n",
        "    print(f'===================================={fold+1}============================================')\n",
        "    train_idx, valid_idx = folds[fold]\n",
        "    train_x, val_x, train_y, val_y = train.drop([target],axis=1).iloc[train_idx].values, train.drop([target],axis=1).iloc[valid_idx].values,\\\n",
        "                                         train[target][train_idx].values, train[target][valid_idx].values \n",
        "    cat = CatBoostRegressor(n_estimators=5000 ,random_seed=42, learning_rate=0.005,depth = 10,loss_function='MultiRMSE')\n",
        "    cat.fit(train_x, train_y,\n",
        "                    eval_set=[(train_x, train_y), (val_x, val_y)],\n",
        "                    early_stopping_rounds=100,verbose=100)\n",
        "    cat2_models[fold]=cat\n",
        "    print(f'================================================================================\\n\\n')"
      ],
      "execution_count": null,
      "outputs": []
    },
    {
      "cell_type": "markdown",
      "metadata": {
        "id": "2pcnIeogoqqF"
      },
      "source": [
        "### 모델 저장"
      ]
    },
    {
      "cell_type": "code",
      "metadata": {
        "id": "iSg55Pvcoqgj"
      },
      "source": [
        "from sklearn.externals import joblib\n",
        "for i in range(10):\n",
        "    joblib.dump(cat2_models[i],'./dangjin_warehouse/dangjin_warehouse{0}.pkl'.format(i+1))"
      ],
      "execution_count": 48,
      "outputs": []
    },
    {
      "cell_type": "markdown",
      "metadata": {
        "id": "Pu5Kd_86Wmo9"
      },
      "source": [
        "### cat 사용"
      ]
    },
    {
      "cell_type": "code",
      "metadata": {
        "colab": {
          "base_uri": "https://localhost:8080/"
        },
        "id": "As6giXXL2NzL",
        "outputId": "48519474-b1ac-4d6e-8701-f7813636cc95"
      },
      "source": [
        "train_x, train_y, val_x, val_y = train_datast(energy, dangjin_interpolated, target='dangjin_warehouse')\n",
        "cat2 = CatBoostRegressor(n_estimators=5000 ,random_seed=42, learning_rate=0.005,depth = 10,loss_function='MultiRMSE')\n",
        "cat2.fit(train_x, train_y,\n",
        "                  eval_set=[(train_x, train_y), (val_x, val_y)],\n",
        "                  early_stopping_rounds=100,verbose=100)"
      ],
      "execution_count": null,
      "outputs": [
        {
          "output_type": "stream",
          "text": [
            "0:\tlearn: 147.2777493\ttest: 147.2777493\ttest1: 127.8906322\tbest: 127.8906322 (0)\ttotal: 75.1ms\tremaining: 6m 15s\n",
            "100:\tlearn: 103.6944464\ttest: 103.6944464\ttest1: 91.7248245\tbest: 91.7248245 (100)\ttotal: 2.45s\tremaining: 1m 59s\n",
            "200:\tlearn: 79.2017736\ttest: 79.2017736\ttest1: 72.3140566\tbest: 72.3140566 (200)\ttotal: 4.76s\tremaining: 1m 53s\n",
            "300:\tlearn: 65.9537681\ttest: 65.9537681\ttest1: 62.8602773\tbest: 62.8602773 (300)\ttotal: 7.06s\tremaining: 1m 50s\n",
            "400:\tlearn: 58.8730529\ttest: 58.8730529\ttest1: 58.3327560\tbest: 58.3327560 (400)\ttotal: 9.37s\tremaining: 1m 47s\n",
            "500:\tlearn: 54.7668253\ttest: 54.7668253\ttest1: 56.4786361\tbest: 56.4786361 (500)\ttotal: 11.7s\tremaining: 1m 44s\n",
            "600:\tlearn: 52.1889608\ttest: 52.1889608\ttest1: 55.4925947\tbest: 55.4925947 (600)\ttotal: 14s\tremaining: 1m 42s\n",
            "700:\tlearn: 50.3383994\ttest: 50.3383994\ttest1: 54.9446819\tbest: 54.9446819 (700)\ttotal: 16.3s\tremaining: 1m 39s\n",
            "800:\tlearn: 48.9941662\ttest: 48.9941662\ttest1: 54.7032289\tbest: 54.6956555 (792)\ttotal: 18.6s\tremaining: 1m 37s\n",
            "900:\tlearn: 47.8638333\ttest: 47.8638333\ttest1: 54.5639910\tbest: 54.5628820 (899)\ttotal: 20.9s\tremaining: 1m 35s\n",
            "1000:\tlearn: 46.8137927\ttest: 46.8137927\ttest1: 54.5328637\tbest: 54.5164144 (977)\ttotal: 23.3s\tremaining: 1m 32s\n",
            "1100:\tlearn: 45.8980880\ttest: 45.8980880\ttest1: 54.4402683\tbest: 54.4278601 (1091)\ttotal: 25.6s\tremaining: 1m 30s\n",
            "1200:\tlearn: 45.0772775\ttest: 45.0772775\ttest1: 54.4182723\tbest: 54.3833887 (1164)\ttotal: 28s\tremaining: 1m 28s\n",
            "Stopped by overfitting detector  (100 iterations wait)\n",
            "\n",
            "bestTest = 54.38338872\n",
            "bestIteration = 1164\n",
            "\n",
            "Shrink model to first 1165 iterations.\n"
          ],
          "name": "stdout"
        },
        {
          "output_type": "execute_result",
          "data": {
            "text/plain": [
              "<catboost.core.CatBoostRegressor at 0x7f2909420650>"
            ]
          },
          "metadata": {
            "tags": []
          },
          "execution_count": 14
        }
      ]
    },
    {
      "cell_type": "markdown",
      "metadata": {
        "id": "ShWoh_UhWqPk"
      },
      "source": [
        "\n",
        "### lgbm 사용 X basian optimizer 했지만 성능 하락"
      ]
    },
    {
      "cell_type": "code",
      "metadata": {
        "id": "_FTpn6zuxEtd"
      },
      "source": [
        "{'colsample_bytree': 0.7840043724584478, 'max_bin': 109.42082906265013, 'max_depth': 11.939485103471496, 'min_child_samples': 47.27436173622021, 'min_child_weight': 44.12615815161272, 'num_leaves': 61.168181706089655, 'reg_alpha': 7.967786769707356, 'reg_lambda': 1.4818125424587414, 'subsample': 0.835744966051806}}"
      ],
      "execution_count": null,
      "outputs": []
    },
    {
      "cell_type": "code",
      "metadata": {
        "colab": {
          "base_uri": "https://localhost:8080/"
        },
        "id": "Jy5JgE3Ereti",
        "outputId": "9f306aba-2c56-4072-b262-f512d0e2d513"
      },
      "source": [
        "train_x, train_y, val_x, val_y = train_datast(energy, dangjin_interpolated, target='dangjin_warehouse')\n",
        "dangjin_warehouse_model = LGBMRegressor(n_estimators=5000 ,random_seed=42, learning_rate=0.005,depth = 8,loss_function='MultiRMSE',\n",
        "                                       colsample_bytree =  1,max_depth = 17, min_child_samples = 17, min_child_weight = 14, num_leaves = 63, reg_alpha=49.75855787791481, reg_lambda= 0.026935271560602856, subsample= 1.0)\n",
        "dangjin_warehouse_model.fit(train_x, train_y,\n",
        "                  eval_set=[(train_x, train_y), (val_x, val_y)],\n",
        "                  early_stopping_rounds=100,verbose=100)"
      ],
      "execution_count": null,
      "outputs": [
        {
          "output_type": "stream",
          "text": [
            "Training until validation scores don't improve for 100 rounds.\n",
            "[100]\ttraining's l2: 10057.3\tvalid_1's l2: 8089.53\n",
            "[200]\ttraining's l2: 5471.98\tvalid_1's l2: 4970.63\n",
            "[300]\ttraining's l2: 3539.38\tvalid_1's l2: 3813.67\n",
            "[400]\ttraining's l2: 2674.14\tvalid_1's l2: 3368.68\n",
            "[500]\ttraining's l2: 2229.72\tvalid_1's l2: 3195.32\n",
            "[600]\ttraining's l2: 1963\tvalid_1's l2: 3129.7\n",
            "[700]\ttraining's l2: 1785.8\tvalid_1's l2: 3105.45\n",
            "[800]\ttraining's l2: 1651.59\tvalid_1's l2: 3057.7\n",
            "[900]\ttraining's l2: 1547.15\tvalid_1's l2: 3032.77\n",
            "[1000]\ttraining's l2: 1460.65\tvalid_1's l2: 3021.56\n",
            "[1100]\ttraining's l2: 1380.61\tvalid_1's l2: 3024.25\n",
            "Early stopping, best iteration is:\n",
            "[1051]\ttraining's l2: 1417.22\tvalid_1's l2: 3020.03\n"
          ],
          "name": "stdout"
        },
        {
          "output_type": "execute_result",
          "data": {
            "text/plain": [
              "LGBMRegressor(boosting_type='gbdt', class_weight=None, colsample_bytree=1,\n",
              "              depth=8, importance_type='split', learning_rate=0.005,\n",
              "              loss_function='MultiRMSE', max_depth=17, min_child_samples=17,\n",
              "              min_child_weight=14, min_split_gain=0.0, n_estimators=5000,\n",
              "              n_jobs=-1, num_leaves=63, objective=None, random_seed=42,\n",
              "              random_state=None, reg_alpha=49.75855787791481,\n",
              "              reg_lambda=0.026935271560602856, silent=True, subsample=1.0,\n",
              "              subsample_for_bin=200000, subsample_freq=0)"
            ]
          },
          "metadata": {
            "tags": []
          },
          "execution_count": 20
        }
      ]
    },
    {
      "cell_type": "markdown",
      "metadata": {
        "id": "hbC-9EokxEtz"
      },
      "source": [
        "## 당진 태양광 예측 모델 학습"
      ]
    },
    {
      "cell_type": "code",
      "metadata": {
        "id": "s1ffH0mx1OxI"
      },
      "source": [
        "bayesian_params = {\n",
        "    'max_depth': (5, 20), \n",
        "    'num_leaves': (24, 64), \n",
        "    'min_child_samples': (10, 200), \n",
        "    'min_child_weight':(1, 50),\n",
        "    'subsample':(0.5, 1.0),\n",
        "    'colsample_bytree': (0.5, 1.0),\n",
        "    'max_bin':(10, 500),\n",
        "    'reg_lambda':(0.001, 10),\n",
        "    'reg_alpha': (0.01, 50) \n",
        "}\n",
        "\n",
        "def lgb_eval(max_depth, num_leaves, min_child_samples, min_child_weight, subsample, \n",
        "                colsample_bytree,max_bin, reg_lambda, reg_alpha):\n",
        "    params = {\n",
        "        \"n_estimators\":1000, \"learning_rate\":0.01,\n",
        "        'max_depth': int(round(max_depth)), #  호출 시 실수형 값이 들어오므로 정수형 하이퍼 파라미터는 정수형으로 변경 \n",
        "        'num_leaves': int(round(num_leaves)), \n",
        "        'min_child_samples': int(round(min_child_samples)),\n",
        "        'min_child_weight': int(round(min_child_weight)),\n",
        "        'subsample': max(min(subsample, 1), 0), \n",
        "        'colsample_bytree': max(min(colsample_bytree, 1), 0),\n",
        "        'max_bin':  max(int(round(max_bin)),10),\n",
        "        'reg_lambda': max(reg_lambda,0),\n",
        "        'reg_alpha': max(reg_alpha, 0),\n",
        "        \"metric\" : 'rmse'\n",
        "    }\n",
        "    cv_result = lgb.cv(params, train_data, nfold=5, seed=0, verbose_eval =200,stratified=False)\n",
        "    return (-1.0 * np.array(cv_result['rmse-mean'])).max()\n",
        "\n",
        "train_x, train_y, val_x, val_y = train_datast(energy, dangjin_interpolated, target='dangjin')\n",
        "train_data = lgb.Dataset(train_x, train_y)\n",
        "lgbBO = BayesianOptimization(lgb_eval, bayesian_params, random_state=42)\n",
        "\n",
        "\n",
        "\n",
        "lgbBO.maximize(init_points=5, n_iter=25)\n",
        "####################################################\n",
        "# dictionary에 있는 target값을 모두 추출\n",
        "target_list = []\n",
        "for result in lgbBO.res:\n",
        "    target = result['target']\n",
        "    target_list.append(target)\n",
        "print(target_list)\n",
        "# 가장 큰 target 값을 가지는 순번(index)를 추출\n",
        "print('maximum target index:', np.argmax(np.array(target_list)))\n",
        "\n",
        "#################################################################\n",
        "# 가장 큰 target값을 가지는 index값을 기준으로 res에서 해당 parameter 추출. \n",
        "max_dict = lgbBO.res[np.argmax(np.array(target_list))]\n",
        "print(max_dict)"
      ],
      "execution_count": null,
      "outputs": []
    },
    {
      "cell_type": "code",
      "metadata": {
        "id": "HfMH4iLpOldj"
      },
      "source": [
        "random.seed(42)\n",
        "cat3_models={}\n",
        "target = 'dangjin'\n",
        "\n",
        "skf = StratifiedKFold(n_splits=10, shuffle=True, random_state=42)\n",
        "folds=[]\n",
        "train = kfold_datast (energy, dangjin_interpolated, target=target)\n",
        "\n",
        "\n",
        "for train_idx, valid_idx in skf.split(train, train['dangjin']):\n",
        "    folds.append((train_idx, valid_idx))\n",
        "\n",
        "for fold in range(10):\n",
        "    print(f'===================================={fold+1}============================================')\n",
        "    train_idx, valid_idx = folds[fold]\n",
        "    train_x, val_x, train_y, val_y = train.drop([target],axis=1).iloc[train_idx].values, train.drop([target],axis=1).iloc[valid_idx].values,\\\n",
        "                                         train[target][train_idx].values, train[target][valid_idx].values \n",
        "    cat = CatBoostRegressor(n_estimators=5000 ,random_seed=42, learning_rate=0.005,depth = 10,loss_function='MultiRMSE')\n",
        "    cat.fit(train_x, train_y,\n",
        "                    eval_set=[(train_x, train_y), (val_x, val_y)],\n",
        "                    early_stopping_rounds=50,verbose=100)\n",
        "    cat3_models[fold]=cat\n",
        "    print(f'================================================================================\\n\\n')"
      ],
      "execution_count": null,
      "outputs": []
    },
    {
      "cell_type": "markdown",
      "metadata": {
        "id": "6y3ScXWQo04x"
      },
      "source": [
        "### 모델 저장"
      ]
    },
    {
      "cell_type": "code",
      "metadata": {
        "id": "WA9ZUOXEo00B"
      },
      "source": [
        "from sklearn.externals import joblib\n",
        "for i in range(10):\n",
        "    joblib.dump(cat3_models[i],'./dangjin/dangjin{0}.pkl'.format(i+1))"
      ],
      "execution_count": 49,
      "outputs": []
    },
    {
      "cell_type": "markdown",
      "metadata": {
        "id": "zYSf75c7WyW0"
      },
      "source": [
        "### cat 사용"
      ]
    },
    {
      "cell_type": "code",
      "metadata": {
        "id": "TiYN0duz2TLv",
        "colab": {
          "base_uri": "https://localhost:8080/"
        },
        "outputId": "acaff902-9d37-452e-9279-8b4f7f1af57b"
      },
      "source": [
        "train_x, train_y, val_x, val_y = train_datast(energy, dangjin_interpolated, target='dangjin')\n",
        "cat3 = CatBoostRegressor(n_estimators=5000 ,random_seed=42, learning_rate=0.005,depth = 10,loss_function='MultiRMSE')\n",
        "cat3.fit(train_x, train_y,\n",
        "                  eval_set=[(train_x, train_y), (val_x, val_y)],\n",
        "                  early_stopping_rounds=100,verbose=100)"
      ],
      "execution_count": null,
      "outputs": [
        {
          "output_type": "stream",
          "text": [
            "0:\tlearn: 221.6627612\ttest: 221.6627612\ttest1: 195.8197076\tbest: 195.8197076 (0)\ttotal: 24.2ms\tremaining: 2m 1s\n",
            "100:\tlearn: 154.3536660\ttest: 154.3536660\ttest1: 140.5623408\tbest: 140.5623408 (100)\ttotal: 2.38s\tremaining: 1m 55s\n",
            "200:\tlearn: 116.2758635\ttest: 116.2758635\ttest1: 111.7606646\tbest: 111.7606646 (200)\ttotal: 4.71s\tremaining: 1m 52s\n",
            "300:\tlearn: 95.6359842\ttest: 95.6359842\ttest1: 97.2736954\tbest: 97.2736954 (300)\ttotal: 7s\tremaining: 1m 49s\n",
            "400:\tlearn: 84.8683633\ttest: 84.8683633\ttest1: 90.2021170\tbest: 90.2021170 (400)\ttotal: 9.29s\tremaining: 1m 46s\n",
            "500:\tlearn: 78.9467163\ttest: 78.9467163\ttest1: 86.7140935\tbest: 86.7140935 (500)\ttotal: 11.6s\tremaining: 1m 44s\n",
            "600:\tlearn: 75.4799602\ttest: 75.4799602\ttest1: 85.0015122\tbest: 85.0015122 (600)\ttotal: 13.9s\tremaining: 1m 41s\n",
            "700:\tlearn: 73.1411108\ttest: 73.1411108\ttest1: 84.1336129\tbest: 84.1215786 (699)\ttotal: 16.2s\tremaining: 1m 39s\n",
            "800:\tlearn: 71.4765393\ttest: 71.4765393\ttest1: 83.5197950\tbest: 83.5197950 (800)\ttotal: 18.5s\tremaining: 1m 36s\n",
            "900:\tlearn: 69.9903153\ttest: 69.9903153\ttest1: 83.1620043\tbest: 83.1620043 (900)\ttotal: 20.8s\tremaining: 1m 34s\n",
            "1000:\tlearn: 68.7283489\ttest: 68.7283489\ttest1: 83.0468016\tbest: 83.0328890 (984)\ttotal: 23.1s\tremaining: 1m 32s\n",
            "1100:\tlearn: 67.6294485\ttest: 67.6294485\ttest1: 82.9540623\tbest: 82.9409399 (1095)\ttotal: 25.4s\tremaining: 1m 29s\n",
            "1200:\tlearn: 66.5143704\ttest: 66.5143704\ttest1: 82.8940944\tbest: 82.8903610 (1154)\ttotal: 27.7s\tremaining: 1m 27s\n",
            "1300:\tlearn: 65.4871967\ttest: 65.4871967\ttest1: 82.7963800\tbest: 82.7895490 (1297)\ttotal: 30s\tremaining: 1m 25s\n",
            "1400:\tlearn: 64.5038851\ttest: 64.5038851\ttest1: 82.7766160\tbest: 82.7654476 (1391)\ttotal: 32.3s\tremaining: 1m 22s\n",
            "1500:\tlearn: 63.5711604\ttest: 63.5711604\ttest1: 82.7989629\tbest: 82.7612857 (1414)\ttotal: 34.6s\tremaining: 1m 20s\n",
            "Stopped by overfitting detector  (100 iterations wait)\n",
            "\n",
            "bestTest = 82.76128574\n",
            "bestIteration = 1414\n",
            "\n",
            "Shrink model to first 1415 iterations.\n"
          ],
          "name": "stdout"
        },
        {
          "output_type": "execute_result",
          "data": {
            "text/plain": [
              "<catboost.core.CatBoostRegressor at 0x7f290a0d7210>"
            ]
          },
          "metadata": {
            "tags": []
          },
          "execution_count": 15
        }
      ]
    },
    {
      "cell_type": "markdown",
      "metadata": {
        "id": "3XZvWrULW0VV"
      },
      "source": [
        "\n",
        "### lgbm 사용 X basian optimizer 했지만 성능 하락"
      ]
    },
    {
      "cell_type": "code",
      "metadata": {
        "id": "USqFbSNL12bR"
      },
      "source": [
        "{'target': -67.37835160276464, 'params': {'colsample_bytree': 0.8803371255183132, 'max_bin': 366.3312849753787, 'max_depth': 14.426679148899519, 'min_child_samples': 24.334988996735756, 'min_child_weight': 14.85309783894488, 'num_leaves': 41.115245176939176, 'reg_alpha': 1.1811080746620453, 'reg_lambda': 9.672295351116277, 'subsample': 0.6051769440265253}}"
      ],
      "execution_count": null,
      "outputs": []
    },
    {
      "cell_type": "code",
      "metadata": {
        "id": "SNKGUwHq3HNO",
        "colab": {
          "base_uri": "https://localhost:8080/"
        },
        "outputId": "cfc25bda-3608-455e-f24a-0884fa8b3470"
      },
      "source": [
        "train_x, train_y, val_x, val_y = train_datast(energy, dangjin_interpolated, target='dangjin')\n",
        "dangjin_model = LGBMRegressor(n_estimators=5000 ,random_seed=42, learning_rate=0.005,depth = 8,loss_function='MultiRMSE',\n",
        "                                       colsample_bytree =  0.7840043724584478,max_bin= 109,num_leaves = 61,\n",
        "                                        max_depth = 12, min_child_samples = 47, min_child_weight = 44, reg_alpha=7.96, reg_lambda= 1.48, subsample= 0.835744966051806)\n",
        "dangjin_model.fit(train_x, train_y,\n",
        "                  eval_set=[(train_x, train_y), (val_x, val_y)],\n",
        "                  early_stopping_rounds=100,verbose=100)"
      ],
      "execution_count": null,
      "outputs": [
        {
          "output_type": "stream",
          "text": [
            "Training until validation scores don't improve for 100 rounds.\n",
            "[100]\ttraining's l2: 23972.9\tvalid_1's l2: 20038.7\n",
            "[200]\ttraining's l2: 13505.7\tvalid_1's l2: 12722.1\n",
            "[300]\ttraining's l2: 8680.92\tvalid_1's l2: 9453.09\n",
            "[400]\ttraining's l2: 6494.53\tvalid_1's l2: 8076.26\n",
            "[500]\ttraining's l2: 5396.67\tvalid_1's l2: 7532.7\n",
            "[600]\ttraining's l2: 4788.04\tvalid_1's l2: 7312.69\n",
            "[700]\ttraining's l2: 4394.52\tvalid_1's l2: 7184.58\n",
            "[800]\ttraining's l2: 4115.53\tvalid_1's l2: 7123.25\n",
            "[900]\ttraining's l2: 3903.11\tvalid_1's l2: 7085.49\n",
            "[1000]\ttraining's l2: 3718.13\tvalid_1's l2: 7095.42\n",
            "Early stopping, best iteration is:\n",
            "[912]\ttraining's l2: 3878.86\tvalid_1's l2: 7080.32\n"
          ],
          "name": "stdout"
        },
        {
          "output_type": "execute_result",
          "data": {
            "text/plain": [
              "LGBMRegressor(boosting_type='gbdt', class_weight=None,\n",
              "              colsample_bytree=0.7840043724584478, depth=8,\n",
              "              importance_type='split', learning_rate=0.005,\n",
              "              loss_function='MultiRMSE', max_bin=109, max_depth=12,\n",
              "              min_child_samples=47, min_child_weight=44, min_split_gain=0.0,\n",
              "              n_estimators=5000, n_jobs=-1, num_leaves=61, objective=None,\n",
              "              random_seed=42, random_state=None, reg_alpha=7.96,\n",
              "              reg_lambda=1.48, silent=True, subsample=0.835744966051806,\n",
              "              subsample_for_bin=200000, subsample_freq=0)"
            ]
          },
          "metadata": {
            "tags": []
          },
          "execution_count": 33
        }
      ]
    },
    {
      "cell_type": "markdown",
      "metadata": {
        "id": "tnYH_ovOxEt0"
      },
      "source": [
        "## 울산 태양광 예측 모델 학습"
      ]
    },
    {
      "cell_type": "code",
      "metadata": {
        "id": "l6A1Yj8p3627"
      },
      "source": [
        "bayesian_params = {\n",
        "    'max_depth': (5, 20), \n",
        "    'num_leaves': (24, 64), \n",
        "    'min_child_samples': (10, 200), \n",
        "    'min_child_weight':(1, 50),\n",
        "    'subsample':(0.5, 1.0),\n",
        "    'colsample_bytree': (0.5, 1.0),\n",
        "    'max_bin':(10, 500),\n",
        "    'reg_lambda':(0.001, 10),\n",
        "    'reg_alpha': (0.01, 50) \n",
        "}\n",
        "\n",
        "def lgb_eval(max_depth, num_leaves, min_child_samples, min_child_weight, subsample, \n",
        "                colsample_bytree,max_bin, reg_lambda, reg_alpha):\n",
        "    params = {\n",
        "        \"n_estimators\":1000, \"learning_rate\":0.01,\n",
        "        'max_depth': int(round(max_depth)), #  호출 시 실수형 값이 들어오므로 정수형 하이퍼 파라미터는 정수형으로 변경 \n",
        "        'num_leaves': int(round(num_leaves)), \n",
        "        'min_child_samples': int(round(min_child_samples)),\n",
        "        'min_child_weight': int(round(min_child_weight)),\n",
        "        'subsample': max(min(subsample, 1), 0), \n",
        "        'colsample_bytree': max(min(colsample_bytree, 1), 0),\n",
        "        'max_bin':  max(int(round(max_bin)),10),\n",
        "        'reg_lambda': max(reg_lambda,0),\n",
        "        'reg_alpha': max(reg_alpha, 0),\n",
        "        \"metric\" : 'rmse'\n",
        "    }\n",
        "    cv_result = lgb.cv(params, train_data, nfold=5, seed=0, verbose_eval =200,stratified=False)\n",
        "    return (-1.0 * np.array(cv_result['rmse-mean'])).max()\n",
        "\n",
        "train_x, train_y, val_x, val_y = train_datast(energy, ulsan_interpolated, target='ulsan')\n",
        "train_data = lgb.Dataset(train_x, train_y)\n",
        "\n",
        "lgbB1 = BayesianOptimization(lgb_eval, bayesian_params, random_state=42)\n",
        "\n",
        "\n",
        "lgbB1.maximize(init_points=5, n_iter=25)\n",
        "####################################################\n",
        "# dictionary에 있는 target값을 모두 추출\n",
        "target_list = []\n",
        "for result in lgbB1.res:\n",
        "    target = result['target']\n",
        "    target_list.append(target)\n",
        "print(target_list)\n",
        "# 가장 큰 target 값을 가지는 순번(index)를 추출\n",
        "print('maximum target index:', np.argmax(np.array(target_list)))\n",
        "\n",
        "#################################################################\n",
        "# 가장 큰 target값을 가지는 index값을 기준으로 res에서 해당 parameter 추출. \n",
        "max_dict = lgbB1.res[np.argmax(np.array(target_list))]\n",
        "print(max_dict)"
      ],
      "execution_count": null,
      "outputs": []
    },
    {
      "cell_type": "code",
      "metadata": {
        "id": "-1TlZZQwO2wk"
      },
      "source": [
        "random.seed(42)\n",
        "cat4_models={}\n",
        "target = 'ulsan'\n",
        "\n",
        "skf = StratifiedKFold(n_splits=10, shuffle=True, random_state=42)\n",
        "folds=[]\n",
        "train = kfold_datast (energy, dangjin_interpolated, target=target)\n",
        "\n",
        "\n",
        "for train_idx, valid_idx in skf.split(train, train['ulsan']):\n",
        "    folds.append((train_idx, valid_idx))\n",
        "\n",
        "for fold in range(10):\n",
        "    print(f'===================================={fold+1}============================================')\n",
        "    train_idx, valid_idx = folds[fold]\n",
        "    train_x, val_x, train_y, val_y = train.drop([target],axis=1).iloc[train_idx].values, train.drop([target],axis=1).iloc[valid_idx].values,\\\n",
        "                                         train[target][train_idx].values, train[target][valid_idx].values \n",
        "    cat = CatBoostRegressor(n_estimators=5000 ,random_seed=42, learning_rate=0.005,depth = 10,loss_function='MultiRMSE')\n",
        "    cat.fit(train_x, train_y,\n",
        "                    eval_set=[(train_x, train_y), (val_x, val_y)],\n",
        "                    early_stopping_rounds=50,verbose=100)\n",
        "    cat4_models[fold]=cat\n",
        "    print(f'================================================================================\\n\\n')"
      ],
      "execution_count": null,
      "outputs": []
    },
    {
      "cell_type": "markdown",
      "metadata": {
        "id": "H-w4sGayo_ib"
      },
      "source": [
        "### 모델 저장\n"
      ]
    },
    {
      "cell_type": "code",
      "metadata": {
        "id": "jQD-r5rjpC9w"
      },
      "source": [
        "from sklearn.externals import joblib\n",
        "for i in range(10):\n",
        "    joblib.dump(cat4_models[i],'./ulsan/ulsan_{0}.pkl'.format(i+1))"
      ],
      "execution_count": 50,
      "outputs": []
    },
    {
      "cell_type": "markdown",
      "metadata": {
        "id": "_V1NfBzwW4u5"
      },
      "source": [
        "## cat사용"
      ]
    },
    {
      "cell_type": "code",
      "metadata": {
        "id": "wxF51gPG2XRo",
        "colab": {
          "base_uri": "https://localhost:8080/"
        },
        "outputId": "1083e5ef-fa5c-4380-9d14-5be6b3c6614e"
      },
      "source": [
        "train_x, train_y, val_x, val_y = train_datast(energy, ulsan_interpolated, target='ulsan')\n",
        "cat4 = CatBoostRegressor(n_estimators=5000 ,random_seed=42, learning_rate=0.005,depth = 10,loss_function='MultiRMSE',)\n",
        "cat4.fit(train_x, train_y,\n",
        "                  eval_set=[(train_x, train_y), (val_x, val_y)],\n",
        "                  early_stopping_rounds=100,verbose=100)"
      ],
      "execution_count": null,
      "outputs": [
        {
          "output_type": "stream",
          "text": [
            "0:\tlearn: 100.9963701\ttest: 100.9963701\ttest1: 96.1193850\tbest: 96.1193850 (0)\ttotal: 24.2ms\tremaining: 2m 1s\n",
            "100:\tlearn: 70.2557123\ttest: 70.2557123\ttest1: 65.9418300\tbest: 65.9418300 (100)\ttotal: 2.3s\tremaining: 1m 51s\n",
            "200:\tlearn: 52.9166766\ttest: 52.9166766\ttest1: 48.9462749\tbest: 48.9462749 (200)\ttotal: 4.6s\tremaining: 1m 49s\n",
            "300:\tlearn: 43.6255030\ttest: 43.6255030\ttest1: 39.6344758\tbest: 39.6344758 (300)\ttotal: 6.9s\tremaining: 1m 47s\n",
            "400:\tlearn: 38.5923310\ttest: 38.5923310\ttest1: 34.3495232\tbest: 34.3495232 (400)\ttotal: 9.2s\tremaining: 1m 45s\n",
            "500:\tlearn: 35.7032955\ttest: 35.7032955\ttest1: 31.5021386\tbest: 31.5021386 (500)\ttotal: 11.5s\tremaining: 1m 43s\n",
            "600:\tlearn: 33.9247382\ttest: 33.9247382\ttest1: 29.8900932\tbest: 29.8900932 (600)\ttotal: 13.8s\tremaining: 1m 40s\n",
            "700:\tlearn: 32.6665984\ttest: 32.6665984\ttest1: 28.8877333\tbest: 28.8877333 (700)\ttotal: 16.1s\tremaining: 1m 38s\n",
            "800:\tlearn: 31.7384537\ttest: 31.7384537\ttest1: 28.2436411\tbest: 28.2436411 (800)\ttotal: 18.3s\tremaining: 1m 36s\n",
            "900:\tlearn: 30.9848810\ttest: 30.9848810\ttest1: 27.8251918\tbest: 27.8251918 (900)\ttotal: 20.6s\tremaining: 1m 33s\n",
            "1000:\tlearn: 30.3210093\ttest: 30.3210093\ttest1: 27.5557845\tbest: 27.5557845 (1000)\ttotal: 22.9s\tremaining: 1m 31s\n",
            "1100:\tlearn: 29.7079203\ttest: 29.7079203\ttest1: 27.3250746\tbest: 27.3250746 (1100)\ttotal: 25.2s\tremaining: 1m 29s\n",
            "1200:\tlearn: 29.1775553\ttest: 29.1775553\ttest1: 27.1653388\tbest: 27.1650232 (1199)\ttotal: 27.5s\tremaining: 1m 27s\n",
            "1300:\tlearn: 28.6792974\ttest: 28.6792974\ttest1: 27.0527238\tbest: 27.0514391 (1299)\ttotal: 29.9s\tremaining: 1m 24s\n",
            "1400:\tlearn: 28.2127165\ttest: 28.2127165\ttest1: 26.9647100\tbest: 26.9554187 (1372)\ttotal: 32.1s\tremaining: 1m 22s\n",
            "1500:\tlearn: 27.7908804\ttest: 27.7908804\ttest1: 26.8944562\tbest: 26.8944562 (1500)\ttotal: 34.5s\tremaining: 1m 20s\n",
            "1600:\tlearn: 27.3771353\ttest: 27.3771353\ttest1: 26.8058937\tbest: 26.8058937 (1600)\ttotal: 36.8s\tremaining: 1m 18s\n",
            "1700:\tlearn: 26.9615836\ttest: 26.9615836\ttest1: 26.7475442\tbest: 26.7443349 (1696)\ttotal: 39.1s\tremaining: 1m 15s\n",
            "1800:\tlearn: 26.5661085\ttest: 26.5661085\ttest1: 26.7370338\tbest: 26.7323804 (1772)\ttotal: 41.4s\tremaining: 1m 13s\n",
            "1900:\tlearn: 26.2128403\ttest: 26.2128403\ttest1: 26.6915161\tbest: 26.6913856 (1898)\ttotal: 43.7s\tremaining: 1m 11s\n",
            "2000:\tlearn: 25.8664413\ttest: 25.8664413\ttest1: 26.6524243\tbest: 26.6524243 (2000)\ttotal: 46s\tremaining: 1m 8s\n",
            "2100:\tlearn: 25.5535934\ttest: 25.5535934\ttest1: 26.6193069\tbest: 26.6193069 (2100)\ttotal: 48.3s\tremaining: 1m 6s\n",
            "2200:\tlearn: 25.2157318\ttest: 25.2157318\ttest1: 26.5776758\tbest: 26.5761645 (2199)\ttotal: 50.6s\tremaining: 1m 4s\n",
            "2300:\tlearn: 24.8998493\ttest: 24.8998493\ttest1: 26.5345289\tbest: 26.5316073 (2295)\ttotal: 52.9s\tremaining: 1m 2s\n",
            "2400:\tlearn: 24.6100209\ttest: 24.6100209\ttest1: 26.5023665\tbest: 26.5022429 (2399)\ttotal: 55.2s\tremaining: 59.7s\n",
            "2500:\tlearn: 24.3125343\ttest: 24.3125343\ttest1: 26.4718799\tbest: 26.4712441 (2498)\ttotal: 57.5s\tremaining: 57.4s\n",
            "2600:\tlearn: 24.0285646\ttest: 24.0285646\ttest1: 26.4535606\tbest: 26.4535606 (2600)\ttotal: 59.8s\tremaining: 55.1s\n",
            "2700:\tlearn: 23.7512299\ttest: 23.7512299\ttest1: 26.4526803\tbest: 26.4409700 (2646)\ttotal: 1m 2s\tremaining: 52.9s\n",
            "2800:\tlearn: 23.4886702\ttest: 23.4886702\ttest1: 26.4251218\tbest: 26.4230810 (2793)\ttotal: 1m 4s\tremaining: 50.5s\n",
            "2900:\tlearn: 23.2265610\ttest: 23.2265610\ttest1: 26.3952457\tbest: 26.3941668 (2895)\ttotal: 1m 6s\tremaining: 48.3s\n",
            "3000:\tlearn: 22.9842135\ttest: 22.9842135\ttest1: 26.3777949\tbest: 26.3770331 (2992)\ttotal: 1m 8s\tremaining: 46s\n",
            "3100:\tlearn: 22.7326865\ttest: 22.7326865\ttest1: 26.3485659\tbest: 26.3485659 (3100)\ttotal: 1m 11s\tremaining: 43.7s\n",
            "3200:\tlearn: 22.5032961\ttest: 22.5032961\ttest1: 26.3341566\tbest: 26.3340978 (3170)\ttotal: 1m 13s\tremaining: 41.4s\n",
            "3300:\tlearn: 22.2756156\ttest: 22.2756156\ttest1: 26.3196301\tbest: 26.3179050 (3294)\ttotal: 1m 15s\tremaining: 39.1s\n",
            "3400:\tlearn: 22.0615523\ttest: 22.0615523\ttest1: 26.3005909\tbest: 26.3005909 (3400)\ttotal: 1m 18s\tremaining: 36.8s\n",
            "3500:\tlearn: 21.8539499\ttest: 21.8539499\ttest1: 26.2802258\tbest: 26.2775065 (3498)\ttotal: 1m 20s\tremaining: 34.5s\n",
            "3600:\tlearn: 21.6520421\ttest: 21.6520421\ttest1: 26.2673973\tbest: 26.2652922 (3582)\ttotal: 1m 22s\tremaining: 32.2s\n",
            "3700:\tlearn: 21.4545859\ttest: 21.4545859\ttest1: 26.2458282\tbest: 26.2436422 (3687)\ttotal: 1m 25s\tremaining: 29.9s\n",
            "3800:\tlearn: 21.2653271\ttest: 21.2653271\ttest1: 26.2329662\tbest: 26.2329421 (3796)\ttotal: 1m 27s\tremaining: 27.6s\n",
            "3900:\tlearn: 21.0680313\ttest: 21.0680313\ttest1: 26.2100250\tbest: 26.2090477 (3899)\ttotal: 1m 29s\tremaining: 25.3s\n",
            "4000:\tlearn: 20.8762946\ttest: 20.8762946\ttest1: 26.2016360\tbest: 26.2016360 (4000)\ttotal: 1m 32s\tremaining: 23s\n",
            "4100:\tlearn: 20.6993649\ttest: 20.6993649\ttest1: 26.2044388\tbest: 26.1958660 (4051)\ttotal: 1m 34s\tremaining: 20.7s\n",
            "4200:\tlearn: 20.5182063\ttest: 20.5182063\ttest1: 26.1807575\tbest: 26.1805761 (4199)\ttotal: 1m 36s\tremaining: 18.4s\n",
            "4300:\tlearn: 20.3432152\ttest: 20.3432152\ttest1: 26.1739942\tbest: 26.1725866 (4274)\ttotal: 1m 39s\tremaining: 16.1s\n",
            "4400:\tlearn: 20.1677648\ttest: 20.1677648\ttest1: 26.1850715\tbest: 26.1713662 (4320)\ttotal: 1m 41s\tremaining: 13.8s\n",
            "Stopped by overfitting detector  (100 iterations wait)\n",
            "\n",
            "bestTest = 26.17136624\n",
            "bestIteration = 4320\n",
            "\n",
            "Shrink model to first 4321 iterations.\n"
          ],
          "name": "stdout"
        },
        {
          "output_type": "execute_result",
          "data": {
            "text/plain": [
              "<catboost.core.CatBoostRegressor at 0x7f290a60a890>"
            ]
          },
          "metadata": {
            "tags": []
          },
          "execution_count": 16
        }
      ]
    },
    {
      "cell_type": "markdown",
      "metadata": {
        "id": "8DRaD1C-W8Dq"
      },
      "source": [
        "\n",
        "### lgbm 사용 X basian optimizer 했지만 성능 하락"
      ]
    },
    {
      "cell_type": "code",
      "metadata": {
        "id": "Untm9rje4B6U"
      },
      "source": [
        "train_x, train_y, val_x, val_y = train_datast(energy, ulsan_interpolated, target='ulsan')\n",
        "ulsan_model = LGBMRegressor(n_estimators=5000 ,random_seed=42, learning_rate=0.005,depth = 8,loss_function='MultiRMSE',\n",
        "                                       colsample_bytree =  1,max_depth = 17, min_child_samples = 17, min_child_weight = 14, num_leaves = 63, reg_alpha=49.75855787791481, reg_lambda= 0.026935271560602856, subsample= 1.0)\n",
        "ulsan_model.fit(train_x, train_y,\n",
        "                  eval_set=[(train_x, train_y), (val_x, val_y)],\n",
        "                  early_stopping_rounds=100,verbose=100)"
      ],
      "execution_count": null,
      "outputs": []
    },
    {
      "cell_type": "markdown",
      "metadata": {
        "id": "GoIar9eVW-g9"
      },
      "source": [
        "## privat 제출 "
      ]
    },
    {
      "cell_type": "markdown",
      "metadata": {
        "id": "BO9Tqf0kxEt0"
      },
      "source": [
        ""
      ]
    },
    {
      "cell_type": "code",
      "metadata": {
        "id": "P__bIgCK3Dr7"
      },
      "source": [
        "import pandas as pd\n",
        "import urllib\n",
        "import urllib.request\n",
        "import json"
      ],
      "execution_count": 26,
      "outputs": []
    },
    {
      "cell_type": "code",
      "metadata": {
        "id": "iq4gNpSA3MuO"
      },
      "source": [
        "def private(nx,ny,fcst_day,date):\n",
        "    url = 'http://apis.data.go.kr/1360000/VilageFcstInfoService/getVilageFcst'\n",
        "\n",
        "\n",
        "    queryParams = '?' + urllib.parse.urlencode(\n",
        "        {\n",
        "            urllib.parse.quote_plus('ServiceKey') : 'k4ddN+RdAKoBExDTI0PS+2M3QtLVZZkW7Bd8in1h4j5sgfrd2cyVRmYieYHcJNTTnPd+b7X8epYmZS5Ngj18Ww==', # key를 바로 입력해도 됩니다.\n",
        "            urllib.parse.quote_plus('numOfRows') : '113', # 총 14개의 항목을 3시간 단위로 순차적으로 불러옵니다. 다음날 24시간예보에 필요한 만큼만 가져왔습니다.\n",
        "            urllib.parse.quote_plus('dataType') : 'JSON', # JSON, XML 두가지 포멧을 제공합니다.\n",
        "            urllib.parse.quote_plus('base_date') : fcst_day, # 예보 받을 날짜를 입력합니다. 최근 1일간의 자료만 제공합니다.\n",
        "            urllib.parse.quote_plus('base_time') : '2000', # 예보 시간을 입력합니다. 2시부터 시작하여 3시간 단위로 입력 가능합니다.\n",
        "            urllib.parse.quote_plus('nx') : nx, # 울산 태양광 발전소 x 좌표입니다. '기상청18_동네예보 조회서비스_오픈API활용가이드.zip'에 포함 된 excel파일을 통해 확인 가능합니다.\n",
        "            urllib.parse.quote_plus('ny') : ny # 울산 태양광 발전소 y 좌표입니다. '기상청18_동네예보 조회서비스_오픈API활용가이드.zip'에 포함 된 excel파일을 통해 확인 가능합니다.\n",
        "        }\n",
        "    )\n",
        "\n",
        "    response = urllib.request.urlopen(url + queryParams).read()\n",
        "    response = json.loads(response)\n",
        "    fcst_df = pd.DataFrame()\n",
        "\n",
        "    fcst_df['Forecast_time'] = [f'{date} {hour}:00' for hour in range(24)]\n",
        "    row_idx = 0\n",
        "\n",
        "    for i, data in enumerate(response['response']['body']['items']['item']):\n",
        "        if i > 19:\n",
        "            if data['category']=='REH':\n",
        "                fcst_df.loc[row_idx, 'Humidity'] = float(data['fcstValue'])\n",
        "                print('category:Humidity,',data['category'], 'baseTime:',data['baseTime'], ', fcstTime:', data['fcstTime'], ', fcstValue:', data['fcstValue'])\n",
        "            elif data['category']=='T3H':\n",
        "                fcst_df.loc[row_idx, 'Temperature'] = float(data['fcstValue'])\n",
        "                print('category:Temperature,',data['category'], 'baseTime:',data['baseTime'], ', fcstTime:', data['fcstTime'], ', fcstValue:', data['fcstValue'])\n",
        "            elif data['category']=='SKY':\n",
        "                fcst_df.loc[row_idx, 'Cloud'] = float(data['fcstValue'])\n",
        "                print('category:Cloud,',data['category'], 'baseTime:',data['baseTime'], ', fcstTime:', data['fcstTime'], ', fcstValue:', data['fcstValue'])\n",
        "            elif data['category']=='VEC':\n",
        "                fcst_df.loc[row_idx, 'WindDirection'] = float(data['fcstValue'])\n",
        "                print('category:WindDirection,',data['category'], 'baseTime:',data['baseTime'], ', fcstTime:', data['fcstTime'], ', fcstValue:', data['fcstValue'])\n",
        "            elif data['category']=='WSD':\n",
        "                fcst_df.loc[row_idx, 'WindSpeed'] = float(data['fcstValue'])\n",
        "                print('category:WindSpeed,',data['category'], 'baseTime:',data['baseTime'], ', fcstTime:', data['fcstTime'], ', fcstValue:', data['fcstValue'], '\\n')\n",
        "                row_idx+=3\n",
        "\n",
        "    fcst_df = fcst_df.interpolate()\n",
        "    fcst_df = fcst_df.iloc[:24]\n",
        "    return fcst_df"
      ],
      "execution_count": 28,
      "outputs": []
    },
    {
      "cell_type": "code",
      "metadata": {
        "id": "PIqDnRJwGOAj",
        "colab": {
          "base_uri": "https://localhost:8080/"
        },
        "outputId": "4279cddf-db21-4bd2-e9cb-22793bdb18f4"
      },
      "source": [
        "#dangjin = 53 , 44\n",
        "#ulsan = 102, 83\n",
        "#nx, ny = '53','44'\n",
        "\n",
        "fcst_day='20210613'# 오늘 날짜\n",
        "date = '2021-06-14'  #내일 날짜\n",
        "day = 6 #6월 8일  = 1\n",
        "ulsan = private('102' ,'83' ,fcst_day,date)\n",
        "dangjin = private('53','44' ,fcst_day,date)\n"
      ],
      "execution_count": 29,
      "outputs": [
        {
          "output_type": "stream",
          "text": [
            "category:Humidity, REH baseTime: 2000 , fcstTime: 0600 , fcstValue: 90\n",
            "category:Cloud, SKY baseTime: 2000 , fcstTime: 0600 , fcstValue: 4\n",
            "category:Temperature, T3H baseTime: 2000 , fcstTime: 0600 , fcstValue: 22\n",
            "category:WindDirection, VEC baseTime: 2000 , fcstTime: 0600 , fcstValue: 40\n",
            "category:WindSpeed, WSD baseTime: 2000 , fcstTime: 0600 , fcstValue: 1.6 \n",
            "\n",
            "category:Humidity, REH baseTime: 2000 , fcstTime: 0900 , fcstValue: 80\n",
            "category:Cloud, SKY baseTime: 2000 , fcstTime: 0900 , fcstValue: 4\n",
            "category:Temperature, T3H baseTime: 2000 , fcstTime: 0900 , fcstValue: 23\n",
            "category:WindDirection, VEC baseTime: 2000 , fcstTime: 0900 , fcstValue: 39\n",
            "category:WindSpeed, WSD baseTime: 2000 , fcstTime: 0900 , fcstValue: 2.1 \n",
            "\n",
            "category:Humidity, REH baseTime: 2000 , fcstTime: 1200 , fcstValue: 70\n",
            "category:Cloud, SKY baseTime: 2000 , fcstTime: 1200 , fcstValue: 4\n",
            "category:Temperature, T3H baseTime: 2000 , fcstTime: 1200 , fcstValue: 25\n",
            "category:WindDirection, VEC baseTime: 2000 , fcstTime: 1200 , fcstValue: 43\n",
            "category:WindSpeed, WSD baseTime: 2000 , fcstTime: 1200 , fcstValue: 2.2 \n",
            "\n",
            "category:Humidity, REH baseTime: 2000 , fcstTime: 1500 , fcstValue: 75\n",
            "category:Cloud, SKY baseTime: 2000 , fcstTime: 1500 , fcstValue: 4\n",
            "category:Temperature, T3H baseTime: 2000 , fcstTime: 1500 , fcstValue: 24\n",
            "category:WindDirection, VEC baseTime: 2000 , fcstTime: 1500 , fcstValue: 52\n",
            "category:WindSpeed, WSD baseTime: 2000 , fcstTime: 1500 , fcstValue: 3.4 \n",
            "\n",
            "category:Humidity, REH baseTime: 2000 , fcstTime: 1800 , fcstValue: 80\n",
            "category:Cloud, SKY baseTime: 2000 , fcstTime: 1800 , fcstValue: 4\n",
            "category:Temperature, T3H baseTime: 2000 , fcstTime: 1800 , fcstValue: 23\n",
            "category:WindDirection, VEC baseTime: 2000 , fcstTime: 1800 , fcstValue: 44\n",
            "category:WindSpeed, WSD baseTime: 2000 , fcstTime: 1800 , fcstValue: 3.2 \n",
            "\n",
            "category:Humidity, REH baseTime: 2000 , fcstTime: 2100 , fcstValue: 85\n",
            "category:Cloud, SKY baseTime: 2000 , fcstTime: 2100 , fcstValue: 4\n",
            "category:Temperature, T3H baseTime: 2000 , fcstTime: 2100 , fcstValue: 22\n",
            "category:WindDirection, VEC baseTime: 2000 , fcstTime: 2100 , fcstValue: 45\n",
            "category:WindSpeed, WSD baseTime: 2000 , fcstTime: 2100 , fcstValue: 2.1 \n",
            "\n",
            "category:Humidity, REH baseTime: 2000 , fcstTime: 0000 , fcstValue: 90\n",
            "category:Cloud, SKY baseTime: 2000 , fcstTime: 0000 , fcstValue: 4\n",
            "category:Temperature, T3H baseTime: 2000 , fcstTime: 0000 , fcstValue: 22\n",
            "category:WindDirection, VEC baseTime: 2000 , fcstTime: 0000 , fcstValue: 56\n",
            "category:WindSpeed, WSD baseTime: 2000 , fcstTime: 0000 , fcstValue: 1.8 \n",
            "\n",
            "category:Humidity, REH baseTime: 2000 , fcstTime: 0300 , fcstValue: 90\n",
            "category:Cloud, SKY baseTime: 2000 , fcstTime: 0300 , fcstValue: 4\n",
            "category:Temperature, T3H baseTime: 2000 , fcstTime: 0300 , fcstValue: 21\n",
            "category:WindDirection, VEC baseTime: 2000 , fcstTime: 0300 , fcstValue: 53\n",
            "category:WindSpeed, WSD baseTime: 2000 , fcstTime: 0300 , fcstValue: 1.5 \n",
            "\n",
            "category:Humidity, REH baseTime: 2000 , fcstTime: 0600 , fcstValue: 90\n",
            "category:Cloud, SKY baseTime: 2000 , fcstTime: 0600 , fcstValue: 4\n",
            "category:Temperature, T3H baseTime: 2000 , fcstTime: 0600 , fcstValue: 21\n",
            "category:WindDirection, VEC baseTime: 2000 , fcstTime: 0600 , fcstValue: 56\n",
            "category:WindSpeed, WSD baseTime: 2000 , fcstTime: 0300 , fcstValue: 0.3 \n",
            "\n",
            "category:Humidity, REH baseTime: 2000 , fcstTime: 0600 , fcstValue: 90\n",
            "category:Cloud, SKY baseTime: 2000 , fcstTime: 0600 , fcstValue: 1\n",
            "category:Temperature, T3H baseTime: 2000 , fcstTime: 0600 , fcstValue: 20\n",
            "category:WindDirection, VEC baseTime: 2000 , fcstTime: 0600 , fcstValue: 37\n",
            "category:WindSpeed, WSD baseTime: 2000 , fcstTime: 0600 , fcstValue: 0.5 \n",
            "\n",
            "category:Humidity, REH baseTime: 2000 , fcstTime: 0900 , fcstValue: 95\n",
            "category:Cloud, SKY baseTime: 2000 , fcstTime: 0900 , fcstValue: 1\n",
            "category:Temperature, T3H baseTime: 2000 , fcstTime: 0900 , fcstValue: 20\n",
            "category:WindDirection, VEC baseTime: 2000 , fcstTime: 0900 , fcstValue: 90\n",
            "category:WindSpeed, WSD baseTime: 2000 , fcstTime: 0900 , fcstValue: 2.4 \n",
            "\n",
            "category:Humidity, REH baseTime: 2000 , fcstTime: 1200 , fcstValue: 90\n",
            "category:Cloud, SKY baseTime: 2000 , fcstTime: 1200 , fcstValue: 1\n",
            "category:Temperature, T3H baseTime: 2000 , fcstTime: 1200 , fcstValue: 21\n",
            "category:WindDirection, VEC baseTime: 2000 , fcstTime: 1200 , fcstValue: 93\n",
            "category:WindSpeed, WSD baseTime: 2000 , fcstTime: 1200 , fcstValue: 5.8 \n",
            "\n",
            "category:Humidity, REH baseTime: 2000 , fcstTime: 1500 , fcstValue: 90\n",
            "category:Cloud, SKY baseTime: 2000 , fcstTime: 1500 , fcstValue: 1\n",
            "category:Temperature, T3H baseTime: 2000 , fcstTime: 1500 , fcstValue: 21\n",
            "category:WindDirection, VEC baseTime: 2000 , fcstTime: 1500 , fcstValue: 88\n",
            "category:WindSpeed, WSD baseTime: 2000 , fcstTime: 1500 , fcstValue: 6.9 \n",
            "\n",
            "category:Humidity, REH baseTime: 2000 , fcstTime: 1800 , fcstValue: 90\n",
            "category:Cloud, SKY baseTime: 2000 , fcstTime: 1800 , fcstValue: 1\n",
            "category:Temperature, T3H baseTime: 2000 , fcstTime: 1800 , fcstValue: 21\n",
            "category:WindDirection, VEC baseTime: 2000 , fcstTime: 1800 , fcstValue: 103\n",
            "category:WindSpeed, WSD baseTime: 2000 , fcstTime: 1800 , fcstValue: 6.3 \n",
            "\n",
            "category:Humidity, REH baseTime: 2000 , fcstTime: 2100 , fcstValue: 90\n",
            "category:Cloud, SKY baseTime: 2000 , fcstTime: 2100 , fcstValue: 1\n",
            "category:Temperature, T3H baseTime: 2000 , fcstTime: 2100 , fcstValue: 21\n",
            "category:WindDirection, VEC baseTime: 2000 , fcstTime: 2100 , fcstValue: 109\n",
            "category:WindSpeed, WSD baseTime: 2000 , fcstTime: 2100 , fcstValue: 5.4 \n",
            "\n",
            "category:Humidity, REH baseTime: 2000 , fcstTime: 0000 , fcstValue: 95\n",
            "category:Cloud, SKY baseTime: 2000 , fcstTime: 0000 , fcstValue: 1\n",
            "category:Temperature, T3H baseTime: 2000 , fcstTime: 0000 , fcstValue: 21\n",
            "category:WindDirection, VEC baseTime: 2000 , fcstTime: 0000 , fcstValue: 115\n",
            "category:WindSpeed, WSD baseTime: 2000 , fcstTime: 0000 , fcstValue: 5.6 \n",
            "\n",
            "category:Humidity, REH baseTime: 2000 , fcstTime: 0300 , fcstValue: 95\n",
            "category:Cloud, SKY baseTime: 2000 , fcstTime: 0300 , fcstValue: 3\n",
            "category:Temperature, T3H baseTime: 2000 , fcstTime: 0300 , fcstValue: 21\n",
            "category:WindDirection, VEC baseTime: 2000 , fcstTime: 0300 , fcstValue: 103\n",
            "category:WindSpeed, WSD baseTime: 2000 , fcstTime: 0300 , fcstValue: 5.2 \n",
            "\n"
          ],
          "name": "stdout"
        }
      ]
    },
    {
      "cell_type": "code",
      "metadata": {
        "id": "U7u0S7BN7YAy"
      },
      "source": [
        "def test_datast(fcst_df):\n",
        "    start = '2021-06-14 0:00'\n",
        "    end = '2021-06-14 23:00'\n",
        "    \n",
        "    start_idx = fcst_df[fcst_df['Forecast_time']==start].index[0]\n",
        "    end_idx = fcst_df[fcst_df['Forecast_time']==end].index[0]\n",
        "    \n",
        "    test_df = fcst_df.loc[start_idx:end_idx, :].copy()\n",
        "    \n",
        "    test_df['date'] = test_df['Forecast_time'].str.split(' ').str[0]\n",
        "    test_df['hour'] = test_df['Forecast_time'].str.split(' ').str[1].str.split(':').str[0].astype(int)\n",
        "    \n",
        "    test_df['year'] = test_df['date'].str.split('-').str[0].astype(int)\n",
        "    test_df['month'] = test_df['date'].str.split('-').str[1].astype(int)\n",
        "    test_df['day'] = test_df['date'].str.split('-').str[2].astype(int)\n",
        "    \n",
        "    test_df = test_df[['year', 'month', 'day', 'hour', 'Temperature', 'Humidity', 'WindSpeed', 'WindDirection', 'Cloud']]\n",
        "    \n",
        "    test_x = test_df.to_numpy()\n",
        "    \n",
        "    return test_x"
      ],
      "execution_count": 32,
      "outputs": []
    },
    {
      "cell_type": "code",
      "metadata": {
        "id": "LpkUloADxEt1"
      },
      "source": [
        "dangjin_test = test_datast(dangjin)\n",
        "ulsan_test = test_datast(ulsan)"
      ],
      "execution_count": 33,
      "outputs": []
    },
    {
      "cell_type": "markdown",
      "metadata": {
        "id": "lEoy9yFexEt1"
      },
      "source": [
        "## 각 발전소 발전량 추론"
      ]
    },
    {
      "cell_type": "code",
      "metadata": {
        "id": "VRuSpMEW-jLO"
      },
      "source": [
        "submission = pd.read_csv('./data/sample_submission.csv')"
      ],
      "execution_count": 34,
      "outputs": []
    },
    {
      "cell_type": "code",
      "metadata": {
        "id": "teYsXOGPpy3b"
      },
      "source": [
        "model =  joblib.load('./dangjin_floating/dangjin_floating_{0}.pkl'.format(i+1))"
      ],
      "execution_count": 57,
      "outputs": []
    },
    {
      "cell_type": "code",
      "metadata": {
        "id": "p0nV4hXCpV4H"
      },
      "source": [
        "lgb1_models = {}\n",
        "for i in range(10):\n",
        "    model =  joblib.load('./dangjin_floating/dangjin_floating_{0}.pkl'.format(i+1))\n",
        "    lgb1_models[i] = model"
      ],
      "execution_count": 65,
      "outputs": []
    },
    {
      "cell_type": "code",
      "metadata": {
        "id": "B0meGksZps51"
      },
      "source": [
        "lgb1_models"
      ],
      "execution_count": null,
      "outputs": []
    },
    {
      "cell_type": "code",
      "metadata": {
        "id": "By9dPYWaqZ-I"
      },
      "source": [
        "dangjin_floating_pred = submission.iloc[:24, 1]\n",
        "\n",
        "for fold in range(10):\n",
        "    dangjin_floating_pred += lgb1_models[fold].predict(dangjin_test)/10\n",
        "    #dangjin_floating_pred += cat1_models[fold].predict(dangjin_test)/20\n",
        "\n",
        "\n",
        "#dangjin_floating_pred += dangjin_floating_model.predict(dangjin_test) \n",
        "submission.iloc[24*28+24*(day-1):24*28+24*day, 1] = dangjin_floating_pred.to_list()"
      ],
      "execution_count": 69,
      "outputs": []
    },
    {
      "cell_type": "code",
      "metadata": {
        "colab": {
          "base_uri": "https://localhost:8080/"
        },
        "id": "5Dwl5DMRqQEY",
        "outputId": "5883d319-6aa8-4d31-cfc9-64fe7eba1f73"
      },
      "source": [
        "cat2_models = {}\n",
        "for i in range(10):\n",
        "    model =  joblib.load('./dangjin_warehouse/dangjin_warehouse{0}.pkl'.format(i+1))\n",
        "    cat2_models[i] = model\n",
        "cat2_models"
      ],
      "execution_count": 68,
      "outputs": [
        {
          "output_type": "execute_result",
          "data": {
            "text/plain": [
              "{0: <catboost.core.CatBoostRegressor at 0x7f7029a8f350>,\n",
              " 1: <catboost.core.CatBoostRegressor at 0x7f7029eaba50>,\n",
              " 2: <catboost.core.CatBoostRegressor at 0x7f7029a8fc10>,\n",
              " 3: <catboost.core.CatBoostRegressor at 0x7f702a0c5f90>,\n",
              " 4: <catboost.core.CatBoostRegressor at 0x7f7080f244d0>,\n",
              " 5: <catboost.core.CatBoostRegressor at 0x7f70805b5dd0>,\n",
              " 6: <catboost.core.CatBoostRegressor at 0x7f7029f10c50>,\n",
              " 7: <catboost.core.CatBoostRegressor at 0x7f7029f107d0>,\n",
              " 8: <catboost.core.CatBoostRegressor at 0x7f7029f10510>,\n",
              " 9: <catboost.core.CatBoostRegressor at 0x7f7029e28f10>}"
            ]
          },
          "metadata": {
            "tags": []
          },
          "execution_count": 68
        }
      ]
    },
    {
      "cell_type": "code",
      "metadata": {
        "id": "dVpsVwqg_Bkz"
      },
      "source": [
        "dangjin_warehouse_pred = submission.iloc[:24, 2]\n",
        "\n",
        "for fold in range(10):\n",
        "    \n",
        "    dangjin_warehouse_pred += cat2_models[fold].predict(dangjin_test)/10\n",
        "    \n",
        "#dangjin_warehouse_pred += cat2.predict(dangjin_test)\n",
        "submission.iloc[24*28+24*(day-1):24*28+24*day, 2] = dangjin_warehouse_pred.to_list()"
      ],
      "execution_count": 70,
      "outputs": []
    },
    {
      "cell_type": "code",
      "metadata": {
        "colab": {
          "base_uri": "https://localhost:8080/"
        },
        "id": "JMaPCnV5qgOP",
        "outputId": "54e2e00b-8495-4494-ab39-eb10c33ed2b3"
      },
      "source": [
        "cat3_models = {}\n",
        "for i in range(10):\n",
        "    model =  joblib.load('./dangjin/dangjin{0}.pkl'.format(i+1))\n",
        "    cat3_models[i] = model\n",
        "cat3_models"
      ],
      "execution_count": 71,
      "outputs": [
        {
          "output_type": "execute_result",
          "data": {
            "text/plain": [
              "{0: <catboost.core.CatBoostRegressor at 0x7f707ff3dfd0>,\n",
              " 1: <catboost.core.CatBoostRegressor at 0x7f7029eab710>,\n",
              " 2: <catboost.core.CatBoostRegressor at 0x7f7029ec6190>,\n",
              " 3: <catboost.core.CatBoostRegressor at 0x7f7080bf9f10>,\n",
              " 4: <catboost.core.CatBoostRegressor at 0x7f7029ec6850>,\n",
              " 5: <catboost.core.CatBoostRegressor at 0x7f7029e5cc90>,\n",
              " 6: <catboost.core.CatBoostRegressor at 0x7f7029e93450>,\n",
              " 7: <catboost.core.CatBoostRegressor at 0x7f70298e6bd0>,\n",
              " 8: <catboost.core.CatBoostRegressor at 0x7f7029e5cb10>,\n",
              " 9: <catboost.core.CatBoostRegressor at 0x7f7029eccd50>}"
            ]
          },
          "metadata": {
            "tags": []
          },
          "execution_count": 71
        }
      ]
    },
    {
      "cell_type": "code",
      "metadata": {
        "id": "7YvM9zkR_FTT"
      },
      "source": [
        "dangjin_pred = submission.iloc[:24, 3]\n",
        "\n",
        "for fold in range(10):\n",
        "\n",
        "    dangjin_pred += cat3_models[fold].predict(dangjin_test)/10\n",
        "\n",
        "#dangjin_pred += cat3.predict(dangjin_test)\n",
        "submission.iloc[24*28+24*(day-1):24*28+24*day, 3] = dangjin_pred.to_list()"
      ],
      "execution_count": 72,
      "outputs": []
    },
    {
      "cell_type": "code",
      "metadata": {
        "colab": {
          "base_uri": "https://localhost:8080/"
        },
        "id": "bmHaQwVyqzAm",
        "outputId": "7384387b-fe6a-4b33-ea7c-4021ad26d71a"
      },
      "source": [
        "cat4_models = {}\n",
        "for i in range(10):\n",
        "    model =  joblib.load('./ulsan/ulsan{0}.pkl'.format(i+1))\n",
        "    cat4_models[i] = model\n",
        "cat4_models"
      ],
      "execution_count": 73,
      "outputs": [
        {
          "output_type": "execute_result",
          "data": {
            "text/plain": [
              "{0: <catboost.core.CatBoostRegressor at 0x7f70298e6d50>,\n",
              " 1: <catboost.core.CatBoostRegressor at 0x7f7080aa7150>,\n",
              " 2: <catboost.core.CatBoostRegressor at 0x7f7080aa70d0>,\n",
              " 3: <catboost.core.CatBoostRegressor at 0x7f707ff3d250>,\n",
              " 4: <catboost.core.CatBoostRegressor at 0x7f70805b5ad0>,\n",
              " 5: <catboost.core.CatBoostRegressor at 0x7f70805b5790>,\n",
              " 6: <catboost.core.CatBoostRegressor at 0x7f70805bab10>,\n",
              " 7: <catboost.core.CatBoostRegressor at 0x7f70a21be1d0>,\n",
              " 8: <catboost.core.CatBoostRegressor at 0x7f70805ba390>,\n",
              " 9: <catboost.core.CatBoostRegressor at 0x7f70805ba350>}"
            ]
          },
          "metadata": {
            "tags": []
          },
          "execution_count": 73
        }
      ]
    },
    {
      "cell_type": "code",
      "metadata": {
        "id": "bRHM7sSa_F71"
      },
      "source": [
        "ulsan_pred = submission.iloc[:24, 4]\n",
        "\n",
        "\n",
        "for fold in range(10):\n",
        "    #ulsan_pred += lgb4_models[fold].predict(ulsan_test)/20\n",
        "    ulsan_pred += cat4_models[fold].predict(ulsan_test)/10\n",
        "    \n",
        "\n",
        "#ulsan_pred += cat4.predict(ulsan_test)    \n",
        "submission.iloc[24*28+24*(day-1):24*28+24*day, 4] = ulsan_pred.to_list()"
      ],
      "execution_count": 74,
      "outputs": []
    },
    {
      "cell_type": "code",
      "metadata": {
        "colab": {
          "base_uri": "https://localhost:8080/",
          "height": 793
        },
        "id": "jK6sKZopq5LH",
        "outputId": "0847c52c-155e-421e-acbc-3c0975cc436e"
      },
      "source": [
        "submission.iloc[24*28+24*(day-1):24*28+24*day,:]"
      ],
      "execution_count": 75,
      "outputs": [
        {
          "output_type": "execute_result",
          "data": {
            "text/html": [
              "<div>\n",
              "<style scoped>\n",
              "    .dataframe tbody tr th:only-of-type {\n",
              "        vertical-align: middle;\n",
              "    }\n",
              "\n",
              "    .dataframe tbody tr th {\n",
              "        vertical-align: top;\n",
              "    }\n",
              "\n",
              "    .dataframe thead th {\n",
              "        text-align: right;\n",
              "    }\n",
              "</style>\n",
              "<table border=\"1\" class=\"dataframe\">\n",
              "  <thead>\n",
              "    <tr style=\"text-align: right;\">\n",
              "      <th></th>\n",
              "      <th>time</th>\n",
              "      <th>dangjin_floating</th>\n",
              "      <th>dangjin_warehouse</th>\n",
              "      <th>dangjin</th>\n",
              "      <th>ulsan</th>\n",
              "    </tr>\n",
              "  </thead>\n",
              "  <tbody>\n",
              "    <tr>\n",
              "      <th>792</th>\n",
              "      <td>2021-06-14 01:00:00</td>\n",
              "      <td>29.293530</td>\n",
              "      <td>14.466465</td>\n",
              "      <td>33.433374</td>\n",
              "      <td>-3.152566</td>\n",
              "    </tr>\n",
              "    <tr>\n",
              "      <th>793</th>\n",
              "      <td>2021-06-14 02:00:00</td>\n",
              "      <td>29.293530</td>\n",
              "      <td>14.447154</td>\n",
              "      <td>33.339689</td>\n",
              "      <td>-4.158468</td>\n",
              "    </tr>\n",
              "    <tr>\n",
              "      <th>794</th>\n",
              "      <td>2021-06-14 03:00:00</td>\n",
              "      <td>27.899728</td>\n",
              "      <td>14.421130</td>\n",
              "      <td>32.728642</td>\n",
              "      <td>-4.816339</td>\n",
              "    </tr>\n",
              "    <tr>\n",
              "      <th>795</th>\n",
              "      <td>2021-06-14 04:00:00</td>\n",
              "      <td>4.261173</td>\n",
              "      <td>13.186454</td>\n",
              "      <td>20.088906</td>\n",
              "      <td>-4.823425</td>\n",
              "    </tr>\n",
              "    <tr>\n",
              "      <th>796</th>\n",
              "      <td>2021-06-14 05:00:00</td>\n",
              "      <td>4.637319</td>\n",
              "      <td>12.111895</td>\n",
              "      <td>20.426821</td>\n",
              "      <td>-5.834965</td>\n",
              "    </tr>\n",
              "    <tr>\n",
              "      <th>797</th>\n",
              "      <td>2021-06-14 06:00:00</td>\n",
              "      <td>3.796286</td>\n",
              "      <td>9.761324</td>\n",
              "      <td>17.193279</td>\n",
              "      <td>-3.309316</td>\n",
              "    </tr>\n",
              "    <tr>\n",
              "      <th>798</th>\n",
              "      <td>2021-06-14 07:00:00</td>\n",
              "      <td>17.617929</td>\n",
              "      <td>12.481400</td>\n",
              "      <td>15.200005</td>\n",
              "      <td>1.525176</td>\n",
              "    </tr>\n",
              "    <tr>\n",
              "      <th>799</th>\n",
              "      <td>2021-06-14 08:00:00</td>\n",
              "      <td>61.469259</td>\n",
              "      <td>47.364428</td>\n",
              "      <td>48.791473</td>\n",
              "      <td>15.424634</td>\n",
              "    </tr>\n",
              "    <tr>\n",
              "      <th>800</th>\n",
              "      <td>2021-06-14 09:00:00</td>\n",
              "      <td>137.160220</td>\n",
              "      <td>124.386809</td>\n",
              "      <td>161.222710</td>\n",
              "      <td>42.143650</td>\n",
              "    </tr>\n",
              "    <tr>\n",
              "      <th>801</th>\n",
              "      <td>2021-06-14 10:00:00</td>\n",
              "      <td>244.127949</td>\n",
              "      <td>208.257934</td>\n",
              "      <td>279.167963</td>\n",
              "      <td>52.663561</td>\n",
              "    </tr>\n",
              "    <tr>\n",
              "      <th>802</th>\n",
              "      <td>2021-06-14 11:00:00</td>\n",
              "      <td>294.325380</td>\n",
              "      <td>254.355338</td>\n",
              "      <td>346.839112</td>\n",
              "      <td>63.674107</td>\n",
              "    </tr>\n",
              "    <tr>\n",
              "      <th>803</th>\n",
              "      <td>2021-06-14 12:00:00</td>\n",
              "      <td>324.688869</td>\n",
              "      <td>269.849873</td>\n",
              "      <td>373.444371</td>\n",
              "      <td>66.704752</td>\n",
              "    </tr>\n",
              "    <tr>\n",
              "      <th>804</th>\n",
              "      <td>2021-06-14 13:00:00</td>\n",
              "      <td>332.090720</td>\n",
              "      <td>271.844766</td>\n",
              "      <td>375.407333</td>\n",
              "      <td>74.231994</td>\n",
              "    </tr>\n",
              "    <tr>\n",
              "      <th>805</th>\n",
              "      <td>2021-06-14 14:00:00</td>\n",
              "      <td>329.894265</td>\n",
              "      <td>273.463415</td>\n",
              "      <td>378.745464</td>\n",
              "      <td>77.513173</td>\n",
              "    </tr>\n",
              "    <tr>\n",
              "      <th>806</th>\n",
              "      <td>2021-06-14 15:00:00</td>\n",
              "      <td>275.472833</td>\n",
              "      <td>254.950107</td>\n",
              "      <td>358.197561</td>\n",
              "      <td>69.242862</td>\n",
              "    </tr>\n",
              "    <tr>\n",
              "      <th>807</th>\n",
              "      <td>2021-06-14 16:00:00</td>\n",
              "      <td>243.427967</td>\n",
              "      <td>209.424947</td>\n",
              "      <td>301.840563</td>\n",
              "      <td>59.947926</td>\n",
              "    </tr>\n",
              "    <tr>\n",
              "      <th>808</th>\n",
              "      <td>2021-06-14 17:00:00</td>\n",
              "      <td>171.862991</td>\n",
              "      <td>156.499497</td>\n",
              "      <td>224.611287</td>\n",
              "      <td>34.841140</td>\n",
              "    </tr>\n",
              "    <tr>\n",
              "      <th>809</th>\n",
              "      <td>2021-06-14 18:00:00</td>\n",
              "      <td>79.912730</td>\n",
              "      <td>67.814793</td>\n",
              "      <td>105.019747</td>\n",
              "      <td>13.504424</td>\n",
              "    </tr>\n",
              "    <tr>\n",
              "      <th>810</th>\n",
              "      <td>2021-06-14 19:00:00</td>\n",
              "      <td>7.079001</td>\n",
              "      <td>12.932142</td>\n",
              "      <td>22.206443</td>\n",
              "      <td>2.925260</td>\n",
              "    </tr>\n",
              "    <tr>\n",
              "      <th>811</th>\n",
              "      <td>2021-06-14 20:00:00</td>\n",
              "      <td>-5.131576</td>\n",
              "      <td>5.013826</td>\n",
              "      <td>8.354845</td>\n",
              "      <td>1.795883</td>\n",
              "    </tr>\n",
              "    <tr>\n",
              "      <th>812</th>\n",
              "      <td>2021-06-14 21:00:00</td>\n",
              "      <td>-3.453453</td>\n",
              "      <td>5.225802</td>\n",
              "      <td>8.980783</td>\n",
              "      <td>1.859207</td>\n",
              "    </tr>\n",
              "    <tr>\n",
              "      <th>813</th>\n",
              "      <td>2021-06-14 22:00:00</td>\n",
              "      <td>-4.344653</td>\n",
              "      <td>5.751372</td>\n",
              "      <td>10.115433</td>\n",
              "      <td>1.837183</td>\n",
              "    </tr>\n",
              "    <tr>\n",
              "      <th>814</th>\n",
              "      <td>2021-06-14 23:00:00</td>\n",
              "      <td>-6.007088</td>\n",
              "      <td>4.542499</td>\n",
              "      <td>6.925531</td>\n",
              "      <td>1.770276</td>\n",
              "    </tr>\n",
              "    <tr>\n",
              "      <th>815</th>\n",
              "      <td>2021-06-14 24:00:00</td>\n",
              "      <td>-4.177979</td>\n",
              "      <td>3.003265</td>\n",
              "      <td>5.608765</td>\n",
              "      <td>1.697054</td>\n",
              "    </tr>\n",
              "  </tbody>\n",
              "</table>\n",
              "</div>"
            ],
            "text/plain": [
              "                    time  dangjin_floating  ...     dangjin      ulsan\n",
              "792  2021-06-14 01:00:00         29.293530  ...   33.433374  -3.152566\n",
              "793  2021-06-14 02:00:00         29.293530  ...   33.339689  -4.158468\n",
              "794  2021-06-14 03:00:00         27.899728  ...   32.728642  -4.816339\n",
              "795  2021-06-14 04:00:00          4.261173  ...   20.088906  -4.823425\n",
              "796  2021-06-14 05:00:00          4.637319  ...   20.426821  -5.834965\n",
              "797  2021-06-14 06:00:00          3.796286  ...   17.193279  -3.309316\n",
              "798  2021-06-14 07:00:00         17.617929  ...   15.200005   1.525176\n",
              "799  2021-06-14 08:00:00         61.469259  ...   48.791473  15.424634\n",
              "800  2021-06-14 09:00:00        137.160220  ...  161.222710  42.143650\n",
              "801  2021-06-14 10:00:00        244.127949  ...  279.167963  52.663561\n",
              "802  2021-06-14 11:00:00        294.325380  ...  346.839112  63.674107\n",
              "803  2021-06-14 12:00:00        324.688869  ...  373.444371  66.704752\n",
              "804  2021-06-14 13:00:00        332.090720  ...  375.407333  74.231994\n",
              "805  2021-06-14 14:00:00        329.894265  ...  378.745464  77.513173\n",
              "806  2021-06-14 15:00:00        275.472833  ...  358.197561  69.242862\n",
              "807  2021-06-14 16:00:00        243.427967  ...  301.840563  59.947926\n",
              "808  2021-06-14 17:00:00        171.862991  ...  224.611287  34.841140\n",
              "809  2021-06-14 18:00:00         79.912730  ...  105.019747  13.504424\n",
              "810  2021-06-14 19:00:00          7.079001  ...   22.206443   2.925260\n",
              "811  2021-06-14 20:00:00         -5.131576  ...    8.354845   1.795883\n",
              "812  2021-06-14 21:00:00         -3.453453  ...    8.980783   1.859207\n",
              "813  2021-06-14 22:00:00         -4.344653  ...   10.115433   1.837183\n",
              "814  2021-06-14 23:00:00         -6.007088  ...    6.925531   1.770276\n",
              "815  2021-06-14 24:00:00         -4.177979  ...    5.608765   1.697054\n",
              "\n",
              "[24 rows x 5 columns]"
            ]
          },
          "metadata": {
            "tags": []
          },
          "execution_count": 75
        }
      ]
    },
    {
      "cell_type": "code",
      "metadata": {
        "id": "p_kr3Uqg_7sJ",
        "colab": {
          "base_uri": "https://localhost:8080/",
          "height": 793
        },
        "outputId": "f32fa782-e15e-495d-c87d-d4295358bef4"
      },
      "source": [
        "submission.iloc[24*28+24*(day-1):24*28+24*day,:]"
      ],
      "execution_count": 41,
      "outputs": [
        {
          "output_type": "execute_result",
          "data": {
            "text/html": [
              "<div>\n",
              "<style scoped>\n",
              "    .dataframe tbody tr th:only-of-type {\n",
              "        vertical-align: middle;\n",
              "    }\n",
              "\n",
              "    .dataframe tbody tr th {\n",
              "        vertical-align: top;\n",
              "    }\n",
              "\n",
              "    .dataframe thead th {\n",
              "        text-align: right;\n",
              "    }\n",
              "</style>\n",
              "<table border=\"1\" class=\"dataframe\">\n",
              "  <thead>\n",
              "    <tr style=\"text-align: right;\">\n",
              "      <th></th>\n",
              "      <th>time</th>\n",
              "      <th>dangjin_floating</th>\n",
              "      <th>dangjin_warehouse</th>\n",
              "      <th>dangjin</th>\n",
              "      <th>ulsan</th>\n",
              "    </tr>\n",
              "  </thead>\n",
              "  <tbody>\n",
              "    <tr>\n",
              "      <th>792</th>\n",
              "      <td>2021-06-14 01:00:00</td>\n",
              "      <td>29.293530</td>\n",
              "      <td>14.466465</td>\n",
              "      <td>33.433374</td>\n",
              "      <td>-3.152566</td>\n",
              "    </tr>\n",
              "    <tr>\n",
              "      <th>793</th>\n",
              "      <td>2021-06-14 02:00:00</td>\n",
              "      <td>29.293530</td>\n",
              "      <td>14.447154</td>\n",
              "      <td>33.339689</td>\n",
              "      <td>-4.158468</td>\n",
              "    </tr>\n",
              "    <tr>\n",
              "      <th>794</th>\n",
              "      <td>2021-06-14 03:00:00</td>\n",
              "      <td>27.899728</td>\n",
              "      <td>14.421130</td>\n",
              "      <td>32.728642</td>\n",
              "      <td>-4.816339</td>\n",
              "    </tr>\n",
              "    <tr>\n",
              "      <th>795</th>\n",
              "      <td>2021-06-14 04:00:00</td>\n",
              "      <td>4.261173</td>\n",
              "      <td>13.186454</td>\n",
              "      <td>20.088906</td>\n",
              "      <td>-4.823425</td>\n",
              "    </tr>\n",
              "    <tr>\n",
              "      <th>796</th>\n",
              "      <td>2021-06-14 05:00:00</td>\n",
              "      <td>4.637319</td>\n",
              "      <td>12.111895</td>\n",
              "      <td>20.426821</td>\n",
              "      <td>-5.834965</td>\n",
              "    </tr>\n",
              "    <tr>\n",
              "      <th>797</th>\n",
              "      <td>2021-06-14 06:00:00</td>\n",
              "      <td>3.796286</td>\n",
              "      <td>9.761324</td>\n",
              "      <td>17.193279</td>\n",
              "      <td>-3.309316</td>\n",
              "    </tr>\n",
              "    <tr>\n",
              "      <th>798</th>\n",
              "      <td>2021-06-14 07:00:00</td>\n",
              "      <td>17.617929</td>\n",
              "      <td>12.481400</td>\n",
              "      <td>15.200005</td>\n",
              "      <td>1.525176</td>\n",
              "    </tr>\n",
              "    <tr>\n",
              "      <th>799</th>\n",
              "      <td>2021-06-14 08:00:00</td>\n",
              "      <td>61.469259</td>\n",
              "      <td>47.364428</td>\n",
              "      <td>48.791473</td>\n",
              "      <td>15.424634</td>\n",
              "    </tr>\n",
              "    <tr>\n",
              "      <th>800</th>\n",
              "      <td>2021-06-14 09:00:00</td>\n",
              "      <td>137.160220</td>\n",
              "      <td>124.386809</td>\n",
              "      <td>161.222710</td>\n",
              "      <td>42.143650</td>\n",
              "    </tr>\n",
              "    <tr>\n",
              "      <th>801</th>\n",
              "      <td>2021-06-14 10:00:00</td>\n",
              "      <td>244.127949</td>\n",
              "      <td>208.257934</td>\n",
              "      <td>279.167963</td>\n",
              "      <td>52.663561</td>\n",
              "    </tr>\n",
              "    <tr>\n",
              "      <th>802</th>\n",
              "      <td>2021-06-14 11:00:00</td>\n",
              "      <td>294.325380</td>\n",
              "      <td>254.355338</td>\n",
              "      <td>346.839112</td>\n",
              "      <td>63.674107</td>\n",
              "    </tr>\n",
              "    <tr>\n",
              "      <th>803</th>\n",
              "      <td>2021-06-14 12:00:00</td>\n",
              "      <td>324.688869</td>\n",
              "      <td>269.849873</td>\n",
              "      <td>373.444371</td>\n",
              "      <td>66.704752</td>\n",
              "    </tr>\n",
              "    <tr>\n",
              "      <th>804</th>\n",
              "      <td>2021-06-14 13:00:00</td>\n",
              "      <td>332.090720</td>\n",
              "      <td>271.844766</td>\n",
              "      <td>375.407333</td>\n",
              "      <td>74.231994</td>\n",
              "    </tr>\n",
              "    <tr>\n",
              "      <th>805</th>\n",
              "      <td>2021-06-14 14:00:00</td>\n",
              "      <td>329.894265</td>\n",
              "      <td>273.463415</td>\n",
              "      <td>378.745464</td>\n",
              "      <td>77.513173</td>\n",
              "    </tr>\n",
              "    <tr>\n",
              "      <th>806</th>\n",
              "      <td>2021-06-14 15:00:00</td>\n",
              "      <td>275.472833</td>\n",
              "      <td>254.950107</td>\n",
              "      <td>358.197561</td>\n",
              "      <td>69.242862</td>\n",
              "    </tr>\n",
              "    <tr>\n",
              "      <th>807</th>\n",
              "      <td>2021-06-14 16:00:00</td>\n",
              "      <td>243.427967</td>\n",
              "      <td>209.424947</td>\n",
              "      <td>301.840563</td>\n",
              "      <td>59.947926</td>\n",
              "    </tr>\n",
              "    <tr>\n",
              "      <th>808</th>\n",
              "      <td>2021-06-14 17:00:00</td>\n",
              "      <td>171.862991</td>\n",
              "      <td>156.499497</td>\n",
              "      <td>224.611287</td>\n",
              "      <td>34.841140</td>\n",
              "    </tr>\n",
              "    <tr>\n",
              "      <th>809</th>\n",
              "      <td>2021-06-14 18:00:00</td>\n",
              "      <td>79.912730</td>\n",
              "      <td>67.814793</td>\n",
              "      <td>105.019747</td>\n",
              "      <td>13.504424</td>\n",
              "    </tr>\n",
              "    <tr>\n",
              "      <th>810</th>\n",
              "      <td>2021-06-14 19:00:00</td>\n",
              "      <td>7.079001</td>\n",
              "      <td>12.932142</td>\n",
              "      <td>22.206443</td>\n",
              "      <td>2.925260</td>\n",
              "    </tr>\n",
              "    <tr>\n",
              "      <th>811</th>\n",
              "      <td>2021-06-14 20:00:00</td>\n",
              "      <td>-5.131576</td>\n",
              "      <td>5.013826</td>\n",
              "      <td>8.354845</td>\n",
              "      <td>1.795883</td>\n",
              "    </tr>\n",
              "    <tr>\n",
              "      <th>812</th>\n",
              "      <td>2021-06-14 21:00:00</td>\n",
              "      <td>-3.453453</td>\n",
              "      <td>5.225802</td>\n",
              "      <td>8.980783</td>\n",
              "      <td>1.859207</td>\n",
              "    </tr>\n",
              "    <tr>\n",
              "      <th>813</th>\n",
              "      <td>2021-06-14 22:00:00</td>\n",
              "      <td>-4.344653</td>\n",
              "      <td>5.751372</td>\n",
              "      <td>10.115433</td>\n",
              "      <td>1.837183</td>\n",
              "    </tr>\n",
              "    <tr>\n",
              "      <th>814</th>\n",
              "      <td>2021-06-14 23:00:00</td>\n",
              "      <td>-6.007088</td>\n",
              "      <td>4.542499</td>\n",
              "      <td>6.925531</td>\n",
              "      <td>1.770276</td>\n",
              "    </tr>\n",
              "    <tr>\n",
              "      <th>815</th>\n",
              "      <td>2021-06-14 24:00:00</td>\n",
              "      <td>-4.177979</td>\n",
              "      <td>3.003265</td>\n",
              "      <td>5.608765</td>\n",
              "      <td>1.697054</td>\n",
              "    </tr>\n",
              "  </tbody>\n",
              "</table>\n",
              "</div>"
            ],
            "text/plain": [
              "                    time  dangjin_floating  ...     dangjin      ulsan\n",
              "792  2021-06-14 01:00:00         29.293530  ...   33.433374  -3.152566\n",
              "793  2021-06-14 02:00:00         29.293530  ...   33.339689  -4.158468\n",
              "794  2021-06-14 03:00:00         27.899728  ...   32.728642  -4.816339\n",
              "795  2021-06-14 04:00:00          4.261173  ...   20.088906  -4.823425\n",
              "796  2021-06-14 05:00:00          4.637319  ...   20.426821  -5.834965\n",
              "797  2021-06-14 06:00:00          3.796286  ...   17.193279  -3.309316\n",
              "798  2021-06-14 07:00:00         17.617929  ...   15.200005   1.525176\n",
              "799  2021-06-14 08:00:00         61.469259  ...   48.791473  15.424634\n",
              "800  2021-06-14 09:00:00        137.160220  ...  161.222710  42.143650\n",
              "801  2021-06-14 10:00:00        244.127949  ...  279.167963  52.663561\n",
              "802  2021-06-14 11:00:00        294.325380  ...  346.839112  63.674107\n",
              "803  2021-06-14 12:00:00        324.688869  ...  373.444371  66.704752\n",
              "804  2021-06-14 13:00:00        332.090720  ...  375.407333  74.231994\n",
              "805  2021-06-14 14:00:00        329.894265  ...  378.745464  77.513173\n",
              "806  2021-06-14 15:00:00        275.472833  ...  358.197561  69.242862\n",
              "807  2021-06-14 16:00:00        243.427967  ...  301.840563  59.947926\n",
              "808  2021-06-14 17:00:00        171.862991  ...  224.611287  34.841140\n",
              "809  2021-06-14 18:00:00         79.912730  ...  105.019747  13.504424\n",
              "810  2021-06-14 19:00:00          7.079001  ...   22.206443   2.925260\n",
              "811  2021-06-14 20:00:00         -5.131576  ...    8.354845   1.795883\n",
              "812  2021-06-14 21:00:00         -3.453453  ...    8.980783   1.859207\n",
              "813  2021-06-14 22:00:00         -4.344653  ...   10.115433   1.837183\n",
              "814  2021-06-14 23:00:00         -6.007088  ...    6.925531   1.770276\n",
              "815  2021-06-14 24:00:00         -4.177979  ...    5.608765   1.697054\n",
              "\n",
              "[24 rows x 5 columns]"
            ]
          },
          "metadata": {
            "tags": []
          },
          "execution_count": 41
        }
      ]
    },
    {
      "cell_type": "code",
      "metadata": {
        "id": "z_qVLiIp_Vq8"
      },
      "source": [
        "submission.to_csv(fcst_day+'.csv',index=False)"
      ],
      "execution_count": 42,
      "outputs": []
    },
    {
      "cell_type": "markdown",
      "metadata": {
        "id": "_ib-k54-XLmP"
      },
      "source": [
        "## 테스트 데이터 전처리"
      ]
    },
    {
      "cell_type": "code",
      "metadata": {
        "id": "KuPlwbturVzV"
      },
      "source": [
        "from google.colab import drive\n",
        "drive.mount('/content/drive')"
      ],
      "execution_count": null,
      "outputs": []
    },
    {
      "cell_type": "markdown",
      "metadata": {
        "id": "hSCZsBMMxEt1"
      },
      "source": [
        "## 제출"
      ]
    },
    {
      "cell_type": "code",
      "metadata": {
        "id": "n866yFCN7h9p"
      },
      "source": [
        "def test_datast(fcst_df):\n",
        "    start = '2021-02-01 00:00:00'\n",
        "    end = '2021-02-28 23:00:00'\n",
        "    \n",
        "    start_idx = fcst_df[fcst_df['Forecast_time']==start].index[0]\n",
        "    end_idx = fcst_df[fcst_df['Forecast_time']==end].index[0]\n",
        "    \n",
        "    test_df = fcst_df.loc[start_idx:end_idx, :].copy()\n",
        "    \n",
        "    test_df['date'] = test_df['Forecast_time'].str.split(' ').str[0]\n",
        "    test_df['hour'] = test_df['Forecast_time'].str.split(' ').str[1].str.split(':').str[0].astype(int)\n",
        "    \n",
        "    test_df['year'] = test_df['date'].str.split('-').str[0].astype(int)\n",
        "    test_df['month'] = test_df['date'].str.split('-').str[1].astype(int)\n",
        "    test_df['day'] = test_df['date'].str.split('-').str[2].astype(int)\n",
        "    \n",
        "    test_df = test_df[['year', 'month', 'day', 'hour', 'Temperature', 'Humidity', 'WindSpeed', 'WindDirection', 'Cloud']]\n",
        "    \n",
        "    test_x = test_df.to_numpy()\n",
        "    \n",
        "    return test_x"
      ],
      "execution_count": null,
      "outputs": []
    },
    {
      "cell_type": "code",
      "metadata": {
        "id": "EgDhn7tF7iwh"
      },
      "source": [
        "dangjin_test = test_datast(dangjin_interpolated)\n",
        "ulsan_test = test_datast(ulsan_interpolated)"
      ],
      "execution_count": null,
      "outputs": []
    },
    {
      "cell_type": "code",
      "metadata": {
        "id": "qfS6ZJQY8JLt"
      },
      "source": [
        "submission = pd.read_csv('./data/sample_submission.csv')"
      ],
      "execution_count": null,
      "outputs": []
    },
    {
      "cell_type": "code",
      "metadata": {
        "id": "v4vXsrbm7uZR"
      },
      "source": [
        "dangjin_floating_pred = submission.iloc[:24*28, 1]\n",
        "\n",
        "for fold in range(10):\n",
        "    dangjin_floating_pred += lgb1_models[fold].predict(dangjin_test)/10\n",
        "    \n",
        "\n",
        "#dangjin_floating_pred = dangjin_floating_model.predict(dangjin_test)\n",
        "submission.iloc[:24*28, 1] = dangjin_floating_pred"
      ],
      "execution_count": null,
      "outputs": []
    },
    {
      "cell_type": "code",
      "metadata": {
        "id": "3Mh8owZ5725-"
      },
      "source": [
        "dangjin_warehouse_pred = submission.iloc[:24*28, 2]\n",
        "\n",
        "for fold in range(10):\n",
        "    \n",
        "    dangjin_warehouse_pred += cat2_models[fold].predict(dangjin_test)/10\n",
        "#dangjin_warehouse_pred = cat2.predict(dangjin_test)\n",
        "submission.iloc[:24*28, 2] = dangjin_warehouse_pred"
      ],
      "execution_count": null,
      "outputs": []
    },
    {
      "cell_type": "code",
      "metadata": {
        "id": "br_XVAFy8AZh"
      },
      "source": [
        "dangjin_pred = submission.iloc[:24*28, 2]\n",
        "\n",
        "for fold in range(5):\n",
        "    #dangjin_pred += lgb3_models[fold].predict(dangjin_test)/20\n",
        "    dangjin_pred += cat3_models[fold].predict(dangjin_test)/5\n",
        "#dangjin_pred = cat3.predict(dangjin_test)\n",
        "submission.iloc[:24*28, 3] = dangjin_pred"
      ],
      "execution_count": null,
      "outputs": []
    },
    {
      "cell_type": "code",
      "metadata": {
        "id": "GMlbWcSj8A9h"
      },
      "source": [
        "ulsan_pred = submission.iloc[:24*28, 4]\n",
        "\n",
        "'''for fold in range(10):\n",
        "    #ulsan_pred += lgb4_models[fold].predict(ulsan_test)/20\n",
        "    ulsan_pred += cat4_models[fold].predict(ulsan_test)/10'''\n",
        "ulsan_pred = cat4.predict(ulsan_test)\n",
        "ulsan_pred = submission.iloc[:24*28, 4] = ulsan_pred"
      ],
      "execution_count": null,
      "outputs": []
    },
    {
      "cell_type": "code",
      "metadata": {
        "id": "HgA1xvQ2xEt1"
      },
      "source": [
        "submission.to_csv('final2222.csv', index=False)"
      ],
      "execution_count": null,
      "outputs": []
    },
    {
      "cell_type": "code",
      "metadata": {
        "id": "OGMvMCX28PFt",
        "colab": {
          "base_uri": "https://localhost:8080/",
          "height": 662
        },
        "outputId": "31acbcc9-b6e9-4d49-de63-eac19b853b3d"
      },
      "source": [
        "submission[:20]"
      ],
      "execution_count": null,
      "outputs": [
        {
          "output_type": "execute_result",
          "data": {
            "text/html": [
              "<div>\n",
              "<style scoped>\n",
              "    .dataframe tbody tr th:only-of-type {\n",
              "        vertical-align: middle;\n",
              "    }\n",
              "\n",
              "    .dataframe tbody tr th {\n",
              "        vertical-align: top;\n",
              "    }\n",
              "\n",
              "    .dataframe thead th {\n",
              "        text-align: right;\n",
              "    }\n",
              "</style>\n",
              "<table border=\"1\" class=\"dataframe\">\n",
              "  <thead>\n",
              "    <tr style=\"text-align: right;\">\n",
              "      <th></th>\n",
              "      <th>time</th>\n",
              "      <th>dangjin_floating</th>\n",
              "      <th>dangjin_warehouse</th>\n",
              "      <th>dangjin</th>\n",
              "      <th>ulsan</th>\n",
              "    </tr>\n",
              "  </thead>\n",
              "  <tbody>\n",
              "    <tr>\n",
              "      <th>0</th>\n",
              "      <td>2021-02-01 01:00:00</td>\n",
              "      <td>-14.030844</td>\n",
              "      <td>-3.929230</td>\n",
              "      <td>-3.929230</td>\n",
              "      <td>-3.411006</td>\n",
              "    </tr>\n",
              "    <tr>\n",
              "      <th>1</th>\n",
              "      <td>2021-02-01 02:00:00</td>\n",
              "      <td>-10.785423</td>\n",
              "      <td>-0.544544</td>\n",
              "      <td>-0.544544</td>\n",
              "      <td>-1.206727</td>\n",
              "    </tr>\n",
              "    <tr>\n",
              "      <th>2</th>\n",
              "      <td>2021-02-01 03:00:00</td>\n",
              "      <td>-13.939630</td>\n",
              "      <td>-1.851262</td>\n",
              "      <td>-1.851262</td>\n",
              "      <td>0.020413</td>\n",
              "    </tr>\n",
              "    <tr>\n",
              "      <th>3</th>\n",
              "      <td>2021-02-01 04:00:00</td>\n",
              "      <td>-16.172595</td>\n",
              "      <td>-7.913679</td>\n",
              "      <td>-7.913679</td>\n",
              "      <td>0.057985</td>\n",
              "    </tr>\n",
              "    <tr>\n",
              "      <th>4</th>\n",
              "      <td>2021-02-01 05:00:00</td>\n",
              "      <td>-13.610172</td>\n",
              "      <td>-7.420329</td>\n",
              "      <td>-7.420329</td>\n",
              "      <td>0.052356</td>\n",
              "    </tr>\n",
              "    <tr>\n",
              "      <th>5</th>\n",
              "      <td>2021-02-01 06:00:00</td>\n",
              "      <td>-14.192924</td>\n",
              "      <td>-10.949913</td>\n",
              "      <td>-10.949913</td>\n",
              "      <td>0.508380</td>\n",
              "    </tr>\n",
              "    <tr>\n",
              "      <th>6</th>\n",
              "      <td>2021-02-01 07:00:00</td>\n",
              "      <td>-17.096378</td>\n",
              "      <td>-15.462109</td>\n",
              "      <td>-15.462109</td>\n",
              "      <td>2.761307</td>\n",
              "    </tr>\n",
              "    <tr>\n",
              "      <th>7</th>\n",
              "      <td>2021-02-01 08:00:00</td>\n",
              "      <td>-6.982919</td>\n",
              "      <td>-9.544430</td>\n",
              "      <td>-9.544430</td>\n",
              "      <td>6.430773</td>\n",
              "    </tr>\n",
              "    <tr>\n",
              "      <th>8</th>\n",
              "      <td>2021-02-01 09:00:00</td>\n",
              "      <td>17.643115</td>\n",
              "      <td>49.958906</td>\n",
              "      <td>49.958906</td>\n",
              "      <td>18.850496</td>\n",
              "    </tr>\n",
              "    <tr>\n",
              "      <th>9</th>\n",
              "      <td>2021-02-01 10:00:00</td>\n",
              "      <td>21.132810</td>\n",
              "      <td>77.033430</td>\n",
              "      <td>77.033430</td>\n",
              "      <td>35.471467</td>\n",
              "    </tr>\n",
              "    <tr>\n",
              "      <th>10</th>\n",
              "      <td>2021-02-01 11:00:00</td>\n",
              "      <td>67.624051</td>\n",
              "      <td>215.312274</td>\n",
              "      <td>215.312274</td>\n",
              "      <td>64.817407</td>\n",
              "    </tr>\n",
              "    <tr>\n",
              "      <th>11</th>\n",
              "      <td>2021-02-01 12:00:00</td>\n",
              "      <td>-1.798618</td>\n",
              "      <td>374.256679</td>\n",
              "      <td>374.256679</td>\n",
              "      <td>112.636927</td>\n",
              "    </tr>\n",
              "    <tr>\n",
              "      <th>12</th>\n",
              "      <td>2021-02-01 13:00:00</td>\n",
              "      <td>70.323472</td>\n",
              "      <td>525.492075</td>\n",
              "      <td>525.492075</td>\n",
              "      <td>134.255771</td>\n",
              "    </tr>\n",
              "    <tr>\n",
              "      <th>13</th>\n",
              "      <td>2021-02-01 14:00:00</td>\n",
              "      <td>148.072417</td>\n",
              "      <td>730.688595</td>\n",
              "      <td>730.688595</td>\n",
              "      <td>142.113569</td>\n",
              "    </tr>\n",
              "    <tr>\n",
              "      <th>14</th>\n",
              "      <td>2021-02-01 15:00:00</td>\n",
              "      <td>159.090444</td>\n",
              "      <td>771.062134</td>\n",
              "      <td>771.062134</td>\n",
              "      <td>125.785926</td>\n",
              "    </tr>\n",
              "    <tr>\n",
              "      <th>15</th>\n",
              "      <td>2021-02-01 16:00:00</td>\n",
              "      <td>167.773515</td>\n",
              "      <td>704.744026</td>\n",
              "      <td>704.744026</td>\n",
              "      <td>112.281870</td>\n",
              "    </tr>\n",
              "    <tr>\n",
              "      <th>16</th>\n",
              "      <td>2021-02-01 17:00:00</td>\n",
              "      <td>136.315515</td>\n",
              "      <td>348.185924</td>\n",
              "      <td>348.185924</td>\n",
              "      <td>59.026945</td>\n",
              "    </tr>\n",
              "    <tr>\n",
              "      <th>17</th>\n",
              "      <td>2021-02-01 18:00:00</td>\n",
              "      <td>10.211084</td>\n",
              "      <td>68.612976</td>\n",
              "      <td>68.612976</td>\n",
              "      <td>17.266849</td>\n",
              "    </tr>\n",
              "    <tr>\n",
              "      <th>18</th>\n",
              "      <td>2021-02-01 19:00:00</td>\n",
              "      <td>-0.941178</td>\n",
              "      <td>-2.448121</td>\n",
              "      <td>-2.448121</td>\n",
              "      <td>-1.825202</td>\n",
              "    </tr>\n",
              "    <tr>\n",
              "      <th>19</th>\n",
              "      <td>2021-02-01 20:00:00</td>\n",
              "      <td>-9.767143</td>\n",
              "      <td>-0.888933</td>\n",
              "      <td>-0.888933</td>\n",
              "      <td>-2.463199</td>\n",
              "    </tr>\n",
              "  </tbody>\n",
              "</table>\n",
              "</div>"
            ],
            "text/plain": [
              "                   time  dangjin_floating  ...     dangjin       ulsan\n",
              "0   2021-02-01 01:00:00        -14.030844  ...   -3.929230   -3.411006\n",
              "1   2021-02-01 02:00:00        -10.785423  ...   -0.544544   -1.206727\n",
              "2   2021-02-01 03:00:00        -13.939630  ...   -1.851262    0.020413\n",
              "3   2021-02-01 04:00:00        -16.172595  ...   -7.913679    0.057985\n",
              "4   2021-02-01 05:00:00        -13.610172  ...   -7.420329    0.052356\n",
              "5   2021-02-01 06:00:00        -14.192924  ...  -10.949913    0.508380\n",
              "6   2021-02-01 07:00:00        -17.096378  ...  -15.462109    2.761307\n",
              "7   2021-02-01 08:00:00         -6.982919  ...   -9.544430    6.430773\n",
              "8   2021-02-01 09:00:00         17.643115  ...   49.958906   18.850496\n",
              "9   2021-02-01 10:00:00         21.132810  ...   77.033430   35.471467\n",
              "10  2021-02-01 11:00:00         67.624051  ...  215.312274   64.817407\n",
              "11  2021-02-01 12:00:00         -1.798618  ...  374.256679  112.636927\n",
              "12  2021-02-01 13:00:00         70.323472  ...  525.492075  134.255771\n",
              "13  2021-02-01 14:00:00        148.072417  ...  730.688595  142.113569\n",
              "14  2021-02-01 15:00:00        159.090444  ...  771.062134  125.785926\n",
              "15  2021-02-01 16:00:00        167.773515  ...  704.744026  112.281870\n",
              "16  2021-02-01 17:00:00        136.315515  ...  348.185924   59.026945\n",
              "17  2021-02-01 18:00:00         10.211084  ...   68.612976   17.266849\n",
              "18  2021-02-01 19:00:00         -0.941178  ...   -2.448121   -1.825202\n",
              "19  2021-02-01 20:00:00         -9.767143  ...   -0.888933   -2.463199\n",
              "\n",
              "[20 rows x 5 columns]"
            ]
          },
          "metadata": {
            "tags": []
          },
          "execution_count": 49
        }
      ]
    },
    {
      "cell_type": "code",
      "metadata": {
        "id": "wy6wYaulxEt1"
      },
      "source": [
        "submission.iloc[:24*28, 1] = dangjin_floating_pred\n",
        "submission.iloc[:24*28, 2] = dangjin_warehouse_pred\n",
        "submission.iloc[:24*28, 3] = dangjin_pred\n",
        "submission.iloc[:24*28, 4] = ulsan_pred"
      ],
      "execution_count": null,
      "outputs": []
    },
    {
      "cell_type": "code",
      "metadata": {
        "id": "YgD6QmdMxEt2"
      },
      "source": [
        "submission2 = pd.read_csv('./data/sample_submission.csv')\n",
        "submission2.iloc[:24*28, 1] = dangjin_floating_pred\n",
        "submission2.iloc[:24*28, 2] = dangjin_warehouse_pred\n",
        "submission2.iloc[:24*28, 3] = dangjin_pred\n",
        "submission2.iloc[:24*28, 4] = ulsan_pred"
      ],
      "execution_count": null,
      "outputs": []
    },
    {
      "cell_type": "code",
      "metadata": {
        "id": "si8jt5a8_F1y"
      },
      "source": [
        "submission[['dangjin_floating','dangjin_warehouse','dangjin','ulsan']] = (submission[['dangjin_floating','dangjin_warehouse','dangjin','ulsan']] + submission2[['dangjin_floating','dangjin_warehouse','dangjin','ulsan']]) / 2"
      ],
      "execution_count": null,
      "outputs": []
    },
    {
      "cell_type": "code",
      "metadata": {
        "colab": {
          "base_uri": "https://localhost:8080/",
          "height": 419
        },
        "id": "287-uObdIbrF",
        "outputId": "6b571003-46bb-423b-8467-7e314f66b898"
      },
      "source": [
        "submission"
      ],
      "execution_count": null,
      "outputs": [
        {
          "output_type": "execute_result",
          "data": {
            "text/html": [
              "<div>\n",
              "<style scoped>\n",
              "    .dataframe tbody tr th:only-of-type {\n",
              "        vertical-align: middle;\n",
              "    }\n",
              "\n",
              "    .dataframe tbody tr th {\n",
              "        vertical-align: top;\n",
              "    }\n",
              "\n",
              "    .dataframe thead th {\n",
              "        text-align: right;\n",
              "    }\n",
              "</style>\n",
              "<table border=\"1\" class=\"dataframe\">\n",
              "  <thead>\n",
              "    <tr style=\"text-align: right;\">\n",
              "      <th></th>\n",
              "      <th>time</th>\n",
              "      <th>dangjin_floating</th>\n",
              "      <th>dangjin_warehouse</th>\n",
              "      <th>dangjin</th>\n",
              "      <th>ulsan</th>\n",
              "    </tr>\n",
              "  </thead>\n",
              "  <tbody>\n",
              "    <tr>\n",
              "      <th>0</th>\n",
              "      <td>2021-02-01 01:00:00</td>\n",
              "      <td>-6.904098</td>\n",
              "      <td>-0.891064</td>\n",
              "      <td>0.659742</td>\n",
              "      <td>-1.984275</td>\n",
              "    </tr>\n",
              "    <tr>\n",
              "      <th>1</th>\n",
              "      <td>2021-02-01 02:00:00</td>\n",
              "      <td>-6.691012</td>\n",
              "      <td>-0.693226</td>\n",
              "      <td>0.816881</td>\n",
              "      <td>-1.073283</td>\n",
              "    </tr>\n",
              "    <tr>\n",
              "      <th>2</th>\n",
              "      <td>2021-02-01 03:00:00</td>\n",
              "      <td>-6.429722</td>\n",
              "      <td>-1.361885</td>\n",
              "      <td>0.809705</td>\n",
              "      <td>-0.190118</td>\n",
              "    </tr>\n",
              "    <tr>\n",
              "      <th>3</th>\n",
              "      <td>2021-02-01 04:00:00</td>\n",
              "      <td>-5.708050</td>\n",
              "      <td>-1.485486</td>\n",
              "      <td>0.548285</td>\n",
              "      <td>-0.191640</td>\n",
              "    </tr>\n",
              "    <tr>\n",
              "      <th>4</th>\n",
              "      <td>2021-02-01 05:00:00</td>\n",
              "      <td>-3.146568</td>\n",
              "      <td>-1.651132</td>\n",
              "      <td>0.530432</td>\n",
              "      <td>-0.169720</td>\n",
              "    </tr>\n",
              "    <tr>\n",
              "      <th>...</th>\n",
              "      <td>...</td>\n",
              "      <td>...</td>\n",
              "      <td>...</td>\n",
              "      <td>...</td>\n",
              "      <td>...</td>\n",
              "    </tr>\n",
              "    <tr>\n",
              "      <th>1387</th>\n",
              "      <td>2021-07-08 20:00:00</td>\n",
              "      <td>0.000000</td>\n",
              "      <td>0.000000</td>\n",
              "      <td>0.000000</td>\n",
              "      <td>0.000000</td>\n",
              "    </tr>\n",
              "    <tr>\n",
              "      <th>1388</th>\n",
              "      <td>2021-07-08 21:00:00</td>\n",
              "      <td>0.000000</td>\n",
              "      <td>0.000000</td>\n",
              "      <td>0.000000</td>\n",
              "      <td>0.000000</td>\n",
              "    </tr>\n",
              "    <tr>\n",
              "      <th>1389</th>\n",
              "      <td>2021-07-08 22:00:00</td>\n",
              "      <td>0.000000</td>\n",
              "      <td>0.000000</td>\n",
              "      <td>0.000000</td>\n",
              "      <td>0.000000</td>\n",
              "    </tr>\n",
              "    <tr>\n",
              "      <th>1390</th>\n",
              "      <td>2021-07-08 23:00:00</td>\n",
              "      <td>0.000000</td>\n",
              "      <td>0.000000</td>\n",
              "      <td>0.000000</td>\n",
              "      <td>0.000000</td>\n",
              "    </tr>\n",
              "    <tr>\n",
              "      <th>1391</th>\n",
              "      <td>2021-07-08 24:00:00</td>\n",
              "      <td>0.000000</td>\n",
              "      <td>0.000000</td>\n",
              "      <td>0.000000</td>\n",
              "      <td>0.000000</td>\n",
              "    </tr>\n",
              "  </tbody>\n",
              "</table>\n",
              "<p>1392 rows × 5 columns</p>\n",
              "</div>"
            ],
            "text/plain": [
              "                     time  dangjin_floating  ...   dangjin     ulsan\n",
              "0     2021-02-01 01:00:00         -6.904098  ...  0.659742 -1.984275\n",
              "1     2021-02-01 02:00:00         -6.691012  ...  0.816881 -1.073283\n",
              "2     2021-02-01 03:00:00         -6.429722  ...  0.809705 -0.190118\n",
              "3     2021-02-01 04:00:00         -5.708050  ...  0.548285 -0.191640\n",
              "4     2021-02-01 05:00:00         -3.146568  ...  0.530432 -0.169720\n",
              "...                   ...               ...  ...       ...       ...\n",
              "1387  2021-07-08 20:00:00          0.000000  ...  0.000000  0.000000\n",
              "1388  2021-07-08 21:00:00          0.000000  ...  0.000000  0.000000\n",
              "1389  2021-07-08 22:00:00          0.000000  ...  0.000000  0.000000\n",
              "1390  2021-07-08 23:00:00          0.000000  ...  0.000000  0.000000\n",
              "1391  2021-07-08 24:00:00          0.000000  ...  0.000000  0.000000\n",
              "\n",
              "[1392 rows x 5 columns]"
            ]
          },
          "metadata": {
            "tags": []
          },
          "execution_count": 46
        }
      ]
    },
    {
      "cell_type": "code",
      "metadata": {
        "id": "UwdYltLMAGQG"
      },
      "source": [
        "submission.to_csv('lgb+cat.csv', index=False)"
      ],
      "execution_count": null,
      "outputs": []
    }
  ]
}