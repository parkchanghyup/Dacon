{
  "nbformat": 4,
  "nbformat_minor": 0,
  "metadata": {
    "kernelspec": {
      "display_name": "lg",
      "language": "python",
      "name": "lg"
    },
    "language_info": {
      "codemirror_mode": {
        "name": "ipython",
        "version": 3
      },
      "file_extension": ".py",
      "mimetype": "text/x-python",
      "name": "python",
      "nbconvert_exporter": "python",
      "pygments_lexer": "ipython3",
      "version": "3.6.12"
    },
    "colab": {
      "name": "동서발전.ipynb",
      "provenance": [],
      "collapsed_sections": []
    }
  },
  "cells": [
    {
      "cell_type": "markdown",
      "metadata": {
        "id": "peEFCG5MxEtq"
      },
      "source": [
        "## 모듈 임포트"
      ]
    },
    {
      "cell_type": "code",
      "metadata": {
        "id": "7dgHzDk2xEtr"
      },
      "source": [
        "import pandas as pd\n",
        "from datetime import datetime, timedelta\n",
        "import pandas as pd\n",
        "import numpy as np\n",
        "import matplotlib.pyplot as plt\n",
        "import lightgbm as lgb"
      ],
      "execution_count": null,
      "outputs": []
    },
    {
      "cell_type": "markdown",
      "metadata": {
        "id": "5XvNCa0cxEts"
      },
      "source": [
        "## 데이터 로드"
      ]
    },
    {
      "cell_type": "code",
      "metadata": {
        "colab": {
          "base_uri": "https://localhost:8080/"
        },
        "id": "wM2mlOr266NW",
        "outputId": "9aaf6a5b-50ab-4031-94b7-d1c9fcd5a48b"
      },
      "source": [
        "!wget 'https://bit.ly/3dD5MU9'\n",
        "\n",
        "import zipfile\n",
        "with zipfile.ZipFile('3dD5MU9', 'r') as existing_zip:\n",
        "    existing_zip.extractall('data')"
      ],
      "execution_count": null,
      "outputs": [
        {
          "output_type": "stream",
          "text": [
            "--2021-05-27 08:19:03--  https://bit.ly/3dD5MU9\n",
            "Resolving bit.ly (bit.ly)... 67.199.248.11, 67.199.248.10\n",
            "Connecting to bit.ly (bit.ly)|67.199.248.11|:443... connected.\n",
            "HTTP request sent, awaiting response... 301 Moved Permanently\n",
            "Location: https://drive.google.com/uc?export=download&id=1kkF00wW8v0npJ8S2nA7--eMTH3gOL03z [following]\n",
            "--2021-05-27 08:19:03--  https://drive.google.com/uc?export=download&id=1kkF00wW8v0npJ8S2nA7--eMTH3gOL03z\n",
            "Resolving drive.google.com (drive.google.com)... 142.250.99.101, 142.250.99.113, 142.250.99.100, ...\n",
            "Connecting to drive.google.com (drive.google.com)|142.250.99.101|:443... connected.\n",
            "HTTP request sent, awaiting response... 302 Moved Temporarily\n",
            "Location: https://doc-14-94-docs.googleusercontent.com/docs/securesc/ha0ro937gcuc7l7deffksulhg5h7mbp1/l7eokqs82ko0t1schp6jqce1j1t9js09/1622103525000/00192245294648390361/*/1kkF00wW8v0npJ8S2nA7--eMTH3gOL03z?e=download [following]\n",
            "Warning: wildcards not supported in HTTP.\n",
            "--2021-05-27 08:19:09--  https://doc-14-94-docs.googleusercontent.com/docs/securesc/ha0ro937gcuc7l7deffksulhg5h7mbp1/l7eokqs82ko0t1schp6jqce1j1t9js09/1622103525000/00192245294648390361/*/1kkF00wW8v0npJ8S2nA7--eMTH3gOL03z?e=download\n",
            "Resolving doc-14-94-docs.googleusercontent.com (doc-14-94-docs.googleusercontent.com)... 74.125.195.132, 2607:f8b0:400e:c09::84\n",
            "Connecting to doc-14-94-docs.googleusercontent.com (doc-14-94-docs.googleusercontent.com)|74.125.195.132|:443... connected.\n",
            "HTTP request sent, awaiting response... 200 OK\n",
            "Length: unspecified [application/x-zip-compressed]\n",
            "Saving to: ‘3dD5MU9’\n",
            "\n",
            "3dD5MU9                 [ <=>                ]   2.07M  --.-KB/s    in 0.02s   \n",
            "\n",
            "2021-05-27 08:19:09 (137 MB/s) - ‘3dD5MU9’ saved [2172031]\n",
            "\n"
          ],
          "name": "stdout"
        }
      ]
    },
    {
      "cell_type": "code",
      "metadata": {
        "id": "Cc5-Zx_kxEts"
      },
      "source": [
        "energy = pd.read_csv('data/energy.csv')\n",
        "dangjin_fcst = pd.read_csv('./data/dangjin_fcst_data.csv')\n",
        "ulsan_fcst = pd.read_csv('./data/ulsan_fcst_data.csv')"
      ],
      "execution_count": null,
      "outputs": []
    },
    {
      "cell_type": "markdown",
      "metadata": {
        "id": "jaxITLK3xEtt"
      },
      "source": [
        "## 데이터 병합 \n",
        "- 가장 나중의 예측 데이터가 가장 좋다고 가정."
      ]
    },
    {
      "cell_type": "code",
      "metadata": {
        "id": "yAqZEnduxEtt"
      },
      "source": [
        "def to_date(x):\n",
        "    return timedelta(hours=x)"
      ],
      "execution_count": null,
      "outputs": []
    },
    {
      "cell_type": "code",
      "metadata": {
        "id": "ioZjk_yFxEtt"
      },
      "source": [
        "def generate_df(df_):\n",
        "    df = df_.copy()\n",
        "\n",
        "    df['Forecast_time'] = pd.to_datetime(df['Forecast time'])\n",
        "\n",
        "    # 20 시\n",
        "    a = df[df[\"forecast\"] == 4.0]\n",
        "    a = a[a[\"Forecast time\"].apply(lambda x: \"20:00:00\" in x)]\n",
        "    a.loc[:, 'Forecast_time'] = a.loc[:, 'Forecast_time'] + a.loc[:, 'forecast'].map(to_date)\n",
        "\n",
        "    # 23 시\n",
        "    b = df[df[\"forecast\"] <= 22]\n",
        "    b = b[b[\"Forecast time\"].apply(lambda x: \"23:00:00\" in x)]\n",
        "    b.loc[:, 'Forecast_time'] = b.loc[:, 'Forecast_time'] + b.loc[:, 'forecast'].map(to_date)\n",
        "\n",
        "    # 병합\n",
        "    c = pd.concat([a, b])\n",
        "    print(f\"20시 사용 데이터 길이 : {len(a)}\")\n",
        "    print(f\"23시 사용 데이터 길이 : {len(b)}\")\n",
        "    print(f\"합친 데이터 길이 : {len(c)}\")\n",
        "    print()\n",
        "\n",
        "    # 정렬\n",
        "    c.sort_values(by=['Forecast_time'], inplace=True)\n",
        "    c = c[['Forecast_time', 'Temperature', 'Humidity', 'WindSpeed', 'WindDirection', 'Cloud']]\n",
        "\n",
        "    return c"
      ],
      "execution_count": null,
      "outputs": []
    },
    {
      "cell_type": "code",
      "metadata": {
        "colab": {
          "base_uri": "https://localhost:8080/"
        },
        "id": "Fy4imRuixEtu",
        "outputId": "1b694fd6-6fae-47c6-cfc7-088bb925ebec"
      },
      "source": [
        "dangjin_filled = generate_df(dangjin_fcst)\n",
        "ulsan_filled = generate_df(ulsan_fcst)"
      ],
      "execution_count": null,
      "outputs": [
        {
          "output_type": "stream",
          "text": [
            "20시 사용 데이터 길이 : 1096\n",
            "23시 사용 데이터 길이 : 7672\n",
            "합친 데이터 길이 : 8768\n",
            "\n",
            "20시 사용 데이터 길이 : 1096\n",
            "23시 사용 데이터 길이 : 7672\n",
            "합친 데이터 길이 : 8768\n",
            "\n"
          ],
          "name": "stdout"
        }
      ]
    },
    {
      "cell_type": "markdown",
      "metadata": {
        "id": "DXgEGLQhxEtu"
      },
      "source": [
        "## 보간"
      ]
    },
    {
      "cell_type": "code",
      "metadata": {
        "id": "o2jTqIiJxEtu"
      },
      "source": [
        "def interpolate_df(df, method='linear'):\n",
        "    new_df = pd.DataFrame()\n",
        "    new_df['Forecast_time'] = pd.date_range(start=df['Forecast_time'].iloc[0], end=df['Forecast_time'].iloc[-1], freq='H')\n",
        "    new_df = pd.merge(new_df, df, on='Forecast_time', how='outer')\n",
        "    return new_df.interpolate(method=method)"
      ],
      "execution_count": null,
      "outputs": []
    },
    {
      "cell_type": "code",
      "metadata": {
        "id": "_4OTPM8DxEtv"
      },
      "source": [
        "dangjin_interpolated = interpolate_df(dangjin_filled, method='linear')\n",
        "ulsan_interpolated = interpolate_df(ulsan_filled, method='linear')"
      ],
      "execution_count": null,
      "outputs": []
    },
    {
      "cell_type": "markdown",
      "metadata": {
        "id": "0Bk82ximn-Sc"
      },
      "source": [
        "## 피처엔지니어링"
      ]
    },
    {
      "cell_type": "code",
      "metadata": {
        "colab": {
          "base_uri": "https://localhost:8080/"
        },
        "id": "JJZXuWQfoy1_",
        "outputId": "793f6c2b-af0e-4af5-8d63-69053133e267"
      },
      "source": [
        "dangjin_interpolated.Cloud.value_counts()"
      ],
      "execution_count": null,
      "outputs": [
        {
          "output_type": "execute_result",
          "data": {
            "text/plain": [
              "1.000000    8029\n",
              "4.000000    6282\n",
              "3.000000    5654\n",
              "2.000000    2543\n",
              "3.333333     690\n",
              "3.666667     683\n",
              "2.333333     640\n",
              "1.666667     448\n",
              "1.666667     434\n",
              "2.333333     335\n",
              "2.666667     325\n",
              "1.333333     115\n",
              "1.333333     113\n",
              "2.666667       7\n",
              "3.333333       4\n",
              "Name: Cloud, dtype: int64"
            ]
          },
          "metadata": {
            "tags": []
          },
          "execution_count": 27
        }
      ]
    },
    {
      "cell_type": "code",
      "metadata": {
        "colab": {
          "base_uri": "https://localhost:8080/",
          "height": 611
        },
        "id": "BFaSUTTGn9k_",
        "outputId": "2ed4f640-2c5b-4c04-e01c-96567ca3303e"
      },
      "source": [
        "import seaborn as sns\n",
        "plt.figure(figsize=(10,8))\n",
        "col = 'WindSpeed'\n",
        "sns.distplot(dangjin_interpolated[col])\n",
        "sns.distplot(np.log1p(dangjin_interpolated[col]))"
      ],
      "execution_count": null,
      "outputs": [
        {
          "output_type": "stream",
          "text": [
            "/usr/local/lib/python3.7/dist-packages/seaborn/distributions.py:2557: FutureWarning: `distplot` is a deprecated function and will be removed in a future version. Please adapt your code to use either `displot` (a figure-level function with similar flexibility) or `histplot` (an axes-level function for histograms).\n",
            "  warnings.warn(msg, FutureWarning)\n",
            "/usr/local/lib/python3.7/dist-packages/seaborn/distributions.py:2557: FutureWarning: `distplot` is a deprecated function and will be removed in a future version. Please adapt your code to use either `displot` (a figure-level function with similar flexibility) or `histplot` (an axes-level function for histograms).\n",
            "  warnings.warn(msg, FutureWarning)\n"
          ],
          "name": "stderr"
        },
        {
          "output_type": "execute_result",
          "data": {
            "text/plain": [
              "<matplotlib.axes._subplots.AxesSubplot at 0x7f211194e550>"
            ]
          },
          "metadata": {
            "tags": []
          },
          "execution_count": 26
        },
        {
          "output_type": "display_data",
          "data": {
            "image/png": "[encoded data removed]",
            "text/plain": [
              "<Figure size 720x576 with 1 Axes>"
            ]
          },
          "metadata": {
            "tags": [],
            "needs_background": "light"
          }
        }
      ]
    },
    {
      "cell_type": "code",
      "metadata": {
        "colab": {
          "base_uri": "https://localhost:8080/"
        },
        "id": "jmnCH_mr0iko",
        "outputId": "172a5400-71ad-4063-8842-acd27b216f7c"
      },
      "source": [
        "!pip install Catboost"
      ],
      "execution_count": null,
      "outputs": [
        {
          "output_type": "stream",
          "text": [
            "Collecting Catboost\n",
            "\u001b[?25l  Downloading https://files.pythonhosted.org/packages/47/80/8e9c57ec32dfed6ba2922bc5c96462cbf8596ce1a6f5de532ad1e43e53fe/catboost-0.25.1-cp37-none-manylinux1_x86_64.whl (67.3MB)\n",
            "\u001b[K     |████████████████████████████████| 67.3MB 52kB/s \n",
            "\u001b[?25hRequirement already satisfied: six in /usr/local/lib/python3.7/dist-packages (from Catboost) (1.15.0)\n",
            "Requirement already satisfied: matplotlib in /usr/local/lib/python3.7/dist-packages (from Catboost) (3.2.2)\n",
            "Requirement already satisfied: numpy>=1.16.0 in /usr/local/lib/python3.7/dist-packages (from Catboost) (1.19.5)\n",
            "Requirement already satisfied: graphviz in /usr/local/lib/python3.7/dist-packages (from Catboost) (0.10.1)\n",
            "Requirement already satisfied: plotly in /usr/local/lib/python3.7/dist-packages (from Catboost) (4.4.1)\n",
            "Requirement already satisfied: scipy in /usr/local/lib/python3.7/dist-packages (from Catboost) (1.4.1)\n",
            "Requirement already satisfied: pandas>=0.24.0 in /usr/local/lib/python3.7/dist-packages (from Catboost) (1.1.5)\n",
            "Requirement already satisfied: kiwisolver>=1.0.1 in /usr/local/lib/python3.7/dist-packages (from matplotlib->Catboost) (1.3.1)\n",
            "Requirement already satisfied: pyparsing!=2.0.4,!=2.1.2,!=2.1.6,>=2.0.1 in /usr/local/lib/python3.7/dist-packages (from matplotlib->Catboost) (2.4.7)\n",
            "Requirement already satisfied: python-dateutil>=2.1 in /usr/local/lib/python3.7/dist-packages (from matplotlib->Catboost) (2.8.1)\n",
            "Requirement already satisfied: cycler>=0.10 in /usr/local/lib/python3.7/dist-packages (from matplotlib->Catboost) (0.10.0)\n",
            "Requirement already satisfied: retrying>=1.3.3 in /usr/local/lib/python3.7/dist-packages (from plotly->Catboost) (1.3.3)\n",
            "Requirement already satisfied: pytz>=2017.2 in /usr/local/lib/python3.7/dist-packages (from pandas>=0.24.0->Catboost) (2018.9)\n",
            "Installing collected packages: Catboost\n",
            "Successfully installed Catboost-0.25.1\n"
          ],
          "name": "stdout"
        }
      ]
    },
    {
      "cell_type": "code",
      "metadata": {
        "id": "SS9O3qBt0xds"
      },
      "source": [
        "from catboost import CatBoostRegressor"
      ],
      "execution_count": null,
      "outputs": []
    },
    {
      "cell_type": "code",
      "metadata": {
        "id": "DaBEC0v9xEtv"
      },
      "source": [
        ""
      ],
      "execution_count": null,
      "outputs": []
    },
    {
      "cell_type": "code",
      "metadata": {
        "id": "7rG-Ew1CxEtv"
      },
      "source": [
        ""
      ],
      "execution_count": null,
      "outputs": []
    },
    {
      "cell_type": "markdown",
      "metadata": {
        "id": "v7-tPohPxEtv"
      },
      "source": [
        "## 학습 데이터 전처리"
      ]
    },
    {
      "cell_type": "code",
      "metadata": {
        "id": "xM6Rd7mCxEtw"
      },
      "source": [
        "def train_datast(energy_df, fcst_df, target):\n",
        "    # 일기 예보 있는 날짜만 선택\n",
        "    energy = energy_df.loc[24:]\n",
        "    energy.index = range(energy.shape[0])\n",
        "    \n",
        "    # 발전량 데이터가 있는 날짜만 선택\n",
        "    fcst = fcst_df.loc[:25608-1]\n",
        "    fcst.index = range(fcst.shape[0])\n",
        "    \n",
        "    # 발전량과 일기예보 연결\n",
        "    concat_df = pd.concat([energy, fcst], axis=1)\n",
        "    \n",
        "    # 예보 시간 및 날짜 정보 feature로 추가\n",
        "    concat_df['date'] = concat_df['Forecast_time'].str.split(' ').str[0]\n",
        "    concat_df['hour'] = concat_df['Forecast_time'].str.split(' ').str[1].str.split(':').str[0].astype(int)\n",
        "    \n",
        "    concat_df['year'] = concat_df['date'].str.split('-').str[0].astype(int)\n",
        "    concat_df['month'] = concat_df['date'].str.split('-').str[1].astype(int)\n",
        "    concat_df['day'] = concat_df['date'].str.split('-').str[2].astype(int)\n",
        "    \n",
        "    # 예보 시간, 날짜, 기상 예보 및 발전량 선택\n",
        "    feature_df = concat_df[['year', 'month', 'day', 'hour', 'Temperature', 'Humidity', 'WindSpeed', 'WindDirection', 'Cloud', target]]\n",
        "    \n",
        "    # 마지막 30일을 검증데이터셋으로 나머지를 학습 데이터셋으로 선택\n",
        "    train_df = feature_df.iloc[:-24*90]\n",
        "    val_df = feature_df.iloc[-24*90:]\n",
        "    \n",
        "    # 발전량이 0인 데이터를 제외\n",
        "    train_df = train_df[train_df[target]!=0]\n",
        "    \n",
        "    train_x = train_df.loc[:, 'year':'Cloud'].to_numpy()\n",
        "    train_y = train_df[target].to_numpy()\n",
        "    \n",
        "    val_x = val_df.loc[:, 'year':'Cloud'].to_numpy()\n",
        "    val_y = val_df[target].to_numpy()\n",
        "    \n",
        "    return train_x, train_y, val_x, val_y"
      ],
      "execution_count": null,
      "outputs": []
    },
    {
      "cell_type": "markdown",
      "metadata": {
        "id": "xzGRxRfPxEtw"
      },
      "source": [
        "## LGBM custom metric"
      ]
    },
    {
      "cell_type": "code",
      "metadata": {
        "id": "jNtvaPblxEtw"
      },
      "source": [
        "def nmae_10(y_pred, dataset):\n",
        "    y_true = dataset.get_label()\n",
        "    \n",
        "    absolute_error = abs(y_true - y_pred)\n",
        "    absolute_error /= capacity\n",
        "    \n",
        "    target_idx = np.where(y_true>=capacity*0.1)\n",
        "    \n",
        "    nmae = 100 * absolute_error[target_idx].mean()\n",
        "    \n",
        "    return 'score', nmae, False"
      ],
      "execution_count": null,
      "outputs": []
    },
    {
      "cell_type": "markdown",
      "metadata": {
        "id": "sXlKQzsRxEtw"
      },
      "source": [
        "## Validation Metric"
      ]
    },
    {
      "cell_type": "code",
      "metadata": {
        "id": "nsgTXjUYxEtw"
      },
      "source": [
        "def sola_nmae(answer, pred):\n",
        "    absolute_error = np.abs(answer - pred)\n",
        "    \n",
        "    absolute_error /= capacity\n",
        "    \n",
        "    target_idx = np.where(answer>=capacity*0.1)\n",
        "    \n",
        "    nmae = 100 * absolute_error[target_idx].mean()\n",
        "    \n",
        "    return nmae"
      ],
      "execution_count": null,
      "outputs": []
    },
    {
      "cell_type": "markdown",
      "metadata": {
        "id": "DC577FiJxEtx"
      },
      "source": [
        "## LightGBM Hyperparameter"
      ]
    },
    {
      "cell_type": "code",
      "metadata": {
        "id": "BY2ZTCd0xEtx"
      },
      "source": [
        "params = {\n",
        "    'learning_rate': 0.01,\n",
        "    'objective': 'regression',\n",
        "    'metric':'mae',\n",
        "    'seed':42\n",
        "}"
      ],
      "execution_count": null,
      "outputs": []
    },
    {
      "cell_type": "code",
      "metadata": {
        "id": "HbrhwrghxEtx"
      },
      "source": [
        "dangjin_interpolated['Forecast_time'] = dangjin_interpolated['Forecast_time'].astype('str')\n",
        "ulsan_interpolated['Forecast_time'] = ulsan_interpolated['Forecast_time'].astype('str')"
      ],
      "execution_count": null,
      "outputs": []
    },
    {
      "cell_type": "markdown",
      "metadata": {
        "id": "imlrsCkKxEty"
      },
      "source": [
        "## 당진 수상태양광 예측 모델 학습"
      ]
    },
    {
      "cell_type": "code",
      "metadata": {
        "id": "J3ssEf4c1yuv"
      },
      "source": [
        "energy = energy.fillna(0)"
      ],
      "execution_count": null,
      "outputs": []
    },
    {
      "cell_type": "code",
      "metadata": {
        "colab": {
          "base_uri": "https://localhost:8080/"
        },
        "id": "4XQQ7cKV06e0",
        "outputId": "b76841b4-c3d8-408b-ba16-106cae610c2f"
      },
      "source": [
        "train_x, train_y, val_x, val_y = train_datast(energy, dangjin_interpolated, target='dangjin_floating')\n",
        "cat1 = CatBoostRegressor(n_estimators=1000 ,random_seed=42, learning_rate=0.01,depth = 8,loss_function='MAE')\n",
        "cat1.fit(train_x, train_y,\n",
        "                  eval_set=[(train_x, train_y), (val_x, val_y)],\n",
        "                  early_stopping_rounds=100,verbose=100)"
      ],
      "execution_count": null,
      "outputs": [
        {
          "output_type": "stream",
          "text": [
            "0:\tlearn: 180.3717510\ttest: 180.3717510\ttest1: 179.9809342\tbest: 179.9809342 (0)\ttotal: 8.65ms\tremaining: 8.64s\n",
            "100:\tlearn: 99.5039321\ttest: 99.5039321\ttest1: 92.7875499\tbest: 92.7875499 (100)\ttotal: 626ms\tremaining: 5.57s\n",
            "200:\tlearn: 73.8731052\ttest: 73.8731052\ttest1: 59.7555522\tbest: 59.7555522 (200)\ttotal: 1.25s\tremaining: 4.96s\n",
            "300:\tlearn: 65.0406606\ttest: 65.0406606\ttest1: 47.9316701\tbest: 47.9316701 (300)\ttotal: 1.87s\tremaining: 4.34s\n",
            "400:\tlearn: 61.1877190\ttest: 61.1877190\ttest1: 42.5629420\tbest: 42.5629420 (400)\ttotal: 2.5s\tremaining: 3.73s\n",
            "500:\tlearn: 59.1371470\ttest: 59.1371470\ttest1: 39.6285493\tbest: 39.6285493 (500)\ttotal: 3.11s\tremaining: 3.1s\n",
            "600:\tlearn: 57.6932083\ttest: 57.6932083\ttest1: 38.2666912\tbest: 38.2666912 (600)\ttotal: 3.73s\tremaining: 2.48s\n",
            "700:\tlearn: 56.4567618\ttest: 56.4567618\ttest1: 37.9087896\tbest: 37.8965339 (688)\ttotal: 4.36s\tremaining: 1.86s\n",
            "800:\tlearn: 55.4153466\ttest: 55.4153466\ttest1: 37.7529070\tbest: 37.7036075 (782)\ttotal: 4.97s\tremaining: 1.23s\n",
            "900:\tlearn: 54.4919449\ttest: 54.4919449\ttest1: 37.7408276\tbest: 37.6836613 (836)\ttotal: 5.59s\tremaining: 614ms\n",
            "Stopped by overfitting detector  (100 iterations wait)\n",
            "\n",
            "bestTest = 37.68366127\n",
            "bestIteration = 836\n",
            "\n",
            "Shrink model to first 837 iterations.\n"
          ],
          "name": "stdout"
        },
        {
          "output_type": "execute_result",
          "data": {
            "text/plain": [
              "<catboost.core.CatBoostRegressor at 0x7effdce51a10>"
            ]
          },
          "metadata": {
            "tags": []
          },
          "execution_count": 33
        }
      ]
    },
    {
      "cell_type": "code",
      "metadata": {
        "colab": {
          "base_uri": "https://localhost:8080/"
        },
        "id": "A6vJn6uWxEty",
        "outputId": "5ae8ed74-c040-42c1-f35e-86eb493bc6ae"
      },
      "source": [
        "train_x, train_y, val_x, val_y = train_datast(energy, dangjin_interpolated, target='dangjin_floating')\n",
        "train_dataset = lgb.Dataset(train_x, train_y)\n",
        "val_dataset = lgb.Dataset(val_x, val_y)\n",
        "capacity = 1000\n",
        "dangjin_floating_model = lgb.train(params, train_dataset, 10000, val_dataset, feval=nmae_10, verbose_eval=100, early_stopping_rounds=100)"
      ],
      "execution_count": null,
      "outputs": [
        {
          "output_type": "stream",
          "text": [
            "Training until validation scores don't improve for 100 rounds.\n",
            "[100]\tvalid_0's l1: 120.259\tvalid_0's score: 10.0947\n",
            "[200]\tvalid_0's l1: 81.1708\tvalid_0's score: 8.79849\n",
            "[300]\tvalid_0's l1: 61.692\tvalid_0's score: 8.58836\n",
            "Early stopping, best iteration is:\n",
            "[280]\tvalid_0's l1: 64.8397\tvalid_0's score: 8.55231\n"
          ],
          "name": "stdout"
        }
      ]
    },
    {
      "cell_type": "code",
      "metadata": {
        "id": "CY6_o4X9xEty",
        "outputId": "b27551c0-d900-49b8-e193-53dc13bda74b"
      },
      "source": [
        "pred = dangjin_floating_model.predict(val_x)\n",
        "\n",
        "plt.figure(figsize=(20,5))\n",
        "plt.plot(val_y, label='true')\n",
        "plt.plot(pred, label='pred')\n",
        "plt.legend()\n",
        "plt.show()\n",
        "print('CV Score : ', sola_nmae(val_y, pred))"
      ],
      "execution_count": null,
      "outputs": [
        {
          "output_type": "display_data",
          "data": {
            "image/png": "[encoded data removed]",
            "text/plain": [
              "<Figure size 1440x360 with 1 Axes>"
            ]
          },
          "metadata": {
            "tags": [],
            "needs_background": "light"
          }
        },
        {
          "output_type": "stream",
          "text": [
            "CV Score :  8.523591303464043\n"
          ],
          "name": "stdout"
        }
      ]
    },
    {
      "cell_type": "markdown",
      "metadata": {
        "id": "wvlPbI_oxEtz"
      },
      "source": [
        "## 당진 자재 창고 태양광 예측 모델 학습"
      ]
    },
    {
      "cell_type": "code",
      "metadata": {
        "colab": {
          "base_uri": "https://localhost:8080/"
        },
        "id": "As6giXXL2NzL",
        "outputId": "e2089573-eb1f-4a68-e8a3-bd506e49b2e9"
      },
      "source": [
        "train_x, train_y, val_x, val_y = train_datast(energy, dangjin_interpolated, target='dangjin_warehouse')\n",
        "cat2 = CatBoostRegressor(n_estimators=1000 ,random_seed=42, learning_rate=0.01,depth = 8,loss_function='MAE')\n",
        "cat2.fit(train_x, train_y,\n",
        "                  eval_set=[(train_x, train_y), (val_x, val_y)],\n",
        "                  early_stopping_rounds=100,verbose=100)"
      ],
      "execution_count": null,
      "outputs": [
        {
          "output_type": "stream",
          "text": [
            "0:\tlearn: 137.2109303\ttest: 137.2109303\ttest1: 145.8724851\tbest: 145.8724851 (0)\ttotal: 6.57ms\tremaining: 6.56s\n",
            "100:\tlearn: 77.1282411\ttest: 77.1282411\ttest1: 77.4142143\tbest: 77.4142143 (100)\ttotal: 639ms\tremaining: 5.69s\n",
            "200:\tlearn: 57.5597617\ttest: 57.5597617\ttest1: 52.1786842\tbest: 52.1786842 (200)\ttotal: 1.26s\tremaining: 5.02s\n",
            "300:\tlearn: 50.9650754\ttest: 50.9650754\ttest1: 42.8710902\tbest: 42.8710902 (300)\ttotal: 1.88s\tremaining: 4.37s\n",
            "400:\tlearn: 48.2516149\ttest: 48.2516149\ttest1: 38.8489845\tbest: 38.8489845 (400)\ttotal: 2.5s\tremaining: 3.73s\n",
            "500:\tlearn: 46.7115275\ttest: 46.7115275\ttest1: 36.4337697\tbest: 36.4337697 (500)\ttotal: 3.12s\tremaining: 3.1s\n",
            "600:\tlearn: 45.5269393\ttest: 45.5269393\ttest1: 35.1580544\tbest: 35.1580544 (600)\ttotal: 3.73s\tremaining: 2.48s\n",
            "700:\tlearn: 44.4936480\ttest: 44.4936480\ttest1: 34.2954770\tbest: 34.2870222 (699)\ttotal: 4.34s\tremaining: 1.85s\n",
            "800:\tlearn: 43.5601875\ttest: 43.5601875\ttest1: 34.0132901\tbest: 34.0132901 (800)\ttotal: 4.95s\tremaining: 1.23s\n",
            "900:\tlearn: 42.7258758\ttest: 42.7258758\ttest1: 33.9008963\tbest: 33.8915202 (897)\ttotal: 5.56s\tremaining: 611ms\n",
            "999:\tlearn: 42.0155863\ttest: 42.0155863\ttest1: 33.8790919\tbest: 33.8666535 (977)\ttotal: 6.18s\tremaining: 0us\n",
            "\n",
            "bestTest = 33.86665351\n",
            "bestIteration = 977\n",
            "\n",
            "Shrink model to first 978 iterations.\n"
          ],
          "name": "stdout"
        },
        {
          "output_type": "execute_result",
          "data": {
            "text/plain": [
              "<catboost.core.CatBoostRegressor at 0x7effde914290>"
            ]
          },
          "metadata": {
            "tags": []
          },
          "execution_count": 36
        }
      ]
    },
    {
      "cell_type": "code",
      "metadata": {
        "colab": {
          "base_uri": "https://localhost:8080/",
          "height": 208
        },
        "id": "ieEVw2lrxEtz",
        "outputId": "63ad1dd8-39c0-417c-c8ad-d5eaad7e9ce2"
      },
      "source": [
        "train_x, train_y, val_x, val_y = train_datast(energy, dangjin_interpolated, target='dangjin_warehouse')\n",
        "train_dataset = lgb.Dataset(train_x, train_y)\n",
        "val_dataset = lgb.Dataset(val_x, val_y)\n",
        "capacity = 700\n",
        "dangjin_warehouse_model = lgb.train(params, train_dataset, 10000, val_dataset, feval=nmae_10, verbose_eval=100, early_stopping_rounds=100)"
      ],
      "execution_count": null,
      "outputs": [
        {
          "output_type": "error",
          "ename": "NameError",
          "evalue": "ignored",
          "traceback": [
            "\u001b[0;31m---------------------------------------------------------------------------\u001b[0m",
            "\u001b[0;31mNameError\u001b[0m                                 Traceback (most recent call last)",
            "\u001b[0;32m<ipython-input-34-1e2d79b33e21>\u001b[0m in \u001b[0;36m<module>\u001b[0;34m()\u001b[0m\n\u001b[1;32m      3\u001b[0m \u001b[0mval_dataset\u001b[0m \u001b[0;34m=\u001b[0m \u001b[0mlgb\u001b[0m\u001b[0;34m.\u001b[0m\u001b[0mDataset\u001b[0m\u001b[0;34m(\u001b[0m\u001b[0mval_x\u001b[0m\u001b[0;34m,\u001b[0m \u001b[0mval_y\u001b[0m\u001b[0;34m)\u001b[0m\u001b[0;34m\u001b[0m\u001b[0;34m\u001b[0m\u001b[0m\n\u001b[1;32m      4\u001b[0m \u001b[0mcapacity\u001b[0m \u001b[0;34m=\u001b[0m \u001b[0;36m700\u001b[0m\u001b[0;34m\u001b[0m\u001b[0;34m\u001b[0m\u001b[0m\n\u001b[0;32m----> 5\u001b[0;31m \u001b[0mdangjin_warehouse_model\u001b[0m \u001b[0;34m=\u001b[0m \u001b[0mlgb\u001b[0m\u001b[0;34m.\u001b[0m\u001b[0mtrain\u001b[0m\u001b[0;34m(\u001b[0m\u001b[0mparams\u001b[0m\u001b[0;34m,\u001b[0m \u001b[0mtrain_dataset\u001b[0m\u001b[0;34m,\u001b[0m \u001b[0;36m10000\u001b[0m\u001b[0;34m,\u001b[0m \u001b[0mval_dataset\u001b[0m\u001b[0;34m,\u001b[0m \u001b[0mfeval\u001b[0m\u001b[0;34m=\u001b[0m\u001b[0mnmae_10\u001b[0m\u001b[0;34m,\u001b[0m \u001b[0mverbose_eval\u001b[0m\u001b[0;34m=\u001b[0m\u001b[0;36m100\u001b[0m\u001b[0;34m,\u001b[0m \u001b[0mearly_stopping_rounds\u001b[0m\u001b[0;34m=\u001b[0m\u001b[0;36m100\u001b[0m\u001b[0;34m)\u001b[0m\u001b[0;34m\u001b[0m\u001b[0;34m\u001b[0m\u001b[0m\n\u001b[0m",
            "\u001b[0;31mNameError\u001b[0m: name 'params' is not defined"
          ]
        }
      ]
    },
    {
      "cell_type": "markdown",
      "metadata": {
        "id": "hbC-9EokxEtz"
      },
      "source": [
        "## 당진 태양광 예측 모델 학습"
      ]
    },
    {
      "cell_type": "code",
      "metadata": {
        "colab": {
          "base_uri": "https://localhost:8080/"
        },
        "id": "TiYN0duz2TLv",
        "outputId": "b9051806-64b4-41a7-c56b-15d2e7bd0d37"
      },
      "source": [
        "train_x, train_y, val_x, val_y = train_datast(energy, dangjin_interpolated, target='dangjin')\n",
        "cat3 = CatBoostRegressor(n_estimators=1000 ,random_seed=42, learning_rate=0.01,depth = 8,loss_function='MAE')\n",
        "cat3.fit(train_x, train_y,\n",
        "                  eval_set=[(train_x, train_y), (val_x, val_y)],\n",
        "                  early_stopping_rounds=100,verbose=100)"
      ],
      "execution_count": null,
      "outputs": [
        {
          "output_type": "stream",
          "text": [
            "0:\tlearn: 204.3475780\ttest: 204.3475780\ttest1: 240.4799851\tbest: 240.4799851 (0)\ttotal: 8.12ms\tremaining: 8.11s\n",
            "100:\tlearn: 118.3785368\ttest: 118.3785368\ttest1: 129.7208028\tbest: 129.7208028 (100)\ttotal: 615ms\tremaining: 5.48s\n",
            "200:\tlearn: 90.6342721\ttest: 90.6342721\ttest1: 87.3536885\tbest: 87.3536885 (200)\ttotal: 1.25s\tremaining: 4.96s\n",
            "300:\tlearn: 80.4348330\ttest: 80.4348330\ttest1: 66.8952317\tbest: 66.8952317 (300)\ttotal: 1.85s\tremaining: 4.31s\n",
            "400:\tlearn: 76.0960948\ttest: 76.0960948\ttest1: 58.1472805\tbest: 58.1472805 (400)\ttotal: 2.46s\tremaining: 3.68s\n",
            "500:\tlearn: 73.4230682\ttest: 73.4230682\ttest1: 53.4314458\tbest: 53.4314458 (500)\ttotal: 3.06s\tremaining: 3.05s\n",
            "600:\tlearn: 71.3715198\ttest: 71.3715198\ttest1: 50.8747965\tbest: 50.8747965 (600)\ttotal: 3.69s\tremaining: 2.45s\n",
            "700:\tlearn: 69.5185095\ttest: 69.5185095\ttest1: 49.8571925\tbest: 49.8281842 (689)\ttotal: 4.31s\tremaining: 1.84s\n",
            "800:\tlearn: 67.9245237\ttest: 67.9245237\ttest1: 50.0085920\tbest: 49.7089523 (725)\ttotal: 4.95s\tremaining: 1.23s\n",
            "Stopped by overfitting detector  (100 iterations wait)\n",
            "\n",
            "bestTest = 49.70895232\n",
            "bestIteration = 725\n",
            "\n",
            "Shrink model to first 726 iterations.\n"
          ],
          "name": "stdout"
        },
        {
          "output_type": "execute_result",
          "data": {
            "text/plain": [
              "<catboost.core.CatBoostRegressor at 0x7effde699690>"
            ]
          },
          "metadata": {
            "tags": []
          },
          "execution_count": 35
        }
      ]
    },
    {
      "cell_type": "code",
      "metadata": {
        "colab": {
          "base_uri": "https://localhost:8080/"
        },
        "id": "VLGWnDezxEtz",
        "outputId": "23ef1b1a-38c6-445e-885e-465d836b7f3f"
      },
      "source": [
        "train_x, train_y, val_x, val_y = train_datast(energy, dangjin_interpolated, target='dangjin')\n",
        "train_dataset = lgb.Dataset(train_x, train_y)\n",
        "val_dataset = lgb.Dataset(val_x, val_y)\n",
        "capacity = 1000\n",
        "dangjin_model = lgb.train(params, train_dataset, 10000, val_dataset, feval=nmae_10, verbose_eval=100, early_stopping_rounds=100)"
      ],
      "execution_count": null,
      "outputs": [
        {
          "output_type": "stream",
          "text": [
            "Training until validation scores don't improve for 100 rounds.\n",
            "[100]\tvalid_0's l1: 147.579\tvalid_0's score: 11.8649\n",
            "[200]\tvalid_0's l1: 102.086\tvalid_0's score: 10.6793\n",
            "[300]\tvalid_0's l1: 79.7547\tvalid_0's score: 10.6862\n",
            "Early stopping, best iteration is:\n",
            "[262]\tvalid_0's l1: 87.2042\tvalid_0's score: 10.6087\n"
          ],
          "name": "stdout"
        }
      ]
    },
    {
      "cell_type": "markdown",
      "metadata": {
        "id": "tnYH_ovOxEt0"
      },
      "source": [
        "## 울산 태양광 예측 모델 학습"
      ]
    },
    {
      "cell_type": "code",
      "metadata": {
        "colab": {
          "base_uri": "https://localhost:8080/"
        },
        "id": "wxF51gPG2XRo",
        "outputId": "e00db2c6-019b-43ef-f5f5-235a710747bf"
      },
      "source": [
        "train_x, train_y, val_x, val_y = train_datast(energy, ulsan_interpolated, target='ulsan')\n",
        "cat4 = CatBoostRegressor(n_estimators=1000 ,random_seed=42, learning_rate=0.01,depth = 8,loss_function='MAE')\n",
        "cat4.fit(train_x, train_y,\n",
        "                  eval_set=[(train_x, train_y), (val_x, val_y)],\n",
        "                  early_stopping_rounds=100,verbose=100)"
      ],
      "execution_count": null,
      "outputs": [
        {
          "output_type": "stream",
          "text": [
            "0:\tlearn: 94.3367761\ttest: 94.3367761\ttest1: 103.5477629\tbest: 103.5477629 (0)\ttotal: 6.58ms\tremaining: 6.58s\n",
            "100:\tlearn: 52.0063749\ttest: 52.0063749\ttest1: 52.5808973\tbest: 52.5808973 (100)\ttotal: 659ms\tremaining: 5.87s\n",
            "200:\tlearn: 38.4944860\ttest: 38.4944860\ttest1: 34.7168757\tbest: 34.7168757 (200)\ttotal: 1.3s\tremaining: 5.16s\n",
            "300:\tlearn: 33.7295921\ttest: 33.7295921\ttest1: 27.0655598\tbest: 27.0655598 (300)\ttotal: 1.95s\tremaining: 4.52s\n",
            "400:\tlearn: 31.7561043\ttest: 31.7561043\ttest1: 23.0841819\tbest: 23.0841819 (400)\ttotal: 2.56s\tremaining: 3.82s\n",
            "500:\tlearn: 30.7783330\ttest: 30.7783330\ttest1: 20.8173041\tbest: 20.8173041 (500)\ttotal: 3.16s\tremaining: 3.15s\n",
            "600:\tlearn: 30.0841496\ttest: 30.0841496\ttest1: 19.6564799\tbest: 19.6564799 (600)\ttotal: 3.78s\tremaining: 2.51s\n",
            "700:\tlearn: 29.3882119\ttest: 29.3882119\ttest1: 18.9971710\tbest: 18.9971710 (700)\ttotal: 4.43s\tremaining: 1.89s\n",
            "800:\tlearn: 28.8160309\ttest: 28.8160309\ttest1: 18.6329313\tbest: 18.6329313 (800)\ttotal: 5.05s\tremaining: 1.25s\n",
            "900:\tlearn: 28.2925337\ttest: 28.2925337\ttest1: 18.3118382\tbest: 18.3113234 (899)\ttotal: 5.67s\tremaining: 623ms\n",
            "999:\tlearn: 27.8250951\ttest: 27.8250951\ttest1: 18.1442193\tbest: 18.1418179 (996)\ttotal: 6.28s\tremaining: 0us\n",
            "\n",
            "bestTest = 18.14181791\n",
            "bestIteration = 996\n",
            "\n",
            "Shrink model to first 997 iterations.\n"
          ],
          "name": "stdout"
        },
        {
          "output_type": "execute_result",
          "data": {
            "text/plain": [
              "<catboost.core.CatBoostRegressor at 0x7effde321f90>"
            ]
          },
          "metadata": {
            "tags": []
          },
          "execution_count": 37
        }
      ]
    },
    {
      "cell_type": "code",
      "metadata": {
        "colab": {
          "base_uri": "https://localhost:8080/"
        },
        "id": "VRxTRUApxEt0",
        "outputId": "fdfa3d65-01ab-40c4-88bb-4ae6f9f21976"
      },
      "source": [
        "train_x, train_y, val_x, val_y = train_datast(energy, ulsan_interpolated, target='ulsan')\n",
        "train_dataset = lgb.Dataset(train_x, train_y)\n",
        "val_dataset = lgb.Dataset(val_x, val_y)\n",
        "capacity = 500\n",
        "ulsan_model = lgb.train(params, train_dataset, 10000, val_dataset, feval=nmae_10, verbose_eval=100, early_stopping_rounds=100)"
      ],
      "execution_count": null,
      "outputs": [
        {
          "output_type": "stream",
          "text": [
            "Training until validation scores don't improve for 100 rounds.\n",
            "[100]\tvalid_0's l1: 59.406\tvalid_0's score: 9.54573\n",
            "[200]\tvalid_0's l1: 35.6721\tvalid_0's score: 7.13568\n",
            "[300]\tvalid_0's l1: 26.1022\tvalid_0's score: 6.41192\n",
            "[400]\tvalid_0's l1: 20.8927\tvalid_0's score: 6.27364\n",
            "[500]\tvalid_0's l1: 17.9528\tvalid_0's score: 6.21949\n",
            "[600]\tvalid_0's l1: 15.0714\tvalid_0's score: 6.20034\n",
            "[700]\tvalid_0's l1: 14.4103\tvalid_0's score: 6.18049\n",
            "Early stopping, best iteration is:\n",
            "[682]\tvalid_0's l1: 14.343\tvalid_0's score: 6.18864\n"
          ],
          "name": "stdout"
        }
      ]
    },
    {
      "cell_type": "markdown",
      "metadata": {
        "id": "BO9Tqf0kxEt0"
      },
      "source": [
        "## 테스트 데이터 전처리"
      ]
    },
    {
      "cell_type": "code",
      "metadata": {
        "id": "joXBFlSYxEt0"
      },
      "source": [
        "def test_datast(fcst_df):\n",
        "    start = '2021-02-01 00:00:00'\n",
        "    end = '2021-02-28 23:00:00'\n",
        "    \n",
        "    start_idx = fcst_df[fcst_df['Forecast_time']==start].index[0]\n",
        "    end_idx = fcst_df[fcst_df['Forecast_time']==end].index[0]\n",
        "    \n",
        "    test_df = fcst_df.loc[start_idx:end_idx, :].copy()\n",
        "    \n",
        "    test_df['date'] = test_df['Forecast_time'].str.split(' ').str[0]\n",
        "    test_df['hour'] = test_df['Forecast_time'].str.split(' ').str[1].str.split(':').str[0].astype(int)\n",
        "    \n",
        "    test_df['year'] = test_df['date'].str.split('-').str[0].astype(int)\n",
        "    test_df['month'] = test_df['date'].str.split('-').str[1].astype(int)\n",
        "    test_df['day'] = test_df['date'].str.split('-').str[2].astype(int)\n",
        "    \n",
        "    test_df = test_df[['year', 'month', 'day', 'hour', 'Temperature', 'Humidity', 'WindSpeed', 'WindDirection', 'Cloud']]\n",
        "    \n",
        "    test_x = test_df.to_numpy()\n",
        "    \n",
        "    return test_x"
      ],
      "execution_count": null,
      "outputs": []
    },
    {
      "cell_type": "code",
      "metadata": {
        "id": "LpkUloADxEt1"
      },
      "source": [
        "dangjin_test = test_datast(dangjin_interpolated)\n",
        "ulsan_test = test_datast(ulsan_interpolated)"
      ],
      "execution_count": null,
      "outputs": []
    },
    {
      "cell_type": "markdown",
      "metadata": {
        "id": "lEoy9yFexEt1"
      },
      "source": [
        "## 각 발전소 발전량 추론"
      ]
    },
    {
      "cell_type": "code",
      "metadata": {
        "id": "nEptfHh9xEt1",
        "colab": {
          "base_uri": "https://localhost:8080/",
          "height": 226
        },
        "outputId": "525ec41a-b5b3-401d-9b52-cd3fdeb32ea3"
      },
      "source": [
        "dangjin_floating_pred = dangjin_floating_model.predict(dangjin_test)\n",
        "dangjin_warehouse_pred = dangjin_warehouse_model.predict(dangjin_test)\n",
        "dangjin_pred = dangjin_model.predict(dangjin_test)\n",
        "ulsan_pred = ulsan_model.predict(ulsan_test)"
      ],
      "execution_count": null,
      "outputs": [
        {
          "output_type": "error",
          "ename": "NameError",
          "evalue": "ignored",
          "traceback": [
            "\u001b[0;31m---------------------------------------------------------------------------\u001b[0m",
            "\u001b[0;31mNameError\u001b[0m                                 Traceback (most recent call last)",
            "\u001b[0;32m<ipython-input-42-98560e4430df>\u001b[0m in \u001b[0;36m<module>\u001b[0;34m()\u001b[0m\n\u001b[0;32m----> 1\u001b[0;31m \u001b[0mdangjin_floating_pred\u001b[0m \u001b[0;34m=\u001b[0m \u001b[0mdangjin_floating_model\u001b[0m\u001b[0;34m.\u001b[0m\u001b[0mpredict\u001b[0m\u001b[0;34m(\u001b[0m\u001b[0mdangjin_test\u001b[0m\u001b[0;34m)\u001b[0m\u001b[0;34m\u001b[0m\u001b[0;34m\u001b[0m\u001b[0m\n\u001b[0m\u001b[1;32m      2\u001b[0m \u001b[0mdangjin_warehouse_pred\u001b[0m \u001b[0;34m=\u001b[0m \u001b[0mdangjin_warehouse_model\u001b[0m\u001b[0;34m.\u001b[0m\u001b[0mpredict\u001b[0m\u001b[0;34m(\u001b[0m\u001b[0mdangjin_test\u001b[0m\u001b[0;34m)\u001b[0m\u001b[0;34m\u001b[0m\u001b[0;34m\u001b[0m\u001b[0m\n\u001b[1;32m      3\u001b[0m \u001b[0mdangjin_pred\u001b[0m \u001b[0;34m=\u001b[0m \u001b[0mdangjin_model\u001b[0m\u001b[0;34m.\u001b[0m\u001b[0mpredict\u001b[0m\u001b[0;34m(\u001b[0m\u001b[0mdangjin_test\u001b[0m\u001b[0;34m)\u001b[0m\u001b[0;34m\u001b[0m\u001b[0;34m\u001b[0m\u001b[0m\n\u001b[1;32m      4\u001b[0m \u001b[0mulsan_pred\u001b[0m \u001b[0;34m=\u001b[0m \u001b[0mulsan_model\u001b[0m\u001b[0;34m.\u001b[0m\u001b[0mpredict\u001b[0m\u001b[0;34m(\u001b[0m\u001b[0mulsan_test\u001b[0m\u001b[0;34m)\u001b[0m\u001b[0;34m\u001b[0m\u001b[0;34m\u001b[0m\u001b[0m\n",
            "\u001b[0;31mNameError\u001b[0m: name 'dangjin_floating_model' is not defined"
          ]
        }
      ]
    },
    {
      "cell_type": "code",
      "metadata": {
        "id": "aI6-C8m-33Zx"
      },
      "source": [
        "dangjin_floating_pred = cat1.predict(dangjin_test)\n",
        "dangjin_warehouse_pred = cat2.predict(dangjin_test)\n",
        "dangjin_pred = cat3.predict(dangjin_test)\n",
        "ulsan_pred = cat4.predict(ulsan_test)"
      ],
      "execution_count": null,
      "outputs": []
    },
    {
      "cell_type": "markdown",
      "metadata": {
        "id": "hSCZsBMMxEt1"
      },
      "source": [
        "## 제출"
      ]
    },
    {
      "cell_type": "code",
      "metadata": {
        "id": "HgA1xvQ2xEt1"
      },
      "source": [
        "submission = pd.read_csv('./data/sample_submission.csv')"
      ],
      "execution_count": null,
      "outputs": []
    },
    {
      "cell_type": "code",
      "metadata": {
        "id": "wy6wYaulxEt1"
      },
      "source": [
        "submission.iloc[:24*28, 1] = dangjin_floating_pred\n",
        "submission.iloc[:24*28, 2] = dangjin_warehouse_pred\n",
        "submission.iloc[:24*28, 3] = dangjin_pred\n",
        "submission.iloc[:24*28, 4] = ulsan_pred"
      ],
      "execution_count": null,
      "outputs": []
    },
    {
      "cell_type": "code",
      "metadata": {
        "id": "YgD6QmdMxEt2"
      },
      "source": [
        "submission['dangjin_floating'] = submission['dangjin_floating'].apply(lambda x : 0 if x < 0 else x)\n",
        "submission['dangjin_warehouse'] = submission['dangjin_warehouse'].apply(lambda x : 0 if x < 0 else x)\n",
        "submission['dangjin'] = submission['dangjin'].apply(lambda x : 0 if x < 0 else x)\n",
        "submission['ulsan'] = submission['ulsan'].apply(lambda x : 0 if x < 0 else x)"
      ],
      "execution_count": null,
      "outputs": []
    },
    {
      "cell_type": "code",
      "metadata": {
        "colab": {
          "base_uri": "https://localhost:8080/",
          "height": 419
        },
        "id": "287-uObdIbrF",
        "outputId": "1f5ed4a3-4073-48a3-c524-0b1a0c189875"
      },
      "source": [
        "submission"
      ],
      "execution_count": null,
      "outputs": [
        {
          "output_type": "execute_result",
          "data": {
            "text/html": [
              "<div>\n",
              "<style scoped>\n",
              "    .dataframe tbody tr th:only-of-type {\n",
              "        vertical-align: middle;\n",
              "    }\n",
              "\n",
              "    .dataframe tbody tr th {\n",
              "        vertical-align: top;\n",
              "    }\n",
              "\n",
              "    .dataframe thead th {\n",
              "        text-align: right;\n",
              "    }\n",
              "</style>\n",
              "<table border=\"1\" class=\"dataframe\">\n",
              "  <thead>\n",
              "    <tr style=\"text-align: right;\">\n",
              "      <th></th>\n",
              "      <th>time</th>\n",
              "      <th>dangjin_floating</th>\n",
              "      <th>dangjin_warehouse</th>\n",
              "      <th>dangjin</th>\n",
              "      <th>ulsan</th>\n",
              "    </tr>\n",
              "  </thead>\n",
              "  <tbody>\n",
              "    <tr>\n",
              "      <th>0</th>\n",
              "      <td>2021-02-01 01:00:00</td>\n",
              "      <td>0.0</td>\n",
              "      <td>4.600467</td>\n",
              "      <td>0.000000</td>\n",
              "      <td>0.00000</td>\n",
              "    </tr>\n",
              "    <tr>\n",
              "      <th>1</th>\n",
              "      <td>2021-02-01 02:00:00</td>\n",
              "      <td>0.0</td>\n",
              "      <td>3.415664</td>\n",
              "      <td>0.000000</td>\n",
              "      <td>0.00000</td>\n",
              "    </tr>\n",
              "    <tr>\n",
              "      <th>2</th>\n",
              "      <td>2021-02-01 03:00:00</td>\n",
              "      <td>0.0</td>\n",
              "      <td>2.449471</td>\n",
              "      <td>0.000000</td>\n",
              "      <td>0.00000</td>\n",
              "    </tr>\n",
              "    <tr>\n",
              "      <th>3</th>\n",
              "      <td>2021-02-01 04:00:00</td>\n",
              "      <td>0.0</td>\n",
              "      <td>4.896420</td>\n",
              "      <td>4.727909</td>\n",
              "      <td>0.00000</td>\n",
              "    </tr>\n",
              "    <tr>\n",
              "      <th>4</th>\n",
              "      <td>2021-02-01 05:00:00</td>\n",
              "      <td>0.0</td>\n",
              "      <td>4.457381</td>\n",
              "      <td>3.023084</td>\n",
              "      <td>2.13324</td>\n",
              "    </tr>\n",
              "    <tr>\n",
              "      <th>...</th>\n",
              "      <td>...</td>\n",
              "      <td>...</td>\n",
              "      <td>...</td>\n",
              "      <td>...</td>\n",
              "      <td>...</td>\n",
              "    </tr>\n",
              "    <tr>\n",
              "      <th>1387</th>\n",
              "      <td>2021-07-08 20:00:00</td>\n",
              "      <td>0.0</td>\n",
              "      <td>0.000000</td>\n",
              "      <td>0.000000</td>\n",
              "      <td>0.00000</td>\n",
              "    </tr>\n",
              "    <tr>\n",
              "      <th>1388</th>\n",
              "      <td>2021-07-08 21:00:00</td>\n",
              "      <td>0.0</td>\n",
              "      <td>0.000000</td>\n",
              "      <td>0.000000</td>\n",
              "      <td>0.00000</td>\n",
              "    </tr>\n",
              "    <tr>\n",
              "      <th>1389</th>\n",
              "      <td>2021-07-08 22:00:00</td>\n",
              "      <td>0.0</td>\n",
              "      <td>0.000000</td>\n",
              "      <td>0.000000</td>\n",
              "      <td>0.00000</td>\n",
              "    </tr>\n",
              "    <tr>\n",
              "      <th>1390</th>\n",
              "      <td>2021-07-08 23:00:00</td>\n",
              "      <td>0.0</td>\n",
              "      <td>0.000000</td>\n",
              "      <td>0.000000</td>\n",
              "      <td>0.00000</td>\n",
              "    </tr>\n",
              "    <tr>\n",
              "      <th>1391</th>\n",
              "      <td>2021-07-08 24:00:00</td>\n",
              "      <td>0.0</td>\n",
              "      <td>0.000000</td>\n",
              "      <td>0.000000</td>\n",
              "      <td>0.00000</td>\n",
              "    </tr>\n",
              "  </tbody>\n",
              "</table>\n",
              "<p>1392 rows × 5 columns</p>\n",
              "</div>"
            ],
            "text/plain": [
              "                     time  dangjin_floating  ...   dangjin    ulsan\n",
              "0     2021-02-01 01:00:00               0.0  ...  0.000000  0.00000\n",
              "1     2021-02-01 02:00:00               0.0  ...  0.000000  0.00000\n",
              "2     2021-02-01 03:00:00               0.0  ...  0.000000  0.00000\n",
              "3     2021-02-01 04:00:00               0.0  ...  4.727909  0.00000\n",
              "4     2021-02-01 05:00:00               0.0  ...  3.023084  2.13324\n",
              "...                   ...               ...  ...       ...      ...\n",
              "1387  2021-07-08 20:00:00               0.0  ...  0.000000  0.00000\n",
              "1388  2021-07-08 21:00:00               0.0  ...  0.000000  0.00000\n",
              "1389  2021-07-08 22:00:00               0.0  ...  0.000000  0.00000\n",
              "1390  2021-07-08 23:00:00               0.0  ...  0.000000  0.00000\n",
              "1391  2021-07-08 24:00:00               0.0  ...  0.000000  0.00000\n",
              "\n",
              "[1392 rows x 5 columns]"
            ]
          },
          "metadata": {
            "tags": []
          },
          "execution_count": 61
        }
      ]
    },
    {
      "cell_type": "code",
      "metadata": {
        "id": "5viEgX_Y399H"
      },
      "source": [
        "cat_submission = pd.read_csv('cat_baseline.csv')"
      ],
      "execution_count": null,
      "outputs": []
    },
    {
      "cell_type": "code",
      "metadata": {
        "id": "Midj_flsxEt2"
      },
      "source": [
        "submission.to_csv('cat_zero.csv', index=False)"
      ],
      "execution_count": null,
      "outputs": []
    },
    {
      "cell_type": "code",
      "metadata": {
        "id": "LrvlJdbKxEt2"
      },
      "source": [
        "df1 = (cat_submission + submission)"
      ],
      "execution_count": null,
      "outputs": []
    },
    {
      "cell_type": "code",
      "metadata": {
        "id": "YLbIRnZ34E4N"
      },
      "source": [
        "cat_submission[['dangjin_floating'\t,'dangjin_warehouse'\t,'dangjin'\t,'ulsan']] = df1[['dangjin_floating'\t,'dangjin_warehouse'\t,'dangjin'\t,'ulsan']]  / 2"
      ],
      "execution_count": null,
      "outputs": []
    },
    {
      "cell_type": "code",
      "metadata": {
        "colab": {
          "base_uri": "https://localhost:8080/",
          "height": 419
        },
        "id": "TUfCpQoc4Yfh",
        "outputId": "ce26ca4c-f589-40ac-a7bb-892b9751c41a"
      },
      "source": [
        "cat_submission['time'] = submission['time']\n",
        "cat_submission"
      ],
      "execution_count": null,
      "outputs": [
        {
          "output_type": "execute_result",
          "data": {
            "text/html": [
              "<div>\n",
              "<style scoped>\n",
              "    .dataframe tbody tr th:only-of-type {\n",
              "        vertical-align: middle;\n",
              "    }\n",
              "\n",
              "    .dataframe tbody tr th {\n",
              "        vertical-align: top;\n",
              "    }\n",
              "\n",
              "    .dataframe thead th {\n",
              "        text-align: right;\n",
              "    }\n",
              "</style>\n",
              "<table border=\"1\" class=\"dataframe\">\n",
              "  <thead>\n",
              "    <tr style=\"text-align: right;\">\n",
              "      <th></th>\n",
              "      <th>time</th>\n",
              "      <th>dangjin_floating</th>\n",
              "      <th>dangjin_warehouse</th>\n",
              "      <th>dangjin</th>\n",
              "      <th>ulsan</th>\n",
              "    </tr>\n",
              "  </thead>\n",
              "  <tbody>\n",
              "    <tr>\n",
              "      <th>0</th>\n",
              "      <td>2021-02-01 01:00:00</td>\n",
              "      <td>17.508576</td>\n",
              "      <td>21.154163</td>\n",
              "      <td>25.814101</td>\n",
              "      <td>0.292359</td>\n",
              "    </tr>\n",
              "    <tr>\n",
              "      <th>1</th>\n",
              "      <td>2021-02-01 02:00:00</td>\n",
              "      <td>12.393992</td>\n",
              "      <td>16.128685</td>\n",
              "      <td>22.799175</td>\n",
              "      <td>-1.878065</td>\n",
              "    </tr>\n",
              "    <tr>\n",
              "      <th>2</th>\n",
              "      <td>2021-02-01 03:00:00</td>\n",
              "      <td>13.030554</td>\n",
              "      <td>16.066100</td>\n",
              "      <td>24.364777</td>\n",
              "      <td>-1.271093</td>\n",
              "    </tr>\n",
              "    <tr>\n",
              "      <th>3</th>\n",
              "      <td>2021-02-01 04:00:00</td>\n",
              "      <td>13.413287</td>\n",
              "      <td>18.860513</td>\n",
              "      <td>25.650251</td>\n",
              "      <td>-3.078692</td>\n",
              "    </tr>\n",
              "    <tr>\n",
              "      <th>4</th>\n",
              "      <td>2021-02-01 05:00:00</td>\n",
              "      <td>13.586831</td>\n",
              "      <td>18.454538</td>\n",
              "      <td>26.517019</td>\n",
              "      <td>-2.456435</td>\n",
              "    </tr>\n",
              "    <tr>\n",
              "      <th>...</th>\n",
              "      <td>...</td>\n",
              "      <td>...</td>\n",
              "      <td>...</td>\n",
              "      <td>...</td>\n",
              "      <td>...</td>\n",
              "    </tr>\n",
              "    <tr>\n",
              "      <th>1387</th>\n",
              "      <td>2021-07-08 20:00:00</td>\n",
              "      <td>0.000000</td>\n",
              "      <td>0.000000</td>\n",
              "      <td>0.000000</td>\n",
              "      <td>0.000000</td>\n",
              "    </tr>\n",
              "    <tr>\n",
              "      <th>1388</th>\n",
              "      <td>2021-07-08 21:00:00</td>\n",
              "      <td>0.000000</td>\n",
              "      <td>0.000000</td>\n",
              "      <td>0.000000</td>\n",
              "      <td>0.000000</td>\n",
              "    </tr>\n",
              "    <tr>\n",
              "      <th>1389</th>\n",
              "      <td>2021-07-08 22:00:00</td>\n",
              "      <td>0.000000</td>\n",
              "      <td>0.000000</td>\n",
              "      <td>0.000000</td>\n",
              "      <td>0.000000</td>\n",
              "    </tr>\n",
              "    <tr>\n",
              "      <th>1390</th>\n",
              "      <td>2021-07-08 23:00:00</td>\n",
              "      <td>0.000000</td>\n",
              "      <td>0.000000</td>\n",
              "      <td>0.000000</td>\n",
              "      <td>0.000000</td>\n",
              "    </tr>\n",
              "    <tr>\n",
              "      <th>1391</th>\n",
              "      <td>2021-07-08 24:00:00</td>\n",
              "      <td>0.000000</td>\n",
              "      <td>0.000000</td>\n",
              "      <td>0.000000</td>\n",
              "      <td>0.000000</td>\n",
              "    </tr>\n",
              "  </tbody>\n",
              "</table>\n",
              "<p>1392 rows × 5 columns</p>\n",
              "</div>"
            ],
            "text/plain": [
              "                     time  dangjin_floating  ...    dangjin     ulsan\n",
              "0     2021-02-01 01:00:00         17.508576  ...  25.814101  0.292359\n",
              "1     2021-02-01 02:00:00         12.393992  ...  22.799175 -1.878065\n",
              "2     2021-02-01 03:00:00         13.030554  ...  24.364777 -1.271093\n",
              "3     2021-02-01 04:00:00         13.413287  ...  25.650251 -3.078692\n",
              "4     2021-02-01 05:00:00         13.586831  ...  26.517019 -2.456435\n",
              "...                   ...               ...  ...        ...       ...\n",
              "1387  2021-07-08 20:00:00          0.000000  ...   0.000000  0.000000\n",
              "1388  2021-07-08 21:00:00          0.000000  ...   0.000000  0.000000\n",
              "1389  2021-07-08 22:00:00          0.000000  ...   0.000000  0.000000\n",
              "1390  2021-07-08 23:00:00          0.000000  ...   0.000000  0.000000\n",
              "1391  2021-07-08 24:00:00          0.000000  ...   0.000000  0.000000\n",
              "\n",
              "[1392 rows x 5 columns]"
            ]
          },
          "metadata": {
            "tags": []
          },
          "execution_count": 76
        }
      ]
    },
    {
      "cell_type": "code",
      "metadata": {
        "id": "s9CJIC8z4ZIi"
      },
      "source": [
        "cat_submission.to_csv('cat_lgb_baseline.csv', index=False)"
      ],
      "execution_count": null,
      "outputs": []
    },
    {
      "cell_type": "code",
      "metadata": {
        "id": "0wVRHA8K43Nn"
      },
      "source": [
        ""
      ],
      "execution_count": null,
      "outputs": []
    }
  ]
}