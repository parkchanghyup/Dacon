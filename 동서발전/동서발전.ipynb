{
 "cells": [
  {
   "cell_type": "markdown",
   "metadata": {},
   "source": [
    "## 모듈 임포트"
   ]
  },
  {
   "cell_type": "code",
   "execution_count": 1,
   "metadata": {},
   "outputs": [],
   "source": [
    "import pandas as pd\n",
    "from datetime import datetime, timedelta"
   ]
  },
  {
   "cell_type": "markdown",
   "metadata": {},
   "source": [
    "## 데이터 로드"
   ]
  },
  {
   "cell_type": "code",
   "execution_count": 27,
   "metadata": {},
   "outputs": [],
   "source": [
    "energy = pd.read_csv('data/energy.csv')\n",
    "dangjin_fcst = pd.read_csv('./data/dangjin_fcst_data.csv')\n",
    "ulsan_fcst = pd.read_csv('./data/ulsan_fcst_data.csv')"
   ]
  },
  {
   "cell_type": "markdown",
   "metadata": {},
   "source": [
    "## 데이터 병합 \n",
    "- 가장 나중의 예측 데이터가 가장 좋다고 가정."
   ]
  },
  {
   "cell_type": "code",
   "execution_count": 28,
   "metadata": {},
   "outputs": [],
   "source": [
    "def to_date(x):\n",
    "    return timedelta(hours=x)"
   ]
  },
  {
   "cell_type": "code",
   "execution_count": 29,
   "metadata": {},
   "outputs": [],
   "source": [
    "def generate_df(df_):\n",
    "    df = df_.copy()\n",
    "\n",
    "    df['Forecast_time'] = pd.to_datetime(df['Forecast time'])\n",
    "\n",
    "    # 20 시\n",
    "    a = df[df[\"forecast\"] == 4.0]\n",
    "    a = a[a[\"Forecast time\"].apply(lambda x: \"20:00:00\" in x)]\n",
    "    a.loc[:, 'Forecast_time'] = a.loc[:, 'Forecast_time'] + a.loc[:, 'forecast'].map(to_date)\n",
    "\n",
    "    # 23 시\n",
    "    b = df[df[\"forecast\"] <= 22]\n",
    "    b = b[b[\"Forecast time\"].apply(lambda x: \"23:00:00\" in x)]\n",
    "    b.loc[:, 'Forecast_time'] = b.loc[:, 'Forecast_time'] + b.loc[:, 'forecast'].map(to_date)\n",
    "\n",
    "    # 병합\n",
    "    c = pd.concat([a, b])\n",
    "    print(f\"20시 사용 데이터 길이 : {len(a)}\")\n",
    "    print(f\"23시 사용 데이터 길이 : {len(b)}\")\n",
    "    print(f\"합친 데이터 길이 : {len(c)}\")\n",
    "    print()\n",
    "\n",
    "    # 정렬\n",
    "    c.sort_values(by=['Forecast_time'], inplace=True)\n",
    "    c = c[['Forecast_time', 'Temperature', 'Humidity', 'WindSpeed', 'WindDirection', 'Cloud']]\n",
    "\n",
    "    return c"
   ]
  },
  {
   "cell_type": "code",
   "execution_count": 30,
   "metadata": {},
   "outputs": [
    {
     "name": "stdout",
     "output_type": "stream",
     "text": [
      "20시 사용 데이터 길이 : 1096\n",
      "23시 사용 데이터 길이 : 7672\n",
      "합친 데이터 길이 : 8768\n",
      "\n",
      "20시 사용 데이터 길이 : 1096\n",
      "23시 사용 데이터 길이 : 7672\n",
      "합친 데이터 길이 : 8768\n",
      "\n"
     ]
    }
   ],
   "source": [
    "dangjin_filled = generate_df(dangjin_fcst)\n",
    "ulsan_filled = generate_df(ulsan_fcst)"
   ]
  },
  {
   "cell_type": "markdown",
   "metadata": {},
   "source": [
    "## 보간"
   ]
  },
  {
   "cell_type": "code",
   "execution_count": 31,
   "metadata": {},
   "outputs": [],
   "source": [
    "def interpolate_df(df, method='linear'):\n",
    "    new_df = pd.DataFrame()\n",
    "    new_df['Forecast_time'] = pd.date_range(start=df['Forecast_time'].iloc[0], end=df['Forecast_time'].iloc[-1], freq='H')\n",
    "    new_df = pd.merge(new_df, df, on='Forecast_time', how='outer')\n",
    "    return new_df.interpolate(method=method)"
   ]
  },
  {
   "cell_type": "code",
   "execution_count": 32,
   "metadata": {},
   "outputs": [],
   "source": [
    "dangjin_interpolated = interpolate_df(dangjin_filled, method='linear')\n",
    "ulsan_interpolated = interpolate_df(ulsan_filled, method='linear')"
   ]
  },
  {
   "cell_type": "code",
   "execution_count": 33,
   "metadata": {},
   "outputs": [],
   "source": [
    "import pandas as pd\n",
    "import numpy as np\n",
    "import matplotlib.pyplot as plt\n",
    "import lightgbm as lgb"
   ]
  },
  {
   "cell_type": "code",
   "execution_count": null,
   "metadata": {},
   "outputs": [],
   "source": []
  },
  {
   "cell_type": "markdown",
   "metadata": {},
   "source": [
    "## 학습 데이터 전처리"
   ]
  },
  {
   "cell_type": "code",
   "execution_count": 34,
   "metadata": {},
   "outputs": [],
   "source": [
    "def train_datast(energy_df, fcst_df, target):\n",
    "    # 일기 예보 있는 날짜만 선택\n",
    "    energy = energy_df.loc[24:]\n",
    "    energy.index = range(energy.shape[0])\n",
    "    \n",
    "    # 발전량 데이터가 있는 날짜만 선택\n",
    "    fcst = fcst_df.loc[:25608-1]\n",
    "    fcst.index = range(fcst.shape[0])\n",
    "    \n",
    "    # 발전량과 일기예보 연결\n",
    "    concat_df = pd.concat([energy, fcst], axis=1)\n",
    "    \n",
    "    # 예보 시간 및 날짜 정보 feature로 추가\n",
    "    concat_df['date'] = concat_df['Forecast_time'].str.split(' ').str[0]\n",
    "    concat_df['hour'] = concat_df['Forecast_time'].str.split(' ').str[1].str.split(':').str[0].astype(int)\n",
    "    \n",
    "    concat_df['year'] = concat_df['date'].str.split('-').str[0].astype(int)\n",
    "    concat_df['month'] = concat_df['date'].str.split('-').str[1].astype(int)\n",
    "    concat_df['day'] = concat_df['date'].str.split('-').str[2].astype(int)\n",
    "    \n",
    "    # 예보 시간, 날짜, 기상 예보 및 발전량 선택\n",
    "    feature_df = concat_df[['year', 'month', 'day', 'hour', 'Temperature', 'Humidity', 'WindSpeed', 'WindDirection', 'Cloud', target]]\n",
    "    \n",
    "    # 마지막 30일을 검증데이터셋으로 나머지를 학습 데이터셋으로 선택\n",
    "    train_df = feature_df.iloc[:-24*30]\n",
    "    val_df = feature_df.iloc[-24*30:]\n",
    "    \n",
    "    # 발전량이 0인 데이터를 제외\n",
    "    train_df = train_df[train_df[target]!=0]\n",
    "    \n",
    "    train_x = train_df.loc[:, 'year':'Cloud'].to_numpy()\n",
    "    train_y = train_df[target].to_numpy()\n",
    "    \n",
    "    val_x = val_df.loc[:, 'year':'Cloud'].to_numpy()\n",
    "    val_y = val_df[target].to_numpy()\n",
    "    \n",
    "    return train_x, train_y, val_x, val_y"
   ]
  },
  {
   "cell_type": "markdown",
   "metadata": {},
   "source": [
    "## LGBM custom metric"
   ]
  },
  {
   "cell_type": "code",
   "execution_count": 35,
   "metadata": {},
   "outputs": [],
   "source": [
    "def nmae_10(y_pred, dataset):\n",
    "    y_true = dataset.get_label()\n",
    "    \n",
    "    absolute_error = abs(y_true - y_pred)\n",
    "    absolute_error /= capacity\n",
    "    \n",
    "    target_idx = np.where(y_true>=capacity*0.1)\n",
    "    \n",
    "    nmae = 100 * absolute_error[target_idx].mean()\n",
    "    \n",
    "    return 'score', nmae, False"
   ]
  },
  {
   "cell_type": "markdown",
   "metadata": {},
   "source": [
    "## Validation Metric"
   ]
  },
  {
   "cell_type": "code",
   "execution_count": 36,
   "metadata": {},
   "outputs": [],
   "source": [
    "def sola_nmae(answer, pred):\n",
    "    absolute_error = np.abs(answer - pred)\n",
    "    \n",
    "    absolute_error /= capacity\n",
    "    \n",
    "    target_idx = np.where(answer>=capacity*0.1)\n",
    "    \n",
    "    nmae = 100 * absolute_error[target_idx].mean()\n",
    "    \n",
    "    return nmae"
   ]
  },
  {
   "cell_type": "markdown",
   "metadata": {},
   "source": [
    "## LightGBM Hyperparameter"
   ]
  },
  {
   "cell_type": "code",
   "execution_count": 64,
   "metadata": {},
   "outputs": [],
   "source": [
    "params = {\n",
    "    'learning_rate': 0.01,\n",
    "    'objective': 'regression',\n",
    "    'metric':'mae',\n",
    "    'seed':42\n",
    "}"
   ]
  },
  {
   "cell_type": "code",
   "execution_count": 65,
   "metadata": {},
   "outputs": [
    {
     "data": {
      "text/html": [
       "<div>\n",
       "<style scoped>\n",
       "    .dataframe tbody tr th:only-of-type {\n",
       "        vertical-align: middle;\n",
       "    }\n",
       "\n",
       "    .dataframe tbody tr th {\n",
       "        vertical-align: top;\n",
       "    }\n",
       "\n",
       "    .dataframe thead th {\n",
       "        text-align: right;\n",
       "    }\n",
       "</style>\n",
       "<table border=\"1\" class=\"dataframe\">\n",
       "  <thead>\n",
       "    <tr style=\"text-align: right;\">\n",
       "      <th></th>\n",
       "      <th>Forecast_time</th>\n",
       "      <th>Temperature</th>\n",
       "      <th>Humidity</th>\n",
       "      <th>WindSpeed</th>\n",
       "      <th>WindDirection</th>\n",
       "      <th>Cloud</th>\n",
       "    </tr>\n",
       "  </thead>\n",
       "  <tbody>\n",
       "    <tr>\n",
       "      <th>0</th>\n",
       "      <td>2018-03-02 00:00:00</td>\n",
       "      <td>-2.000000</td>\n",
       "      <td>50.000000</td>\n",
       "      <td>5.800000</td>\n",
       "      <td>336.000000</td>\n",
       "      <td>1.0</td>\n",
       "    </tr>\n",
       "    <tr>\n",
       "      <th>1</th>\n",
       "      <td>2018-03-02 01:00:00</td>\n",
       "      <td>-2.333333</td>\n",
       "      <td>51.666667</td>\n",
       "      <td>5.533333</td>\n",
       "      <td>337.000000</td>\n",
       "      <td>1.0</td>\n",
       "    </tr>\n",
       "    <tr>\n",
       "      <th>2</th>\n",
       "      <td>2018-03-02 02:00:00</td>\n",
       "      <td>-2.666667</td>\n",
       "      <td>53.333333</td>\n",
       "      <td>5.266667</td>\n",
       "      <td>338.000000</td>\n",
       "      <td>1.0</td>\n",
       "    </tr>\n",
       "    <tr>\n",
       "      <th>3</th>\n",
       "      <td>2018-03-02 03:00:00</td>\n",
       "      <td>-3.000000</td>\n",
       "      <td>55.000000</td>\n",
       "      <td>5.000000</td>\n",
       "      <td>339.000000</td>\n",
       "      <td>1.0</td>\n",
       "    </tr>\n",
       "    <tr>\n",
       "      <th>4</th>\n",
       "      <td>2018-03-02 04:00:00</td>\n",
       "      <td>-3.333333</td>\n",
       "      <td>56.666667</td>\n",
       "      <td>4.700000</td>\n",
       "      <td>343.666667</td>\n",
       "      <td>1.0</td>\n",
       "    </tr>\n",
       "    <tr>\n",
       "      <th>...</th>\n",
       "      <td>...</td>\n",
       "      <td>...</td>\n",
       "      <td>...</td>\n",
       "      <td>...</td>\n",
       "      <td>...</td>\n",
       "      <td>...</td>\n",
       "    </tr>\n",
       "    <tr>\n",
       "      <th>26297</th>\n",
       "      <td>2021-03-01 17:00:00</td>\n",
       "      <td>7.333333</td>\n",
       "      <td>86.666667</td>\n",
       "      <td>5.966667</td>\n",
       "      <td>131.333333</td>\n",
       "      <td>4.0</td>\n",
       "    </tr>\n",
       "    <tr>\n",
       "      <th>26298</th>\n",
       "      <td>2021-03-01 18:00:00</td>\n",
       "      <td>6.000000</td>\n",
       "      <td>85.000000</td>\n",
       "      <td>7.600000</td>\n",
       "      <td>17.000000</td>\n",
       "      <td>4.0</td>\n",
       "    </tr>\n",
       "    <tr>\n",
       "      <th>26299</th>\n",
       "      <td>2021-03-01 19:00:00</td>\n",
       "      <td>5.333333</td>\n",
       "      <td>83.333333</td>\n",
       "      <td>7.466667</td>\n",
       "      <td>20.333333</td>\n",
       "      <td>4.0</td>\n",
       "    </tr>\n",
       "    <tr>\n",
       "      <th>26300</th>\n",
       "      <td>2021-03-01 20:00:00</td>\n",
       "      <td>4.666667</td>\n",
       "      <td>81.666667</td>\n",
       "      <td>7.333333</td>\n",
       "      <td>23.666667</td>\n",
       "      <td>4.0</td>\n",
       "    </tr>\n",
       "    <tr>\n",
       "      <th>26301</th>\n",
       "      <td>2021-03-01 21:00:00</td>\n",
       "      <td>4.000000</td>\n",
       "      <td>80.000000</td>\n",
       "      <td>7.200000</td>\n",
       "      <td>27.000000</td>\n",
       "      <td>4.0</td>\n",
       "    </tr>\n",
       "  </tbody>\n",
       "</table>\n",
       "<p>26302 rows × 6 columns</p>\n",
       "</div>"
      ],
      "text/plain": [
       "             Forecast_time  Temperature   Humidity  WindSpeed  WindDirection  \\\n",
       "0      2018-03-02 00:00:00    -2.000000  50.000000   5.800000     336.000000   \n",
       "1      2018-03-02 01:00:00    -2.333333  51.666667   5.533333     337.000000   \n",
       "2      2018-03-02 02:00:00    -2.666667  53.333333   5.266667     338.000000   \n",
       "3      2018-03-02 03:00:00    -3.000000  55.000000   5.000000     339.000000   \n",
       "4      2018-03-02 04:00:00    -3.333333  56.666667   4.700000     343.666667   \n",
       "...                    ...          ...        ...        ...            ...   \n",
       "26297  2021-03-01 17:00:00     7.333333  86.666667   5.966667     131.333333   \n",
       "26298  2021-03-01 18:00:00     6.000000  85.000000   7.600000      17.000000   \n",
       "26299  2021-03-01 19:00:00     5.333333  83.333333   7.466667      20.333333   \n",
       "26300  2021-03-01 20:00:00     4.666667  81.666667   7.333333      23.666667   \n",
       "26301  2021-03-01 21:00:00     4.000000  80.000000   7.200000      27.000000   \n",
       "\n",
       "       Cloud  \n",
       "0        1.0  \n",
       "1        1.0  \n",
       "2        1.0  \n",
       "3        1.0  \n",
       "4        1.0  \n",
       "...      ...  \n",
       "26297    4.0  \n",
       "26298    4.0  \n",
       "26299    4.0  \n",
       "26300    4.0  \n",
       "26301    4.0  \n",
       "\n",
       "[26302 rows x 6 columns]"
      ]
     },
     "execution_count": 65,
     "metadata": {},
     "output_type": "execute_result"
    }
   ],
   "source": [
    "dangjin_interpolated"
   ]
  },
  {
   "cell_type": "code",
   "execution_count": 66,
   "metadata": {},
   "outputs": [],
   "source": [
    "dangjin_interpolated['Forecast_time'] = dangjin_interpolated['Forecast_time'].astype('str')\n",
    "ulsan_interpolated['Forecast_time'] = ulsan_interpolated['Forecast_time'].astype('str')"
   ]
  },
  {
   "cell_type": "markdown",
   "metadata": {},
   "source": [
    "## 당진 수상태양광 예측 모델 학습"
   ]
  },
  {
   "cell_type": "code",
   "execution_count": 67,
   "metadata": {},
   "outputs": [
    {
     "name": "stdout",
     "output_type": "stream",
     "text": [
      "[LightGBM] [Warning] Auto-choosing col-wise multi-threading, the overhead of testing was 0.038664 seconds.\n",
      "You can set `force_col_wise=true` to remove the overhead.\n",
      "[LightGBM] [Info] Total Bins 753\n",
      "[LightGBM] [Info] Number of data points in the train set: 12378, number of used features: 9\n",
      "[LightGBM] [Info] Start training from score 247.345048\n",
      "Training until validation scores don't improve for 100 rounds\n",
      "Early stopping, best iteration is:\n",
      "[273]\tvalid_0's l1: 65.2939\tvalid_0's score: 8.52359\n"
     ]
    }
   ],
   "source": [
    "train_x, train_y, val_x, val_y = train_datast(energy, dangjin_interpolated, target='dangjin_floating')\n",
    "train_dataset = lgb.Dataset(train_x, train_y)\n",
    "val_dataset = lgb.Dataset(val_x, val_y)\n",
    "capacity = 1000\n",
    "dangjin_floating_model = lgb.train(params, train_dataset, 10000, val_dataset, feval=nmae_10, verbose_eval=500, early_stopping_rounds=100)"
   ]
  },
  {
   "cell_type": "code",
   "execution_count": 68,
   "metadata": {},
   "outputs": [
    {
     "data": {
      "image/png": "[encoded data removed]",
      "text/plain": [
       "<Figure size 1440x360 with 1 Axes>"
      ]
     },
     "metadata": {
      "needs_background": "light"
     },
     "output_type": "display_data"
    },
    {
     "name": "stdout",
     "output_type": "stream",
     "text": [
      "CV Score :  8.523591303464043\n"
     ]
    }
   ],
   "source": [
    "pred = dangjin_floating_model.predict(val_x)\n",
    "\n",
    "plt.figure(figsize=(20,5))\n",
    "plt.plot(val_y, label='true')\n",
    "plt.plot(pred, label='pred')\n",
    "plt.legend()\n",
    "plt.show()\n",
    "print('CV Score : ', sola_nmae(val_y, pred))"
   ]
  },
  {
   "cell_type": "markdown",
   "metadata": {},
   "source": [
    "## 당진 자재 창고 태양광 예측 모델 학습"
   ]
  },
  {
   "cell_type": "code",
   "execution_count": 69,
   "metadata": {},
   "outputs": [
    {
     "name": "stdout",
     "output_type": "stream",
     "text": [
      "[LightGBM] [Warning] Auto-choosing col-wise multi-threading, the overhead of testing was 0.028517 seconds.\n",
      "You can set `force_col_wise=true` to remove the overhead.\n",
      "[LightGBM] [Info] Total Bins 754\n",
      "[LightGBM] [Info] Number of data points in the train set: 11949, number of used features: 9\n",
      "[LightGBM] [Info] Start training from score 193.765671\n",
      "Training until validation scores don't improve for 100 rounds\n",
      "Early stopping, best iteration is:\n",
      "[254]\tvalid_0's l1: 52.4063\tvalid_0's score: 10.0836\n"
     ]
    }
   ],
   "source": [
    "train_x, train_y, val_x, val_y = train_datast(energy, dangjin_interpolated, target='dangjin_warehouse')\n",
    "train_dataset = lgb.Dataset(train_x, train_y)\n",
    "val_dataset = lgb.Dataset(val_x, val_y)\n",
    "capacity = 700\n",
    "dangjin_warehouse_model = lgb.train(params, train_dataset, 10000, val_dataset, feval=nmae_10, verbose_eval=500, early_stopping_rounds=100)"
   ]
  },
  {
   "cell_type": "markdown",
   "metadata": {},
   "source": [
    "## 당진 태양광 예측 모델 학습"
   ]
  },
  {
   "cell_type": "code",
   "execution_count": 70,
   "metadata": {},
   "outputs": [
    {
     "name": "stdout",
     "output_type": "stream",
     "text": [
      "[LightGBM] [Warning] Auto-choosing col-wise multi-threading, the overhead of testing was 0.028199 seconds.\n",
      "You can set `force_col_wise=true` to remove the overhead.\n",
      "[LightGBM] [Info] Total Bins 748\n",
      "[LightGBM] [Info] Number of data points in the train set: 11349, number of used features: 9\n",
      "[LightGBM] [Info] Start training from score 308.414486\n",
      "Training until validation scores don't improve for 100 rounds\n",
      "Early stopping, best iteration is:\n",
      "[262]\tvalid_0's l1: 87.2042\tvalid_0's score: 10.6087\n"
     ]
    }
   ],
   "source": [
    "train_x, train_y, val_x, val_y = train_datast(energy, dangjin_interpolated, target='dangjin')\n",
    "train_dataset = lgb.Dataset(train_x, train_y)\n",
    "val_dataset = lgb.Dataset(val_x, val_y)\n",
    "capacity = 1000\n",
    "dangjin_model = lgb.train(params, train_dataset, 10000, val_dataset, feval=nmae_10, verbose_eval=500, early_stopping_rounds=100)"
   ]
  },
  {
   "cell_type": "markdown",
   "metadata": {},
   "source": [
    "## 울산 태양광 예측 모델 학습"
   ]
  },
  {
   "cell_type": "code",
   "execution_count": 71,
   "metadata": {},
   "outputs": [
    {
     "name": "stdout",
     "output_type": "stream",
     "text": [
      "[LightGBM] [Warning] Auto-choosing col-wise multi-threading, the overhead of testing was 0.000365 seconds.\n",
      "You can set `force_col_wise=true` to remove the overhead.\n",
      "[LightGBM] [Info] Total Bins 749\n",
      "[LightGBM] [Info] Number of data points in the train set: 11811, number of used features: 9\n",
      "[LightGBM] [Info] Start training from score 135.559394\n",
      "Training until validation scores don't improve for 100 rounds\n",
      "[500]\tvalid_0's l1: 17.9528\tvalid_0's score: 6.21949\n",
      "Early stopping, best iteration is:\n",
      "[682]\tvalid_0's l1: 14.343\tvalid_0's score: 6.18864\n"
     ]
    }
   ],
   "source": [
    "train_x, train_y, val_x, val_y = train_datast(energy, ulsan_interpolated, target='ulsan')\n",
    "train_dataset = lgb.Dataset(train_x, train_y)\n",
    "val_dataset = lgb.Dataset(val_x, val_y)\n",
    "capacity = 500\n",
    "ulsan_model = lgb.train(params, train_dataset, 10000, val_dataset, feval=nmae_10, verbose_eval=500, early_stopping_rounds=100)"
   ]
  },
  {
   "cell_type": "markdown",
   "metadata": {},
   "source": [
    "## 테스트 데이터 전처리"
   ]
  },
  {
   "cell_type": "code",
   "execution_count": 72,
   "metadata": {},
   "outputs": [],
   "source": [
    "def test_datast(fcst_df):\n",
    "    start = '2021-02-01 00:00:00'\n",
    "    end = '2021-02-28 23:00:00'\n",
    "    \n",
    "    start_idx = fcst_df[fcst_df['Forecast_time']==start].index[0]\n",
    "    end_idx = fcst_df[fcst_df['Forecast_time']==end].index[0]\n",
    "    \n",
    "    test_df = fcst_df.loc[start_idx:end_idx, :].copy()\n",
    "    \n",
    "    test_df['date'] = test_df['Forecast_time'].str.split(' ').str[0]\n",
    "    test_df['hour'] = test_df['Forecast_time'].str.split(' ').str[1].str.split(':').str[0].astype(int)\n",
    "    \n",
    "    test_df['year'] = test_df['date'].str.split('-').str[0].astype(int)\n",
    "    test_df['month'] = test_df['date'].str.split('-').str[1].astype(int)\n",
    "    test_df['day'] = test_df['date'].str.split('-').str[2].astype(int)\n",
    "    \n",
    "    test_df = test_df[['year', 'month', 'day', 'hour', 'Temperature', 'Humidity', 'WindSpeed', 'WindDirection', 'Cloud']]\n",
    "    \n",
    "    test_x = test_df.to_numpy()\n",
    "    \n",
    "    return test_x"
   ]
  },
  {
   "cell_type": "code",
   "execution_count": 73,
   "metadata": {},
   "outputs": [],
   "source": [
    "dangjin_test = test_datast(dangjin_interpolated)\n",
    "ulsan_test = test_datast(ulsan_interpolated)"
   ]
  },
  {
   "cell_type": "markdown",
   "metadata": {},
   "source": [
    "## 각 발전소 발전량 추론"
   ]
  },
  {
   "cell_type": "code",
   "execution_count": 74,
   "metadata": {},
   "outputs": [],
   "source": [
    "dangjin_floating_pred = dangjin_floating_model.predict(dangjin_test)\n",
    "dangjin_warehouse_pred = dangjin_warehouse_model.predict(dangjin_test)\n",
    "dangjin_pred = dangjin_model.predict(dangjin_test)\n",
    "ulsan_pred = ulsan_model.predict(ulsan_test)"
   ]
  },
  {
   "cell_type": "markdown",
   "metadata": {},
   "source": [
    "## 제출"
   ]
  },
  {
   "cell_type": "code",
   "execution_count": 61,
   "metadata": {},
   "outputs": [],
   "source": [
    "submission = pd.read_csv('./data/sample_submission.csv')"
   ]
  },
  {
   "cell_type": "code",
   "execution_count": 75,
   "metadata": {},
   "outputs": [],
   "source": [
    "submission.iloc[:24*28, 1] = dangjin_floating_pred\n",
    "submission.iloc[:24*28, 2] = dangjin_warehouse_pred\n",
    "submission.iloc[:24*28, 3] = dangjin_pred\n",
    "submission.iloc[:24*28, 4] = ulsan_pred"
   ]
  },
  {
   "cell_type": "code",
   "execution_count": 76,
   "metadata": {},
   "outputs": [
    {
     "data": {
      "text/html": [
       "<div>\n",
       "<style scoped>\n",
       "    .dataframe tbody tr th:only-of-type {\n",
       "        vertical-align: middle;\n",
       "    }\n",
       "\n",
       "    .dataframe tbody tr th {\n",
       "        vertical-align: top;\n",
       "    }\n",
       "\n",
       "    .dataframe thead th {\n",
       "        text-align: right;\n",
       "    }\n",
       "</style>\n",
       "<table border=\"1\" class=\"dataframe\">\n",
       "  <thead>\n",
       "    <tr style=\"text-align: right;\">\n",
       "      <th></th>\n",
       "      <th>time</th>\n",
       "      <th>dangjin_floating</th>\n",
       "      <th>dangjin_warehouse</th>\n",
       "      <th>dangjin</th>\n",
       "      <th>ulsan</th>\n",
       "    </tr>\n",
       "  </thead>\n",
       "  <tbody>\n",
       "    <tr>\n",
       "      <th>0</th>\n",
       "      <td>2021-02-01 01:00:00</td>\n",
       "      <td>40.190800</td>\n",
       "      <td>37.378693</td>\n",
       "      <td>59.515770</td>\n",
       "      <td>3.077009</td>\n",
       "    </tr>\n",
       "    <tr>\n",
       "      <th>1</th>\n",
       "      <td>2021-02-01 02:00:00</td>\n",
       "      <td>32.341027</td>\n",
       "      <td>30.732927</td>\n",
       "      <td>56.428088</td>\n",
       "      <td>-0.963425</td>\n",
       "    </tr>\n",
       "    <tr>\n",
       "      <th>2</th>\n",
       "      <td>2021-02-01 03:00:00</td>\n",
       "      <td>32.835021</td>\n",
       "      <td>28.548579</td>\n",
       "      <td>58.022827</td>\n",
       "      <td>-0.041407</td>\n",
       "    </tr>\n",
       "    <tr>\n",
       "      <th>3</th>\n",
       "      <td>2021-02-01 04:00:00</td>\n",
       "      <td>31.170214</td>\n",
       "      <td>29.062793</td>\n",
       "      <td>55.038916</td>\n",
       "      <td>-4.203881</td>\n",
       "    </tr>\n",
       "    <tr>\n",
       "      <th>4</th>\n",
       "      <td>2021-02-01 05:00:00</td>\n",
       "      <td>31.170214</td>\n",
       "      <td>29.062793</td>\n",
       "      <td>55.038916</td>\n",
       "      <td>-4.758476</td>\n",
       "    </tr>\n",
       "    <tr>\n",
       "      <th>...</th>\n",
       "      <td>...</td>\n",
       "      <td>...</td>\n",
       "      <td>...</td>\n",
       "      <td>...</td>\n",
       "      <td>...</td>\n",
       "    </tr>\n",
       "    <tr>\n",
       "      <th>1387</th>\n",
       "      <td>2021-07-08 20:00:00</td>\n",
       "      <td>0.000000</td>\n",
       "      <td>0.000000</td>\n",
       "      <td>0.000000</td>\n",
       "      <td>0.000000</td>\n",
       "    </tr>\n",
       "    <tr>\n",
       "      <th>1388</th>\n",
       "      <td>2021-07-08 21:00:00</td>\n",
       "      <td>0.000000</td>\n",
       "      <td>0.000000</td>\n",
       "      <td>0.000000</td>\n",
       "      <td>0.000000</td>\n",
       "    </tr>\n",
       "    <tr>\n",
       "      <th>1389</th>\n",
       "      <td>2021-07-08 22:00:00</td>\n",
       "      <td>0.000000</td>\n",
       "      <td>0.000000</td>\n",
       "      <td>0.000000</td>\n",
       "      <td>0.000000</td>\n",
       "    </tr>\n",
       "    <tr>\n",
       "      <th>1390</th>\n",
       "      <td>2021-07-08 23:00:00</td>\n",
       "      <td>0.000000</td>\n",
       "      <td>0.000000</td>\n",
       "      <td>0.000000</td>\n",
       "      <td>0.000000</td>\n",
       "    </tr>\n",
       "    <tr>\n",
       "      <th>1391</th>\n",
       "      <td>2021-07-08 24:00:00</td>\n",
       "      <td>0.000000</td>\n",
       "      <td>0.000000</td>\n",
       "      <td>0.000000</td>\n",
       "      <td>0.000000</td>\n",
       "    </tr>\n",
       "  </tbody>\n",
       "</table>\n",
       "<p>1392 rows × 5 columns</p>\n",
       "</div>"
      ],
      "text/plain": [
       "                     time  dangjin_floating  dangjin_warehouse    dangjin  \\\n",
       "0     2021-02-01 01:00:00         40.190800          37.378693  59.515770   \n",
       "1     2021-02-01 02:00:00         32.341027          30.732927  56.428088   \n",
       "2     2021-02-01 03:00:00         32.835021          28.548579  58.022827   \n",
       "3     2021-02-01 04:00:00         31.170214          29.062793  55.038916   \n",
       "4     2021-02-01 05:00:00         31.170214          29.062793  55.038916   \n",
       "...                   ...               ...                ...        ...   \n",
       "1387  2021-07-08 20:00:00          0.000000           0.000000   0.000000   \n",
       "1388  2021-07-08 21:00:00          0.000000           0.000000   0.000000   \n",
       "1389  2021-07-08 22:00:00          0.000000           0.000000   0.000000   \n",
       "1390  2021-07-08 23:00:00          0.000000           0.000000   0.000000   \n",
       "1391  2021-07-08 24:00:00          0.000000           0.000000   0.000000   \n",
       "\n",
       "         ulsan  \n",
       "0     3.077009  \n",
       "1    -0.963425  \n",
       "2    -0.041407  \n",
       "3    -4.203881  \n",
       "4    -4.758476  \n",
       "...        ...  \n",
       "1387  0.000000  \n",
       "1388  0.000000  \n",
       "1389  0.000000  \n",
       "1390  0.000000  \n",
       "1391  0.000000  \n",
       "\n",
       "[1392 rows x 5 columns]"
      ]
     },
     "execution_count": 76,
     "metadata": {},
     "output_type": "execute_result"
    }
   ],
   "source": [
    "submission"
   ]
  },
  {
   "cell_type": "code",
   "execution_count": 78,
   "metadata": {},
   "outputs": [],
   "source": [
    "submission.to_csv('dacon_baseline.csv', index=False)"
   ]
  },
  {
   "cell_type": "code",
   "execution_count": null,
   "metadata": {},
   "outputs": [],
   "source": []
  }
 ],
 "metadata": {
  "kernelspec": {
   "display_name": "lg",
   "language": "python",
   "name": "lg"
  },
  "language_info": {
   "codemirror_mode": {
    "name": "ipython",
    "version": 3
   },
   "file_extension": ".py",
   "mimetype": "text/x-python",
   "name": "python",
   "nbconvert_exporter": "python",
   "pygments_lexer": "ipython3",
   "version": "3.6.12"
  }
 },
 "nbformat": 4,
 "nbformat_minor": 4
}
