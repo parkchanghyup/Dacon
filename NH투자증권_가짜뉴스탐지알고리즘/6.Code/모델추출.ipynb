{
 "cells": [
  {
   "cell_type": "markdown",
   "metadata": {},
   "source": [
    "# 데이터 로딩\n",
    "---"
   ]
  },
  {
   "cell_type": "code",
   "execution_count": 2,
   "metadata": {
    "ExecuteTime": {
     "end_time": "2020-12-28T07:01:25.670482Z",
     "start_time": "2020-12-28T07:01:25.042160Z"
    },
    "scrolled": true
   },
   "outputs": [
    {
     "data": {
      "text/html": [
       "<div>\n",
       "<style scoped>\n",
       "    .dataframe tbody tr th:only-of-type {\n",
       "        vertical-align: middle;\n",
       "    }\n",
       "\n",
       "    .dataframe tbody tr th {\n",
       "        vertical-align: top;\n",
       "    }\n",
       "\n",
       "    .dataframe thead th {\n",
       "        text-align: right;\n",
       "    }\n",
       "</style>\n",
       "<table border=\"1\" class=\"dataframe\">\n",
       "  <thead>\n",
       "    <tr style=\"text-align: right;\">\n",
       "      <th></th>\n",
       "      <th>n_id</th>\n",
       "      <th>date</th>\n",
       "      <th>title</th>\n",
       "      <th>content</th>\n",
       "      <th>ord</th>\n",
       "      <th>info_</th>\n",
       "      <th>clean_content</th>\n",
       "      <th>clean_title</th>\n",
       "      <th>mecab_</th>\n",
       "      <th>mecab_title</th>\n",
       "      <th>last_pos_content</th>\n",
       "      <th>first_pos_content</th>\n",
       "      <th>last_pos_title</th>\n",
       "      <th>first_pos_title</th>\n",
       "    </tr>\n",
       "  </thead>\n",
       "  <tbody>\n",
       "    <tr>\n",
       "      <th>0</th>\n",
       "      <td>NEWS02580</td>\n",
       "      <td>20200605</td>\n",
       "      <td>[마감]코스닥 기관 678억 순매도</td>\n",
       "      <td>[이데일리 MARKETPOINT]15:32 현재 코스닥 기관 678억 순매도</td>\n",
       "      <td>1</td>\n",
       "      <td>0</td>\n",
       "      <td>[이데일리 MARKETPOINT] time 현재 코스닥 기관 money 순매도</td>\n",
       "      <td>[마감]코스닥 기관 money 순매도</td>\n",
       "      <td>[ 이데일리 MARKETPOINT ] time 현재 코스닥 기관 money 순매도</td>\n",
       "      <td>[ 마감 ] 코스닥 기관 money 순매도</td>\n",
       "      <td>NNG</td>\n",
       "      <td>SSO</td>\n",
       "      <td>NNG</td>\n",
       "      <td>SSO</td>\n",
       "    </tr>\n",
       "    <tr>\n",
       "      <th>1</th>\n",
       "      <td>NEWS02580</td>\n",
       "      <td>20200605</td>\n",
       "      <td>[마감]코스닥 기관 678억 순매도</td>\n",
       "      <td>\"실적기반\" 저가에 매집해야 할 8월 급등유망주 TOP 5 전격공개</td>\n",
       "      <td>2</td>\n",
       "      <td>1</td>\n",
       "      <td>'실적기반' 저가에 매집해야 할 month 급등유망주 rank 전격공개</td>\n",
       "      <td>[마감]코스닥 기관 money 순매도</td>\n",
       "      <td>' 실적 기반 ' 저가 매집 해야 할 month 급등 유망주 rank 전격 공개</td>\n",
       "      <td>[ 마감 ] 코스닥 기관 money 순매도</td>\n",
       "      <td>NNG</td>\n",
       "      <td>SY</td>\n",
       "      <td>NNG</td>\n",
       "      <td>SSO</td>\n",
       "    </tr>\n",
       "    <tr>\n",
       "      <th>2</th>\n",
       "      <td>NEWS02580</td>\n",
       "      <td>20200605</td>\n",
       "      <td>[마감]코스닥 기관 678억 순매도</td>\n",
       "      <td>하이스탁론, 선취수수료 없는 월 0.4% 최저금리 상품 출시</td>\n",
       "      <td>3</td>\n",
       "      <td>1</td>\n",
       "      <td>하이스탁론, 선취수수료 없는 월 perc 최저금리 상품 출시</td>\n",
       "      <td>[마감]코스닥 기관 money 순매도</td>\n",
       "      <td>하이스탁론 , 선취 수수료 없 는 월 perc 최저 금리 상품 출시</td>\n",
       "      <td>[ 마감 ] 코스닥 기관 money 순매도</td>\n",
       "      <td>NNG</td>\n",
       "      <td>NNP</td>\n",
       "      <td>NNG</td>\n",
       "      <td>SSO</td>\n",
       "    </tr>\n",
       "  </tbody>\n",
       "</table>\n",
       "</div>"
      ],
      "text/plain": [
       "        n_id      date                title  \\\n",
       "0  NEWS02580  20200605  [마감]코스닥 기관 678억 순매도   \n",
       "1  NEWS02580  20200605  [마감]코스닥 기관 678억 순매도   \n",
       "2  NEWS02580  20200605  [마감]코스닥 기관 678억 순매도   \n",
       "\n",
       "                                      content  ord  info_  \\\n",
       "0  [이데일리 MARKETPOINT]15:32 현재 코스닥 기관 678억 순매도    1      0   \n",
       "1       \"실적기반\" 저가에 매집해야 할 8월 급등유망주 TOP 5 전격공개    2      1   \n",
       "2           하이스탁론, 선취수수료 없는 월 0.4% 최저금리 상품 출시    3      1   \n",
       "\n",
       "                                 clean_content           clean_title  \\\n",
       "0  [이데일리 MARKETPOINT] time 현재 코스닥 기관 money 순매도  [마감]코스닥 기관 money 순매도   \n",
       "1      '실적기반' 저가에 매집해야 할 month 급등유망주 rank 전격공개  [마감]코스닥 기관 money 순매도   \n",
       "2            하이스탁론, 선취수수료 없는 월 perc 최저금리 상품 출시  [마감]코스닥 기관 money 순매도   \n",
       "\n",
       "                                          mecab_              mecab_title  \\\n",
       "0  [ 이데일리 MARKETPOINT ] time 현재 코스닥 기관 money 순매도  [ 마감 ] 코스닥 기관 money 순매도   \n",
       "1   ' 실적 기반 ' 저가 매집 해야 할 month 급등 유망주 rank 전격 공개  [ 마감 ] 코스닥 기관 money 순매도   \n",
       "2          하이스탁론 , 선취 수수료 없 는 월 perc 최저 금리 상품 출시  [ 마감 ] 코스닥 기관 money 순매도   \n",
       "\n",
       "  last_pos_content first_pos_content last_pos_title first_pos_title  \n",
       "0              NNG               SSO            NNG             SSO  \n",
       "1              NNG                SY            NNG             SSO  \n",
       "2              NNG               NNP            NNG             SSO  "
      ]
     },
     "execution_count": 2,
     "metadata": {},
     "output_type": "execute_result"
    }
   ],
   "source": [
    "import pandas as pd\n",
    "\n",
    "train_df = pd.read_csv('train_mec_v5.csv')\n",
    "train_df.head(3)"
   ]
  },
  {
   "cell_type": "markdown",
   "metadata": {},
   "source": [
    "## 결측치 확인\n",
    "---\n",
    "- 결측치가 3으로 나오는데, content에서 결측치를 처리하여 mecab_를 만들었기 때문에 분석을 하는 데이터에는 문제가 없음."
   ]
  },
  {
   "cell_type": "code",
   "execution_count": 6,
   "metadata": {
    "ExecuteTime": {
     "end_time": "2020-12-28T07:01:25.857431Z",
     "start_time": "2020-12-28T07:01:25.798508Z"
    }
   },
   "outputs": [
    {
     "data": {
      "text/plain": [
       "3"
      ]
     },
     "execution_count": 6,
     "metadata": {},
     "output_type": "execute_result"
    }
   ],
   "source": [
    "train_df.isnull().sum().sum()"
   ]
  },
  {
   "cell_type": "markdown",
   "metadata": {},
   "source": [
    "# 전처리"
   ]
  },
  {
   "cell_type": "markdown",
   "metadata": {},
   "source": [
    "## 새로운 변수 추가 (new, ord_div,counts)\n",
    "---"
   ]
  },
  {
   "cell_type": "markdown",
   "metadata": {},
   "source": [
    "**new 변수 (접두사 접미사 단어 결합)**\n",
    "- title의 첫번째 단어 형태소, 마지막 단어 형태소, content의 첫번째 단어 형태소, 마지막 단어 형태소를 변수에 추가\n",
    "- 형태소 변수를 추가한 이유는 가짜 기사와 진짜 기사의 첫번째,마지막 단어 형태소가 차이가남."
   ]
  },
  {
   "cell_type": "code",
   "execution_count": 7,
   "metadata": {
    "ExecuteTime": {
     "end_time": "2020-12-28T07:01:27.105979Z",
     "start_time": "2020-12-28T07:01:26.944514Z"
    }
   },
   "outputs": [],
   "source": [
    "# new 변수 생성\n",
    "train_df['new'] =  'FC'+train_df['first_pos_content']+\" \"+'FT'+train_df['first_pos_title']+\" \"+train_df['mecab_'] +\" LC\"+train_df['last_pos_content']+\" LT\"+train_df['last_pos_title']"
   ]
  },
  {
   "cell_type": "markdown",
   "metadata": {},
   "source": [
    "**counts 변수 추가**\n",
    "- 중복되는 문장의 갯수 변수"
   ]
  },
  {
   "cell_type": "code",
   "execution_count": 8,
   "metadata": {
    "ExecuteTime": {
     "end_time": "2020-12-28T07:01:27.722055Z",
     "start_time": "2020-12-28T07:01:27.509546Z"
    }
   },
   "outputs": [],
   "source": [
    "check = train_df[['title','content','info_']]\n",
    "counts = pd.pivot_table(check,index=['content'],values='info_',aggfunc='count').reset_index()\n",
    "counts.rename(columns = {'info_' : 'counts'},inplace=True)\n",
    "mine = pd.merge(train_df,counts,how='left',on='content')\n",
    "train_df['counts'] = mine['counts']"
   ]
  },
  {
   "cell_type": "markdown",
   "metadata": {},
   "source": [
    "**ord_div 변수 추가**\n",
    "- 문장내 기사의 위치 변수"
   ]
  },
  {
   "cell_type": "code",
   "execution_count": 9,
   "metadata": {
    "ExecuteTime": {
     "end_time": "2020-12-28T07:01:28.402600Z",
     "start_time": "2020-12-28T07:01:27.827330Z"
    }
   },
   "outputs": [
    {
     "data": {
      "text/html": [
       "<div>\n",
       "<style scoped>\n",
       "    .dataframe tbody tr th:only-of-type {\n",
       "        vertical-align: middle;\n",
       "    }\n",
       "\n",
       "    .dataframe tbody tr th {\n",
       "        vertical-align: top;\n",
       "    }\n",
       "\n",
       "    .dataframe thead th {\n",
       "        text-align: right;\n",
       "    }\n",
       "</style>\n",
       "<table border=\"1\" class=\"dataframe\">\n",
       "  <thead>\n",
       "    <tr style=\"text-align: right;\">\n",
       "      <th></th>\n",
       "      <th>n_id</th>\n",
       "      <th>date</th>\n",
       "      <th>title</th>\n",
       "      <th>content</th>\n",
       "      <th>ord</th>\n",
       "      <th>info_</th>\n",
       "      <th>clean_content</th>\n",
       "      <th>clean_title</th>\n",
       "      <th>mecab_</th>\n",
       "      <th>mecab_title</th>\n",
       "      <th>last_pos_content</th>\n",
       "      <th>first_pos_content</th>\n",
       "      <th>last_pos_title</th>\n",
       "      <th>first_pos_title</th>\n",
       "      <th>new</th>\n",
       "      <th>counts</th>\n",
       "      <th>ord_div</th>\n",
       "    </tr>\n",
       "  </thead>\n",
       "  <tbody>\n",
       "    <tr>\n",
       "      <th>0</th>\n",
       "      <td>NEWS02580</td>\n",
       "      <td>20200605</td>\n",
       "      <td>[마감]코스닥 기관 678억 순매도</td>\n",
       "      <td>[이데일리 MARKETPOINT]15:32 현재 코스닥 기관 678억 순매도</td>\n",
       "      <td>1</td>\n",
       "      <td>0</td>\n",
       "      <td>[이데일리 MARKETPOINT] time 현재 코스닥 기관 money 순매도</td>\n",
       "      <td>[마감]코스닥 기관 money 순매도</td>\n",
       "      <td>[ 이데일리 MARKETPOINT ] time 현재 코스닥 기관 money 순매도</td>\n",
       "      <td>[ 마감 ] 코스닥 기관 money 순매도</td>\n",
       "      <td>NNG</td>\n",
       "      <td>SSO</td>\n",
       "      <td>NNG</td>\n",
       "      <td>SSO</td>\n",
       "      <td>FCSSO FTSSO [ 이데일리 MARKETPOINT ] time 현재 코스닥 기...</td>\n",
       "      <td>1.0</td>\n",
       "      <td>0.250000</td>\n",
       "    </tr>\n",
       "    <tr>\n",
       "      <th>1</th>\n",
       "      <td>NEWS02580</td>\n",
       "      <td>20200605</td>\n",
       "      <td>[마감]코스닥 기관 678억 순매도</td>\n",
       "      <td>\"실적기반\" 저가에 매집해야 할 8월 급등유망주 TOP 5 전격공개</td>\n",
       "      <td>2</td>\n",
       "      <td>1</td>\n",
       "      <td>'실적기반' 저가에 매집해야 할 month 급등유망주 rank 전격공개</td>\n",
       "      <td>[마감]코스닥 기관 money 순매도</td>\n",
       "      <td>' 실적 기반 ' 저가 매집 해야 할 month 급등 유망주 rank 전격 공개</td>\n",
       "      <td>[ 마감 ] 코스닥 기관 money 순매도</td>\n",
       "      <td>NNG</td>\n",
       "      <td>SY</td>\n",
       "      <td>NNG</td>\n",
       "      <td>SSO</td>\n",
       "      <td>FCSY FTSSO ' 실적 기반 ' 저가 매집 해야 할 month 급등 유망주 r...</td>\n",
       "      <td>542.0</td>\n",
       "      <td>0.500000</td>\n",
       "    </tr>\n",
       "    <tr>\n",
       "      <th>2</th>\n",
       "      <td>NEWS02580</td>\n",
       "      <td>20200605</td>\n",
       "      <td>[마감]코스닥 기관 678억 순매도</td>\n",
       "      <td>하이스탁론, 선취수수료 없는 월 0.4% 최저금리 상품 출시</td>\n",
       "      <td>3</td>\n",
       "      <td>1</td>\n",
       "      <td>하이스탁론, 선취수수료 없는 월 perc 최저금리 상품 출시</td>\n",
       "      <td>[마감]코스닥 기관 money 순매도</td>\n",
       "      <td>하이스탁론 , 선취 수수료 없 는 월 perc 최저 금리 상품 출시</td>\n",
       "      <td>[ 마감 ] 코스닥 기관 money 순매도</td>\n",
       "      <td>NNG</td>\n",
       "      <td>NNP</td>\n",
       "      <td>NNG</td>\n",
       "      <td>SSO</td>\n",
       "      <td>FCNNP FTSSO 하이스탁론 , 선취 수수료 없 는 월 perc 최저 금리 상품...</td>\n",
       "      <td>542.0</td>\n",
       "      <td>0.750000</td>\n",
       "    </tr>\n",
       "    <tr>\n",
       "      <th>3</th>\n",
       "      <td>NEWS02580</td>\n",
       "      <td>20200605</td>\n",
       "      <td>[마감]코스닥 기관 678억 순매도</td>\n",
       "      <td>종합 경제정보 미디어 이데일리 - 무단전재 &amp; 재배포 금지</td>\n",
       "      <td>4</td>\n",
       "      <td>0</td>\n",
       "      <td>종합 경제정보 미디어 이데일리 무단전재 &amp; 재배포 금지</td>\n",
       "      <td>[마감]코스닥 기관 money 순매도</td>\n",
       "      <td>종합 경제 정보 미디어 이데일리 무단 전재 &amp; 재배포 금지</td>\n",
       "      <td>[ 마감 ] 코스닥 기관 money 순매도</td>\n",
       "      <td>NNG</td>\n",
       "      <td>NNG</td>\n",
       "      <td>NNG</td>\n",
       "      <td>SSO</td>\n",
       "      <td>FCNNG FTSSO 종합 경제 정보 미디어 이데일리 무단 전재 &amp; 재배포 금지 L...</td>\n",
       "      <td>605.0</td>\n",
       "      <td>1.000000</td>\n",
       "    </tr>\n",
       "    <tr>\n",
       "      <th>4</th>\n",
       "      <td>NEWS09727</td>\n",
       "      <td>20200626</td>\n",
       "      <td>롯데·공영 등 7개 TV 홈쇼핑들, 동행세일 동참</td>\n",
       "      <td>전국적인 소비 붐 조성에 기여할 예정</td>\n",
       "      <td>1</td>\n",
       "      <td>0</td>\n",
       "      <td>전국적인 소비 붐 조성에 기여할 예정</td>\n",
       "      <td>롯데·공영 등 7개 TV 홈쇼핑들, 동행세일 동참</td>\n",
       "      <td>전국 적 인 소비 붐 조성 기여 할 예정</td>\n",
       "      <td>롯데 · 공영 등 7 개 TV 홈 쇼핑 들 , 동행 세일 동참</td>\n",
       "      <td>NNG</td>\n",
       "      <td>NNG</td>\n",
       "      <td>NNG</td>\n",
       "      <td>NNP</td>\n",
       "      <td>FCNNG FTNNP 전국 적 인 소비 붐 조성 기여 할 예정 LCNNG LTNNG</td>\n",
       "      <td>1.0</td>\n",
       "      <td>0.066667</td>\n",
       "    </tr>\n",
       "  </tbody>\n",
       "</table>\n",
       "</div>"
      ],
      "text/plain": [
       "        n_id      date                        title  \\\n",
       "0  NEWS02580  20200605          [마감]코스닥 기관 678억 순매도   \n",
       "1  NEWS02580  20200605          [마감]코스닥 기관 678억 순매도   \n",
       "2  NEWS02580  20200605          [마감]코스닥 기관 678억 순매도   \n",
       "3  NEWS02580  20200605          [마감]코스닥 기관 678억 순매도   \n",
       "4  NEWS09727  20200626  롯데·공영 등 7개 TV 홈쇼핑들, 동행세일 동참   \n",
       "\n",
       "                                      content  ord  info_  \\\n",
       "0  [이데일리 MARKETPOINT]15:32 현재 코스닥 기관 678억 순매도    1      0   \n",
       "1       \"실적기반\" 저가에 매집해야 할 8월 급등유망주 TOP 5 전격공개    2      1   \n",
       "2           하이스탁론, 선취수수료 없는 월 0.4% 최저금리 상품 출시    3      1   \n",
       "3            종합 경제정보 미디어 이데일리 - 무단전재 & 재배포 금지    4      0   \n",
       "4                        전국적인 소비 붐 조성에 기여할 예정    1      0   \n",
       "\n",
       "                                 clean_content                  clean_title  \\\n",
       "0  [이데일리 MARKETPOINT] time 현재 코스닥 기관 money 순매도         [마감]코스닥 기관 money 순매도   \n",
       "1      '실적기반' 저가에 매집해야 할 month 급등유망주 rank 전격공개         [마감]코스닥 기관 money 순매도   \n",
       "2            하이스탁론, 선취수수료 없는 월 perc 최저금리 상품 출시         [마감]코스닥 기관 money 순매도   \n",
       "3               종합 경제정보 미디어 이데일리 무단전재 & 재배포 금지         [마감]코스닥 기관 money 순매도   \n",
       "4                         전국적인 소비 붐 조성에 기여할 예정  롯데·공영 등 7개 TV 홈쇼핑들, 동행세일 동참   \n",
       "\n",
       "                                          mecab_  \\\n",
       "0  [ 이데일리 MARKETPOINT ] time 현재 코스닥 기관 money 순매도   \n",
       "1   ' 실적 기반 ' 저가 매집 해야 할 month 급등 유망주 rank 전격 공개   \n",
       "2          하이스탁론 , 선취 수수료 없 는 월 perc 최저 금리 상품 출시   \n",
       "3               종합 경제 정보 미디어 이데일리 무단 전재 & 재배포 금지   \n",
       "4                         전국 적 인 소비 붐 조성 기여 할 예정   \n",
       "\n",
       "                          mecab_title last_pos_content first_pos_content  \\\n",
       "0             [ 마감 ] 코스닥 기관 money 순매도              NNG               SSO   \n",
       "1             [ 마감 ] 코스닥 기관 money 순매도              NNG                SY   \n",
       "2             [ 마감 ] 코스닥 기관 money 순매도              NNG               NNP   \n",
       "3             [ 마감 ] 코스닥 기관 money 순매도              NNG               NNG   \n",
       "4  롯데 · 공영 등 7 개 TV 홈 쇼핑 들 , 동행 세일 동참              NNG               NNG   \n",
       "\n",
       "  last_pos_title first_pos_title  \\\n",
       "0            NNG             SSO   \n",
       "1            NNG             SSO   \n",
       "2            NNG             SSO   \n",
       "3            NNG             SSO   \n",
       "4            NNG             NNP   \n",
       "\n",
       "                                                 new  counts   ord_div  \n",
       "0  FCSSO FTSSO [ 이데일리 MARKETPOINT ] time 현재 코스닥 기...     1.0  0.250000  \n",
       "1  FCSY FTSSO ' 실적 기반 ' 저가 매집 해야 할 month 급등 유망주 r...   542.0  0.500000  \n",
       "2  FCNNP FTSSO 하이스탁론 , 선취 수수료 없 는 월 perc 최저 금리 상품...   542.0  0.750000  \n",
       "3  FCNNG FTSSO 종합 경제 정보 미디어 이데일리 무단 전재 & 재배포 금지 L...   605.0  1.000000  \n",
       "4     FCNNG FTNNP 전국 적 인 소비 붐 조성 기여 할 예정 LCNNG LTNNG     1.0  0.066667  "
      ]
     },
     "execution_count": 9,
     "metadata": {},
     "output_type": "execute_result"
    }
   ],
   "source": [
    "# ord_div 변수 생성 \n",
    "train_df['ord_div'] = train_df['ord'].div(train_df.groupby('n_id')['ord'].transform(lambda x: x.max()))\n",
    "train_df.head()"
   ]
  },
  {
   "cell_type": "code",
   "execution_count": 10,
   "metadata": {
    "ExecuteTime": {
     "end_time": "2020-12-28T07:01:28.418530Z",
     "start_time": "2020-12-28T07:01:28.403578Z"
    },
    "scrolled": true
   },
   "outputs": [
    {
     "data": {
      "text/html": [
       "<div>\n",
       "<style scoped>\n",
       "    .dataframe tbody tr th:only-of-type {\n",
       "        vertical-align: middle;\n",
       "    }\n",
       "\n",
       "    .dataframe tbody tr th {\n",
       "        vertical-align: top;\n",
       "    }\n",
       "\n",
       "    .dataframe thead th {\n",
       "        text-align: right;\n",
       "    }\n",
       "</style>\n",
       "<table border=\"1\" class=\"dataframe\">\n",
       "  <thead>\n",
       "    <tr style=\"text-align: right;\">\n",
       "      <th></th>\n",
       "      <th>n_id</th>\n",
       "      <th>date</th>\n",
       "      <th>title</th>\n",
       "      <th>content</th>\n",
       "      <th>ord</th>\n",
       "      <th>info_</th>\n",
       "      <th>clean_content</th>\n",
       "      <th>clean_title</th>\n",
       "      <th>mecab_</th>\n",
       "      <th>mecab_title</th>\n",
       "      <th>last_pos_content</th>\n",
       "      <th>first_pos_content</th>\n",
       "      <th>last_pos_title</th>\n",
       "      <th>first_pos_title</th>\n",
       "      <th>new</th>\n",
       "      <th>counts</th>\n",
       "      <th>ord_div</th>\n",
       "    </tr>\n",
       "  </thead>\n",
       "  <tbody>\n",
       "    <tr>\n",
       "      <th>0</th>\n",
       "      <td>NEWS02580</td>\n",
       "      <td>20200605</td>\n",
       "      <td>[마감]코스닥 기관 678억 순매도</td>\n",
       "      <td>[이데일리 MARKETPOINT]15:32 현재 코스닥 기관 678억 순매도</td>\n",
       "      <td>1</td>\n",
       "      <td>0</td>\n",
       "      <td>[이데일리 MARKETPOINT] time 현재 코스닥 기관 money 순매도</td>\n",
       "      <td>[마감]코스닥 기관 money 순매도</td>\n",
       "      <td>[ 이데일리 MARKETPOINT ] time 현재 코스닥 기관 money 순매도</td>\n",
       "      <td>[ 마감 ] 코스닥 기관 money 순매도</td>\n",
       "      <td>NNG</td>\n",
       "      <td>SSO</td>\n",
       "      <td>NNG</td>\n",
       "      <td>SSO</td>\n",
       "      <td>FCSSO FTSSO [ 이데일리 MARKETPOINT ] time 현재 코스닥 기...</td>\n",
       "      <td>1.0</td>\n",
       "      <td>0.250000</td>\n",
       "    </tr>\n",
       "    <tr>\n",
       "      <th>1</th>\n",
       "      <td>NEWS02580</td>\n",
       "      <td>20200605</td>\n",
       "      <td>[마감]코스닥 기관 678억 순매도</td>\n",
       "      <td>\"실적기반\" 저가에 매집해야 할 8월 급등유망주 TOP 5 전격공개</td>\n",
       "      <td>2</td>\n",
       "      <td>1</td>\n",
       "      <td>'실적기반' 저가에 매집해야 할 month 급등유망주 rank 전격공개</td>\n",
       "      <td>[마감]코스닥 기관 money 순매도</td>\n",
       "      <td>' 실적 기반 ' 저가 매집 해야 할 month 급등 유망주 rank 전격 공개</td>\n",
       "      <td>[ 마감 ] 코스닥 기관 money 순매도</td>\n",
       "      <td>NNG</td>\n",
       "      <td>SY</td>\n",
       "      <td>NNG</td>\n",
       "      <td>SSO</td>\n",
       "      <td>FCSY FTSSO ' 실적 기반 ' 저가 매집 해야 할 month 급등 유망주 r...</td>\n",
       "      <td>542.0</td>\n",
       "      <td>0.500000</td>\n",
       "    </tr>\n",
       "    <tr>\n",
       "      <th>2</th>\n",
       "      <td>NEWS02580</td>\n",
       "      <td>20200605</td>\n",
       "      <td>[마감]코스닥 기관 678억 순매도</td>\n",
       "      <td>하이스탁론, 선취수수료 없는 월 0.4% 최저금리 상품 출시</td>\n",
       "      <td>3</td>\n",
       "      <td>1</td>\n",
       "      <td>하이스탁론, 선취수수료 없는 월 perc 최저금리 상품 출시</td>\n",
       "      <td>[마감]코스닥 기관 money 순매도</td>\n",
       "      <td>하이스탁론 , 선취 수수료 없 는 월 perc 최저 금리 상품 출시</td>\n",
       "      <td>[ 마감 ] 코스닥 기관 money 순매도</td>\n",
       "      <td>NNG</td>\n",
       "      <td>NNP</td>\n",
       "      <td>NNG</td>\n",
       "      <td>SSO</td>\n",
       "      <td>FCNNP FTSSO 하이스탁론 , 선취 수수료 없 는 월 perc 최저 금리 상품...</td>\n",
       "      <td>542.0</td>\n",
       "      <td>0.750000</td>\n",
       "    </tr>\n",
       "    <tr>\n",
       "      <th>3</th>\n",
       "      <td>NEWS02580</td>\n",
       "      <td>20200605</td>\n",
       "      <td>[마감]코스닥 기관 678억 순매도</td>\n",
       "      <td>종합 경제정보 미디어 이데일리 - 무단전재 &amp; 재배포 금지</td>\n",
       "      <td>4</td>\n",
       "      <td>0</td>\n",
       "      <td>종합 경제정보 미디어 이데일리 무단전재 &amp; 재배포 금지</td>\n",
       "      <td>[마감]코스닥 기관 money 순매도</td>\n",
       "      <td>종합 경제 정보 미디어 이데일리 무단 전재 &amp; 재배포 금지</td>\n",
       "      <td>[ 마감 ] 코스닥 기관 money 순매도</td>\n",
       "      <td>NNG</td>\n",
       "      <td>NNG</td>\n",
       "      <td>NNG</td>\n",
       "      <td>SSO</td>\n",
       "      <td>FCNNG FTSSO 종합 경제 정보 미디어 이데일리 무단 전재 &amp; 재배포 금지 L...</td>\n",
       "      <td>605.0</td>\n",
       "      <td>1.000000</td>\n",
       "    </tr>\n",
       "    <tr>\n",
       "      <th>4</th>\n",
       "      <td>NEWS09727</td>\n",
       "      <td>20200626</td>\n",
       "      <td>롯데·공영 등 7개 TV 홈쇼핑들, 동행세일 동참</td>\n",
       "      <td>전국적인 소비 붐 조성에 기여할 예정</td>\n",
       "      <td>1</td>\n",
       "      <td>0</td>\n",
       "      <td>전국적인 소비 붐 조성에 기여할 예정</td>\n",
       "      <td>롯데·공영 등 7개 TV 홈쇼핑들, 동행세일 동참</td>\n",
       "      <td>전국 적 인 소비 붐 조성 기여 할 예정</td>\n",
       "      <td>롯데 · 공영 등 7 개 TV 홈 쇼핑 들 , 동행 세일 동참</td>\n",
       "      <td>NNG</td>\n",
       "      <td>NNG</td>\n",
       "      <td>NNG</td>\n",
       "      <td>NNP</td>\n",
       "      <td>FCNNG FTNNP 전국 적 인 소비 붐 조성 기여 할 예정 LCNNG LTNNG</td>\n",
       "      <td>1.0</td>\n",
       "      <td>0.066667</td>\n",
       "    </tr>\n",
       "  </tbody>\n",
       "</table>\n",
       "</div>"
      ],
      "text/plain": [
       "        n_id      date                        title  \\\n",
       "0  NEWS02580  20200605          [마감]코스닥 기관 678억 순매도   \n",
       "1  NEWS02580  20200605          [마감]코스닥 기관 678억 순매도   \n",
       "2  NEWS02580  20200605          [마감]코스닥 기관 678억 순매도   \n",
       "3  NEWS02580  20200605          [마감]코스닥 기관 678억 순매도   \n",
       "4  NEWS09727  20200626  롯데·공영 등 7개 TV 홈쇼핑들, 동행세일 동참   \n",
       "\n",
       "                                      content  ord  info_  \\\n",
       "0  [이데일리 MARKETPOINT]15:32 현재 코스닥 기관 678억 순매도    1      0   \n",
       "1       \"실적기반\" 저가에 매집해야 할 8월 급등유망주 TOP 5 전격공개    2      1   \n",
       "2           하이스탁론, 선취수수료 없는 월 0.4% 최저금리 상품 출시    3      1   \n",
       "3            종합 경제정보 미디어 이데일리 - 무단전재 & 재배포 금지    4      0   \n",
       "4                        전국적인 소비 붐 조성에 기여할 예정    1      0   \n",
       "\n",
       "                                 clean_content                  clean_title  \\\n",
       "0  [이데일리 MARKETPOINT] time 현재 코스닥 기관 money 순매도         [마감]코스닥 기관 money 순매도   \n",
       "1      '실적기반' 저가에 매집해야 할 month 급등유망주 rank 전격공개         [마감]코스닥 기관 money 순매도   \n",
       "2            하이스탁론, 선취수수료 없는 월 perc 최저금리 상품 출시         [마감]코스닥 기관 money 순매도   \n",
       "3               종합 경제정보 미디어 이데일리 무단전재 & 재배포 금지         [마감]코스닥 기관 money 순매도   \n",
       "4                         전국적인 소비 붐 조성에 기여할 예정  롯데·공영 등 7개 TV 홈쇼핑들, 동행세일 동참   \n",
       "\n",
       "                                          mecab_  \\\n",
       "0  [ 이데일리 MARKETPOINT ] time 현재 코스닥 기관 money 순매도   \n",
       "1   ' 실적 기반 ' 저가 매집 해야 할 month 급등 유망주 rank 전격 공개   \n",
       "2          하이스탁론 , 선취 수수료 없 는 월 perc 최저 금리 상품 출시   \n",
       "3               종합 경제 정보 미디어 이데일리 무단 전재 & 재배포 금지   \n",
       "4                         전국 적 인 소비 붐 조성 기여 할 예정   \n",
       "\n",
       "                          mecab_title last_pos_content first_pos_content  \\\n",
       "0             [ 마감 ] 코스닥 기관 money 순매도              NNG               SSO   \n",
       "1             [ 마감 ] 코스닥 기관 money 순매도              NNG                SY   \n",
       "2             [ 마감 ] 코스닥 기관 money 순매도              NNG               NNP   \n",
       "3             [ 마감 ] 코스닥 기관 money 순매도              NNG               NNG   \n",
       "4  롯데 · 공영 등 7 개 TV 홈 쇼핑 들 , 동행 세일 동참              NNG               NNG   \n",
       "\n",
       "  last_pos_title first_pos_title  \\\n",
       "0            NNG             SSO   \n",
       "1            NNG             SSO   \n",
       "2            NNG             SSO   \n",
       "3            NNG             SSO   \n",
       "4            NNG             NNP   \n",
       "\n",
       "                                                 new  counts   ord_div  \n",
       "0  FCSSO FTSSO [ 이데일리 MARKETPOINT ] time 현재 코스닥 기...     1.0  0.250000  \n",
       "1  FCSY FTSSO ' 실적 기반 ' 저가 매집 해야 할 month 급등 유망주 r...   542.0  0.500000  \n",
       "2  FCNNP FTSSO 하이스탁론 , 선취 수수료 없 는 월 perc 최저 금리 상품...   542.0  0.750000  \n",
       "3  FCNNG FTSSO 종합 경제 정보 미디어 이데일리 무단 전재 & 재배포 금지 L...   605.0  1.000000  \n",
       "4     FCNNG FTNNP 전국 적 인 소비 붐 조성 기여 할 예정 LCNNG LTNNG     1.0  0.066667  "
      ]
     },
     "execution_count": 10,
     "metadata": {},
     "output_type": "execute_result"
    }
   ],
   "source": [
    "train_df.head()"
   ]
  },
  {
   "cell_type": "code",
   "execution_count": 80,
   "metadata": {
    "ExecuteTime": {
     "end_time": "2020-12-28T07:01:28.450472Z",
     "start_time": "2020-12-28T07:01:28.420525Z"
    },
    "scrolled": true
   },
   "outputs": [
    {
     "data": {
      "text/html": [
       "<div>\n",
       "<style scoped>\n",
       "    .dataframe tbody tr th:only-of-type {\n",
       "        vertical-align: middle;\n",
       "    }\n",
       "\n",
       "    .dataframe tbody tr th {\n",
       "        vertical-align: top;\n",
       "    }\n",
       "\n",
       "    .dataframe thead th {\n",
       "        text-align: right;\n",
       "    }\n",
       "</style>\n",
       "<table border=\"1\" class=\"dataframe\">\n",
       "  <thead>\n",
       "    <tr style=\"text-align: right;\">\n",
       "      <th></th>\n",
       "      <th>n_id</th>\n",
       "      <th>date</th>\n",
       "      <th>title</th>\n",
       "      <th>content</th>\n",
       "      <th>ord</th>\n",
       "      <th>info_</th>\n",
       "      <th>clean_content</th>\n",
       "      <th>clean_title</th>\n",
       "      <th>mecab_</th>\n",
       "      <th>mecab_title</th>\n",
       "      <th>last_pos_content</th>\n",
       "      <th>first_pos_content</th>\n",
       "      <th>last_pos_title</th>\n",
       "      <th>first_pos_title</th>\n",
       "      <th>new</th>\n",
       "      <th>counts</th>\n",
       "      <th>ord_div</th>\n",
       "    </tr>\n",
       "  </thead>\n",
       "  <tbody>\n",
       "    <tr>\n",
       "      <th>118740</th>\n",
       "      <td>NEWS01333</td>\n",
       "      <td>20200117</td>\n",
       "      <td>모나리자, 중원 지분 16.88% 양수 결정</td>\n",
       "      <td>미 FDA 임상3상 허가 임박. 묻고 따블로 갈 바이오 황제주.</td>\n",
       "      <td>48</td>\n",
       "      <td>1</td>\n",
       "      <td>미 FDA 임상3상 허가 임박 묻고 따블로 갈 바이오 황제주</td>\n",
       "      <td>모나리자, 중원 지분 perc 양수 결정</td>\n",
       "      <td>미 FDA 임상3상 허가 임박 묻 고 따 블 갈 바이오 황제주</td>\n",
       "      <td>모나리자 , 중원 지분 perc 양수 결정</td>\n",
       "      <td>NNP</td>\n",
       "      <td>NNG</td>\n",
       "      <td>NNG</td>\n",
       "      <td>NNG</td>\n",
       "      <td>FCNNG FTNNG 미 FDA 임상3상 허가 임박 묻 고 따 블 갈 바이오 황제주...</td>\n",
       "      <td>240.0</td>\n",
       "      <td>0.923077</td>\n",
       "    </tr>\n",
       "    <tr>\n",
       "      <th>118741</th>\n",
       "      <td>NEWS01333</td>\n",
       "      <td>20200117</td>\n",
       "      <td>모나리자, 중원 지분 16.88% 양수 결정</td>\n",
       "      <td>똑똑해진 소비자..한국도 이젠 소형차 시대</td>\n",
       "      <td>49</td>\n",
       "      <td>1</td>\n",
       "      <td>똑똑해진 소비자 Ellipsis 한국도 이젠 소형차 시대</td>\n",
       "      <td>모나리자, 중원 지분 perc 양수 결정</td>\n",
       "      <td>똑똑 해진 소비자 Ellipsis 한국 이젠 소형차 시대</td>\n",
       "      <td>모나리자 , 중원 지분 perc 양수 결정</td>\n",
       "      <td>NNG</td>\n",
       "      <td>XR</td>\n",
       "      <td>NNG</td>\n",
       "      <td>NNG</td>\n",
       "      <td>FCXR FTNNG 똑똑 해진 소비자 Ellipsis 한국 이젠 소형차 시대 LCN...</td>\n",
       "      <td>2420.0</td>\n",
       "      <td>0.942308</td>\n",
       "    </tr>\n",
       "    <tr>\n",
       "      <th>118742</th>\n",
       "      <td>NEWS01333</td>\n",
       "      <td>20200117</td>\n",
       "      <td>모나리자, 중원 지분 16.88% 양수 결정</td>\n",
       "      <td>똑똑해진 소비자..한국도 이젠 소형차 시대</td>\n",
       "      <td>50</td>\n",
       "      <td>1</td>\n",
       "      <td>똑똑해진 소비자 Ellipsis 한국도 이젠 소형차 시대</td>\n",
       "      <td>모나리자, 중원 지분 perc 양수 결정</td>\n",
       "      <td>똑똑 해진 소비자 Ellipsis 한국 이젠 소형차 시대</td>\n",
       "      <td>모나리자 , 중원 지분 perc 양수 결정</td>\n",
       "      <td>NNG</td>\n",
       "      <td>XR</td>\n",
       "      <td>NNG</td>\n",
       "      <td>NNG</td>\n",
       "      <td>FCXR FTNNG 똑똑 해진 소비자 Ellipsis 한국 이젠 소형차 시대 LCN...</td>\n",
       "      <td>2420.0</td>\n",
       "      <td>0.961538</td>\n",
       "    </tr>\n",
       "    <tr>\n",
       "      <th>118743</th>\n",
       "      <td>NEWS01333</td>\n",
       "      <td>20200117</td>\n",
       "      <td>모나리자, 중원 지분 16.88% 양수 결정</td>\n",
       "      <td>2020년 한국 TV 2대중 1대 인터넷 연결된다</td>\n",
       "      <td>51</td>\n",
       "      <td>1</td>\n",
       "      <td>year 한국 TV 2대중 1대 인터넷 연결된다</td>\n",
       "      <td>모나리자, 중원 지분 perc 양수 결정</td>\n",
       "      <td>year 한국 TV 2 대중 1 대 인터넷 연결 된다</td>\n",
       "      <td>모나리자 , 중원 지분 perc 양수 결정</td>\n",
       "      <td>XSV+EC</td>\n",
       "      <td>SL</td>\n",
       "      <td>NNG</td>\n",
       "      <td>NNG</td>\n",
       "      <td>FCSL FTNNG year 한국 TV 2 대중 1 대 인터넷 연결 된다 LCXSV...</td>\n",
       "      <td>2420.0</td>\n",
       "      <td>0.980769</td>\n",
       "    </tr>\n",
       "    <tr>\n",
       "      <th>118744</th>\n",
       "      <td>NEWS01333</td>\n",
       "      <td>20200117</td>\n",
       "      <td>모나리자, 중원 지분 16.88% 양수 결정</td>\n",
       "      <td>2020년 한국 TV 2대중 1대 인터넷 연결된다</td>\n",
       "      <td>52</td>\n",
       "      <td>1</td>\n",
       "      <td>year 한국 TV 2대중 1대 인터넷 연결된다</td>\n",
       "      <td>모나리자, 중원 지분 perc 양수 결정</td>\n",
       "      <td>year 한국 TV 2 대중 1 대 인터넷 연결 된다</td>\n",
       "      <td>모나리자 , 중원 지분 perc 양수 결정</td>\n",
       "      <td>XSV+EC</td>\n",
       "      <td>SL</td>\n",
       "      <td>NNG</td>\n",
       "      <td>NNG</td>\n",
       "      <td>FCSL FTNNG year 한국 TV 2 대중 1 대 인터넷 연결 된다 LCXSV...</td>\n",
       "      <td>2420.0</td>\n",
       "      <td>1.000000</td>\n",
       "    </tr>\n",
       "  </tbody>\n",
       "</table>\n",
       "</div>"
      ],
      "text/plain": [
       "             n_id      date                     title  \\\n",
       "118740  NEWS01333  20200117  모나리자, 중원 지분 16.88% 양수 결정   \n",
       "118741  NEWS01333  20200117  모나리자, 중원 지분 16.88% 양수 결정   \n",
       "118742  NEWS01333  20200117  모나리자, 중원 지분 16.88% 양수 결정   \n",
       "118743  NEWS01333  20200117  모나리자, 중원 지분 16.88% 양수 결정   \n",
       "118744  NEWS01333  20200117  모나리자, 중원 지분 16.88% 양수 결정   \n",
       "\n",
       "                                    content  ord  info_  \\\n",
       "118740  미 FDA 임상3상 허가 임박. 묻고 따블로 갈 바이오 황제주.   48      1   \n",
       "118741              똑똑해진 소비자..한국도 이젠 소형차 시대   49      1   \n",
       "118742              똑똑해진 소비자..한국도 이젠 소형차 시대   50      1   \n",
       "118743          2020년 한국 TV 2대중 1대 인터넷 연결된다   51      1   \n",
       "118744          2020년 한국 TV 2대중 1대 인터넷 연결된다   52      1   \n",
       "\n",
       "                            clean_content             clean_title  \\\n",
       "118740  미 FDA 임상3상 허가 임박 묻고 따블로 갈 바이오 황제주  모나리자, 중원 지분 perc 양수 결정   \n",
       "118741    똑똑해진 소비자 Ellipsis 한국도 이젠 소형차 시대  모나리자, 중원 지분 perc 양수 결정   \n",
       "118742    똑똑해진 소비자 Ellipsis 한국도 이젠 소형차 시대  모나리자, 중원 지분 perc 양수 결정   \n",
       "118743         year 한국 TV 2대중 1대 인터넷 연결된다  모나리자, 중원 지분 perc 양수 결정   \n",
       "118744         year 한국 TV 2대중 1대 인터넷 연결된다  모나리자, 중원 지분 perc 양수 결정   \n",
       "\n",
       "                                    mecab_              mecab_title  \\\n",
       "118740  미 FDA 임상3상 허가 임박 묻 고 따 블 갈 바이오 황제주  모나리자 , 중원 지분 perc 양수 결정   \n",
       "118741     똑똑 해진 소비자 Ellipsis 한국 이젠 소형차 시대  모나리자 , 중원 지분 perc 양수 결정   \n",
       "118742     똑똑 해진 소비자 Ellipsis 한국 이젠 소형차 시대  모나리자 , 중원 지분 perc 양수 결정   \n",
       "118743       year 한국 TV 2 대중 1 대 인터넷 연결 된다  모나리자 , 중원 지분 perc 양수 결정   \n",
       "118744       year 한국 TV 2 대중 1 대 인터넷 연결 된다  모나리자 , 중원 지분 perc 양수 결정   \n",
       "\n",
       "       last_pos_content first_pos_content last_pos_title first_pos_title  \\\n",
       "118740              NNP               NNG            NNG             NNG   \n",
       "118741              NNG                XR            NNG             NNG   \n",
       "118742              NNG                XR            NNG             NNG   \n",
       "118743           XSV+EC                SL            NNG             NNG   \n",
       "118744           XSV+EC                SL            NNG             NNG   \n",
       "\n",
       "                                                      new  counts   ord_div  \n",
       "118740  FCNNG FTNNG 미 FDA 임상3상 허가 임박 묻 고 따 블 갈 바이오 황제주...   240.0  0.923077  \n",
       "118741  FCXR FTNNG 똑똑 해진 소비자 Ellipsis 한국 이젠 소형차 시대 LCN...  2420.0  0.942308  \n",
       "118742  FCXR FTNNG 똑똑 해진 소비자 Ellipsis 한국 이젠 소형차 시대 LCN...  2420.0  0.961538  \n",
       "118743  FCSL FTNNG year 한국 TV 2 대중 1 대 인터넷 연결 된다 LCXSV...  2420.0  0.980769  \n",
       "118744  FCSL FTNNG year 한국 TV 2 대중 1 대 인터넷 연결 된다 LCXSV...  2420.0  1.000000  "
      ]
     },
     "execution_count": 80,
     "metadata": {},
     "output_type": "execute_result"
    }
   ],
   "source": [
    "train_df.tail()"
   ]
  },
  {
   "cell_type": "markdown",
   "metadata": {},
   "source": [
    "## tf-idf\n",
    "---\n"
   ]
  },
  {
   "cell_type": "code",
   "execution_count": 13,
   "metadata": {
    "ExecuteTime": {
     "end_time": "2020-12-28T07:01:28.577195Z",
     "start_time": "2020-12-28T07:01:28.497319Z"
    }
   },
   "outputs": [
    {
     "name": "stdout",
     "output_type": "stream",
     "text": [
      "train data 개수: 118745\n",
      "중복제거후 train data 개수: 71583\n"
     ]
    }
   ],
   "source": [
    "# 'n_id','date','title','content' 중복 제거\n",
    "print('train data 개수: {}'.format(len(train_df)))\n",
    "\n",
    "train_dup = train_df.drop_duplicates(['n_id','date','title','content'])\n",
    "train_dup.reset_index(drop=True,inplace=True)\n",
    "\n",
    "print('중복제거후 train data 개수: {}'.format(len(train_dup)))"
   ]
  },
  {
   "cell_type": "code",
   "execution_count": 14,
   "metadata": {
    "ExecuteTime": {
     "end_time": "2020-12-28T07:01:35.279025Z",
     "start_time": "2020-12-28T07:01:28.672534Z"
    }
   },
   "outputs": [
    {
     "name": "stderr",
     "output_type": "stream",
     "text": [
      "C:\\Users\\67416\\anaconda3\\lib\\site-packages\\sklearn\\feature_extraction\\text.py:484: UserWarning: The parameter 'token_pattern' will not be used since 'tokenizer' is not None'\n",
      "  warnings.warn(\"The parameter 'token_pattern' will not be used\"\n"
     ]
    }
   ],
   "source": [
    "from sklearn.feature_extraction.text import TfidfVectorizer\n",
    "from sklearn.feature_extraction.text import CountVectorizer\n",
    "from sklearn.linear_model import LogisticRegression\n",
    "from sklearn.model_selection import GridSearchCV\n",
    "\n",
    "\n",
    "def split_tokenizer(text):\n",
    "    tokens_ko = text.split()\n",
    "    return tokens_ko\n",
    "\n",
    "tfidf_vect = TfidfVectorizer(ngram_range=(1,2), tokenizer=split_tokenizer,\n",
    "                             min_df=3, max_df=0.9,analyzer = 'word')\n",
    "tfidf_vect.fit(train_dup['new'])\n",
    "tfidf_matrix_train = tfidf_vect.transform(train_df['new'])"
   ]
  },
  {
   "cell_type": "code",
   "execution_count": 15,
   "metadata": {
    "ExecuteTime": {
     "end_time": "2020-12-28T07:01:35.294971Z",
     "start_time": "2020-12-28T07:01:35.280010Z"
    }
   },
   "outputs": [
    {
     "data": {
      "text/plain": [
       "(118745, 84431)"
      ]
     },
     "execution_count": 15,
     "metadata": {},
     "output_type": "execute_result"
    }
   ],
   "source": [
    "tfidf_matrix_train.shape"
   ]
  },
  {
   "cell_type": "code",
   "execution_count": 16,
   "metadata": {
    "ExecuteTime": {
     "end_time": "2020-12-28T07:01:35.388720Z",
     "start_time": "2020-12-28T07:01:35.295969Z"
    }
   },
   "outputs": [
    {
     "data": {
      "text/plain": [
       "['\"', '\" \"', '\" (', '\" 2', '\" 4']"
      ]
     },
     "execution_count": 16,
     "metadata": {},
     "output_type": "execute_result"
    }
   ],
   "source": [
    "# tf-idf feature 이름 확인\n",
    "tfidf_vect.get_feature_names()[:5]"
   ]
  },
  {
   "cell_type": "markdown",
   "metadata": {},
   "source": [
    "### ord_div, counts 변수를 sparse 형태로 tfidf_matrix_train와 결합"
   ]
  },
  {
   "cell_type": "code",
   "execution_count": 17,
   "metadata": {
    "ExecuteTime": {
     "end_time": "2020-12-28T07:01:35.515971Z",
     "start_time": "2020-12-28T07:01:35.390278Z"
    }
   },
   "outputs": [
    {
     "data": {
      "text/plain": [
       "(118745, 84433)"
      ]
     },
     "execution_count": 17,
     "metadata": {},
     "output_type": "execute_result"
    }
   ],
   "source": [
    "import scipy.sparse as sp\n",
    "\n",
    "sparse_matrix = sp.csr_matrix(train_df[['ord_div','counts']].T)\n",
    "tfidf_matrix_train = sp.hstack((sparse_matrix.T,tfidf_matrix_train))\n",
    "tfidf_matrix_train.shape"
   ]
  },
  {
   "cell_type": "markdown",
   "metadata": {
    "ExecuteTime": {
     "end_time": "2020-12-09T07:51:04.026829Z",
     "start_time": "2020-12-09T07:51:04.021843Z"
    }
   },
   "source": [
    "# LGBM\n",
    "---"
   ]
  },
  {
   "cell_type": "code",
   "execution_count": 18,
   "metadata": {
    "ExecuteTime": {
     "end_time": "2020-12-28T07:01:35.734386Z",
     "start_time": "2020-12-28T07:01:35.516938Z"
    }
   },
   "outputs": [],
   "source": [
    "from sklearn.model_selection import train_test_split\n",
    "\n",
    "# 사전 데이터 가공 후 학습과 테스트 데이터 세트를 반환하는 함수.\n",
    "def get_train_test_dataset(df=None):\n",
    "    \n",
    "    # DataFrame의 맨 마지막 컬럼이 레이블, 나머지는 피처들\n",
    "    X_features = tfidf_matrix_train\n",
    "    y_target = df['info_']\n",
    "    \n",
    "    # train_test_split( )으로 학습과 테스트 데이터 분할. stratify=y_target으로 Stratified 기반 분할\n",
    "    X_train, X_test, y_train, y_test = \\\n",
    "    train_test_split(X_features, y_target, test_size=0.3, random_state=25, stratify=y_target)\n",
    "    \n",
    "    # 학습과 테스트 데이터 세트 반환\n",
    "    return X_train, X_test, y_train, y_test\n",
    "\n",
    "X_train, X_test, y_train, y_test = get_train_test_dataset(train_df)\n"
   ]
  },
  {
   "cell_type": "code",
   "execution_count": 19,
   "metadata": {
    "ExecuteTime": {
     "end_time": "2020-12-28T07:01:35.749346Z",
     "start_time": "2020-12-28T07:01:35.735383Z"
    }
   },
   "outputs": [],
   "source": [
    "from sklearn.metrics import confusion_matrix, accuracy_score, precision_score, recall_score, f1_score\n",
    "from sklearn.metrics import roc_auc_score\n",
    "\n",
    "# 모델의 성능을 측정하는 함수\n",
    "def get_clf_eval(y_test, pred=None, pred_proba=None):\n",
    "    confusion = confusion_matrix( y_test, pred)\n",
    "    accuracy = accuracy_score(y_test , pred)\n",
    "    precision = precision_score(y_test , pred)\n",
    "    recall = recall_score(y_test , pred)\n",
    "    f1 = f1_score(y_test,pred)    \n",
    "    roc_auc = roc_auc_score(y_test, pred_proba)\n",
    "    \n",
    "    print('오차 행렬')\n",
    "    print(confusion)\n",
    "    print('정확도: {0:.4f}, 정밀도: {1:.4f}, 재현율: {2:.4f},\\\n",
    "    F1: {3:.4f}, AUC:{4:.4f}'.format(accuracy, precision, recall, f1, roc_auc))"
   ]
  },
  {
   "cell_type": "code",
   "execution_count": 20,
   "metadata": {
    "ExecuteTime": {
     "end_time": "2020-12-28T07:01:35.764307Z",
     "start_time": "2020-12-28T07:01:35.751343Z"
    }
   },
   "outputs": [],
   "source": [
    "def get_model_train_eval(model, ftr_train=None, ftr_test=None, tgt_train=None, tgt_test=None):\n",
    "    model.fit(ftr_train, tgt_train)\n",
    "    pred = model.predict(ftr_test)\n",
    "    pred_proba = model.predict_proba(ftr_test)[:, 1]\n",
    "    get_clf_eval(tgt_test, pred, pred_proba)"
   ]
  },
  {
   "cell_type": "markdown",
   "metadata": {},
   "source": [
    "## 하이퍼 파라미터 튜닝후 최종 모델 학습\n",
    "---\n",
    "- 하이퍼 파라미터 튜닝 과정을 담은 코드는 담지 않았습니다."
   ]
  },
  {
   "cell_type": "code",
   "execution_count": 26,
   "metadata": {
    "ExecuteTime": {
     "end_time": "2020-12-28T07:03:38.645167Z",
     "start_time": "2020-12-28T07:01:35.881600Z"
    }
   },
   "outputs": [
    {
     "name": "stdout",
     "output_type": "stream",
     "text": [
      "오차 행렬\n",
      "[[21490    54]\n",
      " [  112 13968]]\n",
      "정확도: 0.9953, 정밀도: 0.9961, 재현율: 0.9920,    F1: 0.9941, AUC:0.9998\n"
     ]
    }
   ],
   "source": [
    "from sklearn.model_selection import StratifiedKFold\n",
    "import lightgbm as lgb\n",
    "from lightgbm import LGBMClassifier\n",
    "tune_lgbm = LGBMClassifier(boosting_type= 'gbdt', colsample_bytree= 0.8, learning_rate= 0.05, \n",
    "                           n_estimators= 1000, scale_pos_weight= 1.1,random_state=25,n_jobs=-1)\n",
    "#tune_lgbm.fit(tfidf_matrix_train,train_df.info_)\n",
    "get_model_train_eval(tune_lgbm,X_train,X_test,y_train,y_test)"
   ]
  },
  {
   "cell_type": "markdown",
   "metadata": {},
   "source": [
    "## 학습된 모델과, tf-idf로 변환된 데이터를 pickle형태로 저장.\n",
    "---"
   ]
  },
  {
   "cell_type": "code",
   "execution_count": null,
   "metadata": {
    "scrolled": true
   },
   "outputs": [],
   "source": [
    "import pickle\n",
    "\n",
    "with open('tfidf.pickle', 'wb') as f:\n",
    "    pickle.dump(tfidf_matrix_train, f, pickle.HIGHEST_PROTOCOL)\n",
    "\n",
    "with open('LGBM.pickle', 'wb') as f:\n",
    "    pickle.dump(tune_lgbm, f, pickle.HIGHEST_PROTOCOL)"
   ]
  }
 ],
 "metadata": {
  "kernelspec": {
   "display_name": "Python 3",
   "language": "python",
   "name": "python3"
  },
  "language_info": {
   "codemirror_mode": {
    "name": "ipython",
    "version": 3
   },
   "file_extension": ".py",
   "mimetype": "text/x-python",
   "name": "python",
   "nbconvert_exporter": "python",
   "pygments_lexer": "ipython3",
   "version": "3.8.5"
  },
  "toc": {
   "base_numbering": 1,
   "nav_menu": {},
   "number_sections": true,
   "sideBar": true,
   "skip_h1_title": false,
   "title_cell": "Table of Contents",
   "title_sidebar": "Contents",
   "toc_cell": false,
   "toc_position": {},
   "toc_section_display": true,
   "toc_window_display": true
  }
 },
 "nbformat": 4,
 "nbformat_minor": 2
}
