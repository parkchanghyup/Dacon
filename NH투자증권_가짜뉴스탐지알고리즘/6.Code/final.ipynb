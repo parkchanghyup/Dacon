{
  "nbformat": 4,
  "nbformat_minor": 0,
  "metadata": {
    "colab": {
      "name": "final.ipynb",
      "private_outputs": true,
      "provenance": [],
      "collapsed_sections": []
    },
    "kernelspec": {
      "display_name": "Python 3",
      "language": "python",
      "name": "python3"
    },
    "language_info": {
      "codemirror_mode": {
        "name": "ipython",
        "version": 3
      },
      "file_extension": ".py",
      "mimetype": "text/x-python",
      "name": "python",
      "nbconvert_exporter": "python",
      "pygments_lexer": "ipython3",
      "version": "3.8.5"
    },
    "toc": {
      "base_numbering": 1,
      "nav_menu": {},
      "number_sections": true,
      "sideBar": true,
      "skip_h1_title": false,
      "title_cell": "Table of Contents",
      "title_sidebar": "Contents",
      "toc_cell": false,
      "toc_position": {
        "height": "calc(100% - 180px)",
        "left": "10px",
        "top": "150px",
        "width": "165px"
      },
      "toc_section_display": true,
      "toc_window_display": true
    }
  },
  "cells": [
    {
      "cell_type": "markdown",
      "metadata": {
        "id": "view-in-github"
      },
      "source": [
        "<a href=\"https://colab.research.google.com/github/jiunny/NH_DACON/blob/feature%2Fjiunny/mecab_v2.ipynb\" target=\"_parent\"><img src=\"https://colab.research.google.com/assets/colab-badge.svg\" alt=\"Open In Colab\"/></a>"
      ]
    },
    {
      "cell_type": "markdown",
      "metadata": {
        "id": "958ELjsa4QQz"
      },
      "source": [
        "## 0. Mecab 사용자 사전 추가\n",
        "\n"
      ]
    },
    {
      "cell_type": "code",
      "metadata": {
        "id": "hXaMh4oie_5y"
      },
      "source": [
        "# mecab 설치\n",
        "!set -x \\\n",
        "&& pip install konlpy \\\n",
        "&& curl -s https://raw.githubusercontent.com/konlpy/konlpy/master/scripts/mecab.sh | bash -x\n",
        "\n",
        "# 종성 여부 판단 - nnp사전에 추가할 때 종성여부를 넣어주어야 함\n",
        "!pip install jamo"
      ],
      "execution_count": null,
      "outputs": []
    },
    {
      "cell_type": "markdown",
      "metadata": {
        "id": "DuCZf5YhaOiq"
      },
      "source": [
        "## 데이터 불러오기"
      ]
    },
    {
      "cell_type": "code",
      "metadata": {
        "id": "K1xssZBOYgTo"
      },
      "source": [
        "import pandas as pd\r\n",
        "test = pd.read_csv('/content/drive/MyDrive/data/news_test.csv') "
      ],
      "execution_count": null,
      "outputs": []
    },
    {
      "cell_type": "markdown",
      "metadata": {
        "id": "UtXQ0pMNaW9b"
      },
      "source": [
        "## 시간 측정 시작"
      ]
    },
    {
      "cell_type": "code",
      "metadata": {
        "id": "Pyo4lPZKaSSv"
      },
      "source": [
        "import time\r\n",
        "start = time.time()"
      ],
      "execution_count": null,
      "outputs": []
    },
    {
      "cell_type": "markdown",
      "metadata": {
        "id": "-b8uTxe66p-E"
      },
      "source": [
        "## 1. Load Module / Data\n",
        "- colab과 google drive 연동\n",
        "\n",
        "\n"
      ]
    },
    {
      "cell_type": "code",
      "metadata": {
        "id": "1TPNzzr469RW"
      },
      "source": [
        "'''from google.colab import drive\n",
        "drive.mount('/content/drive')'''"
      ],
      "execution_count": null,
      "outputs": []
    },
    {
      "cell_type": "markdown",
      "metadata": {
        "id": "QwA6RQrJWzYL"
      },
      "source": [
        "## Library 불러오기"
      ]
    },
    {
      "cell_type": "code",
      "metadata": {
        "id": "wPnKnxNV6b23"
      },
      "source": [
        "import numpy as np\n",
        "import re\n",
        "from konlpy.tag import Mecab\n",
        "import pickle\n",
        "from sklearn.feature_extraction.text import TfidfVectorizer\n",
        "import scipy.sparse as sp"
      ],
      "execution_count": null,
      "outputs": []
    },
    {
      "cell_type": "markdown",
      "metadata": {
        "id": "gyZeLsy2akJJ"
      },
      "source": [
        "## Tokenizer,Model,외부 데이터 불러오기"
      ]
    },
    {
      "cell_type": "code",
      "metadata": {
        "id": "HBbNW2enaoCK"
      },
      "source": [
        "def split_tokenizer(text):\r\n",
        "    tokens_ko = text.split()\r\n",
        "    return tokens_ko\r\n",
        "\r\n",
        "# tf-idf 로딩\r\n",
        "with open( \"/content/drive/MyDrive/tfidf\", \"rb\" ) as file:\r\n",
        "    tfidf_vect = pickle.load(file)\r\n",
        "\r\n",
        "# lgbm model 로딩\r\n",
        "with open( \"/content/drive/MyDrive/lgbm\", \"rb\" ) as file:\r\n",
        "    tune_lgbm = pickle.load(file)\r\n",
        "\r\n",
        "# 외부데이터 로딩\r\n",
        "with open( \"/content/drive/MyDrive/cover\", \"rb\" ) as file:\r\n",
        "    cover = pickle.load(file)"
      ],
      "execution_count": null,
      "outputs": []
    },
    {
      "cell_type": "markdown",
      "metadata": {
        "id": "Bk_QHcb2auyZ"
      },
      "source": [
        "## 형태소 분석 + 전처리"
      ]
    },
    {
      "cell_type": "markdown",
      "metadata": {
        "id": "OqhDH5E4ZrnF"
      },
      "source": [
        "### mecab 사용자 사전 추가\r\n"
      ]
    },
    {
      "cell_type": "code",
      "metadata": {
        "id": "5rz056E_YPhn"
      },
      "source": [
        "# 초기에 만들어져 있던 nnp사전\r\n",
        "with open(\"/tmp/mecab-ko-dic-2.1.1-20180720/user-dic/nnp.csv\", 'r', encoding='utf-8') as f: \r\n",
        "    file_data = f.readlines()\r\n",
        "\r\n",
        "# dict_ls는 넣고싶은 nnp 목록(list 형태)\r\n",
        "dict_ls = '코로나19, 확진자, 관련주, 순매수, 상한가, 이데일리, 저가, 줄상한가,급등, \\\r\n",
        "증권사, 1위, 수혜주,文대통령, 상승세, 하락세, 렘데시비르, \\\r\n",
        "삼성전자, 골든클럽, 신라젠, 실시간, 하이스탁론, 치료제,알테오젠, \\\r\n",
        "임상3상, 임상, 5G, CGV, 대장주, 장중, 본격화, 유상증자, 에이치엘비, \\\r\n",
        "렘데시비르, 카톡방,세일, 순 매도, 하이스탁론 ,코로나 , 테크노밸리, 코미팜,\\\r\n",
        "익스프리언스,비과세,삼성전자,lg전자,확진자,헬스케어,황제주,실적,재배포,전국적,2020년,\\\r\n",
        "홈쇼핑,비대면,홈쇼핑사,씽크풀스탁론,마이크론, 추천주, 대박주, 스탁론,셀트리온그룹,아시아나,한화솔루션,솔루션,핫이슈,이슈,\\\r\n",
        "베팅,NH투자,통합당,언택트,에스오일,바이오시밀러,셀트리온,협력사,LG디스플레이,SK이노베이션,SK디앤디,케이피에스,저가항공'.replace(\" \", '').split(',')\r\n",
        "\r\n",
        "# 종성여부를 판단하는 사용자 정의함수\r\n",
        "from jamo import h2j, j2hcj \r\n",
        "def get_jongsung_TF(sample_text): \r\n",
        "    sample_text_list = list(sample_text) \r\n",
        "    last_word = sample_text_list[-1]\r\n",
        "    last_word_jamo_list = list(j2hcj(h2j(last_word))) \r\n",
        "    last_jamo = last_word_jamo_list[-1] \r\n",
        "     \r\n",
        "    jongsung_TF = \"T\" \r\n",
        "    \r\n",
        "    if last_jamo in ['ㅏ', 'ㅑ', 'ㅓ', 'ㅕ', 'ㅗ', 'ㅛ', 'ㅜ', 'ㅠ', 'ㅡ', 'ㅣ', 'ㅘ', 'ㅚ', 'ㅙ', 'ㅝ', 'ㅞ', 'ㅢ', 'ㅐ,ㅔ', 'ㅟ', 'ㅖ', 'ㅒ']: \r\n",
        "        jongsung_TF = \"F\"\r\n",
        "\r\n",
        "    return jongsung_TF\r\n",
        "\r\n",
        "# nnp추가 형식에 맞추어서 dict_ls 추가과정\r\n",
        "for word in dict_ls: \r\n",
        "    jongsung_TF = get_jongsung_TF(word) \r\n",
        "    line = '{},,,,NNP,*,{},{},*,*,*,*,*\\n'.format(word, jongsung_TF, word) \r\n",
        "    file_data.append(line)\r\n",
        "\r\n",
        "with open(\"/tmp/mecab-ko-dic-2.1.1-20180720/user-dic/nnp.csv\", 'w', encoding='utf-8') as f: \r\n",
        "    for line in file_data: \r\n",
        "        f.write(line)\r\n",
        "\r\n",
        "# make 파일을 통해서 최종 compile\r\n",
        "!bash /tmp/mecab-ko-dic-2.1.1-20180720/tools/add-userdic.sh\r\n",
        "%cd /tmp/mecab-ko-dic-2.1.1-20180720/\r\n",
        "!./configure\r\n",
        "!make\r\n",
        "!make install"
      ],
      "execution_count": null,
      "outputs": []
    },
    {
      "cell_type": "code",
      "metadata": {
        "id": "8GQwlSNMjjVj"
      },
      "source": [
        "mecab = Mecab()\r\n",
        "test.columns = ['n_id','date','title','content','ord','id_']"
      ],
      "execution_count": null,
      "outputs": []
    },
    {
      "cell_type": "markdown",
      "metadata": {
        "id": "0rvXj74F8WFc"
      },
      "source": [
        "## title,content 변수 전처리"
      ]
    },
    {
      "cell_type": "code",
      "metadata": {
        "id": "ATrm-4Vf9AR4"
      },
      "source": [
        "def fn_clean_var(df):\n",
        "\n",
        "    try:\n",
        "        def cleansing(text):\n",
        "            text = re.sub(\"(=*([가-힣]{2,4}|[가-힣]{6}) 기자(... [가-힣]{2,3}기자|[^가-힣]|$)=*|로봇 기자)\",r' reporter\\3 ',text) # 000기자 -> reporter로 변환\n",
        "            text = re.sub('(‘|\\\")(.+)(’|\\\")',r\" '\\2' \", text)                     # ' \" ’ -> 로  변환\n",
        "            text = re.sub('【(.+)】',r' [\\1] ', text)                              #【( 등과 같은 괄호 '[ ]' 로 변환\n",
        "            text = re.sub('[0-9]+.[0-9]+%|[0-9]+.[0-9]+%|[0-9]+%',' perc ', text)  #12% , 00% -> 'perc'로  변환\n",
        "            text = re.sub('\\w+\\([0-9]+\\)',' stock ', text)    # 삼성전자[12345] , 카카오[234421] -> 'stock' 로 변환\n",
        "            text = re.sub('(http|ftp|https)://((\\w+\\.|\\w+/|\\w+|(\\?|=|\\&)\\w+)+)', ' link ', text)  #url -> 'link' 로 변환\n",
        "            text = re.sub('[0-9]+-[0-9]+|02-[0-9]+-[0-9]+',' phone ', text)        #000-0000-0000 -> 'phone'로 변환\n",
        "            text = re.sub('TOP [0-9]+|TOP[0-9]+',' rank', text)                    # TOP 1, TOP 10 -> 'rank'로 변환\n",
        "            text = re.sub('([0-9]+|[0-9]+\\s|\\w*백|\\w*천)(억|만원|조)',' money ', text)  # 3백만원, 3천억, 3천조 -> 'money' 로변환\n",
        "            text = re.sub('[0-9]+:[0-9]+|[0-9]+시 [0-9]분',' time ', text)         # 12:12 , 12시 12 분 -> 'time'로 변환\n",
        "            text = re.sub('[0-9]+월|[0-9]+개월|[0-9]+ 개월',' month ', text)       # 00월 , 00개월, 00 개월 - >'month' 로 변환\n",
        "            text = re.sub('[0-9]+일',' day ', text)                                # [0-9]일 -> 'day'로 변환\n",
        "            text = re.sub('[0-9]+년|2020',' year ', text)                          # 00년 ,2020 -> 'year'로 변환\n",
        "            text = re.sub('([0-9]+|[0-9]+\\s)배',' bae ', text)                     # 00배 , 00 배 -> 'bae'로 변환\n",
        "            text = re.sub('코로나19|코로나 19',' 코로나 ', text)                   # 코로나19, 코로나 19 -> '코로나' 로 변환\n",
        "            text = re.sub('(\\[\\w+)(=)(\\w+\\])',r'\\1 \\2 \\3',text )                # 해럴드경제(대전)=홍길동기자 ->해럴드경제 (대전) 홍길동기자        \n",
        "            text = re.sub(\"(\\w+)(\\\")(\\w+)\",r\"\\1 \\2 \\3\",text)                    \n",
        "            text = re.sub('(&nbsp;)|(&nbsp)|(&#[0-9]+;)|(fffff;)|\\x03',\"\",text) # css 공통 문법 제거\n",
        "\n",
        "            if re.search('[a-zA-Z]+-[a-zA-Z]+(:|;)',text)!=None:\n",
        "                text = \" \".join(re.findall('[가-힣]+|[0-9]+[가-힣]+',text)) #css 문법(font-family 등)이 있는 경우에는 한글/숫자+한글인 것만 추출\n",
        "\n",
        "            text = re.sub('[-_+]|돋움|&[a-zA-Z]{2,100};',\" \",text)          # 돋움이라는 font가 들어있는 경우는 css에서 제거하기 힘들어서 별도로 제거 + &quot같은 것들도 제거\n",
        "            text = re.sub('(\\w+)(\\s\\.\\.+|\\.\\.+)',r\"\\1 Ellipsis \",text)     # ... , ..  -> 'Ellipsis' 로 변환\n",
        "            text = re.sub('\\.',\"\",text)                                    # 마침표 제거 \n",
        "            text = re.sub('\\s\\s+',\" \",text)                                # 공백 2개이상 -> 한개로\n",
        "\n",
        "            if re.search('\\S',text)==None:                                          # 텍스트가 비어있으면 'blank'로 채움\n",
        "                text = 'blank' \n",
        "\n",
        "            return text\n",
        "\n",
        "        # title 특수기호 추가\n",
        "        def feature(text):\n",
        "            candidates = ['!','◆','■','▶','★','↑','↓','?']\n",
        "            for candidate in candidates:\n",
        "                if candidate in text:\n",
        "                    # 특수 기호가 있으면 1\n",
        "                    return 1\n",
        "            # 없으면 0\n",
        "            return 0  \n",
        "\n",
        "        class mecab_:\n",
        "\n",
        "            def __init__(self,text):\n",
        "                self.result = mecab.pos(text)\n",
        "            \n",
        "            def fn_append_mecab(self):     # 형태소중 '조사'를 제외하고 clean_word에 추가.\n",
        "                clean_word = []\n",
        "                for word,tag in self.result:\n",
        "                    if not tag.startswith('J') :\n",
        "                        clean_word.append(word)\n",
        "                \n",
        "                return \" \".join(clean_word)        \n",
        "        \n",
        "            def fn_last_pos(self):          #첫번째 단어 형태소 추출\n",
        "                try: \n",
        "                    last_pos = self.result[-1][1]\n",
        "                    return last_pos\n",
        "                except Exception as e:\n",
        "                    last_pos = mecab.pos(re.escape(text))[-1][1]\n",
        "                    return last_pos\n",
        "\n",
        "            def fn_first_pos(self):           # 마지막 단어 형태소 추출\n",
        "                try: \n",
        "                    first_pos = self.result[0][1]\n",
        "                    return first_pos\n",
        "                except Exception as e:\n",
        "                    first_pos = mecab.pos(re.escape(text))[0][1]\n",
        "                    return first_pos\n",
        "\n",
        "        df['clean_content'] = df['content'].apply(lambda x: cleansing(x))   # 정규표현식을 이용한 텍스트 정제\n",
        "        df['clean_title'] = df['title'].apply(lambda x: cleansing(x))       # 정규표현식을 이용한 텍스트 정제\n",
        "\n",
        "        df['class_cont'] = df['clean_content'].apply(lambda x: mecab_(x)) #mecab_pos 돌린것 저장해두기\n",
        "        df['class_tit'] = df['clean_title'].apply(lambda x: mecab_(x))  #mecab_pos 돌린것 저장해두기(title))\n",
        "        \n",
        "        df['mecab_'] = df['class_cont'].apply(lambda x: x.fn_append_mecab())          #mecab_ 변수 생성\n",
        "\n",
        "        df['last_pos_content'] = df['class_cont'].apply(lambda x: x.fn_last_pos())   # content의 마지막 단어 형태소 추가\n",
        "        df['first_pos_content'] = df['class_cont'].apply(lambda x: x.fn_first_pos()) # content의 첫번째 단어 형태소 추가\n",
        "\n",
        "        df['last_pos_title'] = df['class_tit'].apply(lambda x: x.fn_last_pos())    # title의 마지막 단어 형태소 추가\n",
        "        df['first_pos_title'] = df['class_tit'].apply(lambda x: x.fn_first_pos())  # title의 첫번째 단어 형태소 추가.\n",
        "\n",
        "        df['title_feature'] = df['clean_title'].apply(lambda x :feature(x))     #title_feature 변수 추가\n",
        "\n",
        "        del df['class_cont']\n",
        "        del df['class_tit']\n",
        "\n",
        "        return df\n",
        "\n",
        "    except Exception as e:\n",
        "        print('ERRER OCCUR '+e)\n",
        "\n",
        "\n",
        "\n",
        "test_df = fn_clean_var(test)"
      ],
      "execution_count": null,
      "outputs": []
    },
    {
      "cell_type": "code",
      "metadata": {
        "id": "oouktSF-ehTE"
      },
      "source": [
        "# new 변수추가 \n",
        "test_df['new'] =  'FC'+test_df['first_pos_content']+\" \"+'FT'+test_df['first_pos_title']+\" \"+test_df['mecab_'] + \" LC\"+test_df['last_pos_content']+\" LT\"+test_df['last_pos_title']\n",
        "\n",
        "#ord 변수추가\n",
        "test_df['ord_div'] = test_df['ord'].div(test_df.groupby('n_id')['ord'].transform(lambda x: x.max()))\n",
        "\n",
        "#counts 변수추가\n",
        "counts = pd.DataFrame({'content':test_df.groupby('content').size().index,\n",
        "                       'counts' :test_df.groupby('content').size().values})\n",
        "test_df = pd.merge(test_df,counts,how='left')\n",
        "\n",
        "\n",
        "tfidf_matrix_test = tfidf_vect.transform(test_df['new'])\n",
        "sparse_matrix = sp.csr_matrix(test_df[['ord_div','counts','title_feature']].T)\n",
        "tfidf_matrix_test = sp.hstack((sparse_matrix.T,tfidf_matrix_test))"
      ],
      "execution_count": null,
      "outputs": []
    },
    {
      "cell_type": "markdown",
      "metadata": {
        "id": "Ay9z5ipzbFCq"
      },
      "source": [
        "## 예측"
      ]
    },
    {
      "cell_type": "code",
      "metadata": {
        "id": "drlFLwFxenCi"
      },
      "source": [
        "pre = tune_lgbm.predict(tfidf_matrix_test)\n",
        "test_df['pred'] = pre\n",
        "test_df.loc[test_df.content.apply(lambda x: x in cover),'pred'] = 1"
      ],
      "execution_count": null,
      "outputs": []
    },
    {
      "cell_type": "code",
      "metadata": {
        "id": "-yfqWUMueoP_"
      },
      "source": [
        "# 제출 파일 생성\n",
        "sample_submission  = pd.DataFrame(test_df[['id_','pred']])\n",
        "sample_submission.columns = [['id','pred']]"
      ],
      "execution_count": null,
      "outputs": []
    },
    {
      "cell_type": "code",
      "metadata": {
        "id": "1dGzH-WBboyC"
      },
      "source": [
        "print(time.time() - start)"
      ],
      "execution_count": null,
      "outputs": []
    },
    {
      "cell_type": "markdown",
      "metadata": {
        "id": "s8BJ-IX5blja"
      },
      "source": [
        "## 제출"
      ]
    },
    {
      "cell_type": "code",
      "metadata": {
        "id": "LnqOdpqhfcbV"
      },
      "source": [
        "sample_submission.to_csv('/content/drive/MyDrive/final_check.csv',index = False)"
      ],
      "execution_count": null,
      "outputs": []
    }
  ]
}