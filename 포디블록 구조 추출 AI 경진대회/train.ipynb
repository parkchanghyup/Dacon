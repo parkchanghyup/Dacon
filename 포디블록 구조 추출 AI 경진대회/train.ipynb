{
 "cells": [
  {
   "cell_type": "markdown",
   "id": "caroline-possibility",
   "metadata": {},
   "source": [
    "# 라이브러리 로딩"
   ]
  },
  {
   "cell_type": "code",
   "execution_count": 1,
   "id": "heavy-haiti",
   "metadata": {
    "ExecuteTime": {
     "end_time": "2023-01-15T10:54:36.476197Z",
     "start_time": "2023-01-15T10:54:36.461236Z"
    }
   },
   "outputs": [],
   "source": [
    "import warnings\n",
    "warnings.filterwarnings('ignore')"
   ]
  },
  {
   "cell_type": "code",
   "execution_count": 2,
   "id": "strategic-exposure",
   "metadata": {
    "ExecuteTime": {
     "end_time": "2023-01-15T10:54:41.347229Z",
     "start_time": "2023-01-15T10:54:36.605707Z"
    }
   },
   "outputs": [],
   "source": [
    "import pandas as pd\n",
    "import numpy as np\n",
    "import cv2\n",
    "from tqdm import tqdm\n",
    "import os\n",
    "from PIL import Image\n",
    "import glob\n",
    "\n",
    "import torch\n",
    "import torch.nn as nn\n",
    "import torch.nn.functional as F\n",
    "\n",
    "import torchvision.models as models\n",
    "import torchvision.transforms as transforms\n",
    "from torch.utils.data import DataLoader, Dataset\n",
    "import random\n",
    "import time\n",
    "\n",
    "from sklearn.model_selection import train_test_split\n",
    "\n",
    "from randaugment import RandAugment "
   ]
  },
  {
   "cell_type": "markdown",
   "id": "adjusted-bleeding",
   "metadata": {},
   "source": [
    "# 시드고정\n"
   ]
  },
  {
   "cell_type": "code",
   "execution_count": 3,
   "id": "spiritual-portfolio",
   "metadata": {
    "ExecuteTime": {
     "end_time": "2023-01-15T10:54:41.362372Z",
     "start_time": "2023-01-15T10:54:41.349229Z"
    }
   },
   "outputs": [],
   "source": [
    "def seed_everything(seed: int = 42):\n",
    "    random.seed(seed)\n",
    "    np.random.seed(seed)\n",
    "    os.environ[\"PYTHONHASHSEED\"] = str(seed)\n",
    "    torch.manual_seed(seed)\n",
    "    torch.cuda.manual_seed(seed)\n",
    "\n",
    "seed_everything()"
   ]
  },
  {
   "cell_type": "code",
   "execution_count": 4,
   "id": "major-driving",
   "metadata": {
    "ExecuteTime": {
     "end_time": "2023-01-15T10:54:41.377668Z",
     "start_time": "2023-01-15T10:54:41.364369Z"
    }
   },
   "outputs": [],
   "source": [
    "class CustomDataset(Dataset):\n",
    "    def __init__(self, img_path_list, label_list, transforms=None):\n",
    "        self.img_path_list = img_path_list\n",
    "        self.label_list = label_list\n",
    "        self.transforms = transforms\n",
    "        \n",
    "    def __getitem__(self, index):\n",
    "        img_path = self.img_path_list[index]\n",
    "        img_path = './train_2/'+img_path.split('/')[-1]\n",
    "        image = Image.open(img_path).convert('RGB')\n",
    "        \n",
    "        if self.transforms is not None:\n",
    "            image = self.transforms(image)\n",
    "        if self.label_list is not None:\n",
    "            label = torch.FloatTensor(self.label_list[index])\n",
    "            return image, label\n",
    "        else:\n",
    "            return image\n",
    "        \n",
    "    def __len__(self):\n",
    "        return len(self.img_path_list)"
   ]
  },
  {
   "cell_type": "code",
   "execution_count": 5,
   "id": "detected-grammar",
   "metadata": {
    "ExecuteTime": {
     "end_time": "2023-01-15T10:54:41.393058Z",
     "start_time": "2023-01-15T10:54:41.378668Z"
    }
   },
   "outputs": [],
   "source": [
    "def get_train_val(df):\n",
    "    df = df.sample(frac=1)\n",
    "    train_len = int(len(df) * 0.8)\n",
    "    train_df = df[:train_len]\n",
    "    val_df = df[train_len:]\n",
    "    \n",
    "    train_x, train_y  = train_df['img_path'].to_list(), train_df.iloc[:,2:].values\n",
    "    val_x, val_y = val_df['img_path'].to_list(), val_df.iloc[:,2:].values\n",
    " \n",
    "    return train_x,train_y, val_x,val_y\n",
    "\n",
    "\n",
    "def get_dataloader(df,mode,batch_size):\n",
    "    \"\"\"\n",
    "    데이터프레임을 dataloader형태로 반환하는 함수\n",
    "    \"\"\"\n",
    "    \n",
    "    normalize = transforms.Normalize(mean=[0.485, 0.456, 0.406], std=[0.229, 0.224, 0.225])\n",
    "    \n",
    "    # augmentations 적용 \n",
    "    train_augmentations = transforms.Compose([   \n",
    "                    transforms.Resize((224, 224)),\n",
    "                    #transforms.RandomResizedCrop(224),\n",
    "#                     transforms.RandomCrop(224),\n",
    "#                     transforms.RandomRotation(30),\n",
    "#                     transforms.RandomGrayscale(p=0.4),\n",
    "#                     transforms.Grayscale(num_output_channels=3),\n",
    "#                     transforms.RandomAffine(45, shear=0.2),\n",
    "#                     transforms.ColorJitter(),\n",
    "                    RandAugment(), \n",
    "                    transforms.RandomHorizontalFlip(),\n",
    "                    #transforms.Lambda(utils.randomColor),\n",
    "                    #transforms.Lambda(utils.randomBlur),\n",
    "                    #transforms.Lambda(utils.randomGaussian),\n",
    "                    transforms.ToTensor(),\n",
    "                    normalize,\n",
    "            ])\n",
    "    valid_augmentations = transforms.Compose([\n",
    "                    transforms.Resize((224, 224)),\n",
    "                    #transforms.CenterCrop(299),\n",
    "                    #transforms.Grayscale(num_output_channels=3),\n",
    "                    transforms.ToTensor(),\n",
    "                    normalize\n",
    "        ])\n",
    "    \n",
    "    if mode == 'TRAIN':\n",
    "\n",
    "        train_x,train_y, val_x,val_y = get_train_val(df)\n",
    "\n",
    "        # Data Loader\n",
    "        train_dataset = CustomDataset(train_x,train_y, transforms = train_augmentations)\n",
    "        valid_dataset = CustomDataset(val_x, val_y, transforms = valid_augmentations)\n",
    "        \n",
    "        train_data_loader = DataLoader(\n",
    "            train_dataset,\n",
    "            batch_size = batch_size,\n",
    "            shuffle = True,\n",
    "            num_workers = 16,\n",
    "            pin_memory = True\n",
    "        )\n",
    "        valid_data_loader = DataLoader(\n",
    "            valid_dataset,\n",
    "            batch_size = batch_size,\n",
    "            shuffle = False,\n",
    "            num_workers = 16,\n",
    "            pin_memory = True\n",
    "        )\n",
    "        return train_data_loader, valid_data_loader\n",
    "    \n",
    "    else :\n",
    "        test_dataset = CustomDataset( img_path_list = df['img_path'], transforms = valid_augmentations)\n",
    "        test_data_loader = DataLoader(\n",
    "            test_dataset,\n",
    "            batch_size = batch_size,\n",
    "            shuffle = False,\n",
    "            num_workers = 16,\n",
    "            drop_last = False\n",
    "        )\n",
    "        return test_data_loader\n",
    "        \n",
    "\n",
    "    "
   ]
  },
  {
   "cell_type": "code",
   "execution_count": 6,
   "id": "passing-phone",
   "metadata": {
    "ExecuteTime": {
     "end_time": "2023-01-15T10:57:14.924442Z",
     "start_time": "2023-01-15T10:57:14.910482Z"
    }
   },
   "outputs": [],
   "source": [
    "def train_model(model, dataloaders_dict, optimizer, num_epochs, device, model_type):\n",
    "    \"\"\"\n",
    "    train 데이터로 모델을 학습하고 valid 데이터로 모델을 검증하는 코드\n",
    "\n",
    "    파라미터\n",
    "    ---\n",
    "    model : \n",
    "        학습할 모델\n",
    "    dataloaders_dict : dict\n",
    "        train_dataloader과 validation_datalodaer가 들어 있는 dictonary\n",
    "    optimizer : \n",
    "        최적화 함수\n",
    "    num_epochs : int\n",
    "        학습 횟수\n",
    "    device : cuda or cpu\n",
    "        모델을 학습할 때 사용할 장비\n",
    "    model_type : m or l or dense \n",
    "        모델 back born\n",
    "\n",
    "    returns \n",
    "    best_model :\n",
    "        검증데이터 셋 기준으로 가장 성능이 좋은 모델\n",
    "    ---\n",
    "    \"\"\"\n",
    "    lr_scheduler = torch.optim.lr_scheduler.StepLR(optimizer,\n",
    "                                                   step_size=5,\n",
    "                                                   gamma=0.9)\n",
    "    model.to(device)\n",
    "    torch.cuda.empty_cache()\n",
    "    critrion = torch.nn.CrossEntropyLoss()\n",
    "    # 학습이 어느정도 진행되면 gpu 가속화\n",
    "    #torch.backends.cudnn.benchmark = False\n",
    "\n",
    "    # loss가 제일 낮은 모델을 찾기위한 변수\n",
    "    best_val_loss = int(1e9)\n",
    "    for epoch in range(num_epochs):\n",
    "        # epoch 별 학습 및 검증\n",
    "\n",
    "        for phase in ['train', 'val']:\n",
    "            if phase == 'train':\n",
    "                model.train()  # 모델을 학습 모드로\n",
    "            else:\n",
    "                model.eval()   # 모델을 추론 모드로\n",
    "\n",
    "            epoch_loss = [] # epoch loss\n",
    "            epoch_acc = []  # epoch 정확도\n",
    "            for i,  (imgs, labels) in enumerate(dataloaders_dict[phase]):\n",
    "                images, labels = imgs, labels\n",
    "                # tensor를 gpu에 올리기\n",
    "                images = images.to(device)\n",
    "                labels = labels.to(device)\n",
    "                \n",
    "\n",
    "                # 옵티마이저 초기화 초기화\n",
    "                optimizer.zero_grad()\n",
    "\n",
    "                # 순전파 계산\n",
    "                with torch.set_grad_enabled(phase == 'train'):\n",
    "                    probs = model(images)\n",
    "                    loss = critrion(probs, labels)\n",
    "                    \n",
    "                    # 학습시 역전파\n",
    "                    if phase == 'train':\n",
    "                        loss.backward()\n",
    "                        optimizer.step()\n",
    "\n",
    "                     \n",
    "                    probs  = probs.cpu().detach().numpy()\n",
    "                    labels = labels.cpu().detach().numpy()\n",
    "                    preds = probs > 0.5\n",
    "                    batch_acc = (labels == preds).mean()\n",
    "        \n",
    "                    epoch_loss.append(loss.item())\n",
    "                    epoch_acc.append(batch_acc)\n",
    "                    \n",
    "            # epoch별 loss 및 정확도\n",
    "            epoch_loss = np.mean(epoch_loss)\n",
    "            epoch_acc = np.mean(epoch_acc)\n",
    "\n",
    "            print('Epoch {}/{} | {:^5} |  Loss: {:.4f} Acc: {:.4f}'.format(epoch+1, num_epochs,\n",
    "                                                                           phase, epoch_loss, epoch_acc))\n",
    "\n",
    "            # 검증 오차가 가장 적은 최적의 모델을 저장\n",
    "            if phase=='val' and epoch_loss < best_val_loss:\n",
    "                best_val_loss = epoch_loss\n",
    "                best_model = model\n",
    "                torch.save(best_model.state_dict(), './checkpoint/'+'{}_{}_{}.pth'.format(model_type,epoch,best_val_loss))\n",
    "                \n",
    "            lr_scheduler.step()\n",
    "\n",
    "    return best_model"
   ]
  },
  {
   "cell_type": "code",
   "execution_count": 7,
   "id": "sexual-merchandise",
   "metadata": {
    "ExecuteTime": {
     "end_time": "2023-01-15T10:57:15.255823Z",
     "start_time": "2023-01-15T10:57:15.249841Z"
    }
   },
   "outputs": [],
   "source": [
    "class BaseModel(nn.Module):\n",
    "    def __init__(self, model_type, num_classes=10):\n",
    "        super(BaseModel, self).__init__()\n",
    "        if model_type == 'm' :\n",
    "            self.backbone = models.efficientnet_v2_m(pretrained=True)\n",
    "        elif model_type == 'l' :\n",
    "            self.backbone = models.efficientnet_v2_l(pretrained=True)  \n",
    "        elif model_type =='dense':\n",
    "            self.backbone = models.densenet201(pretrained=True)  \n",
    "    \n",
    "        self.classifier = nn.Linear(1000, num_classes)\n",
    "        \n",
    "    def forward(self, x):\n",
    "        x = self.backbone(x)\n",
    "        x = F.sigmoid(self.classifier(x))\n",
    "        return x"
   ]
  },
  {
   "cell_type": "markdown",
   "id": "healthy-weather",
   "metadata": {},
   "source": [
    "# 모델 학습"
   ]
  },
  {
   "cell_type": "code",
   "execution_count": null,
   "id": "acceptable-wallpaper",
   "metadata": {
    "ExecuteTime": {
     "start_time": "2023-01-15T10:57:41.118Z"
    },
    "scrolled": true
   },
   "outputs": [],
   "source": [
    "dataframe = pd.read_csv('open/train.csv')\n",
    "best_models = []\n",
    "# 교차 검증을 진행할 K\n",
    "K = 10\n",
    "for model_type in ['m','l','dense']:\n",
    "    for i in range(K):\n",
    "\n",
    "        train_loader, val_loader = get_dataloader(\n",
    "            dataframe, mode='TRAIN', batch_size=16)\n",
    "\n",
    "\n",
    "        #  dict 형식으로 data loader 정의\n",
    "        dataloaders_dict = {\"train\": train_loader, \"val\": val_loader}\n",
    "        num_epochs = 200\n",
    "        max_grad_norm = 1\n",
    "        learning_rate = 0.0005\n",
    "\n",
    "        device = torch.device(\"cuda\" if torch.cuda.is_available() else \"cpu\")\n",
    "        print('사용하는 device :', device)\n",
    "        print('--------------------', i+1, '/', K,\n",
    "              '- fold start--------------------')\n",
    "\n",
    "        model = BaseModel(model_type)\n",
    "\n",
    "        optimizer = torch.optim.AdamW(model.parameters(), lr = learning_rate)\n",
    "\n",
    "        best_model = train_model(model, dataloaders_dict,\n",
    "                                 optimizer, num_epochs, device, model_type)\n",
    "        best_models.append(best_model)"
   ]
  }
 ],
 "metadata": {
  "kernelspec": {
   "display_name": "harvey",
   "language": "python",
   "name": "harvey"
  },
  "language_info": {
   "codemirror_mode": {
    "name": "ipython",
    "version": 3
   },
   "file_extension": ".py",
   "mimetype": "text/x-python",
   "name": "python",
   "nbconvert_exporter": "python",
   "pygments_lexer": "ipython3",
   "version": "3.7.10"
  },
  "toc": {
   "base_numbering": 1,
   "nav_menu": {},
   "number_sections": true,
   "sideBar": true,
   "skip_h1_title": false,
   "title_cell": "Table of Contents",
   "title_sidebar": "Contents",
   "toc_cell": false,
   "toc_position": {},
   "toc_section_display": true,
   "toc_window_display": false
  }
 },
 "nbformat": 4,
 "nbformat_minor": 5
}
