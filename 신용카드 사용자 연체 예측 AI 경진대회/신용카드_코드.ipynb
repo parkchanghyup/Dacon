{
  "nbformat": 4,
  "nbformat_minor": 5,
  "metadata": {
    "colab": {
      "name": "Simple_Baseline LGBM - LB 0.72728.ipynb",
      "provenance": [],
      "collapsed_sections": [],
      "toc_visible": true
    },
    "kernelspec": {
      "display_name": "torch171",
      "language": "python",
      "name": "torch171"
    },
    "language_info": {
      "codemirror_mode": {
        "name": "ipython",
        "version": 3
      },
      "file_extension": ".py",
      "mimetype": "text/x-python",
      "name": "python",
      "nbconvert_exporter": "python",
      "pygments_lexer": "ipython3",
      "version": "3.7.5"
    },
    "toc": {
      "base_numbering": 1,
      "nav_menu": {},
      "number_sections": true,
      "sideBar": true,
      "skip_h1_title": false,
      "title_cell": "Table of Contents",
      "title_sidebar": "Contents",
      "toc_cell": false,
      "toc_position": {},
      "toc_section_display": true,
      "toc_window_display": false
    },
    "varInspector": {
      "cols": {
        "lenName": 16,
        "lenType": 16,
        "lenVar": 40
      },
      "kernels_config": {
        "python": {
          "delete_cmd_postfix": "",
          "delete_cmd_prefix": "del ",
          "library": "var_list.py",
          "varRefreshCmd": "print(var_dic_list())"
        },
        "r": {
          "delete_cmd_postfix": ") ",
          "delete_cmd_prefix": "rm(",
          "library": "var_list.r",
          "varRefreshCmd": "cat(var_dic_list()) "
        }
      },
      "types_to_exclude": [
        "module",
        "function",
        "builtin_function_or_method",
        "instance",
        "_Feature"
      ],
      "window_display": false
    }
  },
  "cells": [
    {
      "cell_type": "markdown",
      "metadata": {
        "id": "hGi6414zmvG9"
      },
      "source": [
        " # 신용카드 사용자 연체 예측 AI 경진대회\n",
        " - 2021.04.05 ~ 2021.05.24\n",
        " - private : 0.67995 (165등, 상위 22%)\n",
        " ---\n",
        " 정형데이터 대회 참가는 처음이었다.\n",
        "  처음 코드를 짤 때는 코드공유 게시판의 `최정명`님의 코드를 바탕으로 작성하였고, 이후 내가 원하는 방식으로 변수나, 모델을 수정하며 대회를 참가하였다.   \n",
        "    \n",
        "  이번대회를 통해 얻을 수 있었던 것은  \n",
        "1. 어떤 모델이든 일단 적용해보고 봐야한다는것. \n",
        "    - RF의 성능이 꽤 괜찮았음.\n",
        "    - 앙상블은 어떤 경우라도 성능향상이 ...\n",
        "2. 정형데이터의 경우 Feature engineering가 정말 중요하다는 것.\n",
        "    - 다른 사람의 코드를 보니, 변수 추가나, 다양한 방식으로 전처리를 진행 한것을보고 내가 조금 게을렀다고 생각들었다.  \n",
        "  \n",
        "  \n",
        "  끝으로 결과가 다소 아쉽지만, 여러가지 배울점이 많았던 대회이고 게을러지지 말아야 겠다고 생각 드는 대회였다. \n",
        "\n",
        "\n"
      ],
      "id": "hGi6414zmvG9"
    },
    {
      "cell_type": "markdown",
      "metadata": {
        "id": "stuck-muslim"
      },
      "source": [
        "# Library"
      ],
      "id": "stuck-muslim"
    },
    {
      "cell_type": "code",
      "metadata": {
        "id": "ancient-translator"
      },
      "source": [
        "import warnings\n",
        "warnings.filterwarnings('ignore')\n",
        "import glob\n",
        "import pandas as pd\n",
        "import numpy as np\n",
        "from lightgbm import LGBMClassifier\n",
        "from sklearn.model_selection import StratifiedKFold\n",
        "from sklearn.preprocessing import OneHotEncoder\n",
        "import random"
      ],
      "id": "ancient-translator",
      "execution_count": null,
      "outputs": []
    },
    {
      "cell_type": "markdown",
      "metadata": {
        "id": "altered-latin"
      },
      "source": [
        "# Data Load & Preprocessing\n",
        "- 훈련에 필요없는 index 컬럼 삭제.\n",
        "- missing value를 모두 NAN 문자열로 대체\n",
        "- dtype object 인 컬럼들을 onehot encoding"
      ],
      "id": "altered-latin"
    },
    {
      "cell_type": "code",
      "metadata": {
        "id": "w9wD8WhQowI7"
      },
      "source": [
        "train = pd.read_csv('train.csv')\n",
        "train = train.drop(['index'], axis=1)\n",
        "train.fillna('NAN', inplace=True)\n",
        "\n",
        "test = pd.read_csv('test.csv')\n",
        "test = test.drop(['index'], axis=1)\n",
        "test.fillna('NAN', inplace=True)\n",
        "\n",
        "submit = pd.read_csv('sample_submission.csv')"
      ],
      "id": "w9wD8WhQowI7",
      "execution_count": null,
      "outputs": []
    },
    {
      "cell_type": "markdown",
      "metadata": {
        "id": "_B5BmSV8ico4"
      },
      "source": [
        "## 중복 제거\n",
        "---\n",
        "- credit 제외 중복제거\n",
        "- credit, begin_month 제외 중복제거\n",
        "\n",
        "위 두가지를 모두 적용해 보았지만, 제거되는 행 갯수가 너무많아 오히려 과적합이 심하게 발생됨.   \n",
        "\n",
        "따라서 중복 제거는 따로 적용해주지 않음."
      ],
      "id": "_B5BmSV8ico4"
    },
    {
      "cell_type": "code",
      "metadata": {
        "id": "aNz8ACLAS7y6"
      },
      "source": [
        "# credit 제외 중복제거(적용 x )\n",
        "'''\n",
        "\n",
        "train = train.drop_duplicates(['gender', 'car', 'reality', 'child_num', 'income_total', 'income_type',\n",
        "       'edu_type', 'family_type', 'house_type', 'DAYS_BIRTH', 'DAYS_EMPLOYED',\n",
        "       'FLAG_MOBIL', 'work_phone', 'phone', 'email', 'occyp_type',\n",
        "       'family_size','begin_month'])\n",
        "train.reset_index(drop= True,inplace=  True)'''"
      ],
      "id": "aNz8ACLAS7y6",
      "execution_count": null,
      "outputs": []
    },
    {
      "cell_type": "code",
      "metadata": {
        "id": "uso68E67TioN"
      },
      "source": [
        "# credit,begin_month 제외 중복제거 (적용 x)\n",
        "'''\n",
        "train = train.drop_duplicates(['gender', 'car', 'reality', 'child_num', 'income_total', 'income_type',\n",
        "       'edu_type', 'family_type', 'house_type', 'DAYS_BIRTH', 'DAYS_EMPLOYED',\n",
        "       'FLAG_MOBIL', 'work_phone', 'phone', 'email', 'occyp_type',\n",
        "       'family_size'])\n",
        "\n",
        "train.reset_index(drop= True,inplace=  True)\n",
        "\n",
        "'''"
      ],
      "id": "uso68E67TioN",
      "execution_count": null,
      "outputs": []
    },
    {
      "cell_type": "markdown",
      "metadata": {
        "id": "43bU5vX4jCIK"
      },
      "source": [
        "## 필요없는 변수 제거\n",
        "---\n",
        "- occyp_type 의 경우 결측치가 많아 변수 자체를 제거해 보았지만 성능이 오히려 안좋게 나옴\n",
        "- child_num 의경우 family_size와 상관관계가 뚜렷했기때문에 제거해줌."
      ],
      "id": "43bU5vX4jCIK"
    },
    {
      "cell_type": "code",
      "metadata": {
        "id": "Xu6hnUVw-YtH"
      },
      "source": [
        "# occyp_type 제거 코드 (적용 x)\n",
        "'''\n",
        "train.drop('occyp_type',axis= 1 ,inplace = True)\n",
        "test.drop('occyp_type',axis= 1 ,inplace = True)\n",
        "'''"
      ],
      "id": "Xu6hnUVw-YtH",
      "execution_count": null,
      "outputs": []
    },
    {
      "cell_type": "code",
      "metadata": {
        "id": "by0VoN7rNYgw"
      },
      "source": [
        "train.drop(columns = 'child_num', inplace=True)\n",
        "test.drop(columns = 'child_num', inplace=True)"
      ],
      "id": "by0VoN7rNYgw",
      "execution_count": null,
      "outputs": []
    },
    {
      "cell_type": "markdown",
      "metadata": {
        "id": "2vXJkqkpfqzz"
      },
      "source": [
        "## 수치형 데이터중 음수를 양수로 변환 시켜주고, 일별 데이터를 년도별 데이터로 변환\n",
        "---\n",
        "- 코드 공유를 통해 얻은 전처리 방법."
      ],
      "id": "2vXJkqkpfqzz"
    },
    {
      "cell_type": "code",
      "metadata": {
        "id": "gSp9Ny9ccS5A"
      },
      "source": [
        "train['DAYS_BIRTH'] = -1 * train['DAYS_BIRTH']  /365\n",
        "train['DAYS_EMPLOYED'] = -1 * train['DAYS_EMPLOYED']   / 365\n",
        "\n",
        "train['begin_month'] = -1 * train['begin_month']  \n",
        "\n",
        "test['DAYS_BIRTH'] = -1 * test['DAYS_BIRTH']  /365\n",
        "test['DAYS_EMPLOYED'] = -1 * test['DAYS_EMPLOYED'] / 365\n",
        "\n",
        "test['begin_month'] = -1 * test['begin_month'] "
      ],
      "id": "gSp9Ny9ccS5A",
      "execution_count": null,
      "outputs": []
    },
    {
      "cell_type": "markdown",
      "metadata": {
        "id": "0ZkEBypOk4ip"
      },
      "source": [
        "## log 변환 \n",
        "---\n",
        "- 적용하지 않음\n",
        "- 수치형 데이터의 음수가 존재 했기때문에, 애매하여 log 변환을 적용하지 않고 정규화 시켜줌."
      ],
      "id": "0ZkEBypOk4ip"
    },
    {
      "cell_type": "code",
      "metadata": {
        "id": "gRLNFaUTk38I"
      },
      "source": [
        "# 적용 x \n",
        "'''\n",
        "candidate = ['income_total', 'DAYS_EMPLOYED', 'DAYS_BIRTH', 'begin_month']\n",
        "\n",
        "for cand in candidate :\n",
        "    train[cand] = np.log1p(train[cand])\n",
        "    test[cand] = np.log1p(test[cand])\n",
        "    '''"
      ],
      "id": "gRLNFaUTk38I",
      "execution_count": null,
      "outputs": []
    },
    {
      "cell_type": "markdown",
      "metadata": {
        "id": "B1CJn7h6ZATW"
      },
      "source": [
        "## 데이터 정규화\n",
        "---\n",
        "- 수치형 데이터중 변수 중요도가 높은 몇개의 변수만 정규화.\n"
      ],
      "id": "B1CJn7h6ZATW"
    },
    {
      "cell_type": "code",
      "metadata": {
        "colab": {
          "base_uri": "https://localhost:8080/",
          "height": 297
        },
        "id": "69ckMf_-GdQd",
        "outputId": "a374668e-14e5-49d5-9844-e600dc0cebfc"
      },
      "source": [
        "train.describe()"
      ],
      "id": "69ckMf_-GdQd",
      "execution_count": null,
      "outputs": [
        {
          "output_type": "execute_result",
          "data": {
            "text/html": [
              "<div>\n",
              "<style scoped>\n",
              "    .dataframe tbody tr th:only-of-type {\n",
              "        vertical-align: middle;\n",
              "    }\n",
              "\n",
              "    .dataframe tbody tr th {\n",
              "        vertical-align: top;\n",
              "    }\n",
              "\n",
              "    .dataframe thead th {\n",
              "        text-align: right;\n",
              "    }\n",
              "</style>\n",
              "<table border=\"1\" class=\"dataframe\">\n",
              "  <thead>\n",
              "    <tr style=\"text-align: right;\">\n",
              "      <th></th>\n",
              "      <th>child_num</th>\n",
              "      <th>income_total</th>\n",
              "      <th>DAYS_BIRTH</th>\n",
              "      <th>DAYS_EMPLOYED</th>\n",
              "      <th>FLAG_MOBIL</th>\n",
              "      <th>work_phone</th>\n",
              "      <th>phone</th>\n",
              "      <th>email</th>\n",
              "      <th>family_size</th>\n",
              "      <th>begin_month</th>\n",
              "      <th>credit</th>\n",
              "    </tr>\n",
              "  </thead>\n",
              "  <tbody>\n",
              "    <tr>\n",
              "      <th>count</th>\n",
              "      <td>8759.000000</td>\n",
              "      <td>8.759000e+03</td>\n",
              "      <td>8759.000000</td>\n",
              "      <td>8759.000000</td>\n",
              "      <td>8759.0</td>\n",
              "      <td>8759.000000</td>\n",
              "      <td>8759.000000</td>\n",
              "      <td>8759.000000</td>\n",
              "      <td>8759.000000</td>\n",
              "      <td>8759.000000</td>\n",
              "      <td>8759.000000</td>\n",
              "    </tr>\n",
              "    <tr>\n",
              "      <th>mean</th>\n",
              "      <td>0.423907</td>\n",
              "      <td>1.818872e+05</td>\n",
              "      <td>-15975.366594</td>\n",
              "      <td>60798.542642</td>\n",
              "      <td>1.0</td>\n",
              "      <td>0.218176</td>\n",
              "      <td>0.290330</td>\n",
              "      <td>0.089280</td>\n",
              "      <td>2.183012</td>\n",
              "      <td>-25.403813</td>\n",
              "      <td>1.546409</td>\n",
              "    </tr>\n",
              "    <tr>\n",
              "      <th>std</th>\n",
              "      <td>0.769883</td>\n",
              "      <td>1.004492e+05</td>\n",
              "      <td>4241.781747</td>\n",
              "      <td>138862.582193</td>\n",
              "      <td>0.0</td>\n",
              "      <td>0.413031</td>\n",
              "      <td>0.453941</td>\n",
              "      <td>0.285163</td>\n",
              "      <td>0.935804</td>\n",
              "      <td>16.646729</td>\n",
              "      <td>0.695210</td>\n",
              "    </tr>\n",
              "    <tr>\n",
              "      <th>min</th>\n",
              "      <td>0.000000</td>\n",
              "      <td>2.700000e+04</td>\n",
              "      <td>-25152.000000</td>\n",
              "      <td>-15713.000000</td>\n",
              "      <td>1.0</td>\n",
              "      <td>0.000000</td>\n",
              "      <td>0.000000</td>\n",
              "      <td>0.000000</td>\n",
              "      <td>1.000000</td>\n",
              "      <td>-60.000000</td>\n",
              "      <td>0.000000</td>\n",
              "    </tr>\n",
              "    <tr>\n",
              "      <th>25%</th>\n",
              "      <td>0.000000</td>\n",
              "      <td>1.125000e+05</td>\n",
              "      <td>-19512.500000</td>\n",
              "      <td>-3011.500000</td>\n",
              "      <td>1.0</td>\n",
              "      <td>0.000000</td>\n",
              "      <td>0.000000</td>\n",
              "      <td>0.000000</td>\n",
              "      <td>2.000000</td>\n",
              "      <td>-39.000000</td>\n",
              "      <td>1.000000</td>\n",
              "    </tr>\n",
              "    <tr>\n",
              "      <th>50%</th>\n",
              "      <td>0.000000</td>\n",
              "      <td>1.575000e+05</td>\n",
              "      <td>-15607.000000</td>\n",
              "      <td>-1379.000000</td>\n",
              "      <td>1.0</td>\n",
              "      <td>0.000000</td>\n",
              "      <td>0.000000</td>\n",
              "      <td>0.000000</td>\n",
              "      <td>2.000000</td>\n",
              "      <td>-23.000000</td>\n",
              "      <td>2.000000</td>\n",
              "    </tr>\n",
              "    <tr>\n",
              "      <th>75%</th>\n",
              "      <td>1.000000</td>\n",
              "      <td>2.250000e+05</td>\n",
              "      <td>-12407.000000</td>\n",
              "      <td>-348.000000</td>\n",
              "      <td>1.0</td>\n",
              "      <td>0.000000</td>\n",
              "      <td>1.000000</td>\n",
              "      <td>0.000000</td>\n",
              "      <td>3.000000</td>\n",
              "      <td>-11.000000</td>\n",
              "      <td>2.000000</td>\n",
              "    </tr>\n",
              "    <tr>\n",
              "      <th>max</th>\n",
              "      <td>19.000000</td>\n",
              "      <td>1.575000e+06</td>\n",
              "      <td>-7705.000000</td>\n",
              "      <td>365243.000000</td>\n",
              "      <td>1.0</td>\n",
              "      <td>1.000000</td>\n",
              "      <td>1.000000</td>\n",
              "      <td>1.000000</td>\n",
              "      <td>20.000000</td>\n",
              "      <td>0.000000</td>\n",
              "      <td>2.000000</td>\n",
              "    </tr>\n",
              "  </tbody>\n",
              "</table>\n",
              "</div>"
            ],
            "text/plain": [
              "         child_num  income_total  ...  begin_month       credit\n",
              "count  8759.000000  8.759000e+03  ...  8759.000000  8759.000000\n",
              "mean      0.423907  1.818872e+05  ...   -25.403813     1.546409\n",
              "std       0.769883  1.004492e+05  ...    16.646729     0.695210\n",
              "min       0.000000  2.700000e+04  ...   -60.000000     0.000000\n",
              "25%       0.000000  1.125000e+05  ...   -39.000000     1.000000\n",
              "50%       0.000000  1.575000e+05  ...   -23.000000     2.000000\n",
              "75%       1.000000  2.250000e+05  ...   -11.000000     2.000000\n",
              "max      19.000000  1.575000e+06  ...     0.000000     2.000000\n",
              "\n",
              "[8 rows x 11 columns]"
            ]
          },
          "metadata": {
            "tags": []
          },
          "execution_count": 10
        }
      ]
    },
    {
      "cell_type": "code",
      "metadata": {
        "id": "sPQ2rGRbZZk7"
      },
      "source": [
        "# columns = ['income_total',\t'DAYS_BIRTH',\t'DAYS_EMPLOYED',\t'FLAG_MOBIL',\t'work_phone',\t'phone',\t'email',\t'family_size',\t'begin_month']\n",
        "columns = ['income_total','DAYS_BIRTH','DAYS_EMPLOYED']"
      ],
      "id": "sPQ2rGRbZZk7",
      "execution_count": null,
      "outputs": []
    },
    {
      "cell_type": "code",
      "metadata": {
        "id": "J_jEMPAFY_xh"
      },
      "source": [
        "from sklearn.preprocessing import *\n",
        "\n",
        "standardScaler = StandardScaler()\n",
        "standardScaler = standardScaler.fit(train[columns])\n",
        "\n",
        "train[columns]= standardScaler.transform(train[columns])\n",
        "# test 셋에도 동일 하게 적용.\n",
        "test[columns]=standardScaler.transform(test[columns])"
      ],
      "id": "J_jEMPAFY_xh",
      "execution_count": null,
      "outputs": []
    },
    {
      "cell_type": "code",
      "metadata": {
        "colab": {
          "base_uri": "https://localhost:8080/",
          "height": 366
        },
        "id": "t7Rt2ugmZwx5",
        "outputId": "f1184ffe-3b6f-48a6-bf6e-5377f49b236d"
      },
      "source": [
        "train.head()"
      ],
      "id": "t7Rt2ugmZwx5",
      "execution_count": null,
      "outputs": [
        {
          "output_type": "execute_result",
          "data": {
            "text/html": [
              "<div>\n",
              "<style scoped>\n",
              "    .dataframe tbody tr th:only-of-type {\n",
              "        vertical-align: middle;\n",
              "    }\n",
              "\n",
              "    .dataframe tbody tr th {\n",
              "        vertical-align: top;\n",
              "    }\n",
              "\n",
              "    .dataframe thead th {\n",
              "        text-align: right;\n",
              "    }\n",
              "</style>\n",
              "<table border=\"1\" class=\"dataframe\">\n",
              "  <thead>\n",
              "    <tr style=\"text-align: right;\">\n",
              "      <th></th>\n",
              "      <th>gender</th>\n",
              "      <th>car</th>\n",
              "      <th>reality</th>\n",
              "      <th>income_total</th>\n",
              "      <th>income_type</th>\n",
              "      <th>edu_type</th>\n",
              "      <th>family_type</th>\n",
              "      <th>house_type</th>\n",
              "      <th>DAYS_BIRTH</th>\n",
              "      <th>DAYS_EMPLOYED</th>\n",
              "      <th>FLAG_MOBIL</th>\n",
              "      <th>work_phone</th>\n",
              "      <th>phone</th>\n",
              "      <th>email</th>\n",
              "      <th>occyp_type</th>\n",
              "      <th>family_size</th>\n",
              "      <th>begin_month</th>\n",
              "      <th>credit</th>\n",
              "    </tr>\n",
              "  </thead>\n",
              "  <tbody>\n",
              "    <tr>\n",
              "      <th>0</th>\n",
              "      <td>F</td>\n",
              "      <td>N</td>\n",
              "      <td>N</td>\n",
              "      <td>0.149136</td>\n",
              "      <td>Commercial associate</td>\n",
              "      <td>Higher education</td>\n",
              "      <td>Married</td>\n",
              "      <td>Municipal apartment</td>\n",
              "      <td>-0.490075</td>\n",
              "      <td>0.463930</td>\n",
              "      <td>0.0</td>\n",
              "      <td>-0.538417</td>\n",
              "      <td>-0.645705</td>\n",
              "      <td>-0.316937</td>\n",
              "      <td>NAN</td>\n",
              "      <td>-0.214735</td>\n",
              "      <td>-1.215231</td>\n",
              "      <td>1.0</td>\n",
              "    </tr>\n",
              "    <tr>\n",
              "      <th>1</th>\n",
              "      <td>F</td>\n",
              "      <td>N</td>\n",
              "      <td>Y</td>\n",
              "      <td>0.590848</td>\n",
              "      <td>Commercial associate</td>\n",
              "      <td>Secondary / secondary special</td>\n",
              "      <td>Civil marriage</td>\n",
              "      <td>House / apartment</td>\n",
              "      <td>-1.089621</td>\n",
              "      <td>0.440878</td>\n",
              "      <td>0.0</td>\n",
              "      <td>-0.538417</td>\n",
              "      <td>-0.645705</td>\n",
              "      <td>3.155199</td>\n",
              "      <td>Laborers</td>\n",
              "      <td>0.876135</td>\n",
              "      <td>-1.275620</td>\n",
              "      <td>1.0</td>\n",
              "    </tr>\n",
              "    <tr>\n",
              "      <th>2</th>\n",
              "      <td>M</td>\n",
              "      <td>Y</td>\n",
              "      <td>Y</td>\n",
              "      <td>2.578550</td>\n",
              "      <td>Working</td>\n",
              "      <td>Higher education</td>\n",
              "      <td>Married</td>\n",
              "      <td>House / apartment</td>\n",
              "      <td>0.744719</td>\n",
              "      <td>0.461929</td>\n",
              "      <td>0.0</td>\n",
              "      <td>-0.538417</td>\n",
              "      <td>1.548696</td>\n",
              "      <td>-0.316937</td>\n",
              "      <td>Managers</td>\n",
              "      <td>-0.214735</td>\n",
              "      <td>-0.249003</td>\n",
              "      <td>2.0</td>\n",
              "    </tr>\n",
              "    <tr>\n",
              "      <th>3</th>\n",
              "      <td>F</td>\n",
              "      <td>N</td>\n",
              "      <td>Y</td>\n",
              "      <td>0.149136</td>\n",
              "      <td>Commercial associate</td>\n",
              "      <td>Secondary / secondary special</td>\n",
              "      <td>Married</td>\n",
              "      <td>House / apartment</td>\n",
              "      <td>-0.207081</td>\n",
              "      <td>0.444893</td>\n",
              "      <td>0.0</td>\n",
              "      <td>-0.538417</td>\n",
              "      <td>1.548696</td>\n",
              "      <td>-0.316937</td>\n",
              "      <td>Sales staff</td>\n",
              "      <td>-0.214735</td>\n",
              "      <td>0.656836</td>\n",
              "      <td>0.0</td>\n",
              "    </tr>\n",
              "    <tr>\n",
              "      <th>4</th>\n",
              "      <td>F</td>\n",
              "      <td>Y</td>\n",
              "      <td>Y</td>\n",
              "      <td>-0.292575</td>\n",
              "      <td>State servant</td>\n",
              "      <td>Higher education</td>\n",
              "      <td>Married</td>\n",
              "      <td>House / apartment</td>\n",
              "      <td>-0.219220</td>\n",
              "      <td>0.444988</td>\n",
              "      <td>0.0</td>\n",
              "      <td>-0.538417</td>\n",
              "      <td>-0.645705</td>\n",
              "      <td>-0.316937</td>\n",
              "      <td>Managers</td>\n",
              "      <td>-0.214735</td>\n",
              "      <td>-0.007446</td>\n",
              "      <td>2.0</td>\n",
              "    </tr>\n",
              "  </tbody>\n",
              "</table>\n",
              "</div>"
            ],
            "text/plain": [
              "  gender car reality  ...  family_size begin_month credit\n",
              "0      F   N       N  ...    -0.214735   -1.215231    1.0\n",
              "1      F   N       Y  ...     0.876135   -1.275620    1.0\n",
              "2      M   Y       Y  ...    -0.214735   -0.249003    2.0\n",
              "3      F   N       Y  ...    -0.214735    0.656836    0.0\n",
              "4      F   Y       Y  ...    -0.214735   -0.007446    2.0\n",
              "\n",
              "[5 rows x 18 columns]"
            ]
          },
          "metadata": {
            "tags": []
          },
          "execution_count": 80
        }
      ]
    },
    {
      "cell_type": "markdown",
      "metadata": {
        "id": "B2Hpba-4ksu4"
      },
      "source": [
        "## bool 형 데이터 변환\n",
        "---\n",
        "- phone, mobile 등 소지 여부를 나타내는 변수가 int 형으로 입력 되어있었기 때문에, 카테고리화 적용."
      ],
      "id": "B2Hpba-4ksu4"
    },
    {
      "cell_type": "code",
      "metadata": {
        "id": "_dtF-z0BksMM"
      },
      "source": [
        "columns  = ['FLAG_MOBIL','work_phone','phone','email']\n",
        "train[columns] = train[columns].astype('category')\n",
        "test[columns] = test[columns].astype('category')"
      ],
      "id": "_dtF-z0BksMM",
      "execution_count": null,
      "outputs": []
    },
    {
      "cell_type": "markdown",
      "metadata": {
        "id": "7PugiQUCfo1T"
      },
      "source": [
        "## 이상치 제거\n",
        "---\n",
        "- 변수 중요도가 높은 것을 기준으로 이상치를 제거 해보았지만, 어떻게 제거를 하든지, 성능이 않좋아 져서 적용하지 않음."
      ],
      "id": "7PugiQUCfo1T"
    },
    {
      "cell_type": "code",
      "metadata": {
        "colab": {
          "base_uri": "https://localhost:8080/"
        },
        "id": "nsgnvNg0IwLN",
        "outputId": "318feebf-9b4d-4046-811b-87d28561024f"
      },
      "source": [
        "# 이상치 제거 (적용 x)\n",
        "'''\n",
        "def remove_outlier(train,column):\n",
        "    df = train[column]\n",
        "    # 1분위수\n",
        "    quan_25 = np.percentile(df.values, 25)\n",
        "    \n",
        "    # 3분위수\n",
        "    quan_75 = np.percentile(df.values, 75)\n",
        "    \n",
        "    iqr = quan_75 - quan_25\n",
        "    \n",
        "    lowest = quan_25 - iqr * 1.5\n",
        "    highest = quan_75 + iqr * 1.5\n",
        "    outlier_index = df[(df < lowest) | (df > highest)].index\n",
        "    print('outlier의 수 : ' , len(outlier_index))\n",
        "    train.drop(outlier_index, axis = 0, inplace = True)\n",
        "    \n",
        "    return train\n",
        "\n",
        "candidate = ['income_total', 'DAYS_EMPLOYED', 'family_size']\n",
        "for cand in candidate:  \n",
        "    train = remove_outlier(train,cand)\n",
        "\n",
        "train.reset_index(drop = True,inplace = True)\n",
        "len(train)\n",
        "'''"
      ],
      "id": "nsgnvNg0IwLN",
      "execution_count": null,
      "outputs": [
        {
          "output_type": "stream",
          "text": [
            "outlier의 수 :  427\n",
            "outlier의 수 :  0\n",
            "outlier의 수 :  59\n"
          ],
          "name": "stdout"
        },
        {
          "output_type": "execute_result",
          "data": {
            "text/plain": [
              "25971"
            ]
          },
          "metadata": {
            "tags": []
          },
          "execution_count": 92
        }
      ]
    },
    {
      "cell_type": "markdown",
      "metadata": {
        "id": "3AkSd0FcKRJK"
      },
      "source": [
        "## 원핫인코딩"
      ],
      "id": "3AkSd0FcKRJK"
    },
    {
      "cell_type": "code",
      "metadata": {
        "id": "NiW_PkPIBtAA"
      },
      "source": [
        "train = pd.get_dummies(train)\n",
        "test = pd.get_dummies(test)"
      ],
      "id": "NiW_PkPIBtAA",
      "execution_count": null,
      "outputs": []
    },
    {
      "cell_type": "markdown",
      "metadata": {
        "id": "pressed-velvet"
      },
      "source": [
        "# 모델링\n",
        "- 데이터 분리는 StratifiedKFold 를 사용하여 y값 분포를 비슷하게 분리시킴. -> 10-fold\n",
        "- lgbm, catboost, RF, XGBoost 사용\n",
        "- 각 모델 10개를 훈련하여 저장.\n",
        "- `최정명`님 코드를 바탕으로 작성."
      ],
      "id": "pressed-velvet"
    },
    {
      "cell_type": "markdown",
      "metadata": {
        "id": "13X_Rr6flPJZ"
      },
      "source": [
        "## bayesian optimization \n",
        "---\n",
        "- bayesian optimization 를 이용하여 하이퍼 파라미터 튜닝\n",
        "- lgbm만 적용."
      ],
      "id": "13X_Rr6flPJZ"
    },
    {
      "cell_type": "code",
      "metadata": {
        "colab": {
          "base_uri": "https://localhost:8080/"
        },
        "id": "kvOePnnX5eVH",
        "outputId": "2e4839c8-c134-44a0-a136-6a096ddf1f1c"
      },
      "source": [
        "# bayesian optimization 패키지 설치\n",
        "!pip install bayesian-optimization"
      ],
      "id": "kvOePnnX5eVH",
      "execution_count": null,
      "outputs": [
        {
          "output_type": "stream",
          "text": [
            "Collecting bayesian-optimization\n",
            "  Downloading https://files.pythonhosted.org/packages/bb/7a/fd8059a3881d3ab37ac8f72f56b73937a14e8bb14a9733e68cc8b17dbe3c/bayesian-optimization-1.2.0.tar.gz\n",
            "Requirement already satisfied: numpy>=1.9.0 in /usr/local/lib/python3.7/dist-packages (from bayesian-optimization) (1.19.5)\n",
            "Requirement already satisfied: scipy>=0.14.0 in /usr/local/lib/python3.7/dist-packages (from bayesian-optimization) (1.4.1)\n",
            "Requirement already satisfied: scikit-learn>=0.18.0 in /usr/local/lib/python3.7/dist-packages (from bayesian-optimization) (0.22.2.post1)\n",
            "Requirement already satisfied: joblib>=0.11 in /usr/local/lib/python3.7/dist-packages (from scikit-learn>=0.18.0->bayesian-optimization) (1.0.1)\n",
            "Building wheels for collected packages: bayesian-optimization\n",
            "  Building wheel for bayesian-optimization (setup.py) ... \u001b[?25l\u001b[?25hdone\n",
            "  Created wheel for bayesian-optimization: filename=bayesian_optimization-1.2.0-cp37-none-any.whl size=11687 sha256=4b8decbfc92027af9b7ebab211cb70ca16eb25dbad37c85d331e0aa7233678e3\n",
            "  Stored in directory: /root/.cache/pip/wheels/5a/56/ae/e0e3c1fc1954dc3ec712e2df547235ed072b448094d8f94aec\n",
            "Successfully built bayesian-optimization\n",
            "Installing collected packages: bayesian-optimization\n",
            "Successfully installed bayesian-optimization-1.2.0\n"
          ],
          "name": "stdout"
        }
      ]
    },
    {
      "cell_type": "code",
      "metadata": {
        "id": "rjvsoSbN5gwJ"
      },
      "source": [
        "from bayes_opt import BayesianOptimization\n",
        "from sklearn.metrics import roc_auc_score\n",
        "from lightgbm import LGBMClassifier\n",
        "from sklearn.metrics import f1_score\n",
        "from sklearn.metrics import log_loss"
      ],
      "id": "rjvsoSbN5gwJ",
      "execution_count": null,
      "outputs": []
    },
    {
      "cell_type": "code",
      "metadata": {
        "id": "XUXC2Zin5nen"
      },
      "source": [
        "bayesian_params = {\n",
        "    'max_depth': (5, 20), \n",
        "    'num_leaves': (24, 64), \n",
        "    'min_child_samples': (10, 200), \n",
        "    'min_child_weight':(1, 50),\n",
        "    'subsample':(0.5, 1.0),\n",
        "    'colsample_bytree': (0.5, 1.0),\n",
        "    'max_bin':(10, 500),\n",
        "    'reg_lambda':(0.001, 10),\n",
        "    'reg_alpha': (0.01, 50) \n",
        "}\n",
        "\n",
        "def lgb_roc_eval(max_depth, num_leaves, min_child_samples, min_child_weight, subsample, \n",
        "                colsample_bytree,max_bin, reg_lambda, reg_alpha):\n",
        "    params = {\n",
        "        \"n_estimators\":1000, \"learning_rate\":0.01,\n",
        "        'max_depth': int(round(max_depth)), #  호출 시 실수형 값이 들어오므로 정수형 하이퍼 파라미터는 정수형으로 변경 \n",
        "        'num_leaves': int(round(num_leaves)), \n",
        "        'min_child_samples': int(round(min_child_samples)),\n",
        "        'min_child_weight': int(round(min_child_weight)),\n",
        "        'subsample': max(min(subsample, 1), 0), \n",
        "        'colsample_bytree': max(min(colsample_bytree, 1), 0),\n",
        "        'max_bin':  max(int(round(max_bin)),10),\n",
        "        'reg_lambda': max(reg_lambda,0),\n",
        "        'reg_alpha': max(reg_alpha, 0)\n",
        "    }\n",
        "    lgb_model = LGBMClassifier(**params)\n",
        "    lgb_model.fit(train_x, train_y, eval_set=[(train_x, train_y), (valid_x, valid_y)], verbose= 100, \n",
        "                early_stopping_rounds= 100)\n",
        "    y_pred= lgb_model.predict(valid_x)\n",
        "    #valid_proba = lgb_model.predict_proba(valid_x)[:, 1]\n",
        "    f1 = f1_score(valid_y,y_pred,average='macro')\n",
        "    \n",
        "    \n",
        "    return f1   \n",
        "\n",
        "X = train.drop(['credit'], axis = 1)\n",
        "y = train['credit']\n",
        "\n",
        "train_x, valid_x, train_y, valid_y = train_test_split(X, y, test_size=0.2, random_state=42)\n",
        "\n",
        "# BayesianOptimization객체를 수행할 함수와 search할 parameter 범위를 설정하여 생성. \n",
        "lgbBO = BayesianOptimization(lgb_roc_eval,bayesian_params , random_state=0)\n",
        "# 함수 반환값이 최대가 되는 입력값 유추를 위한 iteration 수행. \n",
        "lgbBO.maximize(init_points=5, n_iter=25)"
      ],
      "id": "XUXC2Zin5nen",
      "execution_count": null,
      "outputs": []
    },
    {
      "cell_type": "markdown",
      "metadata": {
        "id": "7wnN4rkRlhfY"
      },
      "source": [
        "## catboost"
      ],
      "id": "7wnN4rkRlhfY"
    },
    {
      "cell_type": "code",
      "metadata": {
        "colab": {
          "base_uri": "https://localhost:8080/"
        },
        "id": "CPogRNzv-8eh",
        "outputId": "70571abd-ed89-408e-e863-fa120ce8f2e7"
      },
      "source": [
        "!pip install catboost"
      ],
      "id": "CPogRNzv-8eh",
      "execution_count": null,
      "outputs": [
        {
          "output_type": "stream",
          "text": [
            "Collecting catboost\n",
            "\u001b[?25l  Downloading https://files.pythonhosted.org/packages/47/80/8e9c57ec32dfed6ba2922bc5c96462cbf8596ce1a6f5de532ad1e43e53fe/catboost-0.25.1-cp37-none-manylinux1_x86_64.whl (67.3MB)\n",
            "\u001b[K     |████████████████████████████████| 67.3MB 55kB/s \n",
            "\u001b[?25hRequirement already satisfied: graphviz in /usr/local/lib/python3.7/dist-packages (from catboost) (0.10.1)\n",
            "Requirement already satisfied: numpy>=1.16.0 in /usr/local/lib/python3.7/dist-packages (from catboost) (1.19.5)\n",
            "Requirement already satisfied: six in /usr/local/lib/python3.7/dist-packages (from catboost) (1.15.0)\n",
            "Requirement already satisfied: pandas>=0.24.0 in /usr/local/lib/python3.7/dist-packages (from catboost) (1.1.5)\n",
            "Requirement already satisfied: matplotlib in /usr/local/lib/python3.7/dist-packages (from catboost) (3.2.2)\n",
            "Requirement already satisfied: scipy in /usr/local/lib/python3.7/dist-packages (from catboost) (1.4.1)\n",
            "Requirement already satisfied: plotly in /usr/local/lib/python3.7/dist-packages (from catboost) (4.4.1)\n",
            "Requirement already satisfied: pytz>=2017.2 in /usr/local/lib/python3.7/dist-packages (from pandas>=0.24.0->catboost) (2018.9)\n",
            "Requirement already satisfied: python-dateutil>=2.7.3 in /usr/local/lib/python3.7/dist-packages (from pandas>=0.24.0->catboost) (2.8.1)\n",
            "Requirement already satisfied: kiwisolver>=1.0.1 in /usr/local/lib/python3.7/dist-packages (from matplotlib->catboost) (1.3.1)\n",
            "Requirement already satisfied: cycler>=0.10 in /usr/local/lib/python3.7/dist-packages (from matplotlib->catboost) (0.10.0)\n",
            "Requirement already satisfied: pyparsing!=2.0.4,!=2.1.2,!=2.1.6,>=2.0.1 in /usr/local/lib/python3.7/dist-packages (from matplotlib->catboost) (2.4.7)\n",
            "Requirement already satisfied: retrying>=1.3.3 in /usr/local/lib/python3.7/dist-packages (from plotly->catboost) (1.3.3)\n",
            "Installing collected packages: catboost\n",
            "Successfully installed catboost-0.25.1\n"
          ],
          "name": "stdout"
        }
      ]
    },
    {
      "cell_type": "code",
      "metadata": {
        "id": "4uiaB3YhFLrC"
      },
      "source": [
        "from catboost import CatBoostClassifier, Pool\n",
        "skf = StratifiedKFold(n_splits=10, shuffle=True, random_state=42)\n",
        "folds=[]\n",
        "for train_idx, valid_idx in skf.split(train, train['credit']):\n",
        "    folds.append((train_idx, valid_idx))"
      ],
      "id": "4uiaB3YhFLrC",
      "execution_count": null,
      "outputs": []
    },
    {
      "cell_type": "code",
      "metadata": {
        "id": "u5Fubai5ezaH"
      },
      "source": [
        "\n",
        "random.seed(42)\n",
        "cat_models={}\n",
        "sum_log = 0 \n",
        "for fold in range(10):\n",
        "    print(f'===================================={fold+1}============================================')\n",
        "    train_idx, valid_idx = folds[fold]\n",
        "    X_train, X_valid, y_train, y_valid = train.drop(['credit'],axis=1).iloc[train_idx].values, train.drop(['credit'],axis=1).iloc[valid_idx].values,\\\n",
        "                                         train['credit'][train_idx].values, train['credit'][valid_idx].values \n",
        "    model=CatBoostClassifier(random_state=42,n_estimators=2000)\n",
        "\n",
        "    model.fit(X_train, y_train, \n",
        "            eval_set=[(X_train, y_train), (X_valid, y_valid)], \n",
        "            early_stopping_rounds=50,\n",
        "           verbose=100)\n",
        "    cat_models[fold]=model\n",
        "    print(f'================================================================================\\n\\n')\n",
        "\n"
      ],
      "id": "u5Fubai5ezaH",
      "execution_count": null,
      "outputs": []
    },
    {
      "cell_type": "markdown",
      "metadata": {
        "id": "m0dDI176l1Xb"
      },
      "source": [
        "## RandomForest"
      ],
      "id": "m0dDI176l1Xb"
    },
    {
      "cell_type": "code",
      "metadata": {
        "id": "i9MSlobrCJkr"
      },
      "source": [
        "from sklearn.ensemble import RandomForestClassifier\n",
        "random.seed(42)\n",
        "rf_models={}\n",
        "sum_log = 0 \n",
        "for fold in range(10):\n",
        "    print(f'===================================={fold+1}============================================')\n",
        "    train_idx, valid_idx = folds[fold]\n",
        "    X_train, X_valid, y_train, y_valid = train.drop(['credit'],axis=1).iloc[train_idx].values, train.drop(['credit'],axis=1).iloc[valid_idx].values,\\\n",
        "                                         train['credit'][train_idx].values, train['credit'][valid_idx].values \n",
        "    model=RandomForestClassifier(random_state=42,n_estimators=1000,verbose = 1)\n",
        "    model.fit(X_train, y_train)\n",
        "    rf_models[fold]=model\n",
        "    print(f'================================================================================\\n\\n')\n"
      ],
      "id": "i9MSlobrCJkr",
      "execution_count": null,
      "outputs": []
    },
    {
      "cell_type": "code",
      "metadata": {
        "id": "0ooowlnImOeC"
      },
      "source": [
        ""
      ],
      "id": "0ooowlnImOeC",
      "execution_count": null,
      "outputs": []
    },
    {
      "cell_type": "markdown",
      "metadata": {
        "id": "b0azTZAEmPDc"
      },
      "source": [
        "## LGBM\n",
        "---\n",
        "basian optimization 을 이용하여 얻은 하이퍼 파라미터를 이용."
      ],
      "id": "b0azTZAEmPDc"
    },
    {
      "cell_type": "code",
      "metadata": {
        "id": "KAS-ucvxC6nC"
      },
      "source": [
        "random.seed(42)\n",
        "lgb_models={}\n",
        "sum_log = 0 \n",
        "for fold in range(10):\n",
        "    print(f'===================================={fold+1}============================================')\n",
        "    train_idx, valid_idx = folds[fold]\n",
        "    X_train, X_valid, y_train, y_valid = train.drop(['credit'],axis=1).iloc[train_idx].values, train.drop(['credit'],axis=1).iloc[valid_idx].values,\\\n",
        "                                         train['credit'][train_idx].values, train['credit'][valid_idx].values \n",
        "    lgb = LGBMClassifier(n_estimators=2000,\n",
        "                         max_depth=20,\n",
        "                         \n",
        "                         min_child_samples=25,\n",
        "                         learning_rate = 0.1\n",
        "                         )\n",
        "    lgb.fit(X_train, y_train, \n",
        "            eval_set=[(X_train, y_train), (X_valid, y_valid)], \n",
        "            early_stopping_rounds=100,\n",
        "           verbose=100)\n",
        "    lgb_models[fold]=lgb\n",
        "    print(f'================================================================================\\n\\n')\n",
        "\n"
      ],
      "id": "KAS-ucvxC6nC",
      "execution_count": null,
      "outputs": []
    },
    {
      "cell_type": "markdown",
      "metadata": {
        "id": "military-links"
      },
      "source": [
        "# Test inference\n",
        "- 각 fold를 훈련시킨 LGBM,RF,Catboost로 predict.\n",
        "- 해당 대회는 logloss score를 겨루는 것이기 때문에 각 class의 probability를 얻어야함.\n",
        "- 대부분의 머신러닝 모델에서 predict, predict_proba를 구분하여 사용함.\n",
        "- predict는 class 출력을 해주고 predict_proba는 class별 probability를 출력해줌.\n",
        "- predict_proba를 사용하여 예측한 것을 5-fold 더하여 평균내어 앙상블."
      ],
      "id": "military-links"
    },
    {
      "cell_type": "code",
      "metadata": {
        "id": "e6f5PflEdBv5"
      },
      "source": [
        "submit = pd.read_csv('sample_submission.csv')"
      ],
      "id": "e6f5PflEdBv5",
      "execution_count": null,
      "outputs": []
    },
    {
      "cell_type": "code",
      "metadata": {
        "id": "physical-involvement"
      },
      "source": [
        "submit.iloc[:,1:]=0\n",
        "for fold in range(10):\n",
        "    submit.iloc[:,1:] += cat_models[fold].predict_proba(test)/30"
      ],
      "id": "physical-involvement",
      "execution_count": null,
      "outputs": []
    },
    {
      "cell_type": "code",
      "metadata": {
        "id": "Rla007jsHeP9"
      },
      "source": [
        "for fold in range(10):\n",
        "    submit.iloc[:,1:] += rf_models[fold].predict_proba(test)/30"
      ],
      "id": "Rla007jsHeP9",
      "execution_count": null,
      "outputs": []
    },
    {
      "cell_type": "code",
      "metadata": {
        "id": "egJ-I57PmeqQ"
      },
      "source": [
        "for fold in range(10):\n",
        "    submit.iloc[:,1:] += lgb_models[fold].predict_proba(test)/30"
      ],
      "id": "egJ-I57PmeqQ",
      "execution_count": null,
      "outputs": []
    },
    {
      "cell_type": "code",
      "metadata": {
        "colab": {
          "base_uri": "https://localhost:8080/",
          "height": 669
        },
        "id": "-aPvYMEqdFBt",
        "outputId": "52b667dd-52db-40c3-a3d0-370e0c30fa96"
      },
      "source": [
        "submit.head(20)"
      ],
      "id": "-aPvYMEqdFBt",
      "execution_count": null,
      "outputs": [
        {
          "output_type": "execute_result",
          "data": {
            "text/html": [
              "<div>\n",
              "<style scoped>\n",
              "    .dataframe tbody tr th:only-of-type {\n",
              "        vertical-align: middle;\n",
              "    }\n",
              "\n",
              "    .dataframe tbody tr th {\n",
              "        vertical-align: top;\n",
              "    }\n",
              "\n",
              "    .dataframe thead th {\n",
              "        text-align: right;\n",
              "    }\n",
              "</style>\n",
              "<table border=\"1\" class=\"dataframe\">\n",
              "  <thead>\n",
              "    <tr style=\"text-align: right;\">\n",
              "      <th></th>\n",
              "      <th>index</th>\n",
              "      <th>0</th>\n",
              "      <th>1</th>\n",
              "      <th>2</th>\n",
              "    </tr>\n",
              "  </thead>\n",
              "  <tbody>\n",
              "    <tr>\n",
              "      <th>0</th>\n",
              "      <td>26457</td>\n",
              "      <td>0.056566</td>\n",
              "      <td>0.076849</td>\n",
              "      <td>0.866586</td>\n",
              "    </tr>\n",
              "    <tr>\n",
              "      <th>1</th>\n",
              "      <td>26458</td>\n",
              "      <td>0.184885</td>\n",
              "      <td>0.171722</td>\n",
              "      <td>0.643393</td>\n",
              "    </tr>\n",
              "    <tr>\n",
              "      <th>2</th>\n",
              "      <td>26459</td>\n",
              "      <td>0.045312</td>\n",
              "      <td>0.137334</td>\n",
              "      <td>0.817354</td>\n",
              "    </tr>\n",
              "    <tr>\n",
              "      <th>3</th>\n",
              "      <td>26460</td>\n",
              "      <td>0.116267</td>\n",
              "      <td>0.130359</td>\n",
              "      <td>0.753374</td>\n",
              "    </tr>\n",
              "    <tr>\n",
              "      <th>4</th>\n",
              "      <td>26461</td>\n",
              "      <td>0.102403</td>\n",
              "      <td>0.231974</td>\n",
              "      <td>0.665623</td>\n",
              "    </tr>\n",
              "    <tr>\n",
              "      <th>5</th>\n",
              "      <td>26462</td>\n",
              "      <td>0.094298</td>\n",
              "      <td>0.129665</td>\n",
              "      <td>0.776037</td>\n",
              "    </tr>\n",
              "    <tr>\n",
              "      <th>6</th>\n",
              "      <td>26463</td>\n",
              "      <td>0.546128</td>\n",
              "      <td>0.453802</td>\n",
              "      <td>0.000070</td>\n",
              "    </tr>\n",
              "    <tr>\n",
              "      <th>7</th>\n",
              "      <td>26464</td>\n",
              "      <td>0.094900</td>\n",
              "      <td>0.117142</td>\n",
              "      <td>0.787958</td>\n",
              "    </tr>\n",
              "    <tr>\n",
              "      <th>8</th>\n",
              "      <td>26465</td>\n",
              "      <td>0.058308</td>\n",
              "      <td>0.092450</td>\n",
              "      <td>0.849242</td>\n",
              "    </tr>\n",
              "    <tr>\n",
              "      <th>9</th>\n",
              "      <td>26466</td>\n",
              "      <td>0.046100</td>\n",
              "      <td>0.309113</td>\n",
              "      <td>0.644787</td>\n",
              "    </tr>\n",
              "    <tr>\n",
              "      <th>10</th>\n",
              "      <td>26467</td>\n",
              "      <td>0.080590</td>\n",
              "      <td>0.152817</td>\n",
              "      <td>0.766593</td>\n",
              "    </tr>\n",
              "    <tr>\n",
              "      <th>11</th>\n",
              "      <td>26468</td>\n",
              "      <td>0.068472</td>\n",
              "      <td>0.120191</td>\n",
              "      <td>0.811336</td>\n",
              "    </tr>\n",
              "    <tr>\n",
              "      <th>12</th>\n",
              "      <td>26469</td>\n",
              "      <td>0.295325</td>\n",
              "      <td>0.169880</td>\n",
              "      <td>0.534795</td>\n",
              "    </tr>\n",
              "    <tr>\n",
              "      <th>13</th>\n",
              "      <td>26470</td>\n",
              "      <td>0.076793</td>\n",
              "      <td>0.150105</td>\n",
              "      <td>0.773102</td>\n",
              "    </tr>\n",
              "    <tr>\n",
              "      <th>14</th>\n",
              "      <td>26471</td>\n",
              "      <td>0.098737</td>\n",
              "      <td>0.281314</td>\n",
              "      <td>0.619950</td>\n",
              "    </tr>\n",
              "    <tr>\n",
              "      <th>15</th>\n",
              "      <td>26472</td>\n",
              "      <td>0.137386</td>\n",
              "      <td>0.230889</td>\n",
              "      <td>0.631724</td>\n",
              "    </tr>\n",
              "    <tr>\n",
              "      <th>16</th>\n",
              "      <td>26473</td>\n",
              "      <td>0.053175</td>\n",
              "      <td>0.113901</td>\n",
              "      <td>0.832924</td>\n",
              "    </tr>\n",
              "    <tr>\n",
              "      <th>17</th>\n",
              "      <td>26474</td>\n",
              "      <td>0.304655</td>\n",
              "      <td>0.695325</td>\n",
              "      <td>0.000020</td>\n",
              "    </tr>\n",
              "    <tr>\n",
              "      <th>18</th>\n",
              "      <td>26475</td>\n",
              "      <td>0.245808</td>\n",
              "      <td>0.316351</td>\n",
              "      <td>0.437841</td>\n",
              "    </tr>\n",
              "    <tr>\n",
              "      <th>19</th>\n",
              "      <td>26476</td>\n",
              "      <td>0.035957</td>\n",
              "      <td>0.133952</td>\n",
              "      <td>0.830092</td>\n",
              "    </tr>\n",
              "  </tbody>\n",
              "</table>\n",
              "</div>"
            ],
            "text/plain": [
              "    index         0         1         2\n",
              "0   26457  0.056566  0.076849  0.866586\n",
              "1   26458  0.184885  0.171722  0.643393\n",
              "2   26459  0.045312  0.137334  0.817354\n",
              "3   26460  0.116267  0.130359  0.753374\n",
              "4   26461  0.102403  0.231974  0.665623\n",
              "5   26462  0.094298  0.129665  0.776037\n",
              "6   26463  0.546128  0.453802  0.000070\n",
              "7   26464  0.094900  0.117142  0.787958\n",
              "8   26465  0.058308  0.092450  0.849242\n",
              "9   26466  0.046100  0.309113  0.644787\n",
              "10  26467  0.080590  0.152817  0.766593\n",
              "11  26468  0.068472  0.120191  0.811336\n",
              "12  26469  0.295325  0.169880  0.534795\n",
              "13  26470  0.076793  0.150105  0.773102\n",
              "14  26471  0.098737  0.281314  0.619950\n",
              "15  26472  0.137386  0.230889  0.631724\n",
              "16  26473  0.053175  0.113901  0.832924\n",
              "17  26474  0.304655  0.695325  0.000020\n",
              "18  26475  0.245808  0.316351  0.437841\n",
              "19  26476  0.035957  0.133952  0.830092"
            ]
          },
          "metadata": {
            "tags": []
          },
          "execution_count": 55
        }
      ]
    },
    {
      "cell_type": "code",
      "metadata": {
        "id": "pursuant-spencer"
      },
      "source": [
        "submit.to_csv('final.csv', index=False) "
      ],
      "id": "pursuant-spencer",
      "execution_count": null,
      "outputs": []
    }
  ]
}