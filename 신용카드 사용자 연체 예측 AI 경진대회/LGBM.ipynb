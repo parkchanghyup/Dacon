{
 "cells": [
  {
   "cell_type": "markdown",
   "id": "stuck-muslim",
   "metadata": {},
   "source": [
    "# Library"
   ]
  },
  {
   "cell_type": "code",
   "execution_count": 1,
   "id": "ancient-translator",
   "metadata": {
    "ExecuteTime": {
     "end_time": "2021-04-05T07:28:17.254964Z",
     "start_time": "2021-04-05T07:28:16.734129Z"
    }
   },
   "outputs": [],
   "source": [
    "import warnings\n",
    "warnings.filterwarnings('ignore')\n",
    "import glob\n",
    "import pandas as pd\n",
    "import numpy as np\n",
    "from lightgbm import LGBMClassifier\n",
    "from sklearn.model_selection import StratifiedKFold\n",
    "from sklearn.preprocessing import OneHotEncoder\n",
    "import random"
   ]
  },
  {
   "cell_type": "markdown",
   "id": "altered-latin",
   "metadata": {},
   "source": [
    "# Data Load & Preprocessing\n",
    "- 훈련에 필요없는 index 컬럼 삭제.\n",
    "- missing value를 모두 NAN 문자열로 대체\n",
    "- dtype object 인 컬럼들을 onehot encoding"
   ]
  },
  {
   "cell_type": "code",
   "execution_count": 2,
   "id": "changed-october",
   "metadata": {
    "ExecuteTime": {
     "end_time": "2021-04-05T07:28:17.326319Z",
     "start_time": "2021-04-05T07:28:17.256352Z"
    },
    "run_control": {
     "marked": true
    }
   },
   "outputs": [],
   "source": [
    "train = pd.read_csv('dataset/train.csv')\n",
    "train = train.drop(['index'], axis=1)\n",
    "train.fillna('NAN', inplace=True) \n",
    "\n",
    "\n",
    "test = pd.read_csv('dataset/test.csv')\n",
    "test = test.drop(['index'], axis=1)\n",
    "test.fillna('NAN', inplace=True)\n",
    "\n",
    "submit = pd.read_csv('dataset/sample_submission.csv')"
   ]
  },
  {
   "cell_type": "code",
   "execution_count": 3,
   "id": "supreme-enterprise",
   "metadata": {
    "ExecuteTime": {
     "end_time": "2021-04-05T07:28:17.330984Z",
     "start_time": "2021-04-05T07:28:17.328119Z"
    },
    "code_folding": []
   },
   "outputs": [],
   "source": [
    "object_col = []\n",
    "for col in train.columns:\n",
    "    if train[col].dtype == 'object':\n",
    "        object_col.append(col)"
   ]
  },
  {
   "cell_type": "code",
   "execution_count": 4,
   "id": "ruled-crazy",
   "metadata": {
    "ExecuteTime": {
     "end_time": "2021-04-05T07:28:17.409966Z",
     "start_time": "2021-04-05T07:28:17.332094Z"
    }
   },
   "outputs": [],
   "source": [
    "enc = OneHotEncoder()\n",
    "enc.fit(train.loc[:,object_col])\n",
    "\n",
    "\n",
    "train_onehot_df = pd.DataFrame(enc.transform(train.loc[:,object_col]).toarray(), \n",
    "             columns=enc.get_feature_names(object_col))\n",
    "train.drop(object_col, axis=1, inplace=True)\n",
    "train = pd.concat([train, train_onehot_df], axis=1)"
   ]
  },
  {
   "cell_type": "code",
   "execution_count": 5,
   "id": "varied-sterling",
   "metadata": {
    "ExecuteTime": {
     "end_time": "2021-04-05T07:28:17.461725Z",
     "start_time": "2021-04-05T07:28:17.412860Z"
    }
   },
   "outputs": [],
   "source": [
    "test_onehot_df = pd.DataFrame(enc.transform(test.loc[:,object_col]).toarray(), \n",
    "             columns=enc.get_feature_names(object_col))\n",
    "test.drop(object_col, axis=1, inplace=True)\n",
    "test = pd.concat([test, test_onehot_df], axis=1)"
   ]
  },
  {
   "cell_type": "markdown",
   "id": "pressed-velvet",
   "metadata": {},
   "source": [
    "# Training\n",
    "- 데이터 분리는 StratifiedKFold 를 사용하여 y값 분포를 비슷하게 분리시킴. -> 5-fold\n",
    "- lightgbm의 default parameter로 훈련.\n",
    "- 30번 이상 개선 없을 경우 중단.\n",
    "- 각 5개의 fold를 훈련하여 저장"
   ]
  },
  {
   "cell_type": "code",
   "execution_count": 6,
   "id": "technological-torture",
   "metadata": {
    "ExecuteTime": {
     "end_time": "2021-04-05T07:28:17.473980Z",
     "start_time": "2021-04-05T07:28:17.463844Z"
    },
    "code_folding": []
   },
   "outputs": [],
   "source": [
    "skf = StratifiedKFold(n_splits=5, shuffle=True, random_state=42)\n",
    "folds=[]\n",
    "for train_idx, valid_idx in skf.split(train, train['credit']):\n",
    "    folds.append((train_idx, valid_idx))"
   ]
  },
  {
   "cell_type": "code",
   "execution_count": 7,
   "id": "dominant-modification",
   "metadata": {
    "ExecuteTime": {
     "end_time": "2021-04-05T07:28:24.383183Z",
     "start_time": "2021-04-05T07:28:17.475190Z"
    },
    "scrolled": true
   },
   "outputs": [
    {
     "name": "stdout",
     "output_type": "stream",
     "text": [
      "====================================1============================================\n",
      "Training until validation scores don't improve for 30 rounds\n",
      "[100]\ttraining's multi_logloss: 0.649825\tvalid_1's multi_logloss: 0.754342\n",
      "[200]\ttraining's multi_logloss: 0.565196\tvalid_1's multi_logloss: 0.738368\n",
      "[300]\ttraining's multi_logloss: 0.503465\tvalid_1's multi_logloss: 0.731678\n",
      "Early stopping, best iteration is:\n",
      "[307]\ttraining's multi_logloss: 0.499573\tvalid_1's multi_logloss: 0.731416\n",
      "================================================================================\n",
      "\n",
      "\n",
      "====================================2============================================\n",
      "Training until validation scores don't improve for 30 rounds\n",
      "[100]\ttraining's multi_logloss: 0.646021\tvalid_1's multi_logloss: 0.764365\n",
      "[200]\ttraining's multi_logloss: 0.560632\tvalid_1's multi_logloss: 0.751211\n",
      "[300]\ttraining's multi_logloss: 0.497513\tvalid_1's multi_logloss: 0.748437\n",
      "Early stopping, best iteration is:\n",
      "[330]\ttraining's multi_logloss: 0.480923\tvalid_1's multi_logloss: 0.747248\n",
      "================================================================================\n",
      "\n",
      "\n",
      "====================================3============================================\n",
      "Training until validation scores don't improve for 30 rounds\n",
      "[100]\ttraining's multi_logloss: 0.650293\tvalid_1's multi_logloss: 0.758441\n",
      "[200]\ttraining's multi_logloss: 0.562092\tvalid_1's multi_logloss: 0.744718\n",
      "[300]\ttraining's multi_logloss: 0.497577\tvalid_1's multi_logloss: 0.742915\n",
      "Early stopping, best iteration is:\n",
      "[300]\ttraining's multi_logloss: 0.497577\tvalid_1's multi_logloss: 0.742915\n",
      "================================================================================\n",
      "\n",
      "\n",
      "====================================4============================================\n",
      "Training until validation scores don't improve for 30 rounds\n",
      "[100]\ttraining's multi_logloss: 0.648708\tvalid_1's multi_logloss: 0.755516\n",
      "[200]\ttraining's multi_logloss: 0.562289\tvalid_1's multi_logloss: 0.7392\n",
      "Early stopping, best iteration is:\n",
      "[256]\ttraining's multi_logloss: 0.525232\tvalid_1's multi_logloss: 0.735804\n",
      "================================================================================\n",
      "\n",
      "\n",
      "====================================5============================================\n",
      "Training until validation scores don't improve for 30 rounds\n",
      "[100]\ttraining's multi_logloss: 0.651188\tvalid_1's multi_logloss: 0.755536\n",
      "[200]\ttraining's multi_logloss: 0.565233\tvalid_1's multi_logloss: 0.741456\n",
      "[300]\ttraining's multi_logloss: 0.500595\tvalid_1's multi_logloss: 0.736311\n",
      "Early stopping, best iteration is:\n",
      "[289]\ttraining's multi_logloss: 0.50667\tvalid_1's multi_logloss: 0.735772\n",
      "================================================================================\n",
      "\n",
      "\n"
     ]
    }
   ],
   "source": [
    "random.seed(42)\n",
    "lgb_models={}\n",
    "for fold in range(5):\n",
    "    print(f'===================================={fold+1}============================================')\n",
    "    train_idx, valid_idx = folds[fold]\n",
    "    X_train, X_valid, y_train, y_valid = train.drop(['credit'],axis=1).iloc[train_idx].values, train.drop(['credit'],axis=1).iloc[valid_idx].values,\\\n",
    "                                         train['credit'][train_idx].values, train['credit'][valid_idx].values \n",
    "    lgb = LGBMClassifier(n_estimators=1000)\n",
    "    lgb.fit(X_train, y_train, \n",
    "            eval_set=[(X_train, y_train), (X_valid, y_valid)], \n",
    "            early_stopping_rounds=30,\n",
    "           verbose=100)\n",
    "    lgb_models[fold]=lgb\n",
    "    print(f'================================================================================\\n\\n')\n"
   ]
  },
  {
   "cell_type": "markdown",
   "id": "military-links",
   "metadata": {},
   "source": [
    "# Test inference\n",
    "- 각 fold를 훈련시킨 lightgbm model로 predict.\n",
    "- 해당 대회는 logloss score를 겨루는 것이기 때문에 각 class의 probability를 얻어야함.\n",
    "- 대부분의 머신러닝 모델에서 predict, predict_proba를 구분하여 사용함.\n",
    "- predict는 class 출력을 해주고 predict_proba는 class별 probability를 출력해줌.\n",
    "- predict_proba를 사용하여 예측한 것을 5-fold 더하여 평균내어 앙상블."
   ]
  },
  {
   "cell_type": "code",
   "execution_count": 8,
   "id": "physical-involvement",
   "metadata": {
    "ExecuteTime": {
     "end_time": "2021-04-05T07:28:24.561816Z",
     "start_time": "2021-04-05T07:28:24.387286Z"
    },
    "run_control": {
     "marked": true
    }
   },
   "outputs": [],
   "source": [
    "submit.iloc[:,1:]=0\n",
    "for fold in range(5):\n",
    "    submit.iloc[:,1:] += lgb_models[fold].predict_proba(test)/5"
   ]
  },
  {
   "cell_type": "code",
   "execution_count": 9,
   "id": "pursuant-spencer",
   "metadata": {
    "ExecuteTime": {
     "end_time": "2021-04-05T07:28:24.598886Z",
     "start_time": "2021-04-05T07:28:24.563499Z"
    }
   },
   "outputs": [],
   "source": [
    "submit.to_csv('submit/20210405_test_submit_ensemble.csv', index=False) # 0.7272812144"
   ]
  },
  {
   "cell_type": "code",
   "execution_count": 10,
   "id": "authentic-african",
   "metadata": {
    "ExecuteTime": {
     "end_time": "2021-04-05T07:28:24.611127Z",
     "start_time": "2021-04-05T07:28:24.599932Z"
    }
   },
   "outputs": [
    {
     "data": {
      "text/html": [
       "<div>\n",
       "<style scoped>\n",
       "    .dataframe tbody tr th:only-of-type {\n",
       "        vertical-align: middle;\n",
       "    }\n",
       "\n",
       "    .dataframe tbody tr th {\n",
       "        vertical-align: top;\n",
       "    }\n",
       "\n",
       "    .dataframe thead th {\n",
       "        text-align: right;\n",
       "    }\n",
       "</style>\n",
       "<table border=\"1\" class=\"dataframe\">\n",
       "  <thead>\n",
       "    <tr style=\"text-align: right;\">\n",
       "      <th></th>\n",
       "      <th>index</th>\n",
       "      <th>0</th>\n",
       "      <th>1</th>\n",
       "      <th>2</th>\n",
       "    </tr>\n",
       "  </thead>\n",
       "  <tbody>\n",
       "    <tr>\n",
       "      <th>0</th>\n",
       "      <td>26457</td>\n",
       "      <td>0.053656</td>\n",
       "      <td>0.111823</td>\n",
       "      <td>0.834521</td>\n",
       "    </tr>\n",
       "    <tr>\n",
       "      <th>1</th>\n",
       "      <td>26458</td>\n",
       "      <td>0.244308</td>\n",
       "      <td>0.136086</td>\n",
       "      <td>0.619607</td>\n",
       "    </tr>\n",
       "    <tr>\n",
       "      <th>2</th>\n",
       "      <td>26459</td>\n",
       "      <td>0.040271</td>\n",
       "      <td>0.108892</td>\n",
       "      <td>0.850838</td>\n",
       "    </tr>\n",
       "    <tr>\n",
       "      <th>3</th>\n",
       "      <td>26460</td>\n",
       "      <td>0.108074</td>\n",
       "      <td>0.133723</td>\n",
       "      <td>0.758203</td>\n",
       "    </tr>\n",
       "    <tr>\n",
       "      <th>4</th>\n",
       "      <td>26461</td>\n",
       "      <td>0.099427</td>\n",
       "      <td>0.172556</td>\n",
       "      <td>0.728017</td>\n",
       "    </tr>\n",
       "    <tr>\n",
       "      <th>5</th>\n",
       "      <td>26462</td>\n",
       "      <td>0.053210</td>\n",
       "      <td>0.136312</td>\n",
       "      <td>0.810478</td>\n",
       "    </tr>\n",
       "    <tr>\n",
       "      <th>6</th>\n",
       "      <td>26463</td>\n",
       "      <td>0.471949</td>\n",
       "      <td>0.527646</td>\n",
       "      <td>0.000406</td>\n",
       "    </tr>\n",
       "    <tr>\n",
       "      <th>7</th>\n",
       "      <td>26464</td>\n",
       "      <td>0.117717</td>\n",
       "      <td>0.148413</td>\n",
       "      <td>0.733870</td>\n",
       "    </tr>\n",
       "    <tr>\n",
       "      <th>8</th>\n",
       "      <td>26465</td>\n",
       "      <td>0.075306</td>\n",
       "      <td>0.132764</td>\n",
       "      <td>0.791930</td>\n",
       "    </tr>\n",
       "    <tr>\n",
       "      <th>9</th>\n",
       "      <td>26466</td>\n",
       "      <td>0.062579</td>\n",
       "      <td>0.257245</td>\n",
       "      <td>0.680176</td>\n",
       "    </tr>\n",
       "    <tr>\n",
       "      <th>10</th>\n",
       "      <td>26467</td>\n",
       "      <td>0.096032</td>\n",
       "      <td>0.167711</td>\n",
       "      <td>0.736257</td>\n",
       "    </tr>\n",
       "    <tr>\n",
       "      <th>11</th>\n",
       "      <td>26468</td>\n",
       "      <td>0.084944</td>\n",
       "      <td>0.143345</td>\n",
       "      <td>0.771711</td>\n",
       "    </tr>\n",
       "    <tr>\n",
       "      <th>12</th>\n",
       "      <td>26469</td>\n",
       "      <td>0.251397</td>\n",
       "      <td>0.161873</td>\n",
       "      <td>0.586729</td>\n",
       "    </tr>\n",
       "    <tr>\n",
       "      <th>13</th>\n",
       "      <td>26470</td>\n",
       "      <td>0.063573</td>\n",
       "      <td>0.159657</td>\n",
       "      <td>0.776771</td>\n",
       "    </tr>\n",
       "    <tr>\n",
       "      <th>14</th>\n",
       "      <td>26471</td>\n",
       "      <td>0.099405</td>\n",
       "      <td>0.233468</td>\n",
       "      <td>0.667127</td>\n",
       "    </tr>\n",
       "    <tr>\n",
       "      <th>15</th>\n",
       "      <td>26472</td>\n",
       "      <td>0.094014</td>\n",
       "      <td>0.217623</td>\n",
       "      <td>0.688362</td>\n",
       "    </tr>\n",
       "    <tr>\n",
       "      <th>16</th>\n",
       "      <td>26473</td>\n",
       "      <td>0.082308</td>\n",
       "      <td>0.133081</td>\n",
       "      <td>0.784611</td>\n",
       "    </tr>\n",
       "    <tr>\n",
       "      <th>17</th>\n",
       "      <td>26474</td>\n",
       "      <td>0.333114</td>\n",
       "      <td>0.666698</td>\n",
       "      <td>0.000188</td>\n",
       "    </tr>\n",
       "    <tr>\n",
       "      <th>18</th>\n",
       "      <td>26475</td>\n",
       "      <td>0.252343</td>\n",
       "      <td>0.264909</td>\n",
       "      <td>0.482749</td>\n",
       "    </tr>\n",
       "    <tr>\n",
       "      <th>19</th>\n",
       "      <td>26476</td>\n",
       "      <td>0.030257</td>\n",
       "      <td>0.118298</td>\n",
       "      <td>0.851445</td>\n",
       "    </tr>\n",
       "  </tbody>\n",
       "</table>\n",
       "</div>"
      ],
      "text/plain": [
       "    index         0         1         2\n",
       "0   26457  0.053656  0.111823  0.834521\n",
       "1   26458  0.244308  0.136086  0.619607\n",
       "2   26459  0.040271  0.108892  0.850838\n",
       "3   26460  0.108074  0.133723  0.758203\n",
       "4   26461  0.099427  0.172556  0.728017\n",
       "5   26462  0.053210  0.136312  0.810478\n",
       "6   26463  0.471949  0.527646  0.000406\n",
       "7   26464  0.117717  0.148413  0.733870\n",
       "8   26465  0.075306  0.132764  0.791930\n",
       "9   26466  0.062579  0.257245  0.680176\n",
       "10  26467  0.096032  0.167711  0.736257\n",
       "11  26468  0.084944  0.143345  0.771711\n",
       "12  26469  0.251397  0.161873  0.586729\n",
       "13  26470  0.063573  0.159657  0.776771\n",
       "14  26471  0.099405  0.233468  0.667127\n",
       "15  26472  0.094014  0.217623  0.688362\n",
       "16  26473  0.082308  0.133081  0.784611\n",
       "17  26474  0.333114  0.666698  0.000188\n",
       "18  26475  0.252343  0.264909  0.482749\n",
       "19  26476  0.030257  0.118298  0.851445"
      ]
     },
     "execution_count": 10,
     "metadata": {},
     "output_type": "execute_result"
    }
   ],
   "source": [
    "submit.head(20)"
   ]
  }
 ],
 "metadata": {
  "kernelspec": {
   "display_name": "torch171",
   "language": "python",
   "name": "torch171"
  },
  "language_info": {
   "codemirror_mode": {
    "name": "ipython",
    "version": 3
   },
   "file_extension": ".py",
   "mimetype": "text/x-python",
   "name": "python",
   "nbconvert_exporter": "python",
   "pygments_lexer": "ipython3",
   "version": "3.7.5"
  },
  "toc": {
   "base_numbering": 1,
   "nav_menu": {},
   "number_sections": true,
   "sideBar": true,
   "skip_h1_title": false,
   "title_cell": "Table of Contents",
   "title_sidebar": "Contents",
   "toc_cell": false,
   "toc_position": {},
   "toc_section_display": true,
   "toc_window_display": false
  },
  "varInspector": {
   "cols": {
    "lenName": 16,
    "lenType": 16,
    "lenVar": 40
   },
   "kernels_config": {
    "python": {
     "delete_cmd_postfix": "",
     "delete_cmd_prefix": "del ",
     "library": "var_list.py",
     "varRefreshCmd": "print(var_dic_list())"
    },
    "r": {
     "delete_cmd_postfix": ") ",
     "delete_cmd_prefix": "rm(",
     "library": "var_list.r",
     "varRefreshCmd": "cat(var_dic_list()) "
    }
   },
   "types_to_exclude": [
    "module",
    "function",
    "builtin_function_or_method",
    "instance",
    "_Feature"
   ],
   "window_display": false
  }
 },
 "nbformat": 4,
 "nbformat_minor": 5
}
