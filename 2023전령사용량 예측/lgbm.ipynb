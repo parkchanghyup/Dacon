{
 "cells": [
  {
   "cell_type": "code",
   "execution_count": 81,
   "id": "c0fb7447-a5f7-4565-adb3-781d458a07b5",
   "metadata": {},
   "outputs": [],
   "source": [
    "import matplotlib.pyplot as plt\n",
    "from tqdm import tqdm\n",
    "from sktime.forecasting.model_selection import temporal_train_test_split\n",
    "from sktime.utils.plotting import plot_series\n",
    "from lightgbm import LGBMRegressor\n",
    "import numpy as np"
   ]
  },
  {
   "cell_type": "code",
   "execution_count": 82,
   "id": "5f989848-0e0b-4db0-b999-5a6a9ecab66d",
   "metadata": {},
   "outputs": [],
   "source": [
    "import pandas as pd\n",
    "\n",
    "train = pd.read_csv('data/train.csv')\n",
    "test = pd.read_csv('data/test.csv')\n",
    "submission = pd.read_csv('data/sample_submission.csv')\n",
    "building = pd.read_csv('data/building_info.csv')"
   ]
  },
  {
   "cell_type": "code",
   "execution_count": 83,
   "id": "095d6970-95e3-41a7-a44f-22c402e0c7db",
   "metadata": {},
   "outputs": [],
   "source": [
    "train = train.rename(columns={\n",
    "    '건물번호': 'building_number',\n",
    "    '일시': 'date_time',\n",
    "    '기온(C)': 'temperature',\n",
    "    '강수량(mm)': 'rainfall',\n",
    "    '풍속(m/s)': 'windspeed',\n",
    "    '습도(%)': 'humidity',\n",
    "    '일조(hr)': 'sunshine',\n",
    "    '일사(MJ/m2)': 'solar_radiation',\n",
    "    '전력소비량(kWh)': 'power_consumption'\n",
    "})\n",
    "train.drop(['num_date_time','sunshine','solar_radiation'], axis = 1, inplace=True)"
   ]
  },
  {
   "cell_type": "code",
   "execution_count": 84,
   "id": "af518621-ad48-464b-9b40-4b10551cfbf5",
   "metadata": {},
   "outputs": [],
   "source": [
    "test = test.rename(columns={\n",
    "    '건물번호': 'building_number',\n",
    "    '일시': 'date_time',\n",
    "    '기온(C)': 'temperature',\n",
    "    '강수량(mm)': 'rainfall',\n",
    "    '풍속(m/s)': 'windspeed',\n",
    "    '습도(%)': 'humidity',\n",
    "    '일조(hr)': 'sunshine',\n",
    "    '일사(MJ/m2)': 'solar_radiation',\n",
    "    '전력소비량(kWh)': 'power_consumption'\n",
    "})\n",
    "test.drop('num_date_time', axis = 1, inplace=True)"
   ]
  },
  {
   "cell_type": "code",
   "execution_count": 85,
   "id": "e05684d4-583f-4a20-a543-3d852ea3121b",
   "metadata": {},
   "outputs": [],
   "source": [
    "building = building.rename(columns={\n",
    "    '건물번호': 'building_number',\n",
    "    '건물유형': 'building_type',\n",
    "    '연면적(m2)': 'total_area',\n",
    "    '냉방면적(m2)': 'cooling_area',\n",
    "    '태양광용량(kW)': 'solar_power_capacity',\n",
    "    'ESS저장용량(kWh)': 'ess_capacity',\n",
    "    'PCS용량(kW)': 'pcs_capacity'\n",
    "})"
   ]
  },
  {
   "cell_type": "code",
   "execution_count": 86,
   "id": "3acb064f-e50c-415f-aed9-2d6680611b28",
   "metadata": {},
   "outputs": [],
   "source": [
    "translation_dict = {\n",
    "    '건물기타': '1',\n",
    "    '공공': '2',\n",
    "    '대학교': '3',\n",
    "    '데이터센터': '4',\n",
    "    '백화점및아울렛': '3',\n",
    "    '병원': '4',\n",
    "    '상용': '5',\n",
    "    '아파트': '6',\n",
    "    '연구소': '7',\n",
    "    '지식산업센터': '8',\n",
    "    '할인마트': '9',\n",
    "    '호텔및리조트': '10'\n",
    "}\n",
    "\n",
    "building['building_type'] = building['building_type'].replace(translation_dict)"
   ]
  },
  {
   "cell_type": "markdown",
   "id": "2b191f74-7328-4383-8a88-0c8e2374bfbb",
   "metadata": {},
   "source": [
    "# csv 병합"
   ]
  },
  {
   "cell_type": "code",
   "execution_count": 87,
   "id": "886118c4-874d-4b04-a1ec-05ecb0375249",
   "metadata": {},
   "outputs": [],
   "source": [
    "train = pd.merge(train, building, on='building_number', how='left')\n",
    "test = pd.merge(test, building, on='building_number', how='left')"
   ]
  },
  {
   "cell_type": "markdown",
   "id": "be8dc86c-5524-4a6f-906d-1b58c0911e44",
   "metadata": {},
   "source": [
    "# train 전처리\n"
   ]
  },
  {
   "cell_type": "code",
   "execution_count": 88,
   "id": "0d4c81c9-0550-4d8f-8377-0a486bd735ff",
   "metadata": {},
   "outputs": [],
   "source": [
    "train['date_time'] = pd.to_datetime(train['date_time'], format='%Y%m%d %H')\n",
    "\n",
    "# date time feature 생성\n",
    "train['hour'] = train['date_time'].dt.hour\n",
    "train['day'] = train['date_time'].dt.weekday\n",
    "train['month'] = train['date_time'].dt.month\n",
    "#train['week'] = train['date_time'].dt.weekofyear\n",
    "\n",
    "# 공휴일 변수 추가 \n",
    "train['holiday'] = train['day'] .apply(lambda x : 0 if x<5 else 1)\n",
    "train.loc[('2022-06-06'<=train.date_time)&(train.date_time<'2022-06-07'), 'holiday'] = 1\n",
    "train.loc[('2022-08-15'<=train.date_time)&(train.date_time<'2022-08-16'), 'holiday'] = 1\n",
    "\n",
    "# hour\n",
    "train['sin_time'] = np.sin(2*np.pi*train.hour/24)\n",
    "train['cos_time'] = np.cos(2*np.pi*train.hour/24)\n",
    "\n",
    "\n",
    "def CDH(xs):\n",
    "    ys = []\n",
    "    for i in range(len(xs)):\n",
    "        if i < 11:\n",
    "            ys.append(np.sum(xs[:(i+1)]-26))\n",
    "        else:\n",
    "            ys.append(np.sum(xs[(i-11):(i+1)]-26))\n",
    "    return np.array(ys)\n",
    "\n",
    "cdhs = np.array([])\n",
    "for num in range(1,101):\n",
    "    temp = train[train['building_number'] == num]\n",
    "    cdh = CDH(temp['temperature'].values)\n",
    "    cdhs = np.concatenate([cdhs, cdh])\n",
    "train['CDH'] = cdhs\n",
    "\n",
    "train['solar_power_capacity'] = train['solar_power_capacity'].apply(lambda x : 0 if x=='-' else float(x))\n",
    "train['ess_capacity'] = train['ess_capacity'].apply(lambda x : 0 if x=='-' else float(x))\n",
    "train['pcs_capacity'] = train['pcs_capacity'].apply(lambda x : 0 if x=='-' else float(x))\n",
    "train['building_type'] = train['building_type'].apply(lambda x :int(x))\n",
    "\n",
    "train = train.fillna(0)\n",
    "train.drop(['date_time','hour'],axis = 1,inplace = True)"
   ]
  },
  {
   "cell_type": "code",
   "execution_count": 15,
   "id": "cbf0b24f-9226-4a8c-ab70-177602a7cbed",
   "metadata": {},
   "outputs": [
    {
     "name": "stdout",
     "output_type": "stream",
     "text": [
      "<class 'pandas.core.frame.DataFrame'>\n",
      "RangeIndex: 204000 entries, 0 to 203999\n",
      "Data columns (total 18 columns):\n",
      " #   Column                Non-Null Count   Dtype  \n",
      "---  ------                --------------   -----  \n",
      " 0   building_number       204000 non-null  int64  \n",
      " 1   temperature           204000 non-null  float64\n",
      " 2   rainfall              204000 non-null  float64\n",
      " 3   windspeed             204000 non-null  float64\n",
      " 4   humidity              204000 non-null  float64\n",
      " 5   power_consumption     204000 non-null  float64\n",
      " 6   building_type         204000 non-null  int64  \n",
      " 7   total_area            204000 non-null  float64\n",
      " 8   cooling_area          204000 non-null  float64\n",
      " 9   solar_power_capacity  204000 non-null  float64\n",
      " 10  ess_capacity          204000 non-null  float64\n",
      " 11  pcs_capacity          204000 non-null  float64\n",
      " 12  day                   204000 non-null  int32  \n",
      " 13  month                 204000 non-null  int32  \n",
      " 14  holiday               204000 non-null  int64  \n",
      " 15  sin_time              204000 non-null  float64\n",
      " 16  cos_time              204000 non-null  float64\n",
      " 17  CDH                   204000 non-null  float64\n",
      "dtypes: float64(13), int32(2), int64(3)\n",
      "memory usage: 26.5 MB\n"
     ]
    }
   ],
   "source": [
    "train.info()"
   ]
  },
  {
   "cell_type": "markdown",
   "id": "7a544d6e-94d2-42a0-bd18-6480e4bb4a67",
   "metadata": {},
   "source": [
    "# 모델링 "
   ]
  },
  {
   "cell_type": "code",
   "execution_count": 19,
   "id": "fff19b85-dd00-49c9-9c8d-6298217e4c0e",
   "metadata": {},
   "outputs": [],
   "source": [
    "## 12번 건물의 발전량\n",
    "y = train.loc[train.building_number== 12, 'power_consumption']\n",
    "x = train.loc[train.building_number == 12, ].drop(['power_consumption','building_number'], axis = 1)"
   ]
  },
  {
   "cell_type": "code",
   "execution_count": 20,
   "id": "5298250d-4880-484c-aeb2-db7befb017c5",
   "metadata": {},
   "outputs": [],
   "source": [
    "y_train, y_valid, x_train, x_valid = temporal_train_test_split(y = y, X = x, test_size = 168)"
   ]
  },
  {
   "cell_type": "code",
   "execution_count": 30,
   "id": "5842eb57-39f1-44c2-a2e2-81b0ce8bc005",
   "metadata": {},
   "outputs": [
    {
     "data": {
      "text/html": [
       "<div>\n",
       "<style scoped>\n",
       "    .dataframe tbody tr th:only-of-type {\n",
       "        vertical-align: middle;\n",
       "    }\n",
       "\n",
       "    .dataframe tbody tr th {\n",
       "        vertical-align: top;\n",
       "    }\n",
       "\n",
       "    .dataframe thead th {\n",
       "        text-align: right;\n",
       "    }\n",
       "</style>\n",
       "<table border=\"1\" class=\"dataframe\">\n",
       "  <thead>\n",
       "    <tr style=\"text-align: right;\">\n",
       "      <th></th>\n",
       "      <th>temperature</th>\n",
       "      <th>rainfall</th>\n",
       "      <th>windspeed</th>\n",
       "      <th>humidity</th>\n",
       "      <th>building_type</th>\n",
       "      <th>total_area</th>\n",
       "      <th>cooling_area</th>\n",
       "      <th>solar_power_capacity</th>\n",
       "      <th>ess_capacity</th>\n",
       "      <th>pcs_capacity</th>\n",
       "      <th>day</th>\n",
       "      <th>month</th>\n",
       "      <th>holiday</th>\n",
       "      <th>sin_time</th>\n",
       "      <th>cos_time</th>\n",
       "      <th>CDH</th>\n",
       "    </tr>\n",
       "  </thead>\n",
       "  <tbody>\n",
       "    <tr>\n",
       "      <th>22440</th>\n",
       "      <td>17.9</td>\n",
       "      <td>0.0</td>\n",
       "      <td>1.0</td>\n",
       "      <td>48.0</td>\n",
       "      <td>1</td>\n",
       "      <td>70163.1</td>\n",
       "      <td>3598.21</td>\n",
       "      <td>130.6</td>\n",
       "      <td>0.0</td>\n",
       "      <td>0.0</td>\n",
       "      <td>2</td>\n",
       "      <td>6</td>\n",
       "      <td>0</td>\n",
       "      <td>0.000000</td>\n",
       "      <td>1.000000</td>\n",
       "      <td>-8.1</td>\n",
       "    </tr>\n",
       "    <tr>\n",
       "      <th>22441</th>\n",
       "      <td>17.7</td>\n",
       "      <td>0.0</td>\n",
       "      <td>1.2</td>\n",
       "      <td>50.0</td>\n",
       "      <td>1</td>\n",
       "      <td>70163.1</td>\n",
       "      <td>3598.21</td>\n",
       "      <td>130.6</td>\n",
       "      <td>0.0</td>\n",
       "      <td>0.0</td>\n",
       "      <td>2</td>\n",
       "      <td>6</td>\n",
       "      <td>0</td>\n",
       "      <td>0.258819</td>\n",
       "      <td>0.965926</td>\n",
       "      <td>-16.4</td>\n",
       "    </tr>\n",
       "    <tr>\n",
       "      <th>22442</th>\n",
       "      <td>17.5</td>\n",
       "      <td>0.0</td>\n",
       "      <td>1.7</td>\n",
       "      <td>49.0</td>\n",
       "      <td>1</td>\n",
       "      <td>70163.1</td>\n",
       "      <td>3598.21</td>\n",
       "      <td>130.6</td>\n",
       "      <td>0.0</td>\n",
       "      <td>0.0</td>\n",
       "      <td>2</td>\n",
       "      <td>6</td>\n",
       "      <td>0</td>\n",
       "      <td>0.500000</td>\n",
       "      <td>0.866025</td>\n",
       "      <td>-24.9</td>\n",
       "    </tr>\n",
       "    <tr>\n",
       "      <th>22443</th>\n",
       "      <td>15.9</td>\n",
       "      <td>0.0</td>\n",
       "      <td>0.4</td>\n",
       "      <td>54.0</td>\n",
       "      <td>1</td>\n",
       "      <td>70163.1</td>\n",
       "      <td>3598.21</td>\n",
       "      <td>130.6</td>\n",
       "      <td>0.0</td>\n",
       "      <td>0.0</td>\n",
       "      <td>2</td>\n",
       "      <td>6</td>\n",
       "      <td>0</td>\n",
       "      <td>0.707107</td>\n",
       "      <td>0.707107</td>\n",
       "      <td>-35.0</td>\n",
       "    </tr>\n",
       "    <tr>\n",
       "      <th>22444</th>\n",
       "      <td>16.6</td>\n",
       "      <td>0.0</td>\n",
       "      <td>2.6</td>\n",
       "      <td>53.0</td>\n",
       "      <td>1</td>\n",
       "      <td>70163.1</td>\n",
       "      <td>3598.21</td>\n",
       "      <td>130.6</td>\n",
       "      <td>0.0</td>\n",
       "      <td>0.0</td>\n",
       "      <td>2</td>\n",
       "      <td>6</td>\n",
       "      <td>0</td>\n",
       "      <td>0.866025</td>\n",
       "      <td>0.500000</td>\n",
       "      <td>-44.4</td>\n",
       "    </tr>\n",
       "    <tr>\n",
       "      <th>...</th>\n",
       "      <td>...</td>\n",
       "      <td>...</td>\n",
       "      <td>...</td>\n",
       "      <td>...</td>\n",
       "      <td>...</td>\n",
       "      <td>...</td>\n",
       "      <td>...</td>\n",
       "      <td>...</td>\n",
       "      <td>...</td>\n",
       "      <td>...</td>\n",
       "      <td>...</td>\n",
       "      <td>...</td>\n",
       "      <td>...</td>\n",
       "      <td>...</td>\n",
       "      <td>...</td>\n",
       "      <td>...</td>\n",
       "    </tr>\n",
       "    <tr>\n",
       "      <th>24307</th>\n",
       "      <td>25.4</td>\n",
       "      <td>0.0</td>\n",
       "      <td>2.0</td>\n",
       "      <td>74.0</td>\n",
       "      <td>1</td>\n",
       "      <td>70163.1</td>\n",
       "      <td>3598.21</td>\n",
       "      <td>130.6</td>\n",
       "      <td>0.0</td>\n",
       "      <td>0.0</td>\n",
       "      <td>2</td>\n",
       "      <td>8</td>\n",
       "      <td>0</td>\n",
       "      <td>-0.965926</td>\n",
       "      <td>0.258819</td>\n",
       "      <td>18.4</td>\n",
       "    </tr>\n",
       "    <tr>\n",
       "      <th>24308</th>\n",
       "      <td>24.5</td>\n",
       "      <td>0.0</td>\n",
       "      <td>2.7</td>\n",
       "      <td>79.0</td>\n",
       "      <td>1</td>\n",
       "      <td>70163.1</td>\n",
       "      <td>3598.21</td>\n",
       "      <td>130.6</td>\n",
       "      <td>0.0</td>\n",
       "      <td>0.0</td>\n",
       "      <td>2</td>\n",
       "      <td>8</td>\n",
       "      <td>0</td>\n",
       "      <td>-0.866025</td>\n",
       "      <td>0.500000</td>\n",
       "      <td>18.4</td>\n",
       "    </tr>\n",
       "    <tr>\n",
       "      <th>24309</th>\n",
       "      <td>23.8</td>\n",
       "      <td>0.0</td>\n",
       "      <td>1.2</td>\n",
       "      <td>85.0</td>\n",
       "      <td>1</td>\n",
       "      <td>70163.1</td>\n",
       "      <td>3598.21</td>\n",
       "      <td>130.6</td>\n",
       "      <td>0.0</td>\n",
       "      <td>0.0</td>\n",
       "      <td>2</td>\n",
       "      <td>8</td>\n",
       "      <td>0</td>\n",
       "      <td>-0.707107</td>\n",
       "      <td>0.707107</td>\n",
       "      <td>16.6</td>\n",
       "    </tr>\n",
       "    <tr>\n",
       "      <th>24310</th>\n",
       "      <td>23.3</td>\n",
       "      <td>0.0</td>\n",
       "      <td>1.5</td>\n",
       "      <td>86.0</td>\n",
       "      <td>1</td>\n",
       "      <td>70163.1</td>\n",
       "      <td>3598.21</td>\n",
       "      <td>130.6</td>\n",
       "      <td>0.0</td>\n",
       "      <td>0.0</td>\n",
       "      <td>2</td>\n",
       "      <td>8</td>\n",
       "      <td>0</td>\n",
       "      <td>-0.500000</td>\n",
       "      <td>0.866025</td>\n",
       "      <td>13.9</td>\n",
       "    </tr>\n",
       "    <tr>\n",
       "      <th>24311</th>\n",
       "      <td>23.3</td>\n",
       "      <td>0.0</td>\n",
       "      <td>0.8</td>\n",
       "      <td>86.0</td>\n",
       "      <td>1</td>\n",
       "      <td>70163.1</td>\n",
       "      <td>3598.21</td>\n",
       "      <td>130.6</td>\n",
       "      <td>0.0</td>\n",
       "      <td>0.0</td>\n",
       "      <td>2</td>\n",
       "      <td>8</td>\n",
       "      <td>0</td>\n",
       "      <td>-0.258819</td>\n",
       "      <td>0.965926</td>\n",
       "      <td>10.7</td>\n",
       "    </tr>\n",
       "  </tbody>\n",
       "</table>\n",
       "<p>1872 rows × 16 columns</p>\n",
       "</div>"
      ],
      "text/plain": [
       "       temperature  rainfall  windspeed  humidity  building_type  total_area  \\\n",
       "22440         17.9       0.0        1.0      48.0              1     70163.1   \n",
       "22441         17.7       0.0        1.2      50.0              1     70163.1   \n",
       "22442         17.5       0.0        1.7      49.0              1     70163.1   \n",
       "22443         15.9       0.0        0.4      54.0              1     70163.1   \n",
       "22444         16.6       0.0        2.6      53.0              1     70163.1   \n",
       "...            ...       ...        ...       ...            ...         ...   \n",
       "24307         25.4       0.0        2.0      74.0              1     70163.1   \n",
       "24308         24.5       0.0        2.7      79.0              1     70163.1   \n",
       "24309         23.8       0.0        1.2      85.0              1     70163.1   \n",
       "24310         23.3       0.0        1.5      86.0              1     70163.1   \n",
       "24311         23.3       0.0        0.8      86.0              1     70163.1   \n",
       "\n",
       "       cooling_area  solar_power_capacity  ess_capacity  pcs_capacity  day  \\\n",
       "22440       3598.21                 130.6           0.0           0.0    2   \n",
       "22441       3598.21                 130.6           0.0           0.0    2   \n",
       "22442       3598.21                 130.6           0.0           0.0    2   \n",
       "22443       3598.21                 130.6           0.0           0.0    2   \n",
       "22444       3598.21                 130.6           0.0           0.0    2   \n",
       "...             ...                   ...           ...           ...  ...   \n",
       "24307       3598.21                 130.6           0.0           0.0    2   \n",
       "24308       3598.21                 130.6           0.0           0.0    2   \n",
       "24309       3598.21                 130.6           0.0           0.0    2   \n",
       "24310       3598.21                 130.6           0.0           0.0    2   \n",
       "24311       3598.21                 130.6           0.0           0.0    2   \n",
       "\n",
       "       month  holiday  sin_time  cos_time   CDH  \n",
       "22440      6        0  0.000000  1.000000  -8.1  \n",
       "22441      6        0  0.258819  0.965926 -16.4  \n",
       "22442      6        0  0.500000  0.866025 -24.9  \n",
       "22443      6        0  0.707107  0.707107 -35.0  \n",
       "22444      6        0  0.866025  0.500000 -44.4  \n",
       "...      ...      ...       ...       ...   ...  \n",
       "24307      8        0 -0.965926  0.258819  18.4  \n",
       "24308      8        0 -0.866025  0.500000  18.4  \n",
       "24309      8        0 -0.707107  0.707107  16.6  \n",
       "24310      8        0 -0.500000  0.866025  13.9  \n",
       "24311      8        0 -0.258819  0.965926  10.7  \n",
       "\n",
       "[1872 rows x 16 columns]"
      ]
     },
     "execution_count": 30,
     "metadata": {},
     "output_type": "execute_result"
    }
   ],
   "source": [
    "x_train"
   ]
  },
  {
   "cell_type": "code",
   "execution_count": 21,
   "id": "481b4101-5bc5-417b-a31f-9693e43b78ca",
   "metadata": {},
   "outputs": [
    {
     "name": "stdout",
     "output_type": "stream",
     "text": [
      "train data shape\n",
      "x:(1872, 16), y:(1872,)\n"
     ]
    },
    {
     "data": {
      "image/png": "[encoded data removed]",
      "text/plain": [
       "<Figure size 1600x400 with 1 Axes>"
      ]
     },
     "metadata": {},
     "output_type": "display_data"
    }
   ],
   "source": [
    "print('train data shape\\nx:{}, y:{}'.format(x_train.shape, y_train.shape))\n",
    "\n",
    "plot_series(y_train, y_valid, markers=[',' , ','])\n",
    "plt.show()"
   ]
  },
  {
   "cell_type": "code",
   "execution_count": 22,
   "id": "c9004610-a6d4-47e5-a0e7-c4ff3bd2b614",
   "metadata": {},
   "outputs": [],
   "source": [
    "def SMAPE(true, pred):\n",
    "    return np.mean((np.abs(true-pred))/(np.abs(true) + np.abs(pred))) * 100"
   ]
  },
  {
   "cell_type": "code",
   "execution_count": 56,
   "id": "636c5d78-9591-4875-9ea6-b69ff1208c20",
   "metadata": {},
   "outputs": [],
   "source": [
    "from lightgbm import LGBMRegressor"
   ]
  },
  {
   "cell_type": "code",
   "execution_count": 31,
   "id": "3d200de2-7bad-42c9-baa9-00afa7d881ec",
   "metadata": {},
   "outputs": [
    {
     "name": "stdout",
     "output_type": "stream",
     "text": [
      "[LightGBM] [Warning] Auto-choosing col-wise multi-threading, the overhead of testing was 0.000141 seconds.\n",
      "You can set `force_col_wise=true` to remove the overhead.\n",
      "[LightGBM] [Info] Total Bins 661\n",
      "[LightGBM] [Info] Number of data points in the train set: 1872, number of used features: 10\n",
      "[LightGBM] [Info] Start training from score 1435.420865\n"
     ]
    },
    {
     "data": {
      "text/html": [
       "<style>#sk-container-id-1 {color: black;}#sk-container-id-1 pre{padding: 0;}#sk-container-id-1 div.sk-toggleable {background-color: white;}#sk-container-id-1 label.sk-toggleable__label {cursor: pointer;display: block;width: 100%;margin-bottom: 0;padding: 0.3em;box-sizing: border-box;text-align: center;}#sk-container-id-1 label.sk-toggleable__label-arrow:before {content: \"▸\";float: left;margin-right: 0.25em;color: #696969;}#sk-container-id-1 label.sk-toggleable__label-arrow:hover:before {color: black;}#sk-container-id-1 div.sk-estimator:hover label.sk-toggleable__label-arrow:before {color: black;}#sk-container-id-1 div.sk-toggleable__content {max-height: 0;max-width: 0;overflow: hidden;text-align: left;background-color: #f0f8ff;}#sk-container-id-1 div.sk-toggleable__content pre {margin: 0.2em;color: black;border-radius: 0.25em;background-color: #f0f8ff;}#sk-container-id-1 input.sk-toggleable__control:checked~div.sk-toggleable__content {max-height: 200px;max-width: 100%;overflow: auto;}#sk-container-id-1 input.sk-toggleable__control:checked~label.sk-toggleable__label-arrow:before {content: \"▾\";}#sk-container-id-1 div.sk-estimator input.sk-toggleable__control:checked~label.sk-toggleable__label {background-color: #d4ebff;}#sk-container-id-1 div.sk-label input.sk-toggleable__control:checked~label.sk-toggleable__label {background-color: #d4ebff;}#sk-container-id-1 input.sk-hidden--visually {border: 0;clip: rect(1px 1px 1px 1px);clip: rect(1px, 1px, 1px, 1px);height: 1px;margin: -1px;overflow: hidden;padding: 0;position: absolute;width: 1px;}#sk-container-id-1 div.sk-estimator {font-family: monospace;background-color: #f0f8ff;border: 1px dotted black;border-radius: 0.25em;box-sizing: border-box;margin-bottom: 0.5em;}#sk-container-id-1 div.sk-estimator:hover {background-color: #d4ebff;}#sk-container-id-1 div.sk-parallel-item::after {content: \"\";width: 100%;border-bottom: 1px solid gray;flex-grow: 1;}#sk-container-id-1 div.sk-label:hover label.sk-toggleable__label {background-color: #d4ebff;}#sk-container-id-1 div.sk-serial::before {content: \"\";position: absolute;border-left: 1px solid gray;box-sizing: border-box;top: 0;bottom: 0;left: 50%;z-index: 0;}#sk-container-id-1 div.sk-serial {display: flex;flex-direction: column;align-items: center;background-color: white;padding-right: 0.2em;padding-left: 0.2em;position: relative;}#sk-container-id-1 div.sk-item {position: relative;z-index: 1;}#sk-container-id-1 div.sk-parallel {display: flex;align-items: stretch;justify-content: center;background-color: white;position: relative;}#sk-container-id-1 div.sk-item::before, #sk-container-id-1 div.sk-parallel-item::before {content: \"\";position: absolute;border-left: 1px solid gray;box-sizing: border-box;top: 0;bottom: 0;left: 50%;z-index: -1;}#sk-container-id-1 div.sk-parallel-item {display: flex;flex-direction: column;z-index: 1;position: relative;background-color: white;}#sk-container-id-1 div.sk-parallel-item:first-child::after {align-self: flex-end;width: 50%;}#sk-container-id-1 div.sk-parallel-item:last-child::after {align-self: flex-start;width: 50%;}#sk-container-id-1 div.sk-parallel-item:only-child::after {width: 0;}#sk-container-id-1 div.sk-dashed-wrapped {border: 1px dashed gray;margin: 0 0.4em 0.5em 0.4em;box-sizing: border-box;padding-bottom: 0.4em;background-color: white;}#sk-container-id-1 div.sk-label label {font-family: monospace;font-weight: bold;display: inline-block;line-height: 1.2em;}#sk-container-id-1 div.sk-label-container {text-align: center;}#sk-container-id-1 div.sk-container {/* jupyter's `normalize.less` sets `[hidden] { display: none; }` but bootstrap.min.css set `[hidden] { display: none !important; }` so we also need the `!important` here to be able to override the default hidden behavior on the sphinx rendered scikit-learn.org. See: https://github.com/scikit-learn/scikit-learn/issues/21755 */display: inline-block !important;position: relative;}#sk-container-id-1 div.sk-text-repr-fallback {display: none;}</style><div id=\"sk-container-id-1\" class=\"sk-top-container\"><div class=\"sk-text-repr-fallback\"><pre>LGBMRegressor()</pre><b>In a Jupyter environment, please rerun this cell to show the HTML representation or trust the notebook. <br />On GitHub, the HTML representation is unable to render, please try loading this page with nbviewer.org.</b></div><div class=\"sk-container\" hidden><div class=\"sk-item\"><div class=\"sk-estimator sk-toggleable\"><input class=\"sk-toggleable__control sk-hidden--visually\" id=\"sk-estimator-id-1\" type=\"checkbox\" checked><label for=\"sk-estimator-id-1\" class=\"sk-toggleable__label sk-toggleable__label-arrow\">LGBMRegressor</label><div class=\"sk-toggleable__content\"><pre>LGBMRegressor()</pre></div></div></div></div></div>"
      ],
      "text/plain": [
       "LGBMRegressor()"
      ]
     },
     "execution_count": 31,
     "metadata": {},
     "output_type": "execute_result"
    }
   ],
   "source": [
    "model = LGBMRegressor()\n",
    "model.fit(x_train, y_train, eval_set=[(x_train, y_train), (x_valid, y_valid)])"
   ]
  },
  {
   "cell_type": "code",
   "execution_count": 34,
   "id": "eae4886e-ba62-44ba-b20e-a63093b0613c",
   "metadata": {},
   "outputs": [
    {
     "name": "stdout",
     "output_type": "stream",
     "text": [
      "SMAPE : 2.108611811181992\n"
     ]
    },
    {
     "data": {
      "image/png": "[encoded data removed]",
      "text/plain": [
       "<Figure size 1600x400 with 1 Axes>"
      ]
     },
     "metadata": {},
     "output_type": "display_data"
    }
   ],
   "source": [
    "## 주황색이 실제 전력소비량, 초록색이 예측값입니다.\n",
    "pred = model.predict(x_valid)\n",
    "pred = pd.Series(pred)\n",
    "pred.index = np.arange(y_valid.index[0], y_valid.index[-1]+1)\n",
    "plot_series(y_train, y_valid, pd.Series(pred), markers=[',' , ',', ','])\n",
    "\n",
    "print('SMAPE : {}'.format(SMAPE(y_valid, pred)))"
   ]
  },
  {
   "cell_type": "markdown",
   "id": "708f6a86-5f38-48da-8a2a-f70379f2d289",
   "metadata": {},
   "source": [
    "## 모델 튜닝"
   ]
  },
  {
   "cell_type": "code",
   "execution_count": 62,
   "id": "b4843b33-1d4a-4c45-8e3f-73a92455907a",
   "metadata": {},
   "outputs": [
    {
     "data": {
      "text/plain": [
       "\u001b[1;31mInit signature:\u001b[0m\n",
       "\u001b[0mLGBMRegressor\u001b[0m\u001b[1;33m(\u001b[0m\u001b[1;33m\n",
       "\u001b[0m    \u001b[0mboosting_type\u001b[0m\u001b[1;33m:\u001b[0m \u001b[0mstr\u001b[0m \u001b[1;33m=\u001b[0m \u001b[1;34m'gbdt'\u001b[0m\u001b[1;33m,\u001b[0m\u001b[1;33m\n",
       "\u001b[0m    \u001b[0mnum_leaves\u001b[0m\u001b[1;33m:\u001b[0m \u001b[0mint\u001b[0m \u001b[1;33m=\u001b[0m \u001b[1;36m31\u001b[0m\u001b[1;33m,\u001b[0m\u001b[1;33m\n",
       "\u001b[0m    \u001b[0mmax_depth\u001b[0m\u001b[1;33m:\u001b[0m \u001b[0mint\u001b[0m \u001b[1;33m=\u001b[0m \u001b[1;33m-\u001b[0m\u001b[1;36m1\u001b[0m\u001b[1;33m,\u001b[0m\u001b[1;33m\n",
       "\u001b[0m    \u001b[0mlearning_rate\u001b[0m\u001b[1;33m:\u001b[0m \u001b[0mfloat\u001b[0m \u001b[1;33m=\u001b[0m \u001b[1;36m0.1\u001b[0m\u001b[1;33m,\u001b[0m\u001b[1;33m\n",
       "\u001b[0m    \u001b[0mn_estimators\u001b[0m\u001b[1;33m:\u001b[0m \u001b[0mint\u001b[0m \u001b[1;33m=\u001b[0m \u001b[1;36m100\u001b[0m\u001b[1;33m,\u001b[0m\u001b[1;33m\n",
       "\u001b[0m    \u001b[0msubsample_for_bin\u001b[0m\u001b[1;33m:\u001b[0m \u001b[0mint\u001b[0m \u001b[1;33m=\u001b[0m \u001b[1;36m200000\u001b[0m\u001b[1;33m,\u001b[0m\u001b[1;33m\n",
       "\u001b[0m    \u001b[0mobjective\u001b[0m\u001b[1;33m:\u001b[0m \u001b[0mUnion\u001b[0m\u001b[1;33m[\u001b[0m\u001b[0mstr\u001b[0m\u001b[1;33m,\u001b[0m \u001b[0mCallable\u001b[0m\u001b[1;33m[\u001b[0m\u001b[1;33m[\u001b[0m\u001b[0mOptional\u001b[0m\u001b[1;33m[\u001b[0m\u001b[0mnumpy\u001b[0m\u001b[1;33m.\u001b[0m\u001b[0mndarray\u001b[0m\u001b[1;33m]\u001b[0m\u001b[1;33m,\u001b[0m \u001b[0mnumpy\u001b[0m\u001b[1;33m.\u001b[0m\u001b[0mndarray\u001b[0m\u001b[1;33m]\u001b[0m\u001b[1;33m,\u001b[0m \u001b[0mTuple\u001b[0m\u001b[1;33m[\u001b[0m\u001b[0mnumpy\u001b[0m\u001b[1;33m.\u001b[0m\u001b[0mndarray\u001b[0m\u001b[1;33m,\u001b[0m \u001b[0mnumpy\u001b[0m\u001b[1;33m.\u001b[0m\u001b[0mndarray\u001b[0m\u001b[1;33m]\u001b[0m\u001b[1;33m]\u001b[0m\u001b[1;33m,\u001b[0m \u001b[0mCallable\u001b[0m\u001b[1;33m[\u001b[0m\u001b[1;33m[\u001b[0m\u001b[0mOptional\u001b[0m\u001b[1;33m[\u001b[0m\u001b[0mnumpy\u001b[0m\u001b[1;33m.\u001b[0m\u001b[0mndarray\u001b[0m\u001b[1;33m]\u001b[0m\u001b[1;33m,\u001b[0m \u001b[0mnumpy\u001b[0m\u001b[1;33m.\u001b[0m\u001b[0mndarray\u001b[0m\u001b[1;33m,\u001b[0m \u001b[0mOptional\u001b[0m\u001b[1;33m[\u001b[0m\u001b[0mnumpy\u001b[0m\u001b[1;33m.\u001b[0m\u001b[0mndarray\u001b[0m\u001b[1;33m]\u001b[0m\u001b[1;33m]\u001b[0m\u001b[1;33m,\u001b[0m \u001b[0mTuple\u001b[0m\u001b[1;33m[\u001b[0m\u001b[0mnumpy\u001b[0m\u001b[1;33m.\u001b[0m\u001b[0mndarray\u001b[0m\u001b[1;33m,\u001b[0m \u001b[0mnumpy\u001b[0m\u001b[1;33m.\u001b[0m\u001b[0mndarray\u001b[0m\u001b[1;33m]\u001b[0m\u001b[1;33m]\u001b[0m\u001b[1;33m,\u001b[0m \u001b[0mCallable\u001b[0m\u001b[1;33m[\u001b[0m\u001b[1;33m[\u001b[0m\u001b[0mOptional\u001b[0m\u001b[1;33m[\u001b[0m\u001b[0mnumpy\u001b[0m\u001b[1;33m.\u001b[0m\u001b[0mndarray\u001b[0m\u001b[1;33m]\u001b[0m\u001b[1;33m,\u001b[0m \u001b[0mnumpy\u001b[0m\u001b[1;33m.\u001b[0m\u001b[0mndarray\u001b[0m\u001b[1;33m,\u001b[0m \u001b[0mOptional\u001b[0m\u001b[1;33m[\u001b[0m\u001b[0mnumpy\u001b[0m\u001b[1;33m.\u001b[0m\u001b[0mndarray\u001b[0m\u001b[1;33m]\u001b[0m\u001b[1;33m,\u001b[0m \u001b[0mOptional\u001b[0m\u001b[1;33m[\u001b[0m\u001b[0mnumpy\u001b[0m\u001b[1;33m.\u001b[0m\u001b[0mndarray\u001b[0m\u001b[1;33m]\u001b[0m\u001b[1;33m]\u001b[0m\u001b[1;33m,\u001b[0m \u001b[0mTuple\u001b[0m\u001b[1;33m[\u001b[0m\u001b[0mnumpy\u001b[0m\u001b[1;33m.\u001b[0m\u001b[0mndarray\u001b[0m\u001b[1;33m,\u001b[0m \u001b[0mnumpy\u001b[0m\u001b[1;33m.\u001b[0m\u001b[0mndarray\u001b[0m\u001b[1;33m]\u001b[0m\u001b[1;33m]\u001b[0m\u001b[1;33m,\u001b[0m \u001b[0mNoneType\u001b[0m\u001b[1;33m]\u001b[0m \u001b[1;33m=\u001b[0m \u001b[1;32mNone\u001b[0m\u001b[1;33m,\u001b[0m\u001b[1;33m\n",
       "\u001b[0m    \u001b[0mclass_weight\u001b[0m\u001b[1;33m:\u001b[0m \u001b[0mUnion\u001b[0m\u001b[1;33m[\u001b[0m\u001b[0mDict\u001b[0m\u001b[1;33m,\u001b[0m \u001b[0mstr\u001b[0m\u001b[1;33m,\u001b[0m \u001b[0mNoneType\u001b[0m\u001b[1;33m]\u001b[0m \u001b[1;33m=\u001b[0m \u001b[1;32mNone\u001b[0m\u001b[1;33m,\u001b[0m\u001b[1;33m\n",
       "\u001b[0m    \u001b[0mmin_split_gain\u001b[0m\u001b[1;33m:\u001b[0m \u001b[0mfloat\u001b[0m \u001b[1;33m=\u001b[0m \u001b[1;36m0.0\u001b[0m\u001b[1;33m,\u001b[0m\u001b[1;33m\n",
       "\u001b[0m    \u001b[0mmin_child_weight\u001b[0m\u001b[1;33m:\u001b[0m \u001b[0mfloat\u001b[0m \u001b[1;33m=\u001b[0m \u001b[1;36m0.001\u001b[0m\u001b[1;33m,\u001b[0m\u001b[1;33m\n",
       "\u001b[0m    \u001b[0mmin_child_samples\u001b[0m\u001b[1;33m:\u001b[0m \u001b[0mint\u001b[0m \u001b[1;33m=\u001b[0m \u001b[1;36m20\u001b[0m\u001b[1;33m,\u001b[0m\u001b[1;33m\n",
       "\u001b[0m    \u001b[0msubsample\u001b[0m\u001b[1;33m:\u001b[0m \u001b[0mfloat\u001b[0m \u001b[1;33m=\u001b[0m \u001b[1;36m1.0\u001b[0m\u001b[1;33m,\u001b[0m\u001b[1;33m\n",
       "\u001b[0m    \u001b[0msubsample_freq\u001b[0m\u001b[1;33m:\u001b[0m \u001b[0mint\u001b[0m \u001b[1;33m=\u001b[0m \u001b[1;36m0\u001b[0m\u001b[1;33m,\u001b[0m\u001b[1;33m\n",
       "\u001b[0m    \u001b[0mcolsample_bytree\u001b[0m\u001b[1;33m:\u001b[0m \u001b[0mfloat\u001b[0m \u001b[1;33m=\u001b[0m \u001b[1;36m1.0\u001b[0m\u001b[1;33m,\u001b[0m\u001b[1;33m\n",
       "\u001b[0m    \u001b[0mreg_alpha\u001b[0m\u001b[1;33m:\u001b[0m \u001b[0mfloat\u001b[0m \u001b[1;33m=\u001b[0m \u001b[1;36m0.0\u001b[0m\u001b[1;33m,\u001b[0m\u001b[1;33m\n",
       "\u001b[0m    \u001b[0mreg_lambda\u001b[0m\u001b[1;33m:\u001b[0m \u001b[0mfloat\u001b[0m \u001b[1;33m=\u001b[0m \u001b[1;36m0.0\u001b[0m\u001b[1;33m,\u001b[0m\u001b[1;33m\n",
       "\u001b[0m    \u001b[0mrandom_state\u001b[0m\u001b[1;33m:\u001b[0m \u001b[0mUnion\u001b[0m\u001b[1;33m[\u001b[0m\u001b[0mint\u001b[0m\u001b[1;33m,\u001b[0m \u001b[0mnumpy\u001b[0m\u001b[1;33m.\u001b[0m\u001b[0mrandom\u001b[0m\u001b[1;33m.\u001b[0m\u001b[0mmtrand\u001b[0m\u001b[1;33m.\u001b[0m\u001b[0mRandomState\u001b[0m\u001b[1;33m,\u001b[0m \u001b[0mNoneType\u001b[0m\u001b[1;33m]\u001b[0m \u001b[1;33m=\u001b[0m \u001b[1;32mNone\u001b[0m\u001b[1;33m,\u001b[0m\u001b[1;33m\n",
       "\u001b[0m    \u001b[0mn_jobs\u001b[0m\u001b[1;33m:\u001b[0m \u001b[0mOptional\u001b[0m\u001b[1;33m[\u001b[0m\u001b[0mint\u001b[0m\u001b[1;33m]\u001b[0m \u001b[1;33m=\u001b[0m \u001b[1;32mNone\u001b[0m\u001b[1;33m,\u001b[0m\u001b[1;33m\n",
       "\u001b[0m    \u001b[0mimportance_type\u001b[0m\u001b[1;33m:\u001b[0m \u001b[0mstr\u001b[0m \u001b[1;33m=\u001b[0m \u001b[1;34m'split'\u001b[0m\u001b[1;33m,\u001b[0m\u001b[1;33m\n",
       "\u001b[0m    \u001b[1;33m**\u001b[0m\u001b[0mkwargs\u001b[0m\u001b[1;33m,\u001b[0m\u001b[1;33m\n",
       "\u001b[0m\u001b[1;33m)\u001b[0m\u001b[1;33m\u001b[0m\u001b[1;33m\u001b[0m\u001b[0m\n",
       "\u001b[1;31mSource:\u001b[0m        \n",
       "\u001b[1;32mclass\u001b[0m \u001b[0mLGBMRegressor\u001b[0m\u001b[1;33m(\u001b[0m\u001b[0m_LGBMRegressorBase\u001b[0m\u001b[1;33m,\u001b[0m \u001b[0mLGBMModel\u001b[0m\u001b[1;33m)\u001b[0m\u001b[1;33m:\u001b[0m\u001b[1;33m\n",
       "\u001b[0m    \u001b[1;34m\"\"\"LightGBM regressor.\"\"\"\u001b[0m\u001b[1;33m\n",
       "\u001b[0m\u001b[1;33m\n",
       "\u001b[0m    \u001b[1;32mdef\u001b[0m \u001b[0mfit\u001b[0m\u001b[1;33m(\u001b[0m  \u001b[1;31m# type: ignore[override]\u001b[0m\u001b[1;33m\n",
       "\u001b[0m        \u001b[0mself\u001b[0m\u001b[1;33m,\u001b[0m\u001b[1;33m\n",
       "\u001b[0m        \u001b[0mX\u001b[0m\u001b[1;33m:\u001b[0m \u001b[0m_LGBM_ScikitMatrixLike\u001b[0m\u001b[1;33m,\u001b[0m\u001b[1;33m\n",
       "\u001b[0m        \u001b[0my\u001b[0m\u001b[1;33m:\u001b[0m \u001b[0m_LGBM_LabelType\u001b[0m\u001b[1;33m,\u001b[0m\u001b[1;33m\n",
       "\u001b[0m        \u001b[0msample_weight\u001b[0m\u001b[1;33m:\u001b[0m \u001b[0mOptional\u001b[0m\u001b[1;33m[\u001b[0m\u001b[0m_LGBM_WeightType\u001b[0m\u001b[1;33m]\u001b[0m \u001b[1;33m=\u001b[0m \u001b[1;32mNone\u001b[0m\u001b[1;33m,\u001b[0m\u001b[1;33m\n",
       "\u001b[0m        \u001b[0minit_score\u001b[0m\u001b[1;33m:\u001b[0m \u001b[0mOptional\u001b[0m\u001b[1;33m[\u001b[0m\u001b[0m_LGBM_InitScoreType\u001b[0m\u001b[1;33m]\u001b[0m \u001b[1;33m=\u001b[0m \u001b[1;32mNone\u001b[0m\u001b[1;33m,\u001b[0m\u001b[1;33m\n",
       "\u001b[0m        \u001b[0meval_set\u001b[0m\u001b[1;33m:\u001b[0m \u001b[0mOptional\u001b[0m\u001b[1;33m[\u001b[0m\u001b[0mList\u001b[0m\u001b[1;33m[\u001b[0m\u001b[0m_LGBM_ScikitValidSet\u001b[0m\u001b[1;33m]\u001b[0m\u001b[1;33m]\u001b[0m \u001b[1;33m=\u001b[0m \u001b[1;32mNone\u001b[0m\u001b[1;33m,\u001b[0m\u001b[1;33m\n",
       "\u001b[0m        \u001b[0meval_names\u001b[0m\u001b[1;33m:\u001b[0m \u001b[0mOptional\u001b[0m\u001b[1;33m[\u001b[0m\u001b[0mList\u001b[0m\u001b[1;33m[\u001b[0m\u001b[0mstr\u001b[0m\u001b[1;33m]\u001b[0m\u001b[1;33m]\u001b[0m \u001b[1;33m=\u001b[0m \u001b[1;32mNone\u001b[0m\u001b[1;33m,\u001b[0m\u001b[1;33m\n",
       "\u001b[0m        \u001b[0meval_sample_weight\u001b[0m\u001b[1;33m:\u001b[0m \u001b[0mOptional\u001b[0m\u001b[1;33m[\u001b[0m\u001b[0mList\u001b[0m\u001b[1;33m[\u001b[0m\u001b[0m_LGBM_WeightType\u001b[0m\u001b[1;33m]\u001b[0m\u001b[1;33m]\u001b[0m \u001b[1;33m=\u001b[0m \u001b[1;32mNone\u001b[0m\u001b[1;33m,\u001b[0m\u001b[1;33m\n",
       "\u001b[0m        \u001b[0meval_init_score\u001b[0m\u001b[1;33m:\u001b[0m \u001b[0mOptional\u001b[0m\u001b[1;33m[\u001b[0m\u001b[0mList\u001b[0m\u001b[1;33m[\u001b[0m\u001b[0m_LGBM_InitScoreType\u001b[0m\u001b[1;33m]\u001b[0m\u001b[1;33m]\u001b[0m \u001b[1;33m=\u001b[0m \u001b[1;32mNone\u001b[0m\u001b[1;33m,\u001b[0m\u001b[1;33m\n",
       "\u001b[0m        \u001b[0meval_metric\u001b[0m\u001b[1;33m:\u001b[0m \u001b[0mOptional\u001b[0m\u001b[1;33m[\u001b[0m\u001b[0m_LGBM_ScikitEvalMetricType\u001b[0m\u001b[1;33m]\u001b[0m \u001b[1;33m=\u001b[0m \u001b[1;32mNone\u001b[0m\u001b[1;33m,\u001b[0m\u001b[1;33m\n",
       "\u001b[0m        \u001b[0mfeature_name\u001b[0m\u001b[1;33m:\u001b[0m \u001b[0m_LGBM_FeatureNameConfiguration\u001b[0m \u001b[1;33m=\u001b[0m \u001b[1;34m'auto'\u001b[0m\u001b[1;33m,\u001b[0m\u001b[1;33m\n",
       "\u001b[0m        \u001b[0mcategorical_feature\u001b[0m\u001b[1;33m:\u001b[0m \u001b[0m_LGBM_CategoricalFeatureConfiguration\u001b[0m \u001b[1;33m=\u001b[0m \u001b[1;34m'auto'\u001b[0m\u001b[1;33m,\u001b[0m\u001b[1;33m\n",
       "\u001b[0m        \u001b[0mcallbacks\u001b[0m\u001b[1;33m:\u001b[0m \u001b[0mOptional\u001b[0m\u001b[1;33m[\u001b[0m\u001b[0mList\u001b[0m\u001b[1;33m[\u001b[0m\u001b[0mCallable\u001b[0m\u001b[1;33m]\u001b[0m\u001b[1;33m]\u001b[0m \u001b[1;33m=\u001b[0m \u001b[1;32mNone\u001b[0m\u001b[1;33m,\u001b[0m\u001b[1;33m\n",
       "\u001b[0m        \u001b[0minit_model\u001b[0m\u001b[1;33m:\u001b[0m \u001b[0mOptional\u001b[0m\u001b[1;33m[\u001b[0m\u001b[0mUnion\u001b[0m\u001b[1;33m[\u001b[0m\u001b[0mstr\u001b[0m\u001b[1;33m,\u001b[0m \u001b[0mPath\u001b[0m\u001b[1;33m,\u001b[0m \u001b[0mBooster\u001b[0m\u001b[1;33m,\u001b[0m \u001b[0mLGBMModel\u001b[0m\u001b[1;33m]\u001b[0m\u001b[1;33m]\u001b[0m \u001b[1;33m=\u001b[0m \u001b[1;32mNone\u001b[0m\u001b[1;33m\n",
       "\u001b[0m    \u001b[1;33m)\u001b[0m \u001b[1;33m->\u001b[0m \u001b[1;34m\"LGBMRegressor\"\u001b[0m\u001b[1;33m:\u001b[0m\u001b[1;33m\n",
       "\u001b[0m        \u001b[1;34m\"\"\"Docstring is inherited from the LGBMModel.\"\"\"\u001b[0m\u001b[1;33m\n",
       "\u001b[0m        \u001b[0msuper\u001b[0m\u001b[1;33m(\u001b[0m\u001b[1;33m)\u001b[0m\u001b[1;33m.\u001b[0m\u001b[0mfit\u001b[0m\u001b[1;33m(\u001b[0m\u001b[1;33m\n",
       "\u001b[0m            \u001b[0mX\u001b[0m\u001b[1;33m,\u001b[0m\u001b[1;33m\n",
       "\u001b[0m            \u001b[0my\u001b[0m\u001b[1;33m,\u001b[0m\u001b[1;33m\n",
       "\u001b[0m            \u001b[0msample_weight\u001b[0m\u001b[1;33m=\u001b[0m\u001b[0msample_weight\u001b[0m\u001b[1;33m,\u001b[0m\u001b[1;33m\n",
       "\u001b[0m            \u001b[0minit_score\u001b[0m\u001b[1;33m=\u001b[0m\u001b[0minit_score\u001b[0m\u001b[1;33m,\u001b[0m\u001b[1;33m\n",
       "\u001b[0m            \u001b[0meval_set\u001b[0m\u001b[1;33m=\u001b[0m\u001b[0meval_set\u001b[0m\u001b[1;33m,\u001b[0m\u001b[1;33m\n",
       "\u001b[0m            \u001b[0meval_names\u001b[0m\u001b[1;33m=\u001b[0m\u001b[0meval_names\u001b[0m\u001b[1;33m,\u001b[0m\u001b[1;33m\n",
       "\u001b[0m            \u001b[0meval_sample_weight\u001b[0m\u001b[1;33m=\u001b[0m\u001b[0meval_sample_weight\u001b[0m\u001b[1;33m,\u001b[0m\u001b[1;33m\n",
       "\u001b[0m            \u001b[0meval_init_score\u001b[0m\u001b[1;33m=\u001b[0m\u001b[0meval_init_score\u001b[0m\u001b[1;33m,\u001b[0m\u001b[1;33m\n",
       "\u001b[0m            \u001b[0meval_metric\u001b[0m\u001b[1;33m=\u001b[0m\u001b[0meval_metric\u001b[0m\u001b[1;33m,\u001b[0m\u001b[1;33m\n",
       "\u001b[0m            \u001b[0mfeature_name\u001b[0m\u001b[1;33m=\u001b[0m\u001b[0mfeature_name\u001b[0m\u001b[1;33m,\u001b[0m\u001b[1;33m\n",
       "\u001b[0m            \u001b[0mcategorical_feature\u001b[0m\u001b[1;33m=\u001b[0m\u001b[0mcategorical_feature\u001b[0m\u001b[1;33m,\u001b[0m\u001b[1;33m\n",
       "\u001b[0m            \u001b[0mcallbacks\u001b[0m\u001b[1;33m=\u001b[0m\u001b[0mcallbacks\u001b[0m\u001b[1;33m,\u001b[0m\u001b[1;33m\n",
       "\u001b[0m            \u001b[0minit_model\u001b[0m\u001b[1;33m=\u001b[0m\u001b[0minit_model\u001b[0m\u001b[1;33m\n",
       "\u001b[0m        \u001b[1;33m)\u001b[0m\u001b[1;33m\n",
       "\u001b[0m        \u001b[1;32mreturn\u001b[0m \u001b[0mself\u001b[0m\u001b[1;33m\n",
       "\u001b[0m\u001b[1;33m\n",
       "\u001b[0m    \u001b[0m_base_doc\u001b[0m \u001b[1;33m=\u001b[0m \u001b[0mLGBMModel\u001b[0m\u001b[1;33m.\u001b[0m\u001b[0mfit\u001b[0m\u001b[1;33m.\u001b[0m\u001b[0m__doc__\u001b[0m\u001b[1;33m.\u001b[0m\u001b[0mreplace\u001b[0m\u001b[1;33m(\u001b[0m\u001b[1;34m\"self : LGBMModel\"\u001b[0m\u001b[1;33m,\u001b[0m \u001b[1;34m\"self : LGBMRegressor\"\u001b[0m\u001b[1;33m)\u001b[0m  \u001b[1;31m# type: ignore\u001b[0m\u001b[1;33m\n",
       "\u001b[0m    \u001b[0m_base_doc\u001b[0m \u001b[1;33m=\u001b[0m \u001b[1;33m(\u001b[0m\u001b[0m_base_doc\u001b[0m\u001b[1;33m[\u001b[0m\u001b[1;33m:\u001b[0m\u001b[0m_base_doc\u001b[0m\u001b[1;33m.\u001b[0m\u001b[0mfind\u001b[0m\u001b[1;33m(\u001b[0m\u001b[1;34m'group :'\u001b[0m\u001b[1;33m)\u001b[0m\u001b[1;33m]\u001b[0m  \u001b[1;31m# type: ignore\u001b[0m\u001b[1;33m\n",
       "\u001b[0m                 \u001b[1;33m+\u001b[0m \u001b[0m_base_doc\u001b[0m\u001b[1;33m[\u001b[0m\u001b[0m_base_doc\u001b[0m\u001b[1;33m.\u001b[0m\u001b[0mfind\u001b[0m\u001b[1;33m(\u001b[0m\u001b[1;34m'eval_set :'\u001b[0m\u001b[1;33m)\u001b[0m\u001b[1;33m:\u001b[0m\u001b[1;33m]\u001b[0m\u001b[1;33m)\u001b[0m  \u001b[1;31m# type: ignore\u001b[0m\u001b[1;33m\n",
       "\u001b[0m    \u001b[0m_base_doc\u001b[0m \u001b[1;33m=\u001b[0m \u001b[1;33m(\u001b[0m\u001b[0m_base_doc\u001b[0m\u001b[1;33m[\u001b[0m\u001b[1;33m:\u001b[0m\u001b[0m_base_doc\u001b[0m\u001b[1;33m.\u001b[0m\u001b[0mfind\u001b[0m\u001b[1;33m(\u001b[0m\u001b[1;34m'eval_class_weight :'\u001b[0m\u001b[1;33m)\u001b[0m\u001b[1;33m]\u001b[0m\u001b[1;33m\n",
       "\u001b[0m                 \u001b[1;33m+\u001b[0m \u001b[0m_base_doc\u001b[0m\u001b[1;33m[\u001b[0m\u001b[0m_base_doc\u001b[0m\u001b[1;33m.\u001b[0m\u001b[0mfind\u001b[0m\u001b[1;33m(\u001b[0m\u001b[1;34m'eval_init_score :'\u001b[0m\u001b[1;33m)\u001b[0m\u001b[1;33m:\u001b[0m\u001b[1;33m]\u001b[0m\u001b[1;33m)\u001b[0m\u001b[1;33m\n",
       "\u001b[0m    \u001b[0mfit\u001b[0m\u001b[1;33m.\u001b[0m\u001b[0m__doc__\u001b[0m \u001b[1;33m=\u001b[0m \u001b[1;33m(\u001b[0m\u001b[0m_base_doc\u001b[0m\u001b[1;33m[\u001b[0m\u001b[1;33m:\u001b[0m\u001b[0m_base_doc\u001b[0m\u001b[1;33m.\u001b[0m\u001b[0mfind\u001b[0m\u001b[1;33m(\u001b[0m\u001b[1;34m'eval_group :'\u001b[0m\u001b[1;33m)\u001b[0m\u001b[1;33m]\u001b[0m\u001b[1;33m\n",
       "\u001b[0m                   \u001b[1;33m+\u001b[0m \u001b[0m_base_doc\u001b[0m\u001b[1;33m[\u001b[0m\u001b[0m_base_doc\u001b[0m\u001b[1;33m.\u001b[0m\u001b[0mfind\u001b[0m\u001b[1;33m(\u001b[0m\u001b[1;34m'eval_metric :'\u001b[0m\u001b[1;33m)\u001b[0m\u001b[1;33m:\u001b[0m\u001b[1;33m]\u001b[0m\u001b[1;33m)\u001b[0m\u001b[1;33m\u001b[0m\u001b[1;33m\u001b[0m\u001b[0m\n",
       "\u001b[1;31mFile:\u001b[0m           c:\\users\\ariz\\appdata\\local\\programs\\python\\python311\\lib\\site-packages\\lightgbm\\sklearn.py\n",
       "\u001b[1;31mType:\u001b[0m           type\n",
       "\u001b[1;31mSubclasses:\u001b[0m     DaskLGBMRegressor"
      ]
     },
     "metadata": {},
     "output_type": "display_data"
    }
   ],
   "source": [
    "LGBMRegressor??"
   ]
  },
  {
   "cell_type": "code",
   "execution_count": 63,
   "id": "bcfc337d-20fd-48be-97e2-717d935fec0f",
   "metadata": {
    "scrolled": true
   },
   "outputs": [
    {
     "name": "stderr",
     "output_type": "stream",
     "text": [
      "[I 2023-08-14 15:52:03,659] A new study created in memory with name: lgbm_parameter_opt\n",
      "[I 2023-08-14 15:52:03,754] Trial 0 finished with value: 27.25680497153392 and parameters: {'learning_rate': 0.06872700594236814, 'n_estimators': 956, 'max_depth': 22, 'num_leaves': 154, 'colsample_bytree': 0.2624074561769746, 'subsample': 0.40919616423534183, 'subsample_freq': 1, 'min_child_samples': 27}. Best is trial 0 with value: 27.25680497153392.\n",
      "[I 2023-08-14 15:52:03,780] Trial 1 finished with value: 28.532258619976012 and parameters: {'learning_rate': 0.08005575058716044, 'n_estimators': 737, 'max_depth': 1, 'num_leaves': 249, 'colsample_bytree': 0.5329770563201687, 'subsample': 0.44863737747479326, 'subsample_freq': 2, 'min_child_samples': 7}. Best is trial 0 with value: 27.25680497153392.\n"
     ]
    },
    {
     "name": "stdout",
     "output_type": "stream",
     "text": [
      "Training until validation scores don't improve for 100 rounds\n",
      "Early stopping, best iteration is:\n",
      "[86]\ttraining's mape: 0.0840071\ttraining's rmse: 71.7307\tvalid_1's mape: 0.416361\tvalid_1's rmse: 649.966\n",
      "Training until validation scores don't improve for 100 rounds\n",
      "Early stopping, best iteration is:\n",
      "[1]\ttraining's mape: 0.432888\ttraining's rmse: 298.383\tvalid_1's mape: 0.438511\tvalid_1's rmse: 736.169\n",
      "Training until validation scores don't improve for 100 rounds\n"
     ]
    },
    {
     "name": "stderr",
     "output_type": "stream",
     "text": [
      "[I 2023-08-14 15:52:04,002] Trial 2 finished with value: 28.698406020621892 and parameters: {'learning_rate': 0.0652121121479769, 'n_estimators': 572, 'max_depth': 13, 'num_leaves': 76, 'colsample_bytree': 0.44474115788895174, 'subsample': 0.3976457024564293, 'subsample_freq': 3, 'min_child_samples': 12}. Best is trial 0 with value: 27.25680497153392.\n",
      "[I 2023-08-14 15:52:04,067] Trial 3 finished with value: 28.45876393635085 and parameters: {'learning_rate': 0.0728034992108518, 'n_estimators': 807, 'max_depth': 6, 'num_leaves': 133, 'colsample_bytree': 0.43696582754481694, 'subsample': 0.3325152889039984, 'subsample_freq': 7, 'min_child_samples': 6}. Best is trial 0 with value: 27.25680497153392.\n"
     ]
    },
    {
     "name": "stdout",
     "output_type": "stream",
     "text": [
      "Early stopping, best iteration is:\n",
      "[231]\ttraining's mape: 0.0345619\ttraining's rmse: 33.7935\tvalid_1's mape: 0.431513\tvalid_1's rmse: 669.583\n",
      "Training until validation scores don't improve for 100 rounds\n",
      "Early stopping, best iteration is:\n",
      "[43]\ttraining's mape: 0.0923061\ttraining's rmse: 75.3059\tvalid_1's mape: 0.432144\tvalid_1's rmse: 671.968\n",
      "Training until validation scores don't improve for 100 rounds\n",
      "Early stopping, best iteration is:\n",
      "[84]\ttraining's mape: 0.0921058\ttraining's rmse: 76.9867\tvalid_1's mape: 0.41751\tvalid_1's rmse: 650.98\n"
     ]
    },
    {
     "name": "stderr",
     "output_type": "stream",
     "text": [
      "[I 2023-08-14 15:52:04,152] Trial 4 finished with value: 27.2544887642045 and parameters: {'learning_rate': 0.05325257964926398, 'n_estimators': 954, 'max_depth': 29, 'num_leaves': 208, 'colsample_bytree': 0.3218455076693483, 'subsample': 0.3683704798044687, 'subsample_freq': 7, 'min_child_samples': 14}. Best is trial 4 with value: 27.2544887642045.\n",
      "[I 2023-08-14 15:52:04,206] Trial 5 finished with value: 27.83041983644825 and parameters: {'learning_rate': 0.05610191174223894, 'n_estimators': 546, 'max_depth': 2, 'num_leaves': 233, 'colsample_bytree': 0.3035119926400068, 'subsample': 0.7637655990477874, 'subsample_freq': 4, 'min_child_samples': 17}. Best is trial 4 with value: 27.2544887642045.\n",
      "[I 2023-08-14 15:52:04,310] Trial 6 finished with value: 28.286250794814123 and parameters: {'learning_rate': 0.07733551396716398, 'n_estimators': 266, 'max_depth': 30, 'num_leaves': 199, 'colsample_bytree': 0.5757995766256756, 'subsample': 0.9263791452993542, 'subsample_freq': 6, 'min_child_samples': 28}. Best is trial 4 with value: 27.2544887642045.\n",
      "[I 2023-08-14 15:52:04,354] Trial 7 finished with value: 28.867945750848296 and parameters: {'learning_rate': 0.05442462510259598, 'n_estimators': 276, 'max_depth': 2, 'num_leaves': 84, 'colsample_bytree': 0.3554709158757928, 'subsample': 0.4899443222417271, 'subsample_freq': 9, 'min_child_samples': 12}. Best is trial 4 with value: 27.2544887642045.\n"
     ]
    },
    {
     "name": "stdout",
     "output_type": "stream",
     "text": [
      "Training until validation scores don't improve for 100 rounds\n",
      "Early stopping, best iteration is:\n",
      "[222]\ttraining's mape: 0.0814291\ttraining's rmse: 73.1114\tvalid_1's mape: 0.421707\tvalid_1's rmse: 654.297\n",
      "Training until validation scores don't improve for 100 rounds\n",
      "Early stopping, best iteration is:\n",
      "[53]\ttraining's mape: 0.0509194\ttraining's rmse: 47.6413\tvalid_1's mape: 0.425522\tvalid_1's rmse: 661.696\n",
      "Training until validation scores don't improve for 100 rounds\n",
      "Did not meet early stopping. Best iteration is:\n",
      "[252]\ttraining's mape: 0.0693749\ttraining's rmse: 64.7975\tvalid_1's mape: 0.433639\tvalid_1's rmse: 671.262\n"
     ]
    },
    {
     "name": "stderr",
     "output_type": "stream",
     "text": [
      "[I 2023-08-14 15:52:04,415] Trial 8 finished with value: 28.175668004442993 and parameters: {'learning_rate': 0.06404672548436904, 'n_estimators': 588, 'max_depth': 5, 'num_leaves': 206, 'colsample_bytree': 0.22982025747190835, 'subsample': 0.9908208556203622, 'subsample_freq': 8, 'min_child_samples': 7}. Best is trial 4 with value: 27.2544887642045.\n"
     ]
    },
    {
     "name": "stdout",
     "output_type": "stream",
     "text": [
      "Training until validation scores don't improve for 100 rounds\n",
      "Early stopping, best iteration is:\n",
      "[87]\ttraining's mape: 0.106959\ttraining's rmse: 88.5385\tvalid_1's mape: 0.429847\tvalid_1's rmse: 668.096\n",
      "Training until validation scores don't improve for 100 rounds\n"
     ]
    },
    {
     "name": "stderr",
     "output_type": "stream",
     "text": [
      "[I 2023-08-14 15:52:04,599] Trial 9 finished with value: 27.89908437004065 and parameters: {'learning_rate': 0.05027610585618012, 'n_estimators': 834, 'max_depth': 22, 'num_leaves': 187, 'colsample_bytree': 0.5085081386743783, 'subsample': 0.35183125621386324, 'subsample_freq': 4, 'min_child_samples': 5}. Best is trial 4 with value: 27.2544887642045.\n",
      "[I 2023-08-14 15:52:04,655] Trial 10 finished with value: 27.34028931343949 and parameters: {'learning_rate': 0.09280447462707023, 'n_estimators': 105, 'max_depth': 30, 'num_leaves': 6, 'colsample_bytree': 0.34907353484081194, 'subsample': 0.589009807278857, 'subsample_freq': 10, 'min_child_samples': 21}. Best is trial 4 with value: 27.2544887642045.\n",
      "[I 2023-08-14 15:52:04,755] Trial 11 finished with value: 28.154245211433516 and parameters: {'learning_rate': 0.06039256080877499, 'n_estimators': 997, 'max_depth': 23, 'num_leaves': 152, 'colsample_bytree': 0.20855821935659888, 'subsample': 0.5474135038949431, 'subsample_freq': 1, 'min_child_samples': 29}. Best is trial 4 with value: 27.2544887642045.\n"
     ]
    },
    {
     "name": "stdout",
     "output_type": "stream",
     "text": [
      "Early stopping, best iteration is:\n",
      "[69]\ttraining's mape: 0.0575751\ttraining's rmse: 50.2947\tvalid_1's mape: 0.423438\tvalid_1's rmse: 657.724\n",
      "Training until validation scores don't improve for 100 rounds\n",
      "Did not meet early stopping. Best iteration is:\n",
      "[53]\ttraining's mape: 0.108374\ttraining's rmse: 88.5819\tvalid_1's mape: 0.418133\tvalid_1's rmse: 651.892\n",
      "Training until validation scores don't improve for 100 rounds\n",
      "Early stopping, best iteration is:\n",
      "[87]\ttraining's mape: 0.115213\ttraining's rmse: 93.9037\tvalid_1's mape: 0.429966\tvalid_1's rmse: 668.945\n"
     ]
    },
    {
     "name": "stderr",
     "output_type": "stream",
     "text": [
      "[I 2023-08-14 15:52:04,843] Trial 12 finished with value: 27.011428355974747 and parameters: {'learning_rate': 0.06885088523135915, 'n_estimators': 999, 'max_depth': 24, 'num_leaves': 165, 'colsample_bytree': 0.28400999036835417, 'subsample': 0.30651780889839714, 'subsample_freq': 5, 'min_child_samples': 23}. Best is trial 12 with value: 27.011428355974747.\n",
      "[I 2023-08-14 15:52:04,947] Trial 13 finished with value: 26.91520067403071 and parameters: {'learning_rate': 0.05795398214668247, 'n_estimators': 898, 'max_depth': 26, 'num_leaves': 89, 'colsample_bytree': 0.29639921113426004, 'subsample': 0.3020936681512906, 'subsample_freq': 6, 'min_child_samples': 22}. Best is trial 13 with value: 26.91520067403071.\n"
     ]
    },
    {
     "name": "stdout",
     "output_type": "stream",
     "text": [
      "Training until validation scores don't improve for 100 rounds\n",
      "Early stopping, best iteration is:\n",
      "[76]\ttraining's mape: 0.0911516\ttraining's rmse: 76.7694\tvalid_1's mape: 0.413529\tvalid_1's rmse: 643.974\n",
      "Training until validation scores don't improve for 100 rounds\n",
      "Early stopping, best iteration is:\n",
      "[86]\ttraining's mape: 0.0987547\ttraining's rmse: 81.6073\tvalid_1's mape: 0.41333\tvalid_1's rmse: 644.336\n",
      "Training until validation scores don't improve for 100 rounds\n"
     ]
    },
    {
     "name": "stderr",
     "output_type": "stream",
     "text": [
      "[I 2023-08-14 15:52:05,044] Trial 14 finished with value: 26.74148340140573 and parameters: {'learning_rate': 0.06097178194521654, 'n_estimators': 712, 'max_depth': 18, 'num_leaves': 87, 'colsample_bytree': 0.27204200716762206, 'subsample': 0.30463754198795295, 'subsample_freq': 5, 'min_child_samples': 22}. Best is trial 14 with value: 26.74148340140573.\n",
      "[I 2023-08-14 15:52:05,163] Trial 15 finished with value: 28.16097109658123 and parameters: {'learning_rate': 0.059617993929419785, 'n_estimators': 695, 'max_depth': 15, 'num_leaves': 77, 'colsample_bytree': 0.2476363904991625, 'subsample': 0.4981289230614936, 'subsample_freq': 6, 'min_child_samples': 21}. Best is trial 14 with value: 26.74148340140573.\n"
     ]
    },
    {
     "name": "stdout",
     "output_type": "stream",
     "text": [
      "Early stopping, best iteration is:\n",
      "[55]\ttraining's mape: 0.125941\ttraining's rmse: 98.8459\tvalid_1's mape: 0.4128\tvalid_1's rmse: 646.116\n",
      "Training until validation scores don't improve for 100 rounds\n",
      "Early stopping, best iteration is:\n",
      "[103]\ttraining's mape: 0.105021\ttraining's rmse: 87.1709\tvalid_1's mape: 0.42943\tvalid_1's rmse: 668.143\n",
      "Training until validation scores don't improve for 100 rounds\n",
      "Early stopping, best iteration is:\n",
      "[69]\ttraining's mape: 0.13784\ttraining's rmse: 107.267\tvalid_1's mape: 0.429297\tvalid_1's rmse: 670.125\n"
     ]
    },
    {
     "name": "stderr",
     "output_type": "stream",
     "text": [
      "[I 2023-08-14 15:52:05,256] Trial 16 finished with value: 28.004764599160254 and parameters: {'learning_rate': 0.05886781125458535, 'n_estimators': 833, 'max_depth': 18, 'num_leaves': 35, 'colsample_bytree': 0.20288060956639664, 'subsample': 0.3159061859814953, 'subsample_freq': 4, 'min_child_samples': 24}. Best is trial 14 with value: 26.74148340140573.\n",
      "[I 2023-08-14 15:52:05,400] Trial 17 finished with value: 27.02851265950611 and parameters: {'learning_rate': 0.05005035426329522, 'n_estimators': 451, 'max_depth': 10, 'num_leaves': 106, 'colsample_bytree': 0.27711994419444286, 'subsample': 0.6390261129463759, 'subsample_freq': 5, 'min_child_samples': 17}. Best is trial 14 with value: 26.74148340140573.\n"
     ]
    },
    {
     "name": "stdout",
     "output_type": "stream",
     "text": [
      "Training until validation scores don't improve for 100 rounds\n",
      "Early stopping, best iteration is:\n",
      "[86]\ttraining's mape: 0.08904\ttraining's rmse: 73.1634\tvalid_1's mape: 0.415181\tvalid_1's rmse: 647.712\n",
      "Training until validation scores don't improve for 100 rounds\n",
      "Early stopping, best iteration is:\n",
      "[43]\ttraining's mape: 0.107884\ttraining's rmse: 84.9663\tvalid_1's mape: 0.432968\tvalid_1's rmse: 674.692\n"
     ]
    },
    {
     "name": "stderr",
     "output_type": "stream",
     "text": [
      "[I 2023-08-14 15:52:05,512] Trial 18 finished with value: 28.449781479687342 and parameters: {'learning_rate': 0.06331445006802419, 'n_estimators': 681, 'max_depth': 18, 'num_leaves': 44, 'colsample_bytree': 0.374439933428912, 'subsample': 0.4416285541391074, 'subsample_freq': 7, 'min_child_samples': 19}. Best is trial 14 with value: 26.74148340140573.\n",
      "[I 2023-08-14 15:52:05,625] Trial 19 finished with value: 27.026528137997214 and parameters: {'learning_rate': 0.055070048883196346, 'n_estimators': 424, 'max_depth': 27, 'num_leaves': 112, 'colsample_bytree': 0.315427674327831, 'subsample': 0.40445593804836366, 'subsample_freq': 8, 'min_child_samples': 25}. Best is trial 14 with value: 26.74148340140573.\n",
      "[I 2023-08-14 15:52:05,728] Trial 20 finished with value: 26.833080412628345 and parameters: {'learning_rate': 0.058705215728083654, 'n_estimators': 867, 'max_depth': 19, 'num_leaves': 53, 'colsample_bytree': 0.2541261528892598, 'subsample': 0.5119989534258751, 'subsample_freq': 3, 'min_child_samples': 20}. Best is trial 14 with value: 26.74148340140573.\n"
     ]
    },
    {
     "name": "stdout",
     "output_type": "stream",
     "text": [
      "Training until validation scores don't improve for 100 rounds\n",
      "Early stopping, best iteration is:\n",
      "[81]\ttraining's mape: 0.0982511\ttraining's rmse: 81.4223\tvalid_1's mape: 0.414374\tvalid_1's rmse: 646.701\n",
      "Training until validation scores don't improve for 100 rounds\n",
      "Early stopping, best iteration is:\n",
      "[55]\ttraining's mape: 0.12076\ttraining's rmse: 93.3096\tvalid_1's mape: 0.413998\tvalid_1's rmse: 648.637\n",
      "Training until validation scores don't improve for 100 rounds\n"
     ]
    },
    {
     "name": "stderr",
     "output_type": "stream",
     "text": [
      "[I 2023-08-14 15:52:05,846] Trial 21 finished with value: 28.103105164926106 and parameters: {'learning_rate': 0.05938694734715762, 'n_estimators': 882, 'max_depth': 19, 'num_leaves': 48, 'colsample_bytree': 0.2449112246196851, 'subsample': 0.3046908046259687, 'subsample_freq': 2, 'min_child_samples': 19}. Best is trial 14 with value: 26.74148340140573.\n",
      "[I 2023-08-14 15:52:05,957] Trial 22 finished with value: 26.847755553027792 and parameters: {'learning_rate': 0.05693849697152994, 'n_estimators': 754, 'max_depth': 12, 'num_leaves': 99, 'colsample_bytree': 0.2800767614182706, 'subsample': 0.4895324897510357, 'subsample_freq': 3, 'min_child_samples': 22}. Best is trial 14 with value: 26.74148340140573.\n"
     ]
    },
    {
     "name": "stdout",
     "output_type": "stream",
     "text": [
      "Early stopping, best iteration is:\n",
      "[103]\ttraining's mape: 0.111499\ttraining's rmse: 91.5541\tvalid_1's mape: 0.428788\tvalid_1's rmse: 667.666\n",
      "Training until validation scores don't improve for 100 rounds\n",
      "Early stopping, best iteration is:\n",
      "[52]\ttraining's mape: 0.132381\ttraining's rmse: 100.43\tvalid_1's mape: 0.414741\tvalid_1's rmse: 650.762\n",
      "Training until validation scores don't improve for 100 rounds\n"
     ]
    },
    {
     "name": "stderr",
     "output_type": "stream",
     "text": [
      "[I 2023-08-14 15:52:06,059] Trial 23 finished with value: 26.928077039443714 and parameters: {'learning_rate': 0.06330581474193832, 'n_estimators': 749, 'max_depth': 12, 'num_leaves': 61, 'colsample_bytree': 0.2631513802089006, 'subsample': 0.5140495334396918, 'subsample_freq': 3, 'min_child_samples': 26}. Best is trial 14 with value: 26.74148340140573.\n",
      "[I 2023-08-14 15:52:06,162] Trial 24 finished with value: 27.95031200430004 and parameters: {'learning_rate': 0.052771937518210146, 'n_estimators': 638, 'max_depth': 10, 'num_leaves': 16, 'colsample_bytree': 0.22825724573682313, 'subsample': 0.574527203351562, 'subsample_freq': 3, 'min_child_samples': 30}. Best is trial 14 with value: 26.74148340140573.\n"
     ]
    },
    {
     "name": "stdout",
     "output_type": "stream",
     "text": [
      "Early stopping, best iteration is:\n",
      "[52]\ttraining's mape: 0.122683\ttraining's rmse: 94.7844\tvalid_1's mape: 0.415029\tvalid_1's rmse: 649.817\n",
      "Training until validation scores don't improve for 100 rounds\n",
      "Early stopping, best iteration is:\n",
      "[87]\ttraining's mape: 0.126664\ttraining's rmse: 101.316\tvalid_1's mape: 0.427933\tvalid_1's rmse: 667.433\n",
      "Training until validation scores don't improve for 100 rounds\n"
     ]
    },
    {
     "name": "stderr",
     "output_type": "stream",
     "text": [
      "[I 2023-08-14 15:52:06,388] Trial 25 finished with value: 27.2834789905837 and parameters: {'learning_rate': 0.05619291446144548, 'n_estimators': 781, 'max_depth': 16, 'num_leaves': 113, 'colsample_bytree': 0.3241178483479614, 'subsample': 0.45546078802213885, 'subsample_freq': 2, 'min_child_samples': 2}. Best is trial 14 with value: 26.74148340140573.\n",
      "[I 2023-08-14 15:52:06,477] Trial 26 finished with value: 26.99007128886079 and parameters: {'learning_rate': 0.06867310173361792, 'n_estimators': 641, 'max_depth': 20, 'num_leaves': 24, 'colsample_bytree': 0.2748079675130212, 'subsample': 0.527353384713078, 'subsample_freq': 5, 'min_child_samples': 15}. Best is trial 14 with value: 26.74148340140573.\n"
     ]
    },
    {
     "name": "stdout",
     "output_type": "stream",
     "text": [
      "Early stopping, best iteration is:\n",
      "[84]\ttraining's mape: 0.0589979\ttraining's rmse: 49.1244\tvalid_1's mape: 0.418526\tvalid_1's rmse: 653.516\n",
      "Training until validation scores don't improve for 100 rounds\n",
      "Early stopping, best iteration is:\n",
      "[55]\ttraining's mape: 0.105783\ttraining's rmse: 84.8204\tvalid_1's mape: 0.414995\tvalid_1's rmse: 647.229\n",
      "Training until validation scores don't improve for 100 rounds\n"
     ]
    },
    {
     "name": "stderr",
     "output_type": "stream",
     "text": [
      "[I 2023-08-14 15:52:06,590] Trial 27 finished with value: 28.09034900509054 and parameters: {'learning_rate': 0.06130733576552334, 'n_estimators': 488, 'max_depth': 15, 'num_leaves': 65, 'colsample_bytree': 0.200269996609623, 'subsample': 0.37747831069554993, 'subsample_freq': 4, 'min_child_samples': 19}. Best is trial 14 with value: 26.74148340140573.\n",
      "[I 2023-08-14 15:52:06,713] Trial 28 finished with value: 27.075397723565665 and parameters: {'learning_rate': 0.05017010362207876, 'n_estimators': 887, 'max_depth': 8, 'num_leaves': 130, 'colsample_bytree': 0.25270828724521266, 'subsample': 0.626941579689397, 'subsample_freq': 3, 'min_child_samples': 24}. Best is trial 14 with value: 26.74148340140573.\n"
     ]
    },
    {
     "name": "stdout",
     "output_type": "stream",
     "text": [
      "Early stopping, best iteration is:\n",
      "[69]\ttraining's mape: 0.128997\ttraining's rmse: 101.512\tvalid_1's mape: 0.430216\tvalid_1's rmse: 670.843\n",
      "Training until validation scores don't improve for 100 rounds\n",
      "Early stopping, best iteration is:\n",
      "[86]\ttraining's mape: 0.0965832\ttraining's rmse: 78.906\tvalid_1's mape: 0.41561\tvalid_1's rmse: 648.366\n",
      "Training until validation scores don't improve for 100 rounds\n"
     ]
    },
    {
     "name": "stderr",
     "output_type": "stream",
     "text": [
      "[I 2023-08-14 15:52:06,806] Trial 29 finished with value: 26.841587150308797 and parameters: {'learning_rate': 0.06788802179517096, 'n_estimators': 728, 'max_depth': 21, 'num_leaves': 92, 'colsample_bytree': 0.2849381491609629, 'subsample': 0.42651702424749555, 'subsample_freq': 2, 'min_child_samples': 27}. Best is trial 14 with value: 26.74148340140573.\n",
      "[I 2023-08-14 15:52:06,904] Trial 30 finished with value: 27.043113461653096 and parameters: {'learning_rate': 0.06740011607720378, 'n_estimators': 701, 'max_depth': 20, 'num_leaves': 62, 'colsample_bytree': 0.33638500163874463, 'subsample': 0.4246401776987007, 'subsample_freq': 1, 'min_child_samples': 27}. Best is trial 14 with value: 26.74148340140573.\n"
     ]
    },
    {
     "name": "stdout",
     "output_type": "stream",
     "text": [
      "Early stopping, best iteration is:\n",
      "[52]\ttraining's mape: 0.119405\ttraining's rmse: 93.7999\tvalid_1's mape: 0.413512\tvalid_1's rmse: 646.783\n",
      "Training until validation scores don't improve for 100 rounds\n",
      "Early stopping, best iteration is:\n",
      "[52]\ttraining's mape: 0.11848\ttraining's rmse: 93.2046\tvalid_1's mape: 0.416198\tvalid_1's rmse: 650.909\n",
      "Training until validation scores don't improve for 100 rounds\n",
      "Early stopping, best iteration is:\n",
      "[52]\ttraining's mape: 0.123257\ttraining's rmse: 95.3699\tvalid_1's mape: 0.414257\tvalid_1's rmse: 648.436\n"
     ]
    },
    {
     "name": "stderr",
     "output_type": "stream",
     "text": [
      "[I 2023-08-14 15:52:07,002] Trial 31 finished with value: 26.84332944058764 and parameters: {'learning_rate': 0.061832087013894546, 'n_estimators': 771, 'max_depth': 17, 'num_leaves': 98, 'colsample_bytree': 0.2969175432756711, 'subsample': 0.46989575189649024, 'subsample_freq': 2, 'min_child_samples': 21}. Best is trial 14 with value: 26.74148340140573.\n",
      "[I 2023-08-14 15:52:07,099] Trial 32 finished with value: 27.157169370985336 and parameters: {'learning_rate': 0.07175467504734512, 'n_estimators': 921, 'max_depth': 21, 'num_leaves': 142, 'colsample_bytree': 0.30243918434465183, 'subsample': 0.3751672785318505, 'subsample_freq': 1, 'min_child_samples': 26}. Best is trial 14 with value: 26.74148340140573.\n",
      "[I 2023-08-14 15:52:07,213] Trial 33 finished with value: 26.868722989683796 and parameters: {'learning_rate': 0.0654191419543095, 'n_estimators': 839, 'max_depth': 17, 'num_leaves': 96, 'colsample_bytree': 0.2653436588286191, 'subsample': 0.44734846502831854, 'subsample_freq': 2, 'min_child_samples': 20}. Best is trial 14 with value: 26.74148340140573.\n"
     ]
    },
    {
     "name": "stdout",
     "output_type": "stream",
     "text": [
      "Training until validation scores don't improve for 100 rounds\n",
      "Early stopping, best iteration is:\n",
      "[55]\ttraining's mape: 0.109224\ttraining's rmse: 88.1076\tvalid_1's mape: 0.416716\tvalid_1's rmse: 651.472\n",
      "Training until validation scores don't improve for 100 rounds\n",
      "Early stopping, best iteration is:\n",
      "[51]\ttraining's mape: 0.119743\ttraining's rmse: 93.1724\tvalid_1's mape: 0.414267\tvalid_1's rmse: 648.273\n",
      "Training until validation scores don't improve for 100 rounds\n"
     ]
    },
    {
     "name": "stderr",
     "output_type": "stream",
     "text": [
      "[I 2023-08-14 15:52:07,325] Trial 34 finished with value: 28.158986262075548 and parameters: {'learning_rate': 0.062087845657615194, 'n_estimators': 720, 'max_depth': 25, 'num_leaves': 119, 'colsample_bytree': 0.3737631716615988, 'subsample': 0.40992395341848437, 'subsample_freq': 2, 'min_child_samples': 17}. Best is trial 14 with value: 26.74148340140573.\n",
      "[I 2023-08-14 15:52:07,439] Trial 35 finished with value: 27.20998338795166 and parameters: {'learning_rate': 0.06616404187424099, 'n_estimators': 628, 'max_depth': 22, 'num_leaves': 71, 'colsample_bytree': 0.2981910134499266, 'subsample': 0.36193119807027024, 'subsample_freq': 1, 'min_child_samples': 24}. Best is trial 14 with value: 26.74148340140573.\n"
     ]
    },
    {
     "name": "stdout",
     "output_type": "stream",
     "text": [
      "Early stopping, best iteration is:\n",
      "[36]\ttraining's mape: 0.131311\ttraining's rmse: 98.4461\tvalid_1's mape: 0.431035\tvalid_1's rmse: 672.873\n",
      "Training until validation scores don't improve for 100 rounds\n",
      "Early stopping, best iteration is:\n",
      "[81]\ttraining's mape: 0.088132\ttraining's rmse: 74.466\tvalid_1's mape: 0.415835\tvalid_1's rmse: 648.91\n",
      "Training until validation scores don't improve for 100 rounds\n"
     ]
    },
    {
     "name": "stderr",
     "output_type": "stream",
     "text": [
      "[I 2023-08-14 15:52:07,543] Trial 36 finished with value: 28.254150561056434 and parameters: {'learning_rate': 0.07056951795670537, 'n_estimators': 791, 'max_depth': 14, 'num_leaves': 51, 'colsample_bytree': 0.22676946123720887, 'subsample': 0.46216394267487276, 'subsample_freq': 3, 'min_child_samples': 28}. Best is trial 14 with value: 26.74148340140573.\n",
      "[I 2023-08-14 15:52:07,671] Trial 37 finished with value: 26.60207105878314 and parameters: {'learning_rate': 0.07512669103365402, 'n_estimators': 850, 'max_depth': 17, 'num_leaves': 86, 'colsample_bytree': 0.31692848653578765, 'subsample': 0.40070424487656875, 'subsample_freq': 2, 'min_child_samples': 15}. Best is trial 37 with value: 26.60207105878314.\n"
     ]
    },
    {
     "name": "stdout",
     "output_type": "stream",
     "text": [
      "Early stopping, best iteration is:\n",
      "[103]\ttraining's mape: 0.0999692\ttraining's rmse: 84.2949\tvalid_1's mape: 0.429897\tvalid_1's rmse: 669.442\n",
      "Training until validation scores don't improve for 100 rounds\n",
      "Early stopping, best iteration is:\n",
      "[52]\ttraining's mape: 0.102379\ttraining's rmse: 82.5427\tvalid_1's mape: 0.409789\tvalid_1's rmse: 641.319\n",
      "Training until validation scores don't improve for 100 rounds\n"
     ]
    },
    {
     "name": "stderr",
     "output_type": "stream",
     "text": [
      "[I 2023-08-14 15:52:07,790] Trial 38 finished with value: 27.12865798129193 and parameters: {'learning_rate': 0.0746082546448766, 'n_estimators': 948, 'max_depth': 19, 'num_leaves': 81, 'colsample_bytree': 0.32454069627322957, 'subsample': 0.3542066944922378, 'subsample_freq': 4, 'min_child_samples': 13}. Best is trial 37 with value: 26.60207105878314.\n",
      "[I 2023-08-14 15:52:07,893] Trial 39 finished with value: 26.75666449154922 and parameters: {'learning_rate': 0.07688465956288058, 'n_estimators': 534, 'max_depth': 23, 'num_leaves': 31, 'colsample_bytree': 0.251630608436465, 'subsample': 0.39977748614347214, 'subsample_freq': 2, 'min_child_samples': 10}. Best is trial 37 with value: 26.60207105878314.\n"
     ]
    },
    {
     "name": "stdout",
     "output_type": "stream",
     "text": [
      "Early stopping, best iteration is:\n",
      "[59]\ttraining's mape: 0.0924481\ttraining's rmse: 77.0412\tvalid_1's mape: 0.41549\tvalid_1's rmse: 649.057\n",
      "Training until validation scores don't improve for 100 rounds\n",
      "Early stopping, best iteration is:\n",
      "[52]\ttraining's mape: 0.0987619\ttraining's rmse: 80.1309\tvalid_1's mape: 0.411704\tvalid_1's rmse: 644.325\n",
      "Training until validation scores don't improve for 100 rounds\n"
     ]
    },
    {
     "name": "stderr",
     "output_type": "stream",
     "text": [
      "[I 2023-08-14 15:52:08,008] Trial 40 finished with value: 28.298155781066658 and parameters: {'learning_rate': 0.0801405113535539, 'n_estimators': 545, 'max_depth': 27, 'num_leaves': 30, 'colsample_bytree': 0.24605275432206286, 'subsample': 0.3969300291090306, 'subsample_freq': 3, 'min_child_samples': 10}. Best is trial 37 with value: 26.60207105878314.\n",
      "[I 2023-08-14 15:52:08,123] Trial 41 finished with value: 26.737532120429286 and parameters: {'learning_rate': 0.07626858702051736, 'n_estimators': 354, 'max_depth': 23, 'num_leaves': 55, 'colsample_bytree': 0.26652919546475495, 'subsample': 0.336661474809787, 'subsample_freq': 2, 'min_child_samples': 10}. Best is trial 37 with value: 26.60207105878314.\n"
     ]
    },
    {
     "name": "stdout",
     "output_type": "stream",
     "text": [
      "Early stopping, best iteration is:\n",
      "[92]\ttraining's mape: 0.0910299\ttraining's rmse: 77.5663\tvalid_1's mape: 0.430357\tvalid_1's rmse: 670.266\n",
      "Training until validation scores don't improve for 100 rounds\n",
      "Early stopping, best iteration is:\n",
      "[52]\ttraining's mape: 0.0987493\ttraining's rmse: 80.1393\tvalid_1's mape: 0.411662\tvalid_1's rmse: 643.643\n",
      "Training until validation scores don't improve for 100 rounds\n"
     ]
    },
    {
     "name": "stderr",
     "output_type": "stream",
     "text": [
      "[I 2023-08-14 15:52:08,249] Trial 42 finished with value: 27.351058338793376 and parameters: {'learning_rate': 0.07854967827262695, 'n_estimators': 329, 'max_depth': 24, 'num_leaves': 40, 'colsample_bytree': 0.2596395150393845, 'subsample': 0.3408948155179009, 'subsample_freq': 1, 'min_child_samples': 10}. Best is trial 37 with value: 26.60207105878314.\n",
      "[I 2023-08-14 15:52:08,352] Trial 43 finished with value: 28.073867780058492 and parameters: {'learning_rate': 0.07603133568265102, 'n_estimators': 368, 'max_depth': 23, 'num_leaves': 15, 'colsample_bytree': 0.2248793755243593, 'subsample': 0.3479488714071332, 'subsample_freq': 3, 'min_child_samples': 9}. Best is trial 37 with value: 26.60207105878314.\n"
     ]
    },
    {
     "name": "stdout",
     "output_type": "stream",
     "text": [
      "Early stopping, best iteration is:\n",
      "[67]\ttraining's mape: 0.0785023\ttraining's rmse: 67.3419\tvalid_1's mape: 0.417805\tvalid_1's rmse: 650.519\n",
      "Training until validation scores don't improve for 100 rounds\n",
      "Early stopping, best iteration is:\n",
      "[103]\ttraining's mape: 0.0958446\ttraining's rmse: 81.5278\tvalid_1's mape: 0.42778\tvalid_1's rmse: 665.041\n",
      "Training until validation scores don't improve for 100 rounds\n",
      "Early stopping, best iteration is:\n",
      "[69]\ttraining's mape: 0.125751\ttraining's rmse: 101.626\tvalid_1's mape: 0.430007\tvalid_1's rmse: 669.243\n"
     ]
    },
    {
     "name": "stderr",
     "output_type": "stream",
     "text": [
      "[I 2023-08-14 15:52:08,443] Trial 44 finished with value: 28.151742511845647 and parameters: {'learning_rate': 0.07424633796320762, 'n_estimators': 242, 'max_depth': 28, 'num_leaves': 6, 'colsample_bytree': 0.24027686658450997, 'subsample': 0.383018389485524, 'subsample_freq': 2, 'min_child_samples': 14}. Best is trial 37 with value: 26.60207105878314.\n",
      "[I 2023-08-14 15:52:08,589] Trial 45 finished with value: 26.988721495896318 and parameters: {'learning_rate': 0.08061308684135873, 'n_estimators': 179, 'max_depth': 21, 'num_leaves': 54, 'colsample_bytree': 0.26316241922169215, 'subsample': 0.3288182514410403, 'subsample_freq': 1, 'min_child_samples': 8}. Best is trial 37 with value: 26.60207105878314.\n"
     ]
    },
    {
     "name": "stdout",
     "output_type": "stream",
     "text": [
      "Training until validation scores don't improve for 100 rounds\n",
      "Early stopping, best iteration is:\n",
      "[51]\ttraining's mape: 0.0925541\ttraining's rmse: 76.0609\tvalid_1's mape: 0.414792\tvalid_1's rmse: 647.989\n",
      "Training until validation scores don't improve for 100 rounds\n"
     ]
    },
    {
     "name": "stderr",
     "output_type": "stream",
     "text": [
      "[I 2023-08-14 15:52:08,784] Trial 46 finished with value: 27.43859230528364 and parameters: {'learning_rate': 0.08183549101589827, 'n_estimators': 520, 'max_depth': 25, 'num_leaves': 234, 'colsample_bytree': 0.3140956957382459, 'subsample': 0.4035418581592961, 'subsample_freq': 4, 'min_child_samples': 5}. Best is trial 37 with value: 26.60207105878314.\n",
      "[I 2023-08-14 15:52:08,904] Trial 47 finished with value: 28.162134802289362 and parameters: {'learning_rate': 0.08297247250495934, 'n_estimators': 374, 'max_depth': 17, 'num_leaves': 74, 'colsample_bytree': 0.2203477824142122, 'subsample': 0.3348929117977687, 'subsample_freq': 2, 'min_child_samples': 11}. Best is trial 37 with value: 26.60207105878314.\n"
     ]
    },
    {
     "name": "stdout",
     "output_type": "stream",
     "text": [
      "Early stopping, best iteration is:\n",
      "[52]\ttraining's mape: 0.0781671\ttraining's rmse: 65.699\tvalid_1's mape: 0.419902\tvalid_1's rmse: 655.302\n",
      "Training until validation scores don't improve for 100 rounds\n",
      "Early stopping, best iteration is:\n",
      "[69]\ttraining's mape: 0.103212\ttraining's rmse: 85.4103\tvalid_1's mape: 0.42946\tvalid_1's rmse: 669.085\n",
      "Training until validation scores don't improve for 100 rounds\n"
     ]
    },
    {
     "name": "stderr",
     "output_type": "stream",
     "text": [
      "[I 2023-08-14 15:52:09,018] Trial 48 finished with value: 26.69213217098757 and parameters: {'learning_rate': 0.07274449436699038, 'n_estimators': 436, 'max_depth': 23, 'num_leaves': 24, 'colsample_bytree': 0.2878051763276163, 'subsample': 0.3769017825895276, 'subsample_freq': 5, 'min_child_samples': 15}. Best is trial 37 with value: 26.60207105878314.\n",
      "[I 2023-08-14 15:52:09,112] Trial 49 finished with value: 27.390598234153014 and parameters: {'learning_rate': 0.07309892273248952, 'n_estimators': 443, 'max_depth': 23, 'num_leaves': 23, 'colsample_bytree': 0.34219869699651245, 'subsample': 0.3043149677083466, 'subsample_freq': 7, 'min_child_samples': 12}. Best is trial 37 with value: 26.60207105878314.\n"
     ]
    },
    {
     "name": "stdout",
     "output_type": "stream",
     "text": [
      "Early stopping, best iteration is:\n",
      "[52]\ttraining's mape: 0.107674\ttraining's rmse: 86.8873\tvalid_1's mape: 0.411338\tvalid_1's rmse: 644.011\n",
      "Training until validation scores don't improve for 100 rounds\n",
      "Early stopping, best iteration is:\n",
      "[55]\ttraining's mape: 0.103969\ttraining's rmse: 85.0449\tvalid_1's mape: 0.419174\tvalid_1's rmse: 653.344\n",
      "Training until validation scores don't improve for 100 rounds\n"
     ]
    },
    {
     "name": "stderr",
     "output_type": "stream",
     "text": [
      "[I 2023-08-14 15:52:09,218] Trial 50 finished with value: 26.755392442030125 and parameters: {'learning_rate': 0.07715427430073132, 'n_estimators': 591, 'max_depth': 29, 'num_leaves': 36, 'colsample_bytree': 0.28573484493548945, 'subsample': 0.3748907533925174, 'subsample_freq': 5, 'min_child_samples': 16}. Best is trial 37 with value: 26.60207105878314.\n",
      "[I 2023-08-14 15:52:09,332] Trial 51 finished with value: 26.69722646679632 and parameters: {'learning_rate': 0.07706551970679291, 'n_estimators': 590, 'max_depth': 28, 'num_leaves': 39, 'colsample_bytree': 0.28982745536438353, 'subsample': 0.37724481455452463, 'subsample_freq': 5, 'min_child_samples': 16}. Best is trial 37 with value: 26.60207105878314.\n"
     ]
    },
    {
     "name": "stdout",
     "output_type": "stream",
     "text": [
      "Early stopping, best iteration is:\n",
      "[52]\ttraining's mape: 0.101351\ttraining's rmse: 82.8332\tvalid_1's mape: 0.411738\tvalid_1's rmse: 644.183\n",
      "Training until validation scores don't improve for 100 rounds\n",
      "Early stopping, best iteration is:\n",
      "[52]\ttraining's mape: 0.101105\ttraining's rmse: 82.6252\tvalid_1's mape: 0.410899\tvalid_1's rmse: 643.02\n",
      "Training until validation scores don't improve for 100 rounds\n"
     ]
    },
    {
     "name": "stderr",
     "output_type": "stream",
     "text": [
      "[I 2023-08-14 15:52:09,446] Trial 52 finished with value: 26.797383023239448 and parameters: {'learning_rate': 0.07815654370946518, 'n_estimators': 590, 'max_depth': 29, 'num_leaves': 39, 'colsample_bytree': 0.3096115698366718, 'subsample': 0.36844926932276467, 'subsample_freq': 5, 'min_child_samples': 15}. Best is trial 37 with value: 26.60207105878314.\n",
      "[I 2023-08-14 15:52:09,527] Trial 53 finished with value: 27.091606591265204 and parameters: {'learning_rate': 0.07529409778693179, 'n_estimators': 496, 'max_depth': 30, 'num_leaves': 14, 'colsample_bytree': 0.29010254620326076, 'subsample': 0.33183406379517244, 'subsample_freq': 6, 'min_child_samples': 16}. Best is trial 37 with value: 26.60207105878314.\n"
     ]
    },
    {
     "name": "stdout",
     "output_type": "stream",
     "text": [
      "Early stopping, best iteration is:\n",
      "[52]\ttraining's mape: 0.0988791\ttraining's rmse: 81.5215\tvalid_1's mape: 0.412172\tvalid_1's rmse: 644.65\n",
      "Training until validation scores don't improve for 100 rounds\n",
      "Early stopping, best iteration is:\n",
      "[55]\ttraining's mape: 0.107519\ttraining's rmse: 87.8941\tvalid_1's mape: 0.415535\tvalid_1's rmse: 648.693\n",
      "Training until validation scores don't improve for 100 rounds\n",
      "Early stopping, best iteration is:\n",
      "[52]\ttraining's mape: 0.107568\ttraining's rmse: 86.3261\tvalid_1's mape: 0.412065\tvalid_1's rmse: 643.816\n"
     ]
    },
    {
     "name": "stderr",
     "output_type": "stream",
     "text": [
      "[I 2023-08-14 15:52:09,633] Trial 54 finished with value: 26.737190453799975 and parameters: {'learning_rate': 0.07108639392931797, 'n_estimators': 371, 'max_depth': 27, 'num_leaves': 59, 'colsample_bytree': 0.2761955433531973, 'subsample': 0.4292073173401748, 'subsample_freq': 5, 'min_child_samples': 18}. Best is trial 37 with value: 26.60207105878314.\n",
      "[I 2023-08-14 15:52:09,748] Trial 55 finished with value: 26.990360535711005 and parameters: {'learning_rate': 0.0702901605196209, 'n_estimators': 312, 'max_depth': 26, 'num_leaves': 84, 'colsample_bytree': 0.27221677946887646, 'subsample': 0.4293910697697402, 'subsample_freq': 6, 'min_child_samples': 17}. Best is trial 37 with value: 26.60207105878314.\n",
      "[I 2023-08-14 15:52:09,857] Trial 56 finished with value: 26.971154358138627 and parameters: {'learning_rate': 0.07144135621317581, 'n_estimators': 422, 'max_depth': 28, 'num_leaves': 67, 'colsample_bytree': 0.33030289744377034, 'subsample': 0.32974896530681613, 'subsample_freq': 5, 'min_child_samples': 18}. Best is trial 37 with value: 26.60207105878314.\n"
     ]
    },
    {
     "name": "stdout",
     "output_type": "stream",
     "text": [
      "Training until validation scores don't improve for 100 rounds\n",
      "Early stopping, best iteration is:\n",
      "[55]\ttraining's mape: 0.102827\ttraining's rmse: 83.6107\tvalid_1's mape: 0.414829\tvalid_1's rmse: 647.384\n",
      "Training until validation scores don't improve for 100 rounds\n",
      "Early stopping, best iteration is:\n",
      "[82]\ttraining's mape: 0.083062\ttraining's rmse: 70.8125\tvalid_1's mape: 0.412708\tvalid_1's rmse: 643.662\n"
     ]
    },
    {
     "name": "stderr",
     "output_type": "stream",
     "text": [
      "[I 2023-08-14 15:52:09,983] Trial 57 finished with value: 27.24832623951433 and parameters: {'learning_rate': 0.07321878428099907, 'n_estimators': 384, 'max_depth': 25, 'num_leaves': 51, 'colsample_bytree': 0.30986087832888615, 'subsample': 0.4766423787586266, 'subsample_freq': 10, 'min_child_samples': 15}. Best is trial 37 with value: 26.60207105878314.\n",
      "[I 2023-08-14 15:52:10,087] Trial 58 finished with value: 26.98018172052663 and parameters: {'learning_rate': 0.06917392479296523, 'n_estimators': 259, 'max_depth': 27, 'num_leaves': 60, 'colsample_bytree': 0.27794757353094657, 'subsample': 0.30420929621456044, 'subsample_freq': 6, 'min_child_samples': 13}. Best is trial 37 with value: 26.60207105878314.\n"
     ]
    },
    {
     "name": "stdout",
     "output_type": "stream",
     "text": [
      "Training until validation scores don't improve for 100 rounds\n",
      "Early stopping, best iteration is:\n",
      "[55]\ttraining's mape: 0.0959681\ttraining's rmse: 78.5288\tvalid_1's mape: 0.417531\tvalid_1's rmse: 651.912\n",
      "Training until validation scores don't improve for 100 rounds\n",
      "Early stopping, best iteration is:\n",
      "[47]\ttraining's mape: 0.119428\ttraining's rmse: 93.8122\tvalid_1's mape: 0.415486\tvalid_1's rmse: 649.94\n"
     ]
    },
    {
     "name": "stderr",
     "output_type": "stream",
     "text": [
      "[I 2023-08-14 15:52:10,194] Trial 59 finished with value: 28.391602535362292 and parameters: {'learning_rate': 0.07158621908349244, 'n_estimators': 208, 'max_depth': 24, 'num_leaves': 77, 'colsample_bytree': 0.35320184782656966, 'subsample': 0.3557377847648903, 'subsample_freq': 8, 'min_child_samples': 18}. Best is trial 37 with value: 26.60207105878314.\n"
     ]
    },
    {
     "name": "stdout",
     "output_type": "stream",
     "text": [
      "Training until validation scores don't improve for 100 rounds\n",
      "Early stopping, best iteration is:\n",
      "[46]\ttraining's mape: 0.0952435\ttraining's rmse: 78.5892\tvalid_1's mape: 0.430956\tvalid_1's rmse: 670.676\n",
      "Training until validation scores don't improve for 100 rounds\n",
      "Early stopping, best iteration is:\n",
      "[52]\ttraining's mape: 0.0894953\ttraining's rmse: 74.4574\tvalid_1's mape: 0.416516\tvalid_1's rmse: 650.014\n"
     ]
    },
    {
     "name": "stderr",
     "output_type": "stream",
     "text": [
      "[I 2023-08-14 15:52:10,342] Trial 60 finished with value: 27.20379511435645 and parameters: {'learning_rate': 0.08384908435118395, 'n_estimators': 330, 'max_depth': 28, 'num_leaves': 184, 'colsample_bytree': 0.31718005874793403, 'subsample': 0.4440766604637118, 'subsample_freq': 4, 'min_child_samples': 13}. Best is trial 37 with value: 26.60207105878314.\n",
      "[I 2023-08-14 15:52:10,457] Trial 61 finished with value: 26.904646498790658 and parameters: {'learning_rate': 0.07661848932774717, 'n_estimators': 582, 'max_depth': 30, 'num_leaves': 41, 'colsample_bytree': 0.29085904089558057, 'subsample': 0.37041584776430925, 'subsample_freq': 5, 'min_child_samples': 16}. Best is trial 37 with value: 26.60207105878314.\n",
      "[I 2023-08-14 15:52:10,570] Trial 62 finished with value: 26.643628696943704 and parameters: {'learning_rate': 0.07414038012926763, 'n_estimators': 658, 'max_depth': 29, 'num_leaves': 27, 'colsample_bytree': 0.2869167596961958, 'subsample': 0.38622772328371363, 'subsample_freq': 5, 'min_child_samples': 14}. Best is trial 37 with value: 26.60207105878314.\n"
     ]
    },
    {
     "name": "stdout",
     "output_type": "stream",
     "text": [
      "Training until validation scores don't improve for 100 rounds\n",
      "Early stopping, best iteration is:\n",
      "[50]\ttraining's mape: 0.10387\ttraining's rmse: 84.3772\tvalid_1's mape: 0.41362\tvalid_1's rmse: 646.561\n",
      "Training until validation scores don't improve for 100 rounds\n",
      "Early stopping, best iteration is:\n",
      "[55]\ttraining's mape: 0.0995905\ttraining's rmse: 81.888\tvalid_1's mape: 0.410351\tvalid_1's rmse: 641.048\n"
     ]
    },
    {
     "name": "stderr",
     "output_type": "stream",
     "text": [
      "[I 2023-08-14 15:52:10,650] Trial 63 finished with value: 27.431478375261413 and parameters: {'learning_rate': 0.07366701538146998, 'n_estimators': 485, 'max_depth': 26, 'num_leaves': 3, 'colsample_bytree': 0.2698538606929393, 'subsample': 0.39250955814845806, 'subsample_freq': 5, 'min_child_samples': 14}. Best is trial 37 with value: 26.60207105878314.\n",
      "[I 2023-08-14 15:52:10,760] Trial 64 finished with value: 27.006422890930242 and parameters: {'learning_rate': 0.07481027651739754, 'n_estimators': 673, 'max_depth': 29, 'num_leaves': 31, 'colsample_bytree': 0.30063221320495653, 'subsample': 0.41937576884709826, 'subsample_freq': 7, 'min_child_samples': 12}. Best is trial 37 with value: 26.60207105878314.\n"
     ]
    },
    {
     "name": "stdout",
     "output_type": "stream",
     "text": [
      "Training until validation scores don't improve for 100 rounds\n",
      "Early stopping, best iteration is:\n",
      "[86]\ttraining's mape: 0.110891\ttraining's rmse: 93.6258\tvalid_1's mape: 0.419293\tvalid_1's rmse: 652.001\n",
      "Training until validation scores don't improve for 100 rounds\n",
      "Early stopping, best iteration is:\n",
      "[42]\ttraining's mape: 0.118473\ttraining's rmse: 91.9609\tvalid_1's mape: 0.415817\tvalid_1's rmse: 650.705\n"
     ]
    },
    {
     "name": "stderr",
     "output_type": "stream",
     "text": [
      "[I 2023-08-14 15:52:10,877] Trial 65 finished with value: 27.113057213754676 and parameters: {'learning_rate': 0.0787519743853688, 'n_estimators': 409, 'max_depth': 27, 'num_leaves': 23, 'colsample_bytree': 0.27936104586767047, 'subsample': 0.3301499755420111, 'subsample_freq': 4, 'min_child_samples': 15}. Best is trial 37 with value: 26.60207105878314.\n"
     ]
    },
    {
     "name": "stdout",
     "output_type": "stream",
     "text": [
      "Training until validation scores don't improve for 100 rounds\n",
      "Early stopping, best iteration is:\n",
      "[47]\ttraining's mape: 0.109417\ttraining's rmse: 88.4217\tvalid_1's mape: 0.415952\tvalid_1's rmse: 651.075\n",
      "Training until validation scores don't improve for 100 rounds\n",
      "Early stopping, best iteration is:\n",
      "[103]\ttraining's mape: 0.0986198\ttraining's rmse: 82.9969\tvalid_1's mape: 0.429015\tvalid_1's rmse: 667.218\n"
     ]
    },
    {
     "name": "stderr",
     "output_type": "stream",
     "text": [
      "[I 2023-08-14 15:52:11,013] Trial 66 finished with value: 28.15074576114459 and parameters: {'learning_rate': 0.06687547076606348, 'n_estimators': 616, 'max_depth': 14, 'num_leaves': 45, 'colsample_bytree': 0.23966827163023707, 'subsample': 0.4306920302932126, 'subsample_freq': 6, 'min_child_samples': 18}. Best is trial 37 with value: 26.60207105878314.\n",
      "[I 2023-08-14 15:52:11,145] Trial 67 finished with value: 26.56827303285346 and parameters: {'learning_rate': 0.06494223718129703, 'n_estimators': 301, 'max_depth': 18, 'num_leaves': 58, 'colsample_bytree': 0.3341532827759282, 'subsample': 0.3911909482174305, 'subsample_freq': 5, 'min_child_samples': 20}. Best is trial 67 with value: 26.56827303285346.\n"
     ]
    },
    {
     "name": "stdout",
     "output_type": "stream",
     "text": [
      "Training until validation scores don't improve for 100 rounds\n",
      "Early stopping, best iteration is:\n",
      "[53]\ttraining's mape: 0.117312\ttraining's rmse: 92.5725\tvalid_1's mape: 0.410369\tvalid_1's rmse: 642.426\n",
      "Training until validation scores don't improve for 100 rounds\n",
      "Early stopping, best iteration is:\n",
      "[52]\ttraining's mape: 0.109531\ttraining's rmse: 87.2909\tvalid_1's mape: 0.412878\tvalid_1's rmse: 645.89\n"
     ]
    },
    {
     "name": "stderr",
     "output_type": "stream",
     "text": [
      "[I 2023-08-14 15:52:11,272] Trial 68 finished with value: 26.796832492548646 and parameters: {'learning_rate': 0.06952807987167091, 'n_estimators': 314, 'max_depth': 26, 'num_leaves': 58, 'colsample_bytree': 0.33848364067121384, 'subsample': 0.48044785474359597, 'subsample_freq': 5, 'min_child_samples': 20}. Best is trial 67 with value: 26.56827303285346.\n",
      "[I 2023-08-14 15:52:11,367] Trial 69 finished with value: 27.198912031771194 and parameters: {'learning_rate': 0.0726857471595609, 'n_estimators': 290, 'max_depth': 4, 'num_leaves': 21, 'colsample_bytree': 0.3220038362850275, 'subsample': 0.3881995108676878, 'subsample_freq': 4, 'min_child_samples': 7}. Best is trial 67 with value: 26.56827303285346.\n",
      "[I 2023-08-14 15:52:11,461] Trial 70 finished with value: 27.208869314455196 and parameters: {'learning_rate': 0.07565488309243494, 'n_estimators': 392, 'max_depth': 16, 'num_leaves': 12, 'colsample_bytree': 0.3070296985153884, 'subsample': 0.45655924586098917, 'subsample_freq': 7, 'min_child_samples': 16}. Best is trial 67 with value: 26.56827303285346.\n"
     ]
    },
    {
     "name": "stdout",
     "output_type": "stream",
     "text": [
      "Training until validation scores don't improve for 100 rounds\n",
      "Early stopping, best iteration is:\n",
      "[73]\ttraining's mape: 0.090427\ttraining's rmse: 76.9157\tvalid_1's mape: 0.415911\tvalid_1's rmse: 646.825\n",
      "Training until validation scores don't improve for 100 rounds\n",
      "Early stopping, best iteration is:\n",
      "[52]\ttraining's mape: 0.110963\ttraining's rmse: 89.3939\tvalid_1's mape: 0.417417\tvalid_1's rmse: 652.35\n",
      "Training until validation scores don't improve for 100 rounds\n"
     ]
    },
    {
     "name": "stderr",
     "output_type": "stream",
     "text": [
      "[I 2023-08-14 15:52:11,574] Trial 71 finished with value: 26.61646232262035 and parameters: {'learning_rate': 0.06555707449853973, 'n_estimators': 353, 'max_depth': 18, 'num_leaves': 69, 'colsample_bytree': 0.29183847177366734, 'subsample': 0.3541701784047499, 'subsample_freq': 5, 'min_child_samples': 21}. Best is trial 67 with value: 26.56827303285346.\n",
      "[I 2023-08-14 15:52:11,691] Trial 72 finished with value: 26.85926049304048 and parameters: {'learning_rate': 0.06455989870542408, 'n_estimators': 361, 'max_depth': 20, 'num_leaves': 69, 'colsample_bytree': 0.2909126423628309, 'subsample': 0.420153516206027, 'subsample_freq': 5, 'min_child_samples': 23}. Best is trial 67 with value: 26.56827303285346.\n"
     ]
    },
    {
     "name": "stdout",
     "output_type": "stream",
     "text": [
      "Early stopping, best iteration is:\n",
      "[51]\ttraining's mape: 0.122503\ttraining's rmse: 95.7206\tvalid_1's mape: 0.411105\tvalid_1's rmse: 644.66\n",
      "Training until validation scores don't improve for 100 rounds\n",
      "Early stopping, best iteration is:\n",
      "[52]\ttraining's mape: 0.121086\ttraining's rmse: 94.7329\tvalid_1's mape: 0.413875\tvalid_1's rmse: 647.252\n",
      "Training until validation scores don't improve for 100 rounds\n"
     ]
    },
    {
     "name": "stderr",
     "output_type": "stream",
     "text": [
      "[I 2023-08-14 15:52:11,815] Trial 73 finished with value: 27.179147357058515 and parameters: {'learning_rate': 0.06797754183575919, 'n_estimators': 463, 'max_depth': 18, 'num_leaves': 48, 'colsample_bytree': 0.3286315224510369, 'subsample': 0.40269055496734835, 'subsample_freq': 4, 'min_child_samples': 19}. Best is trial 67 with value: 26.56827303285346.\n",
      "[I 2023-08-14 15:52:11,921] Trial 74 finished with value: 26.92747603704887 and parameters: {'learning_rate': 0.06546529201717113, 'n_estimators': 340, 'max_depth': 22, 'num_leaves': 56, 'colsample_bytree': 0.3000539977971026, 'subsample': 0.3553319780800178, 'subsample_freq': 6, 'min_child_samples': 17}. Best is trial 67 with value: 26.56827303285346.\n"
     ]
    },
    {
     "name": "stdout",
     "output_type": "stream",
     "text": [
      "Early stopping, best iteration is:\n",
      "[83]\ttraining's mape: 0.0813005\ttraining's rmse: 69.6685\tvalid_1's mape: 0.415267\tvalid_1's rmse: 647.019\n",
      "Training until validation scores don't improve for 100 rounds\n",
      "Early stopping, best iteration is:\n",
      "[55]\ttraining's mape: 0.112594\ttraining's rmse: 89.7423\tvalid_1's mape: 0.414321\tvalid_1's rmse: 647.101\n",
      "Training until validation scores don't improve for 100 rounds\n",
      "Early stopping, best iteration is:\n",
      "[55]\ttraining's mape: 0.107376\ttraining's rmse: 86.9162\tvalid_1's mape: 0.414912\tvalid_1's rmse: 647.585\n"
     ]
    },
    {
     "name": "stderr",
     "output_type": "stream",
     "text": [
      "[I 2023-08-14 15:52:12,024] Trial 75 finished with value: 27.0160325976057 and parameters: {'learning_rate': 0.07029996898877929, 'n_estimators': 233, 'max_depth': 19, 'num_leaves': 106, 'colsample_bytree': 0.28507928056992765, 'subsample': 0.38409113416438434, 'subsample_freq': 6, 'min_child_samples': 21}. Best is trial 67 with value: 26.56827303285346.\n",
      "[I 2023-08-14 15:52:12,149] Trial 76 finished with value: 26.721943715142547 and parameters: {'learning_rate': 0.07194503186071244, 'n_estimators': 283, 'max_depth': 13, 'num_leaves': 33, 'colsample_bytree': 0.25954913626362863, 'subsample': 0.3557094275690316, 'subsample_freq': 5, 'min_child_samples': 19}. Best is trial 67 with value: 26.56827303285346.\n",
      "[I 2023-08-14 15:52:12,253] Trial 77 finished with value: 26.869048243433504 and parameters: {'learning_rate': 0.0672386533385315, 'n_estimators': 117, 'max_depth': 11, 'num_leaves': 32, 'colsample_bytree': 0.25315732570123695, 'subsample': 0.4449015719386996, 'subsample_freq': 5, 'min_child_samples': 22}. Best is trial 67 with value: 26.56827303285346.\n"
     ]
    },
    {
     "name": "stdout",
     "output_type": "stream",
     "text": [
      "Training until validation scores don't improve for 100 rounds\n",
      "Early stopping, best iteration is:\n",
      "[53]\ttraining's mape: 0.108292\ttraining's rmse: 87.4877\tvalid_1's mape: 0.41158\tvalid_1's rmse: 643.638\n",
      "Training until validation scores don't improve for 100 rounds\n",
      "Did not meet early stopping. Best iteration is:\n",
      "[52]\ttraining's mape: 0.115351\ttraining's rmse: 91.2448\tvalid_1's mape: 0.41385\tvalid_1's rmse: 647.103\n"
     ]
    },
    {
     "name": "stderr",
     "output_type": "stream",
     "text": [
      "[I 2023-08-14 15:52:12,432] Trial 78 finished with value: 28.857419456867557 and parameters: {'learning_rate': 0.07183974096147559, 'n_estimators': 290, 'max_depth': 12, 'num_leaves': 42, 'colsample_bytree': 0.36512200988587984, 'subsample': 0.4134438538472235, 'subsample_freq': 5, 'min_child_samples': 18}. Best is trial 67 with value: 26.56827303285346.\n"
     ]
    },
    {
     "name": "stdout",
     "output_type": "stream",
     "text": [
      "Training until validation scores don't improve for 100 rounds\n",
      "Did not meet early stopping. Best iteration is:\n",
      "[251]\ttraining's mape: 0.0375563\ttraining's rmse: 37.2709\tvalid_1's mape: 0.43263\tvalid_1's rmse: 671.698\n",
      "Training until validation scores don't improve for 100 rounds\n"
     ]
    },
    {
     "name": "stderr",
     "output_type": "stream",
     "text": [
      "[I 2023-08-14 15:52:12,554] Trial 79 finished with value: 27.21707852930023 and parameters: {'learning_rate': 0.06897898024930478, 'n_estimators': 179, 'max_depth': 13, 'num_leaves': 28, 'colsample_bytree': 0.3446433613362968, 'subsample': 0.318550939486546, 'subsample_freq': 6, 'min_child_samples': 20}. Best is trial 67 with value: 26.56827303285346.\n",
      "[I 2023-08-14 15:52:12,677] Trial 80 finished with value: 26.72835343755796 and parameters: {'learning_rate': 0.06607152622671977, 'n_estimators': 662, 'max_depth': 15, 'num_leaves': 64, 'colsample_bytree': 0.3044499456820295, 'subsample': 0.3590286780715748, 'subsample_freq': 5, 'min_child_samples': 14}. Best is trial 67 with value: 26.56827303285346.\n"
     ]
    },
    {
     "name": "stdout",
     "output_type": "stream",
     "text": [
      "Did not meet early stopping. Best iteration is:\n",
      "[86]\ttraining's mape: 0.0846209\ttraining's rmse: 72.5205\tvalid_1's mape: 0.415855\tvalid_1's rmse: 646.8\n",
      "Training until validation scores don't improve for 100 rounds\n",
      "Early stopping, best iteration is:\n",
      "[55]\ttraining's mape: 0.108504\ttraining's rmse: 87.0817\tvalid_1's mape: 0.411865\tvalid_1's rmse: 644.419\n",
      "Training until validation scores don't improve for 100 rounds\n"
     ]
    },
    {
     "name": "stderr",
     "output_type": "stream",
     "text": [
      "[I 2023-08-14 15:52:12,796] Trial 81 finished with value: 26.803437375725697 and parameters: {'learning_rate': 0.06635076729880172, 'n_estimators': 673, 'max_depth': 15, 'num_leaves': 89, 'colsample_bytree': 0.3162049985963527, 'subsample': 0.3547162753220402, 'subsample_freq': 5, 'min_child_samples': 14}. Best is trial 67 with value: 26.56827303285346.\n",
      "[I 2023-08-14 15:52:12,907] Trial 82 finished with value: 26.77036860716779 and parameters: {'learning_rate': 0.06348779300749027, 'n_estimators': 570, 'max_depth': 16, 'num_leaves': 80, 'colsample_bytree': 0.30471923876140383, 'subsample': 0.3741679294251945, 'subsample_freq': 5, 'min_child_samples': 19}. Best is trial 67 with value: 26.56827303285346.\n"
     ]
    },
    {
     "name": "stdout",
     "output_type": "stream",
     "text": [
      "Early stopping, best iteration is:\n",
      "[55]\ttraining's mape: 0.108515\ttraining's rmse: 87.2069\tvalid_1's mape: 0.412763\tvalid_1's rmse: 645.383\n",
      "Training until validation scores don't improve for 100 rounds\n",
      "Early stopping, best iteration is:\n",
      "[52]\ttraining's mape: 0.121535\ttraining's rmse: 95.4794\tvalid_1's mape: 0.413071\tvalid_1's rmse: 647.021\n",
      "Training until validation scores don't improve for 100 rounds\n"
     ]
    },
    {
     "name": "stderr",
     "output_type": "stream",
     "text": [
      "[I 2023-08-14 15:52:13,024] Trial 83 finished with value: 27.04116366442498 and parameters: {'learning_rate': 0.06413585433552084, 'n_estimators': 287, 'max_depth': 17, 'num_leaves': 64, 'colsample_bytree': 0.274727106975377, 'subsample': 0.39633711242764463, 'subsample_freq': 4, 'min_child_samples': 17}. Best is trial 67 with value: 26.56827303285346.\n",
      "[I 2023-08-14 15:52:13,147] Trial 84 finished with value: 27.128015850707953 and parameters: {'learning_rate': 0.06806189618347225, 'n_estimators': 663, 'max_depth': 14, 'num_leaves': 48, 'colsample_bytree': 0.2936848107608868, 'subsample': 0.3617920688244247, 'subsample_freq': 4, 'min_child_samples': 15}. Best is trial 67 with value: 26.56827303285346.\n"
     ]
    },
    {
     "name": "stdout",
     "output_type": "stream",
     "text": [
      "Early stopping, best iteration is:\n",
      "[52]\ttraining's mape: 0.117595\ttraining's rmse: 92.1938\tvalid_1's mape: 0.416279\tvalid_1's rmse: 651.162\n",
      "Training until validation scores don't improve for 100 rounds\n",
      "Early stopping, best iteration is:\n",
      "[63]\ttraining's mape: 0.0941497\ttraining's rmse: 77.8845\tvalid_1's mape: 0.415512\tvalid_1's rmse: 648.393\n",
      "Training until validation scores don't improve for 100 rounds\n"
     ]
    },
    {
     "name": "stderr",
     "output_type": "stream",
     "text": [
      "[I 2023-08-14 15:52:13,265] Trial 85 finished with value: 27.040361414891922 and parameters: {'learning_rate': 0.07252294216322176, 'n_estimators': 610, 'max_depth': 10, 'num_leaves': 74, 'colsample_bytree': 0.26327758592494455, 'subsample': 0.3192967568120615, 'subsample_freq': 5, 'min_child_samples': 21}. Best is trial 67 with value: 26.56827303285346.\n",
      "[I 2023-08-14 15:52:13,365] Trial 86 finished with value: 27.023418204770405 and parameters: {'learning_rate': 0.07445376673762168, 'n_estimators': 651, 'max_depth': 8, 'num_leaves': 10, 'colsample_bytree': 0.2830362119416553, 'subsample': 0.41301721151266185, 'subsample_freq': 9, 'min_child_samples': 13}. Best is trial 67 with value: 26.56827303285346.\n"
     ]
    },
    {
     "name": "stdout",
     "output_type": "stream",
     "text": [
      "Early stopping, best iteration is:\n",
      "[82]\ttraining's mape: 0.0845161\ttraining's rmse: 71.8964\tvalid_1's mape: 0.413444\tvalid_1's rmse: 644.13\n",
      "Training until validation scores don't improve for 100 rounds\n",
      "Early stopping, best iteration is:\n",
      "[52]\ttraining's mape: 0.117251\ttraining's rmse: 93.1616\tvalid_1's mape: 0.41559\tvalid_1's rmse: 649.926\n",
      "Training until validation scores don't improve for 100 rounds\n",
      "Early stopping, best iteration is:\n",
      "[55]\ttraining's mape: 0.109633\ttraining's rmse: 88.5864\tvalid_1's mape: 0.416751\tvalid_1's rmse: 649.134\n"
     ]
    },
    {
     "name": "stderr",
     "output_type": "stream",
     "text": [
      "[I 2023-08-14 15:52:13,470] Trial 87 finished with value: 27.157890991519746 and parameters: {'learning_rate': 0.07088897340895034, 'n_estimators': 517, 'max_depth': 15, 'num_leaves': 35, 'colsample_bytree': 0.33429002308358163, 'subsample': 0.34535856463567727, 'subsample_freq': 6, 'min_child_samples': 23}. Best is trial 67 with value: 26.56827303285346.\n",
      "[I 2023-08-14 15:52:13,582] Trial 88 finished with value: 27.0313862748425 and parameters: {'learning_rate': 0.06982903217800461, 'n_estimators': 399, 'max_depth': 18, 'num_leaves': 19, 'colsample_bytree': 0.3202069774308792, 'subsample': 0.38095450998884745, 'subsample_freq': 4, 'min_child_samples': 14}. Best is trial 67 with value: 26.56827303285346.\n",
      "[I 2023-08-14 15:52:13,703] Trial 89 finished with value: 26.801880230208248 and parameters: {'learning_rate': 0.06585448059147064, 'n_estimators': 450, 'max_depth': 16, 'num_leaves': 27, 'colsample_bytree': 0.2956971429946895, 'subsample': 0.34581261567002675, 'subsample_freq': 5, 'min_child_samples': 17}. Best is trial 67 with value: 26.56827303285346.\n"
     ]
    },
    {
     "name": "stdout",
     "output_type": "stream",
     "text": [
      "Training until validation scores don't improve for 100 rounds\n",
      "Early stopping, best iteration is:\n",
      "[52]\ttraining's mape: 0.113011\ttraining's rmse: 90.2889\tvalid_1's mape: 0.41537\tvalid_1's rmse: 649.256\n",
      "Training until validation scores don't improve for 100 rounds\n",
      "Early stopping, best iteration is:\n",
      "[50]\ttraining's mape: 0.12146\ttraining's rmse: 95.1382\tvalid_1's mape: 0.413382\tvalid_1's rmse: 647.058\n"
     ]
    },
    {
     "name": "stderr",
     "output_type": "stream",
     "text": [
      "[I 2023-08-14 15:52:13,829] Trial 90 finished with value: 26.919680586703638 and parameters: {'learning_rate': 0.07378460567651353, 'n_estimators': 736, 'max_depth': 13, 'num_leaves': 65, 'colsample_bytree': 0.25618170082005115, 'subsample': 0.43804739953283284, 'subsample_freq': 6, 'min_child_samples': 20}. Best is trial 67 with value: 26.56827303285346.\n"
     ]
    },
    {
     "name": "stdout",
     "output_type": "stream",
     "text": [
      "Training until validation scores don't improve for 100 rounds\n",
      "Early stopping, best iteration is:\n",
      "[57]\ttraining's mape: 0.0987916\ttraining's rmse: 81.3944\tvalid_1's mape: 0.413495\tvalid_1's rmse: 645.64\n",
      "Training until validation scores don't improve for 100 rounds\n",
      "Early stopping, best iteration is:\n",
      "[83]\ttraining's mape: 0.073583\ttraining's rmse: 63.979\tvalid_1's mape: 0.411518\tvalid_1's rmse: 640.757\n"
     ]
    },
    {
     "name": "stderr",
     "output_type": "stream",
     "text": [
      "[I 2023-08-14 15:52:13,957] Trial 91 finished with value: 26.864613125384096 and parameters: {'learning_rate': 0.07560255092854808, 'n_estimators': 353, 'max_depth': 13, 'num_leaves': 55, 'colsample_bytree': 0.2700717520783534, 'subsample': 0.3175423339349496, 'subsample_freq': 5, 'min_child_samples': 11}. Best is trial 67 with value: 26.56827303285346.\n",
      "[I 2023-08-14 15:52:14,079] Trial 92 finished with value: 26.694558609020785 and parameters: {'learning_rate': 0.07246532663595645, 'n_estimators': 262, 'max_depth': 14, 'num_leaves': 43, 'colsample_bytree': 0.2630772669905508, 'subsample': 0.3873207314647036, 'subsample_freq': 5, 'min_child_samples': 11}. Best is trial 67 with value: 26.56827303285346.\n",
      "[I 2023-08-14 15:52:14,201] Trial 93 finished with value: 28.263549700200514 and parameters: {'learning_rate': 0.07218563575521074, 'n_estimators': 256, 'max_depth': 14, 'num_leaves': 46, 'colsample_bytree': 0.2385793111381468, 'subsample': 0.3932808518856996, 'subsample_freq': 5, 'min_child_samples': 15}. Best is trial 67 with value: 26.56827303285346.\n"
     ]
    },
    {
     "name": "stdout",
     "output_type": "stream",
     "text": [
      "Training until validation scores don't improve for 100 rounds\n",
      "Early stopping, best iteration is:\n",
      "[52]\ttraining's mape: 0.102135\ttraining's rmse: 82.5403\tvalid_1's mape: 0.411457\tvalid_1's rmse: 643.845\n",
      "Training until validation scores don't improve for 100 rounds\n",
      "Early stopping, best iteration is:\n",
      "[87]\ttraining's mape: 0.10224\ttraining's rmse: 84.9299\tvalid_1's mape: 0.430523\tvalid_1's rmse: 669.485\n"
     ]
    },
    {
     "name": "stderr",
     "output_type": "stream",
     "text": [
      "[I 2023-08-14 15:52:14,322] Trial 94 finished with value: 27.132271503844734 and parameters: {'learning_rate': 0.07092855577002369, 'n_estimators': 311, 'max_depth': 11, 'num_leaves': 39, 'colsample_bytree': 0.30832424084518584, 'subsample': 0.36636848762053803, 'subsample_freq': 4, 'min_child_samples': 19}. Best is trial 67 with value: 26.56827303285346.\n"
     ]
    },
    {
     "name": "stdout",
     "output_type": "stream",
     "text": [
      "Training until validation scores don't improve for 100 rounds\n",
      "Early stopping, best iteration is:\n",
      "[52]\ttraining's mape: 0.110541\ttraining's rmse: 88.3992\tvalid_1's mape: 0.416531\tvalid_1's rmse: 650.785\n",
      "Training until validation scores don't improve for 100 rounds\n",
      "Early stopping, best iteration is:\n",
      "[52]\ttraining's mape: 0.102217\ttraining's rmse: 81.5516\tvalid_1's mape: 0.414479\tvalid_1's rmse: 648.377\n"
     ]
    },
    {
     "name": "stderr",
     "output_type": "stream",
     "text": [
      "[I 2023-08-14 15:52:14,460] Trial 95 finished with value: 26.91590863599466 and parameters: {'learning_rate': 0.06887241959997434, 'n_estimators': 217, 'max_depth': 17, 'num_leaves': 71, 'colsample_bytree': 0.280643620144236, 'subsample': 0.46336786203289326, 'subsample_freq': 5, 'min_child_samples': 11}. Best is trial 67 with value: 26.56827303285346.\n",
      "[I 2023-08-14 15:52:14,608] Trial 96 finished with value: 26.790061848889223 and parameters: {'learning_rate': 0.07329878764084671, 'n_estimators': 426, 'max_depth': 28, 'num_leaves': 254, 'colsample_bytree': 0.2585892251176659, 'subsample': 0.41631752225309604, 'subsample_freq': 5, 'min_child_samples': 18}. Best is trial 67 with value: 26.56827303285346.\n"
     ]
    },
    {
     "name": "stdout",
     "output_type": "stream",
     "text": [
      "Training until validation scores don't improve for 100 rounds\n",
      "Early stopping, best iteration is:\n",
      "[52]\ttraining's mape: 0.105387\ttraining's rmse: 84.8945\tvalid_1's mape: 0.412461\tvalid_1's rmse: 644.427\n",
      "Training until validation scores don't improve for 100 rounds\n",
      "Early stopping, best iteration is:\n",
      "[55]\ttraining's mape: 0.110599\ttraining's rmse: 88.1102\tvalid_1's mape: 0.416019\tvalid_1's rmse: 649.929\n"
     ]
    },
    {
     "name": "stderr",
     "output_type": "stream",
     "text": [
      "[I 2023-08-14 15:52:14,742] Trial 97 finished with value: 27.043518595503578 and parameters: {'learning_rate': 0.06271424350558773, 'n_estimators': 697, 'max_depth': 20, 'num_leaves': 60, 'colsample_bytree': 0.2877103312216484, 'subsample': 0.390491214631818, 'subsample_freq': 6, 'min_child_samples': 13}. Best is trial 67 with value: 26.56827303285346.\n",
      "[I 2023-08-14 15:52:14,859] Trial 98 finished with value: 26.841784390306927 and parameters: {'learning_rate': 0.06458997026339895, 'n_estimators': 813, 'max_depth': 18, 'num_leaves': 36, 'colsample_bytree': 0.27164893032362014, 'subsample': 0.43555073908891123, 'subsample_freq': 5, 'min_child_samples': 16}. Best is trial 67 with value: 26.56827303285346.\n",
      "[I 2023-08-14 15:52:14,964] Trial 99 finished with value: 27.13228739056982 and parameters: {'learning_rate': 0.0745665584772108, 'n_estimators': 566, 'max_depth': 15, 'num_leaves': 124, 'colsample_bytree': 0.3007043542992731, 'subsample': 0.3421721507514985, 'subsample_freq': 6, 'min_child_samples': 22}. Best is trial 67 with value: 26.56827303285346.\n"
     ]
    },
    {
     "name": "stdout",
     "output_type": "stream",
     "text": [
      "Training until validation scores don't improve for 100 rounds\n",
      "Early stopping, best iteration is:\n",
      "[52]\ttraining's mape: 0.115424\ttraining's rmse: 90.5847\tvalid_1's mape: 0.413941\tvalid_1's rmse: 647.633\n",
      "Training until validation scores don't improve for 100 rounds\n",
      "Early stopping, best iteration is:\n",
      "[56]\ttraining's mape: 0.103586\ttraining's rmse: 85.0903\tvalid_1's mape: 0.415946\tvalid_1's rmse: 648.123\n"
     ]
    },
    {
     "name": "stderr",
     "output_type": "stream",
     "text": [
      "[I 2023-08-14 15:52:15,106] Trial 100 finished with value: 28.032534651045015 and parameters: {'learning_rate': 0.06698132082804438, 'n_estimators': 345, 'max_depth': 30, 'num_leaves': 51, 'colsample_bytree': 0.24922381458133808, 'subsample': 0.3688044585688323, 'subsample_freq': 4, 'min_child_samples': 12}. Best is trial 67 with value: 26.56827303285346.\n"
     ]
    },
    {
     "name": "stdout",
     "output_type": "stream",
     "text": [
      "Training until validation scores don't improve for 100 rounds\n",
      "Early stopping, best iteration is:\n",
      "[69]\ttraining's mape: 0.117994\ttraining's rmse: 94.5169\tvalid_1's mape: 0.429177\tvalid_1's rmse: 669.173\n",
      "Training until validation scores don't improve for 100 rounds\n",
      "Early stopping, best iteration is:\n",
      "[50]\ttraining's mape: 0.0990448\ttraining's rmse: 80.807\tvalid_1's mape: 0.410898\tvalid_1's rmse: 642.537\n"
     ]
    },
    {
     "name": "stderr",
     "output_type": "stream",
     "text": [
      "[I 2023-08-14 15:52:15,222] Trial 101 finished with value: 26.67049822356109 and parameters: {'learning_rate': 0.0769448693820881, 'n_estimators': 317, 'max_depth': 24, 'num_leaves': 43, 'colsample_bytree': 0.26638498785960996, 'subsample': 0.33921953398296595, 'subsample_freq': 5, 'min_child_samples': 9}. Best is trial 67 with value: 26.56827303285346.\n",
      "[I 2023-08-14 15:52:15,354] Trial 102 finished with value: 27.0666382316991 and parameters: {'learning_rate': 0.07725755675664206, 'n_estimators': 275, 'max_depth': 29, 'num_leaves': 44, 'colsample_bytree': 0.2635930319724375, 'subsample': 0.3576582246543885, 'subsample_freq': 5, 'min_child_samples': 6}. Best is trial 67 with value: 26.56827303285346.\n",
      "[I 2023-08-14 15:52:15,458] Trial 103 finished with value: 26.817952961890523 and parameters: {'learning_rate': 0.072389045793053, 'n_estimators': 331, 'max_depth': 25, 'num_leaves': 25, 'colsample_bytree': 0.27680717006297173, 'subsample': 0.40826486118081, 'subsample_freq': 5, 'min_child_samples': 9}. Best is trial 67 with value: 26.56827303285346.\n"
     ]
    },
    {
     "name": "stdout",
     "output_type": "stream",
     "text": [
      "Training until validation scores don't improve for 100 rounds\n",
      "Early stopping, best iteration is:\n",
      "[50]\ttraining's mape: 0.0955582\ttraining's rmse: 78.1649\tvalid_1's mape: 0.415588\tvalid_1's rmse: 649.538\n",
      "Training until validation scores don't improve for 100 rounds\n",
      "Early stopping, best iteration is:\n",
      "[52]\ttraining's mape: 0.104906\ttraining's rmse: 84.4801\tvalid_1's mape: 0.412729\tvalid_1's rmse: 645.009\n"
     ]
    },
    {
     "name": "stderr",
     "output_type": "stream",
     "text": [
      "[I 2023-08-14 15:52:15,591] Trial 104 finished with value: 26.79659024439121 and parameters: {'learning_rate': 0.07608091997540807, 'n_estimators': 305, 'max_depth': 24, 'num_leaves': 17, 'colsample_bytree': 0.3119581055549943, 'subsample': 0.3802790054940185, 'subsample_freq': 5, 'min_child_samples': 9}. Best is trial 67 with value: 26.56827303285346.\n"
     ]
    },
    {
     "name": "stdout",
     "output_type": "stream",
     "text": [
      "Training until validation scores don't improve for 100 rounds\n",
      "Early stopping, best iteration is:\n",
      "[52]\ttraining's mape: 0.106162\ttraining's rmse: 86.4645\tvalid_1's mape: 0.412405\tvalid_1's rmse: 644.326\n",
      "Training until validation scores don't improve for 100 rounds\n",
      "Early stopping, best iteration is:\n",
      "[46]\ttraining's mape: 0.110768\ttraining's rmse: 87.3135\tvalid_1's mape: 0.417861\tvalid_1's rmse: 653.709\n"
     ]
    },
    {
     "name": "stderr",
     "output_type": "stream",
     "text": [
      "[I 2023-08-14 15:52:15,761] Trial 105 finished with value: 27.168021627866068 and parameters: {'learning_rate': 0.06997777582723683, 'n_estimators': 195, 'max_depth': 27, 'num_leaves': 159, 'colsample_bytree': 0.2949743951281484, 'subsample': 0.34060764861265386, 'subsample_freq': 4, 'min_child_samples': 8}. Best is trial 67 with value: 26.56827303285346.\n",
      "[I 2023-08-14 15:52:15,894] Trial 106 finished with value: 27.02779532417442 and parameters: {'learning_rate': 0.06036268259301737, 'n_estimators': 234, 'max_depth': 26, 'num_leaves': 63, 'colsample_bytree': 0.2867755544437885, 'subsample': 0.3177087069722576, 'subsample_freq': 9, 'min_child_samples': 14}. Best is trial 67 with value: 26.56827303285346.\n",
      "[I 2023-08-14 15:52:16,003] Trial 107 finished with value: 26.95606867829149 and parameters: {'learning_rate': 0.07404921028931277, 'n_estimators': 378, 'max_depth': 21, 'num_leaves': 33, 'colsample_bytree': 0.32872817982682523, 'subsample': 0.40089165333866483, 'subsample_freq': 6, 'min_child_samples': 12}. Best is trial 67 with value: 26.56827303285346.\n"
     ]
    },
    {
     "name": "stdout",
     "output_type": "stream",
     "text": [
      "Training until validation scores don't improve for 100 rounds\n",
      "Early stopping, best iteration is:\n",
      "[55]\ttraining's mape: 0.119188\ttraining's rmse: 93.2583\tvalid_1's mape: 0.416184\tvalid_1's rmse: 650.476\n",
      "Training until validation scores don't improve for 100 rounds\n",
      "Early stopping, best iteration is:\n",
      "[55]\ttraining's mape: 0.0967985\ttraining's rmse: 79.6341\tvalid_1's mape: 0.4139\tvalid_1's rmse: 645.976\n"
     ]
    },
    {
     "name": "stderr",
     "output_type": "stream",
     "text": [
      "[I 2023-08-14 15:52:16,110] Trial 108 finished with value: 26.781393327325286 and parameters: {'learning_rate': 0.0709022096952646, 'n_estimators': 258, 'max_depth': 28, 'num_leaves': 82, 'colsample_bytree': 0.26861409303512884, 'subsample': 0.3706522907818076, 'subsample_freq': 5, 'min_child_samples': 21}. Best is trial 67 with value: 26.56827303285346.\n"
     ]
    },
    {
     "name": "stdout",
     "output_type": "stream",
     "text": [
      "Training until validation scores don't improve for 100 rounds\n",
      "Early stopping, best iteration is:\n",
      "[53]\ttraining's mape: 0.11033\ttraining's rmse: 88.4152\tvalid_1's mape: 0.41225\tvalid_1's rmse: 644.963\n",
      "Training until validation scores don't improve for 100 rounds\n",
      "Early stopping, best iteration is:\n",
      "[160]\ttraining's mape: 0.0711381\ttraining's rmse: 62.7222\tvalid_1's mape: 0.429219\tvalid_1's rmse: 667.281\n"
     ]
    },
    {
     "name": "stderr",
     "output_type": "stream",
     "text": [
      "[I 2023-08-14 15:52:16,276] Trial 109 finished with value: 28.26411123863996 and parameters: {'learning_rate': 0.07481317935382947, 'n_estimators': 989, 'max_depth': 22, 'num_leaves': 140, 'colsample_bytree': 0.23427924712863993, 'subsample': 0.4280290003379867, 'subsample_freq': 5, 'min_child_samples': 15}. Best is trial 67 with value: 26.56827303285346.\n",
      "[I 2023-08-14 15:52:16,434] Trial 110 finished with value: 28.251943557686076 and parameters: {'learning_rate': 0.07768086219510922, 'n_estimators': 867, 'max_depth': 16, 'num_leaves': 51, 'colsample_bytree': 0.24687712954681584, 'subsample': 0.3849776457810708, 'subsample_freq': 4, 'min_child_samples': 16}. Best is trial 67 with value: 26.56827303285346.\n"
     ]
    },
    {
     "name": "stdout",
     "output_type": "stream",
     "text": [
      "Training until validation scores don't improve for 100 rounds\n",
      "Early stopping, best iteration is:\n",
      "[168]\ttraining's mape: 0.0708326\ttraining's rmse: 62.9832\tvalid_1's mape: 0.429119\tvalid_1's rmse: 666.613\n",
      "Training until validation scores don't improve for 100 rounds\n"
     ]
    },
    {
     "name": "stderr",
     "output_type": "stream",
     "text": [
      "[I 2023-08-14 15:52:16,570] Trial 111 finished with value: 26.65598946910889 and parameters: {'learning_rate': 0.07643575165430977, 'n_estimators': 371, 'max_depth': 19, 'num_leaves': 57, 'colsample_bytree': 0.255643332996849, 'subsample': 0.3002638233419241, 'subsample_freq': 5, 'min_child_samples': 18}. Best is trial 67 with value: 26.56827303285346.\n",
      "[I 2023-08-14 15:52:16,685] Trial 112 finished with value: 26.669488500920767 and parameters: {'learning_rate': 0.07902318240167164, 'n_estimators': 410, 'max_depth': 17, 'num_leaves': 58, 'colsample_bytree': 0.25769481252076804, 'subsample': 0.30024536617041675, 'subsample_freq': 5, 'min_child_samples': 18}. Best is trial 67 with value: 26.56827303285346.\n"
     ]
    },
    {
     "name": "stdout",
     "output_type": "stream",
     "text": [
      "Early stopping, best iteration is:\n",
      "[57]\ttraining's mape: 0.101564\ttraining's rmse: 83.5144\tvalid_1's mape: 0.410064\tvalid_1's rmse: 641.172\n",
      "Training until validation scores don't improve for 100 rounds\n",
      "Early stopping, best iteration is:\n",
      "[57]\ttraining's mape: 0.0990585\ttraining's rmse: 82.2312\tvalid_1's mape: 0.410164\tvalid_1's rmse: 640.788\n",
      "Training until validation scores don't improve for 100 rounds\n"
     ]
    },
    {
     "name": "stderr",
     "output_type": "stream",
     "text": [
      "[I 2023-08-14 15:52:16,816] Trial 113 finished with value: 26.9071357646136 and parameters: {'learning_rate': 0.07829666422273238, 'n_estimators': 465, 'max_depth': 19, 'num_leaves': 39, 'colsample_bytree': 0.25500945888141835, 'subsample': 0.30704163919893324, 'subsample_freq': 5, 'min_child_samples': 2}. Best is trial 67 with value: 26.56827303285346.\n",
      "[I 2023-08-14 15:52:16,933] Trial 114 finished with value: 26.866154993076524 and parameters: {'learning_rate': 0.07937421726016379, 'n_estimators': 418, 'max_depth': 19, 'num_leaves': 70, 'colsample_bytree': 0.2592201152624145, 'subsample': 0.33002902448368493, 'subsample_freq': 5, 'min_child_samples': 19}. Best is trial 67 with value: 26.56827303285346.\n"
     ]
    },
    {
     "name": "stdout",
     "output_type": "stream",
     "text": [
      "Early stopping, best iteration is:\n",
      "[52]\ttraining's mape: 0.0947681\ttraining's rmse: 78.0071\tvalid_1's mape: 0.413852\tvalid_1's rmse: 646.712\n",
      "Training until validation scores don't improve for 100 rounds\n",
      "Early stopping, best iteration is:\n",
      "[53]\ttraining's mape: 0.102446\ttraining's rmse: 84.4695\tvalid_1's mape: 0.412643\tvalid_1's rmse: 644.306\n",
      "Training until validation scores don't improve for 100 rounds\n"
     ]
    },
    {
     "name": "stderr",
     "output_type": "stream",
     "text": [
      "[I 2023-08-14 15:52:17,070] Trial 115 finished with value: 28.283673182427965 and parameters: {'learning_rate': 0.07601022794152347, 'n_estimators': 302, 'max_depth': 17, 'num_leaves': 56, 'colsample_bytree': 0.2440257078943919, 'subsample': 0.3490975694375086, 'subsample_freq': 6, 'min_child_samples': 17}. Best is trial 67 with value: 26.56827303285346.\n",
      "[I 2023-08-14 15:52:17,178] Trial 116 finished with value: 26.807872345365464 and parameters: {'learning_rate': 0.07534303208303086, 'n_estimators': 754, 'max_depth': 14, 'num_leaves': 76, 'colsample_bytree': 0.28121871057512593, 'subsample': 0.30373797220936233, 'subsample_freq': 5, 'min_child_samples': 18}. Best is trial 67 with value: 26.56827303285346.\n"
     ]
    },
    {
     "name": "stdout",
     "output_type": "stream",
     "text": [
      "Early stopping, best iteration is:\n",
      "[103]\ttraining's mape: 0.0949766\ttraining's rmse: 80.4906\tvalid_1's mape: 0.430118\tvalid_1's rmse: 668.27\n",
      "Training until validation scores don't improve for 100 rounds\n",
      "Early stopping, best iteration is:\n",
      "[56]\ttraining's mape: 0.102988\ttraining's rmse: 84.3962\tvalid_1's mape: 0.412066\tvalid_1's rmse: 643.613\n",
      "Training until validation scores don't improve for 100 rounds\n"
     ]
    },
    {
     "name": "stderr",
     "output_type": "stream",
     "text": [
      "[I 2023-08-14 15:52:17,318] Trial 117 finished with value: 28.057119732524338 and parameters: {'learning_rate': 0.07691115470324643, 'n_estimators': 913, 'max_depth': 18, 'num_leaves': 46, 'colsample_bytree': 0.21833246035470555, 'subsample': 0.3277372351097672, 'subsample_freq': 4, 'min_child_samples': 14}. Best is trial 67 with value: 26.56827303285346.\n",
      "[I 2023-08-14 15:52:17,451] Trial 118 finished with value: 26.82615033250354 and parameters: {'learning_rate': 0.0795565308882277, 'n_estimators': 394, 'max_depth': 20, 'num_leaves': 28, 'colsample_bytree': 0.30249657874222236, 'subsample': 0.30147979582154766, 'subsample_freq': 5, 'min_child_samples': 20}. Best is trial 67 with value: 26.56827303285346.\n"
     ]
    },
    {
     "name": "stdout",
     "output_type": "stream",
     "text": [
      "Early stopping, best iteration is:\n",
      "[69]\ttraining's mape: 0.112062\ttraining's rmse: 91.2768\tvalid_1's mape: 0.428966\tvalid_1's rmse: 667.586\n",
      "Training until validation scores don't improve for 100 rounds\n",
      "Early stopping, best iteration is:\n",
      "[76]\ttraining's mape: 0.0814886\ttraining's rmse: 70.0544\tvalid_1's mape: 0.410976\tvalid_1's rmse: 640.61\n"
     ]
    },
    {
     "name": "stderr",
     "output_type": "stream",
     "text": [
      "[I 2023-08-14 15:52:17,598] Trial 119 finished with value: 28.305803231218853 and parameters: {'learning_rate': 0.0775237750469076, 'n_estimators': 326, 'max_depth': 16, 'num_leaves': 67, 'colsample_bytree': 0.2334482259123912, 'subsample': 0.357051887515068, 'subsample_freq': 6, 'min_child_samples': 17}. Best is trial 67 with value: 26.56827303285346.\n"
     ]
    },
    {
     "name": "stdout",
     "output_type": "stream",
     "text": [
      "Training until validation scores don't improve for 100 rounds\n",
      "Early stopping, best iteration is:\n",
      "[166]\ttraining's mape: 0.0731296\ttraining's rmse: 64.8926\tvalid_1's mape: 0.429383\tvalid_1's rmse: 667.304\n",
      "Training until validation scores don't improve for 100 rounds\n"
     ]
    },
    {
     "name": "stderr",
     "output_type": "stream",
     "text": [
      "[I 2023-08-14 15:52:17,720] Trial 120 finished with value: 26.95796844503489 and parameters: {'learning_rate': 0.08071980043574858, 'n_estimators': 274, 'max_depth': 17, 'num_leaves': 94, 'colsample_bytree': 0.26684713530096715, 'subsample': 0.31751264623578, 'subsample_freq': 5, 'min_child_samples': 16}. Best is trial 67 with value: 26.56827303285346.\n",
      "[I 2023-08-14 15:52:17,840] Trial 121 finished with value: 26.764207596923807 and parameters: {'learning_rate': 0.07332700402746234, 'n_estimators': 367, 'max_depth': 12, 'num_leaves': 61, 'colsample_bytree': 0.27565336134094803, 'subsample': 0.34019167067798906, 'subsample_freq': 5, 'min_child_samples': 18}. Best is trial 67 with value: 26.56827303285346.\n"
     ]
    },
    {
     "name": "stdout",
     "output_type": "stream",
     "text": [
      "Early stopping, best iteration is:\n",
      "[82]\ttraining's mape: 0.0756193\ttraining's rmse: 65.6125\tvalid_1's mape: 0.412257\tvalid_1's rmse: 642.486\n",
      "Training until validation scores don't improve for 100 rounds\n",
      "Early stopping, best iteration is:\n",
      "[57]\ttraining's mape: 0.102019\ttraining's rmse: 83.7621\tvalid_1's mape: 0.411558\tvalid_1's rmse: 643.072\n",
      "Training until validation scores don't improve for 100 rounds\n"
     ]
    },
    {
     "name": "stderr",
     "output_type": "stream",
     "text": [
      "[I 2023-08-14 15:52:17,960] Trial 122 finished with value: 26.908315599385592 and parameters: {'learning_rate': 0.07232902121001342, 'n_estimators': 433, 'max_depth': 15, 'num_leaves': 51, 'colsample_bytree': 0.29135885047507953, 'subsample': 0.36605438513699273, 'subsample_freq': 5, 'min_child_samples': 20}. Best is trial 67 with value: 26.56827303285346.\n",
      "[I 2023-08-14 15:52:18,088] Trial 123 finished with value: 28.262158704567238 and parameters: {'learning_rate': 0.07620345067024425, 'n_estimators': 400, 'max_depth': 13, 'num_leaves': 43, 'colsample_bytree': 0.24959345548896003, 'subsample': 0.33113465532598024, 'subsample_freq': 5, 'min_child_samples': 19}. Best is trial 67 with value: 26.56827303285346.\n"
     ]
    },
    {
     "name": "stdout",
     "output_type": "stream",
     "text": [
      "Early stopping, best iteration is:\n",
      "[50]\ttraining's mape: 0.111818\ttraining's rmse: 89.2184\tvalid_1's mape: 0.414064\tvalid_1's rmse: 647.848\n",
      "Training until validation scores don't improve for 100 rounds\n",
      "Early stopping, best iteration is:\n",
      "[80]\ttraining's mape: 0.108552\ttraining's rmse: 89.0933\tvalid_1's mape: 0.430614\tvalid_1's rmse: 669.758\n",
      "Training until validation scores don't improve for 100 rounds\n"
     ]
    },
    {
     "name": "stderr",
     "output_type": "stream",
     "text": [
      "[I 2023-08-14 15:52:18,210] Trial 124 finished with value: 27.10313129928254 and parameters: {'learning_rate': 0.07410041274418741, 'n_estimators': 342, 'max_depth': 19, 'num_leaves': 87, 'colsample_bytree': 0.3136764944589892, 'subsample': 0.37990379089320186, 'subsample_freq': 4, 'min_child_samples': 18}. Best is trial 67 with value: 26.56827303285346.\n",
      "[I 2023-08-14 15:52:18,332] Trial 125 finished with value: 26.762521726885957 and parameters: {'learning_rate': 0.0713672334256203, 'n_estimators': 379, 'max_depth': 29, 'num_leaves': 37, 'colsample_bytree': 0.26209915455560684, 'subsample': 0.35523280755047126, 'subsample_freq': 5, 'min_child_samples': 16}. Best is trial 67 with value: 26.56827303285346.\n"
     ]
    },
    {
     "name": "stdout",
     "output_type": "stream",
     "text": [
      "Early stopping, best iteration is:\n",
      "[57]\ttraining's mape: 0.0988309\ttraining's rmse: 80.9809\tvalid_1's mape: 0.415403\tvalid_1's rmse: 648.522\n",
      "Training until validation scores don't improve for 100 rounds\n",
      "Early stopping, best iteration is:\n",
      "[55]\ttraining's mape: 0.103599\ttraining's rmse: 84.6292\tvalid_1's mape: 0.411986\tvalid_1's rmse: 643.161\n"
     ]
    },
    {
     "name": "stderr",
     "output_type": "stream",
     "text": [
      "[I 2023-08-14 15:52:18,450] Trial 126 finished with value: 27.06554045066154 and parameters: {'learning_rate': 0.07819297818711857, 'n_estimators': 617, 'max_depth': 18, 'num_leaves': 55, 'colsample_bytree': 0.28583516198650344, 'subsample': 0.4071223637857877, 'subsample_freq': 6, 'min_child_samples': 21}. Best is trial 67 with value: 26.56827303285346.\n"
     ]
    },
    {
     "name": "stdout",
     "output_type": "stream",
     "text": [
      "Training until validation scores don't improve for 100 rounds\n",
      "Early stopping, best iteration is:\n",
      "[55]\ttraining's mape: 0.0981217\ttraining's rmse: 81.2252\tvalid_1's mape: 0.414857\tvalid_1's rmse: 646.645\n",
      "Training until validation scores don't improve for 100 rounds\n",
      "Early stopping, best iteration is:\n",
      "[55]\ttraining's mape: 0.0898694\ttraining's rmse: 74.5044\tvalid_1's mape: 0.412776\tvalid_1's rmse: 644.577\n"
     ]
    },
    {
     "name": "stderr",
     "output_type": "stream",
     "text": [
      "[I 2023-08-14 15:52:18,603] Trial 127 finished with value: 26.830607149158002 and parameters: {'learning_rate': 0.07331291155431924, 'n_estimators': 500, 'max_depth': 17, 'num_leaves': 102, 'colsample_bytree': 0.27069446834807925, 'subsample': 0.39219002279680504, 'subsample_freq': 5, 'min_child_samples': 8}. Best is trial 67 with value: 26.56827303285346.\n",
      "[I 2023-08-14 15:52:18,727] Trial 128 finished with value: 26.75592389864156 and parameters: {'learning_rate': 0.06852450906282335, 'n_estimators': 546, 'max_depth': 22, 'num_leaves': 60, 'colsample_bytree': 0.29637970515891565, 'subsample': 0.3425738040345036, 'subsample_freq': 5, 'min_child_samples': 15}. Best is trial 67 with value: 26.56827303285346.\n",
      "[I 2023-08-14 15:52:18,831] Trial 129 finished with value: 27.276069869429264 and parameters: {'learning_rate': 0.07515638773304156, 'n_estimators': 293, 'max_depth': 25, 'num_leaves': 22, 'colsample_bytree': 0.3192687881466643, 'subsample': 0.3208002264946842, 'subsample_freq': 4, 'min_child_samples': 22}. Best is trial 67 with value: 26.56827303285346.\n"
     ]
    },
    {
     "name": "stdout",
     "output_type": "stream",
     "text": [
      "Training until validation scores don't improve for 100 rounds\n",
      "Early stopping, best iteration is:\n",
      "[55]\ttraining's mape: 0.107262\ttraining's rmse: 86.8153\tvalid_1's mape: 0.4121\tvalid_1's rmse: 643.486\n",
      "Training until validation scores don't improve for 100 rounds\n",
      "Early stopping, best iteration is:\n",
      "[63]\ttraining's mape: 0.0960539\ttraining's rmse: 79.698\tvalid_1's mape: 0.416782\tvalid_1's rmse: 649.144\n"
     ]
    },
    {
     "name": "stderr",
     "output_type": "stream",
     "text": [
      "[I 2023-08-14 15:52:18,968] Trial 130 finished with value: 27.049262867790592 and parameters: {'learning_rate': 0.06593247297836989, 'n_estimators': 359, 'max_depth': 27, 'num_leaves': 72, 'colsample_bytree': 0.3060733662031723, 'subsample': 0.4522623067244833, 'subsample_freq': 6, 'min_child_samples': 11}. Best is trial 67 with value: 26.56827303285346.\n"
     ]
    },
    {
     "name": "stdout",
     "output_type": "stream",
     "text": [
      "Training until validation scores don't improve for 100 rounds\n",
      "Early stopping, best iteration is:\n",
      "[52]\ttraining's mape: 0.106944\ttraining's rmse: 85.0638\tvalid_1's mape: 0.416564\tvalid_1's rmse: 650.738\n",
      "Training until validation scores don't improve for 100 rounds\n"
     ]
    },
    {
     "name": "stderr",
     "output_type": "stream",
     "text": [
      "[I 2023-08-14 15:52:19,104] Trial 131 finished with value: 26.723392316804105 and parameters: {'learning_rate': 0.07689889499880036, 'n_estimators': 319, 'max_depth': 24, 'num_leaves': 48, 'colsample_bytree': 0.2757700586981412, 'subsample': 0.368045672700282, 'subsample_freq': 2, 'min_child_samples': 10}. Best is trial 67 with value: 26.56827303285346.\n",
      "[I 2023-08-14 15:52:19,246] Trial 132 finished with value: 26.790196501934094 and parameters: {'learning_rate': 0.07682726026597908, 'n_estimators': 311, 'max_depth': 24, 'num_leaves': 48, 'colsample_bytree': 0.2770643032589806, 'subsample': 0.3729858862479513, 'subsample_freq': 2, 'min_child_samples': 10}. Best is trial 67 with value: 26.56827303285346.\n"
     ]
    },
    {
     "name": "stdout",
     "output_type": "stream",
     "text": [
      "Early stopping, best iteration is:\n",
      "[52]\ttraining's mape: 0.095978\ttraining's rmse: 78.3555\tvalid_1's mape: 0.411325\tvalid_1's rmse: 642.737\n",
      "Training until validation scores don't improve for 100 rounds\n",
      "Early stopping, best iteration is:\n",
      "[52]\ttraining's mape: 0.0956014\ttraining's rmse: 78.0889\tvalid_1's mape: 0.412193\tvalid_1's rmse: 644.176\n"
     ]
    },
    {
     "name": "stderr",
     "output_type": "stream",
     "text": [
      "[I 2023-08-14 15:52:19,405] Trial 133 finished with value: 27.034278893640796 and parameters: {'learning_rate': 0.07870752268488547, 'n_estimators': 246, 'max_depth': 23, 'num_leaves': 65, 'colsample_bytree': 0.2549783065436353, 'subsample': 0.418618589444537, 'subsample_freq': 1, 'min_child_samples': 9}. Best is trial 67 with value: 26.56827303285346.\n",
      "[I 2023-08-14 15:52:19,520] Trial 134 finished with value: 26.780104922763766 and parameters: {'learning_rate': 0.06774870671347516, 'n_estimators': 329, 'max_depth': 14, 'num_leaves': 32, 'colsample_bytree': 0.28653318046498616, 'subsample': 0.36125076611266654, 'subsample_freq': 2, 'min_child_samples': 13}. Best is trial 67 with value: 26.56827303285346.\n"
     ]
    },
    {
     "name": "stdout",
     "output_type": "stream",
     "text": [
      "Training until validation scores don't improve for 100 rounds\n",
      "Early stopping, best iteration is:\n",
      "[52]\ttraining's mape: 0.0893872\ttraining's rmse: 73.4526\tvalid_1's mape: 0.415545\tvalid_1's rmse: 648.882\n",
      "Training until validation scores don't improve for 100 rounds\n",
      "Early stopping, best iteration is:\n",
      "[52]\ttraining's mape: 0.112809\ttraining's rmse: 88.82\tvalid_1's mape: 0.412788\tvalid_1's rmse: 645.808\n"
     ]
    },
    {
     "name": "stderr",
     "output_type": "stream",
     "text": [
      "[I 2023-08-14 15:52:19,614] Trial 135 finished with value: 28.039654759587858 and parameters: {'learning_rate': 0.062471053196353925, 'n_estimators': 281, 'max_depth': 16, 'num_leaves': 8, 'colsample_bytree': 0.24166395595766432, 'subsample': 0.3969101261312897, 'subsample_freq': 3, 'min_child_samples': 17}. Best is trial 67 with value: 26.56827303285346.\n",
      "[I 2023-08-14 15:52:19,746] Trial 136 finished with value: 26.73487350945969 and parameters: {'learning_rate': 0.07516475944141761, 'n_estimators': 355, 'max_depth': 25, 'num_leaves': 42, 'colsample_bytree': 0.2643068711983719, 'subsample': 0.34678286902596134, 'subsample_freq': 5, 'min_child_samples': 14}. Best is trial 67 with value: 26.56827303285346.\n"
     ]
    },
    {
     "name": "stdout",
     "output_type": "stream",
     "text": [
      "Training until validation scores don't improve for 100 rounds\n",
      "Early stopping, best iteration is:\n",
      "[71]\ttraining's mape: 0.13314\ttraining's rmse: 105.603\tvalid_1's mape: 0.429036\tvalid_1's rmse: 668.331\n",
      "Training until validation scores don't improve for 100 rounds\n",
      "Early stopping, best iteration is:\n",
      "[55]\ttraining's mape: 0.0986543\ttraining's rmse: 81.3523\tvalid_1's mape: 0.411263\tvalid_1's rmse: 642.237\n"
     ]
    },
    {
     "name": "stderr",
     "output_type": "stream",
     "text": [
      "[I 2023-08-14 15:52:19,868] Trial 137 finished with value: 26.8864035929133 and parameters: {'learning_rate': 0.07737666177617275, 'n_estimators': 641, 'max_depth': 25, 'num_leaves': 40, 'colsample_bytree': 0.2649032975411447, 'subsample': 0.3328625664493677, 'subsample_freq': 5, 'min_child_samples': 13}. Best is trial 67 with value: 26.56827303285346.\n",
      "[I 2023-08-14 15:52:19,978] Trial 138 finished with value: 26.996496097039984 and parameters: {'learning_rate': 0.07533094179767848, 'n_estimators': 323, 'max_depth': 24, 'num_leaves': 43, 'colsample_bytree': 0.292231808929765, 'subsample': 0.3141410597397201, 'subsample_freq': 5, 'min_child_samples': 14}. Best is trial 67 with value: 26.56827303285346.\n"
     ]
    },
    {
     "name": "stdout",
     "output_type": "stream",
     "text": [
      "Training until validation scores don't improve for 100 rounds\n",
      "Early stopping, best iteration is:\n",
      "[57]\ttraining's mape: 0.0940798\ttraining's rmse: 78.4549\tvalid_1's mape: 0.412902\tvalid_1's rmse: 643.617\n",
      "Training until validation scores don't improve for 100 rounds\n",
      "Early stopping, best iteration is:\n",
      "[55]\ttraining's mape: 0.100143\ttraining's rmse: 82.6442\tvalid_1's mape: 0.41428\tvalid_1's rmse: 647.421\n"
     ]
    },
    {
     "name": "stderr",
     "output_type": "stream",
     "text": [
      "[I 2023-08-14 15:52:20,097] Trial 139 finished with value: 27.181347019097895 and parameters: {'learning_rate': 0.07675104140271638, 'n_estimators': 711, 'max_depth': 24, 'num_leaves': 35, 'colsample_bytree': 0.27977028462755615, 'subsample': 0.35182282506784857, 'subsample_freq': 4, 'min_child_samples': 10}. Best is trial 67 with value: 26.56827303285346.\n",
      "[I 2023-08-14 15:52:20,208] Trial 140 finished with value: 27.1405232808347 and parameters: {'learning_rate': 0.07423513811551963, 'n_estimators': 353, 'max_depth': 23, 'num_leaves': 27, 'colsample_bytree': 0.25398172069091196, 'subsample': 0.30019772994381916, 'subsample_freq': 8, 'min_child_samples': 15}. Best is trial 67 with value: 26.56827303285346.\n"
     ]
    },
    {
     "name": "stdout",
     "output_type": "stream",
     "text": [
      "Training until validation scores don't improve for 100 rounds\n",
      "Early stopping, best iteration is:\n",
      "[58]\ttraining's mape: 0.0913091\ttraining's rmse: 76.076\tvalid_1's mape: 0.416062\tvalid_1's rmse: 649.113\n",
      "Training until validation scores don't improve for 100 rounds\n",
      "Early stopping, best iteration is:\n",
      "[53]\ttraining's mape: 0.105979\ttraining's rmse: 85.7221\tvalid_1's mape: 0.416623\tvalid_1's rmse: 650.492\n"
     ]
    },
    {
     "name": "stderr",
     "output_type": "stream",
     "text": [
      "[I 2023-08-14 15:52:20,342] Trial 141 finished with value: 26.748867019421617 and parameters: {'learning_rate': 0.07281774431151859, 'n_estimators': 411, 'max_depth': 26, 'num_leaves': 56, 'colsample_bytree': 0.2707832264604608, 'subsample': 0.3755990869145739, 'subsample_freq': 5, 'min_child_samples': 11}. Best is trial 67 with value: 26.56827303285346.\n"
     ]
    },
    {
     "name": "stdout",
     "output_type": "stream",
     "text": [
      "Training until validation scores don't improve for 100 rounds\n",
      "Early stopping, best iteration is:\n",
      "[55]\ttraining's mape: 0.0957356\ttraining's rmse: 78.573\tvalid_1's mape: 0.411603\tvalid_1's rmse: 644.11\n",
      "Training until validation scores don't improve for 100 rounds\n",
      "Early stopping, best iteration is:\n",
      "[52]\ttraining's mape: 0.108775\ttraining's rmse: 87.6614\tvalid_1's mape: 0.40921\tvalid_1's rmse: 640.758\n"
     ]
    },
    {
     "name": "stderr",
     "output_type": "stream",
     "text": [
      "[I 2023-08-14 15:52:20,456] Trial 142 finished with value: 26.521568459361273 and parameters: {'learning_rate': 0.07197407785708762, 'n_estimators': 382, 'max_depth': 27, 'num_leaves': 50, 'colsample_bytree': 0.30138661082257195, 'subsample': 0.3834265001982927, 'subsample_freq': 5, 'min_child_samples': 19}. Best is trial 142 with value: 26.521568459361273.\n",
      "[I 2023-08-14 15:52:20,570] Trial 143 finished with value: 26.72733118143001 and parameters: {'learning_rate': 0.07174428718230312, 'n_estimators': 469, 'max_depth': 28, 'num_leaves': 50, 'colsample_bytree': 0.2989424272123274, 'subsample': 0.38006706170400895, 'subsample_freq': 5, 'min_child_samples': 19}. Best is trial 142 with value: 26.521568459361273.\n",
      "[I 2023-08-14 15:52:20,690] Trial 144 finished with value: 26.53548550088028 and parameters: {'learning_rate': 0.06954232121935097, 'n_estimators': 467, 'max_depth': 28, 'num_leaves': 50, 'colsample_bytree': 0.3251135414812038, 'subsample': 0.38450193167371977, 'subsample_freq': 5, 'min_child_samples': 19}. Best is trial 142 with value: 26.521568459361273.\n"
     ]
    },
    {
     "name": "stdout",
     "output_type": "stream",
     "text": [
      "Training until validation scores don't improve for 100 rounds\n",
      "Early stopping, best iteration is:\n",
      "[52]\ttraining's mape: 0.108983\ttraining's rmse: 87.761\tvalid_1's mape: 0.411724\tvalid_1's rmse: 643.928\n",
      "Training until validation scores don't improve for 100 rounds\n",
      "Early stopping, best iteration is:\n",
      "[52]\ttraining's mape: 0.111994\ttraining's rmse: 89.5663\tvalid_1's mape: 0.409531\tvalid_1's rmse: 641.384\n"
     ]
    },
    {
     "name": "stderr",
     "output_type": "stream",
     "text": [
      "[I 2023-08-14 15:52:20,804] Trial 145 finished with value: 26.515359462191796 and parameters: {'learning_rate': 0.07182213595751667, 'n_estimators': 458, 'max_depth': 28, 'num_leaves': 48, 'colsample_bytree': 0.32721810407803514, 'subsample': 0.38677520644686164, 'subsample_freq': 5, 'min_child_samples': 19}. Best is trial 145 with value: 26.515359462191796.\n",
      "[I 2023-08-14 15:52:20,934] Trial 146 finished with value: 26.71688148333696 and parameters: {'learning_rate': 0.06974202118838489, 'n_estimators': 439, 'max_depth': 29, 'num_leaves': 48, 'colsample_bytree': 0.33421107801284633, 'subsample': 0.40394492518165626, 'subsample_freq': 5, 'min_child_samples': 20}. Best is trial 145 with value: 26.515359462191796.\n"
     ]
    },
    {
     "name": "stdout",
     "output_type": "stream",
     "text": [
      "Training until validation scores don't improve for 100 rounds\n",
      "Early stopping, best iteration is:\n",
      "[52]\ttraining's mape: 0.108824\ttraining's rmse: 87.7433\tvalid_1's mape: 0.409182\tvalid_1's rmse: 640.28\n",
      "Training until validation scores don't improve for 100 rounds\n",
      "Early stopping, best iteration is:\n",
      "[55]\ttraining's mape: 0.106739\ttraining's rmse: 86.2475\tvalid_1's mape: 0.411246\tvalid_1's rmse: 643.102\n"
     ]
    },
    {
     "name": "stderr",
     "output_type": "stream",
     "text": [
      "[I 2023-08-14 15:52:21,050] Trial 147 finished with value: 26.73953759218292 and parameters: {'learning_rate': 0.07005959106539505, 'n_estimators': 440, 'max_depth': 30, 'num_leaves': 53, 'colsample_bytree': 0.3444191250973693, 'subsample': 0.4052121879335093, 'subsample_freq': 5, 'min_child_samples': 20}. Best is trial 145 with value: 26.515359462191796.\n",
      "[I 2023-08-14 15:52:21,170] Trial 148 finished with value: 26.533737776391185 and parameters: {'learning_rate': 0.06945456761905297, 'n_estimators': 485, 'max_depth': 27, 'num_leaves': 32, 'colsample_bytree': 0.3335594878592636, 'subsample': 0.39038707350075524, 'subsample_freq': 5, 'min_child_samples': 21}. Best is trial 145 with value: 26.515359462191796.\n"
     ]
    },
    {
     "name": "stdout",
     "output_type": "stream",
     "text": [
      "Training until validation scores don't improve for 100 rounds\n",
      "Early stopping, best iteration is:\n",
      "[52]\ttraining's mape: 0.110993\ttraining's rmse: 88.7029\tvalid_1's mape: 0.41189\tvalid_1's rmse: 644.246\n",
      "Training until validation scores don't improve for 100 rounds\n",
      "Early stopping, best iteration is:\n",
      "[52]\ttraining's mape: 0.113519\ttraining's rmse: 90.5642\tvalid_1's mape: 0.409732\tvalid_1's rmse: 641.166\n"
     ]
    },
    {
     "name": "stderr",
     "output_type": "stream",
     "text": [
      "[I 2023-08-14 15:52:21,283] Trial 149 finished with value: 26.688336114534035 and parameters: {'learning_rate': 0.06890786107864676, 'n_estimators': 516, 'max_depth': 29, 'num_leaves': 18, 'colsample_bytree': 0.3344357549196531, 'subsample': 0.39109740490181283, 'subsample_freq': 5, 'min_child_samples': 21}. Best is trial 145 with value: 26.515359462191796.\n",
      "[I 2023-08-14 15:52:21,387] Trial 150 finished with value: 27.018926007303385 and parameters: {'learning_rate': 0.06898162985035758, 'n_estimators': 491, 'max_depth': 29, 'num_leaves': 18, 'colsample_bytree': 0.3229764713869026, 'subsample': 0.38936589245448444, 'subsample_freq': 6, 'min_child_samples': 23}. Best is trial 145 with value: 26.515359462191796.\n"
     ]
    },
    {
     "name": "stdout",
     "output_type": "stream",
     "text": [
      "Training until validation scores don't improve for 100 rounds\n",
      "Early stopping, best iteration is:\n",
      "[52]\ttraining's mape: 0.115883\ttraining's rmse: 92.2178\tvalid_1's mape: 0.411614\tvalid_1's rmse: 644.206\n",
      "Training until validation scores don't improve for 100 rounds\n",
      "Early stopping, best iteration is:\n",
      "[55]\ttraining's mape: 0.111194\ttraining's rmse: 89.4477\tvalid_1's mape: 0.41517\tvalid_1's rmse: 648.112\n"
     ]
    },
    {
     "name": "stderr",
     "output_type": "stream",
     "text": [
      "[I 2023-08-14 15:52:21,504] Trial 151 finished with value: 26.777515223172703 and parameters: {'learning_rate': 0.06955099000663241, 'n_estimators': 516, 'max_depth': 28, 'num_leaves': 29, 'colsample_bytree': 0.3369017430225996, 'subsample': 0.40860196622572204, 'subsample_freq': 5, 'min_child_samples': 20}. Best is trial 145 with value: 26.515359462191796.\n"
     ]
    },
    {
     "name": "stdout",
     "output_type": "stream",
     "text": [
      "Training until validation scores don't improve for 100 rounds\n",
      "Early stopping, best iteration is:\n",
      "[52]\ttraining's mape: 0.111628\ttraining's rmse: 89.1331\tvalid_1's mape: 0.412411\tvalid_1's rmse: 644.907\n",
      "Training until validation scores don't improve for 100 rounds\n",
      "Early stopping, best iteration is:\n",
      "[45]\ttraining's mape: 0.0972647\ttraining's rmse: 79.573\tvalid_1's mape: 0.433009\tvalid_1's rmse: 673.874\n"
     ]
    },
    {
     "name": "stderr",
     "output_type": "stream",
     "text": [
      "[I 2023-08-14 15:52:21,627] Trial 152 finished with value: 28.52659269913581 and parameters: {'learning_rate': 0.0705795354660656, 'n_estimators': 475, 'max_depth': 29, 'num_leaves': 38, 'colsample_bytree': 0.35331356110813705, 'subsample': 0.42893954558539926, 'subsample_freq': 5, 'min_child_samples': 21}. Best is trial 145 with value: 26.515359462191796.\n",
      "[I 2023-08-14 15:52:21,732] Trial 153 finished with value: 26.819762061402947 and parameters: {'learning_rate': 0.06728334211602018, 'n_estimators': 450, 'max_depth': 28, 'num_leaves': 21, 'colsample_bytree': 0.3318333438015926, 'subsample': 0.4201730445106741, 'subsample_freq': 5, 'min_child_samples': 22}. Best is trial 145 with value: 26.515359462191796.\n",
      "[I 2023-08-14 15:52:21,826] Trial 154 finished with value: 26.90284898706047 and parameters: {'learning_rate': 0.06984662713502238, 'n_estimators': 514, 'max_depth': 27, 'num_leaves': 12, 'colsample_bytree': 0.3421209243974361, 'subsample': 0.3935802738213297, 'subsample_freq': 5, 'min_child_samples': 21}. Best is trial 145 with value: 26.515359462191796.\n"
     ]
    },
    {
     "name": "stdout",
     "output_type": "stream",
     "text": [
      "Training until validation scores don't improve for 100 rounds\n",
      "Early stopping, best iteration is:\n",
      "[52]\ttraining's mape: 0.117561\ttraining's rmse: 92.6708\tvalid_1's mape: 0.413208\tvalid_1's rmse: 646.168\n",
      "Training until validation scores don't improve for 100 rounds\n",
      "Early stopping, best iteration is:\n",
      "[52]\ttraining's mape: 0.119414\ttraining's rmse: 94.9519\tvalid_1's mape: 0.414203\tvalid_1's rmse: 646.822\n",
      "Training until validation scores don't improve for 100 rounds\n"
     ]
    },
    {
     "name": "stderr",
     "output_type": "stream",
     "text": [
      "[I 2023-08-14 15:52:21,941] Trial 155 finished with value: 26.92268246858082 and parameters: {'learning_rate': 0.06861688870796558, 'n_estimators': 461, 'max_depth': 29, 'num_leaves': 46, 'colsample_bytree': 0.3224961294113542, 'subsample': 0.44711165659536234, 'subsample_freq': 5, 'min_child_samples': 19}. Best is trial 145 with value: 26.515359462191796.\n",
      "[I 2023-08-14 15:52:22,049] Trial 156 finished with value: 26.71031456692176 and parameters: {'learning_rate': 0.07129347702095133, 'n_estimators': 437, 'max_depth': 30, 'num_leaves': 58, 'colsample_bytree': 0.3295512882158384, 'subsample': 0.4009419349124593, 'subsample_freq': 5, 'min_child_samples': 20}. Best is trial 145 with value: 26.515359462191796.\n"
     ]
    },
    {
     "name": "stdout",
     "output_type": "stream",
     "text": [
      "Early stopping, best iteration is:\n",
      "[52]\ttraining's mape: 0.11168\ttraining's rmse: 88.8105\tvalid_1's mape: 0.414473\tvalid_1's rmse: 648.026\n",
      "Training until validation scores don't improve for 100 rounds\n",
      "Early stopping, best iteration is:\n",
      "[52]\ttraining's mape: 0.110343\ttraining's rmse: 88.3324\tvalid_1's mape: 0.411583\tvalid_1's rmse: 643.845\n",
      "Training until validation scores don't improve for 100 rounds\n"
     ]
    },
    {
     "name": "stderr",
     "output_type": "stream",
     "text": [
      "[I 2023-08-14 15:52:22,154] Trial 157 finished with value: 26.62217006698839 and parameters: {'learning_rate': 0.07144709197306923, 'n_estimators': 483, 'max_depth': 30, 'num_leaves': 58, 'colsample_bytree': 0.31316565482973496, 'subsample': 0.3836044423815924, 'subsample_freq': 5, 'min_child_samples': 21}. Best is trial 145 with value: 26.515359462191796.\n",
      "[I 2023-08-14 15:52:22,267] Trial 158 finished with value: 27.067974319894912 and parameters: {'learning_rate': 0.07303736625255605, 'n_estimators': 534, 'max_depth': 30, 'num_leaves': 24, 'colsample_bytree': 0.31398162985663525, 'subsample': 0.381168724204175, 'subsample_freq': 4, 'min_child_samples': 23}. Best is trial 145 with value: 26.515359462191796.\n"
     ]
    },
    {
     "name": "stdout",
     "output_type": "stream",
     "text": [
      "Early stopping, best iteration is:\n",
      "[52]\ttraining's mape: 0.110615\ttraining's rmse: 88.9034\tvalid_1's mape: 0.410537\tvalid_1's rmse: 642.231\n",
      "Training until validation scores don't improve for 100 rounds\n",
      "Early stopping, best iteration is:\n",
      "[63]\ttraining's mape: 0.0949027\ttraining's rmse: 78.7611\tvalid_1's mape: 0.414278\tvalid_1's rmse: 646.318\n",
      "Training until validation scores don't improve for 100 rounds\n"
     ]
    },
    {
     "name": "stderr",
     "output_type": "stream",
     "text": [
      "[I 2023-08-14 15:52:22,386] Trial 159 finished with value: 28.631117645695365 and parameters: {'learning_rate': 0.07218941379910604, 'n_estimators': 483, 'max_depth': 28, 'num_leaves': 33, 'colsample_bytree': 0.3619070921190869, 'subsample': 0.544502527667563, 'subsample_freq': 5, 'min_child_samples': 19}. Best is trial 145 with value: 26.515359462191796.\n",
      "[I 2023-08-14 15:52:22,470] Trial 160 finished with value: 28.18947253191998 and parameters: {'learning_rate': 0.07393257299866784, 'n_estimators': 501, 'max_depth': 27, 'num_leaves': 2, 'colsample_bytree': 0.3118281158648753, 'subsample': 0.36643053529540065, 'subsample_freq': 6, 'min_child_samples': 21}. Best is trial 145 with value: 26.515359462191796.\n"
     ]
    },
    {
     "name": "stdout",
     "output_type": "stream",
     "text": [
      "Early stopping, best iteration is:\n",
      "[51]\ttraining's mape: 0.0841754\ttraining's rmse: 70.7953\tvalid_1's mape: 0.433211\tvalid_1's rmse: 672.623\n",
      "Training until validation scores don't improve for 100 rounds\n",
      "Early stopping, best iteration is:\n",
      "[108]\ttraining's mape: 0.138773\ttraining's rmse: 113.158\tvalid_1's mape: 0.429391\tvalid_1's rmse: 664.396\n",
      "Training until validation scores don't improve for 100 rounds\n",
      "Early stopping, best iteration is:\n",
      "[52]\ttraining's mape: 0.110154\ttraining's rmse: 88.4846\tvalid_1's mape: 0.410207\tvalid_1's rmse: 641.789\n"
     ]
    },
    {
     "name": "stderr",
     "output_type": "stream",
     "text": [
      "[I 2023-08-14 15:52:22,579] Trial 161 finished with value: 26.602285587049995 and parameters: {'learning_rate': 0.07125131617865592, 'n_estimators': 422, 'max_depth': 30, 'num_leaves': 60, 'colsample_bytree': 0.33044414782204823, 'subsample': 0.39020073451875426, 'subsample_freq': 5, 'min_child_samples': 20}. Best is trial 145 with value: 26.515359462191796.\n",
      "[I 2023-08-14 15:52:22,696] Trial 162 finished with value: 26.692315731841425 and parameters: {'learning_rate': 0.07077015862723192, 'n_estimators': 414, 'max_depth': 29, 'num_leaves': 54, 'colsample_bytree': 0.3250051977485459, 'subsample': 0.3880641348114825, 'subsample_freq': 5, 'min_child_samples': 22}. Best is trial 145 with value: 26.515359462191796.\n"
     ]
    },
    {
     "name": "stdout",
     "output_type": "stream",
     "text": [
      "Training until validation scores don't improve for 100 rounds\n",
      "Early stopping, best iteration is:\n",
      "[52]\ttraining's mape: 0.111739\ttraining's rmse: 89.6043\tvalid_1's mape: 0.411355\tvalid_1's rmse: 643.069\n",
      "Training until validation scores don't improve for 100 rounds\n",
      "Early stopping, best iteration is:\n",
      "[164]\ttraining's mape: 0.0489232\ttraining's rmse: 47.8576\tvalid_1's mape: 0.435006\tvalid_1's rmse: 675.7\n"
     ]
    },
    {
     "name": "stderr",
     "output_type": "stream",
     "text": [
      "[I 2023-08-14 15:52:22,858] Trial 163 finished with value: 29.085777351757418 and parameters: {'learning_rate': 0.07086552832438582, 'n_estimators': 413, 'max_depth': 30, 'num_leaves': 68, 'colsample_bytree': 0.3501312818725105, 'subsample': 0.38656945379165847, 'subsample_freq': 5, 'min_child_samples': 22}. Best is trial 145 with value: 26.515359462191796.\n",
      "[I 2023-08-14 15:52:22,971] Trial 164 finished with value: 26.752266636387745 and parameters: {'learning_rate': 0.06792968257798365, 'n_estimators': 397, 'max_depth': 30, 'num_leaves': 59, 'colsample_bytree': 0.327054563183974, 'subsample': 0.41539885646085956, 'subsample_freq': 5, 'min_child_samples': 21}. Best is trial 145 with value: 26.515359462191796.\n"
     ]
    },
    {
     "name": "stdout",
     "output_type": "stream",
     "text": [
      "Training until validation scores don't improve for 100 rounds\n",
      "Early stopping, best iteration is:\n",
      "[52]\ttraining's mape: 0.114692\ttraining's rmse: 90.7602\tvalid_1's mape: 0.412294\tvalid_1's rmse: 644.228\n",
      "Training until validation scores don't improve for 100 rounds\n"
     ]
    },
    {
     "name": "stderr",
     "output_type": "stream",
     "text": [
      "[I 2023-08-14 15:52:23,127] Trial 165 finished with value: 27.01150525565867 and parameters: {'learning_rate': 0.07239886518990356, 'n_estimators': 457, 'max_depth': 29, 'num_leaves': 54, 'colsample_bytree': 0.3365119249154394, 'subsample': 0.6940131111731045, 'subsample_freq': 5, 'min_child_samples': 24}. Best is trial 145 with value: 26.515359462191796.\n",
      "[I 2023-08-14 15:52:23,274] Trial 166 finished with value: 26.88279674705224 and parameters: {'learning_rate': 0.07128571056852913, 'n_estimators': 425, 'max_depth': 29, 'num_leaves': 61, 'colsample_bytree': 0.31876584599455815, 'subsample': 0.43298846335237495, 'subsample_freq': 5, 'min_child_samples': 22}. Best is trial 145 with value: 26.515359462191796.\n"
     ]
    },
    {
     "name": "stdout",
     "output_type": "stream",
     "text": [
      "Early stopping, best iteration is:\n",
      "[55]\ttraining's mape: 0.0977502\ttraining's rmse: 79.3035\tvalid_1's mape: 0.414952\tvalid_1's rmse: 647.012\n",
      "Training until validation scores don't improve for 100 rounds\n",
      "Early stopping, best iteration is:\n",
      "[52]\ttraining's mape: 0.109451\ttraining's rmse: 87.8001\tvalid_1's mape: 0.413538\tvalid_1's rmse: 645.915\n"
     ]
    },
    {
     "name": "stderr",
     "output_type": "stream",
     "text": [
      "[I 2023-08-14 15:52:23,376] Trial 167 finished with value: 27.975337817950724 and parameters: {'learning_rate': 0.06465332732182139, 'n_estimators': 383, 'max_depth': 1, 'num_leaves': 65, 'colsample_bytree': 0.3457715724517932, 'subsample': 0.3901288178636268, 'subsample_freq': 5, 'min_child_samples': 21}. Best is trial 145 with value: 26.515359462191796.\n",
      "[I 2023-08-14 15:52:23,488] Trial 168 finished with value: 27.36351416924045 and parameters: {'learning_rate': 0.07038068370965883, 'n_estimators': 477, 'max_depth': 28, 'num_leaves': 222, 'colsample_bytree': 0.32488886344741424, 'subsample': 0.33649474357879244, 'subsample_freq': 4, 'min_child_samples': 18}. Best is trial 145 with value: 26.515359462191796.\n"
     ]
    },
    {
     "name": "stdout",
     "output_type": "stream",
     "text": [
      "Training until validation scores don't improve for 100 rounds\n",
      "Early stopping, best iteration is:\n",
      "[164]\ttraining's mape: 0.121977\ttraining's rmse: 103.887\tvalid_1's mape: 0.426127\tvalid_1's rmse: 659.328\n",
      "Training until validation scores don't improve for 100 rounds\n",
      "Early stopping, best iteration is:\n",
      "[58]\ttraining's mape: 0.104055\ttraining's rmse: 84.5363\tvalid_1's mape: 0.418671\tvalid_1's rmse: 653.346\n"
     ]
    },
    {
     "name": "stderr",
     "output_type": "stream",
     "text": [
      "[I 2023-08-14 15:52:23,609] Trial 169 finished with value: 26.872288598626753 and parameters: {'learning_rate': 0.06671299427539631, 'n_estimators': 410, 'max_depth': 26, 'num_leaves': 55, 'colsample_bytree': 0.3082783063285605, 'subsample': 0.5025256728079206, 'subsample_freq': 5, 'min_child_samples': 20}. Best is trial 145 with value: 26.515359462191796.\n"
     ]
    },
    {
     "name": "stdout",
     "output_type": "stream",
     "text": [
      "Training until validation scores don't improve for 100 rounds\n",
      "Early stopping, best iteration is:\n",
      "[52]\ttraining's mape: 0.112604\ttraining's rmse: 88.9741\tvalid_1's mape: 0.413887\tvalid_1's rmse: 647.547\n",
      "Training until validation scores don't improve for 100 rounds\n",
      "Early stopping, best iteration is:\n",
      "[55]\ttraining's mape: 0.108815\ttraining's rmse: 87.7022\tvalid_1's mape: 0.414951\tvalid_1's rmse: 647.732\n"
     ]
    },
    {
     "name": "stderr",
     "output_type": "stream",
     "text": [
      "[I 2023-08-14 15:52:23,745] Trial 170 finished with value: 27.01962555375538 and parameters: {'learning_rate': 0.06902428842722541, 'n_estimators': 449, 'max_depth': 18, 'num_leaves': 77, 'colsample_bytree': 0.33777335301897465, 'subsample': 0.36554123903181307, 'subsample_freq': 6, 'min_child_samples': 19}. Best is trial 145 with value: 26.515359462191796.\n",
      "[I 2023-08-14 15:52:23,865] Trial 171 finished with value: 26.62625012071619 and parameters: {'learning_rate': 0.07331849271944667, 'n_estimators': 523, 'max_depth': 28, 'num_leaves': 42, 'colsample_bytree': 0.3147503047853422, 'subsample': 0.38030459186906734, 'subsample_freq': 5, 'min_child_samples': 20}. Best is trial 145 with value: 26.515359462191796.\n",
      "[I 2023-08-14 15:52:23,978] Trial 172 finished with value: 26.622251400285542 and parameters: {'learning_rate': 0.07277187435703038, 'n_estimators': 530, 'max_depth': 28, 'num_leaves': 44, 'colsample_bytree': 0.3198599521787065, 'subsample': 0.37950162535704246, 'subsample_freq': 5, 'min_child_samples': 20}. Best is trial 145 with value: 26.515359462191796.\n"
     ]
    },
    {
     "name": "stdout",
     "output_type": "stream",
     "text": [
      "Training until validation scores don't improve for 100 rounds\n",
      "Early stopping, best iteration is:\n",
      "[52]\ttraining's mape: 0.108555\ttraining's rmse: 87.6358\tvalid_1's mape: 0.410328\tvalid_1's rmse: 641.832\n",
      "Training until validation scores don't improve for 100 rounds\n",
      "Early stopping, best iteration is:\n",
      "[52]\ttraining's mape: 0.10903\ttraining's rmse: 88.0085\tvalid_1's mape: 0.410345\tvalid_1's rmse: 641.69\n"
     ]
    },
    {
     "name": "stderr",
     "output_type": "stream",
     "text": [
      "[I 2023-08-14 15:52:24,135] Trial 173 finished with value: 27.09043228624874 and parameters: {'learning_rate': 0.0732587230529158, 'n_estimators': 555, 'max_depth': 27, 'num_leaves': 49, 'colsample_bytree': 0.31716731271003923, 'subsample': 0.37373897794047095, 'subsample_freq': 5, 'min_child_samples': 4}. Best is trial 145 with value: 26.515359462191796.\n"
     ]
    },
    {
     "name": "stdout",
     "output_type": "stream",
     "text": [
      "Training until validation scores don't improve for 100 rounds\n",
      "Early stopping, best iteration is:\n",
      "[56]\ttraining's mape: 0.0873325\ttraining's rmse: 72.6935\tvalid_1's mape: 0.415958\tvalid_1's rmse: 648.688\n",
      "Training until validation scores don't improve for 100 rounds\n"
     ]
    },
    {
     "name": "stderr",
     "output_type": "stream",
     "text": [
      "[I 2023-08-14 15:52:24,275] Trial 174 finished with value: 26.719594645665595 and parameters: {'learning_rate': 0.07159829556873083, 'n_estimators': 504, 'max_depth': 28, 'num_leaves': 45, 'colsample_bytree': 0.32436830837500774, 'subsample': 0.41106458544459956, 'subsample_freq': 5, 'min_child_samples': 20}. Best is trial 145 with value: 26.515359462191796.\n",
      "[I 2023-08-14 15:52:24,397] Trial 175 finished with value: 26.72195912577935 and parameters: {'learning_rate': 0.07388896533948368, 'n_estimators': 525, 'max_depth': 30, 'num_leaves': 54, 'colsample_bytree': 0.31149025450710266, 'subsample': 0.35210553037512454, 'subsample_freq': 5, 'min_child_samples': 19}. Best is trial 145 with value: 26.515359462191796.\n"
     ]
    },
    {
     "name": "stdout",
     "output_type": "stream",
     "text": [
      "Early stopping, best iteration is:\n",
      "[52]\ttraining's mape: 0.108846\ttraining's rmse: 87.3966\tvalid_1's mape: 0.411573\tvalid_1's rmse: 643.274\n",
      "Training until validation scores don't improve for 100 rounds\n",
      "Early stopping, best iteration is:\n",
      "[52]\ttraining's mape: 0.108734\ttraining's rmse: 87.7623\tvalid_1's mape: 0.411577\tvalid_1's rmse: 643.911\n",
      "Training until validation scores don't improve for 100 rounds\n"
     ]
    },
    {
     "name": "stderr",
     "output_type": "stream",
     "text": [
      "[I 2023-08-14 15:52:24,526] Trial 176 finished with value: 26.675780912016684 and parameters: {'learning_rate': 0.07271146454071378, 'n_estimators': 487, 'max_depth': 29, 'num_leaves': 40, 'colsample_bytree': 0.3033408640904455, 'subsample': 0.3990209611250485, 'subsample_freq': 5, 'min_child_samples': 21}. Best is trial 145 with value: 26.515359462191796.\n",
      "[I 2023-08-14 15:52:24,648] Trial 177 finished with value: 26.699606434608757 and parameters: {'learning_rate': 0.07456034278255559, 'n_estimators': 539, 'max_depth': 28, 'num_leaves': 41, 'colsample_bytree': 0.3038045270016103, 'subsample': 0.40264112855846507, 'subsample_freq': 5, 'min_child_samples': 20}. Best is trial 145 with value: 26.515359462191796.\n"
     ]
    },
    {
     "name": "stdout",
     "output_type": "stream",
     "text": [
      "Early stopping, best iteration is:\n",
      "[52]\ttraining's mape: 0.109128\ttraining's rmse: 87.6719\tvalid_1's mape: 0.41101\tvalid_1's rmse: 642.916\n",
      "Training until validation scores don't improve for 100 rounds\n",
      "Early stopping, best iteration is:\n",
      "[55]\ttraining's mape: 0.101423\ttraining's rmse: 83.2034\tvalid_1's mape: 0.410794\tvalid_1's rmse: 641.416\n"
     ]
    },
    {
     "name": "stderr",
     "output_type": "stream",
     "text": [
      "[I 2023-08-14 15:52:24,803] Trial 178 finished with value: 27.17389104302585 and parameters: {'learning_rate': 0.07264338258933263, 'n_estimators': 487, 'max_depth': 27, 'num_leaves': 35, 'colsample_bytree': 0.30260129483182246, 'subsample': 0.46828000953649007, 'subsample_freq': 4, 'min_child_samples': 21}. Best is trial 145 with value: 26.515359462191796.\n",
      "[I 2023-08-14 15:52:24,919] Trial 179 finished with value: 26.98193541924055 and parameters: {'learning_rate': 0.07362737396055989, 'n_estimators': 515, 'max_depth': 26, 'num_leaves': 15, 'colsample_bytree': 0.3146756516743574, 'subsample': 0.43923401003537227, 'subsample_freq': 5, 'min_child_samples': 18}. Best is trial 145 with value: 26.515359462191796.\n"
     ]
    },
    {
     "name": "stdout",
     "output_type": "stream",
     "text": [
      "Training until validation scores don't improve for 100 rounds\n",
      "Early stopping, best iteration is:\n",
      "[52]\ttraining's mape: 0.108004\ttraining's rmse: 85.9733\tvalid_1's mape: 0.417004\tvalid_1's rmse: 651.92\n",
      "Training until validation scores don't improve for 100 rounds\n",
      "Early stopping, best iteration is:\n",
      "[52]\ttraining's mape: 0.110977\ttraining's rmse: 89.4831\tvalid_1's mape: 0.414728\tvalid_1's rmse: 647.355\n"
     ]
    },
    {
     "name": "stderr",
     "output_type": "stream",
     "text": [
      "[I 2023-08-14 15:52:25,060] Trial 180 finished with value: 26.97497613413417 and parameters: {'learning_rate': 0.07203946303422942, 'n_estimators': 564, 'max_depth': 29, 'num_leaves': 30, 'colsample_bytree': 0.32939360049469046, 'subsample': 0.32668100667891303, 'subsample_freq': 5, 'min_child_samples': 21}. Best is trial 145 with value: 26.515359462191796.\n",
      "[I 2023-08-14 15:52:25,189] Trial 181 finished with value: 26.7177524014856 and parameters: {'learning_rate': 0.07055227714527344, 'n_estimators': 479, 'max_depth': 29, 'num_leaves': 51, 'colsample_bytree': 0.3213610047171603, 'subsample': 0.3832233006111675, 'subsample_freq': 5, 'min_child_samples': 22}. Best is trial 145 with value: 26.515359462191796.\n"
     ]
    },
    {
     "name": "stdout",
     "output_type": "stream",
     "text": [
      "Training until validation scores don't improve for 100 rounds\n",
      "Early stopping, best iteration is:\n",
      "[82]\ttraining's mape: 0.0847481\ttraining's rmse: 72.0078\tvalid_1's mape: 0.412867\tvalid_1's rmse: 643.286\n",
      "Training until validation scores don't improve for 100 rounds\n",
      "Early stopping, best iteration is:\n",
      "[52]\ttraining's mape: 0.112403\ttraining's rmse: 89.9601\tvalid_1's mape: 0.411697\tvalid_1's rmse: 644.105\n"
     ]
    },
    {
     "name": "stderr",
     "output_type": "stream",
     "text": [
      "[I 2023-08-14 15:52:25,314] Trial 182 finished with value: 26.650841116114005 and parameters: {'learning_rate': 0.06840158567383593, 'n_estimators': 429, 'max_depth': 28, 'num_leaves': 58, 'colsample_bytree': 0.3394739054931277, 'subsample': 0.39569429945986423, 'subsample_freq': 5, 'min_child_samples': 23}. Best is trial 145 with value: 26.515359462191796.\n"
     ]
    },
    {
     "name": "stdout",
     "output_type": "stream",
     "text": [
      "Training until validation scores don't improve for 100 rounds\n",
      "Early stopping, best iteration is:\n",
      "[52]\ttraining's mape: 0.115306\ttraining's rmse: 91.7003\tvalid_1's mape: 0.411064\tvalid_1's rmse: 643.253\n",
      "Training until validation scores don't improve for 100 rounds\n",
      "Early stopping, best iteration is:\n",
      "[83]\ttraining's mape: 0.0852378\ttraining's rmse: 72.0592\tvalid_1's mape: 0.413945\tvalid_1's rmse: 645.141\n"
     ]
    },
    {
     "name": "stderr",
     "output_type": "stream",
     "text": [
      "[I 2023-08-14 15:52:25,461] Trial 183 finished with value: 27.063470643163544 and parameters: {'learning_rate': 0.06800495509335248, 'n_estimators': 456, 'max_depth': 28, 'num_leaves': 61, 'colsample_bytree': 0.3411642209885447, 'subsample': 0.41898602698663984, 'subsample_freq': 5, 'min_child_samples': 25}. Best is trial 145 with value: 26.515359462191796.\n",
      "[I 2023-08-14 15:52:25,598] Trial 184 finished with value: 28.676036058815246 and parameters: {'learning_rate': 0.06521997188278214, 'n_estimators': 500, 'max_depth': 27, 'num_leaves': 70, 'colsample_bytree': 0.3514950263854894, 'subsample': 0.3667538337937498, 'subsample_freq': 5, 'min_child_samples': 19}. Best is trial 145 with value: 26.515359462191796.\n"
     ]
    },
    {
     "name": "stdout",
     "output_type": "stream",
     "text": [
      "Training until validation scores don't improve for 100 rounds\n",
      "Early stopping, best iteration is:\n",
      "[87]\ttraining's mape: 0.0677942\ttraining's rmse: 61.3237\tvalid_1's mape: 0.432742\tvalid_1's rmse: 671.857\n",
      "Training until validation scores don't improve for 100 rounds\n",
      "Early stopping, best iteration is:\n",
      "[55]\ttraining's mape: 0.107211\ttraining's rmse: 86.3206\tvalid_1's mape: 0.410979\tvalid_1's rmse: 642.189\n"
     ]
    },
    {
     "name": "stderr",
     "output_type": "stream",
     "text": [
      "[I 2023-08-14 15:52:25,725] Trial 185 finished with value: 26.677651453987362 and parameters: {'learning_rate': 0.06938077703557309, 'n_estimators': 430, 'max_depth': 30, 'num_leaves': 45, 'colsample_bytree': 0.2974814257038312, 'subsample': 0.40002501118973455, 'subsample_freq': 5, 'min_child_samples': 20}. Best is trial 145 with value: 26.515359462191796.\n",
      "[I 2023-08-14 15:52:25,850] Trial 186 finished with value: 26.70371210713693 and parameters: {'learning_rate': 0.0690710756505341, 'n_estimators': 532, 'max_depth': 30, 'num_leaves': 43, 'colsample_bytree': 0.33345135714162316, 'subsample': 0.39891064868360826, 'subsample_freq': 5, 'min_child_samples': 23}. Best is trial 145 with value: 26.515359462191796.\n"
     ]
    },
    {
     "name": "stdout",
     "output_type": "stream",
     "text": [
      "Training until validation scores don't improve for 100 rounds\n",
      "Early stopping, best iteration is:\n",
      "[52]\ttraining's mape: 0.114233\ttraining's rmse: 91.0111\tvalid_1's mape: 0.411469\tvalid_1's rmse: 643.778\n",
      "Training until validation scores don't improve for 100 rounds\n",
      "Early stopping, best iteration is:\n",
      "[52]\ttraining's mape: 0.114865\ttraining's rmse: 90.8888\tvalid_1's mape: 0.412599\tvalid_1's rmse: 644.938\n"
     ]
    },
    {
     "name": "stderr",
     "output_type": "stream",
     "text": [
      "[I 2023-08-14 15:52:25,991] Trial 187 finished with value: 26.768733562219527 and parameters: {'learning_rate': 0.06732636074149517, 'n_estimators': 426, 'max_depth': 30, 'num_leaves': 47, 'colsample_bytree': 0.30022717241573155, 'subsample': 0.4203902705198158, 'subsample_freq': 5, 'min_child_samples': 20}. Best is trial 145 with value: 26.515359462191796.\n",
      "[I 2023-08-14 15:52:26,128] Trial 188 finished with value: 28.54175647868261 and parameters: {'learning_rate': 0.07034539334486571, 'n_estimators': 385, 'max_depth': 28, 'num_leaves': 39, 'colsample_bytree': 0.3590379165068168, 'subsample': 0.3978224009441419, 'subsample_freq': 5, 'min_child_samples': 21}. Best is trial 145 with value: 26.515359462191796.\n"
     ]
    },
    {
     "name": "stdout",
     "output_type": "stream",
     "text": [
      "Training until validation scores don't improve for 100 rounds\n",
      "Early stopping, best iteration is:\n",
      "[45]\ttraining's mape: 0.0991083\ttraining's rmse: 80.5437\tvalid_1's mape: 0.433225\tvalid_1's rmse: 673.491\n",
      "Training until validation scores don't improve for 100 rounds\n",
      "Early stopping, best iteration is:\n",
      "[55]\ttraining's mape: 0.110587\ttraining's rmse: 88.9556\tvalid_1's mape: 0.415715\tvalid_1's rmse: 648.651\n"
     ]
    },
    {
     "name": "stderr",
     "output_type": "stream",
     "text": [
      "[I 2023-08-14 15:52:26,257] Trial 189 finished with value: 27.06277280369975 and parameters: {'learning_rate': 0.0685591111499605, 'n_estimators': 464, 'max_depth': 29, 'num_leaves': 63, 'colsample_bytree': 0.30872932222196586, 'subsample': 0.3422356660315013, 'subsample_freq': 6, 'min_child_samples': 19}. Best is trial 145 with value: 26.515359462191796.\n",
      "[I 2023-08-14 15:52:26,380] Trial 190 finished with value: 28.350167873854637 and parameters: {'learning_rate': 0.06647470475165128, 'n_estimators': 481, 'max_depth': 30, 'num_leaves': 56, 'colsample_bytree': 0.37133729832014795, 'subsample': 0.3774859261265975, 'subsample_freq': 5, 'min_child_samples': 20}. Best is trial 145 with value: 26.515359462191796.\n",
      "[I 2023-08-14 15:52:26,487] Trial 191 finished with value: 26.887493374033376 and parameters: {'learning_rate': 0.07289230459123058, 'n_estimators': 428, 'max_depth': 28, 'num_leaves': 51, 'colsample_bytree': 0.2965129792263455, 'subsample': 0.36255874979852876, 'subsample_freq': 5, 'min_child_samples': 20}. Best is trial 145 with value: 26.515359462191796.\n"
     ]
    },
    {
     "name": "stdout",
     "output_type": "stream",
     "text": [
      "Training until validation scores don't improve for 100 rounds\n",
      "Early stopping, best iteration is:\n",
      "[45]\ttraining's mape: 0.104468\ttraining's rmse: 83.8355\tvalid_1's mape: 0.431754\tvalid_1's rmse: 672.169\n",
      "Training until validation scores don't improve for 100 rounds\n",
      "Early stopping, best iteration is:\n",
      "[50]\ttraining's mape: 0.111667\ttraining's rmse: 89.2454\tvalid_1's mape: 0.413628\tvalid_1's rmse: 646.842\n"
     ]
    },
    {
     "name": "stderr",
     "output_type": "stream",
     "text": [
      "[I 2023-08-14 15:52:26,610] Trial 192 finished with value: 26.581667893787138 and parameters: {'learning_rate': 0.06981119573744796, 'n_estimators': 397, 'max_depth': 29, 'num_leaves': 37, 'colsample_bytree': 0.31728844017379837, 'subsample': 0.3900959858371209, 'subsample_freq': 5, 'min_child_samples': 21}. Best is trial 145 with value: 26.515359462191796.\n",
      "[I 2023-08-14 15:52:26,728] Trial 193 finished with value: 26.779191611774618 and parameters: {'learning_rate': 0.06931687031185652, 'n_estimators': 396, 'max_depth': 30, 'num_leaves': 37, 'colsample_bytree': 0.31714151117024236, 'subsample': 0.4097255750957283, 'subsample_freq': 5, 'min_child_samples': 21}. Best is trial 145 with value: 26.515359462191796.\n"
     ]
    },
    {
     "name": "stdout",
     "output_type": "stream",
     "text": [
      "Training until validation scores don't improve for 100 rounds\n",
      "Early stopping, best iteration is:\n",
      "[53]\ttraining's mape: 0.11083\ttraining's rmse: 88.9579\tvalid_1's mape: 0.41006\tvalid_1's rmse: 641.271\n",
      "Training until validation scores don't improve for 100 rounds\n",
      "Early stopping, best iteration is:\n",
      "[52]\ttraining's mape: 0.112897\ttraining's rmse: 89.8873\tvalid_1's mape: 0.412457\tvalid_1's rmse: 644.783\n"
     ]
    },
    {
     "name": "stderr",
     "output_type": "stream",
     "text": [
      "[I 2023-08-14 15:52:26,868] Trial 194 finished with value: 28.836417418147082 and parameters: {'learning_rate': 0.0698559928087088, 'n_estimators': 499, 'max_depth': 29, 'num_leaves': 46, 'colsample_bytree': 0.3891632192003351, 'subsample': 0.39174490996733585, 'subsample_freq': 5, 'min_child_samples': 22}. Best is trial 145 with value: 26.515359462191796.\n"
     ]
    },
    {
     "name": "stdout",
     "output_type": "stream",
     "text": [
      "Training until validation scores don't improve for 100 rounds\n",
      "Early stopping, best iteration is:\n",
      "[78]\ttraining's mape: 0.068206\ttraining's rmse: 62.0982\tvalid_1's mape: 0.4338\tvalid_1's rmse: 673.77\n",
      "Training until validation scores don't improve for 100 rounds\n",
      "Early stopping, best iteration is:\n",
      "[52]\ttraining's mape: 0.104965\ttraining's rmse: 83.626\tvalid_1's mape: 0.415746\tvalid_1's rmse: 650.217\n"
     ]
    },
    {
     "name": "stderr",
     "output_type": "stream",
     "text": [
      "[I 2023-08-14 15:52:26,996] Trial 195 finished with value: 27.059345895252928 and parameters: {'learning_rate': 0.07142341663597568, 'n_estimators': 375, 'max_depth': 27, 'num_leaves': 59, 'colsample_bytree': 0.34217855626955024, 'subsample': 0.5741159964828968, 'subsample_freq': 4, 'min_child_samples': 20}. Best is trial 145 with value: 26.515359462191796.\n",
      "[I 2023-08-14 15:52:27,128] Trial 196 finished with value: 26.743737206597697 and parameters: {'learning_rate': 0.0676790307278796, 'n_estimators': 370, 'max_depth': 29, 'num_leaves': 43, 'colsample_bytree': 0.3340358535315056, 'subsample': 0.48133169743379167, 'subsample_freq': 5, 'min_child_samples': 18}. Best is trial 145 with value: 26.515359462191796.\n",
      "[I 2023-08-14 15:52:27,248] Trial 197 finished with value: 27.05381852856112 and parameters: {'learning_rate': 0.06384038150258604, 'n_estimators': 455, 'max_depth': 18, 'num_leaves': 33, 'colsample_bytree': 0.3082189110542374, 'subsample': 0.31434150257110266, 'subsample_freq': 5, 'min_child_samples': 19}. Best is trial 145 with value: 26.515359462191796.\n"
     ]
    },
    {
     "name": "stdout",
     "output_type": "stream",
     "text": [
      "Training until validation scores don't improve for 100 rounds\n",
      "Early stopping, best iteration is:\n",
      "[52]\ttraining's mape: 0.110877\ttraining's rmse: 87.9127\tvalid_1's mape: 0.412423\tvalid_1's rmse: 645.51\n",
      "Training until validation scores don't improve for 100 rounds\n",
      "Early stopping, best iteration is:\n",
      "[82]\ttraining's mape: 0.0897776\ttraining's rmse: 75.2297\tvalid_1's mape: 0.414283\tvalid_1's rmse: 646.269\n"
     ]
    },
    {
     "name": "stderr",
     "output_type": "stream",
     "text": [
      "[I 2023-08-14 15:52:27,370] Trial 198 finished with value: 26.67987878440345 and parameters: {'learning_rate': 0.06567661868779781, 'n_estimators': 439, 'max_depth': 28, 'num_leaves': 68, 'colsample_bytree': 0.32824893242174086, 'subsample': 0.37572257597392067, 'subsample_freq': 5, 'min_child_samples': 21}. Best is trial 145 with value: 26.515359462191796.\n",
      "[I 2023-08-14 15:52:27,497] Trial 199 finished with value: 26.767081445734707 and parameters: {'learning_rate': 0.065959813303788, 'n_estimators': 440, 'max_depth': 28, 'num_leaves': 74, 'colsample_bytree': 0.3176432875540197, 'subsample': 0.3549569663647561, 'subsample_freq': 5, 'min_child_samples': 20}. Best is trial 145 with value: 26.515359462191796.\n"
     ]
    },
    {
     "name": "stdout",
     "output_type": "stream",
     "text": [
      "Training until validation scores don't improve for 100 rounds\n",
      "Early stopping, best iteration is:\n",
      "[52]\ttraining's mape: 0.119416\ttraining's rmse: 94.2266\tvalid_1's mape: 0.411793\tvalid_1's rmse: 644.943\n",
      "Training until validation scores don't improve for 100 rounds\n",
      "Early stopping, best iteration is:\n",
      "[51]\ttraining's mape: 0.121157\ttraining's rmse: 94.9512\tvalid_1's mape: 0.412882\tvalid_1's rmse: 646.796\n"
     ]
    },
    {
     "name": "stderr",
     "output_type": "stream",
     "text": [
      "[I 2023-08-14 15:52:27,618] Trial 200 finished with value: 26.793994726327096 and parameters: {'learning_rate': 0.06469821971227306, 'n_estimators': 406, 'max_depth': 19, 'num_leaves': 185, 'colsample_bytree': 0.32427213805705357, 'subsample': 0.37341597045152847, 'subsample_freq': 5, 'min_child_samples': 21}. Best is trial 145 with value: 26.515359462191796.\n",
      "[I 2023-08-14 15:52:27,746] Trial 201 finished with value: 26.620637610999214 and parameters: {'learning_rate': 0.06838751748025393, 'n_estimators': 472, 'max_depth': 29, 'num_leaves': 65, 'colsample_bytree': 0.3300859249908878, 'subsample': 0.38615246741266884, 'subsample_freq': 5, 'min_child_samples': 21}. Best is trial 145 with value: 26.515359462191796.\n"
     ]
    },
    {
     "name": "stdout",
     "output_type": "stream",
     "text": [
      "Training until validation scores don't improve for 100 rounds\n",
      "Early stopping, best iteration is:\n",
      "[52]\ttraining's mape: 0.121016\ttraining's rmse: 94.9456\tvalid_1's mape: 0.413181\tvalid_1's rmse: 647.054\n",
      "Training until validation scores don't improve for 100 rounds\n",
      "Early stopping, best iteration is:\n",
      "[52]\ttraining's mape: 0.114924\ttraining's rmse: 91.4914\tvalid_1's mape: 0.410799\tvalid_1's rmse: 642.592\n"
     ]
    },
    {
     "name": "stderr",
     "output_type": "stream",
     "text": [
      "[I 2023-08-14 15:52:27,891] Trial 202 finished with value: 26.942553632468414 and parameters: {'learning_rate': 0.0631390019619457, 'n_estimators': 464, 'max_depth': 17, 'num_leaves': 66, 'colsample_bytree': 0.3276764202566505, 'subsample': 0.38016601435425873, 'subsample_freq': 5, 'min_child_samples': 20}. Best is trial 145 with value: 26.515359462191796.\n"
     ]
    },
    {
     "name": "stdout",
     "output_type": "stream",
     "text": [
      "Training until validation scores don't improve for 100 rounds\n",
      "Early stopping, best iteration is:\n",
      "[83]\ttraining's mape: 0.0871902\ttraining's rmse: 73.5673\tvalid_1's mape: 0.413239\tvalid_1's rmse: 643.582\n",
      "Training until validation scores don't improve for 100 rounds\n",
      "Early stopping, best iteration is:\n",
      "[52]\ttraining's mape: 0.115141\ttraining's rmse: 91.396\tvalid_1's mape: 0.41175\tvalid_1's rmse: 644.304\n"
     ]
    },
    {
     "name": "stderr",
     "output_type": "stream",
     "text": [
      "[I 2023-08-14 15:52:28,016] Trial 203 finished with value: 26.710160524523857 and parameters: {'learning_rate': 0.06802194343257714, 'n_estimators': 444, 'max_depth': 28, 'num_leaves': 66, 'colsample_bytree': 0.3099279819117637, 'subsample': 0.405246269956545, 'subsample_freq': 5, 'min_child_samples': 22}. Best is trial 145 with value: 26.515359462191796.\n",
      "[I 2023-08-14 15:52:28,143] Trial 204 finished with value: 26.764544795609087 and parameters: {'learning_rate': 0.06693200219165119, 'n_estimators': 424, 'max_depth': 27, 'num_leaves': 59, 'colsample_bytree': 0.34658126869510497, 'subsample': 0.36508130161678387, 'subsample_freq': 5, 'min_child_samples': 19}. Best is trial 145 with value: 26.515359462191796.\n",
      "[I 2023-08-14 15:52:28,265] Trial 205 finished with value: 26.763898819711052 and parameters: {'learning_rate': 0.07132923735305637, 'n_estimators': 477, 'max_depth': 30, 'num_leaves': 79, 'colsample_bytree': 0.2952423550876956, 'subsample': 0.42254928543791553, 'subsample_freq': 5, 'min_child_samples': 21}. Best is trial 145 with value: 26.515359462191796.\n"
     ]
    },
    {
     "name": "stdout",
     "output_type": "stream",
     "text": [
      "Training until validation scores don't improve for 100 rounds\n",
      "Early stopping, best iteration is:\n",
      "[52]\ttraining's mape: 0.115792\ttraining's rmse: 91.7155\tvalid_1's mape: 0.412788\tvalid_1's rmse: 645.893\n",
      "Training until validation scores don't improve for 100 rounds\n",
      "Early stopping, best iteration is:\n",
      "[52]\ttraining's mape: 0.109847\ttraining's rmse: 87.9142\tvalid_1's mape: 0.412253\tvalid_1's rmse: 644.266\n"
     ]
    },
    {
     "name": "stderr",
     "output_type": "stream",
     "text": [
      "[I 2023-08-14 15:52:28,391] Trial 206 finished with value: 27.03311278386827 and parameters: {'learning_rate': 0.06515324168763685, 'n_estimators': 394, 'max_depth': 29, 'num_leaves': 70, 'colsample_bytree': 0.31811333617056686, 'subsample': 0.34740707434554047, 'subsample_freq': 10, 'min_child_samples': 24}. Best is trial 145 with value: 26.515359462191796.\n",
      "[I 2023-08-14 15:52:28,508] Trial 207 finished with value: 26.620779598408863 and parameters: {'learning_rate': 0.06964182458137044, 'n_estimators': 858, 'max_depth': 28, 'num_leaves': 51, 'colsample_bytree': 0.30570470329737415, 'subsample': 0.3855788242879479, 'subsample_freq': 5, 'min_child_samples': 20}. Best is trial 145 with value: 26.515359462191796.\n"
     ]
    },
    {
     "name": "stdout",
     "output_type": "stream",
     "text": [
      "Training until validation scores don't improve for 100 rounds\n",
      "Early stopping, best iteration is:\n",
      "[57]\ttraining's mape: 0.117009\ttraining's rmse: 92.7788\tvalid_1's mape: 0.415618\tvalid_1's rmse: 650.296\n",
      "Training until validation scores don't improve for 100 rounds\n",
      "Early stopping, best iteration is:\n",
      "[52]\ttraining's mape: 0.112801\ttraining's rmse: 90.1334\tvalid_1's mape: 0.410621\tvalid_1's rmse: 642.318\n"
     ]
    },
    {
     "name": "stderr",
     "output_type": "stream",
     "text": [
      "[I 2023-08-14 15:52:28,634] Trial 208 finished with value: 27.00615357622719 and parameters: {'learning_rate': 0.07016894216705977, 'n_estimators': 851, 'max_depth': 29, 'num_leaves': 50, 'colsample_bytree': 0.3047995126653075, 'subsample': 0.39926523774955625, 'subsample_freq': 6, 'min_child_samples': 19}. Best is trial 145 with value: 26.515359462191796.\n"
     ]
    },
    {
     "name": "stdout",
     "output_type": "stream",
     "text": [
      "Training until validation scores don't improve for 100 rounds\n",
      "Early stopping, best iteration is:\n",
      "[55]\ttraining's mape: 0.10572\ttraining's rmse: 85.5353\tvalid_1's mape: 0.414684\tvalid_1's rmse: 647.308\n",
      "Training until validation scores don't improve for 100 rounds\n",
      "Early stopping, best iteration is:\n",
      "[52]\ttraining's mape: 0.103756\ttraining's rmse: 84.3973\tvalid_1's mape: 0.409249\tvalid_1's rmse: 639.823\n"
     ]
    },
    {
     "name": "stderr",
     "output_type": "stream",
     "text": [
      "[I 2023-08-14 15:52:28,782] Trial 209 finished with value: 26.546710321433515 and parameters: {'learning_rate': 0.07576875853828707, 'n_estimators': 812, 'max_depth': 27, 'num_leaves': 41, 'colsample_bytree': 0.29412368875486034, 'subsample': 0.3860228746131553, 'subsample_freq': 5, 'min_child_samples': 18}. Best is trial 145 with value: 26.515359462191796.\n",
      "[I 2023-08-14 15:52:28,924] Trial 210 finished with value: 26.505000289710768 and parameters: {'learning_rate': 0.07613503989761496, 'n_estimators': 822, 'max_depth': 27, 'num_leaves': 53, 'colsample_bytree': 0.2890212175341816, 'subsample': 0.38630317142170123, 'subsample_freq': 5, 'min_child_samples': 18}. Best is trial 210 with value: 26.505000289710768.\n"
     ]
    },
    {
     "name": "stdout",
     "output_type": "stream",
     "text": [
      "Training until validation scores don't improve for 100 rounds\n",
      "Early stopping, best iteration is:\n",
      "[52]\ttraining's mape: 0.103459\ttraining's rmse: 84.3029\tvalid_1's mape: 0.408832\tvalid_1's rmse: 639.311\n",
      "Training until validation scores don't improve for 100 rounds\n",
      "Early stopping, best iteration is:\n",
      "[52]\ttraining's mape: 0.102766\ttraining's rmse: 83.576\tvalid_1's mape: 0.409659\tvalid_1's rmse: 640.519\n"
     ]
    },
    {
     "name": "stderr",
     "output_type": "stream",
     "text": [
      "[I 2023-08-14 15:52:29,056] Trial 211 finished with value: 26.584171596193386 and parameters: {'learning_rate': 0.07603667021147914, 'n_estimators': 827, 'max_depth': 26, 'num_leaves': 51, 'colsample_bytree': 0.2870183946816267, 'subsample': 0.38642693706010617, 'subsample_freq': 5, 'min_child_samples': 17}. Best is trial 210 with value: 26.505000289710768.\n",
      "[I 2023-08-14 15:52:29,195] Trial 212 finished with value: 26.658657932846904 and parameters: {'learning_rate': 0.07609768352580343, 'n_estimators': 795, 'max_depth': 26, 'num_leaves': 53, 'colsample_bytree': 0.29222821398539006, 'subsample': 0.3888644910733464, 'subsample_freq': 5, 'min_child_samples': 17}. Best is trial 210 with value: 26.505000289710768.\n"
     ]
    },
    {
     "name": "stdout",
     "output_type": "stream",
     "text": [
      "Training until validation scores don't improve for 100 rounds\n",
      "Early stopping, best iteration is:\n",
      "[56]\ttraining's mape: 0.0963674\ttraining's rmse: 79.7263\tvalid_1's mape: 0.410091\tvalid_1's rmse: 640.758\n",
      "Training until validation scores don't improve for 100 rounds\n",
      "Early stopping, best iteration is:\n",
      "[52]\ttraining's mape: 0.103824\ttraining's rmse: 84.4389\tvalid_1's mape: 0.410968\tvalid_1's rmse: 642.735\n"
     ]
    },
    {
     "name": "stderr",
     "output_type": "stream",
     "text": [
      "[I 2023-08-14 15:52:29,336] Trial 213 finished with value: 26.68011227942181 and parameters: {'learning_rate': 0.07521799951139843, 'n_estimators': 812, 'max_depth': 26, 'num_leaves': 57, 'colsample_bytree': 0.29179964382373147, 'subsample': 0.3818279856887632, 'subsample_freq': 5, 'min_child_samples': 17}. Best is trial 210 with value: 26.505000289710768.\n",
      "[I 2023-08-14 15:52:29,459] Trial 214 finished with value: 26.694688721526276 and parameters: {'learning_rate': 0.07481402167911172, 'n_estimators': 830, 'max_depth': 26, 'num_leaves': 51, 'colsample_bytree': 0.29103615327150717, 'subsample': 0.3881332504083883, 'subsample_freq': 5, 'min_child_samples': 17}. Best is trial 210 with value: 26.505000289710768.\n"
     ]
    },
    {
     "name": "stdout",
     "output_type": "stream",
     "text": [
      "Training until validation scores don't improve for 100 rounds\n",
      "Early stopping, best iteration is:\n",
      "[53]\ttraining's mape: 0.102556\ttraining's rmse: 83.5707\tvalid_1's mape: 0.410932\tvalid_1's rmse: 642.754\n",
      "Training until validation scores don't improve for 100 rounds\n",
      "Early stopping, best iteration is:\n",
      "[50]\ttraining's mape: 0.106416\ttraining's rmse: 86.1188\tvalid_1's mape: 0.41192\tvalid_1's rmse: 644.23\n"
     ]
    },
    {
     "name": "stderr",
     "output_type": "stream",
     "text": [
      "[I 2023-08-14 15:52:29,587] Trial 215 finished with value: 26.754605140503056 and parameters: {'learning_rate': 0.075531880703199, 'n_estimators': 868, 'max_depth': 27, 'num_leaves': 56, 'colsample_bytree': 0.28295440799643523, 'subsample': 0.36618192554913137, 'subsample_freq': 5, 'min_child_samples': 18}. Best is trial 210 with value: 26.505000289710768.\n",
      "[I 2023-08-14 15:52:29,750] Trial 216 finished with value: 26.744953637569473 and parameters: {'learning_rate': 0.07636786374752914, 'n_estimators': 791, 'max_depth': 27, 'num_leaves': 61, 'colsample_bytree': 0.28611399732777965, 'subsample': 0.41128879628824583, 'subsample_freq': 5, 'min_child_samples': 18}. Best is trial 210 with value: 26.505000289710768.\n",
      "[I 2023-08-14 15:52:29,871] Trial 217 finished with value: 26.570968625077306 and parameters: {'learning_rate': 0.07577669085652634, 'n_estimators': 768, 'max_depth': 27, 'num_leaves': 49, 'colsample_bytree': 0.3090244599827022, 'subsample': 0.3902068652596049, 'subsample_freq': 5, 'min_child_samples': 17}. Best is trial 210 with value: 26.505000289710768.\n"
     ]
    },
    {
     "name": "stdout",
     "output_type": "stream",
     "text": [
      "Training until validation scores don't improve for 100 rounds\n",
      "Early stopping, best iteration is:\n",
      "[52]\ttraining's mape: 0.102098\ttraining's rmse: 82.9593\tvalid_1's mape: 0.411548\tvalid_1's rmse: 642.96\n",
      "Training until validation scores don't improve for 100 rounds\n",
      "Early stopping, best iteration is:\n",
      "[52]\ttraining's mape: 0.102865\ttraining's rmse: 83.5988\tvalid_1's mape: 0.409525\tvalid_1's rmse: 640.647\n"
     ]
    },
    {
     "name": "stderr",
     "output_type": "stream",
     "text": [
      "[I 2023-08-14 15:52:29,995] Trial 218 finished with value: 26.597854416179022 and parameters: {'learning_rate': 0.07567847769695353, 'n_estimators': 833, 'max_depth': 26, 'num_leaves': 52, 'colsample_bytree': 0.3124188767831227, 'subsample': 0.3868880510461203, 'subsample_freq': 5, 'min_child_samples': 17}. Best is trial 210 with value: 26.505000289710768.\n"
     ]
    },
    {
     "name": "stdout",
     "output_type": "stream",
     "text": [
      "Training until validation scores don't improve for 100 rounds\n",
      "Early stopping, best iteration is:\n",
      "[52]\ttraining's mape: 0.103042\ttraining's rmse: 83.7112\tvalid_1's mape: 0.409795\tvalid_1's rmse: 640.803\n",
      "Training until validation scores don't improve for 100 rounds\n",
      "Early stopping, best iteration is:\n",
      "[52]\ttraining's mape: 0.102124\ttraining's rmse: 82.9231\tvalid_1's mape: 0.412672\tvalid_1's rmse: 644.794\n"
     ]
    },
    {
     "name": "stderr",
     "output_type": "stream",
     "text": [
      "[I 2023-08-14 15:52:30,134] Trial 219 finished with value: 26.804019270890798 and parameters: {'learning_rate': 0.0743972256565327, 'n_estimators': 830, 'max_depth': 27, 'num_leaves': 48, 'colsample_bytree': 0.31320721628202824, 'subsample': 0.4248979376438098, 'subsample_freq': 5, 'min_child_samples': 16}. Best is trial 210 with value: 26.505000289710768.\n",
      "[I 2023-08-14 15:52:30,270] Trial 220 finished with value: 27.004222435157455 and parameters: {'learning_rate': 0.07372239164682164, 'n_estimators': 853, 'max_depth': 28, 'num_leaves': 52, 'colsample_bytree': 0.31991951924187695, 'subsample': 0.3788842665091771, 'subsample_freq': 4, 'min_child_samples': 18}. Best is trial 210 with value: 26.505000289710768.\n",
      "[I 2023-08-14 15:52:30,400] Trial 221 finished with value: 26.638228426629517 and parameters: {'learning_rate': 0.07572530369651131, 'n_estimators': 808, 'max_depth': 26, 'num_leaves': 50, 'colsample_bytree': 0.2984903194915771, 'subsample': 0.3876824673378138, 'subsample_freq': 5, 'min_child_samples': 17}. Best is trial 210 with value: 26.505000289710768.\n"
     ]
    },
    {
     "name": "stdout",
     "output_type": "stream",
     "text": [
      "Training until validation scores don't improve for 100 rounds\n",
      "Early stopping, best iteration is:\n",
      "[52]\ttraining's mape: 0.106599\ttraining's rmse: 85.6838\tvalid_1's mape: 0.41482\tvalid_1's rmse: 648.496\n",
      "Training until validation scores don't improve for 100 rounds\n",
      "Early stopping, best iteration is:\n",
      "[52]\ttraining's mape: 0.102892\ttraining's rmse: 83.6628\tvalid_1's mape: 0.41026\tvalid_1's rmse: 641.917\n"
     ]
    },
    {
     "name": "stderr",
     "output_type": "stream",
     "text": [
      "[I 2023-08-14 15:52:30,535] Trial 222 finished with value: 26.60937420560935 and parameters: {'learning_rate': 0.07502124969722364, 'n_estimators': 776, 'max_depth': 27, 'num_leaves': 49, 'colsample_bytree': 0.30590962516913167, 'subsample': 0.3889559460418647, 'subsample_freq': 5, 'min_child_samples': 17}. Best is trial 210 with value: 26.505000289710768.\n"
     ]
    },
    {
     "name": "stdout",
     "output_type": "stream",
     "text": [
      "Training until validation scores don't improve for 100 rounds\n",
      "Early stopping, best iteration is:\n",
      "[52]\ttraining's mape: 0.103845\ttraining's rmse: 84.1858\tvalid_1's mape: 0.410058\tvalid_1's rmse: 641.499\n",
      "Training until validation scores don't improve for 100 rounds\n",
      "Early stopping, best iteration is:\n",
      "[52]\ttraining's mape: 0.102895\ttraining's rmse: 83.5814\tvalid_1's mape: 0.41056\tvalid_1's rmse: 642.017\n"
     ]
    },
    {
     "name": "stderr",
     "output_type": "stream",
     "text": [
      "[I 2023-08-14 15:52:30,665] Trial 223 finished with value: 26.655793506127836 and parameters: {'learning_rate': 0.07583805842040019, 'n_estimators': 816, 'max_depth': 26, 'num_leaves': 47, 'colsample_bytree': 0.30438134611717366, 'subsample': 0.3924834063855513, 'subsample_freq': 5, 'min_child_samples': 17}. Best is trial 210 with value: 26.505000289710768.\n",
      "[I 2023-08-14 15:52:30,799] Trial 224 finished with value: 26.76772438731311 and parameters: {'learning_rate': 0.07469119286505925, 'n_estimators': 849, 'max_depth': 27, 'num_leaves': 41, 'colsample_bytree': 0.31035589693169824, 'subsample': 0.3751976873503847, 'subsample_freq': 5, 'min_child_samples': 16}. Best is trial 210 with value: 26.505000289710768.\n"
     ]
    },
    {
     "name": "stdout",
     "output_type": "stream",
     "text": [
      "Training until validation scores don't improve for 100 rounds\n",
      "Early stopping, best iteration is:\n",
      "[52]\ttraining's mape: 0.104065\ttraining's rmse: 84.3968\tvalid_1's mape: 0.412088\tvalid_1's rmse: 644.722\n",
      "Training until validation scores don't improve for 100 rounds\n",
      "Early stopping, best iteration is:\n",
      "[52]\ttraining's mape: 0.101939\ttraining's rmse: 82.7166\tvalid_1's mape: 0.411978\tvalid_1's rmse: 643.418\n"
     ]
    },
    {
     "name": "stderr",
     "output_type": "stream",
     "text": [
      "[I 2023-08-14 15:52:30,939] Trial 225 finished with value: 26.76749873852321 and parameters: {'learning_rate': 0.07551864067795944, 'n_estimators': 790, 'max_depth': 25, 'num_leaves': 52, 'colsample_bytree': 0.3006688742043828, 'subsample': 0.40872254480693027, 'subsample_freq': 5, 'min_child_samples': 17}. Best is trial 210 with value: 26.505000289710768.\n",
      "[I 2023-08-14 15:52:31,080] Trial 226 finished with value: 26.776542327103943 and parameters: {'learning_rate': 0.0737645105200229, 'n_estimators': 887, 'max_depth': 27, 'num_leaves': 37, 'colsample_bytree': 0.31578602895063407, 'subsample': 0.36344078665166746, 'subsample_freq': 5, 'min_child_samples': 16}. Best is trial 210 with value: 26.505000289710768.\n"
     ]
    },
    {
     "name": "stdout",
     "output_type": "stream",
     "text": [
      "Training until validation scores don't improve for 100 rounds\n",
      "Early stopping, best iteration is:\n",
      "[50]\ttraining's mape: 0.10696\ttraining's rmse: 86.4043\tvalid_1's mape: 0.412425\tvalid_1's rmse: 645.155\n",
      "Training until validation scores don't improve for 100 rounds\n",
      "Early stopping, best iteration is:\n",
      "[52]\ttraining's mape: 0.104389\ttraining's rmse: 84.5751\tvalid_1's mape: 0.410538\tvalid_1's rmse: 642.271\n"
     ]
    },
    {
     "name": "stderr",
     "output_type": "stream",
     "text": [
      "[I 2023-08-14 15:52:31,221] Trial 227 finished with value: 26.652179522575942 and parameters: {'learning_rate': 0.07470771660297983, 'n_estimators': 772, 'max_depth': 27, 'num_leaves': 47, 'colsample_bytree': 0.3080599370984203, 'subsample': 0.3877747931906227, 'subsample_freq': 5, 'min_child_samples': 17}. Best is trial 210 with value: 26.505000289710768.\n",
      "[I 2023-08-14 15:52:31,351] Trial 228 finished with value: 26.65163066692844 and parameters: {'learning_rate': 0.07806235997762989, 'n_estimators': 759, 'max_depth': 26, 'num_leaves': 61, 'colsample_bytree': 0.3244556359741191, 'subsample': 0.41257671551966596, 'subsample_freq': 5, 'min_child_samples': 18}. Best is trial 210 with value: 26.505000289710768.\n",
      "[I 2023-08-14 15:52:31,483] Trial 229 finished with value: 26.60422070318437 and parameters: {'learning_rate': 0.071764076526972, 'n_estimators': 803, 'max_depth': 28, 'num_leaves': 43, 'colsample_bytree': 0.2983103970453052, 'subsample': 0.3928184908690071, 'subsample_freq': 5, 'min_child_samples': 19}. Best is trial 210 with value: 26.505000289710768.\n"
     ]
    },
    {
     "name": "stdout",
     "output_type": "stream",
     "text": [
      "Training until validation scores don't improve for 100 rounds\n",
      "Early stopping, best iteration is:\n",
      "[52]\ttraining's mape: 0.0998385\ttraining's rmse: 81.5785\tvalid_1's mape: 0.410461\tvalid_1's rmse: 641.27\n",
      "Training until validation scores don't improve for 100 rounds\n",
      "Early stopping, best iteration is:\n",
      "[52]\ttraining's mape: 0.108799\ttraining's rmse: 87.5126\tvalid_1's mape: 0.410183\tvalid_1's rmse: 641.855\n"
     ]
    },
    {
     "name": "stderr",
     "output_type": "stream",
     "text": [
      "[I 2023-08-14 15:52:31,615] Trial 230 finished with value: 27.10451127226347 and parameters: {'learning_rate': 0.07199339691080953, 'n_estimators': 819, 'max_depth': 28, 'num_leaves': 43, 'colsample_bytree': 0.2964370967276625, 'subsample': 0.3749010703238475, 'subsample_freq': 9, 'min_child_samples': 19}. Best is trial 210 with value: 26.505000289710768.\n",
      "[I 2023-08-14 15:52:31,766] Trial 231 finished with value: 29.03189244679106 and parameters: {'learning_rate': 0.0761363733801944, 'n_estimators': 845, 'max_depth': 28, 'num_leaves': 51, 'colsample_bytree': 0.4210953413593635, 'subsample': 0.39194664935984314, 'subsample_freq': 5, 'min_child_samples': 19}. Best is trial 210 with value: 26.505000289710768.\n"
     ]
    },
    {
     "name": "stdout",
     "output_type": "stream",
     "text": [
      "Training until validation scores don't improve for 100 rounds\n",
      "Early stopping, best iteration is:\n",
      "[54]\ttraining's mape: 0.105657\ttraining's rmse: 85.2229\tvalid_1's mape: 0.415758\tvalid_1's rmse: 649.616\n",
      "Training until validation scores don't improve for 100 rounds\n",
      "Early stopping, best iteration is:\n",
      "[133]\ttraining's mape: 0.0493998\ttraining's rmse: 48.2157\tvalid_1's mape: 0.434733\tvalid_1's rmse: 674.627\n"
     ]
    },
    {
     "name": "stderr",
     "output_type": "stream",
     "text": [
      "[I 2023-08-14 15:52:31,889] Trial 232 finished with value: 26.606021568925055 and parameters: {'learning_rate': 0.07328888691560231, 'n_estimators': 805, 'max_depth': 27, 'num_leaves': 37, 'colsample_bytree': 0.3035008739322296, 'subsample': 0.38183947713108946, 'subsample_freq': 5, 'min_child_samples': 18}. Best is trial 210 with value: 26.505000289710768.\n"
     ]
    },
    {
     "name": "stdout",
     "output_type": "stream",
     "text": [
      "Training until validation scores don't improve for 100 rounds\n",
      "Early stopping, best iteration is:\n",
      "[52]\ttraining's mape: 0.106217\ttraining's rmse: 85.881\tvalid_1's mape: 0.410137\tvalid_1's rmse: 641.665\n",
      "Training until validation scores don't improve for 100 rounds\n",
      "Early stopping, best iteration is:\n",
      "[52]\ttraining's mape: 0.106975\ttraining's rmse: 86.4839\tvalid_1's mape: 0.411496\tvalid_1's rmse: 643.574\n"
     ]
    },
    {
     "name": "stderr",
     "output_type": "stream",
     "text": [
      "[I 2023-08-14 15:52:32,030] Trial 233 finished with value: 26.72282509090839 and parameters: {'learning_rate': 0.07314051425852758, 'n_estimators': 807, 'max_depth': 27, 'num_leaves': 37, 'colsample_bytree': 0.30072976035360205, 'subsample': 0.3802999219935994, 'subsample_freq': 5, 'min_child_samples': 18}. Best is trial 210 with value: 26.505000289710768.\n",
      "[I 2023-08-14 15:52:32,151] Trial 234 finished with value: 26.768981071608287 and parameters: {'learning_rate': 0.0720407335052185, 'n_estimators': 833, 'max_depth': 26, 'num_leaves': 31, 'colsample_bytree': 0.31075959656081764, 'subsample': 0.3578407458882623, 'subsample_freq': 5, 'min_child_samples': 17}. Best is trial 210 with value: 26.505000289710768.\n"
     ]
    },
    {
     "name": "stdout",
     "output_type": "stream",
     "text": [
      "Training until validation scores don't improve for 100 rounds\n",
      "Early stopping, best iteration is:\n",
      "[53]\ttraining's mape: 0.106774\ttraining's rmse: 86.5187\tvalid_1's mape: 0.412095\tvalid_1's rmse: 644.063\n",
      "Training until validation scores don't improve for 100 rounds\n",
      "Early stopping, best iteration is:\n",
      "[53]\ttraining's mape: 0.103532\ttraining's rmse: 83.9419\tvalid_1's mape: 0.411747\tvalid_1's rmse: 643.192\n"
     ]
    },
    {
     "name": "stderr",
     "output_type": "stream",
     "text": [
      "[I 2023-08-14 15:52:32,291] Trial 235 finished with value: 26.765530151511896 and parameters: {'learning_rate': 0.07427441314373581, 'n_estimators': 783, 'max_depth': 26, 'num_leaves': 44, 'colsample_bytree': 0.295028589308445, 'subsample': 0.40225428632150995, 'subsample_freq': 5, 'min_child_samples': 18}. Best is trial 210 with value: 26.505000289710768.\n",
      "[I 2023-08-14 15:52:32,405] Trial 236 finished with value: 26.853721598921076 and parameters: {'learning_rate': 0.0731789554332321, 'n_estimators': 804, 'max_depth': 28, 'num_leaves': 40, 'colsample_bytree': 0.2869653515347397, 'subsample': 0.36830189326440554, 'subsample_freq': 5, 'min_child_samples': 19}. Best is trial 210 with value: 26.505000289710768.\n",
      "[I 2023-08-14 15:52:32,531] Trial 237 finished with value: 26.628936211452135 and parameters: {'learning_rate': 0.07109582953747327, 'n_estimators': 872, 'max_depth': 8, 'num_leaves': 46, 'colsample_bytree': 0.30374188367861427, 'subsample': 0.3831278451910476, 'subsample_freq': 5, 'min_child_samples': 20}. Best is trial 210 with value: 26.505000289710768.\n"
     ]
    },
    {
     "name": "stdout",
     "output_type": "stream",
     "text": [
      "Training until validation scores don't improve for 100 rounds\n",
      "Early stopping, best iteration is:\n",
      "[50]\ttraining's mape: 0.1093\ttraining's rmse: 87.8899\tvalid_1's mape: 0.413426\tvalid_1's rmse: 646.309\n",
      "Training until validation scores don't improve for 100 rounds\n",
      "Early stopping, best iteration is:\n",
      "[52]\ttraining's mape: 0.110857\ttraining's rmse: 88.9876\tvalid_1's mape: 0.410597\tvalid_1's rmse: 642.657\n"
     ]
    },
    {
     "name": "stderr",
     "output_type": "stream",
     "text": [
      "[I 2023-08-14 15:52:32,649] Trial 238 finished with value: 27.093997325946003 and parameters: {'learning_rate': 0.07130973385449033, 'n_estimators': 870, 'max_depth': 7, 'num_leaves': 49, 'colsample_bytree': 0.3019585899931366, 'subsample': 0.5266221167506296, 'subsample_freq': 5, 'min_child_samples': 20}. Best is trial 210 with value: 26.505000289710768.\n",
      "[I 2023-08-14 15:52:32,780] Trial 239 finished with value: 26.621908756849177 and parameters: {'learning_rate': 0.07058084069741871, 'n_estimators': 826, 'max_depth': 27, 'num_leaves': 45, 'colsample_bytree': 0.31494169857333304, 'subsample': 0.3857409546817942, 'subsample_freq': 5, 'min_child_samples': 20}. Best is trial 210 with value: 26.505000289710768.\n"
     ]
    },
    {
     "name": "stdout",
     "output_type": "stream",
     "text": [
      "Training until validation scores don't improve for 100 rounds\n",
      "Early stopping, best iteration is:\n",
      "[55]\ttraining's mape: 0.101969\ttraining's rmse: 82.6943\tvalid_1's mape: 0.415806\tvalid_1's rmse: 648.933\n",
      "Training until validation scores don't improve for 100 rounds\n",
      "Early stopping, best iteration is:\n",
      "[52]\ttraining's mape: 0.111688\ttraining's rmse: 89.4572\tvalid_1's mape: 0.410456\tvalid_1's rmse: 642.064\n"
     ]
    },
    {
     "name": "stderr",
     "output_type": "stream",
     "text": [
      "[I 2023-08-14 15:52:32,904] Trial 240 finished with value: 26.832082250829192 and parameters: {'learning_rate': 0.07074963460881722, 'n_estimators': 897, 'max_depth': 27, 'num_leaves': 45, 'colsample_bytree': 0.3203259142945445, 'subsample': 0.4344619616004637, 'subsample_freq': 3, 'min_child_samples': 20}. Best is trial 210 with value: 26.505000289710768.\n",
      "[I 2023-08-14 15:52:33,029] Trial 241 finished with value: 26.673692456898053 and parameters: {'learning_rate': 0.0701122654289661, 'n_estimators': 816, 'max_depth': 27, 'num_leaves': 54, 'colsample_bytree': 0.3137612233558043, 'subsample': 0.38530740901583893, 'subsample_freq': 5, 'min_child_samples': 20}. Best is trial 210 with value: 26.505000289710768.\n"
     ]
    },
    {
     "name": "stdout",
     "output_type": "stream",
     "text": [
      "Training until validation scores don't improve for 100 rounds\n",
      "Early stopping, best iteration is:\n",
      "[52]\ttraining's mape: 0.11051\ttraining's rmse: 87.8406\tvalid_1's mape: 0.412943\tvalid_1's rmse: 646.502\n",
      "Training until validation scores don't improve for 100 rounds\n",
      "Early stopping, best iteration is:\n",
      "[52]\ttraining's mape: 0.112003\ttraining's rmse: 89.6118\tvalid_1's mape: 0.411152\tvalid_1's rmse: 643.461\n"
     ]
    },
    {
     "name": "stderr",
     "output_type": "stream",
     "text": [
      "[I 2023-08-14 15:52:33,156] Trial 242 finished with value: 26.668652539576126 and parameters: {'learning_rate': 0.07165367604441168, 'n_estimators': 833, 'max_depth': 26, 'num_leaves': 39, 'colsample_bytree': 0.307673540750777, 'subsample': 0.4002294673799173, 'subsample_freq': 5, 'min_child_samples': 19}. Best is trial 210 with value: 26.505000289710768.\n"
     ]
    },
    {
     "name": "stdout",
     "output_type": "stream",
     "text": [
      "Training until validation scores don't improve for 100 rounds\n",
      "Early stopping, best iteration is:\n",
      "[52]\ttraining's mape: 0.10907\ttraining's rmse: 87.3631\tvalid_1's mape: 0.410949\tvalid_1's rmse: 642.798\n",
      "Training until validation scores don't improve for 100 rounds\n",
      "Early stopping, best iteration is:\n",
      "[52]\ttraining's mape: 0.108706\ttraining's rmse: 87.6464\tvalid_1's mape: 0.410141\tvalid_1's rmse: 641.671\n"
     ]
    },
    {
     "name": "stderr",
     "output_type": "stream",
     "text": [
      "[I 2023-08-14 15:52:33,285] Trial 243 finished with value: 26.592049182814648 and parameters: {'learning_rate': 0.0724657079021222, 'n_estimators': 863, 'max_depth': 27, 'num_leaves': 47, 'colsample_bytree': 0.31722049888150317, 'subsample': 0.3777024252875426, 'subsample_freq': 5, 'min_child_samples': 19}. Best is trial 210 with value: 26.505000289710768.\n",
      "[I 2023-08-14 15:52:33,420] Trial 244 finished with value: 26.837696976845173 and parameters: {'learning_rate': 0.07081897550124654, 'n_estimators': 918, 'max_depth': 27, 'num_leaves': 45, 'colsample_bytree': 0.3203109510437202, 'subsample': 0.3696724484818388, 'subsample_freq': 5, 'min_child_samples': 19}. Best is trial 210 with value: 26.505000289710768.\n"
     ]
    },
    {
     "name": "stdout",
     "output_type": "stream",
     "text": [
      "Training until validation scores don't improve for 100 rounds\n",
      "Early stopping, best iteration is:\n",
      "[50]\ttraining's mape: 0.112564\ttraining's rmse: 89.8923\tvalid_1's mape: 0.41318\tvalid_1's rmse: 646.508\n",
      "Training until validation scores don't improve for 100 rounds\n",
      "Early stopping, best iteration is:\n",
      "[55]\ttraining's mape: 0.0978013\ttraining's rmse: 79.4866\tvalid_1's mape: 0.414435\tvalid_1's rmse: 647.488\n"
     ]
    },
    {
     "name": "stderr",
     "output_type": "stream",
     "text": [
      "[I 2023-08-14 15:52:33,560] Trial 245 finished with value: 26.97105954496095 and parameters: {'learning_rate': 0.07215813992994657, 'n_estimators': 854, 'max_depth': 28, 'num_leaves': 38, 'colsample_bytree': 0.3154200040910635, 'subsample': 0.6118394694497893, 'subsample_freq': 5, 'min_child_samples': 20}. Best is trial 210 with value: 26.505000289710768.\n",
      "[I 2023-08-14 15:52:33,676] Trial 246 finished with value: 26.668109431848535 and parameters: {'learning_rate': 0.0726044731994672, 'n_estimators': 879, 'max_depth': 8, 'num_leaves': 47, 'colsample_bytree': 0.3298448851953683, 'subsample': 0.3760787526898724, 'subsample_freq': 5, 'min_child_samples': 19}. Best is trial 210 with value: 26.505000289710768.\n",
      "[I 2023-08-14 15:52:33,791] Trial 247 finished with value: 27.20685697795851 and parameters: {'learning_rate': 0.0696944467822917, 'n_estimators': 866, 'max_depth': 4, 'num_leaves': 34, 'colsample_bytree': 0.307003167002194, 'subsample': 0.8019229185263304, 'subsample_freq': 5, 'min_child_samples': 20}. Best is trial 210 with value: 26.505000289710768.\n"
     ]
    },
    {
     "name": "stdout",
     "output_type": "stream",
     "text": [
      "Training until validation scores don't improve for 100 rounds\n",
      "Early stopping, best iteration is:\n",
      "[56]\ttraining's mape: 0.101478\ttraining's rmse: 83.5379\tvalid_1's mape: 0.410415\tvalid_1's rmse: 641.627\n",
      "Training until validation scores don't improve for 100 rounds\n",
      "Early stopping, best iteration is:\n",
      "[86]\ttraining's mape: 0.0879694\ttraining's rmse: 74.6314\tvalid_1's mape: 0.41606\tvalid_1's rmse: 647.767\n"
     ]
    },
    {
     "name": "stderr",
     "output_type": "stream",
     "text": [
      "[I 2023-08-14 15:52:33,920] Trial 248 finished with value: 26.68673780177229 and parameters: {'learning_rate': 0.07116203205313007, 'n_estimators': 774, 'max_depth': 27, 'num_leaves': 42, 'colsample_bytree': 0.3299508234327073, 'subsample': 0.3534905752672514, 'subsample_freq': 5, 'min_child_samples': 21}. Best is trial 210 with value: 26.505000289710768.\n"
     ]
    },
    {
     "name": "stdout",
     "output_type": "stream",
     "text": [
      "Training until validation scores don't improve for 100 rounds\n",
      "Early stopping, best iteration is:\n",
      "[52]\ttraining's mape: 0.113229\ttraining's rmse: 90.4924\tvalid_1's mape: 0.411271\tvalid_1's rmse: 643.961\n",
      "Training until validation scores don't improve for 100 rounds\n",
      "Early stopping, best iteration is:\n",
      "[83]\ttraining's mape: 0.0872791\ttraining's rmse: 73.0709\tvalid_1's mape: 0.412793\tvalid_1's rmse: 643.714\n"
     ]
    },
    {
     "name": "stderr",
     "output_type": "stream",
     "text": [
      "[I 2023-08-14 15:52:34,063] Trial 249 finished with value: 26.930283366222135 and parameters: {'learning_rate': 0.06160429012612216, 'n_estimators': 834, 'max_depth': 28, 'num_leaves': 171, 'colsample_bytree': 0.3217972472150138, 'subsample': 0.4081728158730111, 'subsample_freq': 5, 'min_child_samples': 19}. Best is trial 210 with value: 26.505000289710768.\n",
      "[I 2023-08-14 15:52:34,192] Trial 250 finished with value: 26.979208956674967 and parameters: {'learning_rate': 0.07285040151231063, 'n_estimators': 858, 'max_depth': 27, 'num_leaves': 114, 'colsample_bytree': 0.3129368238579051, 'subsample': 0.3933239494427656, 'subsample_freq': 6, 'min_child_samples': 18}. Best is trial 210 with value: 26.505000289710768.\n"
     ]
    },
    {
     "name": "stdout",
     "output_type": "stream",
     "text": [
      "Training until validation scores don't improve for 100 rounds\n",
      "Early stopping, best iteration is:\n",
      "[55]\ttraining's mape: 0.102445\ttraining's rmse: 83.4262\tvalid_1's mape: 0.414367\tvalid_1's rmse: 646.618\n",
      "Training until validation scores don't improve for 100 rounds\n",
      "Early stopping, best iteration is:\n",
      "[55]\ttraining's mape: 0.080314\ttraining's rmse: 69.1188\tvalid_1's mape: 0.413738\tvalid_1's rmse: 645.463\n"
     ]
    },
    {
     "name": "stderr",
     "output_type": "stream",
     "text": [
      "[I 2023-08-14 15:52:34,319] Trial 251 finished with value: 27.086199712118447 and parameters: {'learning_rate': 0.09642527342815933, 'n_estimators': 900, 'max_depth': 28, 'num_leaves': 54, 'colsample_bytree': 0.30360417875990064, 'subsample': 0.4934023919212299, 'subsample_freq': 5, 'min_child_samples': 20}. Best is trial 210 with value: 26.505000289710768.\n",
      "[I 2023-08-14 15:52:34,437] Trial 252 finished with value: 26.712917922504705 and parameters: {'learning_rate': 0.07019379340457914, 'n_estimators': 824, 'max_depth': 9, 'num_leaves': 48, 'colsample_bytree': 0.32545981358514764, 'subsample': 0.3675006983958244, 'subsample_freq': 5, 'min_child_samples': 21}. Best is trial 210 with value: 26.505000289710768.\n"
     ]
    },
    {
     "name": "stdout",
     "output_type": "stream",
     "text": [
      "Training until validation scores don't improve for 100 rounds\n",
      "Early stopping, best iteration is:\n",
      "[53]\ttraining's mape: 0.111274\ttraining's rmse: 89.0886\tvalid_1's mape: 0.411633\tvalid_1's rmse: 643.457\n",
      "Training until validation scores don't improve for 100 rounds\n",
      "Early stopping, best iteration is:\n",
      "[52]\ttraining's mape: 0.104753\ttraining's rmse: 84.4349\tvalid_1's mape: 0.412374\tvalid_1's rmse: 644.025\n"
     ]
    },
    {
     "name": "stderr",
     "output_type": "stream",
     "text": [
      "[I 2023-08-14 15:52:34,582] Trial 253 finished with value: 26.78723728142942 and parameters: {'learning_rate': 0.07375568674701836, 'n_estimators': 839, 'max_depth': 27, 'num_leaves': 55, 'colsample_bytree': 0.3343695761876755, 'subsample': 0.4193788141984922, 'subsample_freq': 5, 'min_child_samples': 18}. Best is trial 210 with value: 26.505000289710768.\n",
      "[I 2023-08-14 15:52:34,723] Trial 254 finished with value: 28.019901772731547 and parameters: {'learning_rate': 0.07186437696243088, 'n_estimators': 764, 'max_depth': 28, 'num_leaves': 43, 'colsample_bytree': 0.5110569147931435, 'subsample': 0.3834863815461615, 'subsample_freq': 5, 'min_child_samples': 20}. Best is trial 210 with value: 26.505000289710768.\n",
      "[I 2023-08-14 15:52:34,860] Trial 255 finished with value: 26.721323909661514 and parameters: {'learning_rate': 0.06929639598019884, 'n_estimators': 739, 'max_depth': 25, 'num_leaves': 35, 'colsample_bytree': 0.3132229016044819, 'subsample': 0.35493067530623734, 'subsample_freq': 5, 'min_child_samples': 19}. Best is trial 210 with value: 26.505000289710768.\n"
     ]
    },
    {
     "name": "stdout",
     "output_type": "stream",
     "text": [
      "Training until validation scores don't improve for 100 rounds\n",
      "Early stopping, best iteration is:\n",
      "[51]\ttraining's mape: 0.074601\ttraining's rmse: 64.8644\tvalid_1's mape: 0.424227\tvalid_1's rmse: 660.609\n",
      "Training until validation scores don't improve for 100 rounds\n",
      "Early stopping, best iteration is:\n",
      "[51]\ttraining's mape: 0.115337\ttraining's rmse: 91.5291\tvalid_1's mape: 0.412068\tvalid_1's rmse: 645.367\n"
     ]
    },
    {
     "name": "stderr",
     "output_type": "stream",
     "text": [
      "[I 2023-08-14 15:52:34,982] Trial 256 finished with value: 26.665037036782984 and parameters: {'learning_rate': 0.07058583371864045, 'n_estimators': 791, 'max_depth': 28, 'num_leaves': 62, 'colsample_bytree': 0.2911963974511938, 'subsample': 0.4005387653985219, 'subsample_freq': 5, 'min_child_samples': 21}. Best is trial 210 with value: 26.505000289710768.\n"
     ]
    },
    {
     "name": "stdout",
     "output_type": "stream",
     "text": [
      "Training until validation scores don't improve for 100 rounds\n",
      "Early stopping, best iteration is:\n",
      "[52]\ttraining's mape: 0.112077\ttraining's rmse: 89.5262\tvalid_1's mape: 0.411134\tvalid_1's rmse: 642.912\n",
      "Training until validation scores don't improve for 100 rounds\n",
      "Early stopping, best iteration is:\n",
      "[53]\ttraining's mape: 0.105606\ttraining's rmse: 85.9266\tvalid_1's mape: 0.409889\tvalid_1's rmse: 640.628\n"
     ]
    },
    {
     "name": "stderr",
     "output_type": "stream",
     "text": [
      "[I 2023-08-14 15:52:35,114] Trial 257 finished with value: 26.589970993339975 and parameters: {'learning_rate': 0.07325085558496196, 'n_estimators': 883, 'max_depth': 26, 'num_leaves': 51, 'colsample_bytree': 0.3068448791021146, 'subsample': 0.3767660807494174, 'subsample_freq': 5, 'min_child_samples': 19}. Best is trial 210 with value: 26.505000289710768.\n",
      "[I 2023-08-14 15:52:35,243] Trial 258 finished with value: 27.222189734890645 and parameters: {'learning_rate': 0.07465917302280464, 'n_estimators': 798, 'max_depth': 26, 'num_leaves': 52, 'colsample_bytree': 0.3217817096265683, 'subsample': 0.3650555176683115, 'subsample_freq': 7, 'min_child_samples': 18}. Best is trial 210 with value: 26.505000289710768.\n"
     ]
    },
    {
     "name": "stdout",
     "output_type": "stream",
     "text": [
      "Training until validation scores don't improve for 100 rounds\n",
      "Early stopping, best iteration is:\n",
      "[55]\ttraining's mape: 0.102091\ttraining's rmse: 83.48\tvalid_1's mape: 0.416953\tvalid_1's rmse: 650.422\n",
      "Training until validation scores don't improve for 100 rounds\n",
      "Early stopping, best iteration is:\n",
      "[63]\ttraining's mape: 0.0907925\ttraining's rmse: 75.8228\tvalid_1's mape: 0.417322\tvalid_1's rmse: 650.351\n"
     ]
    },
    {
     "name": "stderr",
     "output_type": "stream",
     "text": [
      "[I 2023-08-14 15:52:35,382] Trial 259 finished with value: 27.30139571173443 and parameters: {'learning_rate': 0.07334150100331896, 'n_estimators': 843, 'max_depth': 27, 'num_leaves': 57, 'colsample_bytree': 0.3149448679285207, 'subsample': 0.4113359760369554, 'subsample_freq': 4, 'min_child_samples': 19}. Best is trial 210 with value: 26.505000289710768.\n",
      "[I 2023-08-14 15:52:35,518] Trial 260 finished with value: 26.60462109466217 and parameters: {'learning_rate': 0.07706370781398478, 'n_estimators': 826, 'max_depth': 26, 'num_leaves': 50, 'colsample_bytree': 0.3378303367152556, 'subsample': 0.37607531329081745, 'subsample_freq': 5, 'min_child_samples': 18}. Best is trial 210 with value: 26.505000289710768.\n"
     ]
    },
    {
     "name": "stdout",
     "output_type": "stream",
     "text": [
      "Training until validation scores don't improve for 100 rounds\n",
      "Early stopping, best iteration is:\n",
      "[53]\ttraining's mape: 0.101187\ttraining's rmse: 83.0599\tvalid_1's mape: 0.409548\tvalid_1's rmse: 640.671\n",
      "Training until validation scores don't improve for 100 rounds\n",
      "Early stopping, best iteration is:\n",
      "[52]\ttraining's mape: 0.102034\ttraining's rmse: 83.1789\tvalid_1's mape: 0.410119\tvalid_1's rmse: 641.319\n"
     ]
    },
    {
     "name": "stderr",
     "output_type": "stream",
     "text": [
      "[I 2023-08-14 15:52:35,649] Trial 261 finished with value: 26.627528370658872 and parameters: {'learning_rate': 0.07744792584640059, 'n_estimators': 820, 'max_depth': 26, 'num_leaves': 64, 'colsample_bytree': 0.33887777630974575, 'subsample': 0.3943381054670366, 'subsample_freq': 5, 'min_child_samples': 18}. Best is trial 210 with value: 26.505000289710768.\n",
      "[I 2023-08-14 15:52:35,834] Trial 262 finished with value: 28.70660373117519 and parameters: {'learning_rate': 0.07651115645695745, 'n_estimators': 941, 'max_depth': 25, 'num_leaves': 51, 'colsample_bytree': 0.3528202699651683, 'subsample': 0.4555702275818244, 'subsample_freq': 5, 'min_child_samples': 17}. Best is trial 210 with value: 26.505000289710768.\n"
     ]
    },
    {
     "name": "stdout",
     "output_type": "stream",
     "text": [
      "Training until validation scores don't improve for 100 rounds\n",
      "Early stopping, best iteration is:\n",
      "[155]\ttraining's mape: 0.0422875\ttraining's rmse: 41.6104\tvalid_1's mape: 0.431041\tvalid_1's rmse: 668.69\n",
      "Training until validation scores don't improve for 100 rounds\n"
     ]
    },
    {
     "name": "stderr",
     "output_type": "stream",
     "text": [
      "[I 2023-08-14 15:52:35,967] Trial 263 finished with value: 26.75836788771764 and parameters: {'learning_rate': 0.07524967540317504, 'n_estimators': 851, 'max_depth': 26, 'num_leaves': 57, 'colsample_bytree': 0.3324727923914795, 'subsample': 0.3507343134684947, 'subsample_freq': 5, 'min_child_samples': 17}. Best is trial 210 with value: 26.505000289710768.\n",
      "[I 2023-08-14 15:52:36,107] Trial 264 finished with value: 26.740329395350944 and parameters: {'learning_rate': 0.0778319773752662, 'n_estimators': 891, 'max_depth': 27, 'num_leaves': 49, 'colsample_bytree': 0.32672670106539375, 'subsample': 0.37116397547454305, 'subsample_freq': 5, 'min_child_samples': 18}. Best is trial 210 with value: 26.505000289710768.\n"
     ]
    },
    {
     "name": "stdout",
     "output_type": "stream",
     "text": [
      "Early stopping, best iteration is:\n",
      "[53]\ttraining's mape: 0.104227\ttraining's rmse: 85.0644\tvalid_1's mape: 0.411761\tvalid_1's rmse: 643.442\n",
      "Training until validation scores don't improve for 100 rounds\n",
      "Early stopping, best iteration is:\n",
      "[50]\ttraining's mape: 0.103684\ttraining's rmse: 84.3911\tvalid_1's mape: 0.411546\tvalid_1's rmse: 643.575\n"
     ]
    },
    {
     "name": "stderr",
     "output_type": "stream",
     "text": [
      "[I 2023-08-14 15:52:36,249] Trial 265 finished with value: 27.197716442947833 and parameters: {'learning_rate': 0.07721874132408683, 'n_estimators': 804, 'max_depth': 26, 'num_leaves': 61, 'colsample_bytree': 0.3447728230083344, 'subsample': 0.4018569165213891, 'subsample_freq': 4, 'min_child_samples': 19}. Best is trial 210 with value: 26.505000289710768.\n"
     ]
    },
    {
     "name": "stdout",
     "output_type": "stream",
     "text": [
      "Training until validation scores don't improve for 100 rounds\n",
      "Early stopping, best iteration is:\n",
      "[66]\ttraining's mape: 0.0847565\ttraining's rmse: 72.23\tvalid_1's mape: 0.415556\tvalid_1's rmse: 647.44\n",
      "Training until validation scores don't improve for 100 rounds\n",
      "Early stopping, best iteration is:\n",
      "[55]\ttraining's mape: 0.104081\ttraining's rmse: 84.2948\tvalid_1's mape: 0.414484\tvalid_1's rmse: 647.186\n"
     ]
    },
    {
     "name": "stderr",
     "output_type": "stream",
     "text": [
      "[I 2023-08-14 15:52:36,381] Trial 266 finished with value: 26.933719936931453 and parameters: {'learning_rate': 0.06823634622272996, 'n_estimators': 832, 'max_depth': 25, 'num_leaves': 52, 'colsample_bytree': 0.2822810106656153, 'subsample': 0.4330455893695576, 'subsample_freq': 6, 'min_child_samples': 16}. Best is trial 210 with value: 26.505000289710768.\n",
      "[I 2023-08-14 15:52:36,503] Trial 267 finished with value: 26.614179787447966 and parameters: {'learning_rate': 0.08443908595717425, 'n_estimators': 775, 'max_depth': 27, 'num_leaves': 40, 'colsample_bytree': 0.29564832340815006, 'subsample': 0.3767201793629894, 'subsample_freq': 5, 'min_child_samples': 19}. Best is trial 210 with value: 26.505000289710768.\n",
      "[I 2023-08-14 15:52:36,621] Trial 268 finished with value: 26.631521910938392 and parameters: {'learning_rate': 0.08918794569611731, 'n_estimators': 773, 'max_depth': 27, 'num_leaves': 29, 'colsample_bytree': 0.2960762715217121, 'subsample': 0.3616029972127112, 'subsample_freq': 5, 'min_child_samples': 18}. Best is trial 210 with value: 26.505000289710768.\n"
     ]
    },
    {
     "name": "stdout",
     "output_type": "stream",
     "text": [
      "Training until validation scores don't improve for 100 rounds\n",
      "Early stopping, best iteration is:\n",
      "[52]\ttraining's mape: 0.0960617\ttraining's rmse: 79.9463\tvalid_1's mape: 0.409398\tvalid_1's rmse: 640.234\n",
      "Training until validation scores don't improve for 100 rounds\n",
      "Early stopping, best iteration is:\n",
      "[52]\ttraining's mape: 0.0928888\ttraining's rmse: 77.6486\tvalid_1's mape: 0.409293\tvalid_1's rmse: 640.001\n"
     ]
    },
    {
     "name": "stderr",
     "output_type": "stream",
     "text": [
      "[I 2023-08-14 15:52:36,756] Trial 269 finished with value: 26.460709157671946 and parameters: {'learning_rate': 0.0874225751545806, 'n_estimators': 782, 'max_depth': 25, 'num_leaves': 37, 'colsample_bytree': 0.2888302456549768, 'subsample': 0.38696925078445504, 'subsample_freq': 5, 'min_child_samples': 19}. Best is trial 269 with value: 26.460709157671946.\n",
      "[I 2023-08-14 15:52:36,884] Trial 270 finished with value: 26.703953797373863 and parameters: {'learning_rate': 0.08596188175449702, 'n_estimators': 751, 'max_depth': 26, 'num_leaves': 37, 'colsample_bytree': 0.28425172780502156, 'subsample': 0.4145325850223793, 'subsample_freq': 5, 'min_child_samples': 19}. Best is trial 269 with value: 26.460709157671946.\n"
     ]
    },
    {
     "name": "stdout",
     "output_type": "stream",
     "text": [
      "Training until validation scores don't improve for 100 rounds\n",
      "Early stopping, best iteration is:\n",
      "[52]\ttraining's mape: 0.0931251\ttraining's rmse: 78.2463\tvalid_1's mape: 0.407337\tvalid_1's rmse: 636.527\n",
      "Training until validation scores don't improve for 100 rounds\n",
      "Early stopping, best iteration is:\n",
      "[52]\ttraining's mape: 0.093285\ttraining's rmse: 77.7799\tvalid_1's mape: 0.410457\tvalid_1's rmse: 640.939\n"
     ]
    },
    {
     "name": "stderr",
     "output_type": "stream",
     "text": [
      "[I 2023-08-14 15:52:37,013] Trial 271 finished with value: 26.656625912184712 and parameters: {'learning_rate': 0.08072926401215742, 'n_estimators': 782, 'max_depth': 25, 'num_leaves': 33, 'colsample_bytree': 0.2914767699783668, 'subsample': 0.39362019251849, 'subsample_freq': 5, 'min_child_samples': 18}. Best is trial 269 with value: 26.460709157671946.\n",
      "[I 2023-08-14 15:52:37,152] Trial 272 finished with value: 28.364887308461274 and parameters: {'learning_rate': 0.09017948546243727, 'n_estimators': 798, 'max_depth': 26, 'num_leaves': 38, 'colsample_bytree': 0.5837272495559409, 'subsample': 0.37330379559201843, 'subsample_freq': 5, 'min_child_samples': 19}. Best is trial 269 with value: 26.460709157671946.\n"
     ]
    },
    {
     "name": "stdout",
     "output_type": "stream",
     "text": [
      "Training until validation scores don't improve for 100 rounds\n",
      "Early stopping, best iteration is:\n",
      "[55]\ttraining's mape: 0.0943972\ttraining's rmse: 78.5787\tvalid_1's mape: 0.410005\tvalid_1's rmse: 640.65\n",
      "Training until validation scores don't improve for 100 rounds\n",
      "Early stopping, best iteration is:\n",
      "[53]\ttraining's mape: 0.0548918\ttraining's rmse: 52.757\tvalid_1's mape: 0.426023\tvalid_1's rmse: 663.046\n"
     ]
    },
    {
     "name": "stderr",
     "output_type": "stream",
     "text": [
      "[I 2023-08-14 15:52:37,272] Trial 273 finished with value: 27.26244118357534 and parameters: {'learning_rate': 0.0804483239098843, 'n_estimators': 809, 'max_depth': 27, 'num_leaves': 40, 'colsample_bytree': 0.2968005884265006, 'subsample': 0.34655372911295124, 'subsample_freq': 4, 'min_child_samples': 19}. Best is trial 269 with value: 26.460709157671946.\n"
     ]
    },
    {
     "name": "stdout",
     "output_type": "stream",
     "text": [
      "Training until validation scores don't improve for 100 rounds\n",
      "Early stopping, best iteration is:\n",
      "[58]\ttraining's mape: 0.0948006\ttraining's rmse: 78.9304\tvalid_1's mape: 0.416588\tvalid_1's rmse: 649.713\n",
      "Training until validation scores don't improve for 100 rounds\n",
      "Early stopping, best iteration is:\n",
      "[51]\ttraining's mape: 0.0944093\ttraining's rmse: 77.0666\tvalid_1's mape: 0.414093\tvalid_1's rmse: 647.339\n"
     ]
    },
    {
     "name": "stderr",
     "output_type": "stream",
     "text": [
      "[I 2023-08-14 15:52:37,431] Trial 274 finished with value: 26.9606554962258 and parameters: {'learning_rate': 0.08306488435349996, 'n_estimators': 816, 'max_depth': 27, 'num_leaves': 47, 'colsample_bytree': 0.2788517630798914, 'subsample': 0.46984219459216364, 'subsample_freq': 1, 'min_child_samples': 17}. Best is trial 269 with value: 26.460709157671946.\n",
      "[I 2023-08-14 15:52:37,565] Trial 275 finished with value: 27.01983153816123 and parameters: {'learning_rate': 0.08172878839267005, 'n_estimators': 720, 'max_depth': 25, 'num_leaves': 28, 'colsample_bytree': 0.3030058685962936, 'subsample': 0.4251499748300073, 'subsample_freq': 6, 'min_child_samples': 18}. Best is trial 269 with value: 26.460709157671946.\n"
     ]
    },
    {
     "name": "stdout",
     "output_type": "stream",
     "text": [
      "Training until validation scores don't improve for 100 rounds\n",
      "Early stopping, best iteration is:\n",
      "[55]\ttraining's mape: 0.0925735\ttraining's rmse: 77.8342\tvalid_1's mape: 0.414177\tvalid_1's rmse: 646.325\n",
      "Training until validation scores don't improve for 100 rounds\n",
      "Early stopping, best iteration is:\n",
      "[52]\ttraining's mape: 0.100135\ttraining's rmse: 81.96\tvalid_1's mape: 0.410317\tvalid_1's rmse: 641.653\n"
     ]
    },
    {
     "name": "stderr",
     "output_type": "stream",
     "text": [
      "[I 2023-08-14 15:52:37,700] Trial 276 finished with value: 26.66389055824118 and parameters: {'learning_rate': 0.07851912469768324, 'n_estimators': 775, 'max_depth': 26, 'num_leaves': 45, 'colsample_bytree': 0.28808510489268213, 'subsample': 0.38808460421907787, 'subsample_freq': 5, 'min_child_samples': 17}. Best is trial 269 with value: 26.460709157671946.\n",
      "[I 2023-08-14 15:52:37,841] Trial 277 finished with value: 26.978589212660196 and parameters: {'learning_rate': 0.07600228385928678, 'n_estimators': 862, 'max_depth': 27, 'num_leaves': 53, 'colsample_bytree': 0.2981876939913093, 'subsample': 0.5124580086181771, 'subsample_freq': 5, 'min_child_samples': 18}. Best is trial 269 with value: 26.460709157671946.\n"
     ]
    },
    {
     "name": "stdout",
     "output_type": "stream",
     "text": [
      "Training until validation scores don't improve for 100 rounds\n",
      "Early stopping, best iteration is:\n",
      "[55]\ttraining's mape: 0.0942185\ttraining's rmse: 77.516\tvalid_1's mape: 0.414168\tvalid_1's rmse: 646.332\n",
      "Training until validation scores don't improve for 100 rounds\n",
      "Early stopping, best iteration is:\n",
      "[53]\ttraining's mape: 0.0946475\ttraining's rmse: 79.0142\tvalid_1's mape: 0.409892\tvalid_1's rmse: 641.083\n"
     ]
    },
    {
     "name": "stderr",
     "output_type": "stream",
     "text": [
      "[I 2023-08-14 15:52:37,965] Trial 278 finished with value: 26.678372897953174 and parameters: {'learning_rate': 0.08625146868034884, 'n_estimators': 838, 'max_depth': 27, 'num_leaves': 40, 'colsample_bytree': 0.30671236142137953, 'subsample': 0.35877110462227596, 'subsample_freq': 5, 'min_child_samples': 19}. Best is trial 269 with value: 26.460709157671946.\n",
      "[I 2023-08-14 15:52:38,100] Trial 279 finished with value: 28.363459119555817 and parameters: {'learning_rate': 0.08450708849052183, 'n_estimators': 876, 'max_depth': 26, 'num_leaves': 33, 'colsample_bytree': 0.3831925056629915, 'subsample': 0.41197565856597984, 'subsample_freq': 8, 'min_child_samples': 19}. Best is trial 269 with value: 26.460709157671946.\n"
     ]
    },
    {
     "name": "stdout",
     "output_type": "stream",
     "text": [
      "Training until validation scores don't improve for 100 rounds\n",
      "Early stopping, best iteration is:\n",
      "[43]\ttraining's mape: 0.087203\ttraining's rmse: 73.7281\tvalid_1's mape: 0.430039\tvalid_1's rmse: 669.666\n",
      "Training until validation scores don't improve for 100 rounds\n",
      "Early stopping, best iteration is:\n",
      "[45]\ttraining's mape: 0.101903\ttraining's rmse: 81.5507\tvalid_1's mape: 0.433057\tvalid_1's rmse: 673.894\n"
     ]
    },
    {
     "name": "stderr",
     "output_type": "stream",
     "text": [
      "[I 2023-08-14 15:52:38,231] Trial 280 finished with value: 28.48401915542926 and parameters: {'learning_rate': 0.06423575790546147, 'n_estimators': 749, 'max_depth': 26, 'num_leaves': 49, 'colsample_bytree': 0.3610555511936011, 'subsample': 0.4442762267611394, 'subsample_freq': 5, 'min_child_samples': 18}. Best is trial 269 with value: 26.460709157671946.\n",
      "[I 2023-08-14 15:52:38,371] Trial 281 finished with value: 26.677248967039475 and parameters: {'learning_rate': 0.07924046826026256, 'n_estimators': 791, 'max_depth': 25, 'num_leaves': 42, 'colsample_bytree': 0.33904368817459996, 'subsample': 0.3764115623104604, 'subsample_freq': 5, 'min_child_samples': 17}. Best is trial 269 with value: 26.460709157671946.\n"
     ]
    },
    {
     "name": "stdout",
     "output_type": "stream",
     "text": [
      "Training until validation scores don't improve for 100 rounds\n",
      "Early stopping, best iteration is:\n",
      "[53]\ttraining's mape: 0.0980319\ttraining's rmse: 80.9154\tvalid_1's mape: 0.410382\tvalid_1's rmse: 641.591\n",
      "Training until validation scores don't improve for 100 rounds\n"
     ]
    },
    {
     "name": "stderr",
     "output_type": "stream",
     "text": [
      "[I 2023-08-14 15:52:38,546] Trial 282 finished with value: 28.55946520548252 and parameters: {'learning_rate': 0.05746448523917934, 'n_estimators': 818, 'max_depth': 27, 'num_leaves': 56, 'colsample_bytree': 0.43887158199729115, 'subsample': 0.40107471818501317, 'subsample_freq': 5, 'min_child_samples': 16}. Best is trial 269 with value: 26.460709157671946.\n",
      "[I 2023-08-14 15:52:38,680] Trial 283 finished with value: 26.586406211505537 and parameters: {'learning_rate': 0.06723485844130807, 'n_estimators': 852, 'max_depth': 28, 'num_leaves': 47, 'colsample_bytree': 0.2928456878970863, 'subsample': 0.3895339286237423, 'subsample_freq': 5, 'min_child_samples': 19}. Best is trial 269 with value: 26.460709157671946.\n"
     ]
    },
    {
     "name": "stdout",
     "output_type": "stream",
     "text": [
      "Early stopping, best iteration is:\n",
      "[82]\ttraining's mape: 0.0702703\ttraining's rmse: 62.2533\tvalid_1's mape: 0.431703\tvalid_1's rmse: 669.758\n",
      "Training until validation scores don't improve for 100 rounds\n",
      "Early stopping, best iteration is:\n",
      "[53]\ttraining's mape: 0.1127\ttraining's rmse: 90.0775\tvalid_1's mape: 0.410366\tvalid_1's rmse: 641.938\n"
     ]
    },
    {
     "name": "stderr",
     "output_type": "stream",
     "text": [
      "[I 2023-08-14 15:52:38,811] Trial 284 finished with value: 26.755485480269282 and parameters: {'learning_rate': 0.06757254640882732, 'n_estimators': 851, 'max_depth': 29, 'num_leaves': 65, 'colsample_bytree': 0.2806200388247011, 'subsample': 0.36480873241431633, 'subsample_freq': 5, 'min_child_samples': 19}. Best is trial 269 with value: 26.460709157671946.\n"
     ]
    },
    {
     "name": "stdout",
     "output_type": "stream",
     "text": [
      "Training until validation scores don't improve for 100 rounds\n",
      "Early stopping, best iteration is:\n",
      "[52]\ttraining's mape: 0.114928\ttraining's rmse: 91.1177\tvalid_1's mape: 0.412548\tvalid_1's rmse: 645.853\n",
      "Training until validation scores don't improve for 100 rounds\n",
      "Early stopping, best iteration is:\n",
      "[83]\ttraining's mape: 0.0857677\ttraining's rmse: 72.5268\tvalid_1's mape: 0.412355\tvalid_1's rmse: 642.802\n"
     ]
    },
    {
     "name": "stderr",
     "output_type": "stream",
     "text": [
      "[I 2023-08-14 15:52:38,953] Trial 285 finished with value: 26.912415077922503 and parameters: {'learning_rate': 0.06665983799477376, 'n_estimators': 877, 'max_depth': 28, 'num_leaves': 55, 'colsample_bytree': 0.2894222643017948, 'subsample': 0.3382815015058394, 'subsample_freq': 5, 'min_child_samples': 18}. Best is trial 269 with value: 26.460709157671946.\n",
      "[I 2023-08-14 15:52:39,079] Trial 286 finished with value: 26.970142882128656 and parameters: {'learning_rate': 0.07507518432068025, 'n_estimators': 898, 'max_depth': 28, 'num_leaves': 49, 'colsample_bytree': 0.29649955429407326, 'subsample': 0.3965248053858649, 'subsample_freq': 6, 'min_child_samples': 19}. Best is trial 269 with value: 26.460709157671946.\n"
     ]
    },
    {
     "name": "stdout",
     "output_type": "stream",
     "text": [
      "Training until validation scores don't improve for 100 rounds\n",
      "Early stopping, best iteration is:\n",
      "[55]\ttraining's mape: 0.100081\ttraining's rmse: 82.2273\tvalid_1's mape: 0.413864\tvalid_1's rmse: 645.739\n",
      "Training until validation scores don't improve for 100 rounds\n",
      "Early stopping, best iteration is:\n",
      "[52]\ttraining's mape: 0.101274\ttraining's rmse: 82.4894\tvalid_1's mape: 0.412355\tvalid_1's rmse: 644.204\n"
     ]
    },
    {
     "name": "stderr",
     "output_type": "stream",
     "text": [
      "[I 2023-08-14 15:52:39,213] Trial 287 finished with value: 26.80444795376986 and parameters: {'learning_rate': 0.0765559197330504, 'n_estimators': 778, 'max_depth': 29, 'num_leaves': 37, 'colsample_bytree': 0.290007057770549, 'subsample': 0.41738967918931247, 'subsample_freq': 5, 'min_child_samples': 18}. Best is trial 269 with value: 26.460709157671946.\n",
      "[I 2023-08-14 15:52:39,366] Trial 288 finished with value: 27.009704165837967 and parameters: {'learning_rate': 0.052060269997235946, 'n_estimators': 845, 'max_depth': 28, 'num_leaves': 137, 'colsample_bytree': 0.3060381665496883, 'subsample': 0.48740294821846397, 'subsample_freq': 5, 'min_child_samples': 18}. Best is trial 269 with value: 26.460709157671946.\n"
     ]
    },
    {
     "name": "stdout",
     "output_type": "stream",
     "text": [
      "Training until validation scores don't improve for 100 rounds\n",
      "Early stopping, best iteration is:\n",
      "[85]\ttraining's mape: 0.0928566\ttraining's rmse: 76.4454\tvalid_1's mape: 0.414513\tvalid_1's rmse: 646.75\n",
      "Training until validation scores don't improve for 100 rounds\n",
      "Early stopping, best iteration is:\n",
      "[52]\ttraining's mape: 0.113888\ttraining's rmse: 90.5163\tvalid_1's mape: 0.414591\tvalid_1's rmse: 649.23\n"
     ]
    },
    {
     "name": "stderr",
     "output_type": "stream",
     "text": [
      "[I 2023-08-14 15:52:39,505] Trial 289 finished with value: 26.923789216868695 and parameters: {'learning_rate': 0.06634758854877963, 'n_estimators': 763, 'max_depth': 28, 'num_leaves': 195, 'colsample_bytree': 0.2841428683642628, 'subsample': 0.36929052376002586, 'subsample_freq': 5, 'min_child_samples': 15}. Best is trial 269 with value: 26.460709157671946.\n",
      "[I 2023-08-14 15:52:39,683] Trial 290 finished with value: 27.997651405278788 and parameters: {'learning_rate': 0.08789168850210859, 'n_estimators': 803, 'max_depth': 29, 'num_leaves': 152, 'colsample_bytree': 0.5542428035561422, 'subsample': 0.9786493698088239, 'subsample_freq': 4, 'min_child_samples': 19}. Best is trial 269 with value: 26.460709157671946.\n"
     ]
    },
    {
     "name": "stdout",
     "output_type": "stream",
     "text": [
      "Training until validation scores don't improve for 100 rounds\n",
      "Early stopping, best iteration is:\n",
      "[23]\ttraining's mape: 0.0975662\ttraining's rmse: 74.5138\tvalid_1's mape: 0.426748\tvalid_1's rmse: 664.626\n",
      "Training until validation scores don't improve for 100 rounds\n"
     ]
    },
    {
     "name": "stderr",
     "output_type": "stream",
     "text": [
      "[I 2023-08-14 15:52:39,828] Trial 291 finished with value: 28.662997331695923 and parameters: {'learning_rate': 0.08159663254205754, 'n_estimators': 861, 'max_depth': 27, 'num_leaves': 60, 'colsample_bytree': 0.40509330263891996, 'subsample': 0.5364393632662359, 'subsample_freq': 5, 'min_child_samples': 17}. Best is trial 269 with value: 26.460709157671946.\n",
      "[I 2023-08-14 15:52:39,967] Trial 292 finished with value: 27.065468582980852 and parameters: {'learning_rate': 0.07954020604985199, 'n_estimators': 833, 'max_depth': 26, 'num_leaves': 42, 'colsample_bytree': 0.27523530518596084, 'subsample': 0.5864120722225716, 'subsample_freq': 5, 'min_child_samples': 20}. Best is trial 269 with value: 26.460709157671946.\n"
     ]
    },
    {
     "name": "stdout",
     "output_type": "stream",
     "text": [
      "Early stopping, best iteration is:\n",
      "[43]\ttraining's mape: 0.0815516\ttraining's rmse: 68.6254\tvalid_1's mape: 0.43347\tvalid_1's rmse: 673.602\n",
      "Training until validation scores don't improve for 100 rounds\n",
      "Early stopping, best iteration is:\n",
      "[57]\ttraining's mape: 0.0881491\ttraining's rmse: 73.4854\tvalid_1's mape: 0.414949\tvalid_1's rmse: 647.308\n"
     ]
    },
    {
     "name": "stderr",
     "output_type": "stream",
     "text": [
      "[I 2023-08-14 15:52:40,128] Trial 293 finished with value: 28.313646526858932 and parameters: {'learning_rate': 0.08481974521431178, 'n_estimators': 800, 'max_depth': 27, 'num_leaves': 25, 'colsample_bytree': 0.4788957790477821, 'subsample': 0.3850784755582148, 'subsample_freq': 5, 'min_child_samples': 16}. Best is trial 269 with value: 26.460709157671946.\n"
     ]
    },
    {
     "name": "stdout",
     "output_type": "stream",
     "text": [
      "Training until validation scores don't improve for 100 rounds\n",
      "Early stopping, best iteration is:\n",
      "[69]\ttraining's mape: 0.0539021\ttraining's rmse: 51.1995\tvalid_1's mape: 0.425576\tvalid_1's rmse: 661.366\n",
      "Training until validation scores don't improve for 100 rounds\n",
      "Early stopping, best iteration is:\n",
      "[55]\ttraining's mape: 0.106196\ttraining's rmse: 85.4919\tvalid_1's mape: 0.413369\tvalid_1's rmse: 645.76\n"
     ]
    },
    {
     "name": "stderr",
     "output_type": "stream",
     "text": [
      "[I 2023-08-14 15:52:40,268] Trial 294 finished with value: 26.882877707465525 and parameters: {'learning_rate': 0.06880062415366547, 'n_estimators': 884, 'max_depth': 29, 'num_leaves': 51, 'colsample_bytree': 0.3483115584518128, 'subsample': 0.40423963071612723, 'subsample_freq': 5, 'min_child_samples': 18}. Best is trial 269 with value: 26.460709157671946.\n",
      "[I 2023-08-14 15:52:40,413] Trial 295 finished with value: 27.086341219229322 and parameters: {'learning_rate': 0.07791455964869867, 'n_estimators': 830, 'max_depth': 28, 'num_leaves': 32, 'colsample_bytree': 0.30061101711576, 'subsample': 0.503467181098343, 'subsample_freq': 6, 'min_child_samples': 19}. Best is trial 269 with value: 26.460709157671946.\n"
     ]
    },
    {
     "name": "stdout",
     "output_type": "stream",
     "text": [
      "Training until validation scores don't improve for 100 rounds\n",
      "Early stopping, best iteration is:\n",
      "[57]\ttraining's mape: 0.0924052\ttraining's rmse: 77.2113\tvalid_1's mape: 0.415047\tvalid_1's rmse: 647.751\n",
      "Training until validation scores don't improve for 100 rounds\n",
      "Early stopping, best iteration is:\n",
      "[52]\ttraining's mape: 0.107393\ttraining's rmse: 86.8803\tvalid_1's mape: 0.40953\tvalid_1's rmse: 640.553\n"
     ]
    },
    {
     "name": "stderr",
     "output_type": "stream",
     "text": [
      "[I 2023-08-14 15:52:40,545] Trial 296 finished with value: 26.56301865493574 and parameters: {'learning_rate': 0.07421580359607706, 'n_estimators': 784, 'max_depth': 26, 'num_leaves': 84, 'colsample_bytree': 0.32895404830304065, 'subsample': 0.37816133777062816, 'subsample_freq': 5, 'min_child_samples': 20}. Best is trial 269 with value: 26.460709157671946.\n",
      "[I 2023-08-14 15:52:40,697] Trial 297 finished with value: 26.790741073061614 and parameters: {'learning_rate': 0.07446416655616127, 'n_estimators': 781, 'max_depth': 26, 'num_leaves': 78, 'colsample_bytree': 0.3330701978203485, 'subsample': 0.3545783062636237, 'subsample_freq': 5, 'min_child_samples': 17}. Best is trial 269 with value: 26.460709157671946.\n"
     ]
    },
    {
     "name": "stdout",
     "output_type": "stream",
     "text": [
      "Training until validation scores don't improve for 100 rounds\n",
      "Early stopping, best iteration is:\n",
      "[50]\ttraining's mape: 0.107885\ttraining's rmse: 87.0609\tvalid_1's mape: 0.412296\tvalid_1's rmse: 644.512\n",
      "Training until validation scores don't improve for 100 rounds\n",
      "Early stopping, best iteration is:\n",
      "[52]\ttraining's mape: 0.097372\ttraining's rmse: 80.8438\tvalid_1's mape: 0.40971\tvalid_1's rmse: 641.122\n"
     ]
    },
    {
     "name": "stderr",
     "output_type": "stream",
     "text": [
      "[I 2023-08-14 15:52:40,840] Trial 298 finished with value: 26.63181622375399 and parameters: {'learning_rate': 0.08317066297049355, 'n_estimators': 752, 'max_depth': 25, 'num_leaves': 97, 'colsample_bytree': 0.33051424906238286, 'subsample': 0.37438533477159414, 'subsample_freq': 5, 'min_child_samples': 19}. Best is trial 269 with value: 26.460709157671946.\n",
      "[I 2023-08-14 15:52:40,981] Trial 299 finished with value: 26.97146544548345 and parameters: {'learning_rate': 0.07404227822636614, 'n_estimators': 734, 'max_depth': 25, 'num_leaves': 65, 'colsample_bytree': 0.32122456051148335, 'subsample': 0.39727876581263183, 'subsample_freq': 4, 'min_child_samples': 20}. Best is trial 269 with value: 26.460709157671946.\n"
     ]
    },
    {
     "name": "stdout",
     "output_type": "stream",
     "text": [
      "Training until validation scores don't improve for 100 rounds\n",
      "Early stopping, best iteration is:\n",
      "[52]\ttraining's mape: 0.106433\ttraining's rmse: 85.816\tvalid_1's mape: 0.414348\tvalid_1's rmse: 647.954\n",
      "Training until validation scores don't improve for 100 rounds\n",
      "Early stopping, best iteration is:\n",
      "[52]\ttraining's mape: 0.0896187\ttraining's rmse: 75.3635\tvalid_1's mape: 0.41196\tvalid_1's rmse: 643.414\n"
     ]
    },
    {
     "name": "stderr",
     "output_type": "stream",
     "text": [
      "[I 2023-08-14 15:52:41,112] Trial 300 finished with value: 26.89217201716915 and parameters: {'learning_rate': 0.09196174840657925, 'n_estimators': 936, 'max_depth': 18, 'num_leaves': 45, 'colsample_bytree': 0.34313950009615957, 'subsample': 0.42696181613780365, 'subsample_freq': 5, 'min_child_samples': 22}. Best is trial 269 with value: 26.460709157671946.\n",
      "[I 2023-08-14 15:52:41,273] Trial 301 finished with value: 27.23602768218812 and parameters: {'learning_rate': 0.07565416932736224, 'n_estimators': 786, 'max_depth': 26, 'num_leaves': 82, 'colsample_bytree': 0.32769129828720844, 'subsample': 0.6654865608818451, 'subsample_freq': 4, 'min_child_samples': 21}. Best is trial 269 with value: 26.460709157671946.\n"
     ]
    },
    {
     "name": "stdout",
     "output_type": "stream",
     "text": [
      "Training until validation scores don't improve for 100 rounds\n",
      "Early stopping, best iteration is:\n",
      "[55]\ttraining's mape: 0.0931104\ttraining's rmse: 76.3469\tvalid_1's mape: 0.417194\tvalid_1's rmse: 651.314\n",
      "Training until validation scores don't improve for 100 rounds\n",
      "Early stopping, best iteration is:\n",
      "[53]\ttraining's mape: 0.103476\ttraining's rmse: 84.4874\tvalid_1's mape: 0.409464\tvalid_1's rmse: 640.429\n"
     ]
    },
    {
     "name": "stderr",
     "output_type": "stream",
     "text": [
      "[I 2023-08-14 15:52:41,406] Trial 302 finished with value: 26.592137321348797 and parameters: {'learning_rate': 0.07694761472496602, 'n_estimators': 815, 'max_depth': 27, 'num_leaves': 90, 'colsample_bytree': 0.3356196392543518, 'subsample': 0.3430012969928629, 'subsample_freq': 5, 'min_child_samples': 18}. Best is trial 269 with value: 26.460709157671946.\n",
      "[I 2023-08-14 15:52:41,541] Trial 303 finished with value: 26.68106631237911 and parameters: {'learning_rate': 0.07741053001721666, 'n_estimators': 814, 'max_depth': 27, 'num_leaves': 94, 'colsample_bytree': 0.34126917192161277, 'subsample': 0.34675067238924673, 'subsample_freq': 5, 'min_child_samples': 18}. Best is trial 269 with value: 26.460709157671946.\n"
     ]
    },
    {
     "name": "stdout",
     "output_type": "stream",
     "text": [
      "Training until validation scores don't improve for 100 rounds\n",
      "Early stopping, best iteration is:\n",
      "[56]\ttraining's mape: 0.0986213\ttraining's rmse: 81.189\tvalid_1's mape: 0.410369\tvalid_1's rmse: 641.679\n",
      "Training until validation scores don't improve for 100 rounds\n",
      "Early stopping, best iteration is:\n",
      "[6]\ttraining's mape: 0.337455\ttraining's rmse: 234.415\tvalid_1's mape: 0.43623\tvalid_1's rmse: 710.122\n"
     ]
    },
    {
     "name": "stderr",
     "output_type": "stream",
     "text": [
      "[I 2023-08-14 15:52:41,674] Trial 304 finished with value: 28.1591282260521 and parameters: {'learning_rate': 0.07683320686259537, 'n_estimators': 799, 'max_depth': 26, 'num_leaves': 89, 'colsample_bytree': 0.3552475964998582, 'subsample': 0.33024956625475604, 'subsample_freq': 5, 'min_child_samples': 17}. Best is trial 269 with value: 26.460709157671946.\n",
      "[I 2023-08-14 15:52:41,805] Trial 305 finished with value: 28.193441263011454 and parameters: {'learning_rate': 0.07515528247033884, 'n_estimators': 825, 'max_depth': 27, 'num_leaves': 91, 'colsample_bytree': 0.21618717677074256, 'subsample': 0.3534973366257937, 'subsample_freq': 5, 'min_child_samples': 18}. Best is trial 269 with value: 26.460709157671946.\n",
      "[I 2023-08-14 15:52:41,935] Trial 306 finished with value: 27.031328069066802 and parameters: {'learning_rate': 0.0783434225874454, 'n_estimators': 792, 'max_depth': 27, 'num_leaves': 127, 'colsample_bytree': 0.2959564665214133, 'subsample': 0.36462899076248345, 'subsample_freq': 6, 'min_child_samples': 19}. Best is trial 269 with value: 26.460709157671946.\n"
     ]
    },
    {
     "name": "stdout",
     "output_type": "stream",
     "text": [
      "Training until validation scores don't improve for 100 rounds\n",
      "Early stopping, best iteration is:\n",
      "[87]\ttraining's mape: 0.103782\ttraining's rmse: 86.4404\tvalid_1's mape: 0.429584\tvalid_1's rmse: 668.005\n",
      "Training until validation scores don't improve for 100 rounds\n",
      "Early stopping, best iteration is:\n",
      "[55]\ttraining's mape: 0.0986501\ttraining's rmse: 81.567\tvalid_1's mape: 0.414324\tvalid_1's rmse: 646.243\n"
     ]
    },
    {
     "name": "stderr",
     "output_type": "stream",
     "text": [
      "[I 2023-08-14 15:52:42,079] Trial 307 finished with value: 26.948409984106974 and parameters: {'learning_rate': 0.08232479744189926, 'n_estimators': 758, 'max_depth': 26, 'num_leaves': 84, 'colsample_bytree': 0.3090065880358222, 'subsample': 0.3328753552676237, 'subsample_freq': 5, 'min_child_samples': 16}. Best is trial 269 with value: 26.460709157671946.\n"
     ]
    },
    {
     "name": "stdout",
     "output_type": "stream",
     "text": [
      "Training until validation scores don't improve for 100 rounds\n",
      "Early stopping, best iteration is:\n",
      "[83]\ttraining's mape: 0.0741027\ttraining's rmse: 64.5323\tvalid_1's mape: 0.412041\tvalid_1's rmse: 641.562\n",
      "Training until validation scores don't improve for 100 rounds\n",
      "Early stopping, best iteration is:\n",
      "[52]\ttraining's mape: 0.10405\ttraining's rmse: 84.9304\tvalid_1's mape: 0.40991\tvalid_1's rmse: 641.298\n"
     ]
    },
    {
     "name": "stderr",
     "output_type": "stream",
     "text": [
      "[I 2023-08-14 15:52:42,201] Trial 308 finished with value: 26.608712096661186 and parameters: {'learning_rate': 0.07625883933434031, 'n_estimators': 816, 'max_depth': 26, 'num_leaves': 75, 'colsample_bytree': 0.27657314192556914, 'subsample': 0.3750965742445532, 'subsample_freq': 5, 'min_child_samples': 19}. Best is trial 269 with value: 26.460709157671946.\n",
      "[I 2023-08-14 15:52:42,352] Trial 309 finished with value: 26.525514348719753 and parameters: {'learning_rate': 0.07614941221177803, 'n_estimators': 815, 'max_depth': 26, 'num_leaves': 89, 'colsample_bytree': 0.28317317380883067, 'subsample': 0.37623648026982776, 'subsample_freq': 5, 'min_child_samples': 19}. Best is trial 269 with value: 26.460709157671946.\n"
     ]
    },
    {
     "name": "stdout",
     "output_type": "stream",
     "text": [
      "Training until validation scores don't improve for 100 rounds\n",
      "Early stopping, best iteration is:\n",
      "[53]\ttraining's mape: 0.102319\ttraining's rmse: 83.9413\tvalid_1's mape: 0.408982\tvalid_1's rmse: 639.604\n",
      "Training until validation scores don't improve for 100 rounds\n",
      "Early stopping, best iteration is:\n",
      "[55]\ttraining's mape: 0.0925277\ttraining's rmse: 76.1684\tvalid_1's mape: 0.415721\tvalid_1's rmse: 649.181\n"
     ]
    },
    {
     "name": "stderr",
     "output_type": "stream",
     "text": [
      "[I 2023-08-14 15:52:42,495] Trial 310 finished with value: 27.116389174719835 and parameters: {'learning_rate': 0.07676670671719019, 'n_estimators': 811, 'max_depth': 26, 'num_leaves': 88, 'colsample_bytree': 0.2785018981110728, 'subsample': 0.5603310196462619, 'subsample_freq': 5, 'min_child_samples': 18}. Best is trial 269 with value: 26.460709157671946.\n",
      "[I 2023-08-14 15:52:42,640] Trial 311 finished with value: 26.765668387292035 and parameters: {'learning_rate': 0.0760561161113303, 'n_estimators': 839, 'max_depth': 24, 'num_leaves': 86, 'colsample_bytree': 0.3356275736833611, 'subsample': 0.40839387581696607, 'subsample_freq': 5, 'min_child_samples': 17}. Best is trial 269 with value: 26.460709157671946.\n"
     ]
    },
    {
     "name": "stdout",
     "output_type": "stream",
     "text": [
      "Training until validation scores don't improve for 100 rounds\n",
      "Early stopping, best iteration is:\n",
      "[52]\ttraining's mape: 0.10161\ttraining's rmse: 82.4809\tvalid_1's mape: 0.411848\tvalid_1's rmse: 643.074\n",
      "Training until validation scores don't improve for 100 rounds\n",
      "Early stopping, best iteration is:\n",
      "[55]\ttraining's mape: 0.0985056\ttraining's rmse: 81.2551\tvalid_1's mape: 0.414744\tvalid_1's rmse: 647.275\n"
     ]
    },
    {
     "name": "stderr",
     "output_type": "stream",
     "text": [
      "[I 2023-08-14 15:52:42,792] Trial 312 finished with value: 27.014675324627273 and parameters: {'learning_rate': 0.07427534140110713, 'n_estimators': 823, 'max_depth': 25, 'num_leaves': 94, 'colsample_bytree': 0.2862832436422356, 'subsample': 0.455474578059681, 'subsample_freq': 6, 'min_child_samples': 19}. Best is trial 269 with value: 26.460709157671946.\n",
      "[I 2023-08-14 15:52:42,925] Trial 313 finished with value: 26.594262618624665 and parameters: {'learning_rate': 0.07559875836775072, 'n_estimators': 127, 'max_depth': 25, 'num_leaves': 82, 'colsample_bytree': 0.26867247928395604, 'subsample': 0.3927245342437251, 'subsample_freq': 5, 'min_child_samples': 18}. Best is trial 269 with value: 26.460709157671946.\n"
     ]
    },
    {
     "name": "stdout",
     "output_type": "stream",
     "text": [
      "Training until validation scores don't improve for 100 rounds\n",
      "Did not meet early stopping. Best iteration is:\n",
      "[55]\ttraining's mape: 0.0993559\ttraining's rmse: 81.5985\tvalid_1's mape: 0.409473\tvalid_1's rmse: 640.171\n",
      "Training until validation scores don't improve for 100 rounds\n",
      "Early stopping, best iteration is:\n",
      "[52]\ttraining's mape: 0.101043\ttraining's rmse: 82.299\tvalid_1's mape: 0.411929\tvalid_1's rmse: 643.372\n"
     ]
    },
    {
     "name": "stderr",
     "output_type": "stream",
     "text": [
      "[I 2023-08-14 15:52:43,070] Trial 314 finished with value: 26.769113447720116 and parameters: {'learning_rate': 0.07732764149736275, 'n_estimators': 848, 'max_depth': 25, 'num_leaves': 78, 'colsample_bytree': 0.26771762359163626, 'subsample': 0.4160721723247736, 'subsample_freq': 5, 'min_child_samples': 18}. Best is trial 269 with value: 26.460709157671946.\n",
      "[I 2023-08-14 15:52:43,208] Trial 315 finished with value: 27.21640967038102 and parameters: {'learning_rate': 0.07632543155166084, 'n_estimators': 177, 'max_depth': 25, 'num_leaves': 80, 'colsample_bytree': 0.2758639574045465, 'subsample': 0.37268550657619126, 'subsample_freq': 4, 'min_child_samples': 19}. Best is trial 269 with value: 26.460709157671946.\n"
     ]
    },
    {
     "name": "stdout",
     "output_type": "stream",
     "text": [
      "Training until validation scores don't improve for 100 rounds\n",
      "Early stopping, best iteration is:\n",
      "[55]\ttraining's mape: 0.0991977\ttraining's rmse: 81.4481\tvalid_1's mape: 0.416593\tvalid_1's rmse: 650.084\n",
      "Training until validation scores don't improve for 100 rounds\n",
      "Early stopping, best iteration is:\n",
      "[52]\ttraining's mape: 0.100311\ttraining's rmse: 82.1743\tvalid_1's mape: 0.410958\tvalid_1's rmse: 642.214\n"
     ]
    },
    {
     "name": "stderr",
     "output_type": "stream",
     "text": [
      "[I 2023-08-14 15:52:43,351] Trial 316 finished with value: 26.706999140670128 and parameters: {'learning_rate': 0.07895045921233616, 'n_estimators': 978, 'max_depth': 26, 'num_leaves': 99, 'colsample_bytree': 0.26857021416714055, 'subsample': 0.3994400483160202, 'subsample_freq': 5, 'min_child_samples': 18}. Best is trial 269 with value: 26.460709157671946.\n",
      "[I 2023-08-14 15:52:43,552] Trial 317 finished with value: 26.994977082887182 and parameters: {'learning_rate': 0.0952568566863698, 'n_estimators': 829, 'max_depth': 24, 'num_leaves': 82, 'colsample_bytree': 0.27710628189681347, 'subsample': 0.8285855457978242, 'subsample_freq': 5, 'min_child_samples': 19}. Best is trial 269 with value: 26.460709157671946.\n"
     ]
    },
    {
     "name": "stdout",
     "output_type": "stream",
     "text": [
      "Training until validation scores don't improve for 100 rounds\n",
      "Early stopping, best iteration is:\n",
      "[55]\ttraining's mape: 0.0715059\ttraining's rmse: 60.9962\tvalid_1's mape: 0.413484\tvalid_1's rmse: 644.664\n",
      "Training until validation scores don't improve for 100 rounds\n"
     ]
    },
    {
     "name": "stderr",
     "output_type": "stream",
     "text": [
      "[I 2023-08-14 15:52:43,695] Trial 318 finished with value: 26.82037091477457 and parameters: {'learning_rate': 0.07577900104667792, 'n_estimators': 125, 'max_depth': 25, 'num_leaves': 90, 'colsample_bytree': 0.3230481668644486, 'subsample': 0.3608172439358221, 'subsample_freq': 5, 'min_child_samples': 20}. Best is trial 269 with value: 26.460709157671946.\n",
      "[I 2023-08-14 15:52:43,843] Trial 319 finished with value: 28.81562941646536 and parameters: {'learning_rate': 0.07401974425563132, 'n_estimators': 815, 'max_depth': 26, 'num_leaves': 86, 'colsample_bytree': 0.3510622417040419, 'subsample': 0.42987908971528116, 'subsample_freq': 5, 'min_child_samples': 28}. Best is trial 269 with value: 26.460709157671946.\n"
     ]
    },
    {
     "name": "stdout",
     "output_type": "stream",
     "text": [
      "Did not meet early stopping. Best iteration is:\n",
      "[52]\ttraining's mape: 0.106443\ttraining's rmse: 86.2566\tvalid_1's mape: 0.412491\tvalid_1's rmse: 645.243\n",
      "Training until validation scores don't improve for 100 rounds\n",
      "Early stopping, best iteration is:\n",
      "[83]\ttraining's mape: 0.0658847\ttraining's rmse: 60.5652\tvalid_1's mape: 0.433577\tvalid_1's rmse: 672.503\n"
     ]
    },
    {
     "name": "stderr",
     "output_type": "stream",
     "text": [
      "[I 2023-08-14 15:52:43,986] Trial 320 finished with value: 26.749389846566906 and parameters: {'learning_rate': 0.09997348764106806, 'n_estimators': 867, 'max_depth': 24, 'num_leaves': 73, 'colsample_bytree': 0.27149726534798824, 'subsample': 0.38963254458338636, 'subsample_freq': 5, 'min_child_samples': 18}. Best is trial 269 with value: 26.460709157671946.\n"
     ]
    },
    {
     "name": "stdout",
     "output_type": "stream",
     "text": [
      "Training until validation scores don't improve for 100 rounds\n",
      "Early stopping, best iteration is:\n",
      "[52]\ttraining's mape: 0.0846202\ttraining's rmse: 73.1149\tvalid_1's mape: 0.410198\tvalid_1's rmse: 639.823\n",
      "Training until validation scores don't improve for 100 rounds\n",
      "Early stopping, best iteration is:\n",
      "[43]\ttraining's mape: 0.100459\ttraining's rmse: 78.7583\tvalid_1's mape: 0.432882\tvalid_1's rmse: 673.411\n"
     ]
    },
    {
     "name": "stderr",
     "output_type": "stream",
     "text": [
      "[I 2023-08-14 15:52:44,153] Trial 321 finished with value: 28.438114068942745 and parameters: {'learning_rate': 0.06266201109964024, 'n_estimators': 804, 'max_depth': 26, 'num_leaves': 99, 'colsample_bytree': 0.3736910801721204, 'subsample': 0.7215239466510481, 'subsample_freq': 7, 'min_child_samples': 19}. Best is trial 269 with value: 26.460709157671946.\n",
      "[I 2023-08-14 15:52:44,309] Trial 322 finished with value: 26.93644382916694 and parameters: {'learning_rate': 0.07770858261709958, 'n_estimators': 846, 'max_depth': 25, 'num_leaves': 84, 'colsample_bytree': 0.2808977818423254, 'subsample': 0.5349851489839332, 'subsample_freq': 5, 'min_child_samples': 19}. Best is trial 269 with value: 26.460709157671946.\n"
     ]
    },
    {
     "name": "stdout",
     "output_type": "stream",
     "text": [
      "Training until validation scores don't improve for 100 rounds\n",
      "Early stopping, best iteration is:\n",
      "[55]\ttraining's mape: 0.0927982\ttraining's rmse: 76.8145\tvalid_1's mape: 0.413457\tvalid_1's rmse: 645.405\n",
      "Training until validation scores don't improve for 100 rounds\n",
      "Early stopping, best iteration is:\n",
      "[55]\ttraining's mape: 0.102024\ttraining's rmse: 83.7902\tvalid_1's mape: 0.410946\tvalid_1's rmse: 642.673\n"
     ]
    },
    {
     "name": "stderr",
     "output_type": "stream",
     "text": [
      "[I 2023-08-14 15:52:44,444] Trial 323 finished with value: 26.72826429628926 and parameters: {'learning_rate': 0.0753588628647379, 'n_estimators': 840, 'max_depth': 26, 'num_leaves': 73, 'colsample_bytree': 0.31949499160830636, 'subsample': 0.3414701837104172, 'subsample_freq': 5, 'min_child_samples': 18}. Best is trial 269 with value: 26.460709157671946.\n",
      "[I 2023-08-14 15:52:44,623] Trial 324 finished with value: 26.830301468614742 and parameters: {'learning_rate': 0.05909868533811133, 'n_estimators': 902, 'max_depth': 26, 'num_leaves': 88, 'colsample_bytree': 0.33948227125479313, 'subsample': 0.5917097971831365, 'subsample_freq': 3, 'min_child_samples': 20}. Best is trial 269 with value: 26.460709157671946.\n"
     ]
    },
    {
     "name": "stdout",
     "output_type": "stream",
     "text": [
      "Training until validation scores don't improve for 100 rounds\n",
      "Early stopping, best iteration is:\n",
      "[52]\ttraining's mape: 0.123804\ttraining's rmse: 94.6652\tvalid_1's mape: 0.414204\tvalid_1's rmse: 649.038\n",
      "Training until validation scores don't improve for 100 rounds\n",
      "Early stopping, best iteration is:\n",
      "[52]\ttraining's mape: 0.100047\ttraining's rmse: 82.218\tvalid_1's mape: 0.410153\tvalid_1's rmse: 641.245\n"
     ]
    },
    {
     "name": "stderr",
     "output_type": "stream",
     "text": [
      "[I 2023-08-14 15:52:44,776] Trial 325 finished with value: 26.654609831870633 and parameters: {'learning_rate': 0.07981327528129077, 'n_estimators': 818, 'max_depth': 27, 'num_leaves': 75, 'colsample_bytree': 0.2888953529760146, 'subsample': 0.37416443993573784, 'subsample_freq': 5, 'min_child_samples': 18}. Best is trial 269 with value: 26.460709157671946.\n",
      "[I 2023-08-14 15:52:44,928] Trial 326 finished with value: 26.685580816705194 and parameters: {'learning_rate': 0.07330489353346879, 'n_estimators': 161, 'max_depth': 27, 'num_leaves': 79, 'colsample_bytree': 0.3280987625791356, 'subsample': 0.40260779715943606, 'subsample_freq': 5, 'min_child_samples': 19}. Best is trial 269 with value: 26.460709157671946.\n"
     ]
    },
    {
     "name": "stdout",
     "output_type": "stream",
     "text": [
      "Training until validation scores don't improve for 100 rounds\n",
      "Early stopping, best iteration is:\n",
      "[53]\ttraining's mape: 0.105263\ttraining's rmse: 85.3005\tvalid_1's mape: 0.410807\tvalid_1's rmse: 642.218\n",
      "Training until validation scores don't improve for 100 rounds\n",
      "Early stopping, best iteration is:\n",
      "[40]\ttraining's mape: 0.0985668\ttraining's rmse: 80.267\tvalid_1's mape: 0.430491\tvalid_1's rmse: 670.386\n"
     ]
    },
    {
     "name": "stderr",
     "output_type": "stream",
     "text": [
      "[I 2023-08-14 15:52:45,068] Trial 327 finished with value: 28.30478709741956 and parameters: {'learning_rate': 0.07654396655933358, 'n_estimators': 220, 'max_depth': 28, 'num_leaves': 94, 'colsample_bytree': 0.3618524207709293, 'subsample': 0.3818660730427867, 'subsample_freq': 4, 'min_child_samples': 20}. Best is trial 269 with value: 26.460709157671946.\n",
      "[I 2023-08-14 15:52:45,221] Trial 328 finished with value: 28.603152126702852 and parameters: {'learning_rate': 0.07251974582215685, 'n_estimators': 796, 'max_depth': 25, 'num_leaves': 105, 'colsample_bytree': 0.36771302304235365, 'subsample': 0.4388781378449067, 'subsample_freq': 6, 'min_child_samples': 17}. Best is trial 269 with value: 26.460709157671946.\n"
     ]
    },
    {
     "name": "stdout",
     "output_type": "stream",
     "text": [
      "Training until validation scores don't improve for 100 rounds\n",
      "Early stopping, best iteration is:\n",
      "[51]\ttraining's mape: 0.0836126\ttraining's rmse: 70.998\tvalid_1's mape: 0.433351\tvalid_1's rmse: 672.787\n",
      "Training until validation scores don't improve for 100 rounds\n"
     ]
    },
    {
     "name": "stderr",
     "output_type": "stream",
     "text": [
      "[I 2023-08-14 15:52:45,385] Trial 329 finished with value: 27.143180986063403 and parameters: {'learning_rate': 0.056550844149450545, 'n_estimators': 855, 'max_depth': 26, 'num_leaves': 37, 'colsample_bytree': 0.3483026434281303, 'subsample': 0.5477850155215089, 'subsample_freq': 5, 'min_child_samples': 19}. Best is trial 269 with value: 26.460709157671946.\n",
      "[I 2023-08-14 15:52:45,553] Trial 330 finished with value: 26.87013878869272 and parameters: {'learning_rate': 0.07497657264263125, 'n_estimators': 878, 'max_depth': 27, 'num_leaves': 83, 'colsample_bytree': 0.3336442219706776, 'subsample': 0.6334994650864952, 'subsample_freq': 5, 'min_child_samples': 18}. Best is trial 269 with value: 26.460709157671946.\n"
     ]
    },
    {
     "name": "stdout",
     "output_type": "stream",
     "text": [
      "Early stopping, best iteration is:\n",
      "[86]\ttraining's mape: 0.0862813\ttraining's rmse: 72.0718\tvalid_1's mape: 0.415868\tvalid_1's rmse: 648.858\n",
      "Training until validation scores don't improve for 100 rounds\n",
      "Early stopping, best iteration is:\n",
      "[55]\ttraining's mape: 0.0920622\ttraining's rmse: 75.5543\tvalid_1's mape: 0.413087\tvalid_1's rmse: 644.837\n"
     ]
    },
    {
     "name": "stderr",
     "output_type": "stream",
     "text": [
      "[I 2023-08-14 15:52:45,705] Trial 331 finished with value: 28.032005109110656 and parameters: {'learning_rate': 0.07419462553230817, 'n_estimators': 152, 'max_depth': 28, 'num_leaves': 45, 'colsample_bytree': 0.4574268067499388, 'subsample': 0.41292218310585904, 'subsample_freq': 1, 'min_child_samples': 20}. Best is trial 269 with value: 26.460709157671946.\n"
     ]
    },
    {
     "name": "stdout",
     "output_type": "stream",
     "text": [
      "Training until validation scores don't improve for 100 rounds\n",
      "Did not meet early stopping. Best iteration is:\n",
      "[53]\ttraining's mape: 0.0682754\ttraining's rmse: 60.6221\tvalid_1's mape: 0.424089\tvalid_1's rmse: 660.266\n",
      "Training until validation scores don't improve for 100 rounds\n",
      "Early stopping, best iteration is:\n",
      "[52]\ttraining's mape: 0.108126\ttraining's rmse: 86.9762\tvalid_1's mape: 0.410012\tvalid_1's rmse: 641.393\n"
     ]
    },
    {
     "name": "stderr",
     "output_type": "stream",
     "text": [
      "[I 2023-08-14 15:52:45,845] Trial 332 finished with value: 26.58034581211061 and parameters: {'learning_rate': 0.07214426097136624, 'n_estimators': 830, 'max_depth': 27, 'num_leaves': 32, 'colsample_bytree': 0.28354917677155445, 'subsample': 0.39531711778341005, 'subsample_freq': 5, 'min_child_samples': 18}. Best is trial 269 with value: 26.460709157671946.\n",
      "[I 2023-08-14 15:52:45,991] Trial 333 finished with value: 26.7372805969669 and parameters: {'learning_rate': 0.07229360640241114, 'n_estimators': 841, 'max_depth': 27, 'num_leaves': 27, 'colsample_bytree': 0.31497007206821265, 'subsample': 0.39681311187712515, 'subsample_freq': 5, 'min_child_samples': 17}. Best is trial 269 with value: 26.460709157671946.\n"
     ]
    },
    {
     "name": "stdout",
     "output_type": "stream",
     "text": [
      "Training until validation scores don't improve for 100 rounds\n",
      "Early stopping, best iteration is:\n",
      "[55]\ttraining's mape: 0.102112\ttraining's rmse: 83.3149\tvalid_1's mape: 0.411493\tvalid_1's rmse: 642.412\n",
      "Training until validation scores don't improve for 100 rounds\n",
      "Early stopping, best iteration is:\n",
      "[52]\ttraining's mape: 0.10412\ttraining's rmse: 84.1208\tvalid_1's mape: 0.412317\tvalid_1's rmse: 643.943\n"
     ]
    },
    {
     "name": "stderr",
     "output_type": "stream",
     "text": [
      "[I 2023-08-14 15:52:46,146] Trial 334 finished with value: 26.77364335585516 and parameters: {'learning_rate': 0.07336897334311496, 'n_estimators': 864, 'max_depth': 28, 'num_leaves': 118, 'colsample_bytree': 0.2849647624547866, 'subsample': 0.4223006847392021, 'subsample_freq': 5, 'min_child_samples': 17}. Best is trial 269 with value: 26.460709157671946.\n",
      "[I 2023-08-14 15:52:46,297] Trial 335 finished with value: 26.94653153883278 and parameters: {'learning_rate': 0.07157500213661941, 'n_estimators': 912, 'max_depth': 27, 'num_leaves': 35, 'colsample_bytree': 0.2927215638145344, 'subsample': 0.38944024543212225, 'subsample_freq': 6, 'min_child_samples': 18}. Best is trial 269 with value: 26.460709157671946.\n"
     ]
    },
    {
     "name": "stdout",
     "output_type": "stream",
     "text": [
      "Training until validation scores don't improve for 100 rounds\n",
      "Early stopping, best iteration is:\n",
      "[57]\ttraining's mape: 0.10196\ttraining's rmse: 83.1528\tvalid_1's mape: 0.413751\tvalid_1's rmse: 645.723\n",
      "Training until validation scores don't improve for 100 rounds\n",
      "Early stopping, best iteration is:\n",
      "[52]\ttraining's mape: 0.120347\ttraining's rmse: 94.0667\tvalid_1's mape: 0.413962\tvalid_1's rmse: 647.626\n"
     ]
    },
    {
     "name": "stderr",
     "output_type": "stream",
     "text": [
      "[I 2023-08-14 15:52:46,431] Trial 336 finished with value: 26.85143817829746 and parameters: {'learning_rate': 0.06354658965781218, 'n_estimators': 838, 'max_depth': 28, 'num_leaves': 25, 'colsample_bytree': 0.32426119509014495, 'subsample': 0.4076998701155919, 'subsample_freq': 5, 'min_child_samples': 18}. Best is trial 269 with value: 26.460709157671946.\n",
      "[I 2023-08-14 15:52:46,611] Trial 337 finished with value: 27.024625441543936 and parameters: {'learning_rate': 0.07265018631286141, 'n_estimators': 800, 'max_depth': 27, 'num_leaves': 243, 'colsample_bytree': 0.3095792471025356, 'subsample': 0.517278846489277, 'subsample_freq': 4, 'min_child_samples': 15}. Best is trial 269 with value: 26.460709157671946.\n"
     ]
    },
    {
     "name": "stdout",
     "output_type": "stream",
     "text": [
      "Training until validation scores don't improve for 100 rounds\n",
      "Early stopping, best iteration is:\n",
      "[52]\ttraining's mape: 0.101209\ttraining's rmse: 80.789\tvalid_1's mape: 0.4154\tvalid_1's rmse: 648.358\n",
      "Training until validation scores don't improve for 100 rounds\n"
     ]
    },
    {
     "name": "stderr",
     "output_type": "stream",
     "text": [
      "[I 2023-08-14 15:52:46,760] Trial 338 finished with value: 26.774400536206542 and parameters: {'learning_rate': 0.0718777699013563, 'n_estimators': 823, 'max_depth': 25, 'num_leaves': 32, 'colsample_bytree': 0.30213728125365724, 'subsample': 0.4693826906460816, 'subsample_freq': 5, 'min_child_samples': 18}. Best is trial 269 with value: 26.460709157671946.\n",
      "[I 2023-08-14 15:52:46,889] Trial 339 finished with value: 28.285216753722004 and parameters: {'learning_rate': 0.055269875663893506, 'n_estimators': 806, 'max_depth': 28, 'num_leaves': 30, 'colsample_bytree': 0.37971118530339765, 'subsample': 0.3195460492380702, 'subsample_freq': 5, 'min_child_samples': 17}. Best is trial 269 with value: 26.460709157671946.\n"
     ]
    },
    {
     "name": "stdout",
     "output_type": "stream",
     "text": [
      "Early stopping, best iteration is:\n",
      "[52]\ttraining's mape: 0.106068\ttraining's rmse: 85.0803\tvalid_1's mape: 0.412384\tvalid_1's rmse: 644.507\n",
      "Training until validation scores don't improve for 100 rounds\n",
      "Early stopping, best iteration is:\n",
      "[45]\ttraining's mape: 0.123025\ttraining's rmse: 94.6144\tvalid_1's mape: 0.43219\tvalid_1's rmse: 673.298\n"
     ]
    },
    {
     "name": "stderr",
     "output_type": "stream",
     "text": [
      "[I 2023-08-14 15:52:47,047] Trial 340 finished with value: 28.74396551148789 and parameters: {'learning_rate': 0.05981144894544064, 'n_estimators': 859, 'max_depth': 26, 'num_leaves': 41, 'colsample_bytree': 0.4103473879178146, 'subsample': 0.3574007501652692, 'subsample_freq': 5, 'min_child_samples': 19}. Best is trial 269 with value: 26.460709157671946.\n"
     ]
    },
    {
     "name": "stdout",
     "output_type": "stream",
     "text": [
      "Training until validation scores don't improve for 100 rounds\n",
      "Early stopping, best iteration is:\n",
      "[83]\ttraining's mape: 0.072459\ttraining's rmse: 64.4244\tvalid_1's mape: 0.43351\tvalid_1's rmse: 672.959\n",
      "Training until validation scores don't improve for 100 rounds\n",
      "Early stopping, best iteration is:\n",
      "[52]\ttraining's mape: 0.114773\ttraining's rmse: 91.3293\tvalid_1's mape: 0.412345\tvalid_1's rmse: 645.567\n"
     ]
    },
    {
     "name": "stderr",
     "output_type": "stream",
     "text": [
      "[I 2023-08-14 15:52:47,175] Trial 341 finished with value: 26.78014023193251 and parameters: {'learning_rate': 0.07340540984823238, 'n_estimators': 882, 'max_depth': 27, 'num_leaves': 145, 'colsample_bytree': 0.33971004203077365, 'subsample': 0.3926465485849897, 'subsample_freq': 5, 'min_child_samples': 30}. Best is trial 269 with value: 26.460709157671946.\n",
      "[I 2023-08-14 15:52:47,329] Trial 342 finished with value: 28.2685887383017 and parameters: {'learning_rate': 0.07468941395784011, 'n_estimators': 821, 'max_depth': 29, 'num_leaves': 102, 'colsample_bytree': 0.22741303141560218, 'subsample': 0.3683669792250222, 'subsample_freq': 5, 'min_child_samples': 16}. Best is trial 269 with value: 26.460709157671946.\n"
     ]
    },
    {
     "name": "stdout",
     "output_type": "stream",
     "text": [
      "Training until validation scores don't improve for 100 rounds\n",
      "Early stopping, best iteration is:\n",
      "[90]\ttraining's mape: 0.0999415\ttraining's rmse: 83.438\tvalid_1's mape: 0.430296\tvalid_1's rmse: 669.473\n",
      "Training until validation scores don't improve for 100 rounds\n"
     ]
    },
    {
     "name": "stderr",
     "output_type": "stream",
     "text": [
      "[I 2023-08-14 15:52:47,482] Trial 343 finished with value: 26.89189570872085 and parameters: {'learning_rate': 0.08705423645419269, 'n_estimators': 783, 'max_depth': 28, 'num_leaves': 36, 'colsample_bytree': 0.3175967930113759, 'subsample': 0.44207929277628316, 'subsample_freq': 5, 'min_child_samples': 20}. Best is trial 269 with value: 26.460709157671946.\n",
      "[I 2023-08-14 15:52:47,636] Trial 344 finished with value: 26.919595919412515 and parameters: {'learning_rate': 0.07803000382067662, 'n_estimators': 846, 'max_depth': 26, 'num_leaves': 54, 'colsample_bytree': 0.29898082885847954, 'subsample': 0.6046882684938484, 'subsample_freq': 5, 'min_child_samples': 19}. Best is trial 269 with value: 26.460709157671946.\n"
     ]
    },
    {
     "name": "stdout",
     "output_type": "stream",
     "text": [
      "Early stopping, best iteration is:\n",
      "[52]\ttraining's mape: 0.0924367\ttraining's rmse: 77.3346\tvalid_1's mape: 0.412593\tvalid_1's rmse: 643.999\n",
      "Training until validation scores don't improve for 100 rounds\n",
      "Early stopping, best iteration is:\n",
      "[55]\ttraining's mape: 0.0906366\ttraining's rmse: 74.8953\tvalid_1's mape: 0.413225\tvalid_1's rmse: 645.025\n"
     ]
    },
    {
     "name": "stderr",
     "output_type": "stream",
     "text": [
      "[I 2023-08-14 15:52:47,773] Trial 345 finished with value: 26.604617402884195 and parameters: {'learning_rate': 0.08912995147575771, 'n_estimators': 411, 'max_depth': 21, 'num_leaves': 44, 'colsample_bytree': 0.28571793392275746, 'subsample': 0.38123309409479234, 'subsample_freq': 5, 'min_child_samples': 18}. Best is trial 269 with value: 26.460709157671946.\n"
     ]
    },
    {
     "name": "stdout",
     "output_type": "stream",
     "text": [
      "Training until validation scores don't improve for 100 rounds\n",
      "Early stopping, best iteration is:\n",
      "[52]\ttraining's mape: 0.091817\ttraining's rmse: 76.9096\tvalid_1's mape: 0.409188\tvalid_1's rmse: 639.576\n",
      "Training until validation scores don't improve for 100 rounds\n",
      "Early stopping, best iteration is:\n",
      "[53]\ttraining's mape: 0.0922881\ttraining's rmse: 77.53\tvalid_1's mape: 0.409544\tvalid_1's rmse: 640.626\n"
     ]
    },
    {
     "name": "stderr",
     "output_type": "stream",
     "text": [
      "[I 2023-08-14 15:52:47,923] Trial 346 finished with value: 26.669881915122097 and parameters: {'learning_rate': 0.09040735922635722, 'n_estimators': 408, 'max_depth': 16, 'num_leaves': 48, 'colsample_bytree': 0.2696046127181424, 'subsample': 0.344884134833735, 'subsample_freq': 5, 'min_child_samples': 18}. Best is trial 269 with value: 26.460709157671946.\n",
      "[I 2023-08-14 15:52:48,075] Trial 347 finished with value: 27.0805450138479 and parameters: {'learning_rate': 0.08783495938411655, 'n_estimators': 415, 'max_depth': 21, 'num_leaves': 43, 'colsample_bytree': 0.2815054653641551, 'subsample': 0.4074535784913082, 'subsample_freq': 6, 'min_child_samples': 17}. Best is trial 269 with value: 26.460709157671946.\n"
     ]
    },
    {
     "name": "stdout",
     "output_type": "stream",
     "text": [
      "Training until validation scores don't improve for 100 rounds\n",
      "Early stopping, best iteration is:\n",
      "[55]\ttraining's mape: 0.0871383\ttraining's rmse: 74.0365\tvalid_1's mape: 0.414549\tvalid_1's rmse: 646.029\n",
      "Training until validation scores don't improve for 100 rounds\n",
      "Early stopping, best iteration is:\n",
      "[55]\ttraining's mape: 0.0844109\ttraining's rmse: 71.7108\tvalid_1's mape: 0.414017\tvalid_1's rmse: 645.627\n"
     ]
    },
    {
     "name": "stderr",
     "output_type": "stream",
     "text": [
      "[I 2023-08-14 15:52:48,237] Trial 348 finished with value: 27.05090378874954 and parameters: {'learning_rate': 0.09082174817406202, 'n_estimators': 459, 'max_depth': 20, 'num_leaves': 56, 'colsample_bytree': 0.28871182802542933, 'subsample': 0.494223901469718, 'subsample_freq': 5, 'min_child_samples': 20}. Best is trial 269 with value: 26.460709157671946.\n",
      "[I 2023-08-14 15:52:48,399] Trial 349 finished with value: 27.1889379896217 and parameters: {'learning_rate': 0.08923825415923772, 'n_estimators': 393, 'max_depth': 23, 'num_leaves': 48, 'colsample_bytree': 0.33287055788042663, 'subsample': 0.3813621565342862, 'subsample_freq': 4, 'min_child_samples': 19}. Best is trial 269 with value: 26.460709157671946.\n"
     ]
    },
    {
     "name": "stdout",
     "output_type": "stream",
     "text": [
      "Training until validation scores don't improve for 100 rounds\n",
      "Early stopping, best iteration is:\n",
      "[52]\ttraining's mape: 0.0915578\ttraining's rmse: 76.8621\tvalid_1's mape: 0.415594\tvalid_1's rmse: 648.464\n",
      "Training until validation scores don't improve for 100 rounds\n",
      "Early stopping, best iteration is:\n",
      "[52]\ttraining's mape: 0.0941345\ttraining's rmse: 78.7969\tvalid_1's mape: 0.410637\tvalid_1's rmse: 641.984\n"
     ]
    },
    {
     "name": "stderr",
     "output_type": "stream",
     "text": [
      "[I 2023-08-14 15:52:48,547] Trial 350 finished with value: 26.713429734196737 and parameters: {'learning_rate': 0.08514566758710253, 'n_estimators': 430, 'max_depth': 22, 'num_leaves': 51, 'colsample_bytree': 0.26272674224176984, 'subsample': 0.36128123063192463, 'subsample_freq': 5, 'min_child_samples': 16}. Best is trial 269 with value: 26.460709157671946.\n",
      "[I 2023-08-14 15:52:48,742] Trial 351 finished with value: 26.810840477866837 and parameters: {'learning_rate': 0.08040129590026675, 'n_estimators': 394, 'max_depth': 24, 'num_leaves': 59, 'colsample_bytree': 0.2831253136019506, 'subsample': 0.6443134582937857, 'subsample_freq': 5, 'min_child_samples': 18}. Best is trial 269 with value: 26.460709157671946.\n"
     ]
    },
    {
     "name": "stdout",
     "output_type": "stream",
     "text": [
      "Training until validation scores don't improve for 100 rounds\n",
      "Early stopping, best iteration is:\n",
      "[55]\ttraining's mape: 0.0864798\ttraining's rmse: 71.8975\tvalid_1's mape: 0.412165\tvalid_1's rmse: 642.833\n"
     ]
    },
    {
     "name": "stderr",
     "output_type": "stream",
     "text": [
      "[I 2023-08-14 15:52:48,939] Trial 352 finished with value: 26.9215283907129 and parameters: {'learning_rate': 0.08884665581278514, 'n_estimators': 376, 'max_depth': 17, 'num_leaves': 45, 'colsample_bytree': 0.2734614650437164, 'subsample': 0.4214749360747963, 'subsample_freq': 5, 'min_child_samples': 19}. Best is trial 269 with value: 26.460709157671946.\n"
     ]
    },
    {
     "name": "stdout",
     "output_type": "stream",
     "text": [
      "Training until validation scores don't improve for 100 rounds\n",
      "Early stopping, best iteration is:\n",
      "[53]\ttraining's mape: 0.0895613\ttraining's rmse: 75.3862\tvalid_1's mape: 0.412818\tvalid_1's rmse: 643.937\n",
      "Training until validation scores don't improve for 100 rounds\n"
     ]
    },
    {
     "name": "stderr",
     "output_type": "stream",
     "text": [
      "[I 2023-08-14 15:52:49,109] Trial 353 finished with value: 26.585111834838166 and parameters: {'learning_rate': 0.08404681748605651, 'n_estimators': 870, 'max_depth': 25, 'num_leaves': 39, 'colsample_bytree': 0.34841576946543973, 'subsample': 0.3962943664257904, 'subsample_freq': 5, 'min_child_samples': 18}. Best is trial 269 with value: 26.460709157671946.\n"
     ]
    },
    {
     "name": "stdout",
     "output_type": "stream",
     "text": [
      "Early stopping, best iteration is:\n",
      "[52]\ttraining's mape: 0.0949437\ttraining's rmse: 78.8621\tvalid_1's mape: 0.409196\tvalid_1's rmse: 639.295\n",
      "Training until validation scores don't improve for 100 rounds\n",
      "Early stopping, best iteration is:\n",
      "[52]\ttraining's mape: 0.0991257\ttraining's rmse: 81.2178\tvalid_1's mape: 0.41306\tvalid_1's rmse: 645.558\n"
     ]
    },
    {
     "name": "stderr",
     "output_type": "stream",
     "text": [
      "[I 2023-08-14 15:52:49,306] Trial 354 finished with value: 26.926426265780346 and parameters: {'learning_rate': 0.08245808408985371, 'n_estimators': 925, 'max_depth': 21, 'num_leaves': 40, 'colsample_bytree': 0.32187490206675734, 'subsample': 0.39549659491562444, 'subsample_freq': 2, 'min_child_samples': 20}. Best is trial 269 with value: 26.460709157671946.\n",
      "[I 2023-08-14 15:52:49,485] Trial 355 finished with value: 26.71904311801539 and parameters: {'learning_rate': 0.08599163725861961, 'n_estimators': 899, 'max_depth': 25, 'num_leaves': 108, 'colsample_bytree': 0.2932746887853817, 'subsample': 0.41193684370555816, 'subsample_freq': 5, 'min_child_samples': 17}. Best is trial 269 with value: 26.460709157671946.\n"
     ]
    },
    {
     "name": "stdout",
     "output_type": "stream",
     "text": [
      "Training until validation scores don't improve for 100 rounds\n",
      "Early stopping, best iteration is:\n",
      "[52]\ttraining's mape: 0.091947\ttraining's rmse: 76.9837\tvalid_1's mape: 0.410667\tvalid_1's rmse: 641.432\n",
      "Training until validation scores don't improve for 100 rounds\n"
     ]
    },
    {
     "name": "stderr",
     "output_type": "stream",
     "text": [
      "[I 2023-08-14 15:52:49,643] Trial 356 finished with value: 26.61397967645976 and parameters: {'learning_rate': 0.08354311145947625, 'n_estimators': 858, 'max_depth': 24, 'num_leaves': 34, 'colsample_bytree': 0.3474043806616115, 'subsample': 0.3967999614904889, 'subsample_freq': 5, 'min_child_samples': 19}. Best is trial 269 with value: 26.460709157671946.\n",
      "[I 2023-08-14 15:52:49,786] Trial 357 finished with value: 27.124087293886074 and parameters: {'learning_rate': 0.08688512485280452, 'n_estimators': 452, 'max_depth': 25, 'num_leaves': 31, 'colsample_bytree': 0.31140397329172054, 'subsample': 0.5530627424485665, 'subsample_freq': 5, 'min_child_samples': 20}. Best is trial 269 with value: 26.460709157671946.\n"
     ]
    },
    {
     "name": "stdout",
     "output_type": "stream",
     "text": [
      "Early stopping, best iteration is:\n",
      "[52]\ttraining's mape: 0.0965053\ttraining's rmse: 80.0784\tvalid_1's mape: 0.409512\tvalid_1's rmse: 639.935\n",
      "Training until validation scores don't improve for 100 rounds\n",
      "Early stopping, best iteration is:\n",
      "[56]\ttraining's mape: 0.0854986\ttraining's rmse: 72.0842\tvalid_1's mape: 0.415182\tvalid_1's rmse: 647.226\n"
     ]
    },
    {
     "name": "stderr",
     "output_type": "stream",
     "text": [
      "[I 2023-08-14 15:52:49,952] Trial 358 finished with value: 28.582645807002088 and parameters: {'learning_rate': 0.06159819872834461, 'n_estimators': 884, 'max_depth': 23, 'num_leaves': 40, 'colsample_bytree': 0.35379658255179364, 'subsample': 0.42723948548538104, 'subsample_freq': 4, 'min_child_samples': 19}. Best is trial 269 with value: 26.460709157671946.\n"
     ]
    },
    {
     "name": "stdout",
     "output_type": "stream",
     "text": [
      "Training until validation scores don't improve for 100 rounds\n",
      "Early stopping, best iteration is:\n",
      "[70]\ttraining's mape: 0.0768641\ttraining's rmse: 66.3211\tvalid_1's mape: 0.432333\tvalid_1's rmse: 671.498\n",
      "Training until validation scores don't improve for 100 rounds\n",
      "Did not meet early stopping. Best iteration is:\n",
      "[65]\ttraining's mape: 0.0648757\ttraining's rmse: 57.9956\tvalid_1's mape: 0.433727\tvalid_1's rmse: 673.023\n"
     ]
    },
    {
     "name": "stderr",
     "output_type": "stream",
     "text": [
      "[I 2023-08-14 15:52:50,108] Trial 359 finished with value: 28.767050769827406 and parameters: {'learning_rate': 0.07009667911450743, 'n_estimators': 127, 'max_depth': 29, 'num_leaves': 44, 'colsample_bytree': 0.3690046632660172, 'subsample': 0.6186071824653203, 'subsample_freq': 5, 'min_child_samples': 17}. Best is trial 269 with value: 26.460709157671946.\n",
      "[I 2023-08-14 15:52:50,234] Trial 360 finished with value: 27.01440440888186 and parameters: {'learning_rate': 0.08780755651268028, 'n_estimators': 102, 'max_depth': 28, 'num_leaves': 22, 'colsample_bytree': 0.3272580329101824, 'subsample': 0.38826114657109817, 'subsample_freq': 6, 'min_child_samples': 18}. Best is trial 269 with value: 26.460709157671946.\n",
      "[I 2023-08-14 15:52:50,391] Trial 361 finished with value: 26.79641988140404 and parameters: {'learning_rate': 0.08971403359732634, 'n_estimators': 870, 'max_depth': 27, 'num_leaves': 91, 'colsample_bytree': 0.2901981197096317, 'subsample': 0.408081434519717, 'subsample_freq': 5, 'min_child_samples': 18}. Best is trial 269 with value: 26.460709157671946.\n"
     ]
    },
    {
     "name": "stdout",
     "output_type": "stream",
     "text": [
      "Training until validation scores don't improve for 100 rounds\n",
      "Did not meet early stopping. Best iteration is:\n",
      "[55]\ttraining's mape: 0.0905102\ttraining's rmse: 76.8181\tvalid_1's mape: 0.413373\tvalid_1's rmse: 645.106\n",
      "Training until validation scores don't improve for 100 rounds\n",
      "Early stopping, best iteration is:\n",
      "[56]\ttraining's mape: 0.0845739\ttraining's rmse: 72.2926\tvalid_1's mape: 0.410873\tvalid_1's rmse: 641.144\n"
     ]
    },
    {
     "name": "stderr",
     "output_type": "stream",
     "text": [
      "[I 2023-08-14 15:52:50,618] Trial 362 finished with value: 28.88371764521498 and parameters: {'learning_rate': 0.0880773478598029, 'n_estimators': 193, 'max_depth': 30, 'num_leaves': 54, 'colsample_bytree': 0.3881450256967255, 'subsample': 0.46004659937598874, 'subsample_freq': 5, 'min_child_samples': 20}. Best is trial 269 with value: 26.460709157671946.\n"
     ]
    },
    {
     "name": "stdout",
     "output_type": "stream",
     "text": [
      "Training until validation scores don't improve for 100 rounds\n",
      "Did not meet early stopping. Best iteration is:\n",
      "[176]\ttraining's mape: 0.0401578\ttraining's rmse: 39.1792\tvalid_1's mape: 0.433161\tvalid_1's rmse: 672.64\n"
     ]
    },
    {
     "name": "stderr",
     "output_type": "stream",
     "text": [
      "[I 2023-08-14 15:52:50,818] Trial 363 finished with value: 28.18784050800164 and parameters: {'learning_rate': 0.09192757967941019, 'n_estimators': 417, 'max_depth': 25, 'num_leaves': 38, 'colsample_bytree': 0.5444687009047883, 'subsample': 0.6736606889686435, 'subsample_freq': 10, 'min_child_samples': 21}. Best is trial 269 with value: 26.460709157671946.\n"
     ]
    },
    {
     "name": "stdout",
     "output_type": "stream",
     "text": [
      "Training until validation scores don't improve for 100 rounds\n",
      "Early stopping, best iteration is:\n",
      "[53]\ttraining's mape: 0.0537513\ttraining's rmse: 49.7963\tvalid_1's mape: 0.424916\tvalid_1's rmse: 660.673\n",
      "Training until validation scores don't improve for 100 rounds\n"
     ]
    },
    {
     "name": "stderr",
     "output_type": "stream",
     "text": [
      "[I 2023-08-14 15:52:50,977] Trial 364 finished with value: 26.99555086661564 and parameters: {'learning_rate': 0.08862457540924039, 'n_estimators': 442, 'max_depth': 29, 'num_leaves': 28, 'colsample_bytree': 0.31418688792968924, 'subsample': 0.6290181537031442, 'subsample_freq': 5, 'min_child_samples': 19}. Best is trial 269 with value: 26.460709157671946.\n",
      "[I 2023-08-14 15:52:51,128] Trial 365 finished with value: 26.974075914085393 and parameters: {'learning_rate': 0.08601097816476953, 'n_estimators': 889, 'max_depth': 26, 'num_leaves': 46, 'colsample_bytree': 0.3032135333596852, 'subsample': 0.3666890939249344, 'subsample_freq': 3, 'min_child_samples': 18}. Best is trial 269 with value: 26.460709157671946.\n"
     ]
    },
    {
     "name": "stdout",
     "output_type": "stream",
     "text": [
      "Early stopping, best iteration is:\n",
      "[55]\ttraining's mape: 0.0847497\ttraining's rmse: 71.7739\tvalid_1's mape: 0.413276\tvalid_1's rmse: 644.482\n",
      "Training until validation scores don't improve for 100 rounds\n",
      "Early stopping, best iteration is:\n",
      "[52]\ttraining's mape: 0.0953716\ttraining's rmse: 79.0527\tvalid_1's mape: 0.413607\tvalid_1's rmse: 646.85\n"
     ]
    },
    {
     "name": "stderr",
     "output_type": "stream",
     "text": [
      "[I 2023-08-14 15:52:51,294] Trial 366 finished with value: 26.718171408562313 and parameters: {'learning_rate': 0.06914478418776177, 'n_estimators': 838, 'max_depth': 28, 'num_leaves': 42, 'colsample_bytree': 0.3249860686885623, 'subsample': 0.3807368805435909, 'subsample_freq': 5, 'min_child_samples': 16}. Best is trial 269 with value: 26.460709157671946.\n"
     ]
    },
    {
     "name": "stdout",
     "output_type": "stream",
     "text": [
      "Training until validation scores don't improve for 100 rounds\n",
      "Early stopping, best iteration is:\n",
      "[52]\ttraining's mape: 0.110441\ttraining's rmse: 88.1378\tvalid_1's mape: 0.411973\tvalid_1's rmse: 644.465\n",
      "Training until validation scores don't improve for 100 rounds\n"
     ]
    },
    {
     "name": "stderr",
     "output_type": "stream",
     "text": [
      "[I 2023-08-14 15:52:51,448] Trial 367 finished with value: 26.766011492194803 and parameters: {'learning_rate': 0.08090811832887637, 'n_estimators': 869, 'max_depth': 27, 'num_leaves': 52, 'colsample_bytree': 0.28395567454081805, 'subsample': 0.3277994693962887, 'subsample_freq': 5, 'min_child_samples': 17}. Best is trial 269 with value: 26.460709157671946.\n",
      "[I 2023-08-14 15:52:51,617] Trial 368 finished with value: 28.24684543094832 and parameters: {'learning_rate': 0.08459460915345468, 'n_estimators': 691, 'max_depth': 26, 'num_leaves': 58, 'colsample_bytree': 0.2489133236765279, 'subsample': 0.3502430359000764, 'subsample_freq': 5, 'min_child_samples': 19}. Best is trial 269 with value: 26.460709157671946.\n"
     ]
    },
    {
     "name": "stdout",
     "output_type": "stream",
     "text": [
      "Early stopping, best iteration is:\n",
      "[53]\ttraining's mape: 0.0997383\ttraining's rmse: 82.695\tvalid_1's mape: 0.411412\tvalid_1's rmse: 642.747\n",
      "Training until validation scores don't improve for 100 rounds\n",
      "Early stopping, best iteration is:\n",
      "[87]\ttraining's mape: 0.0985233\ttraining's rmse: 82.9336\tvalid_1's mape: 0.429802\tvalid_1's rmse: 668.167\n"
     ]
    },
    {
     "name": "stderr",
     "output_type": "stream",
     "text": [
      "[I 2023-08-14 15:52:51,779] Trial 369 finished with value: 26.99698775671137 and parameters: {'learning_rate': 0.07893438755940406, 'n_estimators': 849, 'max_depth': 15, 'num_leaves': 35, 'colsample_bytree': 0.3442537268845023, 'subsample': 0.39716645171198395, 'subsample_freq': 9, 'min_child_samples': 20}. Best is trial 269 with value: 26.460709157671946.\n"
     ]
    },
    {
     "name": "stdout",
     "output_type": "stream",
     "text": [
      "Training until validation scores don't improve for 100 rounds\n",
      "Early stopping, best iteration is:\n",
      "[54]\ttraining's mape: 0.0994708\ttraining's rmse: 81.4264\tvalid_1's mape: 0.413906\tvalid_1's rmse: 645.727\n",
      "Training until validation scores don't improve for 100 rounds\n"
     ]
    },
    {
     "name": "stderr",
     "output_type": "stream",
     "text": [
      "[I 2023-08-14 15:52:51,975] Trial 370 finished with value: 28.944461032435033 and parameters: {'learning_rate': 0.08707218637060617, 'n_estimators': 381, 'max_depth': 20, 'num_leaves': 48, 'colsample_bytree': 0.36156856752076827, 'subsample': 0.416579212377358, 'subsample_freq': 5, 'min_child_samples': 19}. Best is trial 269 with value: 26.460709157671946.\n",
      "[I 2023-08-14 15:52:52,141] Trial 371 finished with value: 26.971841748079573 and parameters: {'learning_rate': 0.07135961424889792, 'n_estimators': 765, 'max_depth': 27, 'num_leaves': 41, 'colsample_bytree': 0.3339527754706702, 'subsample': 0.5177885672668125, 'subsample_freq': 7, 'min_child_samples': 15}. Best is trial 269 with value: 26.460709157671946.\n"
     ]
    },
    {
     "name": "stdout",
     "output_type": "stream",
     "text": [
      "Early stopping, best iteration is:\n",
      "[155]\ttraining's mape: 0.0435581\ttraining's rmse: 42.8029\tvalid_1's mape: 0.433219\tvalid_1's rmse: 673.297\n",
      "Training until validation scores don't improve for 100 rounds\n",
      "Early stopping, best iteration is:\n",
      "[42]\ttraining's mape: 0.120085\ttraining's rmse: 92.6494\tvalid_1's mape: 0.415902\tvalid_1's rmse: 650.658\n"
     ]
    },
    {
     "name": "stderr",
     "output_type": "stream",
     "text": [
      "[I 2023-08-14 15:52:52,292] Trial 372 finished with value: 28.217519615661228 and parameters: {'learning_rate': 0.07521989216753067, 'n_estimators': 788, 'max_depth': 25, 'num_leaves': 61, 'colsample_bytree': 0.5785519832708071, 'subsample': 0.3687546917279136, 'subsample_freq': 4, 'min_child_samples': 21}. Best is trial 269 with value: 26.460709157671946.\n"
     ]
    },
    {
     "name": "stdout",
     "output_type": "stream",
     "text": [
      "Training until validation scores don't improve for 100 rounds\n",
      "Early stopping, best iteration is:\n",
      "[52]\ttraining's mape: 0.0620898\ttraining's rmse: 57.2568\tvalid_1's mape: 0.424705\tvalid_1's rmse: 660.759\n",
      "Training until validation scores don't improve for 100 rounds\n"
     ]
    },
    {
     "name": "stderr",
     "output_type": "stream",
     "text": [
      "[I 2023-08-14 15:52:52,521] Trial 373 finished with value: 27.005262576676692 and parameters: {'learning_rate': 0.06742342860709682, 'n_estimators': 592, 'max_depth': 24, 'num_leaves': 209, 'colsample_bytree': 0.2962956581804732, 'subsample': 0.895401216389359, 'subsample_freq': 5, 'min_child_samples': 17}. Best is trial 269 with value: 26.460709157671946.\n",
      "[I 2023-08-14 15:52:52,662] Trial 374 finished with value: 26.586813195357767 and parameters: {'learning_rate': 0.08202860576495864, 'n_estimators': 823, 'max_depth': 19, 'num_leaves': 54, 'colsample_bytree': 0.31186679552754687, 'subsample': 0.3850562816627443, 'subsample_freq': 5, 'min_child_samples': 18}. Best is trial 269 with value: 26.460709157671946.\n"
     ]
    },
    {
     "name": "stdout",
     "output_type": "stream",
     "text": [
      "Early stopping, best iteration is:\n",
      "[55]\ttraining's mape: 0.0924714\ttraining's rmse: 73.9043\tvalid_1's mape: 0.415313\tvalid_1's rmse: 648.455\n",
      "Training until validation scores don't improve for 100 rounds\n",
      "Early stopping, best iteration is:\n",
      "[52]\ttraining's mape: 0.0980176\ttraining's rmse: 80.9147\tvalid_1's mape: 0.409239\tvalid_1's rmse: 639.622\n"
     ]
    },
    {
     "name": "stderr",
     "output_type": "stream",
     "text": [
      "[I 2023-08-14 15:52:52,805] Trial 375 finished with value: 26.92510888621589 and parameters: {'learning_rate': 0.08543874086161382, 'n_estimators': 828, 'max_depth': 19, 'num_leaves': 68, 'colsample_bytree': 0.3189656341239985, 'subsample': 0.44238138121442705, 'subsample_freq': 6, 'min_child_samples': 20}. Best is trial 269 with value: 26.460709157671946.\n"
     ]
    },
    {
     "name": "stdout",
     "output_type": "stream",
     "text": [
      "Training until validation scores don't improve for 100 rounds\n",
      "Early stopping, best iteration is:\n",
      "[55]\ttraining's mape: 0.0904216\ttraining's rmse: 76.3305\tvalid_1's mape: 0.412949\tvalid_1's rmse: 644.263\n",
      "Training until validation scores don't improve for 100 rounds\n"
     ]
    },
    {
     "name": "stderr",
     "output_type": "stream",
     "text": [
      "[I 2023-08-14 15:52:52,995] Trial 376 finished with value: 26.99060157132639 and parameters: {'learning_rate': 0.0831101823868395, 'n_estimators': 806, 'max_depth': 17, 'num_leaves': 56, 'colsample_bytree': 0.30900952513280333, 'subsample': 0.7067001703357655, 'subsample_freq': 5, 'min_child_samples': 18}. Best is trial 269 with value: 26.460709157671946.\n",
      "[I 2023-08-14 15:52:53,144] Trial 377 finished with value: 26.606630562652633 and parameters: {'learning_rate': 0.08133202051624847, 'n_estimators': 857, 'max_depth': 28, 'num_leaves': 53, 'colsample_bytree': 0.32956975959246765, 'subsample': 0.4002138514063245, 'subsample_freq': 5, 'min_child_samples': 19}. Best is trial 269 with value: 26.460709157671946.\n"
     ]
    },
    {
     "name": "stdout",
     "output_type": "stream",
     "text": [
      "Early stopping, best iteration is:\n",
      "[55]\ttraining's mape: 0.0821709\ttraining's rmse: 68.735\tvalid_1's mape: 0.414059\tvalid_1's rmse: 644.87\n",
      "Training until validation scores don't improve for 100 rounds\n",
      "Early stopping, best iteration is:\n",
      "[52]\ttraining's mape: 0.0985914\ttraining's rmse: 81.2498\tvalid_1's mape: 0.409359\tvalid_1's rmse: 639.961\n"
     ]
    },
    {
     "name": "stderr",
     "output_type": "stream",
     "text": [
      "[I 2023-08-14 15:52:53,320] Trial 378 finished with value: 28.221380963482723 and parameters: {'learning_rate': 0.07391436777314547, 'n_estimators': 830, 'max_depth': 18, 'num_leaves': 60, 'colsample_bytree': 0.20519704425567764, 'subsample': 0.3904051075385627, 'subsample_freq': 5, 'min_child_samples': 18}. Best is trial 269 with value: 26.460709157671946.\n"
     ]
    },
    {
     "name": "stdout",
     "output_type": "stream",
     "text": [
      "Training until validation scores don't improve for 100 rounds\n",
      "Early stopping, best iteration is:\n",
      "[89]\ttraining's mape: 0.101497\ttraining's rmse: 84.6697\tvalid_1's mape: 0.429925\tvalid_1's rmse: 668.573\n",
      "Training until validation scores don't improve for 100 rounds\n",
      "Early stopping, best iteration is:\n",
      "[82]\ttraining's mape: 0.0597866\ttraining's rmse: 56.0868\tvalid_1's mape: 0.433297\tvalid_1's rmse: 672.857\n"
     ]
    },
    {
     "name": "stderr",
     "output_type": "stream",
     "text": [
      "[I 2023-08-14 15:52:53,477] Trial 379 finished with value: 28.81964120064674 and parameters: {'learning_rate': 0.0837313303637485, 'n_estimators': 786, 'max_depth': 29, 'num_leaves': 52, 'colsample_bytree': 0.4298046680848005, 'subsample': 0.35747806762205425, 'subsample_freq': 5, 'min_child_samples': 19}. Best is trial 269 with value: 26.460709157671946.\n",
      "[I 2023-08-14 15:52:53,695] Trial 380 finished with value: 27.225978900896386 and parameters: {'learning_rate': 0.07250231276729771, 'n_estimators': 813, 'max_depth': 27, 'num_leaves': 95, 'colsample_bytree': 0.31096820512530815, 'subsample': 0.42452475182763344, 'subsample_freq': 8, 'min_child_samples': 4}. Best is trial 269 with value: 26.460709157671946.\n"
     ]
    },
    {
     "name": "stdout",
     "output_type": "stream",
     "text": [
      "Training until validation scores don't improve for 100 rounds\n",
      "Early stopping, best iteration is:\n",
      "[52]\ttraining's mape: 0.0871452\ttraining's rmse: 71.2556\tvalid_1's mape: 0.418541\tvalid_1's rmse: 652.94\n"
     ]
    },
    {
     "name": "stderr",
     "output_type": "stream",
     "text": [
      "[I 2023-08-14 15:52:53,848] Trial 381 finished with value: 26.913235159881133 and parameters: {'learning_rate': 0.07532136715143975, 'n_estimators': 845, 'max_depth': 26, 'num_leaves': 50, 'colsample_bytree': 0.31990789946489756, 'subsample': 0.3133822507439899, 'subsample_freq': 5, 'min_child_samples': 20}. Best is trial 269 with value: 26.460709157671946.\n"
     ]
    },
    {
     "name": "stdout",
     "output_type": "stream",
     "text": [
      "Training until validation scores don't improve for 100 rounds\n",
      "Early stopping, best iteration is:\n",
      "[82]\ttraining's mape: 0.0826349\ttraining's rmse: 70.7436\tvalid_1's mape: 0.41194\tvalid_1's rmse: 641.995\n",
      "Training until validation scores don't improve for 100 rounds\n"
     ]
    },
    {
     "name": "stderr",
     "output_type": "stream",
     "text": [
      "[I 2023-08-14 15:52:54,008] Trial 382 finished with value: 26.978885487399783 and parameters: {'learning_rate': 0.07998658024413251, 'n_estimators': 911, 'max_depth': 28, 'num_leaves': 33, 'colsample_bytree': 0.3010381997108889, 'subsample': 0.6022363110356936, 'subsample_freq': 5, 'min_child_samples': 22}. Best is trial 269 with value: 26.460709157671946.\n"
     ]
    },
    {
     "name": "stdout",
     "output_type": "stream",
     "text": [
      "Early stopping, best iteration is:\n",
      "[52]\ttraining's mape: 0.0962714\ttraining's rmse: 79.0179\tvalid_1's mape: 0.414098\tvalid_1's rmse: 646.211\n",
      "Training until validation scores don't improve for 100 rounds\n",
      "Early stopping, best iteration is:\n",
      "[44]\ttraining's mape: 0.055496\ttraining's rmse: 51.5712\tvalid_1's mape: 0.428136\tvalid_1's rmse: 665.777\n"
     ]
    },
    {
     "name": "stderr",
     "output_type": "stream",
     "text": [
      "[I 2023-08-14 15:52:54,199] Trial 383 finished with value: 28.491697470738952 and parameters: {'learning_rate': 0.08426031434007955, 'n_estimators': 875, 'max_depth': 27, 'num_leaves': 85, 'colsample_bytree': 0.592029755683213, 'subsample': 0.48727930173384665, 'subsample_freq': 4, 'min_child_samples': 16}. Best is trial 269 with value: 26.460709157671946.\n",
      "[I 2023-08-14 15:52:54,356] Trial 384 finished with value: 28.60181338309551 and parameters: {'learning_rate': 0.07629171477110672, 'n_estimators': 829, 'max_depth': 26, 'num_leaves': 62, 'colsample_bytree': 0.4001781049774657, 'subsample': 0.40749360758187275, 'subsample_freq': 5, 'min_child_samples': 19}. Best is trial 269 with value: 26.460709157671946.\n"
     ]
    },
    {
     "name": "stdout",
     "output_type": "stream",
     "text": [
      "Training until validation scores don't improve for 100 rounds\n",
      "Early stopping, best iteration is:\n",
      "[45]\ttraining's mape: 0.0900323\ttraining's rmse: 75.2447\tvalid_1's mape: 0.433335\tvalid_1's rmse: 674.144\n",
      "Training until validation scores don't improve for 100 rounds\n",
      "Early stopping, best iteration is:\n",
      "[43]\ttraining's mape: 0.0894144\ttraining's rmse: 74.8111\tvalid_1's mape: 0.434122\tvalid_1's rmse: 674.232\n"
     ]
    },
    {
     "name": "stderr",
     "output_type": "stream",
     "text": [
      "[I 2023-08-14 15:52:54,495] Trial 385 finished with value: 28.68117440140374 and parameters: {'learning_rate': 0.08190380782455403, 'n_estimators': 798, 'max_depth': 28, 'num_leaves': 47, 'colsample_bytree': 0.3775369935771349, 'subsample': 0.3408397720685633, 'subsample_freq': 5, 'min_child_samples': 17}. Best is trial 269 with value: 26.460709157671946.\n",
      "[I 2023-08-14 15:52:54,634] Trial 386 finished with value: 26.675754503659064 and parameters: {'learning_rate': 0.07086267893094975, 'n_estimators': 860, 'max_depth': 30, 'num_leaves': 70, 'colsample_bytree': 0.3375539976693514, 'subsample': 0.3754323545671396, 'subsample_freq': 5, 'min_child_samples': 18}. Best is trial 269 with value: 26.460709157671946.\n"
     ]
    },
    {
     "name": "stdout",
     "output_type": "stream",
     "text": [
      "Training until validation scores don't improve for 100 rounds\n",
      "Early stopping, best iteration is:\n",
      "[52]\ttraining's mape: 0.109415\ttraining's rmse: 87.9921\tvalid_1's mape: 0.411019\tvalid_1's rmse: 643.615\n",
      "Training until validation scores don't improve for 100 rounds\n",
      "Early stopping, best iteration is:\n",
      "[66]\ttraining's mape: 0.0817805\ttraining's rmse: 69.8858\tvalid_1's mape: 0.417069\tvalid_1's rmse: 649.391\n"
     ]
    },
    {
     "name": "stderr",
     "output_type": "stream",
     "text": [
      "[I 2023-08-14 15:52:54,772] Trial 387 finished with value: 27.318594047489324 and parameters: {'learning_rate': 0.07830512145830183, 'n_estimators': 772, 'max_depth': 18, 'num_leaves': 23, 'colsample_bytree': 0.32734574981733877, 'subsample': 0.7378015571750014, 'subsample_freq': 6, 'min_child_samples': 21}. Best is trial 269 with value: 26.460709157671946.\n",
      "[I 2023-08-14 15:52:54,917] Trial 388 finished with value: 26.60847842667814 and parameters: {'learning_rate': 0.08253785517867691, 'n_estimators': 823, 'max_depth': 29, 'num_leaves': 175, 'colsample_bytree': 0.3145234865223232, 'subsample': 0.39392142038640776, 'subsample_freq': 5, 'min_child_samples': 18}. Best is trial 269 with value: 26.460709157671946.\n"
     ]
    },
    {
     "name": "stdout",
     "output_type": "stream",
     "text": [
      "Training until validation scores don't improve for 100 rounds\n",
      "Early stopping, best iteration is:\n",
      "[52]\ttraining's mape: 0.0969015\ttraining's rmse: 80.032\tvalid_1's mape: 0.409703\tvalid_1's rmse: 640.781\n",
      "Training until validation scores don't improve for 100 rounds\n",
      "Early stopping, best iteration is:\n",
      "[50]\ttraining's mape: 0.106677\ttraining's rmse: 86.423\tvalid_1's mape: 0.411633\tvalid_1's rmse: 644.148\n"
     ]
    },
    {
     "name": "stderr",
     "output_type": "stream",
     "text": [
      "[I 2023-08-14 15:52:55,074] Trial 389 finished with value: 26.7236644468894 and parameters: {'learning_rate': 0.07429646399617794, 'n_estimators': 474, 'max_depth': 26, 'num_leaves': 56, 'colsample_bytree': 0.30801645985706894, 'subsample': 0.36537128926429774, 'subsample_freq': 5, 'min_child_samples': 17}. Best is trial 269 with value: 26.460709157671946.\n",
      "[I 2023-08-14 15:52:55,215] Trial 390 finished with value: 26.59456168051343 and parameters: {'learning_rate': 0.07711018001901372, 'n_estimators': 841, 'max_depth': 25, 'num_leaves': 38, 'colsample_bytree': 0.2941023626224026, 'subsample': 0.3836120619072457, 'subsample_freq': 5, 'min_child_samples': 20}. Best is trial 269 with value: 26.460709157671946.\n",
      "[I 2023-08-14 15:52:55,359] Trial 391 finished with value: 26.601200286100628 and parameters: {'learning_rate': 0.07763717165151991, 'n_estimators': 888, 'max_depth': 24, 'num_leaves': 31, 'colsample_bytree': 0.27565259338619336, 'subsample': 0.3816649307965173, 'subsample_freq': 5, 'min_child_samples': 20}. Best is trial 269 with value: 26.460709157671946.\n"
     ]
    },
    {
     "name": "stdout",
     "output_type": "stream",
     "text": [
      "Training until validation scores don't improve for 100 rounds\n",
      "Early stopping, best iteration is:\n",
      "[52]\ttraining's mape: 0.103882\ttraining's rmse: 84.7508\tvalid_1's mape: 0.409628\tvalid_1's rmse: 640.693\n",
      "Training until validation scores don't improve for 100 rounds\n",
      "Early stopping, best iteration is:\n",
      "[52]\ttraining's mape: 0.103712\ttraining's rmse: 84.6884\tvalid_1's mape: 0.409725\tvalid_1's rmse: 640.651\n"
     ]
    },
    {
     "name": "stderr",
     "output_type": "stream",
     "text": [
      "[I 2023-08-14 15:52:55,512] Trial 392 finished with value: 26.94035044037928 and parameters: {'learning_rate': 0.07769150998084275, 'n_estimators': 903, 'max_depth': 24, 'num_leaves': 32, 'colsample_bytree': 0.26032011160271773, 'subsample': 0.5068916917693371, 'subsample_freq': 5, 'min_child_samples': 21}. Best is trial 269 with value: 26.460709157671946.\n"
     ]
    },
    {
     "name": "stdout",
     "output_type": "stream",
     "text": [
      "Training until validation scores don't improve for 100 rounds\n",
      "Early stopping, best iteration is:\n",
      "[55]\ttraining's mape: 0.0951078\ttraining's rmse: 78.693\tvalid_1's mape: 0.413426\tvalid_1's rmse: 645.162\n",
      "Training until validation scores don't improve for 100 rounds\n",
      "Early stopping, best iteration is:\n",
      "[52]\ttraining's mape: 0.107529\ttraining's rmse: 86.6481\tvalid_1's mape: 0.416399\tvalid_1's rmse: 650.312\n"
     ]
    },
    {
     "name": "stderr",
     "output_type": "stream",
     "text": [
      "[I 2023-08-14 15:52:55,643] Trial 393 finished with value: 27.15396963548417 and parameters: {'learning_rate': 0.07687310783283544, 'n_estimators': 873, 'max_depth': 25, 'num_leaves': 17, 'colsample_bytree': 0.2770145416759531, 'subsample': 0.4792681781322055, 'subsample_freq': 4, 'min_child_samples': 20}. Best is trial 269 with value: 26.460709157671946.\n",
      "[I 2023-08-14 15:52:55,793] Trial 394 finished with value: 26.60976572096555 and parameters: {'learning_rate': 0.07846423041665579, 'n_estimators': 854, 'max_depth': 25, 'num_leaves': 30, 'colsample_bytree': 0.270914508460027, 'subsample': 0.37987444830445366, 'subsample_freq': 5, 'min_child_samples': 20}. Best is trial 269 with value: 26.460709157671946.\n"
     ]
    },
    {
     "name": "stdout",
     "output_type": "stream",
     "text": [
      "Training until validation scores don't improve for 100 rounds\n",
      "Early stopping, best iteration is:\n",
      "[52]\ttraining's mape: 0.102601\ttraining's rmse: 84.0497\tvalid_1's mape: 0.409757\tvalid_1's rmse: 640.884\n",
      "Training until validation scores don't improve for 100 rounds\n"
     ]
    },
    {
     "name": "stderr",
     "output_type": "stream",
     "text": [
      "[I 2023-08-14 15:52:55,977] Trial 395 finished with value: 28.224831215539268 and parameters: {'learning_rate': 0.07977621613691255, 'n_estimators': 889, 'max_depth': 24, 'num_leaves': 29, 'colsample_bytree': 0.2392954450177715, 'subsample': 0.35474968931524625, 'subsample_freq': 6, 'min_child_samples': 16}. Best is trial 269 with value: 26.460709157671946.\n",
      "[I 2023-08-14 15:52:56,116] Trial 396 finished with value: 26.815195507484763 and parameters: {'learning_rate': 0.0759262711642409, 'n_estimators': 888, 'max_depth': 25, 'num_leaves': 36, 'colsample_bytree': 0.293727892047144, 'subsample': 0.3385126816973186, 'subsample_freq': 5, 'min_child_samples': 20}. Best is trial 269 with value: 26.460709157671946.\n"
     ]
    },
    {
     "name": "stdout",
     "output_type": "stream",
     "text": [
      "Early stopping, best iteration is:\n",
      "[166]\ttraining's mape: 0.0717529\ttraining's rmse: 63.9526\tvalid_1's mape: 0.42837\tvalid_1's rmse: 666.195\n",
      "Training until validation scores don't improve for 100 rounds\n",
      "Early stopping, best iteration is:\n",
      "[51]\ttraining's mape: 0.108448\ttraining's rmse: 87.4099\tvalid_1's mape: 0.412677\tvalid_1's rmse: 644.677\n"
     ]
    },
    {
     "name": "stderr",
     "output_type": "stream",
     "text": [
      "[I 2023-08-14 15:52:56,282] Trial 397 finished with value: 26.83372857836798 and parameters: {'learning_rate': 0.07670474677522447, 'n_estimators': 845, 'max_depth': 24, 'num_leaves': 38, 'colsample_bytree': 0.26627123607862996, 'subsample': 0.37123730502317237, 'subsample_freq': 5, 'min_child_samples': 21}. Best is trial 269 with value: 26.460709157671946.\n"
     ]
    },
    {
     "name": "stdout",
     "output_type": "stream",
     "text": [
      "Training until validation scores don't improve for 100 rounds\n",
      "Early stopping, best iteration is:\n",
      "[50]\ttraining's mape: 0.107212\ttraining's rmse: 86.6391\tvalid_1's mape: 0.412683\tvalid_1's rmse: 645.862\n",
      "Training until validation scores don't improve for 100 rounds\n"
     ]
    },
    {
     "name": "stderr",
     "output_type": "stream",
     "text": [
      "[I 2023-08-14 15:52:56,429] Trial 398 finished with value: 26.945884650940023 and parameters: {'learning_rate': 0.07754389565825011, 'n_estimators': 857, 'max_depth': 26, 'num_leaves': 23, 'colsample_bytree': 0.27756627736730277, 'subsample': 0.6198249271308716, 'subsample_freq': 5, 'min_child_samples': 19}. Best is trial 269 with value: 26.460709157671946.\n",
      "[I 2023-08-14 15:52:56,575] Trial 399 finished with value: 26.91497840410798 and parameters: {'learning_rate': 0.06546114986477475, 'n_estimators': 875, 'max_depth': 23, 'num_leaves': 27, 'colsample_bytree': 0.25658258064206413, 'subsample': 0.40911177934264453, 'subsample_freq': 5, 'min_child_samples': 18}. Best is trial 269 with value: 26.460709157671946.\n"
     ]
    },
    {
     "name": "stdout",
     "output_type": "stream",
     "text": [
      "Early stopping, best iteration is:\n",
      "[55]\ttraining's mape: 0.0957175\ttraining's rmse: 79.0217\tvalid_1's mape: 0.413525\tvalid_1's rmse: 645.107\n",
      "Training until validation scores don't improve for 100 rounds\n",
      "Early stopping, best iteration is:\n",
      "[52]\ttraining's mape: 0.116888\ttraining's rmse: 91.8804\tvalid_1's mape: 0.414569\tvalid_1's rmse: 648.032\n"
     ]
    },
    {
     "name": "stderr",
     "output_type": "stream",
     "text": [
      "[I 2023-08-14 15:52:56,726] Trial 400 finished with value: 26.509461814709557 and parameters: {'learning_rate': 0.07575870186463642, 'n_estimators': 836, 'max_depth': 25, 'num_leaves': 36, 'colsample_bytree': 0.2903693602144736, 'subsample': 0.38747584661534884, 'subsample_freq': 5, 'min_child_samples': 19}. Best is trial 269 with value: 26.460709157671946.\n"
     ]
    },
    {
     "name": "stdout",
     "output_type": "stream",
     "text": [
      "Training until validation scores don't improve for 100 rounds\n",
      "Early stopping, best iteration is:\n",
      "[52]\ttraining's mape: 0.104288\ttraining's rmse: 84.9121\tvalid_1's mape: 0.408734\tvalid_1's rmse: 639.511\n",
      "Training until validation scores don't improve for 100 rounds\n",
      "Early stopping, best iteration is:\n",
      "[52]\ttraining's mape: 0.105509\ttraining's rmse: 85.5889\tvalid_1's mape: 0.412085\tvalid_1's rmse: 644.694\n"
     ]
    },
    {
     "name": "stderr",
     "output_type": "stream",
     "text": [
      "[I 2023-08-14 15:52:56,885] Trial 401 finished with value: 26.785108220369143 and parameters: {'learning_rate': 0.07579076862866303, 'n_estimators': 249, 'max_depth': 25, 'num_leaves': 35, 'colsample_bytree': 0.2874939446625347, 'subsample': 0.35953110687947243, 'subsample_freq': 5, 'min_child_samples': 19}. Best is trial 269 with value: 26.460709157671946.\n",
      "[I 2023-08-14 15:52:57,048] Trial 402 finished with value: 26.633283493166815 and parameters: {'learning_rate': 0.07749804183323188, 'n_estimators': 953, 'max_depth': 25, 'num_leaves': 30, 'colsample_bytree': 0.29324285357050933, 'subsample': 0.3840898518580384, 'subsample_freq': 5, 'min_child_samples': 22}. Best is trial 269 with value: 26.460709157671946.\n"
     ]
    },
    {
     "name": "stdout",
     "output_type": "stream",
     "text": [
      "Training until validation scores don't improve for 100 rounds\n",
      "Early stopping, best iteration is:\n",
      "[52]\ttraining's mape: 0.104485\ttraining's rmse: 85.1926\tvalid_1's mape: 0.410128\tvalid_1's rmse: 641.029\n",
      "Training until validation scores don't improve for 100 rounds\n"
     ]
    },
    {
     "name": "stderr",
     "output_type": "stream",
     "text": [
      "[I 2023-08-14 15:52:57,218] Trial 403 finished with value: 27.027696544473717 and parameters: {'learning_rate': 0.07877113527314135, 'n_estimators': 837, 'max_depth': 24, 'num_leaves': 40, 'colsample_bytree': 0.2792034722743243, 'subsample': 0.5343488082147275, 'subsample_freq': 5, 'min_child_samples': 20}. Best is trial 269 with value: 26.460709157671946.\n"
     ]
    },
    {
     "name": "stdout",
     "output_type": "stream",
     "text": [
      "Early stopping, best iteration is:\n",
      "[52]\ttraining's mape: 0.0967009\ttraining's rmse: 79.2055\tvalid_1's mape: 0.414639\tvalid_1's rmse: 647.71\n",
      "Training until validation scores don't improve for 100 rounds\n",
      "Early stopping, best iteration is:\n",
      "[86]\ttraining's mape: 0.0960652\ttraining's rmse: 79.2399\tvalid_1's mape: 0.412577\tvalid_1's rmse: 644.225\n"
     ]
    },
    {
     "name": "stderr",
     "output_type": "stream",
     "text": [
      "[I 2023-08-14 15:52:57,410] Trial 404 finished with value: 26.840084682005234 and parameters: {'learning_rate': 0.05360557522225852, 'n_estimators': 332, 'max_depth': 25, 'num_leaves': 36, 'colsample_bytree': 0.27144945393062375, 'subsample': 0.37668884297119787, 'subsample_freq': 5, 'min_child_samples': 19}. Best is trial 269 with value: 26.460709157671946.\n",
      "[I 2023-08-14 15:52:57,578] Trial 405 finished with value: 26.748297218736706 and parameters: {'learning_rate': 0.057756057722474954, 'n_estimators': 929, 'max_depth': 25, 'num_leaves': 41, 'colsample_bytree': 0.2849367941084579, 'subsample': 0.45008860347282764, 'subsample_freq': 5, 'min_child_samples': 20}. Best is trial 269 with value: 26.460709157671946.\n"
     ]
    },
    {
     "name": "stdout",
     "output_type": "stream",
     "text": [
      "Training until validation scores don't improve for 100 rounds\n",
      "Early stopping, best iteration is:\n",
      "[52]\ttraining's mape: 0.130119\ttraining's rmse: 99.5725\tvalid_1's mape: 0.413503\tvalid_1's rmse: 648.398\n",
      "Training until validation scores don't improve for 100 rounds\n"
     ]
    },
    {
     "name": "stderr",
     "output_type": "stream",
     "text": [
      "[I 2023-08-14 15:52:57,733] Trial 406 finished with value: 28.582181844558413 and parameters: {'learning_rate': 0.0767207769947562, 'n_estimators': 550, 'max_depth': 24, 'num_leaves': 20, 'colsample_bytree': 0.4103245270344819, 'subsample': 0.40103189028288605, 'subsample_freq': 5, 'min_child_samples': 19}. Best is trial 269 with value: 26.460709157671946.\n",
      "[I 2023-08-14 15:52:57,880] Trial 407 finished with value: 28.736892496194805 and parameters: {'learning_rate': 0.08084145145567961, 'n_estimators': 816, 'max_depth': 26, 'num_leaves': 27, 'colsample_bytree': 0.44843543989061957, 'subsample': 0.3258638788512006, 'subsample_freq': 5, 'min_child_samples': 18}. Best is trial 269 with value: 26.460709157671946.\n"
     ]
    },
    {
     "name": "stdout",
     "output_type": "stream",
     "text": [
      "Early stopping, best iteration is:\n",
      "[43]\ttraining's mape: 0.0959716\ttraining's rmse: 79.1469\tvalid_1's mape: 0.433244\tvalid_1's rmse: 672.991\n",
      "Training until validation scores don't improve for 100 rounds\n",
      "Early stopping, best iteration is:\n",
      "[43]\ttraining's mape: 0.093074\ttraining's rmse: 77.458\tvalid_1's mape: 0.434684\tvalid_1's rmse: 675.214\n"
     ]
    },
    {
     "name": "stderr",
     "output_type": "stream",
     "text": [
      "[I 2023-08-14 15:52:58,060] Trial 408 finished with value: 27.024138378767965 and parameters: {'learning_rate': 0.08377761714503651, 'n_estimators': 844, 'max_depth': 26, 'num_leaves': 34, 'colsample_bytree': 0.30298701156555324, 'subsample': 0.5572479587357199, 'subsample_freq': 5, 'min_child_samples': 19}. Best is trial 269 with value: 26.460709157671946.\n"
     ]
    },
    {
     "name": "stdout",
     "output_type": "stream",
     "text": [
      "Training until validation scores don't improve for 100 rounds\n",
      "Early stopping, best iteration is:\n",
      "[52]\ttraining's mape: 0.091938\ttraining's rmse: 75.9909\tvalid_1's mape: 0.414474\tvalid_1's rmse: 647.046\n",
      "Training until validation scores don't improve for 100 rounds\n",
      "Early stopping, best iteration is:\n",
      "[52]\ttraining's mape: 0.108393\ttraining's rmse: 87.5159\tvalid_1's mape: 0.411642\tvalid_1's rmse: 643.983\n"
     ]
    },
    {
     "name": "stderr",
     "output_type": "stream",
     "text": [
      "[I 2023-08-14 15:52:58,202] Trial 409 finished with value: 26.74313160048249 and parameters: {'learning_rate': 0.07510022041454134, 'n_estimators': 348, 'max_depth': 26, 'num_leaves': 46, 'colsample_bytree': 0.2927867854560893, 'subsample': 0.3534480461120236, 'subsample_freq': 5, 'min_child_samples': 21}. Best is trial 269 with value: 26.460709157671946.\n",
      "[I 2023-08-14 15:52:58,359] Trial 410 finished with value: 28.552386742918284 and parameters: {'learning_rate': 0.07539135817187989, 'n_estimators': 908, 'max_depth': 26, 'num_leaves': 38, 'colsample_bytree': 0.3568901186745891, 'subsample': 0.38643871548252795, 'subsample_freq': 5, 'min_child_samples': 17}. Best is trial 269 with value: 26.460709157671946.\n"
     ]
    },
    {
     "name": "stdout",
     "output_type": "stream",
     "text": [
      "Training until validation scores don't improve for 100 rounds\n",
      "Early stopping, best iteration is:\n",
      "[43]\ttraining's mape: 0.0934292\ttraining's rmse: 76.9513\tvalid_1's mape: 0.433047\tvalid_1's rmse: 673.5\n",
      "Training until validation scores don't improve for 100 rounds\n"
     ]
    },
    {
     "name": "stderr",
     "output_type": "stream",
     "text": [
      "[I 2023-08-14 15:52:58,541] Trial 411 finished with value: 26.925777033856935 and parameters: {'learning_rate': 0.08519753927981293, 'n_estimators': 829, 'max_depth': 25, 'num_leaves': 44, 'colsample_bytree': 0.3012608787769977, 'subsample': 0.7733495293537469, 'subsample_freq': 5, 'min_child_samples': 18}. Best is trial 269 with value: 26.460709157671946.\n",
      "[I 2023-08-14 15:52:58,701] Trial 412 finished with value: 26.914028611373524 and parameters: {'learning_rate': 0.0820832176093119, 'n_estimators': 864, 'max_depth': 27, 'num_leaves': 48, 'colsample_bytree': 0.280739732470886, 'subsample': 0.6675955463644565, 'subsample_freq': 5, 'min_child_samples': 20}. Best is trial 269 with value: 26.460709157671946.\n"
     ]
    },
    {
     "name": "stdout",
     "output_type": "stream",
     "text": [
      "Early stopping, best iteration is:\n",
      "[57]\ttraining's mape: 0.0789966\ttraining's rmse: 66.5732\tvalid_1's mape: 0.413249\tvalid_1's rmse: 644.426\n",
      "Training until validation scores don't improve for 100 rounds\n",
      "Early stopping, best iteration is:\n",
      "[55]\ttraining's mape: 0.0862316\ttraining's rmse: 71.8446\tvalid_1's mape: 0.41286\tvalid_1's rmse: 643.967\n"
     ]
    },
    {
     "name": "stderr",
     "output_type": "stream",
     "text": [
      "[I 2023-08-14 15:52:58,853] Trial 413 finished with value: 26.79172276338099 and parameters: {'learning_rate': 0.07940838233861353, 'n_estimators': 509, 'max_depth': 25, 'num_leaves': 32, 'colsample_bytree': 0.2890976488261396, 'subsample': 0.4211476160619116, 'subsample_freq': 5, 'min_child_samples': 19}. Best is trial 269 with value: 26.460709157671946.\n"
     ]
    },
    {
     "name": "stdout",
     "output_type": "stream",
     "text": [
      "Training until validation scores don't improve for 100 rounds\n",
      "Early stopping, best iteration is:\n",
      "[52]\ttraining's mape: 0.0995682\ttraining's rmse: 81.6333\tvalid_1's mape: 0.412036\tvalid_1's rmse: 643.699\n",
      "Training until validation scores don't improve for 100 rounds\n",
      "Early stopping, best iteration is:\n",
      "[52]\ttraining's mape: 0.10572\ttraining's rmse: 85.952\tvalid_1's mape: 0.41248\tvalid_1's rmse: 644.755\n"
     ]
    },
    {
     "name": "stderr",
     "output_type": "stream",
     "text": [
      "[I 2023-08-14 15:52:59,008] Trial 414 finished with value: 26.81578039244561 and parameters: {'learning_rate': 0.07443874615285681, 'n_estimators': 805, 'max_depth': 27, 'num_leaves': 25, 'colsample_bytree': 0.27327587799922576, 'subsample': 0.36861781090440043, 'subsample_freq': 5, 'min_child_samples': 18}. Best is trial 269 with value: 26.460709157671946.\n",
      "[I 2023-08-14 15:52:59,204] Trial 415 finished with value: 28.029351463888496 and parameters: {'learning_rate': 0.07606616195768892, 'n_estimators': 887, 'max_depth': 26, 'num_leaves': 43, 'colsample_bytree': 0.5118109911701523, 'subsample': 0.400143586899143, 'subsample_freq': 5, 'min_child_samples': 20}. Best is trial 269 with value: 26.460709157671946.\n"
     ]
    },
    {
     "name": "stdout",
     "output_type": "stream",
     "text": [
      "Training until validation scores don't improve for 100 rounds\n",
      "Early stopping, best iteration is:\n",
      "[53]\ttraining's mape: 0.068975\ttraining's rmse: 61.0811\tvalid_1's mape: 0.424302\tvalid_1's rmse: 659.251\n",
      "Training until validation scores don't improve for 100 rounds\n"
     ]
    },
    {
     "name": "stderr",
     "output_type": "stream",
     "text": [
      "[I 2023-08-14 15:52:59,356] Trial 416 finished with value: 28.2730178589573 and parameters: {'learning_rate': 0.0772050531080322, 'n_estimators': 296, 'max_depth': 23, 'num_leaves': 39, 'colsample_bytree': 0.21454162108648073, 'subsample': 0.3421998751365988, 'subsample_freq': 5, 'min_child_samples': 19}. Best is trial 269 with value: 26.460709157671946.\n",
      "[I 2023-08-14 15:52:59,499] Trial 417 finished with value: 28.513789213640763 and parameters: {'learning_rate': 0.06816628973161057, 'n_estimators': 836, 'max_depth': 24, 'num_leaves': 52, 'colsample_bytree': 0.3905724661662948, 'subsample': 0.3845355778531745, 'subsample_freq': 6, 'min_child_samples': 17}. Best is trial 269 with value: 26.460709157671946.\n"
     ]
    },
    {
     "name": "stdout",
     "output_type": "stream",
     "text": [
      "Early stopping, best iteration is:\n",
      "[87]\ttraining's mape: 0.103912\ttraining's rmse: 86.023\tvalid_1's mape: 0.430367\tvalid_1's rmse: 668.992\n",
      "Training until validation scores don't improve for 100 rounds\n",
      "Early stopping, best iteration is:\n",
      "[51]\ttraining's mape: 0.0912626\ttraining's rmse: 76.0924\tvalid_1's mape: 0.432274\tvalid_1's rmse: 671.978\n"
     ]
    },
    {
     "name": "stderr",
     "output_type": "stream",
     "text": [
      "[I 2023-08-14 15:52:59,648] Trial 418 finished with value: 27.107143977266578 and parameters: {'learning_rate': 0.08682151649318468, 'n_estimators': 789, 'max_depth': 25, 'num_leaves': 48, 'colsample_bytree': 0.2982727723124884, 'subsample': 0.43412485085296537, 'subsample_freq': 4, 'min_child_samples': 18}. Best is trial 269 with value: 26.460709157671946.\n"
     ]
    },
    {
     "name": "stdout",
     "output_type": "stream",
     "text": [
      "Training until validation scores don't improve for 100 rounds\n",
      "Early stopping, best iteration is:\n",
      "[47]\ttraining's mape: 0.09782\ttraining's rmse: 80.3382\tvalid_1's mape: 0.415361\tvalid_1's rmse: 649.107\n",
      "Training until validation scores don't improve for 100 rounds\n",
      "Early stopping, best iteration is:\n",
      "[52]\ttraining's mape: 0.116413\ttraining's rmse: 92.0464\tvalid_1's mape: 0.414746\tvalid_1's rmse: 649.251\n"
     ]
    },
    {
     "name": "stderr",
     "output_type": "stream",
     "text": [
      "[I 2023-08-14 15:52:59,791] Trial 419 finished with value: 26.934517811504172 and parameters: {'learning_rate': 0.06648848417316906, 'n_estimators': 817, 'max_depth': 27, 'num_leaves': 37, 'colsample_bytree': 0.3102137876812538, 'subsample': 0.3666033264277341, 'subsample_freq': 5, 'min_child_samples': 19}. Best is trial 269 with value: 26.460709157671946.\n",
      "[I 2023-08-14 15:52:59,969] Trial 420 finished with value: 26.76270970815016 and parameters: {'learning_rate': 0.06381730576589477, 'n_estimators': 867, 'max_depth': 22, 'num_leaves': 43, 'colsample_bytree': 0.3474403288792789, 'subsample': 0.4122232548282977, 'subsample_freq': 5, 'min_child_samples': 21}. Best is trial 269 with value: 26.460709157671946.\n"
     ]
    },
    {
     "name": "stdout",
     "output_type": "stream",
     "text": [
      "Training until validation scores don't improve for 100 rounds\n",
      "Early stopping, best iteration is:\n",
      "[52]\ttraining's mape: 0.120468\ttraining's rmse: 94.2755\tvalid_1's mape: 0.412771\tvalid_1's rmse: 645.7\n",
      "Training until validation scores don't improve for 100 rounds\n",
      "Early stopping, best iteration is:\n",
      "[52]\ttraining's mape: 0.106146\ttraining's rmse: 85.9103\tvalid_1's mape: 0.409381\tvalid_1's rmse: 640.474\n"
     ]
    },
    {
     "name": "stderr",
     "output_type": "stream",
     "text": [
      "[I 2023-08-14 15:53:00,126] Trial 421 finished with value: 26.541476351467942 and parameters: {'learning_rate': 0.07375758040298286, 'n_estimators': 826, 'max_depth': 27, 'num_leaves': 55, 'colsample_bytree': 0.2609637263835849, 'subsample': 0.38987555827798875, 'subsample_freq': 5, 'min_child_samples': 18}. Best is trial 269 with value: 26.460709157671946.\n",
      "[I 2023-08-14 15:53:00,285] Trial 422 finished with value: 26.977067840128665 and parameters: {'learning_rate': 0.07398289931782273, 'n_estimators': 818, 'max_depth': 27, 'num_leaves': 57, 'colsample_bytree': 0.2621182415314709, 'subsample': 0.588207817298487, 'subsample_freq': 5, 'min_child_samples': 17}. Best is trial 269 with value: 26.460709157671946.\n"
     ]
    },
    {
     "name": "stdout",
     "output_type": "stream",
     "text": [
      "Training until validation scores don't improve for 100 rounds\n",
      "Early stopping, best iteration is:\n",
      "[55]\ttraining's mape: 0.093249\ttraining's rmse: 76.2142\tvalid_1's mape: 0.414416\tvalid_1's rmse: 646.554\n",
      "Training until validation scores don't improve for 100 rounds\n"
     ]
    },
    {
     "name": "stderr",
     "output_type": "stream",
     "text": [
      "[I 2023-08-14 15:53:00,482] Trial 423 finished with value: 27.056672468746278 and parameters: {'learning_rate': 0.07305039617438007, 'n_estimators': 841, 'max_depth': 27, 'num_leaves': 56, 'colsample_bytree': 0.31979183268749, 'subsample': 0.6861792954114847, 'subsample_freq': 5, 'min_child_samples': 18}. Best is trial 269 with value: 26.460709157671946.\n",
      "[I 2023-08-14 15:53:00,641] Trial 424 finished with value: 28.220751938030826 and parameters: {'learning_rate': 0.073559522978895, 'n_estimators': 796, 'max_depth': 26, 'num_leaves': 51, 'colsample_bytree': 0.24440681889568122, 'subsample': 0.40221041879801805, 'subsample_freq': 5, 'min_child_samples': 18}. Best is trial 269 with value: 26.460709157671946.\n"
     ]
    },
    {
     "name": "stdout",
     "output_type": "stream",
     "text": [
      "Early stopping, best iteration is:\n",
      "[55]\ttraining's mape: 0.0923815\ttraining's rmse: 75.0904\tvalid_1's mape: 0.415464\tvalid_1's rmse: 647.832\n",
      "Training until validation scores don't improve for 100 rounds\n",
      "Early stopping, best iteration is:\n",
      "[87]\ttraining's mape: 0.103338\ttraining's rmse: 85.746\tvalid_1's mape: 0.430039\tvalid_1's rmse: 668.609\n"
     ]
    },
    {
     "name": "stderr",
     "output_type": "stream",
     "text": [
      "[I 2023-08-14 15:53:00,810] Trial 425 finished with value: 26.62522009420486 and parameters: {'learning_rate': 0.07479611124017031, 'n_estimators': 829, 'max_depth': 27, 'num_leaves': 121, 'colsample_bytree': 0.25527427446184286, 'subsample': 0.39326627350023363, 'subsample_freq': 5, 'min_child_samples': 18}. Best is trial 269 with value: 26.460709157671946.\n"
     ]
    },
    {
     "name": "stdout",
     "output_type": "stream",
     "text": [
      "Training until validation scores don't improve for 100 rounds\n",
      "Early stopping, best iteration is:\n",
      "[56]\ttraining's mape: 0.0983849\ttraining's rmse: 80.8882\tvalid_1's mape: 0.409871\tvalid_1's rmse: 640.323\n",
      "Training until validation scores don't improve for 100 rounds\n"
     ]
    },
    {
     "name": "stderr",
     "output_type": "stream",
     "text": [
      "[I 2023-08-14 15:53:01,000] Trial 426 finished with value: 28.203617971983636 and parameters: {'learning_rate': 0.06943212674136089, 'n_estimators': 744, 'max_depth': 26, 'num_leaves': 48, 'colsample_bytree': 0.2266432932544327, 'subsample': 0.43024570136253704, 'subsample_freq': 6, 'min_child_samples': 18}. Best is trial 269 with value: 26.460709157671946.\n",
      "[I 2023-08-14 15:53:01,142] Trial 427 finished with value: 27.224180622829298 and parameters: {'learning_rate': 0.062260506973656295, 'n_estimators': 765, 'max_depth': 3, 'num_leaves': 63, 'colsample_bytree': 0.30736904201089843, 'subsample': 0.6305072783074791, 'subsample_freq': 5, 'min_child_samples': 17}. Best is trial 269 with value: 26.460709157671946.\n"
     ]
    },
    {
     "name": "stdout",
     "output_type": "stream",
     "text": [
      "Early stopping, best iteration is:\n",
      "[103]\ttraining's mape: 0.0970273\ttraining's rmse: 81.8338\tvalid_1's mape: 0.429527\tvalid_1's rmse: 667.896\n",
      "Training until validation scores don't improve for 100 rounds\n",
      "Early stopping, best iteration is:\n",
      "[86]\ttraining's mape: 0.10436\ttraining's rmse: 85.9088\tvalid_1's mape: 0.41679\tvalid_1's rmse: 648.621\n"
     ]
    },
    {
     "name": "stderr",
     "output_type": "stream",
     "text": [
      "[I 2023-08-14 15:53:01,314] Trial 428 finished with value: 28.033656880846646 and parameters: {'learning_rate': 0.05178172396315134, 'n_estimators': 810, 'max_depth': 28, 'num_leaves': 53, 'colsample_bytree': 0.48306906626363, 'subsample': 0.36052425390526066, 'subsample_freq': 5, 'min_child_samples': 19}. Best is trial 269 with value: 26.460709157671946.\n"
     ]
    },
    {
     "name": "stdout",
     "output_type": "stream",
     "text": [
      "Training until validation scores don't improve for 100 rounds\n",
      "Early stopping, best iteration is:\n",
      "[70]\ttraining's mape: 0.0738609\ttraining's rmse: 64.0334\tvalid_1's mape: 0.42478\tvalid_1's rmse: 660.716\n",
      "Training until validation scores don't improve for 100 rounds\n"
     ]
    },
    {
     "name": "stderr",
     "output_type": "stream",
     "text": [
      "[I 2023-08-14 15:53:01,478] Trial 429 finished with value: 26.7392968608925 and parameters: {'learning_rate': 0.0647616758850196, 'n_estimators': 144, 'max_depth': 27, 'num_leaves': 112, 'colsample_bytree': 0.3387656128936976, 'subsample': 0.4140279028812148, 'subsample_freq': 5, 'min_child_samples': 17}. Best is trial 269 with value: 26.460709157671946.\n",
      "[I 2023-08-14 15:53:01,642] Trial 430 finished with value: 27.077547726306356 and parameters: {'learning_rate': 0.072164723244365, 'n_estimators': 490, 'max_depth': 27, 'num_leaves': 47, 'colsample_bytree': 0.2972785155736852, 'subsample': 0.3741808495861878, 'subsample_freq': 4, 'min_child_samples': 18}. Best is trial 269 with value: 26.460709157671946.\n"
     ]
    },
    {
     "name": "stdout",
     "output_type": "stream",
     "text": [
      "Did not meet early stopping. Best iteration is:\n",
      "[52]\ttraining's mape: 0.116182\ttraining's rmse: 91.2888\tvalid_1's mape: 0.412622\tvalid_1's rmse: 645.351\n",
      "Training until validation scores don't improve for 100 rounds\n",
      "Early stopping, best iteration is:\n",
      "[52]\ttraining's mape: 0.108093\ttraining's rmse: 86.9466\tvalid_1's mape: 0.415867\tvalid_1's rmse: 649.956\n"
     ]
    },
    {
     "name": "stderr",
     "output_type": "stream",
     "text": [
      "[I 2023-08-14 15:53:01,798] Trial 431 finished with value: 26.902778054038308 and parameters: {'learning_rate': 0.08564255342187353, 'n_estimators': 848, 'max_depth': 28, 'num_leaves': 54, 'colsample_bytree': 0.3225181963395406, 'subsample': 0.3133410333090312, 'subsample_freq': 5, 'min_child_samples': 19}. Best is trial 269 with value: 26.460709157671946.\n"
     ]
    },
    {
     "name": "stdout",
     "output_type": "stream",
     "text": [
      "Training until validation scores don't improve for 100 rounds\n",
      "Early stopping, best iteration is:\n",
      "[76]\ttraining's mape: 0.0783351\ttraining's rmse: 67.7924\tvalid_1's mape: 0.411114\tvalid_1's rmse: 641.193\n",
      "Training until validation scores don't improve for 100 rounds\n"
     ]
    },
    {
     "name": "stderr",
     "output_type": "stream",
     "text": [
      "[I 2023-08-14 15:53:01,969] Trial 432 finished with value: 28.613288566762883 and parameters: {'learning_rate': 0.07551296151424285, 'n_estimators': 210, 'max_depth': 26, 'num_leaves': 43, 'colsample_bytree': 0.36434016593526314, 'subsample': 0.3886455395150801, 'subsample_freq': 5, 'min_child_samples': 18}. Best is trial 269 with value: 26.460709157671946.\n",
      "[I 2023-08-14 15:53:02,130] Trial 433 finished with value: 28.623977106025027 and parameters: {'learning_rate': 0.08321311874469843, 'n_estimators': 784, 'max_depth': 26, 'num_leaves': 58, 'colsample_bytree': 0.3898763976945227, 'subsample': 0.35003674988933964, 'subsample_freq': 5, 'min_child_samples': 19}. Best is trial 269 with value: 26.460709157671946.\n"
     ]
    },
    {
     "name": "stdout",
     "output_type": "stream",
     "text": [
      "Early stopping, best iteration is:\n",
      "[43]\ttraining's mape: 0.0940952\ttraining's rmse: 77.6989\tvalid_1's mape: 0.433786\tvalid_1's rmse: 674.555\n",
      "Training until validation scores don't improve for 100 rounds\n",
      "Early stopping, best iteration is:\n",
      "[45]\ttraining's mape: 0.0880618\ttraining's rmse: 74.3482\tvalid_1's mape: 0.433265\tvalid_1's rmse: 673.291\n"
     ]
    },
    {
     "name": "stderr",
     "output_type": "stream",
     "text": [
      "[I 2023-08-14 15:53:02,334] Trial 434 finished with value: 28.322248359033242 and parameters: {'learning_rate': 0.07411136646426762, 'n_estimators': 823, 'max_depth': 27, 'num_leaves': 65, 'colsample_bytree': 0.2358567190677571, 'subsample': 0.40454109685290585, 'subsample_freq': 5, 'min_child_samples': 17}. Best is trial 269 with value: 26.460709157671946.\n"
     ]
    },
    {
     "name": "stdout",
     "output_type": "stream",
     "text": [
      "Training until validation scores don't improve for 100 rounds\n",
      "Early stopping, best iteration is:\n",
      "[160]\ttraining's mape: 0.0741724\ttraining's rmse: 65.4829\tvalid_1's mape: 0.429764\tvalid_1's rmse: 667.743\n"
     ]
    },
    {
     "name": "stderr",
     "output_type": "stream",
     "text": [
      "[I 2023-08-14 15:53:02,506] Trial 435 finished with value: 26.7936065891064 and parameters: {'learning_rate': 0.07254836711170772, 'n_estimators': 801, 'max_depth': 28, 'num_leaves': 49, 'colsample_bytree': 0.28769569257062666, 'subsample': 0.30262187157260784, 'subsample_freq': 5, 'min_child_samples': 18}. Best is trial 269 with value: 26.460709157671946.\n"
     ]
    },
    {
     "name": "stdout",
     "output_type": "stream",
     "text": [
      "Training until validation scores don't improve for 100 rounds\n",
      "Early stopping, best iteration is:\n",
      "[83]\ttraining's mape: 0.0829409\ttraining's rmse: 70.8991\tvalid_1's mape: 0.410727\tvalid_1's rmse: 640.495\n",
      "Training until validation scores don't improve for 100 rounds\n"
     ]
    },
    {
     "name": "stderr",
     "output_type": "stream",
     "text": [
      "[I 2023-08-14 15:53:02,682] Trial 436 finished with value: 28.319755313606755 and parameters: {'learning_rate': 0.07638385178073166, 'n_estimators': 855, 'max_depth': 27, 'num_leaves': 45, 'colsample_bytree': 0.24833080458467846, 'subsample': 0.37394983888390776, 'subsample_freq': 5, 'min_child_samples': 19}. Best is trial 269 with value: 26.460709157671946.\n",
      "[I 2023-08-14 15:53:02,833] Trial 437 finished with value: 26.838487540625604 and parameters: {'learning_rate': 0.06719512000617898, 'n_estimators': 836, 'max_depth': 28, 'num_leaves': 40, 'colsample_bytree': 0.31585588244684526, 'subsample': 0.4654798313597855, 'subsample_freq': 5, 'min_child_samples': 17}. Best is trial 269 with value: 26.460709157671946.\n"
     ]
    },
    {
     "name": "stdout",
     "output_type": "stream",
     "text": [
      "Early stopping, best iteration is:\n",
      "[87]\ttraining's mape: 0.102707\ttraining's rmse: 85.4269\tvalid_1's mape: 0.430987\tvalid_1's rmse: 670.183\n",
      "Training until validation scores don't improve for 100 rounds\n",
      "Early stopping, best iteration is:\n",
      "[52]\ttraining's mape: 0.111455\ttraining's rmse: 88.1492\tvalid_1's mape: 0.413545\tvalid_1's rmse: 646.355\n"
     ]
    },
    {
     "name": "stderr",
     "output_type": "stream",
     "text": [
      "[I 2023-08-14 15:53:03,000] Trial 438 finished with value: 26.570256739737587 and parameters: {'learning_rate': 0.0699749471706825, 'n_estimators': 817, 'max_depth': 25, 'num_leaves': 53, 'colsample_bytree': 0.30413649190388, 'subsample': 0.39097466341081594, 'subsample_freq': 5, 'min_child_samples': 19}. Best is trial 269 with value: 26.460709157671946.\n"
     ]
    },
    {
     "name": "stdout",
     "output_type": "stream",
     "text": [
      "Training until validation scores don't improve for 100 rounds\n",
      "Early stopping, best iteration is:\n",
      "[52]\ttraining's mape: 0.110898\ttraining's rmse: 88.7543\tvalid_1's mape: 0.41002\tvalid_1's rmse: 641.764\n",
      "Training until validation scores don't improve for 100 rounds\n"
     ]
    },
    {
     "name": "stderr",
     "output_type": "stream",
     "text": [
      "[I 2023-08-14 15:53:03,176] Trial 439 finished with value: 26.946434684634248 and parameters: {'learning_rate': 0.06971460681973952, 'n_estimators': 268, 'max_depth': 25, 'num_leaves': 58, 'colsample_bytree': 0.2674564663944269, 'subsample': 0.5730354647697948, 'subsample_freq': 5, 'min_child_samples': 19}. Best is trial 269 with value: 26.460709157671946.\n",
      "[I 2023-08-14 15:53:03,342] Trial 440 finished with value: 26.77488072221983 and parameters: {'learning_rate': 0.06854710921248094, 'n_estimators': 785, 'max_depth': 25, 'num_leaves': 52, 'colsample_bytree': 0.30306447949400084, 'subsample': 0.4216192148448271, 'subsample_freq': 5, 'min_child_samples': 20}. Best is trial 269 with value: 26.460709157671946.\n"
     ]
    },
    {
     "name": "stdout",
     "output_type": "stream",
     "text": [
      "Early stopping, best iteration is:\n",
      "[55]\ttraining's mape: 0.100712\ttraining's rmse: 80.9642\tvalid_1's mape: 0.414464\tvalid_1's rmse: 647.489\n",
      "Training until validation scores don't improve for 100 rounds\n",
      "Early stopping, best iteration is:\n",
      "[52]\ttraining's mape: 0.112906\ttraining's rmse: 89.7505\tvalid_1's mape: 0.412644\tvalid_1's rmse: 645.112\n"
     ]
    },
    {
     "name": "stderr",
     "output_type": "stream",
     "text": [
      "[I 2023-08-14 15:53:03,496] Trial 441 finished with value: 26.770923988153477 and parameters: {'learning_rate': 0.07031133039235037, 'n_estimators': 808, 'max_depth': 26, 'num_leaves': 35, 'colsample_bytree': 0.2921584476262589, 'subsample': 0.4770872774633879, 'subsample_freq': 5, 'min_child_samples': 20}. Best is trial 269 with value: 26.460709157671946.\n"
     ]
    },
    {
     "name": "stdout",
     "output_type": "stream",
     "text": [
      "Training until validation scores don't improve for 100 rounds\n",
      "Early stopping, best iteration is:\n",
      "[52]\ttraining's mape: 0.10874\ttraining's rmse: 86.9113\tvalid_1's mape: 0.412513\tvalid_1's rmse: 645.406\n",
      "Training until validation scores don't improve for 100 rounds\n"
     ]
    },
    {
     "name": "stderr",
     "output_type": "stream",
     "text": [
      "[I 2023-08-14 15:53:03,701] Trial 442 finished with value: 27.020245060750135 and parameters: {'learning_rate': 0.07091066202203614, 'n_estimators': 573, 'max_depth': 28, 'num_leaves': 101, 'colsample_bytree': 0.28325416596178915, 'subsample': 0.6640817726104498, 'subsample_freq': 6, 'min_child_samples': 19}. Best is trial 269 with value: 26.460709157671946.\n",
      "[I 2023-08-14 15:53:03,865] Trial 443 finished with value: 26.984759441209405 and parameters: {'learning_rate': 0.06932018002015337, 'n_estimators': 763, 'max_depth': 25, 'num_leaves': 46, 'colsample_bytree': 0.3307250736614836, 'subsample': 0.5253431953530083, 'subsample_freq': 5, 'min_child_samples': 19}. Best is trial 269 with value: 26.460709157671946.\n"
     ]
    },
    {
     "name": "stdout",
     "output_type": "stream",
     "text": [
      "Early stopping, best iteration is:\n",
      "[52]\ttraining's mape: 0.101461\ttraining's rmse: 81.6686\tvalid_1's mape: 0.415404\tvalid_1's rmse: 648.643\n",
      "Training until validation scores don't improve for 100 rounds\n",
      "Early stopping, best iteration is:\n",
      "[55]\ttraining's mape: 0.102278\ttraining's rmse: 82.6204\tvalid_1's mape: 0.414607\tvalid_1's rmse: 647.98\n"
     ]
    },
    {
     "name": "stderr",
     "output_type": "stream",
     "text": [
      "[I 2023-08-14 15:53:04,041] Trial 444 finished with value: 28.35528971672831 and parameters: {'learning_rate': 0.08116210363146376, 'n_estimators': 726, 'max_depth': 27, 'num_leaves': 41, 'colsample_bytree': 0.41814164827175654, 'subsample': 0.39298634726398307, 'subsample_freq': 4, 'min_child_samples': 21}. Best is trial 269 with value: 26.460709157671946.\n"
     ]
    },
    {
     "name": "stdout",
     "output_type": "stream",
     "text": [
      "Training until validation scores don't improve for 100 rounds\n",
      "Early stopping, best iteration is:\n",
      "[43]\ttraining's mape: 0.0911004\ttraining's rmse: 76.0281\tvalid_1's mape: 0.430306\tvalid_1's rmse: 669.39\n",
      "Training until validation scores don't improve for 100 rounds\n",
      "Early stopping, best iteration is:\n",
      "[55]\ttraining's mape: 0.09645\ttraining's rmse: 78.3094\tvalid_1's mape: 0.41437\tvalid_1's rmse: 646.659\n"
     ]
    },
    {
     "name": "stderr",
     "output_type": "stream",
     "text": [
      "[I 2023-08-14 15:53:04,208] Trial 445 finished with value: 26.956977002042105 and parameters: {'learning_rate': 0.07164313132153828, 'n_estimators': 820, 'max_depth': 26, 'num_leaves': 63, 'colsample_bytree': 0.299249292906339, 'subsample': 0.6393940891571319, 'subsample_freq': 5, 'min_child_samples': 20}. Best is trial 269 with value: 26.460709157671946.\n",
      "[I 2023-08-14 15:53:04,400] Trial 446 finished with value: 26.94960007028132 and parameters: {'learning_rate': 0.07306470521015442, 'n_estimators': 798, 'max_depth': 11, 'num_leaves': 53, 'colsample_bytree': 0.3437997166755121, 'subsample': 0.8771124179679177, 'subsample_freq': 5, 'min_child_samples': 19}. Best is trial 269 with value: 26.460709157671946.\n"
     ]
    },
    {
     "name": "stdout",
     "output_type": "stream",
     "text": [
      "Training until validation scores don't improve for 100 rounds\n",
      "Early stopping, best iteration is:\n",
      "[55]\ttraining's mape: 0.0898902\ttraining's rmse: 72.9515\tvalid_1's mape: 0.414148\tvalid_1's rmse: 646.299\n",
      "Training until validation scores don't improve for 100 rounds\n"
     ]
    },
    {
     "name": "stderr",
     "output_type": "stream",
     "text": [
      "[I 2023-08-14 15:53:04,560] Trial 447 finished with value: 28.37481580498788 and parameters: {'learning_rate': 0.07037594354934103, 'n_estimators': 609, 'max_depth': 24, 'num_leaves': 38, 'colsample_bytree': 0.597244256131839, 'subsample': 0.338626768297163, 'subsample_freq': 5, 'min_child_samples': 18}. Best is trial 269 with value: 26.460709157671946.\n"
     ]
    },
    {
     "name": "stdout",
     "output_type": "stream",
     "text": [
      "Early stopping, best iteration is:\n",
      "[51]\ttraining's mape: 0.0654943\ttraining's rmse: 59.2875\tvalid_1's mape: 0.427237\tvalid_1's rmse: 664.501\n",
      "Training until validation scores don't improve for 100 rounds\n",
      "Early stopping, best iteration is:\n",
      "[51]\ttraining's mape: 0.0707371\ttraining's rmse: 62.0906\tvalid_1's mape: 0.431852\tvalid_1's rmse: 670.567\n"
     ]
    },
    {
     "name": "stderr",
     "output_type": "stream",
     "text": [
      "[I 2023-08-14 15:53:04,738] Trial 448 finished with value: 28.59425829391393 and parameters: {'learning_rate': 0.08409304604233611, 'n_estimators': 852, 'max_depth': 27, 'num_leaves': 58, 'colsample_bytree': 0.3572023788338084, 'subsample': 0.5785694047077993, 'subsample_freq': 5, 'min_child_samples': 18}. Best is trial 269 with value: 26.460709157671946.\n",
      "[I 2023-08-14 15:53:04,916] Trial 449 finished with value: 27.063934154583606 and parameters: {'learning_rate': 0.06574301885606208, 'n_estimators': 233, 'max_depth': 25, 'num_leaves': 48, 'colsample_bytree': 0.30758140844780996, 'subsample': 0.6136884890064137, 'subsample_freq': 6, 'min_child_samples': 19}. Best is trial 269 with value: 26.460709157671946.\n"
     ]
    },
    {
     "name": "stdout",
     "output_type": "stream",
     "text": [
      "Training until validation scores don't improve for 100 rounds\n",
      "Early stopping, best iteration is:\n",
      "[55]\ttraining's mape: 0.103917\ttraining's rmse: 83.186\tvalid_1's mape: 0.415705\tvalid_1's rmse: 649.524\n",
      "Training until validation scores don't improve for 100 rounds\n"
     ]
    },
    {
     "name": "stderr",
     "output_type": "stream",
     "text": [
      "[I 2023-08-14 15:53:05,110] Trial 450 finished with value: 28.13587112134273 and parameters: {'learning_rate': 0.050785743147397464, 'n_estimators': 780, 'max_depth': 28, 'num_leaves': 41, 'colsample_bytree': 0.5731693456396115, 'subsample': 0.9575787519240133, 'subsample_freq': 5, 'min_child_samples': 20}. Best is trial 269 with value: 26.460709157671946.\n",
      "[I 2023-08-14 15:53:05,254] Trial 451 finished with value: 28.1119247366889 and parameters: {'learning_rate': 0.06718631082655228, 'n_estimators': 816, 'max_depth': 26, 'num_leaves': 34, 'colsample_bytree': 0.2100924758519697, 'subsample': 0.3632159897222593, 'subsample_freq': 4, 'min_child_samples': 18}. Best is trial 269 with value: 26.460709157671946.\n"
     ]
    },
    {
     "name": "stdout",
     "output_type": "stream",
     "text": [
      "Early stopping, best iteration is:\n",
      "[53]\ttraining's mape: 0.0746207\ttraining's rmse: 61.1653\tvalid_1's mape: 0.426315\tvalid_1's rmse: 663.511\n",
      "Training until validation scores don't improve for 100 rounds\n",
      "Early stopping, best iteration is:\n",
      "[69]\ttraining's mape: 0.121235\ttraining's rmse: 97.1044\tvalid_1's mape: 0.429915\tvalid_1's rmse: 669.935\n"
     ]
    },
    {
     "name": "stderr",
     "output_type": "stream",
     "text": [
      "[I 2023-08-14 15:53:05,412] Trial 452 finished with value: 28.575922868930814 and parameters: {'learning_rate': 0.0801370984826108, 'n_estimators': 831, 'max_depth': 27, 'num_leaves': 50, 'colsample_bytree': 0.3965869561755159, 'subsample': 0.4055912556373963, 'subsample_freq': 5, 'min_child_samples': 21}. Best is trial 269 with value: 26.460709157671946.\n"
     ]
    },
    {
     "name": "stdout",
     "output_type": "stream",
     "text": [
      "Training until validation scores don't improve for 100 rounds\n",
      "Early stopping, best iteration is:\n",
      "[45]\ttraining's mape: 0.0888375\ttraining's rmse: 74.8977\tvalid_1's mape: 0.432939\tvalid_1's rmse: 672.613\n",
      "Training until validation scores don't improve for 100 rounds\n",
      "Early stopping, best iteration is:\n",
      "[55]\ttraining's mape: 0.103222\ttraining's rmse: 83.3753\tvalid_1's mape: 0.414275\tvalid_1's rmse: 647.188\n"
     ]
    },
    {
     "name": "stderr",
     "output_type": "stream",
     "text": [
      "[I 2023-08-14 15:53:05,570] Trial 453 finished with value: 26.93669471125156 and parameters: {'learning_rate': 0.06853582505817361, 'n_estimators': 470, 'max_depth': 26, 'num_leaves': 69, 'colsample_bytree': 0.2615337646881492, 'subsample': 0.49397930433391213, 'subsample_freq': 5, 'min_child_samples': 19}. Best is trial 269 with value: 26.460709157671946.\n",
      "[I 2023-08-14 15:53:05,728] Trial 454 finished with value: 26.62819690735957 and parameters: {'learning_rate': 0.08248388737827528, 'n_estimators': 495, 'max_depth': 25, 'num_leaves': 90, 'colsample_bytree': 0.2900981142649025, 'subsample': 0.3777056083530621, 'subsample_freq': 5, 'min_child_samples': 20}. Best is trial 269 with value: 26.460709157671946.\n",
      "[I 2023-08-14 15:53:05,887] Trial 455 finished with value: 26.87177352605492 and parameters: {'learning_rate': 0.061317984717241876, 'n_estimators': 364, 'max_depth': 28, 'num_leaves': 44, 'colsample_bytree': 0.3248486676869812, 'subsample': 0.3922735891031817, 'subsample_freq': 5, 'min_child_samples': 18}. Best is trial 269 with value: 26.460709157671946.\n"
     ]
    },
    {
     "name": "stdout",
     "output_type": "stream",
     "text": [
      "Training until validation scores don't improve for 100 rounds\n",
      "Early stopping, best iteration is:\n",
      "[57]\ttraining's mape: 0.0930185\ttraining's rmse: 78.301\tvalid_1's mape: 0.409269\tvalid_1's rmse: 639.178\n",
      "Training until validation scores don't improve for 100 rounds\n",
      "Early stopping, best iteration is:\n",
      "[82]\ttraining's mape: 0.0872686\ttraining's rmse: 73.2734\tvalid_1's mape: 0.412266\tvalid_1's rmse: 642.913\n"
     ]
    },
    {
     "name": "stderr",
     "output_type": "stream",
     "text": [
      "[I 2023-08-14 15:53:06,032] Trial 456 finished with value: 26.673951892580465 and parameters: {'learning_rate': 0.07473748124344182, 'n_estimators': 863, 'max_depth': 27, 'num_leaves': 28, 'colsample_bytree': 0.28138761049500405, 'subsample': 0.3529729471213073, 'subsample_freq': 5, 'min_child_samples': 22}. Best is trial 269 with value: 26.460709157671946.\n"
     ]
    },
    {
     "name": "stdout",
     "output_type": "stream",
     "text": [
      "Training until validation scores don't improve for 100 rounds\n",
      "Early stopping, best iteration is:\n",
      "[51]\ttraining's mape: 0.110587\ttraining's rmse: 89.1847\tvalid_1's mape: 0.410905\tvalid_1's rmse: 642.782\n",
      "Training until validation scores don't improve for 100 rounds\n",
      "Early stopping, best iteration is:\n",
      "[52]\ttraining's mape: 0.0997209\ttraining's rmse: 81.5639\tvalid_1's mape: 0.413591\tvalid_1's rmse: 645.46\n"
     ]
    },
    {
     "name": "stderr",
     "output_type": "stream",
     "text": [
      "[I 2023-08-14 15:53:06,186] Trial 457 finished with value: 26.92404926987555 and parameters: {'learning_rate': 0.07850994424306587, 'n_estimators': 802, 'max_depth': 29, 'num_leaves': 54, 'colsample_bytree': 0.2970382321544493, 'subsample': 0.4463176993358846, 'subsample_freq': 5, 'min_child_samples': 19}. Best is trial 269 with value: 26.460709157671946.\n",
      "[I 2023-08-14 15:53:06,331] Trial 458 finished with value: 26.82553995573696 and parameters: {'learning_rate': 0.07175449026815948, 'n_estimators': 843, 'max_depth': 24, 'num_leaves': 59, 'colsample_bytree': 0.335774279482757, 'subsample': 0.32791959091738765, 'subsample_freq': 5, 'min_child_samples': 20}. Best is trial 269 with value: 26.460709157671946.\n"
     ]
    },
    {
     "name": "stdout",
     "output_type": "stream",
     "text": [
      "Training until validation scores don't improve for 100 rounds\n",
      "Early stopping, best iteration is:\n",
      "[51]\ttraining's mape: 0.115029\ttraining's rmse: 91.9057\tvalid_1's mape: 0.412928\tvalid_1's rmse: 645.637\n",
      "Training until validation scores don't improve for 100 rounds\n"
     ]
    },
    {
     "name": "stderr",
     "output_type": "stream",
     "text": [
      "[I 2023-08-14 15:53:06,503] Trial 459 finished with value: 26.816853134284475 and parameters: {'learning_rate': 0.0731256559024315, 'n_estimators': 821, 'max_depth': 26, 'num_leaves': 46, 'colsample_bytree': 0.31491677056883777, 'subsample': 0.6419296374194303, 'subsample_freq': 5, 'min_child_samples': 19}. Best is trial 269 with value: 26.460709157671946.\n",
      "[I 2023-08-14 15:53:06,658] Trial 460 finished with value: 27.180079631952953 and parameters: {'learning_rate': 0.07407594177863061, 'n_estimators': 872, 'max_depth': 28, 'num_leaves': 37, 'colsample_bytree': 0.26955069352979844, 'subsample': 0.40988264731882895, 'subsample_freq': 4, 'min_child_samples': 18}. Best is trial 269 with value: 26.460709157671946.\n"
     ]
    },
    {
     "name": "stdout",
     "output_type": "stream",
     "text": [
      "Early stopping, best iteration is:\n",
      "[55]\ttraining's mape: 0.0948829\ttraining's rmse: 77.4911\tvalid_1's mape: 0.412626\tvalid_1's rmse: 644.274\n",
      "Training until validation scores don't improve for 100 rounds\n",
      "Early stopping, best iteration is:\n",
      "[52]\ttraining's mape: 0.105609\ttraining's rmse: 85.0002\tvalid_1's mape: 0.41681\tvalid_1's rmse: 650.959\n"
     ]
    },
    {
     "name": "stderr",
     "output_type": "stream",
     "text": [
      "[I 2023-08-14 15:53:06,818] Trial 461 finished with value: 26.590943997300748 and parameters: {'learning_rate': 0.08656087254889237, 'n_estimators': 778, 'max_depth': 23, 'num_leaves': 50, 'colsample_bytree': 0.3059178176731298, 'subsample': 0.37804047011736563, 'subsample_freq': 5, 'min_child_samples': 19}. Best is trial 269 with value: 26.460709157671946.\n"
     ]
    },
    {
     "name": "stdout",
     "output_type": "stream",
     "text": [
      "Training until validation scores don't improve for 100 rounds\n",
      "Early stopping, best iteration is:\n",
      "[52]\ttraining's mape: 0.0939102\ttraining's rmse: 78.7463\tvalid_1's mape: 0.409019\tvalid_1's rmse: 639.382\n",
      "Training until validation scores don't improve for 100 rounds\n",
      "Early stopping, best iteration is:\n",
      "[51]\ttraining's mape: 0.0924662\ttraining's rmse: 76.9419\tvalid_1's mape: 0.430524\tvalid_1's rmse: 669.776\n"
     ]
    },
    {
     "name": "stderr",
     "output_type": "stream",
     "text": [
      "[I 2023-08-14 15:53:06,974] Trial 462 finished with value: 28.363703670514173 and parameters: {'learning_rate': 0.06973455924762885, 'n_estimators': 763, 'max_depth': 23, 'num_leaves': 54, 'colsample_bytree': 0.37872280628828736, 'subsample': 0.36533895533631616, 'subsample_freq': 6, 'min_child_samples': 19}. Best is trial 269 with value: 26.460709157671946.\n",
      "[I 2023-08-14 15:53:07,160] Trial 463 finished with value: 26.842163550768163 and parameters: {'learning_rate': 0.08759415058615168, 'n_estimators': 793, 'max_depth': 27, 'num_leaves': 61, 'colsample_bytree': 0.3049152450804287, 'subsample': 0.7509990939791957, 'subsample_freq': 5, 'min_child_samples': 18}. Best is trial 269 with value: 26.460709157671946.\n"
     ]
    },
    {
     "name": "stdout",
     "output_type": "stream",
     "text": [
      "Training until validation scores don't improve for 100 rounds\n",
      "Early stopping, best iteration is:\n",
      "[57]\ttraining's mape: 0.0749994\ttraining's rmse: 63.8919\tvalid_1's mape: 0.412074\tvalid_1's rmse: 642.223\n",
      "Training until validation scores don't improve for 100 rounds\n"
     ]
    },
    {
     "name": "stderr",
     "output_type": "stream",
     "text": [
      "[I 2023-08-14 15:53:07,324] Trial 464 finished with value: 27.03146159863856 and parameters: {'learning_rate': 0.08604632608414294, 'n_estimators': 738, 'max_depth': 27, 'num_leaves': 52, 'colsample_bytree': 0.32031550887732074, 'subsample': 0.5584396227836885, 'subsample_freq': 5, 'min_child_samples': 18}. Best is trial 269 with value: 26.460709157671946.\n",
      "[I 2023-08-14 15:53:07,486] Trial 465 finished with value: 26.78737855285042 and parameters: {'learning_rate': 0.08462745610803922, 'n_estimators': 772, 'max_depth': 28, 'num_leaves': 67, 'colsample_bytree': 0.32880749487011557, 'subsample': 0.4257794145988214, 'subsample_freq': 5, 'min_child_samples': 19}. Best is trial 269 with value: 26.460709157671946.\n"
     ]
    },
    {
     "name": "stdout",
     "output_type": "stream",
     "text": [
      "Early stopping, best iteration is:\n",
      "[55]\ttraining's mape: 0.0837706\ttraining's rmse: 70.9354\tvalid_1's mape: 0.414139\tvalid_1's rmse: 645.5\n",
      "Training until validation scores don't improve for 100 rounds\n",
      "Early stopping, best iteration is:\n",
      "[52]\ttraining's mape: 0.094222\ttraining's rmse: 78.0418\tvalid_1's mape: 0.411667\tvalid_1's rmse: 642.673\n"
     ]
    },
    {
     "name": "stderr",
     "output_type": "stream",
     "text": [
      "[I 2023-08-14 15:53:07,626] Trial 466 finished with value: 26.625297645750397 and parameters: {'learning_rate': 0.08719422596597132, 'n_estimators': 749, 'max_depth': 29, 'num_leaves': 49, 'colsample_bytree': 0.30801708954615165, 'subsample': 0.3748546340784884, 'subsample_freq': 5, 'min_child_samples': 18}. Best is trial 269 with value: 26.460709157671946.\n"
     ]
    },
    {
     "name": "stdout",
     "output_type": "stream",
     "text": [
      "Training until validation scores don't improve for 100 rounds\n",
      "Early stopping, best iteration is:\n",
      "[52]\ttraining's mape: 0.0935611\ttraining's rmse: 78.2785\tvalid_1's mape: 0.409249\tvalid_1's rmse: 639.42\n",
      "Training until validation scores don't improve for 100 rounds\n",
      "Early stopping, best iteration is:\n",
      "[43]\ttraining's mape: 0.0809971\ttraining's rmse: 69.562\tvalid_1's mape: 0.432507\tvalid_1's rmse: 671.761\n"
     ]
    },
    {
     "name": "stderr",
     "output_type": "stream",
     "text": [
      "[I 2023-08-14 15:53:07,785] Trial 467 finished with value: 28.60696578537271 and parameters: {'learning_rate': 0.08838426413762039, 'n_estimators': 778, 'max_depth': 26, 'num_leaves': 47, 'colsample_bytree': 0.37307504041883177, 'subsample': 0.39722742182762333, 'subsample_freq': 5, 'min_child_samples': 17}. Best is trial 269 with value: 26.460709157671946.\n",
      "[I 2023-08-14 15:53:07,939] Trial 468 finished with value: 28.673811577330348 and parameters: {'learning_rate': 0.086803564488211, 'n_estimators': 790, 'max_depth': 27, 'num_leaves': 57, 'colsample_bytree': 0.42716893774629927, 'subsample': 0.3501303775646208, 'subsample_freq': 6, 'min_child_samples': 19}. Best is trial 269 with value: 26.460709157671946.\n"
     ]
    },
    {
     "name": "stdout",
     "output_type": "stream",
     "text": [
      "Training until validation scores don't improve for 100 rounds\n",
      "Early stopping, best iteration is:\n",
      "[70]\ttraining's mape: 0.0639117\ttraining's rmse: 59.1217\tvalid_1's mape: 0.431774\tvalid_1's rmse: 670.269\n",
      "Training until validation scores don't improve for 100 rounds\n",
      "Early stopping, best iteration is:\n",
      "[83]\ttraining's mape: 0.0920208\ttraining's rmse: 76.5849\tvalid_1's mape: 0.411459\tvalid_1's rmse: 641.902\n"
     ]
    },
    {
     "name": "stderr",
     "output_type": "stream",
     "text": [
      "[I 2023-08-14 15:53:08,102] Trial 469 finished with value: 26.78319378604357 and parameters: {'learning_rate': 0.05797000187625022, 'n_estimators': 812, 'max_depth': 22, 'num_leaves': 107, 'colsample_bytree': 0.3441024265291526, 'subsample': 0.3838592623598855, 'subsample_freq': 5, 'min_child_samples': 19}. Best is trial 269 with value: 26.460709157671946.\n",
      "[I 2023-08-14 15:53:08,257] Trial 470 finished with value: 26.947127004771243 and parameters: {'learning_rate': 0.06796364906768852, 'n_estimators': 715, 'max_depth': 20, 'num_leaves': 80, 'colsample_bytree': 0.251351649208058, 'subsample': 0.5055516940544977, 'subsample_freq': 5, 'min_child_samples': 17}. Best is trial 269 with value: 26.460709157671946.\n"
     ]
    },
    {
     "name": "stdout",
     "output_type": "stream",
     "text": [
      "Training until validation scores don't improve for 100 rounds\n",
      "Early stopping, best iteration is:\n",
      "[52]\ttraining's mape: 0.108023\ttraining's rmse: 85.7915\tvalid_1's mape: 0.414625\tvalid_1's rmse: 647.982\n",
      "Training until validation scores don't improve for 100 rounds\n",
      "Early stopping, best iteration is:\n",
      "[52]\ttraining's mape: 0.094576\ttraining's rmse: 78.7704\tvalid_1's mape: 0.411404\tvalid_1's rmse: 643.184\n"
     ]
    },
    {
     "name": "stderr",
     "output_type": "stream",
     "text": [
      "[I 2023-08-14 15:53:08,407] Trial 471 finished with value: 26.789247710549347 and parameters: {'learning_rate': 0.08600245665200311, 'n_estimators': 452, 'max_depth': 27, 'num_leaves': 43, 'colsample_bytree': 0.3158273022621103, 'subsample': 0.3687640824922845, 'subsample_freq': 5, 'min_child_samples': 18}. Best is trial 269 with value: 26.460709157671946.\n",
      "[I 2023-08-14 15:53:08,553] Trial 472 finished with value: 26.703254580181103 and parameters: {'learning_rate': 0.07235251461719244, 'n_estimators': 759, 'max_depth': 26, 'num_leaves': 60, 'colsample_bytree': 0.3342762585840093, 'subsample': 0.41500250412118106, 'subsample_freq': 5, 'min_child_samples': 19}. Best is trial 269 with value: 26.460709157671946.\n"
     ]
    },
    {
     "name": "stdout",
     "output_type": "stream",
     "text": [
      "Training until validation scores don't improve for 100 rounds\n",
      "Early stopping, best iteration is:\n",
      "[52]\ttraining's mape: 0.107338\ttraining's rmse: 86.0998\tvalid_1's mape: 0.411473\tvalid_1's rmse: 642.74\n",
      "Training until validation scores don't improve for 100 rounds\n",
      "Early stopping, best iteration is:\n",
      "[71]\ttraining's mape: 0.104604\ttraining's rmse: 85.1842\tvalid_1's mape: 0.430069\tvalid_1's rmse: 669.168\n"
     ]
    },
    {
     "name": "stderr",
     "output_type": "stream",
     "text": [
      "[I 2023-08-14 15:53:08,729] Trial 473 finished with value: 28.146723726022255 and parameters: {'learning_rate': 0.07079190125063158, 'n_estimators': 316, 'max_depth': 28, 'num_leaves': 54, 'colsample_bytree': 0.2312952352719514, 'subsample': 0.8266845139260399, 'subsample_freq': 4, 'min_child_samples': 18}. Best is trial 269 with value: 26.460709157671946.\n",
      "[I 2023-08-14 15:53:08,877] Trial 474 finished with value: 26.59005467742527 and parameters: {'learning_rate': 0.06490295164714506, 'n_estimators': 794, 'max_depth': 26, 'num_leaves': 49, 'colsample_bytree': 0.3015995100093953, 'subsample': 0.3980390775900843, 'subsample_freq': 5, 'min_child_samples': 20}. Best is trial 269 with value: 26.460709157671946.\n"
     ]
    },
    {
     "name": "stdout",
     "output_type": "stream",
     "text": [
      "Training until validation scores don't improve for 100 rounds\n",
      "Early stopping, best iteration is:\n",
      "[53]\ttraining's mape: 0.116932\ttraining's rmse: 92.2848\tvalid_1's mape: 0.41064\tvalid_1's rmse: 642.521\n",
      "Training until validation scores don't improve for 100 rounds\n",
      "Early stopping, best iteration is:\n",
      "[55]\ttraining's mape: 0.104527\ttraining's rmse: 83.8077\tvalid_1's mape: 0.414663\tvalid_1's rmse: 648.295\n"
     ]
    },
    {
     "name": "stderr",
     "output_type": "stream",
     "text": [
      "[I 2023-08-14 15:53:09,035] Trial 475 finished with value: 26.97520484149656 and parameters: {'learning_rate': 0.06761355485418553, 'n_estimators': 781, 'max_depth': 26, 'num_leaves': 50, 'colsample_bytree': 0.3039556823461736, 'subsample': 0.541706747281955, 'subsample_freq': 5, 'min_child_samples': 20}. Best is trial 269 with value: 26.460709157671946.\n",
      "[I 2023-08-14 15:53:09,215] Trial 476 finished with value: 28.160196659481052 and parameters: {'learning_rate': 0.06439829190236622, 'n_estimators': 806, 'max_depth': 27, 'num_leaves': 45, 'colsample_bytree': 0.20098248620085882, 'subsample': 0.40234190761872185, 'subsample_freq': 5, 'min_child_samples': 21}. Best is trial 269 with value: 26.460709157671946.\n"
     ]
    },
    {
     "name": "stdout",
     "output_type": "stream",
     "text": [
      "Training until validation scores don't improve for 100 rounds\n",
      "Early stopping, best iteration is:\n",
      "[87]\ttraining's mape: 0.112482\ttraining's rmse: 91.8492\tvalid_1's mape: 0.429742\tvalid_1's rmse: 668.515\n",
      "Training until validation scores don't improve for 100 rounds\n",
      "Early stopping, best iteration is:\n",
      "[52]\ttraining's mape: 0.119122\ttraining's rmse: 93.2634\tvalid_1's mape: 0.412632\tvalid_1's rmse: 645.866\n"
     ]
    },
    {
     "name": "stderr",
     "output_type": "stream",
     "text": [
      "[I 2023-08-14 15:53:09,371] Trial 477 finished with value: 26.73934880954444 and parameters: {'learning_rate': 0.06400123187730615, 'n_estimators': 796, 'max_depth': 27, 'num_leaves': 56, 'colsample_bytree': 0.3093203900005498, 'subsample': 0.4355914705936867, 'subsample_freq': 5, 'min_child_samples': 20}. Best is trial 269 with value: 26.460709157671946.\n",
      "[I 2023-08-14 15:53:09,511] Trial 478 finished with value: 27.04890387788503 and parameters: {'learning_rate': 0.06539716818093193, 'n_estimators': 779, 'max_depth': 28, 'num_leaves': 50, 'colsample_bytree': 0.2984097187691633, 'subsample': 0.32181177062355937, 'subsample_freq': 5, 'min_child_samples': 20}. Best is trial 269 with value: 26.460709157671946.\n"
     ]
    },
    {
     "name": "stdout",
     "output_type": "stream",
     "text": [
      "Training until validation scores don't improve for 100 rounds\n",
      "Early stopping, best iteration is:\n",
      "[83]\ttraining's mape: 0.0891384\ttraining's rmse: 74.7417\tvalid_1's mape: 0.414047\tvalid_1's rmse: 645.652\n",
      "Training until validation scores don't improve for 100 rounds\n",
      "Early stopping, best iteration is:\n",
      "[52]\ttraining's mape: 0.117879\ttraining's rmse: 93.1234\tvalid_1's mape: 0.411736\tvalid_1's rmse: 644.563\n"
     ]
    },
    {
     "name": "stderr",
     "output_type": "stream",
     "text": [
      "[I 2023-08-14 15:53:09,655] Trial 479 finished with value: 26.68420201368727 and parameters: {'learning_rate': 0.06618276050268215, 'n_estimators': 825, 'max_depth': 26, 'num_leaves': 64, 'colsample_bytree': 0.3134994610876036, 'subsample': 0.3818597667306482, 'subsample_freq': 5, 'min_child_samples': 21}. Best is trial 269 with value: 26.460709157671946.\n",
      "[I 2023-08-14 15:53:09,809] Trial 480 finished with value: 28.63681653040692 and parameters: {'learning_rate': 0.0688854637046801, 'n_estimators': 767, 'max_depth': 29, 'num_leaves': 43, 'colsample_bytree': 0.35184923427401477, 'subsample': 0.3605926251367782, 'subsample_freq': 5, 'min_child_samples': 20}. Best is trial 269 with value: 26.460709157671946.\n"
     ]
    },
    {
     "name": "stdout",
     "output_type": "stream",
     "text": [
      "Training until validation scores don't improve for 100 rounds\n",
      "Early stopping, best iteration is:\n",
      "[84]\ttraining's mape: 0.066713\ttraining's rmse: 60.8042\tvalid_1's mape: 0.431913\tvalid_1's rmse: 670.386\n",
      "Training until validation scores don't improve for 100 rounds\n"
     ]
    },
    {
     "name": "stderr",
     "output_type": "stream",
     "text": [
      "[I 2023-08-14 15:53:09,994] Trial 481 finished with value: 26.923124454039648 and parameters: {'learning_rate': 0.0626174258762171, 'n_estimators': 806, 'max_depth': 27, 'num_leaves': 49, 'colsample_bytree': 0.3242141392227741, 'subsample': 0.7185821943859925, 'subsample_freq': 5, 'min_child_samples': 21}. Best is trial 269 with value: 26.460709157671946.\n",
      "[I 2023-08-14 15:53:10,162] Trial 482 finished with value: 27.942860311063246 and parameters: {'learning_rate': 0.06652377753412313, 'n_estimators': 339, 'max_depth': 28, 'num_leaves': 41, 'colsample_bytree': 0.533406843834171, 'subsample': 0.3981899728396052, 'subsample_freq': 6, 'min_child_samples': 19}. Best is trial 269 with value: 26.460709157671946.\n"
     ]
    },
    {
     "name": "stdout",
     "output_type": "stream",
     "text": [
      "Early stopping, best iteration is:\n",
      "[55]\ttraining's mape: 0.108041\ttraining's rmse: 85.1402\tvalid_1's mape: 0.41476\tvalid_1's rmse: 647.745\n",
      "Training until validation scores don't improve for 100 rounds\n",
      "Early stopping, best iteration is:\n",
      "[53]\ttraining's mape: 0.0748946\ttraining's rmse: 64.5557\tvalid_1's mape: 0.423591\tvalid_1's rmse: 659.351\n"
     ]
    },
    {
     "name": "stderr",
     "output_type": "stream",
     "text": [
      "[I 2023-08-14 15:53:10,336] Trial 483 finished with value: 27.0859438202801 and parameters: {'learning_rate': 0.06316515312116093, 'n_estimators': 791, 'max_depth': 26, 'num_leaves': 31, 'colsample_bytree': 0.29109583114882764, 'subsample': 0.6958813125621257, 'subsample_freq': 4, 'min_child_samples': 22}. Best is trial 269 with value: 26.460709157671946.\n"
     ]
    },
    {
     "name": "stdout",
     "output_type": "stream",
     "text": [
      "Training until validation scores don't improve for 100 rounds\n",
      "Early stopping, best iteration is:\n",
      "[86]\ttraining's mape: 0.0797317\ttraining's rmse: 67.462\tvalid_1's mape: 0.414605\tvalid_1's rmse: 646.343\n",
      "Training until validation scores don't improve for 100 rounds\n",
      "Early stopping, best iteration is:\n",
      "[52]\ttraining's mape: 0.127511\ttraining's rmse: 99.2517\tvalid_1's mape: 0.413141\tvalid_1's rmse: 646.938\n"
     ]
    },
    {
     "name": "stderr",
     "output_type": "stream",
     "text": [
      "[I 2023-08-14 15:53:10,485] Trial 484 finished with value: 26.76990955728425 and parameters: {'learning_rate': 0.0649268472530102, 'n_estimators': 833, 'max_depth': 27, 'num_leaves': 129, 'colsample_bytree': 0.30204615298708165, 'subsample': 0.34433685474789677, 'subsample_freq': 5, 'min_child_samples': 26}. Best is trial 269 with value: 26.460709157671946.\n",
      "[I 2023-08-14 15:53:10,635] Trial 485 finished with value: 26.71035886160339 and parameters: {'learning_rate': 0.08373154790223175, 'n_estimators': 753, 'max_depth': 27, 'num_leaves': 57, 'colsample_bytree': 0.31811489311508867, 'subsample': 0.41622387434622254, 'subsample_freq': 5, 'min_child_samples': 20}. Best is trial 269 with value: 26.460709157671946.\n"
     ]
    },
    {
     "name": "stdout",
     "output_type": "stream",
     "text": [
      "Training until validation scores don't improve for 100 rounds\n",
      "Early stopping, best iteration is:\n",
      "[52]\ttraining's mape: 0.0963717\ttraining's rmse: 79.7416\tvalid_1's mape: 0.41068\tvalid_1's rmse: 640.75\n",
      "Training until validation scores don't improve for 100 rounds\n",
      "Early stopping, best iteration is:\n",
      "[50]\ttraining's mape: 0.112033\ttraining's rmse: 89.6275\tvalid_1's mape: 0.411842\tvalid_1's rmse: 644.704\n"
     ]
    },
    {
     "name": "stderr",
     "output_type": "stream",
     "text": [
      "[I 2023-08-14 15:53:10,781] Trial 486 finished with value: 26.715597093865313 and parameters: {'learning_rate': 0.07135841795795163, 'n_estimators': 815, 'max_depth': 26, 'num_leaves': 52, 'colsample_bytree': 0.28383026144142287, 'subsample': 0.37342463972489465, 'subsample_freq': 5, 'min_child_samples': 19}. Best is trial 269 with value: 26.460709157671946.\n",
      "[I 2023-08-14 15:53:10,930] Trial 487 finished with value: 26.64919795215862 and parameters: {'learning_rate': 0.07044980428664754, 'n_estimators': 851, 'max_depth': 28, 'num_leaves': 46, 'colsample_bytree': 0.30898213462509294, 'subsample': 0.38723230318466606, 'subsample_freq': 5, 'min_child_samples': 20}. Best is trial 269 with value: 26.460709157671946.\n"
     ]
    },
    {
     "name": "stdout",
     "output_type": "stream",
     "text": [
      "Training until validation scores don't improve for 100 rounds\n",
      "Early stopping, best iteration is:\n",
      "[52]\ttraining's mape: 0.111624\ttraining's rmse: 89.4279\tvalid_1's mape: 0.410805\tvalid_1's rmse: 642.778\n",
      "Training until validation scores don't improve for 100 rounds\n"
     ]
    },
    {
     "name": "stderr",
     "output_type": "stream",
     "text": [
      "[I 2023-08-14 15:53:11,104] Trial 488 finished with value: 27.027785857153162 and parameters: {'learning_rate': 0.08498065706977992, 'n_estimators': 971, 'max_depth': 26, 'num_leaves': 39, 'colsample_bytree': 0.29502433267599804, 'subsample': 0.5890946640497867, 'subsample_freq': 5, 'min_child_samples': 19}. Best is trial 269 with value: 26.460709157671946.\n"
     ]
    },
    {
     "name": "stdout",
     "output_type": "stream",
     "text": [
      "Early stopping, best iteration is:\n",
      "[56]\ttraining's mape: 0.0841789\ttraining's rmse: 70.9021\tvalid_1's mape: 0.414139\tvalid_1's rmse: 645.825\n",
      "Training until validation scores don't improve for 100 rounds\n",
      "Early stopping, best iteration is:\n",
      "[55]\ttraining's mape: 0.0903098\ttraining's rmse: 73.4431\tvalid_1's mape: 0.413274\tvalid_1's rmse: 644.776\n"
     ]
    },
    {
     "name": "stderr",
     "output_type": "stream",
     "text": [
      "[I 2023-08-14 15:53:11,290] Trial 489 finished with value: 26.86888886661475 and parameters: {'learning_rate': 0.07336442334945813, 'n_estimators': 797, 'max_depth': 21, 'num_leaves': 61, 'colsample_bytree': 0.3259222548164751, 'subsample': 0.78084128051902, 'subsample_freq': 5, 'min_child_samples': 19}. Best is trial 269 with value: 26.460709157671946.\n",
      "[I 2023-08-14 15:53:11,467] Trial 490 finished with value: 28.71340155259694 and parameters: {'learning_rate': 0.07212364324633665, 'n_estimators': 814, 'max_depth': 26, 'num_leaves': 55, 'colsample_bytree': 0.40062636547931607, 'subsample': 0.36052224550215056, 'subsample_freq': 5, 'min_child_samples': 18}. Best is trial 269 with value: 26.460709157671946.\n"
     ]
    },
    {
     "name": "stdout",
     "output_type": "stream",
     "text": [
      "Training until validation scores don't improve for 100 rounds\n",
      "Early stopping, best iteration is:\n",
      "[82]\ttraining's mape: 0.0639494\ttraining's rmse: 58.7145\tvalid_1's mape: 0.432536\tvalid_1's rmse: 671.537\n",
      "Training until validation scores don't improve for 100 rounds\n"
     ]
    },
    {
     "name": "stderr",
     "output_type": "stream",
     "text": [
      "[I 2023-08-14 15:53:11,621] Trial 491 finished with value: 26.57179993622242 and parameters: {'learning_rate': 0.08935334838402885, 'n_estimators': 828, 'max_depth': 19, 'num_leaves': 48, 'colsample_bytree': 0.30385185088495226, 'subsample': 0.39544342122555887, 'subsample_freq': 5, 'min_child_samples': 21}. Best is trial 269 with value: 26.460709157671946.\n",
      "[I 2023-08-14 15:53:11,794] Trial 492 finished with value: 27.112441659490187 and parameters: {'learning_rate': 0.0687018616929574, 'n_estimators': 878, 'max_depth': 20, 'num_leaves': 48, 'colsample_bytree': 0.302247199346062, 'subsample': 0.6823795502121539, 'subsample_freq': 6, 'min_child_samples': 21}. Best is trial 269 with value: 26.460709157671946.\n"
     ]
    },
    {
     "name": "stdout",
     "output_type": "stream",
     "text": [
      "Early stopping, best iteration is:\n",
      "[52]\ttraining's mape: 0.0928661\ttraining's rmse: 77.9111\tvalid_1's mape: 0.408708\tvalid_1's rmse: 638.362\n",
      "Training until validation scores don't improve for 100 rounds\n",
      "Early stopping, best iteration is:\n",
      "[55]\ttraining's mape: 0.0996355\ttraining's rmse: 80.4408\tvalid_1's mape: 0.416274\tvalid_1's rmse: 649.612\n"
     ]
    },
    {
     "name": "stderr",
     "output_type": "stream",
     "text": [
      "[I 2023-08-14 15:53:11,937] Trial 493 finished with value: 26.7119153824494 and parameters: {'learning_rate': 0.08970522141440931, 'n_estimators': 836, 'max_depth': 18, 'num_leaves': 43, 'colsample_bytree': 0.2897348918201839, 'subsample': 0.4056299562780804, 'subsample_freq': 5, 'min_child_samples': 20}. Best is trial 269 with value: 26.460709157671946.\n"
     ]
    },
    {
     "name": "stdout",
     "output_type": "stream",
     "text": [
      "Training until validation scores don't improve for 100 rounds\n",
      "Early stopping, best iteration is:\n",
      "[52]\ttraining's mape: 0.0910646\ttraining's rmse: 76.4906\tvalid_1's mape: 0.409997\tvalid_1's rmse: 640.768\n",
      "Training until validation scores don't improve for 100 rounds\n",
      "Early stopping, best iteration is:\n",
      "[52]\ttraining's mape: 0.0927866\ttraining's rmse: 77.4305\tvalid_1's mape: 0.412437\tvalid_1's rmse: 643.55\n"
     ]
    },
    {
     "name": "stderr",
     "output_type": "stream",
     "text": [
      "[I 2023-08-14 15:53:12,076] Trial 494 finished with value: 26.89527221535818 and parameters: {'learning_rate': 0.08824270359877028, 'n_estimators': 857, 'max_depth': 20, 'num_leaves': 35, 'colsample_bytree': 0.2990972957077952, 'subsample': 0.43130215705541797, 'subsample_freq': 5, 'min_child_samples': 22}. Best is trial 269 with value: 26.460709157671946.\n",
      "[I 2023-08-14 15:53:12,245] Trial 495 finished with value: 26.920951921619814 and parameters: {'learning_rate': 0.08981664073075052, 'n_estimators': 832, 'max_depth': 20, 'num_leaves': 52, 'colsample_bytree': 0.31154163554167097, 'subsample': 0.6611185248822842, 'subsample_freq': 5, 'min_child_samples': 21}. Best is trial 269 with value: 26.460709157671946.\n"
     ]
    },
    {
     "name": "stdout",
     "output_type": "stream",
     "text": [
      "Training until validation scores don't improve for 100 rounds\n",
      "Early stopping, best iteration is:\n",
      "[55]\ttraining's mape: 0.0808466\ttraining's rmse: 68.5945\tvalid_1's mape: 0.412544\tvalid_1's rmse: 642.921\n",
      "Training until validation scores don't improve for 100 rounds\n"
     ]
    },
    {
     "name": "stderr",
     "output_type": "stream",
     "text": [
      "[I 2023-08-14 15:53:12,408] Trial 496 finished with value: 26.60306299402645 and parameters: {'learning_rate': 0.06979732957204998, 'n_estimators': 862, 'max_depth': 19, 'num_leaves': 47, 'colsample_bytree': 0.3060946262973244, 'subsample': 0.3930324255276111, 'subsample_freq': 5, 'min_child_samples': 21}. Best is trial 269 with value: 26.460709157671946.\n",
      "[I 2023-08-14 15:53:12,572] Trial 497 finished with value: 26.867739357140675 and parameters: {'learning_rate': 0.09109585296290783, 'n_estimators': 786, 'max_depth': 19, 'num_leaves': 41, 'colsample_bytree': 0.2814272731275115, 'subsample': 0.7450401702422186, 'subsample_freq': 5, 'min_child_samples': 22}. Best is trial 269 with value: 26.460709157671946.\n"
     ]
    },
    {
     "name": "stdout",
     "output_type": "stream",
     "text": [
      "Early stopping, best iteration is:\n",
      "[55]\ttraining's mape: 0.107306\ttraining's rmse: 86.7835\tvalid_1's mape: 0.410079\tvalid_1's rmse: 640.901\n",
      "Training until validation scores don't improve for 100 rounds\n",
      "Early stopping, best iteration is:\n",
      "[55]\ttraining's mape: 0.0791705\ttraining's rmse: 67.3164\tvalid_1's mape: 0.412086\tvalid_1's rmse: 641.664\n"
     ]
    },
    {
     "name": "stderr",
     "output_type": "stream",
     "text": [
      "[I 2023-08-14 15:53:12,744] Trial 498 finished with value: 28.442993453111598 and parameters: {'learning_rate': 0.08906611891305391, 'n_estimators': 903, 'max_depth': 23, 'num_leaves': 24, 'colsample_bytree': 0.24304351193574925, 'subsample': 0.4190394508161233, 'subsample_freq': 4, 'min_child_samples': 21}. Best is trial 269 with value: 26.460709157671946.\n"
     ]
    },
    {
     "name": "stdout",
     "output_type": "stream",
     "text": [
      "Training until validation scores don't improve for 100 rounds\n",
      "Early stopping, best iteration is:\n",
      "[167]\ttraining's mape: 0.0684103\ttraining's rmse: 61.7087\tvalid_1's mape: 0.431221\tvalid_1's rmse: 669.021\n",
      "Training until validation scores don't improve for 100 rounds\n"
     ]
    },
    {
     "name": "stderr",
     "output_type": "stream",
     "text": [
      "[I 2023-08-14 15:53:12,918] Trial 499 finished with value: 26.94443631024936 and parameters: {'learning_rate': 0.08733086790563253, 'n_estimators': 522, 'max_depth': 19, 'num_leaves': 55, 'colsample_bytree': 0.2956365251997776, 'subsample': 0.7096682609717851, 'subsample_freq': 5, 'min_child_samples': 20}. Best is trial 269 with value: 26.460709157671946.\n"
     ]
    },
    {
     "name": "stdout",
     "output_type": "stream",
     "text": [
      "Early stopping, best iteration is:\n",
      "[55]\ttraining's mape: 0.0803415\ttraining's rmse: 67.8867\tvalid_1's mape: 0.41317\tvalid_1's rmse: 643.152\n",
      "Best Score: 26.460709157671946\n",
      "Best trial: {'learning_rate': 0.0874225751545806, 'n_estimators': 782, 'max_depth': 25, 'num_leaves': 37, 'colsample_bytree': 0.2888302456549768, 'subsample': 0.38696925078445504, 'subsample_freq': 5, 'min_child_samples': 19}\n"
     ]
    }
   ],
   "source": [
    "# lgbm parameter tuning\n",
    "import optuna\n",
    "from optuna import Trial\n",
    "from optuna.samplers import TPESampler\n",
    "from sklearn.metrics import log_loss\n",
    "from sklearn.model_selection import train_test_split\n",
    "\n",
    "def objective(trial: Trial) -> float:\n",
    "\n",
    "    params_lgb = {\n",
    "        \"random_state\": 42,\n",
    "        \"verbosity\": -1,\n",
    "        \"learning_rate\": trial.suggest_float(\"learning_rate\", 0.05, 0.1),\n",
    "        \"n_estimators\": trial.suggest_int(\"n_estimators\", 100, 1000),\n",
    "        \"objective\": \"regression\",\n",
    "        \"metric\": \"rmse\",\n",
    "        \"max_depth\": trial.suggest_int(\"max_depth\", 1, 30),\n",
    "        \"num_leaves\": trial.suggest_int(\"num_leaves\", 2, 256),\n",
    "        \"colsample_bytree\": trial.suggest_float(\"colsample_bytree\", 0.2, 0.6),\n",
    "        \"subsample\": trial.suggest_float(\"subsample\", 0.3, 1.0),\n",
    "        \"subsample_freq\": trial.suggest_int(\"subsample_freq\", 1, 10),\n",
    "        \"min_child_samples\": trial.suggest_int(\"min_child_samples\", 2, 30),\n",
    "    }\n",
    "    \n",
    "    model = LGBMRegressor(**params_lgb)\n",
    "    model.fit(x_train, y_train, eval_set=[(x_train, y_train), (x_valid, y_valid)], callbacks=[lgb.early_stopping(stopping_rounds=100)]\n",
    "        )\n",
    "    lgb_pred = model.predict(x_valid)\n",
    "    smape = SMAPE(y_valid, lgb_pred)\n",
    "    return smape\n",
    "\n",
    "sampler = TPESampler(seed=42)\n",
    "study = optuna.create_study(\n",
    "    study_name=\"lgbm_parameter_opt\",\n",
    "    direction=\"minimize\",\n",
    "    sampler=sampler,\n",
    ")\n",
    "\n",
    "study.optimize(objective, n_trials=500)\n",
    "print(\"Best Score:\", study.best_value)\n",
    "print(\"Best trial:\", study.best_trial.params)"
   ]
  },
  {
   "cell_type": "code",
   "execution_count": 68,
   "id": "d75f4e40-ee41-42cd-8b7e-207926aecf11",
   "metadata": {},
   "outputs": [
    {
     "name": "stdout",
     "output_type": "stream",
     "text": [
      "Best Score: 26.460709157671946\n",
      "Best trial: {'learning_rate': 0.0874225751545806, 'n_estimators': 782, 'max_depth': 25, 'num_leaves': 37, 'colsample_bytree': 0.2888302456549768, 'subsample': 0.38696925078445504, 'subsample_freq': 5, 'min_child_samples': 19}\n"
     ]
    }
   ],
   "source": [
    "print(\"Best Score:\", study.best_value)\n",
    "print(\"Best trial:\", study.best_trial.params)"
   ]
  },
  {
   "cell_type": "code",
   "execution_count": null,
   "id": "7556c84e-1c08-4cac-b263-2e8c3e311432",
   "metadata": {},
   "outputs": [],
   "source": [
    "\n",
    "def objective(trial: Trial) -> float:\n",
    "\n",
    "    params_lgb = {\n",
    "        \"random_state\": 42,\n",
    "        \"verbosity\": -1,\n",
    "        \"learning_rate\": trial.suggest_float(\"learning_rate\", 0.05, 0.1),\n",
    "        \"n_estimators\": trial.suggest_int(\"n_estimators\", 100, 1000),\n",
    "        \"objective\": \"regression\",\n",
    "        \"metric\": \"rmse\",\n",
    "        \"max_depth\": trial.suggest_int(\"max_depth\", 1, 30),\n",
    "        \"num_leaves\": trial.suggest_int(\"num_leaves\", 2, 256),\n",
    "        \"colsample_bytree\": trial.suggest_float(\"colsample_bytree\", 0.2, 0.6),\n",
    "        \"subsample\": trial.suggest_float(\"subsample\", 0.3, 1.0),\n",
    "        \"subsample_freq\": trial.suggest_int(\"subsample_freq\", 1, 10),\n",
    "        \"min_child_samples\": trial.suggest_int(\"min_child_samples\", 2, 30),\n",
    "    }\n",
    "    \n",
    "    model = LGBMRegressor(**params_lgb)\n",
    "    model.fit(x_train, y_train, eval_set=[(x_train, y_train), (x_valid, y_valid)], callbacks=[lgb.early_stopping(stopping_rounds=100)]\n",
    "        )\n",
    "    lgb_pred = model.predict(x_valid)\n",
    "    smape = SMAPE(y_valid, lgb_pred)\n",
    "    return smape"
   ]
  },
  {
   "cell_type": "code",
   "execution_count": null,
   "id": "cc8fc88d-297c-497a-b046-99792af6a5af",
   "metadata": {},
   "outputs": [],
   "source": [
    "sampler = TPESampler(seed=42)\n",
    "study = optuna.create_study(\n",
    "    study_name=\"lgbm_parameter_opt\",\n",
    "    direction=\"minimize\",\n",
    "    sampler=sampler,\n",
    ")\n",
    "\n",
    "study.optimize(objective, n_trials=500)\n",
    "print(\"Best Score:\", study.best_value)\n",
    "print(\"Best trial:\", study.best_trial.params)"
   ]
  },
  {
   "cell_type": "code",
   "execution_count": null,
   "id": "88346458-8bfa-4152-a686-c3c6cbd39fd7",
   "metadata": {
    "scrolled": true
   },
   "outputs": [],
   "source": [
    "def objective(trial: Trial) -> float:\n",
    "\n",
    "    params_lgb = {\n",
    "        \"random_state\": 42,\n",
    "        \"verbosity\": -1,\n",
    "        \"learning_rate\": trial.suggest_float(\"learning_rate\", 0.05, 0.1),\n",
    "        \"n_estimators\": trial.suggest_int(\"n_estimators\", 100, 1000),\n",
    "        \"objective\": \"regression\",\n",
    "        \"metric\": \"rmse\",\n",
    "        \"max_depth\": trial.suggest_int(\"max_depth\", 1, 30),\n",
    "        \"num_leaves\": trial.suggest_int(\"num_leaves\", 2, 256),\n",
    "        \"colsample_bytree\": trial.suggest_float(\"colsample_bytree\", 0.2, 0.6),\n",
    "        \"subsample\": trial.suggest_float(\"subsample\", 0.3, 1.0),\n",
    "        \"subsample_freq\": trial.suggest_int(\"subsample_freq\", 1, 10),\n",
    "        \"min_child_samples\": trial.suggest_int(\"min_child_samples\", 2, 30),\n",
    "    }\n",
    "    \n",
    "    model = LGBMRegressor(**params_lgb)\n",
    "    model.fit(x_train, y_train, eval_set=[(x_train, y_train), (x_valid, y_valid)], callbacks=[lgb.early_stopping(stopping_rounds=50)]\n",
    "        )\n",
    "    lgb_pred = model.predict(x_valid)\n",
    "    smape = SMAPE(y_valid, lgb_pred)\n",
    "    return smape\n",
    "\n",
    "\n",
    "best_param = []\n",
    "for i in tqdm(range(100)):\n",
    "    y = train.loc[train.building_number== i+1, 'power_consumption']\n",
    "    x = train.loc[train.building_number == i+1, ].drop(['power_consumption','building_number'], axis = 1)\n",
    "    y_train, y_valid, x_train, x_valid = temporal_train_test_split(y = y, X = x, test_size = 168)\n",
    "\n",
    "    sampler = TPESampler(seed=42)\n",
    "    study = optuna.create_study(\n",
    "        study_name=\"lgbm_parameter_opt\",\n",
    "        direction=\"minimize\",\n",
    "        sampler=sampler,\n",
    "    )\n",
    "    study.optimize(objective, n_trials=500)\n",
    "    best_param.append(study.best_trial.params)"
   ]
  },
  {
   "cell_type": "code",
   "execution_count": 71,
   "id": "92171629-179b-4560-b372-bee14a38f531",
   "metadata": {},
   "outputs": [
    {
     "name": "stdout",
     "output_type": "stream",
     "text": [
      "[{'learning_rate': 0.09138468623693495, 'n_estimators': 169, 'max_depth': 28, 'num_leaves': 242, 'colsample_bytree': 0.49667054655026377, 'subsample': 0.5877963656154038, 'subsample_freq': 5, 'min_child_samples': 9}, {'learning_rate': 0.07750317855605524, 'n_estimators': 129, 'max_depth': 6, 'num_leaves': 34, 'colsample_bytree': 0.5857731810112807, 'subsample': 0.45438299701988, 'subsample_freq': 1, 'min_child_samples': 16}, {'learning_rate': 0.08820164629879082, 'n_estimators': 271, 'max_depth': 13, 'num_leaves': 7, 'colsample_bytree': 0.5804210638942405, 'subsample': 0.7445748253962927, 'subsample_freq': 8, 'min_child_samples': 29}]\n"
     ]
    }
   ],
   "source": [
    "print(best_param)"
   ]
  },
  {
   "cell_type": "code",
   "execution_count": 76,
   "id": "e3105dca-a652-4569-9bc4-bb3698763494",
   "metadata": {},
   "outputs": [],
   "source": [
    "rgbm_param_df = pd.DataFrame(best_param)\n",
    "rgbm_param_df.to_csv('rgbm_param.csv',index=False)"
   ]
  },
  {
   "cell_type": "code",
   "execution_count": null,
   "id": "a66b7790-440f-4cfb-a573-5174697a6c28",
   "metadata": {},
   "outputs": [],
   "source": []
  },
  {
   "cell_type": "code",
   "execution_count": null,
   "id": "84e4cfa5-8825-41af-82ab-3b549c8a21ac",
   "metadata": {},
   "outputs": [],
   "source": []
  },
  {
   "cell_type": "code",
   "execution_count": 77,
   "id": "c0160969-015f-47ad-9f68-fa3459770556",
   "metadata": {},
   "outputs": [
    {
     "data": {
      "text/html": [
       "<div>\n",
       "<style scoped>\n",
       "    .dataframe tbody tr th:only-of-type {\n",
       "        vertical-align: middle;\n",
       "    }\n",
       "\n",
       "    .dataframe tbody tr th {\n",
       "        vertical-align: top;\n",
       "    }\n",
       "\n",
       "    .dataframe thead th {\n",
       "        text-align: right;\n",
       "    }\n",
       "</style>\n",
       "<table border=\"1\" class=\"dataframe\">\n",
       "  <thead>\n",
       "    <tr style=\"text-align: right;\">\n",
       "      <th></th>\n",
       "      <th>learning_rate</th>\n",
       "      <th>n_estimators</th>\n",
       "      <th>max_depth</th>\n",
       "      <th>num_leaves</th>\n",
       "      <th>colsample_bytree</th>\n",
       "      <th>subsample</th>\n",
       "      <th>subsample_freq</th>\n",
       "      <th>min_child_samples</th>\n",
       "    </tr>\n",
       "  </thead>\n",
       "  <tbody>\n",
       "    <tr>\n",
       "      <th>0</th>\n",
       "      <td>0.091385</td>\n",
       "      <td>169</td>\n",
       "      <td>28</td>\n",
       "      <td>242</td>\n",
       "      <td>0.496671</td>\n",
       "      <td>0.587796</td>\n",
       "      <td>5</td>\n",
       "      <td>9</td>\n",
       "    </tr>\n",
       "    <tr>\n",
       "      <th>1</th>\n",
       "      <td>0.077503</td>\n",
       "      <td>129</td>\n",
       "      <td>6</td>\n",
       "      <td>34</td>\n",
       "      <td>0.585773</td>\n",
       "      <td>0.454383</td>\n",
       "      <td>1</td>\n",
       "      <td>16</td>\n",
       "    </tr>\n",
       "    <tr>\n",
       "      <th>2</th>\n",
       "      <td>0.088202</td>\n",
       "      <td>271</td>\n",
       "      <td>13</td>\n",
       "      <td>7</td>\n",
       "      <td>0.580421</td>\n",
       "      <td>0.744575</td>\n",
       "      <td>8</td>\n",
       "      <td>29</td>\n",
       "    </tr>\n",
       "    <tr>\n",
       "      <th>3</th>\n",
       "      <td>0.097060</td>\n",
       "      <td>822</td>\n",
       "      <td>9</td>\n",
       "      <td>253</td>\n",
       "      <td>0.422922</td>\n",
       "      <td>0.521971</td>\n",
       "      <td>2</td>\n",
       "      <td>27</td>\n",
       "    </tr>\n",
       "    <tr>\n",
       "      <th>4</th>\n",
       "      <td>0.054176</td>\n",
       "      <td>980</td>\n",
       "      <td>6</td>\n",
       "      <td>167</td>\n",
       "      <td>0.582364</td>\n",
       "      <td>0.839925</td>\n",
       "      <td>9</td>\n",
       "      <td>5</td>\n",
       "    </tr>\n",
       "  </tbody>\n",
       "</table>\n",
       "</div>"
      ],
      "text/plain": [
       "   learning_rate  n_estimators  max_depth  num_leaves  colsample_bytree  \\\n",
       "0       0.091385           169         28         242          0.496671   \n",
       "1       0.077503           129          6          34          0.585773   \n",
       "2       0.088202           271         13           7          0.580421   \n",
       "3       0.097060           822          9         253          0.422922   \n",
       "4       0.054176           980          6         167          0.582364   \n",
       "\n",
       "   subsample  subsample_freq  min_child_samples  \n",
       "0   0.587796               5                  9  \n",
       "1   0.454383               1                 16  \n",
       "2   0.744575               8                 29  \n",
       "3   0.521971               2                 27  \n",
       "4   0.839925               9                  5  "
      ]
     },
     "execution_count": 77,
     "metadata": {},
     "output_type": "execute_result"
    }
   ],
   "source": []
  },
  {
   "cell_type": "markdown",
   "id": "fca4f9d6-3827-4765-b055-643dfd834c44",
   "metadata": {},
   "source": [
    "# 전체 건물 추론"
   ]
  },
  {
   "cell_type": "code",
   "execution_count": 89,
   "id": "88eafd59-e7ce-4910-86cd-3c1846a3b600",
   "metadata": {},
   "outputs": [],
   "source": [
    "test['date_time'] = pd.to_datetime(test['date_time'], format='%Y%m%d %H')\n",
    "\n",
    "# date time feature 생성\n",
    "test['hour'] = test['date_time'].dt.hour\n",
    "test['day'] = test['date_time'].dt.weekday\n",
    "test['month'] = test['date_time'].dt.month\n",
    "#train['week'] = train['date_time'].dt.weekofyear\n",
    "\n",
    "# 공휴일 변수 추가 \n",
    "test['holiday'] = test['day'] .apply(lambda x : 0 if x<5 else 1)\n",
    "\n",
    "\n",
    "# hour\n",
    "test['sin_time'] = np.sin(2*np.pi*test.hour/24)\n",
    "test['cos_time'] = np.cos(2*np.pi*test.hour/24)\n",
    "\n",
    "\n",
    "def CDH(xs):\n",
    "    ys = []\n",
    "    for i in range(len(xs)):\n",
    "        if i < 11:\n",
    "            ys.append(np.sum(xs[:(i+1)]-26))\n",
    "        else:\n",
    "            ys.append(np.sum(xs[(i-11):(i+1)]-26))\n",
    "    return np.array(ys)\n",
    "\n",
    "cdhs = np.array([])\n",
    "for num in range(1,101):\n",
    "    temp = test[test['building_number'] == num]\n",
    "    cdh = CDH(temp['temperature'].values)\n",
    "    cdhs = np.concatenate([cdhs, cdh])\n",
    "test['CDH'] = cdhs\n",
    "\n",
    "test['solar_power_capacity'] = test['solar_power_capacity'].apply(lambda x : 0 if x=='-' else float(x))\n",
    "test['ess_capacity'] = test['ess_capacity'].apply(lambda x : 0 if x=='-' else float(x))\n",
    "test['pcs_capacity'] = test['pcs_capacity'].apply(lambda x : 0 if x=='-' else float(x))\n",
    "test['building_type'] = test['building_type'].apply(lambda x :int(x))\n",
    "\n",
    "test = test.fillna(0)\n",
    "test.drop(['date_time','hour'],axis = 1,inplace = True)"
   ]
  },
  {
   "cell_type": "code",
   "execution_count": null,
   "id": "6a7e9a89-8e50-4d15-8642-403bdef2ed52",
   "metadata": {
    "scrolled": true
   },
   "outputs": [],
   "source": [
    "preds = np.array([]) \n",
    "for i in tqdm(range(100)):\n",
    "    \n",
    "    pred_df = pd.DataFrame()   # 시드별 예측값을 담을 data frame\n",
    "    \n",
    "    for seed in [0,1,2,3,4,5]: # 각 시드별 예측\n",
    "        y_train = train.loc[train.building_number== i+1, 'power_consumption']\n",
    "        x_train = train.loc[train.building_number == i+1, ].drop(['power_consumption','building_number'], axis = 1)\n",
    "        x_test = test.loc[test.building_number == i+1, ].drop(['building_number'], axis = 1)\n",
    "        x_test = x_test[x_train.columns]\n",
    "        \n",
    "        model = LGBMRegressor(seed = seed,learning_rate = rgbm_param_df.iloc[i,0], n_estimators = rgbm_param_df.iloc[i,1], max_depth = rgbm_param_df.iloc[i,2],\n",
    "                              num_leaves = rgbm_param_df.iloc[i,3], colsample_bytree = rgbm_param_df.iloc[i,4],subsample= rgbm_param_df.iloc[i,5], \n",
    "                              subsample_freq= rgbm_param_df.iloc[i,6],min_child_samples = rgbm_param_df.iloc[i,7])\n",
    "    \n",
    "        \n",
    "        model.fit(x_train, y_train)\n",
    "        y_pred = model.predict(x_test)\n",
    "        pred_df.loc[:,seed] = y_pred   # 각 시드별 예측 담기\n",
    "        \n",
    "    pred = pred_df.mean(axis=1)        # (i+1)번째 건물의 예측 =  (i+1)번째 건물의 각 시드별 예측 평균값\n",
    "    preds = np.append(preds, pred)   "
   ]
  },
  {
   "cell_type": "code",
   "execution_count": 91,
   "id": "49b8cdd5-3c80-47e2-91b4-c5d6f5d317ff",
   "metadata": {},
   "outputs": [],
   "source": [
    "submission = pd.read_csv('./data/sample_submission.csv')\n",
    "submission['answer'] = preds"
   ]
  },
  {
   "cell_type": "code",
   "execution_count": 92,
   "id": "1122bc2f-ca7c-4fa2-940e-d9996dd00b75",
   "metadata": {},
   "outputs": [],
   "source": [
    "submission.to_csv('./submission_lgbm_tune.csv', index = False)"
   ]
  },
  {
   "cell_type": "code",
   "execution_count": null,
   "id": "a53bd619-c39a-451b-ac83-6e9de96e6736",
   "metadata": {},
   "outputs": [],
   "source": []
  },
  {
   "cell_type": "code",
   "execution_count": null,
   "id": "db66c758-9222-4f1d-baf8-f2542cb929a9",
   "metadata": {},
   "outputs": [],
   "source": []
  }
 ],
 "metadata": {
  "kernelspec": {
   "display_name": "Python 3 (ipykernel)",
   "language": "python",
   "name": "python3"
  },
  "language_info": {
   "codemirror_mode": {
    "name": "ipython",
    "version": 3
   },
   "file_extension": ".py",
   "mimetype": "text/x-python",
   "name": "python",
   "nbconvert_exporter": "python",
   "pygments_lexer": "ipython3",
   "version": "3.11.4"
  }
 },
 "nbformat": 4,
 "nbformat_minor": 5
}
