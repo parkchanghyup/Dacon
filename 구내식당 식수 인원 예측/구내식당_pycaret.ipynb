{
 "cells": [
  {
   "cell_type": "markdown",
   "metadata": {},
   "source": [
    "# 구내식당 식수 인원 예측 AI 경진대회\n",
    "- 대회 기간 : 2021.06.03 ~ 2021.07.23\n",
    "- `public score : 85.9608`, `private score : 123.468`\n",
    "- 사용 모델 : Pycaret을 활용한 Auto ML 모델\n",
    "- 대회 task : 정형데이터 - 회귀"
   ]
  },
  {
   "cell_type": "code",
   "execution_count": null,
   "metadata": {
    "scrolled": false
   },
   "outputs": [],
   "source": [
    "from pycaret.regression import *\n",
    "import datetime as dt\n",
    "import numpy as np\n",
    "import pandas as pd\n",
    "from tqdm.notebook import tqdm\n",
    "!pip install catboost\n",
    "!pip install pycaret"
   ]
  },
  {
   "cell_type": "code",
   "execution_count": 26,
   "metadata": {},
   "outputs": [],
   "source": [
    "def preprocessing(df, mode):\n",
    "    \"\"\"\n",
    "    데이터를 전처리하는 함수\n",
    "    \"\"\"\n",
    "\n",
    "    if mode == 'trian':\n",
    "        df[['현본사소속재택근무자수', '중식계', '석식계']] = df[[\n",
    "            '현본사소속재택근무자수', '중식계', '석식계']].astype(int)\n",
    "    else:\n",
    "        df['현본사소속재택근무자수'] = df['현본사소속재택근무자수'].astype('int')\n",
    "\n",
    "    df['일자'] = pd.to_datetime(df['일자'])\n",
    "\n",
    "    df['년'] = df['일자'].dt.year\n",
    "    df['월'] = df['일자'].dt.month\n",
    "    df['일'] = df['일자'].dt.day\n",
    "    df['주'] = df['일자'].dt.week\n",
    "    df['요일'] = df['일자'].dt.weekday\n",
    "    df['출근'] = df['본사정원수']-(df['본사휴가자수']+df['본사출장자수']+df['현본사소속재택근무자수'])\n",
    "    df['휴가비율'] = df['본사휴가자수']/df['본사정원수']\n",
    "    df['출장비율'] = df['본사출장자수']/df['본사정원수']\n",
    "    df['야근비율'] = df['본사시간외근무명령서승인건수']/df['출근']\n",
    "    df['재택비율'] = df['현본사소속재택근무자수']/df['본사정원수']\n",
    "    df.drop(['일자', '조식메뉴', '중식메뉴', '석식메뉴'], axis=1, inplace=True)\n",
    "\n",
    "    print(mode, 'data preprocessing done')\n",
    "    return df"
   ]
  },
  {
   "cell_type": "code",
   "execution_count": 28,
   "metadata": {},
   "outputs": [
    {
     "name": "stdout",
     "output_type": "stream",
     "text": [
      "train data preprocessing done\n",
      "test data preprocessing done\n"
     ]
    }
   ],
   "source": [
    "train = pd.read_csv('train.csv')\n",
    "test = pd.read_csv('test.csv')\n",
    "train = preprocessing(train, 'train')\n",
    "test = preprocessing(test, 'test')"
   ]
  },
  {
   "cell_type": "code",
   "execution_count": 39,
   "metadata": {},
   "outputs": [],
   "source": [
    "train_lunch = train.drop('석식계', axis=1)\n",
    "train_dinner = train.drop('중식계', axis=1)"
   ]
  },
  {
   "cell_type": "code",
   "execution_count": 45,
   "metadata": {},
   "outputs": [],
   "source": [
    "def lunch_predict():\n",
    "    \"\"\"\n",
    "    pycaret을 이용해 중식계를 예측\n",
    "    \"\"\"\n",
    "    reg = setup(data=train_lunch,\n",
    "                target='중식계',\n",
    "                numeric_imputation='mean',\n",
    "                normalize=True,\n",
    "                silent=True)\n",
    "    # 성능 좋은 모델 중 5개를 앙상블 하여 사용\n",
    "    best_5_model = compare_models(sort='MAE', n_select=5)\n",
    "    # compare_models를 이용해 뽑은 5개의 모델을 혼합하여 모델을 생성합니다.\n",
    "    # 혼합시 사용할 fold의 수와 optimizer 종류를 입력해 줍니다.\n",
    "    blended_model = blend_models(\n",
    "        estimator_list=best_5_model, fold=10, optimize='MAE')\n",
    "    # 생성한 모델을 최종적으로 사용할 모델로 변환\n",
    "    # 이 과정에서는 train_size = 1로, 모든 데이터를 사용해 재학습합니다\n",
    "    final_model = finalize_model(blended_model)\n",
    "    test_pred = predict_model(final_model, test)\n",
    "    return test_pred"
   ]
  },
  {
   "cell_type": "code",
   "execution_count": 46,
   "metadata": {},
   "outputs": [],
   "source": [
    "def dinner_predict():\n",
    "    \"\"\"\n",
    "    pycaret을 이용해 석식계를 예측\n",
    "    \"\"\"\n",
    "\n",
    "    reg = setup(data=train_dinner,\n",
    "                target='석식계',\n",
    "                numeric_imputation='mean',\n",
    "                normalize=True,\n",
    "                silent=True)\n",
    "    # 성능 좋은 모델 중 5개를 앙상블 하여 사용\n",
    "    best_5_model = compare_models(sort='MAE', n_select=5)\n",
    "    # compare_models를 이용해 뽑은 5개의 모델을 혼합하여 모델을 생성합니다.\n",
    "    # 혼합시 사용할 fold의 수와 optimizer 종류를 입력해 줍니다.\n",
    "    blended_model = blend_models(\n",
    "        estimator_list=best_5_model, fold=10, optimize='MAE')\n",
    "    # 생성한 모델을 최종적으로 사용할 모델로 변환\n",
    "    # 이 과정에서는 train_size = 1로, 모든 데이터를 사용해 재학습합니다\n",
    "    final_model = finalize_model(blended_model)\n",
    "    test_pred = predict_model(final_model, test)\n",
    "    return test_pred"
   ]
  },
  {
   "cell_type": "code",
   "execution_count": 47,
   "metadata": {
    "scrolled": true
   },
   "outputs": [
    {
     "data": {
      "text/html": [
       "<style  type=\"text/css\" >\n",
       "#T_3da4e_row10_col0,#T_3da4e_row10_col1,#T_3da4e_row10_col2,#T_3da4e_row10_col3,#T_3da4e_row10_col4,#T_3da4e_row10_col5{\n",
       "            background:  yellow;\n",
       "        }</style><table id=\"T_3da4e_\" ><thead>    <tr>        <th class=\"blank level0\" ></th>        <th class=\"col_heading level0 col0\" >MAE</th>        <th class=\"col_heading level0 col1\" >MSE</th>        <th class=\"col_heading level0 col2\" >RMSE</th>        <th class=\"col_heading level0 col3\" >R2</th>        <th class=\"col_heading level0 col4\" >RMSLE</th>        <th class=\"col_heading level0 col5\" >MAPE</th>    </tr></thead><tbody>\n",
       "                <tr>\n",
       "                        <th id=\"T_3da4e_level0_row0\" class=\"row_heading level0 row0\" >0</th>\n",
       "                        <td id=\"T_3da4e_row0_col0\" class=\"data row0 col0\" >45.6691</td>\n",
       "                        <td id=\"T_3da4e_row0_col1\" class=\"data row0 col1\" >3612.6890</td>\n",
       "                        <td id=\"T_3da4e_row0_col2\" class=\"data row0 col2\" >60.1056</td>\n",
       "                        <td id=\"T_3da4e_row0_col3\" class=\"data row0 col3\" >0.7923</td>\n",
       "                        <td id=\"T_3da4e_row0_col4\" class=\"data row0 col4\" >0.9429</td>\n",
       "                        <td id=\"T_3da4e_row0_col5\" class=\"data row0 col5\" >0.0974</td>\n",
       "            </tr>\n",
       "            <tr>\n",
       "                        <th id=\"T_3da4e_level0_row1\" class=\"row_heading level0 row1\" >1</th>\n",
       "                        <td id=\"T_3da4e_row1_col0\" class=\"data row1 col0\" >51.8842</td>\n",
       "                        <td id=\"T_3da4e_row1_col1\" class=\"data row1 col1\" >5889.0479</td>\n",
       "                        <td id=\"T_3da4e_row1_col2\" class=\"data row1 col2\" >76.7401</td>\n",
       "                        <td id=\"T_3da4e_row1_col3\" class=\"data row1 col3\" >0.5772</td>\n",
       "                        <td id=\"T_3da4e_row1_col4\" class=\"data row1 col4\" >0.5872</td>\n",
       "                        <td id=\"T_3da4e_row1_col5\" class=\"data row1 col5\" >0.1211</td>\n",
       "            </tr>\n",
       "            <tr>\n",
       "                        <th id=\"T_3da4e_level0_row2\" class=\"row_heading level0 row2\" >2</th>\n",
       "                        <td id=\"T_3da4e_row2_col0\" class=\"data row2 col0\" >42.4161</td>\n",
       "                        <td id=\"T_3da4e_row2_col1\" class=\"data row2 col1\" >3299.7549</td>\n",
       "                        <td id=\"T_3da4e_row2_col2\" class=\"data row2 col2\" >57.4435</td>\n",
       "                        <td id=\"T_3da4e_row2_col3\" class=\"data row2 col3\" >0.7430</td>\n",
       "                        <td id=\"T_3da4e_row2_col4\" class=\"data row2 col4\" >0.4575</td>\n",
       "                        <td id=\"T_3da4e_row2_col5\" class=\"data row2 col5\" >0.0995</td>\n",
       "            </tr>\n",
       "            <tr>\n",
       "                        <th id=\"T_3da4e_level0_row3\" class=\"row_heading level0 row3\" >3</th>\n",
       "                        <td id=\"T_3da4e_row3_col0\" class=\"data row3 col0\" >59.4542</td>\n",
       "                        <td id=\"T_3da4e_row3_col1\" class=\"data row3 col1\" >9181.2499</td>\n",
       "                        <td id=\"T_3da4e_row3_col2\" class=\"data row3 col2\" >95.8188</td>\n",
       "                        <td id=\"T_3da4e_row3_col3\" class=\"data row3 col3\" >0.6242</td>\n",
       "                        <td id=\"T_3da4e_row3_col4\" class=\"data row3 col4\" >1.3735</td>\n",
       "                        <td id=\"T_3da4e_row3_col5\" class=\"data row3 col5\" >0.1069</td>\n",
       "            </tr>\n",
       "            <tr>\n",
       "                        <th id=\"T_3da4e_level0_row4\" class=\"row_heading level0 row4\" >4</th>\n",
       "                        <td id=\"T_3da4e_row4_col0\" class=\"data row4 col0\" >55.1006</td>\n",
       "                        <td id=\"T_3da4e_row4_col1\" class=\"data row4 col1\" >8504.3662</td>\n",
       "                        <td id=\"T_3da4e_row4_col2\" class=\"data row4 col2\" >92.2191</td>\n",
       "                        <td id=\"T_3da4e_row4_col3\" class=\"data row4 col3\" >0.5806</td>\n",
       "                        <td id=\"T_3da4e_row4_col4\" class=\"data row4 col4\" >1.0843</td>\n",
       "                        <td id=\"T_3da4e_row4_col5\" class=\"data row4 col5\" >0.1236</td>\n",
       "            </tr>\n",
       "            <tr>\n",
       "                        <th id=\"T_3da4e_level0_row5\" class=\"row_heading level0 row5\" >5</th>\n",
       "                        <td id=\"T_3da4e_row5_col0\" class=\"data row5 col0\" >55.1124</td>\n",
       "                        <td id=\"T_3da4e_row5_col1\" class=\"data row5 col1\" >6798.4859</td>\n",
       "                        <td id=\"T_3da4e_row5_col2\" class=\"data row5 col2\" >82.4529</td>\n",
       "                        <td id=\"T_3da4e_row5_col3\" class=\"data row5 col3\" >0.6500</td>\n",
       "                        <td id=\"T_3da4e_row5_col4\" class=\"data row5 col4\" >0.8905</td>\n",
       "                        <td id=\"T_3da4e_row5_col5\" class=\"data row5 col5\" >0.1118</td>\n",
       "            </tr>\n",
       "            <tr>\n",
       "                        <th id=\"T_3da4e_level0_row6\" class=\"row_heading level0 row6\" >6</th>\n",
       "                        <td id=\"T_3da4e_row6_col0\" class=\"data row6 col0\" >49.5440</td>\n",
       "                        <td id=\"T_3da4e_row6_col1\" class=\"data row6 col1\" >4440.2457</td>\n",
       "                        <td id=\"T_3da4e_row6_col2\" class=\"data row6 col2\" >66.6352</td>\n",
       "                        <td id=\"T_3da4e_row6_col3\" class=\"data row6 col3\" >0.7942</td>\n",
       "                        <td id=\"T_3da4e_row6_col4\" class=\"data row6 col4\" >0.9486</td>\n",
       "                        <td id=\"T_3da4e_row6_col5\" class=\"data row6 col5\" >0.1111</td>\n",
       "            </tr>\n",
       "            <tr>\n",
       "                        <th id=\"T_3da4e_level0_row7\" class=\"row_heading level0 row7\" >7</th>\n",
       "                        <td id=\"T_3da4e_row7_col0\" class=\"data row7 col0\" >55.6776</td>\n",
       "                        <td id=\"T_3da4e_row7_col1\" class=\"data row7 col1\" >6301.1364</td>\n",
       "                        <td id=\"T_3da4e_row7_col2\" class=\"data row7 col2\" >79.3797</td>\n",
       "                        <td id=\"T_3da4e_row7_col3\" class=\"data row7 col3\" >0.6072</td>\n",
       "                        <td id=\"T_3da4e_row7_col4\" class=\"data row7 col4\" >0.8754</td>\n",
       "                        <td id=\"T_3da4e_row7_col5\" class=\"data row7 col5\" >0.1166</td>\n",
       "            </tr>\n",
       "            <tr>\n",
       "                        <th id=\"T_3da4e_level0_row8\" class=\"row_heading level0 row8\" >8</th>\n",
       "                        <td id=\"T_3da4e_row8_col0\" class=\"data row8 col0\" >51.3022</td>\n",
       "                        <td id=\"T_3da4e_row8_col1\" class=\"data row8 col1\" >5436.2673</td>\n",
       "                        <td id=\"T_3da4e_row8_col2\" class=\"data row8 col2\" >73.7310</td>\n",
       "                        <td id=\"T_3da4e_row8_col3\" class=\"data row8 col3\" >0.6489</td>\n",
       "                        <td id=\"T_3da4e_row8_col4\" class=\"data row8 col4\" >0.5604</td>\n",
       "                        <td id=\"T_3da4e_row8_col5\" class=\"data row8 col5\" >0.1166</td>\n",
       "            </tr>\n",
       "            <tr>\n",
       "                        <th id=\"T_3da4e_level0_row9\" class=\"row_heading level0 row9\" >9</th>\n",
       "                        <td id=\"T_3da4e_row9_col0\" class=\"data row9 col0\" >47.5441</td>\n",
       "                        <td id=\"T_3da4e_row9_col1\" class=\"data row9 col1\" >6425.7983</td>\n",
       "                        <td id=\"T_3da4e_row9_col2\" class=\"data row9 col2\" >80.1611</td>\n",
       "                        <td id=\"T_3da4e_row9_col3\" class=\"data row9 col3\" >0.5432</td>\n",
       "                        <td id=\"T_3da4e_row9_col4\" class=\"data row9 col4\" >0.8705</td>\n",
       "                        <td id=\"T_3da4e_row9_col5\" class=\"data row9 col5\" >0.0938</td>\n",
       "            </tr>\n",
       "            <tr>\n",
       "                        <th id=\"T_3da4e_level0_row10\" class=\"row_heading level0 row10\" >Mean</th>\n",
       "                        <td id=\"T_3da4e_row10_col0\" class=\"data row10 col0\" >51.3705</td>\n",
       "                        <td id=\"T_3da4e_row10_col1\" class=\"data row10 col1\" >5988.9041</td>\n",
       "                        <td id=\"T_3da4e_row10_col2\" class=\"data row10 col2\" >76.4687</td>\n",
       "                        <td id=\"T_3da4e_row10_col3\" class=\"data row10 col3\" >0.6561</td>\n",
       "                        <td id=\"T_3da4e_row10_col4\" class=\"data row10 col4\" >0.8591</td>\n",
       "                        <td id=\"T_3da4e_row10_col5\" class=\"data row10 col5\" >0.1098</td>\n",
       "            </tr>\n",
       "            <tr>\n",
       "                        <th id=\"T_3da4e_level0_row11\" class=\"row_heading level0 row11\" >SD</th>\n",
       "                        <td id=\"T_3da4e_row11_col0\" class=\"data row11 col0\" >4.9269</td>\n",
       "                        <td id=\"T_3da4e_row11_col1\" class=\"data row11 col1\" >1818.0774</td>\n",
       "                        <td id=\"T_3da4e_row11_col2\" class=\"data row11 col2\" >11.8928</td>\n",
       "                        <td id=\"T_3da4e_row11_col3\" class=\"data row11 col3\" >0.0856</td>\n",
       "                        <td id=\"T_3da4e_row11_col4\" class=\"data row11 col4\" >0.2561</td>\n",
       "                        <td id=\"T_3da4e_row11_col5\" class=\"data row11 col5\" >0.0097</td>\n",
       "            </tr>\n",
       "    </tbody></table>"
      ],
      "text/plain": [
       "<pandas.io.formats.style.Styler at 0x1c089277790>"
      ]
     },
     "metadata": {},
     "output_type": "display_data"
    }
   ],
   "source": [
    "lunch_predict = lunch_predict()\n",
    "dinner_predict = dinner_predict()"
   ]
  },
  {
   "cell_type": "code",
   "execution_count": 49,
   "metadata": {},
   "outputs": [
    {
     "data": {
      "text/html": [
       "<div>\n",
       "<style scoped>\n",
       "    .dataframe tbody tr th:only-of-type {\n",
       "        vertical-align: middle;\n",
       "    }\n",
       "\n",
       "    .dataframe tbody tr th {\n",
       "        vertical-align: top;\n",
       "    }\n",
       "\n",
       "    .dataframe thead th {\n",
       "        text-align: right;\n",
       "    }\n",
       "</style>\n",
       "<table border=\"1\" class=\"dataframe\">\n",
       "  <thead>\n",
       "    <tr style=\"text-align: right;\">\n",
       "      <th></th>\n",
       "      <th>일자</th>\n",
       "      <th>중식계</th>\n",
       "      <th>석식계</th>\n",
       "    </tr>\n",
       "  </thead>\n",
       "  <tbody>\n",
       "    <tr>\n",
       "      <th>0</th>\n",
       "      <td>2021-01-27</td>\n",
       "      <td>982.442145</td>\n",
       "      <td>202.899999</td>\n",
       "    </tr>\n",
       "    <tr>\n",
       "      <th>1</th>\n",
       "      <td>2021-01-28</td>\n",
       "      <td>925.973782</td>\n",
       "      <td>412.301450</td>\n",
       "    </tr>\n",
       "    <tr>\n",
       "      <th>2</th>\n",
       "      <td>2021-01-29</td>\n",
       "      <td>577.873855</td>\n",
       "      <td>257.715289</td>\n",
       "    </tr>\n",
       "    <tr>\n",
       "      <th>3</th>\n",
       "      <td>2021-02-01</td>\n",
       "      <td>1246.089715</td>\n",
       "      <td>528.612609</td>\n",
       "    </tr>\n",
       "    <tr>\n",
       "      <th>4</th>\n",
       "      <td>2021-02-02</td>\n",
       "      <td>980.553761</td>\n",
       "      <td>478.438495</td>\n",
       "    </tr>\n",
       "  </tbody>\n",
       "</table>\n",
       "</div>"
      ],
      "text/plain": [
       "           일자          중식계         석식계\n",
       "0  2021-01-27   982.442145  202.899999\n",
       "1  2021-01-28   925.973782  412.301450\n",
       "2  2021-01-29   577.873855  257.715289\n",
       "3  2021-02-01  1246.089715  528.612609\n",
       "4  2021-02-02   980.553761  478.438495"
      ]
     },
     "execution_count": 49,
     "metadata": {},
     "output_type": "execute_result"
    }
   ],
   "source": [
    "submission = pd.read_csv('sample_submission.csv')\n",
    "submission['중식계'] = lunch_predict['Label']\n",
    "submission['석식계'] = dinner_predict['Label']\n",
    "submission.head()"
   ]
  },
  {
   "cell_type": "code",
   "execution_count": 50,
   "metadata": {},
   "outputs": [],
   "source": [
    "submission.to_csv('hyup.csv',index=False)"
   ]
  }
 ],
 "metadata": {
  "kernelspec": {
   "display_name": "Python 3",
   "language": "python",
   "name": "python3"
  },
  "language_info": {
   "codemirror_mode": {
    "name": "ipython",
    "version": 3
   },
   "file_extension": ".py",
   "mimetype": "text/x-python",
   "name": "python",
   "nbconvert_exporter": "python",
   "pygments_lexer": "ipython3",
   "version": "3.8.5"
  },
  "toc": {
   "base_numbering": 1,
   "nav_menu": {},
   "number_sections": true,
   "sideBar": true,
   "skip_h1_title": false,
   "title_cell": "Table of Contents",
   "title_sidebar": "Contents",
   "toc_cell": false,
   "toc_position": {},
   "toc_section_display": true,
   "toc_window_display": false
  }
 },
 "nbformat": 4,
 "nbformat_minor": 4
}
