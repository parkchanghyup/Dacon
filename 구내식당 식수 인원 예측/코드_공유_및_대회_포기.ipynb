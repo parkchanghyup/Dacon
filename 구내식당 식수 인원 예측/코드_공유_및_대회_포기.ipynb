{
  "nbformat": 4,
  "nbformat_minor": 0,
  "metadata": {
    "colab": {
      "name": "코드_공유 및 대회  포기.ipynb",
      "provenance": [],
      "collapsed_sections": []
    },
    "kernelspec": {
      "name": "python3",
      "display_name": "Python 3"
    },
    "language_info": {
      "name": "python"
    },
    "widgets": {
      "application/vnd.jupyter.widget-state+json": {
        "988a5dd0ec3a4009a9ed40e0185c55c7": {
          "model_module": "@jupyter-widgets/controls",
          "model_name": "HBoxModel",
          "state": {
            "_view_name": "HBoxView",
            "_dom_classes": [],
            "_model_name": "HBoxModel",
            "_view_module": "@jupyter-widgets/controls",
            "_model_module_version": "1.5.0",
            "_view_count": null,
            "_view_module_version": "1.5.0",
            "box_style": "",
            "layout": "IPY_MODEL_8398aef4f27f4406b8163c910ab5d663",
            "_model_module": "@jupyter-widgets/controls",
            "children": [
              "IPY_MODEL_3763ec4a37744f128534e78a6e982f3a",
              "IPY_MODEL_67578889efe5498182f42396d5e9eb7e"
            ]
          }
        },
        "8398aef4f27f4406b8163c910ab5d663": {
          "model_module": "@jupyter-widgets/base",
          "model_name": "LayoutModel",
          "state": {
            "_view_name": "LayoutView",
            "grid_template_rows": null,
            "right": null,
            "justify_content": null,
            "_view_module": "@jupyter-widgets/base",
            "overflow": null,
            "_model_module_version": "1.2.0",
            "_view_count": null,
            "flex_flow": null,
            "width": null,
            "min_width": null,
            "border": null,
            "align_items": null,
            "bottom": null,
            "_model_module": "@jupyter-widgets/base",
            "top": null,
            "grid_column": null,
            "overflow_y": null,
            "overflow_x": null,
            "grid_auto_flow": null,
            "grid_area": null,
            "grid_template_columns": null,
            "flex": null,
            "_model_name": "LayoutModel",
            "justify_items": null,
            "grid_row": null,
            "max_height": null,
            "align_content": null,
            "visibility": null,
            "align_self": null,
            "height": null,
            "min_height": null,
            "padding": null,
            "grid_auto_rows": null,
            "grid_gap": null,
            "max_width": null,
            "order": null,
            "_view_module_version": "1.2.0",
            "grid_template_areas": null,
            "object_position": null,
            "object_fit": null,
            "grid_auto_columns": null,
            "margin": null,
            "display": null,
            "left": null
          }
        },
        "3763ec4a37744f128534e78a6e982f3a": {
          "model_module": "@jupyter-widgets/controls",
          "model_name": "FloatProgressModel",
          "state": {
            "_view_name": "ProgressView",
            "style": "IPY_MODEL_fdd773db480641be891fc25373e3369b",
            "_dom_classes": [],
            "description": "100%",
            "_model_name": "FloatProgressModel",
            "bar_style": "success",
            "max": 1205,
            "_view_module": "@jupyter-widgets/controls",
            "_model_module_version": "1.5.0",
            "value": 1205,
            "_view_count": null,
            "_view_module_version": "1.5.0",
            "orientation": "horizontal",
            "min": 0,
            "description_tooltip": null,
            "_model_module": "@jupyter-widgets/controls",
            "layout": "IPY_MODEL_202005d9379248289878e351df219193"
          }
        },
        "67578889efe5498182f42396d5e9eb7e": {
          "model_module": "@jupyter-widgets/controls",
          "model_name": "HTMLModel",
          "state": {
            "_view_name": "HTMLView",
            "style": "IPY_MODEL_13930044781c44ef92c38e4a905bb6b0",
            "_dom_classes": [],
            "description": "",
            "_model_name": "HTMLModel",
            "placeholder": "​",
            "_view_module": "@jupyter-widgets/controls",
            "_model_module_version": "1.5.0",
            "value": " 1205/1205 [00:01&lt;00:00, 723.81it/s]",
            "_view_count": null,
            "_view_module_version": "1.5.0",
            "description_tooltip": null,
            "_model_module": "@jupyter-widgets/controls",
            "layout": "IPY_MODEL_ce852dcfe7344e67b5425b954ddcef5a"
          }
        },
        "fdd773db480641be891fc25373e3369b": {
          "model_module": "@jupyter-widgets/controls",
          "model_name": "ProgressStyleModel",
          "state": {
            "_view_name": "StyleView",
            "_model_name": "ProgressStyleModel",
            "description_width": "initial",
            "_view_module": "@jupyter-widgets/base",
            "_model_module_version": "1.5.0",
            "_view_count": null,
            "_view_module_version": "1.2.0",
            "bar_color": null,
            "_model_module": "@jupyter-widgets/controls"
          }
        },
        "202005d9379248289878e351df219193": {
          "model_module": "@jupyter-widgets/base",
          "model_name": "LayoutModel",
          "state": {
            "_view_name": "LayoutView",
            "grid_template_rows": null,
            "right": null,
            "justify_content": null,
            "_view_module": "@jupyter-widgets/base",
            "overflow": null,
            "_model_module_version": "1.2.0",
            "_view_count": null,
            "flex_flow": null,
            "width": null,
            "min_width": null,
            "border": null,
            "align_items": null,
            "bottom": null,
            "_model_module": "@jupyter-widgets/base",
            "top": null,
            "grid_column": null,
            "overflow_y": null,
            "overflow_x": null,
            "grid_auto_flow": null,
            "grid_area": null,
            "grid_template_columns": null,
            "flex": null,
            "_model_name": "LayoutModel",
            "justify_items": null,
            "grid_row": null,
            "max_height": null,
            "align_content": null,
            "visibility": null,
            "align_self": null,
            "height": null,
            "min_height": null,
            "padding": null,
            "grid_auto_rows": null,
            "grid_gap": null,
            "max_width": null,
            "order": null,
            "_view_module_version": "1.2.0",
            "grid_template_areas": null,
            "object_position": null,
            "object_fit": null,
            "grid_auto_columns": null,
            "margin": null,
            "display": null,
            "left": null
          }
        },
        "13930044781c44ef92c38e4a905bb6b0": {
          "model_module": "@jupyter-widgets/controls",
          "model_name": "DescriptionStyleModel",
          "state": {
            "_view_name": "StyleView",
            "_model_name": "DescriptionStyleModel",
            "description_width": "",
            "_view_module": "@jupyter-widgets/base",
            "_model_module_version": "1.5.0",
            "_view_count": null,
            "_view_module_version": "1.2.0",
            "_model_module": "@jupyter-widgets/controls"
          }
        },
        "ce852dcfe7344e67b5425b954ddcef5a": {
          "model_module": "@jupyter-widgets/base",
          "model_name": "LayoutModel",
          "state": {
            "_view_name": "LayoutView",
            "grid_template_rows": null,
            "right": null,
            "justify_content": null,
            "_view_module": "@jupyter-widgets/base",
            "overflow": null,
            "_model_module_version": "1.2.0",
            "_view_count": null,
            "flex_flow": null,
            "width": null,
            "min_width": null,
            "border": null,
            "align_items": null,
            "bottom": null,
            "_model_module": "@jupyter-widgets/base",
            "top": null,
            "grid_column": null,
            "overflow_y": null,
            "overflow_x": null,
            "grid_auto_flow": null,
            "grid_area": null,
            "grid_template_columns": null,
            "flex": null,
            "_model_name": "LayoutModel",
            "justify_items": null,
            "grid_row": null,
            "max_height": null,
            "align_content": null,
            "visibility": null,
            "align_self": null,
            "height": null,
            "min_height": null,
            "padding": null,
            "grid_auto_rows": null,
            "grid_gap": null,
            "max_width": null,
            "order": null,
            "_view_module_version": "1.2.0",
            "grid_template_areas": null,
            "object_position": null,
            "object_fit": null,
            "grid_auto_columns": null,
            "margin": null,
            "display": null,
            "left": null
          }
        },
        "bf8fd0113d09496ba256c754bef00f9a": {
          "model_module": "@jupyter-widgets/controls",
          "model_name": "HBoxModel",
          "state": {
            "_view_name": "HBoxView",
            "_dom_classes": [],
            "_model_name": "HBoxModel",
            "_view_module": "@jupyter-widgets/controls",
            "_model_module_version": "1.5.0",
            "_view_count": null,
            "_view_module_version": "1.5.0",
            "box_style": "",
            "layout": "IPY_MODEL_7e743fd71ba94cebae708f746c4884d2",
            "_model_module": "@jupyter-widgets/controls",
            "children": [
              "IPY_MODEL_6905831023ef497fb25680be97379814",
              "IPY_MODEL_a1fdd997e434468889f234d7c23ad4ed"
            ]
          }
        },
        "7e743fd71ba94cebae708f746c4884d2": {
          "model_module": "@jupyter-widgets/base",
          "model_name": "LayoutModel",
          "state": {
            "_view_name": "LayoutView",
            "grid_template_rows": null,
            "right": null,
            "justify_content": null,
            "_view_module": "@jupyter-widgets/base",
            "overflow": null,
            "_model_module_version": "1.2.0",
            "_view_count": null,
            "flex_flow": null,
            "width": null,
            "min_width": null,
            "border": null,
            "align_items": null,
            "bottom": null,
            "_model_module": "@jupyter-widgets/base",
            "top": null,
            "grid_column": null,
            "overflow_y": null,
            "overflow_x": null,
            "grid_auto_flow": null,
            "grid_area": null,
            "grid_template_columns": null,
            "flex": null,
            "_model_name": "LayoutModel",
            "justify_items": null,
            "grid_row": null,
            "max_height": null,
            "align_content": null,
            "visibility": null,
            "align_self": null,
            "height": null,
            "min_height": null,
            "padding": null,
            "grid_auto_rows": null,
            "grid_gap": null,
            "max_width": null,
            "order": null,
            "_view_module_version": "1.2.0",
            "grid_template_areas": null,
            "object_position": null,
            "object_fit": null,
            "grid_auto_columns": null,
            "margin": null,
            "display": null,
            "left": null
          }
        },
        "6905831023ef497fb25680be97379814": {
          "model_module": "@jupyter-widgets/controls",
          "model_name": "FloatProgressModel",
          "state": {
            "_view_name": "ProgressView",
            "style": "IPY_MODEL_ce6ccc4a91dd44c8a41093561d97e087",
            "_dom_classes": [],
            "description": "100%",
            "_model_name": "FloatProgressModel",
            "bar_style": "success",
            "max": 1205,
            "_view_module": "@jupyter-widgets/controls",
            "_model_module_version": "1.5.0",
            "value": 1205,
            "_view_count": null,
            "_view_module_version": "1.5.0",
            "orientation": "horizontal",
            "min": 0,
            "description_tooltip": null,
            "_model_module": "@jupyter-widgets/controls",
            "layout": "IPY_MODEL_ceedaa266651485490fb8d6adaca7603"
          }
        },
        "a1fdd997e434468889f234d7c23ad4ed": {
          "model_module": "@jupyter-widgets/controls",
          "model_name": "HTMLModel",
          "state": {
            "_view_name": "HTMLView",
            "style": "IPY_MODEL_c991272f8b1d4da0b9ab35f4dee6b717",
            "_dom_classes": [],
            "description": "",
            "_model_name": "HTMLModel",
            "placeholder": "​",
            "_view_module": "@jupyter-widgets/controls",
            "_model_module_version": "1.5.0",
            "value": " 1205/1205 [00:01&lt;00:00, 1148.03it/s]",
            "_view_count": null,
            "_view_module_version": "1.5.0",
            "description_tooltip": null,
            "_model_module": "@jupyter-widgets/controls",
            "layout": "IPY_MODEL_5800555b84064c4184801788cbc33781"
          }
        },
        "ce6ccc4a91dd44c8a41093561d97e087": {
          "model_module": "@jupyter-widgets/controls",
          "model_name": "ProgressStyleModel",
          "state": {
            "_view_name": "StyleView",
            "_model_name": "ProgressStyleModel",
            "description_width": "initial",
            "_view_module": "@jupyter-widgets/base",
            "_model_module_version": "1.5.0",
            "_view_count": null,
            "_view_module_version": "1.2.0",
            "bar_color": null,
            "_model_module": "@jupyter-widgets/controls"
          }
        },
        "ceedaa266651485490fb8d6adaca7603": {
          "model_module": "@jupyter-widgets/base",
          "model_name": "LayoutModel",
          "state": {
            "_view_name": "LayoutView",
            "grid_template_rows": null,
            "right": null,
            "justify_content": null,
            "_view_module": "@jupyter-widgets/base",
            "overflow": null,
            "_model_module_version": "1.2.0",
            "_view_count": null,
            "flex_flow": null,
            "width": null,
            "min_width": null,
            "border": null,
            "align_items": null,
            "bottom": null,
            "_model_module": "@jupyter-widgets/base",
            "top": null,
            "grid_column": null,
            "overflow_y": null,
            "overflow_x": null,
            "grid_auto_flow": null,
            "grid_area": null,
            "grid_template_columns": null,
            "flex": null,
            "_model_name": "LayoutModel",
            "justify_items": null,
            "grid_row": null,
            "max_height": null,
            "align_content": null,
            "visibility": null,
            "align_self": null,
            "height": null,
            "min_height": null,
            "padding": null,
            "grid_auto_rows": null,
            "grid_gap": null,
            "max_width": null,
            "order": null,
            "_view_module_version": "1.2.0",
            "grid_template_areas": null,
            "object_position": null,
            "object_fit": null,
            "grid_auto_columns": null,
            "margin": null,
            "display": null,
            "left": null
          }
        },
        "c991272f8b1d4da0b9ab35f4dee6b717": {
          "model_module": "@jupyter-widgets/controls",
          "model_name": "DescriptionStyleModel",
          "state": {
            "_view_name": "StyleView",
            "_model_name": "DescriptionStyleModel",
            "description_width": "",
            "_view_module": "@jupyter-widgets/base",
            "_model_module_version": "1.5.0",
            "_view_count": null,
            "_view_module_version": "1.2.0",
            "_model_module": "@jupyter-widgets/controls"
          }
        },
        "5800555b84064c4184801788cbc33781": {
          "model_module": "@jupyter-widgets/base",
          "model_name": "LayoutModel",
          "state": {
            "_view_name": "LayoutView",
            "grid_template_rows": null,
            "right": null,
            "justify_content": null,
            "_view_module": "@jupyter-widgets/base",
            "overflow": null,
            "_model_module_version": "1.2.0",
            "_view_count": null,
            "flex_flow": null,
            "width": null,
            "min_width": null,
            "border": null,
            "align_items": null,
            "bottom": null,
            "_model_module": "@jupyter-widgets/base",
            "top": null,
            "grid_column": null,
            "overflow_y": null,
            "overflow_x": null,
            "grid_auto_flow": null,
            "grid_area": null,
            "grid_template_columns": null,
            "flex": null,
            "_model_name": "LayoutModel",
            "justify_items": null,
            "grid_row": null,
            "max_height": null,
            "align_content": null,
            "visibility": null,
            "align_self": null,
            "height": null,
            "min_height": null,
            "padding": null,
            "grid_auto_rows": null,
            "grid_gap": null,
            "max_width": null,
            "order": null,
            "_view_module_version": "1.2.0",
            "grid_template_areas": null,
            "object_position": null,
            "object_fit": null,
            "grid_auto_columns": null,
            "margin": null,
            "display": null,
            "left": null
          }
        },
        "c15837b308414de0ae73a71445e4aa8a": {
          "model_module": "@jupyter-widgets/controls",
          "model_name": "HBoxModel",
          "state": {
            "_view_name": "HBoxView",
            "_dom_classes": [],
            "_model_name": "HBoxModel",
            "_view_module": "@jupyter-widgets/controls",
            "_model_module_version": "1.5.0",
            "_view_count": null,
            "_view_module_version": "1.5.0",
            "box_style": "",
            "layout": "IPY_MODEL_3e0f6655b17c43dab689c18d8049c545",
            "_model_module": "@jupyter-widgets/controls",
            "children": [
              "IPY_MODEL_0795d497082d4f61aca2d11576954994",
              "IPY_MODEL_ad4267bca68b4565880e0cdc4ca5ade3"
            ]
          }
        },
        "3e0f6655b17c43dab689c18d8049c545": {
          "model_module": "@jupyter-widgets/base",
          "model_name": "LayoutModel",
          "state": {
            "_view_name": "LayoutView",
            "grid_template_rows": null,
            "right": null,
            "justify_content": null,
            "_view_module": "@jupyter-widgets/base",
            "overflow": null,
            "_model_module_version": "1.2.0",
            "_view_count": null,
            "flex_flow": null,
            "width": null,
            "min_width": null,
            "border": null,
            "align_items": null,
            "bottom": null,
            "_model_module": "@jupyter-widgets/base",
            "top": null,
            "grid_column": null,
            "overflow_y": null,
            "overflow_x": null,
            "grid_auto_flow": null,
            "grid_area": null,
            "grid_template_columns": null,
            "flex": null,
            "_model_name": "LayoutModel",
            "justify_items": null,
            "grid_row": null,
            "max_height": null,
            "align_content": null,
            "visibility": null,
            "align_self": null,
            "height": null,
            "min_height": null,
            "padding": null,
            "grid_auto_rows": null,
            "grid_gap": null,
            "max_width": null,
            "order": null,
            "_view_module_version": "1.2.0",
            "grid_template_areas": null,
            "object_position": null,
            "object_fit": null,
            "grid_auto_columns": null,
            "margin": null,
            "display": null,
            "left": null
          }
        },
        "0795d497082d4f61aca2d11576954994": {
          "model_module": "@jupyter-widgets/controls",
          "model_name": "FloatProgressModel",
          "state": {
            "_view_name": "ProgressView",
            "style": "IPY_MODEL_cd5e72c0710c4b63a6dd8014ffdbd0ea",
            "_dom_classes": [],
            "description": "100%",
            "_model_name": "FloatProgressModel",
            "bar_style": "success",
            "max": 50,
            "_view_module": "@jupyter-widgets/controls",
            "_model_module_version": "1.5.0",
            "value": 50,
            "_view_count": null,
            "_view_module_version": "1.5.0",
            "orientation": "horizontal",
            "min": 0,
            "description_tooltip": null,
            "_model_module": "@jupyter-widgets/controls",
            "layout": "IPY_MODEL_c5e247f387624d43b7610e9c2128085e"
          }
        },
        "ad4267bca68b4565880e0cdc4ca5ade3": {
          "model_module": "@jupyter-widgets/controls",
          "model_name": "HTMLModel",
          "state": {
            "_view_name": "HTMLView",
            "style": "IPY_MODEL_367c1eb66cc14235af163ac7484661d3",
            "_dom_classes": [],
            "description": "",
            "_model_name": "HTMLModel",
            "placeholder": "​",
            "_view_module": "@jupyter-widgets/controls",
            "_model_module_version": "1.5.0",
            "value": " 50/50 [00:19&lt;00:00,  2.55it/s]",
            "_view_count": null,
            "_view_module_version": "1.5.0",
            "description_tooltip": null,
            "_model_module": "@jupyter-widgets/controls",
            "layout": "IPY_MODEL_c465ff5040d948c4a75c3dacfd4c3dec"
          }
        },
        "cd5e72c0710c4b63a6dd8014ffdbd0ea": {
          "model_module": "@jupyter-widgets/controls",
          "model_name": "ProgressStyleModel",
          "state": {
            "_view_name": "StyleView",
            "_model_name": "ProgressStyleModel",
            "description_width": "initial",
            "_view_module": "@jupyter-widgets/base",
            "_model_module_version": "1.5.0",
            "_view_count": null,
            "_view_module_version": "1.2.0",
            "bar_color": null,
            "_model_module": "@jupyter-widgets/controls"
          }
        },
        "c5e247f387624d43b7610e9c2128085e": {
          "model_module": "@jupyter-widgets/base",
          "model_name": "LayoutModel",
          "state": {
            "_view_name": "LayoutView",
            "grid_template_rows": null,
            "right": null,
            "justify_content": null,
            "_view_module": "@jupyter-widgets/base",
            "overflow": null,
            "_model_module_version": "1.2.0",
            "_view_count": null,
            "flex_flow": null,
            "width": null,
            "min_width": null,
            "border": null,
            "align_items": null,
            "bottom": null,
            "_model_module": "@jupyter-widgets/base",
            "top": null,
            "grid_column": null,
            "overflow_y": null,
            "overflow_x": null,
            "grid_auto_flow": null,
            "grid_area": null,
            "grid_template_columns": null,
            "flex": null,
            "_model_name": "LayoutModel",
            "justify_items": null,
            "grid_row": null,
            "max_height": null,
            "align_content": null,
            "visibility": null,
            "align_self": null,
            "height": null,
            "min_height": null,
            "padding": null,
            "grid_auto_rows": null,
            "grid_gap": null,
            "max_width": null,
            "order": null,
            "_view_module_version": "1.2.0",
            "grid_template_areas": null,
            "object_position": null,
            "object_fit": null,
            "grid_auto_columns": null,
            "margin": null,
            "display": null,
            "left": null
          }
        },
        "367c1eb66cc14235af163ac7484661d3": {
          "model_module": "@jupyter-widgets/controls",
          "model_name": "DescriptionStyleModel",
          "state": {
            "_view_name": "StyleView",
            "_model_name": "DescriptionStyleModel",
            "description_width": "",
            "_view_module": "@jupyter-widgets/base",
            "_model_module_version": "1.5.0",
            "_view_count": null,
            "_view_module_version": "1.2.0",
            "_model_module": "@jupyter-widgets/controls"
          }
        },
        "c465ff5040d948c4a75c3dacfd4c3dec": {
          "model_module": "@jupyter-widgets/base",
          "model_name": "LayoutModel",
          "state": {
            "_view_name": "LayoutView",
            "grid_template_rows": null,
            "right": null,
            "justify_content": null,
            "_view_module": "@jupyter-widgets/base",
            "overflow": null,
            "_model_module_version": "1.2.0",
            "_view_count": null,
            "flex_flow": null,
            "width": null,
            "min_width": null,
            "border": null,
            "align_items": null,
            "bottom": null,
            "_model_module": "@jupyter-widgets/base",
            "top": null,
            "grid_column": null,
            "overflow_y": null,
            "overflow_x": null,
            "grid_auto_flow": null,
            "grid_area": null,
            "grid_template_columns": null,
            "flex": null,
            "_model_name": "LayoutModel",
            "justify_items": null,
            "grid_row": null,
            "max_height": null,
            "align_content": null,
            "visibility": null,
            "align_self": null,
            "height": null,
            "min_height": null,
            "padding": null,
            "grid_auto_rows": null,
            "grid_gap": null,
            "max_width": null,
            "order": null,
            "_view_module_version": "1.2.0",
            "grid_template_areas": null,
            "object_position": null,
            "object_fit": null,
            "grid_auto_columns": null,
            "margin": null,
            "display": null,
            "left": null
          }
        },
        "d2d67c329cb14febbeb3ad617c1a3509": {
          "model_module": "@jupyter-widgets/controls",
          "model_name": "HBoxModel",
          "state": {
            "_view_name": "HBoxView",
            "_dom_classes": [],
            "_model_name": "HBoxModel",
            "_view_module": "@jupyter-widgets/controls",
            "_model_module_version": "1.5.0",
            "_view_count": null,
            "_view_module_version": "1.5.0",
            "box_style": "",
            "layout": "IPY_MODEL_ef25b4bb98b74441b2355f51161b0245",
            "_model_module": "@jupyter-widgets/controls",
            "children": [
              "IPY_MODEL_b29dc944ca124cd89fdccac02af4b6bc",
              "IPY_MODEL_8de7550dc62e42a58230896020dcfb79"
            ]
          }
        },
        "ef25b4bb98b74441b2355f51161b0245": {
          "model_module": "@jupyter-widgets/base",
          "model_name": "LayoutModel",
          "state": {
            "_view_name": "LayoutView",
            "grid_template_rows": null,
            "right": null,
            "justify_content": null,
            "_view_module": "@jupyter-widgets/base",
            "overflow": null,
            "_model_module_version": "1.2.0",
            "_view_count": null,
            "flex_flow": null,
            "width": null,
            "min_width": null,
            "border": null,
            "align_items": null,
            "bottom": null,
            "_model_module": "@jupyter-widgets/base",
            "top": null,
            "grid_column": null,
            "overflow_y": null,
            "overflow_x": null,
            "grid_auto_flow": null,
            "grid_area": null,
            "grid_template_columns": null,
            "flex": null,
            "_model_name": "LayoutModel",
            "justify_items": null,
            "grid_row": null,
            "max_height": null,
            "align_content": null,
            "visibility": null,
            "align_self": null,
            "height": null,
            "min_height": null,
            "padding": null,
            "grid_auto_rows": null,
            "grid_gap": null,
            "max_width": null,
            "order": null,
            "_view_module_version": "1.2.0",
            "grid_template_areas": null,
            "object_position": null,
            "object_fit": null,
            "grid_auto_columns": null,
            "margin": null,
            "display": null,
            "left": null
          }
        },
        "b29dc944ca124cd89fdccac02af4b6bc": {
          "model_module": "@jupyter-widgets/controls",
          "model_name": "FloatProgressModel",
          "state": {
            "_view_name": "ProgressView",
            "style": "IPY_MODEL_cab0ee78f77c402188d1f37cc2ca28fc",
            "_dom_classes": [],
            "description": "100%",
            "_model_name": "FloatProgressModel",
            "bar_style": "success",
            "max": 50,
            "_view_module": "@jupyter-widgets/controls",
            "_model_module_version": "1.5.0",
            "value": 50,
            "_view_count": null,
            "_view_module_version": "1.5.0",
            "orientation": "horizontal",
            "min": 0,
            "description_tooltip": null,
            "_model_module": "@jupyter-widgets/controls",
            "layout": "IPY_MODEL_86b4d9156b1e4f40a82245bf0bd5b9d3"
          }
        },
        "8de7550dc62e42a58230896020dcfb79": {
          "model_module": "@jupyter-widgets/controls",
          "model_name": "HTMLModel",
          "state": {
            "_view_name": "HTMLView",
            "style": "IPY_MODEL_3aefc91f78444db79cafdaf31fa4dfcd",
            "_dom_classes": [],
            "description": "",
            "_model_name": "HTMLModel",
            "placeholder": "​",
            "_view_module": "@jupyter-widgets/controls",
            "_model_module_version": "1.5.0",
            "value": " 50/50 [00:06&lt;00:00,  8.33it/s]",
            "_view_count": null,
            "_view_module_version": "1.5.0",
            "description_tooltip": null,
            "_model_module": "@jupyter-widgets/controls",
            "layout": "IPY_MODEL_e665abef11a144bbaab6c506737a189b"
          }
        },
        "cab0ee78f77c402188d1f37cc2ca28fc": {
          "model_module": "@jupyter-widgets/controls",
          "model_name": "ProgressStyleModel",
          "state": {
            "_view_name": "StyleView",
            "_model_name": "ProgressStyleModel",
            "description_width": "initial",
            "_view_module": "@jupyter-widgets/base",
            "_model_module_version": "1.5.0",
            "_view_count": null,
            "_view_module_version": "1.2.0",
            "bar_color": null,
            "_model_module": "@jupyter-widgets/controls"
          }
        },
        "86b4d9156b1e4f40a82245bf0bd5b9d3": {
          "model_module": "@jupyter-widgets/base",
          "model_name": "LayoutModel",
          "state": {
            "_view_name": "LayoutView",
            "grid_template_rows": null,
            "right": null,
            "justify_content": null,
            "_view_module": "@jupyter-widgets/base",
            "overflow": null,
            "_model_module_version": "1.2.0",
            "_view_count": null,
            "flex_flow": null,
            "width": null,
            "min_width": null,
            "border": null,
            "align_items": null,
            "bottom": null,
            "_model_module": "@jupyter-widgets/base",
            "top": null,
            "grid_column": null,
            "overflow_y": null,
            "overflow_x": null,
            "grid_auto_flow": null,
            "grid_area": null,
            "grid_template_columns": null,
            "flex": null,
            "_model_name": "LayoutModel",
            "justify_items": null,
            "grid_row": null,
            "max_height": null,
            "align_content": null,
            "visibility": null,
            "align_self": null,
            "height": null,
            "min_height": null,
            "padding": null,
            "grid_auto_rows": null,
            "grid_gap": null,
            "max_width": null,
            "order": null,
            "_view_module_version": "1.2.0",
            "grid_template_areas": null,
            "object_position": null,
            "object_fit": null,
            "grid_auto_columns": null,
            "margin": null,
            "display": null,
            "left": null
          }
        },
        "3aefc91f78444db79cafdaf31fa4dfcd": {
          "model_module": "@jupyter-widgets/controls",
          "model_name": "DescriptionStyleModel",
          "state": {
            "_view_name": "StyleView",
            "_model_name": "DescriptionStyleModel",
            "description_width": "",
            "_view_module": "@jupyter-widgets/base",
            "_model_module_version": "1.5.0",
            "_view_count": null,
            "_view_module_version": "1.2.0",
            "_model_module": "@jupyter-widgets/controls"
          }
        },
        "e665abef11a144bbaab6c506737a189b": {
          "model_module": "@jupyter-widgets/base",
          "model_name": "LayoutModel",
          "state": {
            "_view_name": "LayoutView",
            "grid_template_rows": null,
            "right": null,
            "justify_content": null,
            "_view_module": "@jupyter-widgets/base",
            "overflow": null,
            "_model_module_version": "1.2.0",
            "_view_count": null,
            "flex_flow": null,
            "width": null,
            "min_width": null,
            "border": null,
            "align_items": null,
            "bottom": null,
            "_model_module": "@jupyter-widgets/base",
            "top": null,
            "grid_column": null,
            "overflow_y": null,
            "overflow_x": null,
            "grid_auto_flow": null,
            "grid_area": null,
            "grid_template_columns": null,
            "flex": null,
            "_model_name": "LayoutModel",
            "justify_items": null,
            "grid_row": null,
            "max_height": null,
            "align_content": null,
            "visibility": null,
            "align_self": null,
            "height": null,
            "min_height": null,
            "padding": null,
            "grid_auto_rows": null,
            "grid_gap": null,
            "max_width": null,
            "order": null,
            "_view_module_version": "1.2.0",
            "grid_template_areas": null,
            "object_position": null,
            "object_fit": null,
            "grid_auto_columns": null,
            "margin": null,
            "display": null,
            "left": null
          }
        },
        "52698bee936b4cfc953699e48d217ecd": {
          "model_module": "@jupyter-widgets/controls",
          "model_name": "IntProgressModel",
          "state": {
            "_view_name": "ProgressView",
            "style": "IPY_MODEL_02280bfba177493b8402a358b1fde828",
            "_dom_classes": [],
            "description": "Processing: ",
            "_model_name": "IntProgressModel",
            "bar_style": "",
            "max": 3,
            "_view_module": "@jupyter-widgets/controls",
            "_model_module_version": "1.5.0",
            "value": 3,
            "_view_count": null,
            "_view_module_version": "1.5.0",
            "orientation": "horizontal",
            "min": 0,
            "description_tooltip": null,
            "_model_module": "@jupyter-widgets/controls",
            "layout": "IPY_MODEL_ff0bdedaaacd43aba31f14ce10f46544"
          }
        },
        "02280bfba177493b8402a358b1fde828": {
          "model_module": "@jupyter-widgets/controls",
          "model_name": "ProgressStyleModel",
          "state": {
            "_view_name": "StyleView",
            "_model_name": "ProgressStyleModel",
            "description_width": "",
            "_view_module": "@jupyter-widgets/base",
            "_model_module_version": "1.5.0",
            "_view_count": null,
            "_view_module_version": "1.2.0",
            "bar_color": null,
            "_model_module": "@jupyter-widgets/controls"
          }
        },
        "ff0bdedaaacd43aba31f14ce10f46544": {
          "model_module": "@jupyter-widgets/base",
          "model_name": "LayoutModel",
          "state": {
            "_view_name": "LayoutView",
            "grid_template_rows": null,
            "right": null,
            "justify_content": null,
            "_view_module": "@jupyter-widgets/base",
            "overflow": null,
            "_model_module_version": "1.2.0",
            "_view_count": null,
            "flex_flow": null,
            "width": null,
            "min_width": null,
            "border": null,
            "align_items": null,
            "bottom": null,
            "_model_module": "@jupyter-widgets/base",
            "top": null,
            "grid_column": null,
            "overflow_y": null,
            "overflow_x": null,
            "grid_auto_flow": null,
            "grid_area": null,
            "grid_template_columns": null,
            "flex": null,
            "_model_name": "LayoutModel",
            "justify_items": null,
            "grid_row": null,
            "max_height": null,
            "align_content": null,
            "visibility": null,
            "align_self": null,
            "height": null,
            "min_height": null,
            "padding": null,
            "grid_auto_rows": null,
            "grid_gap": null,
            "max_width": null,
            "order": null,
            "_view_module_version": "1.2.0",
            "grid_template_areas": null,
            "object_position": null,
            "object_fit": null,
            "grid_auto_columns": null,
            "margin": null,
            "display": null,
            "left": null
          }
        },
        "2230e1fbb1ef41ceb99b14dbf22ec44c": {
          "model_module": "@jupyter-widgets/controls",
          "model_name": "IntProgressModel",
          "state": {
            "_view_name": "ProgressView",
            "style": "IPY_MODEL_bcce3f75610a47ff88285c13d38c0a13",
            "_dom_classes": [],
            "description": "Processing: ",
            "_model_name": "IntProgressModel",
            "bar_style": "",
            "max": 94,
            "_view_module": "@jupyter-widgets/controls",
            "_model_module_version": "1.5.0",
            "value": 94,
            "_view_count": null,
            "_view_module_version": "1.5.0",
            "orientation": "horizontal",
            "min": 0,
            "description_tooltip": null,
            "_model_module": "@jupyter-widgets/controls",
            "layout": "IPY_MODEL_a12b0790725b40f38016960d458be080"
          }
        },
        "bcce3f75610a47ff88285c13d38c0a13": {
          "model_module": "@jupyter-widgets/controls",
          "model_name": "ProgressStyleModel",
          "state": {
            "_view_name": "StyleView",
            "_model_name": "ProgressStyleModel",
            "description_width": "",
            "_view_module": "@jupyter-widgets/base",
            "_model_module_version": "1.5.0",
            "_view_count": null,
            "_view_module_version": "1.2.0",
            "bar_color": null,
            "_model_module": "@jupyter-widgets/controls"
          }
        },
        "a12b0790725b40f38016960d458be080": {
          "model_module": "@jupyter-widgets/base",
          "model_name": "LayoutModel",
          "state": {
            "_view_name": "LayoutView",
            "grid_template_rows": null,
            "right": null,
            "justify_content": null,
            "_view_module": "@jupyter-widgets/base",
            "overflow": null,
            "_model_module_version": "1.2.0",
            "_view_count": null,
            "flex_flow": null,
            "width": null,
            "min_width": null,
            "border": null,
            "align_items": null,
            "bottom": null,
            "_model_module": "@jupyter-widgets/base",
            "top": null,
            "grid_column": null,
            "overflow_y": null,
            "overflow_x": null,
            "grid_auto_flow": null,
            "grid_area": null,
            "grid_template_columns": null,
            "flex": null,
            "_model_name": "LayoutModel",
            "justify_items": null,
            "grid_row": null,
            "max_height": null,
            "align_content": null,
            "visibility": null,
            "align_self": null,
            "height": null,
            "min_height": null,
            "padding": null,
            "grid_auto_rows": null,
            "grid_gap": null,
            "max_width": null,
            "order": null,
            "_view_module_version": "1.2.0",
            "grid_template_areas": null,
            "object_position": null,
            "object_fit": null,
            "grid_auto_columns": null,
            "margin": null,
            "display": null,
            "left": null
          }
        },
        "0462ad56cdd04d79a317bafb4baf3101": {
          "model_module": "@jupyter-widgets/controls",
          "model_name": "IntProgressModel",
          "state": {
            "_view_name": "ProgressView",
            "style": "IPY_MODEL_9dc657e412d34595b7f992db9fbf11cd",
            "_dom_classes": [],
            "description": "Processing: ",
            "_model_name": "IntProgressModel",
            "bar_style": "",
            "max": 6,
            "_view_module": "@jupyter-widgets/controls",
            "_model_module_version": "1.5.0",
            "value": 6,
            "_view_count": null,
            "_view_module_version": "1.5.0",
            "orientation": "horizontal",
            "min": 0,
            "description_tooltip": null,
            "_model_module": "@jupyter-widgets/controls",
            "layout": "IPY_MODEL_ef316e4eebdd4d789dcedd925ebfeb3e"
          }
        },
        "9dc657e412d34595b7f992db9fbf11cd": {
          "model_module": "@jupyter-widgets/controls",
          "model_name": "ProgressStyleModel",
          "state": {
            "_view_name": "StyleView",
            "_model_name": "ProgressStyleModel",
            "description_width": "",
            "_view_module": "@jupyter-widgets/base",
            "_model_module_version": "1.5.0",
            "_view_count": null,
            "_view_module_version": "1.2.0",
            "bar_color": null,
            "_model_module": "@jupyter-widgets/controls"
          }
        },
        "ef316e4eebdd4d789dcedd925ebfeb3e": {
          "model_module": "@jupyter-widgets/base",
          "model_name": "LayoutModel",
          "state": {
            "_view_name": "LayoutView",
            "grid_template_rows": null,
            "right": null,
            "justify_content": null,
            "_view_module": "@jupyter-widgets/base",
            "overflow": null,
            "_model_module_version": "1.2.0",
            "_view_count": null,
            "flex_flow": null,
            "width": null,
            "min_width": null,
            "border": null,
            "align_items": null,
            "bottom": null,
            "_model_module": "@jupyter-widgets/base",
            "top": null,
            "grid_column": null,
            "overflow_y": null,
            "overflow_x": null,
            "grid_auto_flow": null,
            "grid_area": null,
            "grid_template_columns": null,
            "flex": null,
            "_model_name": "LayoutModel",
            "justify_items": null,
            "grid_row": null,
            "max_height": null,
            "align_content": null,
            "visibility": null,
            "align_self": null,
            "height": null,
            "min_height": null,
            "padding": null,
            "grid_auto_rows": null,
            "grid_gap": null,
            "max_width": null,
            "order": null,
            "_view_module_version": "1.2.0",
            "grid_template_areas": null,
            "object_position": null,
            "object_fit": null,
            "grid_auto_columns": null,
            "margin": null,
            "display": null,
            "left": null
          }
        },
        "ae2672e26fa948d39025214a144d6619": {
          "model_module": "@jupyter-widgets/controls",
          "model_name": "IntProgressModel",
          "state": {
            "_view_name": "ProgressView",
            "style": "IPY_MODEL_89071dff48ba4707a026ac2c294274e4",
            "_dom_classes": [],
            "description": "Processing: ",
            "_model_name": "IntProgressModel",
            "bar_style": "",
            "max": 3,
            "_view_module": "@jupyter-widgets/controls",
            "_model_module_version": "1.5.0",
            "value": 3,
            "_view_count": null,
            "_view_module_version": "1.5.0",
            "orientation": "horizontal",
            "min": 0,
            "description_tooltip": null,
            "_model_module": "@jupyter-widgets/controls",
            "layout": "IPY_MODEL_aac3408929e54391adfa0ab853d50e46"
          }
        },
        "89071dff48ba4707a026ac2c294274e4": {
          "model_module": "@jupyter-widgets/controls",
          "model_name": "ProgressStyleModel",
          "state": {
            "_view_name": "StyleView",
            "_model_name": "ProgressStyleModel",
            "description_width": "",
            "_view_module": "@jupyter-widgets/base",
            "_model_module_version": "1.5.0",
            "_view_count": null,
            "_view_module_version": "1.2.0",
            "bar_color": null,
            "_model_module": "@jupyter-widgets/controls"
          }
        },
        "aac3408929e54391adfa0ab853d50e46": {
          "model_module": "@jupyter-widgets/base",
          "model_name": "LayoutModel",
          "state": {
            "_view_name": "LayoutView",
            "grid_template_rows": null,
            "right": null,
            "justify_content": null,
            "_view_module": "@jupyter-widgets/base",
            "overflow": null,
            "_model_module_version": "1.2.0",
            "_view_count": null,
            "flex_flow": null,
            "width": null,
            "min_width": null,
            "border": null,
            "align_items": null,
            "bottom": null,
            "_model_module": "@jupyter-widgets/base",
            "top": null,
            "grid_column": null,
            "overflow_y": null,
            "overflow_x": null,
            "grid_auto_flow": null,
            "grid_area": null,
            "grid_template_columns": null,
            "flex": null,
            "_model_name": "LayoutModel",
            "justify_items": null,
            "grid_row": null,
            "max_height": null,
            "align_content": null,
            "visibility": null,
            "align_self": null,
            "height": null,
            "min_height": null,
            "padding": null,
            "grid_auto_rows": null,
            "grid_gap": null,
            "max_width": null,
            "order": null,
            "_view_module_version": "1.2.0",
            "grid_template_areas": null,
            "object_position": null,
            "object_fit": null,
            "grid_auto_columns": null,
            "margin": null,
            "display": null,
            "left": null
          }
        },
        "6e79cf9a2f094c8cab7a7bce2632c959": {
          "model_module": "@jupyter-widgets/controls",
          "model_name": "IntProgressModel",
          "state": {
            "_view_name": "ProgressView",
            "style": "IPY_MODEL_d20dd2d0b74e429d86ba8c1346125876",
            "_dom_classes": [],
            "description": "Processing: ",
            "_model_name": "IntProgressModel",
            "bar_style": "",
            "max": 94,
            "_view_module": "@jupyter-widgets/controls",
            "_model_module_version": "1.5.0",
            "value": 94,
            "_view_count": null,
            "_view_module_version": "1.5.0",
            "orientation": "horizontal",
            "min": 0,
            "description_tooltip": null,
            "_model_module": "@jupyter-widgets/controls",
            "layout": "IPY_MODEL_633cd5a8f2f844fda7285407e71055af"
          }
        },
        "d20dd2d0b74e429d86ba8c1346125876": {
          "model_module": "@jupyter-widgets/controls",
          "model_name": "ProgressStyleModel",
          "state": {
            "_view_name": "StyleView",
            "_model_name": "ProgressStyleModel",
            "description_width": "",
            "_view_module": "@jupyter-widgets/base",
            "_model_module_version": "1.5.0",
            "_view_count": null,
            "_view_module_version": "1.2.0",
            "bar_color": null,
            "_model_module": "@jupyter-widgets/controls"
          }
        },
        "633cd5a8f2f844fda7285407e71055af": {
          "model_module": "@jupyter-widgets/base",
          "model_name": "LayoutModel",
          "state": {
            "_view_name": "LayoutView",
            "grid_template_rows": null,
            "right": null,
            "justify_content": null,
            "_view_module": "@jupyter-widgets/base",
            "overflow": null,
            "_model_module_version": "1.2.0",
            "_view_count": null,
            "flex_flow": null,
            "width": null,
            "min_width": null,
            "border": null,
            "align_items": null,
            "bottom": null,
            "_model_module": "@jupyter-widgets/base",
            "top": null,
            "grid_column": null,
            "overflow_y": null,
            "overflow_x": null,
            "grid_auto_flow": null,
            "grid_area": null,
            "grid_template_columns": null,
            "flex": null,
            "_model_name": "LayoutModel",
            "justify_items": null,
            "grid_row": null,
            "max_height": null,
            "align_content": null,
            "visibility": null,
            "align_self": null,
            "height": null,
            "min_height": null,
            "padding": null,
            "grid_auto_rows": null,
            "grid_gap": null,
            "max_width": null,
            "order": null,
            "_view_module_version": "1.2.0",
            "grid_template_areas": null,
            "object_position": null,
            "object_fit": null,
            "grid_auto_columns": null,
            "margin": null,
            "display": null,
            "left": null
          }
        },
        "6d2830dad35b4a7885cd3514488aac9d": {
          "model_module": "@jupyter-widgets/controls",
          "model_name": "IntProgressModel",
          "state": {
            "_view_name": "ProgressView",
            "style": "IPY_MODEL_65570f4f6f7642c495c22edeaff9ce7d",
            "_dom_classes": [],
            "description": "Processing: ",
            "_model_name": "IntProgressModel",
            "bar_style": "",
            "max": 6,
            "_view_module": "@jupyter-widgets/controls",
            "_model_module_version": "1.5.0",
            "value": 6,
            "_view_count": null,
            "_view_module_version": "1.5.0",
            "orientation": "horizontal",
            "min": 0,
            "description_tooltip": null,
            "_model_module": "@jupyter-widgets/controls",
            "layout": "IPY_MODEL_d88c230d750f4ab697b4a120ac73879b"
          }
        },
        "65570f4f6f7642c495c22edeaff9ce7d": {
          "model_module": "@jupyter-widgets/controls",
          "model_name": "ProgressStyleModel",
          "state": {
            "_view_name": "StyleView",
            "_model_name": "ProgressStyleModel",
            "description_width": "",
            "_view_module": "@jupyter-widgets/base",
            "_model_module_version": "1.5.0",
            "_view_count": null,
            "_view_module_version": "1.2.0",
            "bar_color": null,
            "_model_module": "@jupyter-widgets/controls"
          }
        },
        "d88c230d750f4ab697b4a120ac73879b": {
          "model_module": "@jupyter-widgets/base",
          "model_name": "LayoutModel",
          "state": {
            "_view_name": "LayoutView",
            "grid_template_rows": null,
            "right": null,
            "justify_content": null,
            "_view_module": "@jupyter-widgets/base",
            "overflow": null,
            "_model_module_version": "1.2.0",
            "_view_count": null,
            "flex_flow": null,
            "width": null,
            "min_width": null,
            "border": null,
            "align_items": null,
            "bottom": null,
            "_model_module": "@jupyter-widgets/base",
            "top": null,
            "grid_column": null,
            "overflow_y": null,
            "overflow_x": null,
            "grid_auto_flow": null,
            "grid_area": null,
            "grid_template_columns": null,
            "flex": null,
            "_model_name": "LayoutModel",
            "justify_items": null,
            "grid_row": null,
            "max_height": null,
            "align_content": null,
            "visibility": null,
            "align_self": null,
            "height": null,
            "min_height": null,
            "padding": null,
            "grid_auto_rows": null,
            "grid_gap": null,
            "max_width": null,
            "order": null,
            "_view_module_version": "1.2.0",
            "grid_template_areas": null,
            "object_position": null,
            "object_fit": null,
            "grid_auto_columns": null,
            "margin": null,
            "display": null,
            "left": null
          }
        }
      }
    }
  },
  "cells": [
    {
      "cell_type": "markdown",
      "metadata": {
        "id": "cvdl5sP6zAUz"
      },
      "source": [
        "# 파일 다운로드"
      ]
    },
    {
      "cell_type": "code",
      "metadata": {
        "colab": {
          "base_uri": "https://localhost:8080/"
        },
        "id": "UtYYWsJRs6xZ",
        "outputId": "14b95b30-6792-4653-b66a-fac1d644050f"
      },
      "source": [
        "!pip install gdown"
      ],
      "execution_count": null,
      "outputs": [
        {
          "output_type": "stream",
          "text": [
            "Requirement already satisfied: gdown in /usr/local/lib/python3.7/dist-packages (3.6.4)\n",
            "Requirement already satisfied: six in /usr/local/lib/python3.7/dist-packages (from gdown) (1.15.0)\n",
            "Requirement already satisfied: requests in /usr/local/lib/python3.7/dist-packages (from gdown) (2.23.0)\n",
            "Requirement already satisfied: tqdm in /usr/local/lib/python3.7/dist-packages (from gdown) (4.41.1)\n",
            "Requirement already satisfied: idna<3,>=2.5 in /usr/local/lib/python3.7/dist-packages (from requests->gdown) (2.10)\n",
            "Requirement already satisfied: certifi>=2017.4.17 in /usr/local/lib/python3.7/dist-packages (from requests->gdown) (2021.5.30)\n",
            "Requirement already satisfied: urllib3!=1.25.0,!=1.25.1,<1.26,>=1.21.1 in /usr/local/lib/python3.7/dist-packages (from requests->gdown) (1.24.3)\n",
            "Requirement already satisfied: chardet<4,>=3.0.2 in /usr/local/lib/python3.7/dist-packages (from requests->gdown) (3.0.4)\n"
          ],
          "name": "stdout"
        }
      ]
    },
    {
      "cell_type": "code",
      "metadata": {
        "colab": {
          "base_uri": "https://localhost:8080/"
        },
        "id": "swCxwulHtlYW",
        "outputId": "6b12e4eb-18b1-43c3-f5e6-cb8a0e4f4e56"
      },
      "source": [
        "!gdown --id 1WNqV8300sC_q7jl11Tu3Ed3qlHvTIm5P --output data.zip"
      ],
      "execution_count": null,
      "outputs": [
        {
          "output_type": "stream",
          "text": [
            "Downloading...\n",
            "From: https://drive.google.com/uc?id=1WNqV8300sC_q7jl11Tu3Ed3qlHvTIm5P\n",
            "To: /content/data.zip\n",
            "\r  0% 0.00/97.2k [00:00<?, ?B/s]\r100% 97.2k/97.2k [00:00<00:00, 36.0MB/s]\n"
          ],
          "name": "stdout"
        }
      ]
    },
    {
      "cell_type": "code",
      "metadata": {
        "id": "UcNsuqyJt0Mk"
      },
      "source": [
        "import zipfile\n",
        "with zipfile.ZipFile('data.zip', 'r') as existing_zip:\n",
        "    existing_zip.extractall('data')"
      ],
      "execution_count": null,
      "outputs": []
    },
    {
      "cell_type": "markdown",
      "metadata": {
        "id": "hSEzJMpDy7c9"
      },
      "source": [
        "# **-필요 모듈 설치 및 Import**"
      ]
    },
    {
      "cell_type": "code",
      "metadata": {
        "id": "nlUlKe5yacL1",
        "colab": {
          "base_uri": "https://localhost:8080/"
        },
        "outputId": "5fc26473-f3f6-470f-9911-92069b44ba18"
      },
      "source": [
        "!pip install catboost\n",
        "!pip install pycaret\n",
        "from tqdm.notebook import tqdm\n",
        "import pandas as pd\n",
        "import numpy as np\n",
        "import datetime as dt\n",
        "from pycaret.regression import *"
      ],
      "execution_count": null,
      "outputs": [
        {
          "output_type": "stream",
          "text": [
            "Collecting catboost\n",
            "\u001b[?25l  Downloading https://files.pythonhosted.org/packages/5a/41/24e14322b9986cf72a8763e0a0a69cc256cf963cf9502c8f0044a62c1ae8/catboost-0.26-cp37-none-manylinux1_x86_64.whl (69.2MB)\n",
            "\u001b[K     |████████████████████████████████| 69.2MB 46kB/s \n",
            "\u001b[?25hRequirement already satisfied: pandas>=0.24.0 in /usr/local/lib/python3.7/dist-packages (from catboost) (1.1.5)\n",
            "Requirement already satisfied: scipy in /usr/local/lib/python3.7/dist-packages (from catboost) (1.4.1)\n",
            "Requirement already satisfied: matplotlib in /usr/local/lib/python3.7/dist-packages (from catboost) (3.2.2)\n",
            "Requirement already satisfied: numpy>=1.16.0 in /usr/local/lib/python3.7/dist-packages (from catboost) (1.19.5)\n",
            "Requirement already satisfied: graphviz in /usr/local/lib/python3.7/dist-packages (from catboost) (0.10.1)\n",
            "Requirement already satisfied: plotly in /usr/local/lib/python3.7/dist-packages (from catboost) (4.4.1)\n",
            "Requirement already satisfied: six in /usr/local/lib/python3.7/dist-packages (from catboost) (1.15.0)\n",
            "Requirement already satisfied: python-dateutil>=2.7.3 in /usr/local/lib/python3.7/dist-packages (from pandas>=0.24.0->catboost) (2.8.1)\n",
            "Requirement already satisfied: pytz>=2017.2 in /usr/local/lib/python3.7/dist-packages (from pandas>=0.24.0->catboost) (2018.9)\n",
            "Requirement already satisfied: pyparsing!=2.0.4,!=2.1.2,!=2.1.6,>=2.0.1 in /usr/local/lib/python3.7/dist-packages (from matplotlib->catboost) (2.4.7)\n",
            "Requirement already satisfied: cycler>=0.10 in /usr/local/lib/python3.7/dist-packages (from matplotlib->catboost) (0.10.0)\n",
            "Requirement already satisfied: kiwisolver>=1.0.1 in /usr/local/lib/python3.7/dist-packages (from matplotlib->catboost) (1.3.1)\n",
            "Requirement already satisfied: retrying>=1.3.3 in /usr/local/lib/python3.7/dist-packages (from plotly->catboost) (1.3.3)\n",
            "Installing collected packages: catboost\n",
            "Successfully installed catboost-0.26\n",
            "Collecting pycaret\n",
            "\u001b[?25l  Downloading https://files.pythonhosted.org/packages/da/99/18f151991b0f06107af9723417c64e304ae2133587f85ea734a90136b4ae/pycaret-2.3.1-py3-none-any.whl (261kB)\n",
            "\u001b[K     |████████████████████████████████| 266kB 4.1MB/s \n",
            "\u001b[?25hRequirement already satisfied: joblib in /usr/local/lib/python3.7/dist-packages (from pycaret) (1.0.1)\n",
            "Collecting Boruta\n",
            "\u001b[?25l  Downloading https://files.pythonhosted.org/packages/b2/11/583f4eac99d802c79af9217e1eff56027742a69e6c866b295cce6a5a8fc2/Boruta-0.3-py3-none-any.whl (56kB)\n",
            "\u001b[K     |████████████████████████████████| 61kB 7.4MB/s \n",
            "\u001b[?25hRequirement already satisfied: cufflinks>=0.17.0 in /usr/local/lib/python3.7/dist-packages (from pycaret) (0.17.3)\n",
            "Collecting scikit-learn==0.23.2\n",
            "\u001b[?25l  Downloading https://files.pythonhosted.org/packages/f4/cb/64623369f348e9bfb29ff898a57ac7c91ed4921f228e9726546614d63ccb/scikit_learn-0.23.2-cp37-cp37m-manylinux1_x86_64.whl (6.8MB)\n",
            "\u001b[K     |████████████████████████████████| 6.8MB 18.0MB/s \n",
            "\u001b[?25hCollecting umap-learn\n",
            "\u001b[?25l  Downloading https://files.pythonhosted.org/packages/75/69/85e7f950bb75792ad5d666d86c5f3e62eedbb942848e7e3126513af9999c/umap-learn-0.5.1.tar.gz (80kB)\n",
            "\u001b[K     |████████████████████████████████| 81kB 9.1MB/s \n",
            "\u001b[?25hCollecting pyLDAvis\n",
            "\u001b[?25l  Downloading https://files.pythonhosted.org/packages/03/a5/15a0da6b0150b8b68610cc78af80364a80a9a4c8b6dd5ee549b8989d4b60/pyLDAvis-3.3.1.tar.gz (1.7MB)\n",
            "\u001b[K     |████████████████████████████████| 1.7MB 37.9MB/s \n",
            "\u001b[?25h  Installing build dependencies ... \u001b[?25l\u001b[?25hdone\n",
            "  Getting requirements to build wheel ... \u001b[?25l\u001b[?25hdone\n",
            "  Installing backend dependencies ... \u001b[?25l\u001b[?25hdone\n",
            "    Preparing wheel metadata ... \u001b[?25l\u001b[?25hdone\n",
            "Requirement already satisfied: seaborn in /usr/local/lib/python3.7/dist-packages (from pycaret) (0.11.1)\n",
            "Requirement already satisfied: plotly>=4.4.1 in /usr/local/lib/python3.7/dist-packages (from pycaret) (4.4.1)\n",
            "Collecting mlflow\n",
            "\u001b[?25l  Downloading https://files.pythonhosted.org/packages/f3/c9/190a45e667b63edb76112deefa70629c2d9985603a85cb1968015fe0f327/mlflow-1.18.0-py3-none-any.whl (14.2MB)\n",
            "\u001b[K     |████████████████████████████████| 14.2MB 214kB/s \n",
            "\u001b[?25hRequirement already satisfied: ipywidgets in /usr/local/lib/python3.7/dist-packages (from pycaret) (7.6.3)\n",
            "Requirement already satisfied: gensim<4.0.0 in /usr/local/lib/python3.7/dist-packages (from pycaret) (3.6.0)\n",
            "Requirement already satisfied: spacy<2.4.0 in /usr/local/lib/python3.7/dist-packages (from pycaret) (2.2.4)\n",
            "Requirement already satisfied: matplotlib in /usr/local/lib/python3.7/dist-packages (from pycaret) (3.2.2)\n",
            "Requirement already satisfied: textblob in /usr/local/lib/python3.7/dist-packages (from pycaret) (0.15.3)\n",
            "Requirement already satisfied: nltk in /usr/local/lib/python3.7/dist-packages (from pycaret) (3.2.5)\n",
            "Requirement already satisfied: numpy==1.19.5 in /usr/local/lib/python3.7/dist-packages (from pycaret) (1.19.5)\n",
            "Requirement already satisfied: scipy<=1.5.4 in /usr/local/lib/python3.7/dist-packages (from pycaret) (1.4.1)\n",
            "Collecting lightgbm>=2.3.1\n",
            "\u001b[?25l  Downloading https://files.pythonhosted.org/packages/18/b2/fff8370f48549ce223f929fe8cab4ee6bf285a41f86037d91312b48ed95b/lightgbm-3.2.1-py3-none-manylinux1_x86_64.whl (2.0MB)\n",
            "\u001b[K     |████████████████████████████████| 2.0MB 32.7MB/s \n",
            "\u001b[?25hCollecting mlxtend>=0.17.0\n",
            "\u001b[?25l  Downloading https://files.pythonhosted.org/packages/86/30/781c0b962a70848db83339567ecab656638c62f05adb064cb33c0ae49244/mlxtend-0.18.0-py2.py3-none-any.whl (1.3MB)\n",
            "\u001b[K     |████████████████████████████████| 1.4MB 37.4MB/s \n",
            "\u001b[?25hRequirement already satisfied: IPython in /usr/local/lib/python3.7/dist-packages (from pycaret) (5.5.0)\n",
            "Collecting pandas-profiling>=2.8.0\n",
            "\u001b[?25l  Downloading https://files.pythonhosted.org/packages/3b/a3/34519d16e5ebe69bad30c5526deea2c3912634ced7f9b5e6e0bb9dbbd567/pandas_profiling-3.0.0-py2.py3-none-any.whl (248kB)\n",
            "\u001b[K     |████████████████████████████████| 256kB 49.1MB/s \n",
            "\u001b[?25hCollecting scikit-plot\n",
            "  Downloading https://files.pythonhosted.org/packages/7c/47/32520e259340c140a4ad27c1b97050dd3254fdc517b1d59974d47037510e/scikit_plot-0.3.7-py3-none-any.whl\n",
            "Collecting yellowbrick>=1.0.1\n",
            "\u001b[?25l  Downloading https://files.pythonhosted.org/packages/3a/15/58feb940b6a2f52d3335cccf9e5d00704ec5ba62782da83f7e2abeca5e4b/yellowbrick-1.3.post1-py3-none-any.whl (271kB)\n",
            "\u001b[K     |████████████████████████████████| 276kB 35.3MB/s \n",
            "\u001b[?25hCollecting kmodes>=0.10.1\n",
            "  Downloading https://files.pythonhosted.org/packages/9b/34/fffc601aa4d44b94e945a7cc72f477e09dffa7dce888898f2ffd9f4e343e/kmodes-0.11.0-py2.py3-none-any.whl\n",
            "Collecting pyod\n",
            "\u001b[?25l  Downloading https://files.pythonhosted.org/packages/81/dd/1cef53031ad8926df628e78d7cc9d57bb2aee62bc2f66215b2bef4deae64/pyod-0.8.9.tar.gz (104kB)\n",
            "\u001b[K     |████████████████████████████████| 112kB 56.4MB/s \n",
            "\u001b[?25hCollecting imbalanced-learn==0.7.0\n",
            "\u001b[?25l  Downloading https://files.pythonhosted.org/packages/c8/81/8db4d87b03b998fda7c6f835d807c9ae4e3b141f978597b8d7f31600be15/imbalanced_learn-0.7.0-py3-none-any.whl (167kB)\n",
            "\u001b[K     |████████████████████████████████| 174kB 27.9MB/s \n",
            "\u001b[?25hRequirement already satisfied: wordcloud in /usr/local/lib/python3.7/dist-packages (from pycaret) (1.5.0)\n",
            "Requirement already satisfied: pandas in /usr/local/lib/python3.7/dist-packages (from pycaret) (1.1.5)\n",
            "Requirement already satisfied: setuptools>=34.4.1 in /usr/local/lib/python3.7/dist-packages (from cufflinks>=0.17.0->pycaret) (57.0.0)\n",
            "Requirement already satisfied: colorlover>=0.2.1 in /usr/local/lib/python3.7/dist-packages (from cufflinks>=0.17.0->pycaret) (0.3.0)\n",
            "Requirement already satisfied: six>=1.9.0 in /usr/local/lib/python3.7/dist-packages (from cufflinks>=0.17.0->pycaret) (1.15.0)\n",
            "Collecting threadpoolctl>=2.0.0\n",
            "  Downloading https://files.pythonhosted.org/packages/f7/12/ec3f2e203afa394a149911729357aa48affc59c20e2c1c8297a60f33f133/threadpoolctl-2.1.0-py3-none-any.whl\n",
            "Requirement already satisfied: numba>=0.49 in /usr/local/lib/python3.7/dist-packages (from umap-learn->pycaret) (0.51.2)\n",
            "Collecting pynndescent>=0.5\n",
            "\u001b[?25l  Downloading https://files.pythonhosted.org/packages/af/65/8189298dd3a05bbad716ee8e249764ff8800e365d8dc652ad2192ca01b4a/pynndescent-0.5.2.tar.gz (1.1MB)\n",
            "\u001b[K     |████████████████████████████████| 1.2MB 37.0MB/s \n",
            "\u001b[?25hCollecting funcy\n",
            "  Downloading https://files.pythonhosted.org/packages/44/52/5cf7401456a461e4b481650dfb8279bc000f31a011d0918904f86e755947/funcy-1.16-py2.py3-none-any.whl\n",
            "Requirement already satisfied: numexpr in /usr/local/lib/python3.7/dist-packages (from pyLDAvis->pycaret) (2.7.3)\n",
            "Requirement already satisfied: sklearn in /usr/local/lib/python3.7/dist-packages (from pyLDAvis->pycaret) (0.0)\n",
            "Requirement already satisfied: jinja2 in /usr/local/lib/python3.7/dist-packages (from pyLDAvis->pycaret) (2.11.3)\n",
            "Requirement already satisfied: future in /usr/local/lib/python3.7/dist-packages (from pyLDAvis->pycaret) (0.16.0)\n",
            "Requirement already satisfied: retrying>=1.3.3 in /usr/local/lib/python3.7/dist-packages (from plotly>=4.4.1->pycaret) (1.3.3)\n",
            "Requirement already satisfied: sqlparse>=0.3.1 in /usr/local/lib/python3.7/dist-packages (from mlflow->pycaret) (0.4.1)\n",
            "Collecting databricks-cli>=0.8.7\n",
            "\u001b[?25l  Downloading https://files.pythonhosted.org/packages/bc/af/631375abc29e59cedfa4467a5f7755503ba19898890751e1f2636ef02f92/databricks-cli-0.14.3.tar.gz (54kB)\n",
            "\u001b[K     |████████████████████████████████| 61kB 7.5MB/s \n",
            "\u001b[?25hRequirement already satisfied: pytz in /usr/local/lib/python3.7/dist-packages (from mlflow->pycaret) (2018.9)\n",
            "Collecting pyyaml>=5.1\n",
            "\u001b[?25l  Downloading https://files.pythonhosted.org/packages/7a/a5/393c087efdc78091afa2af9f1378762f9821c9c1d7a22c5753fb5ac5f97a/PyYAML-5.4.1-cp37-cp37m-manylinux1_x86_64.whl (636kB)\n",
            "\u001b[K     |████████████████████████████████| 645kB 35.2MB/s \n",
            "\u001b[?25hRequirement already satisfied: cloudpickle in /usr/local/lib/python3.7/dist-packages (from mlflow->pycaret) (1.3.0)\n",
            "Requirement already satisfied: click>=7.0 in /usr/local/lib/python3.7/dist-packages (from mlflow->pycaret) (7.1.2)\n",
            "Collecting docker>=4.0.0\n",
            "\u001b[?25l  Downloading https://files.pythonhosted.org/packages/b2/5a/f988909dfed18c1ac42ad8d9e611e6c5657e270aa6eb68559985dbb69c13/docker-5.0.0-py2.py3-none-any.whl (146kB)\n",
            "\u001b[K     |████████████████████████████████| 153kB 45.4MB/s \n",
            "\u001b[?25hRequirement already satisfied: entrypoints in /usr/local/lib/python3.7/dist-packages (from mlflow->pycaret) (0.3)\n",
            "Requirement already satisfied: requests>=2.17.3 in /usr/local/lib/python3.7/dist-packages (from mlflow->pycaret) (2.23.0)\n",
            "Requirement already satisfied: packaging in /usr/local/lib/python3.7/dist-packages (from mlflow->pycaret) (20.9)\n",
            "Collecting gitpython>=2.1.0\n",
            "\u001b[?25l  Downloading https://files.pythonhosted.org/packages/bc/91/b38c4fabb6e5092ab23492ded4f318ab7299b19263272b703478038c0fbc/GitPython-3.1.18-py3-none-any.whl (170kB)\n",
            "\u001b[K     |████████████████████████████████| 174kB 43.2MB/s \n",
            "\u001b[?25hCollecting alembic<=1.4.1\n",
            "\u001b[?25l  Downloading https://files.pythonhosted.org/packages/e0/e9/359dbb77c35c419df0aedeb1d53e71e7e3f438ff64a8fdb048c907404de3/alembic-1.4.1.tar.gz (1.1MB)\n",
            "\u001b[K     |████████████████████████████████| 1.1MB 36.9MB/s \n",
            "\u001b[?25hRequirement already satisfied: Flask in /usr/local/lib/python3.7/dist-packages (from mlflow->pycaret) (1.1.4)\n",
            "Collecting gunicorn; platform_system != \"Windows\"\n",
            "\u001b[?25l  Downloading https://files.pythonhosted.org/packages/e4/dd/5b190393e6066286773a67dfcc2f9492058e9b57c4867a95f1ba5caf0a83/gunicorn-20.1.0-py3-none-any.whl (79kB)\n",
            "\u001b[K     |████████████████████████████████| 81kB 9.0MB/s \n",
            "\u001b[?25hRequirement already satisfied: sqlalchemy in /usr/local/lib/python3.7/dist-packages (from mlflow->pycaret) (1.4.18)\n",
            "Collecting querystring-parser\n",
            "  Downloading https://files.pythonhosted.org/packages/88/6b/572b2590fd55114118bf08bde63c0a421dcc82d593700f3e2ad89908a8a9/querystring_parser-1.2.4-py2.py3-none-any.whl\n",
            "Requirement already satisfied: protobuf>=3.7.0 in /usr/local/lib/python3.7/dist-packages (from mlflow->pycaret) (3.12.4)\n",
            "Collecting prometheus-flask-exporter\n",
            "  Downloading https://files.pythonhosted.org/packages/f3/c1/2cc385fadf18dc75fe24c18899269eda4dcc60221d61eff7da4a6cc5c01d/prometheus_flask_exporter-0.18.2.tar.gz\n",
            "Requirement already satisfied: ipykernel>=4.5.1 in /usr/local/lib/python3.7/dist-packages (from ipywidgets->pycaret) (4.10.1)\n",
            "Requirement already satisfied: widgetsnbextension~=3.5.0 in /usr/local/lib/python3.7/dist-packages (from ipywidgets->pycaret) (3.5.1)\n",
            "Requirement already satisfied: nbformat>=4.2.0 in /usr/local/lib/python3.7/dist-packages (from ipywidgets->pycaret) (5.1.3)\n",
            "Requirement already satisfied: jupyterlab-widgets>=1.0.0; python_version >= \"3.6\" in /usr/local/lib/python3.7/dist-packages (from ipywidgets->pycaret) (1.0.0)\n",
            "Requirement already satisfied: traitlets>=4.3.1 in /usr/local/lib/python3.7/dist-packages (from ipywidgets->pycaret) (5.0.5)\n",
            "Requirement already satisfied: smart-open>=1.2.1 in /usr/local/lib/python3.7/dist-packages (from gensim<4.0.0->pycaret) (5.1.0)\n",
            "Requirement already satisfied: thinc==7.4.0 in /usr/local/lib/python3.7/dist-packages (from spacy<2.4.0->pycaret) (7.4.0)\n",
            "Requirement already satisfied: murmurhash<1.1.0,>=0.28.0 in /usr/local/lib/python3.7/dist-packages (from spacy<2.4.0->pycaret) (1.0.5)\n",
            "Requirement already satisfied: cymem<2.1.0,>=2.0.2 in /usr/local/lib/python3.7/dist-packages (from spacy<2.4.0->pycaret) (2.0.5)\n",
            "Requirement already satisfied: srsly<1.1.0,>=1.0.2 in /usr/local/lib/python3.7/dist-packages (from spacy<2.4.0->pycaret) (1.0.5)\n",
            "Requirement already satisfied: wasabi<1.1.0,>=0.4.0 in /usr/local/lib/python3.7/dist-packages (from spacy<2.4.0->pycaret) (0.8.2)\n",
            "Requirement already satisfied: preshed<3.1.0,>=3.0.2 in /usr/local/lib/python3.7/dist-packages (from spacy<2.4.0->pycaret) (3.0.5)\n",
            "Requirement already satisfied: catalogue<1.1.0,>=0.0.7 in /usr/local/lib/python3.7/dist-packages (from spacy<2.4.0->pycaret) (1.0.0)\n",
            "Requirement already satisfied: blis<0.5.0,>=0.4.0 in /usr/local/lib/python3.7/dist-packages (from spacy<2.4.0->pycaret) (0.4.1)\n",
            "Requirement already satisfied: tqdm<5.0.0,>=4.38.0 in /usr/local/lib/python3.7/dist-packages (from spacy<2.4.0->pycaret) (4.41.1)\n",
            "Requirement already satisfied: plac<1.2.0,>=0.9.6 in /usr/local/lib/python3.7/dist-packages (from spacy<2.4.0->pycaret) (1.1.3)\n",
            "Requirement already satisfied: pyparsing!=2.0.4,!=2.1.2,!=2.1.6,>=2.0.1 in /usr/local/lib/python3.7/dist-packages (from matplotlib->pycaret) (2.4.7)\n",
            "Requirement already satisfied: python-dateutil>=2.1 in /usr/local/lib/python3.7/dist-packages (from matplotlib->pycaret) (2.8.1)\n",
            "Requirement already satisfied: kiwisolver>=1.0.1 in /usr/local/lib/python3.7/dist-packages (from matplotlib->pycaret) (1.3.1)\n",
            "Requirement already satisfied: cycler>=0.10 in /usr/local/lib/python3.7/dist-packages (from matplotlib->pycaret) (0.10.0)\n",
            "Requirement already satisfied: wheel in /usr/local/lib/python3.7/dist-packages (from lightgbm>=2.3.1->pycaret) (0.36.2)\n",
            "Requirement already satisfied: simplegeneric>0.8 in /usr/local/lib/python3.7/dist-packages (from IPython->pycaret) (0.8.1)\n",
            "Requirement already satisfied: pickleshare in /usr/local/lib/python3.7/dist-packages (from IPython->pycaret) (0.7.5)\n",
            "Requirement already satisfied: pygments in /usr/local/lib/python3.7/dist-packages (from IPython->pycaret) (2.6.1)\n",
            "Requirement already satisfied: pexpect; sys_platform != \"win32\" in /usr/local/lib/python3.7/dist-packages (from IPython->pycaret) (4.8.0)\n",
            "Requirement already satisfied: prompt-toolkit<2.0.0,>=1.0.4 in /usr/local/lib/python3.7/dist-packages (from IPython->pycaret) (1.0.18)\n",
            "Requirement already satisfied: decorator in /usr/local/lib/python3.7/dist-packages (from IPython->pycaret) (4.4.2)\n",
            "Collecting visions[type_image_path]==0.7.1\n",
            "\u001b[?25l  Downloading https://files.pythonhosted.org/packages/80/96/01e4ba22cef96ae5035dbcf0451c2f4f859f8f17393b98406b23f0034279/visions-0.7.1-py3-none-any.whl (102kB)\n",
            "\u001b[K     |████████████████████████████████| 112kB 41.3MB/s \n",
            "\u001b[?25hRequirement already satisfied: missingno>=0.4.2 in /usr/local/lib/python3.7/dist-packages (from pandas-profiling>=2.8.0->pycaret) (0.4.2)\n",
            "Collecting htmlmin>=0.1.12\n",
            "  Downloading https://files.pythonhosted.org/packages/b3/e7/fcd59e12169de19f0131ff2812077f964c6b960e7c09804d30a7bf2ab461/htmlmin-0.1.12.tar.gz\n",
            "Collecting phik>=0.11.1\n",
            "\u001b[?25l  Downloading https://files.pythonhosted.org/packages/b7/ce/193e8ddf62d4be643b9b4b20e8e9c63b2f6a20f92778c0410c629f89bdaa/phik-0.11.2.tar.gz (1.1MB)\n",
            "\u001b[K     |████████████████████████████████| 1.1MB 32.9MB/s \n",
            "\u001b[?25hCollecting tangled-up-in-unicode==0.1.0\n",
            "\u001b[?25l  Downloading https://files.pythonhosted.org/packages/93/3e/cb354fb2097fcf2fd5b5a342b10ae2a6e9363ba435b64e3e00c414064bc7/tangled_up_in_unicode-0.1.0-py3-none-any.whl (3.1MB)\n",
            "\u001b[K     |████████████████████████████████| 3.1MB 31.9MB/s \n",
            "\u001b[?25hCollecting pydantic>=1.8.1\n",
            "\u001b[?25l  Downloading https://files.pythonhosted.org/packages/9f/f2/2d5425efe57f6c4e06cbe5e587c1fd16929dcf0eb90bd4d3d1e1c97d1151/pydantic-1.8.2-cp37-cp37m-manylinux2014_x86_64.whl (10.1MB)\n",
            "\u001b[K     |████████████████████████████████| 10.1MB 25.9MB/s \n",
            "\u001b[?25hRequirement already satisfied: statsmodels in /usr/local/lib/python3.7/dist-packages (from pyod->pycaret) (0.10.2)\n",
            "Requirement already satisfied: pillow in /usr/local/lib/python3.7/dist-packages (from wordcloud->pycaret) (7.1.2)\n",
            "Requirement already satisfied: llvmlite<0.35,>=0.34.0.dev0 in /usr/local/lib/python3.7/dist-packages (from numba>=0.49->umap-learn->pycaret) (0.34.0)\n",
            "Requirement already satisfied: MarkupSafe>=0.23 in /usr/local/lib/python3.7/dist-packages (from jinja2->pyLDAvis->pycaret) (2.0.1)\n",
            "Requirement already satisfied: tabulate>=0.7.7 in /usr/local/lib/python3.7/dist-packages (from databricks-cli>=0.8.7->mlflow->pycaret) (0.8.9)\n",
            "Collecting websocket-client>=0.32.0\n",
            "\u001b[?25l  Downloading https://files.pythonhosted.org/packages/ca/5f/3c211d168b2e9f9342cfb53bcfc26aab0eac63b998015e7af7bcae66119d/websocket_client-1.1.0-py2.py3-none-any.whl (68kB)\n",
            "\u001b[K     |████████████████████████████████| 71kB 8.6MB/s \n",
            "\u001b[?25hRequirement already satisfied: urllib3!=1.25.0,!=1.25.1,<1.26,>=1.21.1 in /usr/local/lib/python3.7/dist-packages (from requests>=2.17.3->mlflow->pycaret) (1.24.3)\n",
            "Requirement already satisfied: idna<3,>=2.5 in /usr/local/lib/python3.7/dist-packages (from requests>=2.17.3->mlflow->pycaret) (2.10)\n",
            "Requirement already satisfied: chardet<4,>=3.0.2 in /usr/local/lib/python3.7/dist-packages (from requests>=2.17.3->mlflow->pycaret) (3.0.4)\n",
            "Requirement already satisfied: certifi>=2017.4.17 in /usr/local/lib/python3.7/dist-packages (from requests>=2.17.3->mlflow->pycaret) (2021.5.30)\n",
            "Requirement already satisfied: typing-extensions>=3.7.4.0; python_version < \"3.8\" in /usr/local/lib/python3.7/dist-packages (from gitpython>=2.1.0->mlflow->pycaret) (3.7.4.3)\n",
            "Collecting gitdb<5,>=4.0.1\n",
            "\u001b[?25l  Downloading https://files.pythonhosted.org/packages/ea/e8/f414d1a4f0bbc668ed441f74f44c116d9816833a48bf81d22b697090dba8/gitdb-4.0.7-py3-none-any.whl (63kB)\n",
            "\u001b[K     |████████████████████████████████| 71kB 7.9MB/s \n",
            "\u001b[?25hCollecting Mako\n",
            "\u001b[?25l  Downloading https://files.pythonhosted.org/packages/f3/54/dbc07fbb20865d3b78fdb7cf7fa713e2cba4f87f71100074ef2dc9f9d1f7/Mako-1.1.4-py2.py3-none-any.whl (75kB)\n",
            "\u001b[K     |████████████████████████████████| 81kB 9.3MB/s \n",
            "\u001b[?25hCollecting python-editor>=0.3\n",
            "  Downloading https://files.pythonhosted.org/packages/c6/d3/201fc3abe391bbae6606e6f1d598c15d367033332bd54352b12f35513717/python_editor-1.0.4-py3-none-any.whl\n",
            "Requirement already satisfied: itsdangerous<2.0,>=0.24 in /usr/local/lib/python3.7/dist-packages (from Flask->mlflow->pycaret) (1.1.0)\n",
            "Requirement already satisfied: Werkzeug<2.0,>=0.15 in /usr/local/lib/python3.7/dist-packages (from Flask->mlflow->pycaret) (1.0.1)\n",
            "Requirement already satisfied: greenlet!=0.4.17; python_version >= \"3\" in /usr/local/lib/python3.7/dist-packages (from sqlalchemy->mlflow->pycaret) (1.1.0)\n",
            "Requirement already satisfied: importlib-metadata; python_version < \"3.8\" in /usr/local/lib/python3.7/dist-packages (from sqlalchemy->mlflow->pycaret) (4.5.0)\n",
            "Requirement already satisfied: prometheus_client in /usr/local/lib/python3.7/dist-packages (from prometheus-flask-exporter->mlflow->pycaret) (0.11.0)\n",
            "Requirement already satisfied: tornado>=4.0 in /usr/local/lib/python3.7/dist-packages (from ipykernel>=4.5.1->ipywidgets->pycaret) (5.1.1)\n",
            "Requirement already satisfied: jupyter-client in /usr/local/lib/python3.7/dist-packages (from ipykernel>=4.5.1->ipywidgets->pycaret) (5.3.5)\n",
            "Requirement already satisfied: notebook>=4.4.1 in /usr/local/lib/python3.7/dist-packages (from widgetsnbextension~=3.5.0->ipywidgets->pycaret) (5.3.1)\n",
            "Requirement already satisfied: ipython-genutils in /usr/local/lib/python3.7/dist-packages (from nbformat>=4.2.0->ipywidgets->pycaret) (0.2.0)\n",
            "Requirement already satisfied: jsonschema!=2.5.0,>=2.4 in /usr/local/lib/python3.7/dist-packages (from nbformat>=4.2.0->ipywidgets->pycaret) (2.6.0)\n",
            "Requirement already satisfied: jupyter-core in /usr/local/lib/python3.7/dist-packages (from nbformat>=4.2.0->ipywidgets->pycaret) (4.7.1)\n",
            "Requirement already satisfied: ptyprocess>=0.5 in /usr/local/lib/python3.7/dist-packages (from pexpect; sys_platform != \"win32\"->IPython->pycaret) (0.7.0)\n",
            "Requirement already satisfied: wcwidth in /usr/local/lib/python3.7/dist-packages (from prompt-toolkit<2.0.0,>=1.0.4->IPython->pycaret) (0.2.5)\n",
            "Collecting multimethod==1.4\n",
            "  Downloading https://files.pythonhosted.org/packages/7a/d0/ce5ad0392aa12645b7ad91a5983d6b625b704b021d9cd48c587630c1a9ac/multimethod-1.4-py2.py3-none-any.whl\n",
            "Requirement already satisfied: attrs>=19.3.0 in /usr/local/lib/python3.7/dist-packages (from visions[type_image_path]==0.7.1->pandas-profiling>=2.8.0->pycaret) (21.2.0)\n",
            "Requirement already satisfied: networkx>=2.4 in /usr/local/lib/python3.7/dist-packages (from visions[type_image_path]==0.7.1->pandas-profiling>=2.8.0->pycaret) (2.5.1)\n",
            "Requirement already satisfied: bottleneck in /usr/local/lib/python3.7/dist-packages (from visions[type_image_path]==0.7.1->pandas-profiling>=2.8.0->pycaret) (1.3.2)\n",
            "Collecting imagehash; extra == \"type_image_path\"\n",
            "\u001b[?25l  Downloading https://files.pythonhosted.org/packages/8e/18/9dbb772b5ef73a3069c66bb5bf29b9fb4dd57af0d5790c781c3f559bcca6/ImageHash-4.2.0-py2.py3-none-any.whl (295kB)\n",
            "\u001b[K     |████████████████████████████████| 296kB 44.4MB/s \n",
            "\u001b[?25hRequirement already satisfied: patsy>=0.4.0 in /usr/local/lib/python3.7/dist-packages (from statsmodels->pyod->pycaret) (0.5.1)\n",
            "Collecting smmap<5,>=3.0.1\n",
            "  Downloading https://files.pythonhosted.org/packages/68/ee/d540eb5e5996eb81c26ceffac6ee49041d473bc5125f2aa995cf51ec1cf1/smmap-4.0.0-py2.py3-none-any.whl\n",
            "Requirement already satisfied: zipp>=0.5 in /usr/local/lib/python3.7/dist-packages (from importlib-metadata; python_version < \"3.8\"->sqlalchemy->mlflow->pycaret) (3.4.1)\n",
            "Requirement already satisfied: pyzmq>=13 in /usr/local/lib/python3.7/dist-packages (from jupyter-client->ipykernel>=4.5.1->ipywidgets->pycaret) (22.1.0)\n",
            "Requirement already satisfied: terminado>=0.8.1 in /usr/local/lib/python3.7/dist-packages (from notebook>=4.4.1->widgetsnbextension~=3.5.0->ipywidgets->pycaret) (0.10.1)\n",
            "Requirement already satisfied: Send2Trash in /usr/local/lib/python3.7/dist-packages (from notebook>=4.4.1->widgetsnbextension~=3.5.0->ipywidgets->pycaret) (1.5.0)\n",
            "Requirement already satisfied: nbconvert in /usr/local/lib/python3.7/dist-packages (from notebook>=4.4.1->widgetsnbextension~=3.5.0->ipywidgets->pycaret) (5.6.1)\n",
            "Requirement already satisfied: PyWavelets in /usr/local/lib/python3.7/dist-packages (from imagehash; extra == \"type_image_path\"->visions[type_image_path]==0.7.1->pandas-profiling>=2.8.0->pycaret) (1.1.1)\n",
            "Requirement already satisfied: defusedxml in /usr/local/lib/python3.7/dist-packages (from nbconvert->notebook>=4.4.1->widgetsnbextension~=3.5.0->ipywidgets->pycaret) (0.7.1)\n",
            "Requirement already satisfied: testpath in /usr/local/lib/python3.7/dist-packages (from nbconvert->notebook>=4.4.1->widgetsnbextension~=3.5.0->ipywidgets->pycaret) (0.5.0)\n",
            "Requirement already satisfied: bleach in /usr/local/lib/python3.7/dist-packages (from nbconvert->notebook>=4.4.1->widgetsnbextension~=3.5.0->ipywidgets->pycaret) (3.3.0)\n",
            "Requirement already satisfied: pandocfilters>=1.4.1 in /usr/local/lib/python3.7/dist-packages (from nbconvert->notebook>=4.4.1->widgetsnbextension~=3.5.0->ipywidgets->pycaret) (1.4.3)\n",
            "Requirement already satisfied: mistune<2,>=0.8.1 in /usr/local/lib/python3.7/dist-packages (from nbconvert->notebook>=4.4.1->widgetsnbextension~=3.5.0->ipywidgets->pycaret) (0.8.4)\n",
            "Requirement already satisfied: webencodings in /usr/local/lib/python3.7/dist-packages (from bleach->nbconvert->notebook>=4.4.1->widgetsnbextension~=3.5.0->ipywidgets->pycaret) (0.5.1)\n",
            "Building wheels for collected packages: pyLDAvis\n",
            "  Building wheel for pyLDAvis (PEP 517) ... \u001b[?25l\u001b[?25hdone\n",
            "  Created wheel for pyLDAvis: filename=pyLDAvis-3.3.1-cp37-none-any.whl size=136897 sha256=8d842ec449702e6b0f0f6a9478ab60847d50e934bfc6bfc1eaed5263001f5c01\n",
            "  Stored in directory: /root/.cache/pip/wheels/a0/9c/fc/c6e00689d35c82cf96a8adc70edfe7ba7904374fdac3240ac2\n",
            "Successfully built pyLDAvis\n",
            "Building wheels for collected packages: umap-learn, pyod, pynndescent, databricks-cli, alembic, prometheus-flask-exporter, htmlmin, phik\n",
            "  Building wheel for umap-learn (setup.py) ... \u001b[?25l\u001b[?25hdone\n",
            "  Created wheel for umap-learn: filename=umap_learn-0.5.1-cp37-none-any.whl size=76569 sha256=afc6272ffcc2f2a64374a8c776c1b589553995b4ee9837ac764fefc31469dd0e\n",
            "  Stored in directory: /root/.cache/pip/wheels/ad/df/d5/a3691296ff779f25cd1cf415a3af954b987fb53111e3392cf4\n",
            "  Building wheel for pyod (setup.py) ... \u001b[?25l\u001b[?25hdone\n",
            "  Created wheel for pyod: filename=pyod-0.8.9-cp37-none-any.whl size=121413 sha256=3c3e112153fd91a9aa343a36a8cae38039a4de2c29bcb19b021c5d5235411d78\n",
            "  Stored in directory: /root/.cache/pip/wheels/9b/31/18/f12932b880f1ce4c181cbe51454ddaaa02665ad7cfc663f639\n",
            "  Building wheel for pynndescent (setup.py) ... \u001b[?25l\u001b[?25hdone\n",
            "  Created wheel for pynndescent: filename=pynndescent-0.5.2-cp37-none-any.whl size=51362 sha256=2e3ac67dda8378123091c68aa6cb06f153666bd010a86cf7d3798218721a6d52\n",
            "  Stored in directory: /root/.cache/pip/wheels/ba/52/4e/4c28d04d144a28f89e2575fb63628df6e6d49b56c5ddd0c74e\n",
            "  Building wheel for databricks-cli (setup.py) ... \u001b[?25l\u001b[?25hdone\n",
            "  Created wheel for databricks-cli: filename=databricks_cli-0.14.3-cp37-none-any.whl size=100560 sha256=e1d17bc6dd0c11c2bfbc6b50a410bcb0b783263f2f4125a2e39a499b6f374248\n",
            "  Stored in directory: /root/.cache/pip/wheels/5b/24/f3/34d8e3964dac4ba849d844273c49a679111b00d5799ebb934a\n",
            "  Building wheel for alembic (setup.py) ... \u001b[?25l\u001b[?25hdone\n",
            "  Created wheel for alembic: filename=alembic-1.4.1-py2.py3-none-any.whl size=158170 sha256=98eed2b29a64d713ad8129e6fc764ccf30ae630614a4479f2a7212c6da819eaa\n",
            "  Stored in directory: /root/.cache/pip/wheels/84/07/f7/12f7370ca47a66030c2edeedcc23dec26ea0ac22dcb4c4a0f3\n",
            "  Building wheel for prometheus-flask-exporter (setup.py) ... \u001b[?25l\u001b[?25hdone\n",
            "  Created wheel for prometheus-flask-exporter: filename=prometheus_flask_exporter-0.18.2-cp37-none-any.whl size=17415 sha256=346ef3c29db6f59f459df3e3b7207f23a8e9d3b8b0b36d9790322f36a7ace7ba\n",
            "  Stored in directory: /root/.cache/pip/wheels/c0/e2/9c/4f3ee23964802940f81a8b476d0b9be6fb6348cb12df2e2226\n",
            "  Building wheel for htmlmin (setup.py) ... \u001b[?25l\u001b[?25hdone\n",
            "  Created wheel for htmlmin: filename=htmlmin-0.1.12-cp37-none-any.whl size=27099 sha256=09d4cf02604651fa61c262b181b5a6270bf6bb0f64f1fb4d0e372dc73b8407b5\n",
            "  Stored in directory: /root/.cache/pip/wheels/43/07/ac/7c5a9d708d65247ac1f94066cf1db075540b85716c30255459\n",
            "  Building wheel for phik (setup.py) ... \u001b[?25l\u001b[?25hdone\n",
            "  Created wheel for phik: filename=phik-0.11.2-cp37-none-any.whl size=1107437 sha256=1d5fdd5f2d80efe8f229193b26ff6296a8918274a9b3f799b03c32fcaf2911d1\n",
            "  Stored in directory: /root/.cache/pip/wheels/c0/a3/b0/f27b1cfe32ea131a3715169132ff6d85653789e80e966c3bf6\n",
            "Successfully built umap-learn pyod pynndescent databricks-cli alembic prometheus-flask-exporter htmlmin phik\n",
            "\u001b[31mERROR: pandas-profiling 3.0.0 has requirement requests>=2.24.0, but you'll have requests 2.23.0 which is incompatible.\u001b[0m\n",
            "\u001b[31mERROR: pandas-profiling 3.0.0 has requirement tqdm>=4.48.2, but you'll have tqdm 4.41.1 which is incompatible.\u001b[0m\n",
            "\u001b[31mERROR: pyldavis 3.3.1 has requirement numpy>=1.20.0, but you'll have numpy 1.19.5 which is incompatible.\u001b[0m\n",
            "\u001b[31mERROR: pyldavis 3.3.1 has requirement pandas>=1.2.0, but you'll have pandas 1.1.5 which is incompatible.\u001b[0m\n",
            "\u001b[31mERROR: phik 0.11.2 has requirement scipy>=1.5.2, but you'll have scipy 1.4.1 which is incompatible.\u001b[0m\n",
            "Installing collected packages: threadpoolctl, scikit-learn, Boruta, pynndescent, umap-learn, funcy, pyLDAvis, databricks-cli, pyyaml, websocket-client, docker, smmap, gitdb, gitpython, Mako, python-editor, alembic, gunicorn, querystring-parser, prometheus-flask-exporter, mlflow, lightgbm, mlxtend, multimethod, tangled-up-in-unicode, imagehash, visions, htmlmin, phik, pydantic, pandas-profiling, scikit-plot, yellowbrick, kmodes, pyod, imbalanced-learn, pycaret\n",
            "  Found existing installation: scikit-learn 0.22.2.post1\n",
            "    Uninstalling scikit-learn-0.22.2.post1:\n",
            "      Successfully uninstalled scikit-learn-0.22.2.post1\n",
            "  Found existing installation: PyYAML 3.13\n",
            "    Uninstalling PyYAML-3.13:\n",
            "      Successfully uninstalled PyYAML-3.13\n",
            "  Found existing installation: lightgbm 2.2.3\n",
            "    Uninstalling lightgbm-2.2.3:\n",
            "      Successfully uninstalled lightgbm-2.2.3\n",
            "  Found existing installation: mlxtend 0.14.0\n",
            "    Uninstalling mlxtend-0.14.0:\n",
            "      Successfully uninstalled mlxtend-0.14.0\n",
            "  Found existing installation: pandas-profiling 1.4.1\n",
            "    Uninstalling pandas-profiling-1.4.1:\n",
            "      Successfully uninstalled pandas-profiling-1.4.1\n",
            "  Found existing installation: yellowbrick 0.9.1\n",
            "    Uninstalling yellowbrick-0.9.1:\n",
            "      Successfully uninstalled yellowbrick-0.9.1\n",
            "  Found existing installation: imbalanced-learn 0.4.3\n",
            "    Uninstalling imbalanced-learn-0.4.3:\n",
            "      Successfully uninstalled imbalanced-learn-0.4.3\n",
            "Successfully installed Boruta-0.3 Mako-1.1.4 alembic-1.4.1 databricks-cli-0.14.3 docker-5.0.0 funcy-1.16 gitdb-4.0.7 gitpython-3.1.18 gunicorn-20.1.0 htmlmin-0.1.12 imagehash-4.2.0 imbalanced-learn-0.7.0 kmodes-0.11.0 lightgbm-3.2.1 mlflow-1.18.0 mlxtend-0.18.0 multimethod-1.4 pandas-profiling-3.0.0 phik-0.11.2 prometheus-flask-exporter-0.18.2 pyLDAvis-3.3.1 pycaret-2.3.1 pydantic-1.8.2 pynndescent-0.5.2 pyod-0.8.9 python-editor-1.0.4 pyyaml-5.4.1 querystring-parser-1.2.4 scikit-learn-0.23.2 scikit-plot-0.3.7 smmap-4.0.0 tangled-up-in-unicode-0.1.0 threadpoolctl-2.1.0 umap-learn-0.5.1 visions-0.7.1 websocket-client-1.1.0 yellowbrick-1.3.post1\n"
          ],
          "name": "stdout"
        }
      ]
    },
    {
      "cell_type": "markdown",
      "metadata": {
        "id": "iZl0g4NtxCuM"
      },
      "source": [
        "# **-데이터 로드 및 피쳐 생성**"
      ]
    },
    {
      "cell_type": "code",
      "metadata": {
        "id": "le95ZzxcamND",
        "colab": {
          "base_uri": "https://localhost:8080/"
        },
        "outputId": "fae3c18f-8969-49db-e57a-820652e0e960"
      },
      "source": [
        "train = pd.read_csv('data/train.csv')\n",
        "test = pd.read_csv('data/test.csv')\n",
        "\n",
        "train[['현본사소속재택근무자수', '중식계', '석식계']] = train[['현본사소속재택근무자수', '중식계', '석식계']].astype('int')\n",
        "test['현본사소속재택근무자수'] = test['현본사소속재택근무자수'].astype('int')\n",
        "\n",
        "train['일자'] = pd.to_datetime(train['일자'])\n",
        "test['일자'] = pd.to_datetime(test['일자'])\n",
        "\n",
        "train['년'] = train['일자'].dt.year\n",
        "train['월'] = train['일자'].dt.month\n",
        "train['일'] = train['일자'].dt.day\n",
        "train['주'] = train['일자'].dt.week\n",
        "train['요일'] = train['일자'].dt.weekday\n",
        "train['출근'] = train['본사정원수']-(train['본사휴가자수']+train['본사출장자수']+train['현본사소속재택근무자수'])\n",
        "train['휴가비율'] = train['본사휴가자수']/train['본사정원수']\n",
        "train['출장비율'] = train['본사출장자수']/train['본사정원수']\n",
        "train['야근비율'] = train['본사시간외근무명령서승인건수']/train['출근']\n",
        "train['재택비율'] = train['현본사소속재택근무자수']/train['본사정원수']\n",
        "\n",
        "test['년'] = test['일자'].dt.year\n",
        "test['월'] = test['일자'].dt.month\n",
        "test['일'] = test['일자'].dt.day\n",
        "test['주'] = test['일자'].dt.week\n",
        "test['요일'] = test['일자'].dt.weekday\n",
        "test['출근'] = test['본사정원수']-(test['본사휴가자수']+test['본사출장자수']+test['현본사소속재택근무자수'])\n",
        "test['휴가비율'] = test['본사휴가자수']/test['본사정원수']\n",
        "test['출장비율'] = test['본사출장자수']/test['본사정원수']\n",
        "test['야근비율'] = test['본사시간외근무명령서승인건수']/test['출근']\n",
        "test['재택비율'] = test['현본사소속재택근무자수']/test['본사정원수']\n",
        "\n",
        "print('done')"
      ],
      "execution_count": null,
      "outputs": [
        {
          "output_type": "stream",
          "text": [
            "done\n"
          ],
          "name": "stdout"
        }
      ]
    },
    {
      "cell_type": "markdown",
      "metadata": {
        "id": "B89efMIJxf3P"
      },
      "source": [
        "# **-변수 간 관계 시각화**"
      ]
    },
    {
      "cell_type": "markdown",
      "metadata": {
        "id": "d7ds1u3Y0-PV"
      },
      "source": [
        "### **일-석식계 간 관계**"
      ]
    },
    {
      "cell_type": "code",
      "metadata": {
        "colab": {
          "base_uri": "https://localhost:8080/",
          "height": 405
        },
        "id": "T87AFWzk6vgN",
        "outputId": "77709719-b3f7-4408-b513-05db14e3c422"
      },
      "source": [
        "import matplotlib.pyplot as plt\n",
        "import seaborn as sns\n",
        "\n",
        "plt.figure(figsize=(12,6))\n",
        "sns.boxplot(train['일'], train['석식계'])"
      ],
      "execution_count": null,
      "outputs": [
        {
          "output_type": "execute_result",
          "data": {
            "text/plain": [
              "<matplotlib.axes._subplots.AxesSubplot at 0x7f471210c5d0>"
            ]
          },
          "metadata": {
            "tags": []
          },
          "execution_count": 48
        },
        {
          "output_type": "display_data",
          "data": {
            "image/png": "[encoded data removed]",
            "text/plain": [
              "<Figure size 864x432 with 1 Axes>"
            ]
          },
          "metadata": {
            "tags": [],
            "needs_background": "light"
          }
        }
      ]
    },
    {
      "cell_type": "markdown",
      "metadata": {
        "id": "Ptywp4Ef1EdU"
      },
      "source": [
        "## **주-석식계 간 관계**"
      ]
    },
    {
      "cell_type": "code",
      "metadata": {
        "colab": {
          "base_uri": "https://localhost:8080/",
          "height": 405
        },
        "id": "aRUTmlOlxoMd",
        "outputId": "b7c48f64-1186-40b0-aa06-4056cb797aac"
      },
      "source": [
        "plt.figure(figsize=(20,6))\n",
        "sns.boxplot(train['주'], train['석식계'])"
      ],
      "execution_count": null,
      "outputs": [
        {
          "output_type": "execute_result",
          "data": {
            "text/plain": [
              "<matplotlib.axes._subplots.AxesSubplot at 0x7f46fcb8bb90>"
            ]
          },
          "metadata": {
            "tags": []
          },
          "execution_count": 49
        },
        {
          "output_type": "display_data",
          "data": {
            "image/png": "[encoded data removed]",
            "text/plain": [
              "<Figure size 1440x432 with 1 Axes>"
            ]
          },
          "metadata": {
            "tags": [],
            "needs_background": "light"
          }
        }
      ]
    },
    {
      "cell_type": "markdown",
      "metadata": {
        "id": "VinfQfdz1H71"
      },
      "source": [
        "## **월-석식계 간 관계**"
      ]
    },
    {
      "cell_type": "code",
      "metadata": {
        "colab": {
          "base_uri": "https://localhost:8080/",
          "height": 405
        },
        "id": "iPLVMrtExvMt",
        "outputId": "133978ab-401d-41d5-d4fd-50b9ef42069a"
      },
      "source": [
        "plt.figure(figsize=(12,6))\n",
        "sns.boxplot(train['월'], train['석식계'])"
      ],
      "execution_count": null,
      "outputs": [
        {
          "output_type": "execute_result",
          "data": {
            "text/plain": [
              "<matplotlib.axes._subplots.AxesSubplot at 0x7f46fb642c90>"
            ]
          },
          "metadata": {
            "tags": []
          },
          "execution_count": 50
        },
        {
          "output_type": "display_data",
          "data": {
            "image/png": "[encoded data removed]",
            "text/plain": [
              "<Figure size 864x432 with 1 Axes>"
            ]
          },
          "metadata": {
            "tags": [],
            "needs_background": "light"
          }
        }
      ]
    },
    {
      "cell_type": "markdown",
      "metadata": {
        "id": "_Jwypweh1JdV"
      },
      "source": [
        "## **년도-석식계 간 관계**"
      ]
    },
    {
      "cell_type": "code",
      "metadata": {
        "colab": {
          "base_uri": "https://localhost:8080/",
          "height": 405
        },
        "id": "GqVgaVo2xxZF",
        "outputId": "d03cac9e-e9f5-4290-f25b-81b5a2c95ca6"
      },
      "source": [
        "plt.figure(figsize=(12,6))\n",
        "sns.boxplot(train['년'], train['석식계'])"
      ],
      "execution_count": null,
      "outputs": [
        {
          "output_type": "execute_result",
          "data": {
            "text/plain": [
              "<matplotlib.axes._subplots.AxesSubplot at 0x7f46fb467bd0>"
            ]
          },
          "metadata": {
            "tags": []
          },
          "execution_count": 51
        },
        {
          "output_type": "display_data",
          "data": {
            "image/png": "[encoded data removed]",
            "text/plain": [
              "<Figure size 864x432 with 1 Axes>"
            ]
          },
          "metadata": {
            "tags": [],
            "needs_background": "light"
          }
        }
      ]
    },
    {
      "cell_type": "markdown",
      "metadata": {
        "id": "Qpxh2xNfK6Xa"
      },
      "source": [
        "## **야근인원수-석식계 간 관계**"
      ]
    },
    {
      "cell_type": "code",
      "metadata": {
        "colab": {
          "base_uri": "https://localhost:8080/",
          "height": 418
        },
        "id": "Ii_WfeXzK6Iv",
        "outputId": "b3226746-0ddf-4bba-c390-6c546b471e95"
      },
      "source": [
        "plt.figure(figsize=(12,6))\n",
        "sns.relplot(train['석식계'], train['본사시간외근무명령서승인건수'])"
      ],
      "execution_count": null,
      "outputs": [
        {
          "output_type": "execute_result",
          "data": {
            "text/plain": [
              "<seaborn.axisgrid.FacetGrid at 0x7f471215f250>"
            ]
          },
          "metadata": {
            "tags": []
          },
          "execution_count": 52
        },
        {
          "output_type": "display_data",
          "data": {
            "text/plain": [
              "<Figure size 864x432 with 0 Axes>"
            ]
          },
          "metadata": {
            "tags": []
          }
        },
        {
          "output_type": "display_data",
          "data": {
            "image/png": "[encoded data removed]",
            "text/plain": [
              "<Figure size 360x360 with 1 Axes>"
            ]
          },
          "metadata": {
            "tags": [],
            "needs_background": "light"
          }
        }
      ]
    },
    {
      "cell_type": "markdown",
      "metadata": {
        "id": "g4QXJ_r_vfjj"
      },
      "source": [
        "# **-NLP**\n",
        "\n",
        "* **원핫인코딩으로 메뉴 분류하면 좋은 듯**\n",
        "\n",
        "-------------------------------------------------------------\n",
        "\n",
        "* **2021.06.12 기준**\n",
        "* **메뉴의 종류를 원-핫 인코딩으로 분류시켜서 학습시키니 성능 상승**\n",
        "* **'주' 및 '월' 데이터를 추가해서 연초 연말 월초 월말 알아서 학습 유도**"
      ]
    },
    {
      "cell_type": "markdown",
      "metadata": {
        "id": "STpbZdtCygzl"
      },
      "source": [
        "##**메뉴 임베딩**"
      ]
    },
    {
      "cell_type": "code",
      "metadata": {
        "id": "vdI7YqLzR17g"
      },
      "source": [
        "def get_food_embedding(x):\n",
        "    x_ = []\n",
        "    x = x.split(' ')\n",
        "    for i in x:\n",
        "        if '(' in i and ':' in i and ')' in i:\n",
        "            continue\n",
        "        if '/' in i:\n",
        "            x_.extend(i.split('/'))\n",
        "        else:\n",
        "            x_.append(i)\n",
        "    x_ = list(set(x_))\n",
        "    x_.remove('')\n",
        "    return x_\n",
        "\n",
        "train['중식메뉴_split'] = train['중식메뉴'].apply(lambda x: get_food_embedding(x))\n",
        "train['석식메뉴_split'] = train['석식메뉴'].apply(lambda x: get_food_embedding(x))"
      ],
      "execution_count": null,
      "outputs": []
    },
    {
      "cell_type": "code",
      "metadata": {
        "id": "g1mClCSXuXRR"
      },
      "source": [
        "test['중식메뉴_split'] = test['중식메뉴'].apply(lambda x: get_food_embedding(x))\n",
        "test['석식메뉴_split'] = test['석식메뉴'].apply(lambda x: get_food_embedding(x))"
      ],
      "execution_count": null,
      "outputs": []
    },
    {
      "cell_type": "code",
      "metadata": {
        "id": "qln_sNOBed2l",
        "colab": {
          "base_uri": "https://localhost:8080/"
        },
        "outputId": "490ed196-8293-424d-9ce1-5c493a85b9c2"
      },
      "source": [
        "train['중식메뉴_split'][0]"
      ],
      "execution_count": null,
      "outputs": [
        {
          "output_type": "execute_result",
          "data": {
            "text/plain": [
              "['포기김치', '쌀밥', '계란찜', '쇠불고기', '요구르트', '잡곡밥', '청포묵무침', '오징어찌개']"
            ]
          },
          "metadata": {
            "tags": []
          },
          "execution_count": 55
        }
      ]
    },
    {
      "cell_type": "code",
      "metadata": {
        "id": "G_R0e7_flqDj",
        "colab": {
          "base_uri": "https://localhost:8080/",
          "height": 84,
          "referenced_widgets": [
            "988a5dd0ec3a4009a9ed40e0185c55c7",
            "8398aef4f27f4406b8163c910ab5d663",
            "3763ec4a37744f128534e78a6e982f3a",
            "67578889efe5498182f42396d5e9eb7e",
            "fdd773db480641be891fc25373e3369b",
            "202005d9379248289878e351df219193",
            "13930044781c44ef92c38e4a905bb6b0",
            "ce852dcfe7344e67b5425b954ddcef5a"
          ]
        },
        "outputId": "24395078-4ccf-4c39-aa79-172d16f98e20"
      },
      "source": [
        "lunch_lst = []\n",
        "lunch_count = []\n",
        "pref = 0\n",
        "for i in tqdm(range(1205)):\n",
        "  try:\n",
        "    if train['중식계'][i] >= 880:\n",
        "      pref = 1\n",
        "    else:\n",
        "      pref = 0\n",
        "\n",
        "    lunch_lst.append(train['중식메뉴_split'][i])\n",
        "    lunch_count.append(pref)\n",
        "  except:\n",
        "    pass\n",
        "# for i in range(len(lunch_lst)):\n",
        "  # lunch_lst[i] = lunch_lst[i].replace(',', ' ')\n",
        "print('done')"
      ],
      "execution_count": null,
      "outputs": [
        {
          "output_type": "display_data",
          "data": {
            "application/vnd.jupyter.widget-view+json": {
              "model_id": "988a5dd0ec3a4009a9ed40e0185c55c7",
              "version_minor": 0,
              "version_major": 2
            },
            "text/plain": [
              "HBox(children=(FloatProgress(value=0.0, max=1205.0), HTML(value='')))"
            ]
          },
          "metadata": {
            "tags": []
          }
        },
        {
          "output_type": "stream",
          "text": [
            "\n",
            "done\n"
          ],
          "name": "stdout"
        }
      ]
    },
    {
      "cell_type": "code",
      "metadata": {
        "id": "I_MTb5OQewtB",
        "colab": {
          "base_uri": "https://localhost:8080/",
          "height": 84,
          "referenced_widgets": [
            "bf8fd0113d09496ba256c754bef00f9a",
            "7e743fd71ba94cebae708f746c4884d2",
            "6905831023ef497fb25680be97379814",
            "a1fdd997e434468889f234d7c23ad4ed",
            "ce6ccc4a91dd44c8a41093561d97e087",
            "ceedaa266651485490fb8d6adaca7603",
            "c991272f8b1d4da0b9ab35f4dee6b717",
            "5800555b84064c4184801788cbc33781"
          ]
        },
        "outputId": "a6d48aa4-c2e7-4dc0-f0b8-50cca5e70169"
      },
      "source": [
        "dinner_lst = []\n",
        "dinner_count = []\n",
        "pref_d = 0\n",
        "for i in tqdm(range(1205)):\n",
        "  try:\n",
        "    if train['석식계'][i] > 476:\n",
        "      pref_d = 1\n",
        "    else:\n",
        "      pref_d = 0\n",
        "\n",
        "    dinner_lst.append(train['석식메뉴_split'][i])\n",
        "    dinner_count.append(pref_d)\n",
        "  except:\n",
        "    pass\n",
        "# for i in range(len(dinner_lst)):\n",
        "#   dinner_lst[i] = dinner_lst[i].replace(',', ' ')\n",
        "print('done')"
      ],
      "execution_count": null,
      "outputs": [
        {
          "output_type": "display_data",
          "data": {
            "application/vnd.jupyter.widget-view+json": {
              "model_id": "bf8fd0113d09496ba256c754bef00f9a",
              "version_minor": 0,
              "version_major": 2
            },
            "text/plain": [
              "HBox(children=(FloatProgress(value=0.0, max=1205.0), HTML(value='')))"
            ]
          },
          "metadata": {
            "tags": []
          }
        },
        {
          "output_type": "stream",
          "text": [
            "\n",
            "done\n"
          ],
          "name": "stdout"
        }
      ]
    },
    {
      "cell_type": "code",
      "metadata": {
        "id": "th7PGIgmvxzz",
        "colab": {
          "base_uri": "https://localhost:8080/",
          "height": 84,
          "referenced_widgets": [
            "c15837b308414de0ae73a71445e4aa8a",
            "3e0f6655b17c43dab689c18d8049c545",
            "0795d497082d4f61aca2d11576954994",
            "ad4267bca68b4565880e0cdc4ca5ade3",
            "cd5e72c0710c4b63a6dd8014ffdbd0ea",
            "c5e247f387624d43b7610e9c2128085e",
            "367c1eb66cc14235af163ac7484661d3",
            "c465ff5040d948c4a75c3dacfd4c3dec"
          ]
        },
        "outputId": "f05c331d-8429-4f39-d551-a9f529a4f4b7"
      },
      "source": [
        "lunch_lst_test = []\n",
        "lunch_count_test = []\n",
        "for i in tqdm(range(50)):\n",
        "  try:\n",
        "    lunch_lst_test.append(test['중식메뉴_split'][i])\n",
        "    lunch_count_test.append(0)\n",
        "  except:\n",
        "    pass\n",
        "# for i in range(len(lunch_lst_test)):\n",
        "#   lunch_lst_test[i] = lunch_lst_test[i].replace(',', ' ')\n",
        "print('done')"
      ],
      "execution_count": null,
      "outputs": [
        {
          "output_type": "display_data",
          "data": {
            "application/vnd.jupyter.widget-view+json": {
              "model_id": "c15837b308414de0ae73a71445e4aa8a",
              "version_minor": 0,
              "version_major": 2
            },
            "text/plain": [
              "HBox(children=(FloatProgress(value=0.0, max=50.0), HTML(value='')))"
            ]
          },
          "metadata": {
            "tags": []
          }
        },
        {
          "output_type": "stream",
          "text": [
            "\n",
            "done\n"
          ],
          "name": "stdout"
        }
      ]
    },
    {
      "cell_type": "code",
      "metadata": {
        "id": "L9Ag-Jlle_2A",
        "colab": {
          "base_uri": "https://localhost:8080/",
          "height": 84,
          "referenced_widgets": [
            "d2d67c329cb14febbeb3ad617c1a3509",
            "ef25b4bb98b74441b2355f51161b0245",
            "b29dc944ca124cd89fdccac02af4b6bc",
            "8de7550dc62e42a58230896020dcfb79",
            "cab0ee78f77c402188d1f37cc2ca28fc",
            "86b4d9156b1e4f40a82245bf0bd5b9d3",
            "3aefc91f78444db79cafdaf31fa4dfcd",
            "e665abef11a144bbaab6c506737a189b"
          ]
        },
        "outputId": "681d526b-5cc4-413d-cfe1-b4ef5e3b4a64"
      },
      "source": [
        "dinner_lst_test = []\n",
        "dinner_count_test = []\n",
        "for i in tqdm(range(50)):\n",
        "  try:\n",
        "    dinner_lst_test.append(test['석식메뉴_split'][i])\n",
        "    dinner_count_test.append(0)\n",
        "  except:\n",
        "    pass\n",
        "# for i in range(len(dinner_lst_test)):\n",
        "#   dinner_lst_test[i] = dinner_lst_test[i].replace(',', ' ')\n",
        "print('done')"
      ],
      "execution_count": null,
      "outputs": [
        {
          "output_type": "display_data",
          "data": {
            "application/vnd.jupyter.widget-view+json": {
              "model_id": "d2d67c329cb14febbeb3ad617c1a3509",
              "version_minor": 0,
              "version_major": 2
            },
            "text/plain": [
              "HBox(children=(FloatProgress(value=0.0, max=50.0), HTML(value='')))"
            ]
          },
          "metadata": {
            "tags": []
          }
        },
        {
          "output_type": "stream",
          "text": [
            "\n",
            "done\n"
          ],
          "name": "stdout"
        }
      ]
    },
    {
      "cell_type": "code",
      "metadata": {
        "id": "--KU3lShoL5e"
      },
      "source": [
        "lunch_df = pd.DataFrame({'중식메뉴':lunch_lst})\n",
        "dinner_df = pd.DataFrame({'석식메뉴':dinner_lst})\n",
        "lunch_df_t = pd.DataFrame({'중식메뉴':lunch_lst_test})\n",
        "dinner_df_t = pd.DataFrame({'석식메뉴':dinner_lst_test})"
      ],
      "execution_count": null,
      "outputs": []
    },
    {
      "cell_type": "markdown",
      "metadata": {
        "id": "tlS4R3ytXApP"
      },
      "source": [
        "## **모든 메뉴의 분류**"
      ]
    },
    {
      "cell_type": "code",
      "metadata": {
        "id": "1EXbfGG6yuU2"
      },
      "source": [
        "menu = pd.read_csv('/content/data/pinkcoding_data_menu.csv', encoding='cp949')"
      ],
      "execution_count": null,
      "outputs": []
    },
    {
      "cell_type": "code",
      "metadata": {
        "id": "VcV5KhpgS1WZ"
      },
      "source": [
        "food = list(menu['메뉴'])\n",
        "result_lunch = []\n",
        "result_dinner = []\n",
        "for k in range(len(lunch_df)):\n",
        "  trigger = np.zeros(34, dtype='int')\n",
        "  for i in range(len(lunch_df.iloc[k][0])):\n",
        "    if lunch_df.iloc[k][0][i] in food:\n",
        "      trigger += np.array(menu[menu['메뉴'] == lunch_df.iloc[k][0][i]].iloc[0][1:-1], dtype='int')\n",
        "  trigger = trigger / trigger.sum()\n",
        "  result_lunch.append(trigger)\n",
        "\n",
        "for k in range(len(dinner_df)):\n",
        "  trigger = np.zeros(34, dtype='int')\n",
        "  for i in range(len(dinner_df.iloc[k][0])):\n",
        "    if dinner_df.iloc[k][0][i] in food:\n",
        "      trigger += np.array(menu[menu['메뉴'] == dinner_df.iloc[k][0][i]].iloc[0][1:-1], dtype='int')\n",
        "  trigger = trigger / trigger.sum()\n",
        "  result_dinner.append(trigger)"
      ],
      "execution_count": null,
      "outputs": []
    },
    {
      "cell_type": "code",
      "metadata": {
        "id": "mW8Zz9fXiU0t"
      },
      "source": [
        "result_lunch_t = []\n",
        "result_dinner_t = []\n",
        "for k in range(len(lunch_df_t)):\n",
        "  trigger = np.zeros(34, dtype='int')\n",
        "  for i in range(len(lunch_df_t.iloc[k][0])):\n",
        "    if lunch_df_t.iloc[k][0][i] in food:\n",
        "      trigger += np.array(menu[menu['메뉴'] == lunch_df_t.iloc[k][0][i]].iloc[0][1:-1], dtype='int')\n",
        "  trigger = trigger / trigger.sum()\n",
        "  result_lunch_t.append(trigger)\n",
        "\n",
        "for k in range(len(dinner_df_t)):\n",
        "  trigger = np.zeros(34, dtype='int')\n",
        "  for i in range(len(dinner_df_t.iloc[k][0])):\n",
        "    if dinner_df_t.iloc[k][0][i] in food:\n",
        "      trigger += np.array(menu[menu['메뉴'] == dinner_df_t.iloc[k][0][i]].iloc[0][1:-1], dtype='int')\n",
        "  trigger = trigger / trigger.sum()\n",
        "  result_dinner_t.append(trigger)"
      ],
      "execution_count": null,
      "outputs": []
    },
    {
      "cell_type": "markdown",
      "metadata": {
        "id": "sjHWpakH06s_"
      },
      "source": [
        "## **메뉴 데이터 생성**"
      ]
    },
    {
      "cell_type": "code",
      "metadata": {
        "id": "WiLM9cFwYpC8"
      },
      "source": [
        "column = list(menu.columns[1:-1])\n",
        "lunch_sort = pd.DataFrame(result_lunch ,columns=column)\n",
        "dinner_sort = pd.DataFrame(result_dinner, columns = column)\n",
        "lunch_sort_t = pd.DataFrame(result_lunch_t, columns=column)\n",
        "dinner_sort_t = pd.DataFrame(result_dinner_t, columns = column)"
      ],
      "execution_count": null,
      "outputs": []
    },
    {
      "cell_type": "markdown",
      "metadata": {
        "id": "F2NW6D_WHbhC"
      },
      "source": [
        "# **-Feature Engineering**"
      ]
    },
    {
      "cell_type": "markdown",
      "metadata": {
        "id": "cgEXYO1yzWVe"
      },
      "source": [
        "##**문화의 날**\n",
        "\n",
        "\n",
        "*   매달 마지막 주 수요일 문화의 날 지정\n",
        "*   석식 0명인 Feature 발견\n",
        "*   ----------------------------\n",
        "*   따로 지정하지 않아도 일, 주 데이터로 학습이 됨!!\n",
        "\n",
        "\n"
      ]
    },
    {
      "cell_type": "code",
      "metadata": {
        "id": "EMB5TNdyPyk8"
      },
      "source": [
        "# train = train[train['석식계'] != 0]"
      ],
      "execution_count": null,
      "outputs": []
    },
    {
      "cell_type": "code",
      "metadata": {
        "id": "4Sc6AXmdGyUT"
      },
      "source": [
        "# train['문화의날'] = 0\n",
        "# test['문화의날'] = 0"
      ],
      "execution_count": null,
      "outputs": []
    },
    {
      "cell_type": "code",
      "metadata": {
        "id": "JEnV4VhcttCR"
      },
      "source": [
        "# a = train[(train['일'] > 25)  & (train['요일'] == 2)].index\n",
        "# a = list(a)"
      ],
      "execution_count": null,
      "outputs": []
    },
    {
      "cell_type": "code",
      "metadata": {
        "id": "VaHWKhMTI-a1"
      },
      "source": [
        "# b = test[(test['일'] > 25) & (test['요일'] == 2)].index"
      ],
      "execution_count": null,
      "outputs": []
    },
    {
      "cell_type": "code",
      "metadata": {
        "id": "GFziroQhKmFZ"
      },
      "source": [
        "# b = list(b)"
      ],
      "execution_count": null,
      "outputs": []
    },
    {
      "cell_type": "code",
      "metadata": {
        "id": "VxeKcfz5IflU"
      },
      "source": [
        "# train['문화의날'][a] = 1"
      ],
      "execution_count": null,
      "outputs": []
    },
    {
      "cell_type": "code",
      "metadata": {
        "id": "Xt48qrSlKdr6"
      },
      "source": [
        "# test['문화의날'][b] = 1"
      ],
      "execution_count": null,
      "outputs": []
    },
    {
      "cell_type": "markdown",
      "metadata": {
        "id": "ThSFAVV5D59J"
      },
      "source": [
        "## **강수량 및 기온 Feature Generating**\n",
        "\n",
        "*   외부 데이터(기상청) 사용\n",
        "*   기온 및 강수량에 따라 중식계 영향을 미칠 것으로 예상\n",
        "*   본거지가 진주가 아닌 사원들이 많아 기숙사 생활 인원이 많음\n",
        "*   따라서 강수량 및 기온은 크게 영향 미치지 않을 것으로 추정\n"
      ]
    },
    {
      "cell_type": "code",
      "metadata": {
        "id": "6GKv9xViu5e3"
      },
      "source": [
        "rain_2016 = pd.read_csv('/content/drive/MyDrive/2016강수량.csv')\n",
        "rain_2017 = pd.read_csv('/content/drive/MyDrive/2017강수량.csv')\n",
        "rain_2018 = pd.read_csv('/content/drive/MyDrive/충무공동_강수_201801_201812.csv')\n",
        "rain_2019 = pd.read_csv('/content/drive/MyDrive/충무공동_강수_201901_201912.csv')\n",
        "rain_2020 = pd.read_csv('/content/drive/MyDrive/충무공동_강수_202001_202012.csv')\n",
        "rain_2021 = pd.read_csv('/content/drive/MyDrive/충무공동_강수_202001_202012.csv')\n",
        "\n",
        "tem_2016 = pd.read_csv('/content/drive/MyDrive/충무공동_기온_201602_201612.csv')\n",
        "tem_2017 = pd.read_csv('/content/drive/MyDrive/충무공동_기온_201701_201712.csv')\n",
        "tem_2018 = pd.read_csv('/content/drive/MyDrive/충무공동_기온_201801_201812.csv')\n",
        "tem_2019 = pd.read_csv('/content/drive/MyDrive/충무공동_기온_201901_201912.csv')\n",
        "tem_2020 = pd.read_csv('/content/drive/MyDrive/충무공동_기온_202001_202012.csv')\n",
        "tem_2021 = pd.read_csv('/content/drive/MyDrive/충무공동_기온_202101_202101.csv')"
      ],
      "execution_count": null,
      "outputs": []
    },
    {
      "cell_type": "code",
      "metadata": {
        "id": "wCP7eJNJvCi4"
      },
      "source": [
        "def rain_chart_maker(df, n):\n",
        "  key = {}\n",
        "  lst_rain = []\n",
        "  c = df[(df['hour'] == 1100) & (df[df.columns[2]] > 5)]\n",
        "  for i in range(len(c.index)):\n",
        "    month_r = str(int((c.index[i]//24)/30) + 2)\n",
        "    try:\n",
        "      day_r = df[' format: day'][c.index[i]].lstrip()\n",
        "    except:\n",
        "      pass\n",
        "    year = str(n)\n",
        "    try:\n",
        "      if (int((c.index[i]//24)/30) + 2) < 10 and (int(df[' format: day'][c.index[i]]) < 10):\n",
        "        key[pd.to_datetime(year + '-0' + month_r +'-0'+day_r)] = df[df.columns[2]][c.index[i]]\n",
        "        lst_rain.append(pd.to_datetime(year + '-0' + month_r +'-0'+day_r))\n",
        "        # key.append({year + '-0' + month_r +'-0'+day_r : df[df.columns[2]][c.index[i]]})\n",
        "      if (int((c.index[i]//24)/30) + 2) >= 10 and (int(df[' format: day'][c.index[i]]) < 10):\n",
        "        key[pd.to_datetime(year + '-' + month_r +'-0'+day_r)] = df[df.columns[2]][c.index[i]]\n",
        "        lst_rain.append(pd.to_datetime(year + '-' + month_r +'-0'+day_r))\n",
        "        # key.append({year + '-' + month_r +'-0'+day_r :  df[df.columns[2]][c.index[i]]})\n",
        "      if (int((c.index[i]//24)/30) + 2) < 10 and (int(df[' format: day'][c.index[i]]) >= 10):\n",
        "        key[pd.to_datetime(year + '-0' + month_r +'-'+day_r)] = df[df.columns[2]][c.index[i]]\n",
        "        lst_rain.append(pd.to_datetime(year + '-0' + month_r +'-'+day_r))\n",
        "        # key.append({year + '-0' + month_r +'-'+day_r : df[df.columns[2]][c.index[i]]})\n",
        "      if (int((c.index[i]//24)/30) + 2) >= 10 and (int(df[' format: day'][c.index[i]]) >= 10):\n",
        "        lst_rain.append(pd.to_datetime(year + '-' + month_r +'-'+day_r))\n",
        "        key[pd.to_datetime(year + '-' + month_r +'-'+day_r)] = df[df.columns[2]][c.index[i]]\n",
        "        # key.append({year + '-' + month_r +'-'+day_r:df[df.columns[2]][c.index[i]]})\n",
        "    except:\n",
        "      pass\n",
        "  return key, lst_rain\n"
      ],
      "execution_count": null,
      "outputs": []
    },
    {
      "cell_type": "code",
      "metadata": {
        "id": "MiFHbltODEzw"
      },
      "source": [
        "key_2016, lst_2016 = rain_chart_maker(rain_2016, 2016)\n",
        "key_2017, lst_2017 = rain_chart_maker(rain_2017, 2017)\n",
        "key_2018, lst_2018 = rain_chart_maker(rain_2018, 2018)\n",
        "key_2019, lst_2019 = rain_chart_maker(rain_2019, 2019)\n",
        "key_2020, lst_2020 = rain_chart_maker(rain_2020, 2020)\n",
        "key_2021, lst_2021 = rain_chart_maker(rain_2021, 2021)\n",
        "\n",
        "key_t_2016, lst_t_2016 = rain_chart_maker(tem_2016, 2016)\n",
        "key_t_2017, lst_t_2017 = rain_chart_maker(tem_2017, 2016)\n",
        "key_t_2018, lst_t_2018 = rain_chart_maker(tem_2018, 2016)\n",
        "key_t_2019, lst_t_2019 = rain_chart_maker(tem_2019, 2016)\n",
        "key_t_2020, lst_t_2020 = rain_chart_maker(tem_2020, 2016)\n",
        "key_t_2021, lst_t_2021 = rain_chart_maker(tem_2021, 2016)"
      ],
      "execution_count": null,
      "outputs": []
    },
    {
      "cell_type": "code",
      "metadata": {
        "id": "uIqOfv5jTdPy"
      },
      "source": [
        "train['강수량'] = 0\n",
        "test['강수량'] = 0\n",
        "train['기온'] = 0\n",
        "test['기온'] = 0"
      ],
      "execution_count": null,
      "outputs": []
    },
    {
      "cell_type": "code",
      "metadata": {
        "id": "dIKDcKHlLeCn",
        "colab": {
          "base_uri": "https://localhost:8080/"
        },
        "outputId": "64775321-3b8e-4043-9149-61ca9efb1a80"
      },
      "source": [
        "for i in lst_t_2021:\n",
        "  for k in train['일자']:\n",
        "      if i == k:\n",
        "        train['기온'][train[train['일자']==k].index[0]] = key_t_2021[i]\n",
        "for i in lst_t_2020:\n",
        "  for k in train['일자']:\n",
        "      if i == k:\n",
        "        train['기온'][train[train['일자']==k].index[0]] = key_t_2020[i]\n",
        "for i in lst_t_2019:\n",
        "  for k in train['일자']:\n",
        "      if i == k:\n",
        "        train['기온'][train[train['일자']==k].index[0]] = key_t_2019[i]\n",
        "for i in lst_t_2018:\n",
        "  for k in train['일자']:\n",
        "      if i == k:\n",
        "        train['기온'][train[train['일자']==k].index[0]] = key_t_2018[i]\n",
        "for i in lst_t_2017:\n",
        "  for k in train['일자']:\n",
        "      if i == k:\n",
        "        train['기온'][train[train['일자']==k].index[0]] = key_t_2017[i]\n",
        "for i in lst_t_2016:\n",
        "  for k in train['일자']:\n",
        "      if i == k:\n",
        "        train['기온'][train[train['일자']==k].index[0]] = key_t_2016[i]\n",
        "for i in lst_t_2021:\n",
        "  for k in test['일자']:\n",
        "      if i == k:\n",
        "        test['기온'][test[test['일자']==k].index[0]] = key_t_2021[i]\n",
        "print('done')"
      ],
      "execution_count": null,
      "outputs": [
        {
          "output_type": "stream",
          "text": [
            "done\n"
          ],
          "name": "stdout"
        }
      ]
    },
    {
      "cell_type": "code",
      "metadata": {
        "id": "7QgUR2i3DCu4",
        "colab": {
          "base_uri": "https://localhost:8080/"
        },
        "outputId": "52acc26e-9263-4b3c-d4f5-66be88391a28"
      },
      "source": [
        "for i in lst_2021:\n",
        "  for k in train['일자']:\n",
        "      if i == k:\n",
        "        train['강수량'][train[train['일자']==k].index[0]] = key_2021[i]\n",
        "for i in lst_2020:\n",
        "  for k in train['일자']:\n",
        "      if i == k:\n",
        "        train['강수량'][train[train['일자']==k].index[0]] = key_2020[i]\n",
        "for i in lst_2019:\n",
        "  for k in train['일자']:\n",
        "      if i == k:\n",
        "        train['강수량'][train[train['일자']==k].index[0]] = key_2019[i]\n",
        "for i in lst_2018:\n",
        "  for k in train['일자']:\n",
        "      if i == k:\n",
        "        train['강수량'][train[train['일자']==k].index[0]] = key_2018[i]\n",
        "for i in lst_2017:\n",
        "  for k in train['일자']:\n",
        "      if i == k:\n",
        "        train['강수량'][train[train['일자']==k].index[0]] = key_2017[i]\n",
        "for i in lst_2016:\n",
        "  for k in train['일자']:\n",
        "      if i == k:\n",
        "        train['강수량'][train[train['일자']==k].index[0]] = key_2016[i]\n",
        "for i in lst_2021:\n",
        "  for k in test['일자']:\n",
        "      if i == k:\n",
        "        test['강수량'][test[test['일자']==k].index[0]] = key_2021[i]\n",
        "print('done')"
      ],
      "execution_count": null,
      "outputs": [
        {
          "output_type": "stream",
          "text": [
            "done\n"
          ],
          "name": "stdout"
        }
      ]
    },
    {
      "cell_type": "markdown",
      "metadata": {
        "id": "Iv5Yh3olnNs5"
      },
      "source": [
        "## **공휴일 전후 데이터 추가**\n",
        "\n",
        "\n",
        "*   테스트 데이터에 설날 연휴, 어린이날 존재\n",
        "*   연휴 전날 1로 인코딩 나머지 0\n",
        "\n",
        "\n",
        "\n"
      ]
    },
    {
      "cell_type": "code",
      "metadata": {
        "id": "uW9MMAsTnNa9"
      },
      "source": [
        "train['공휴일전후'] = 0\n",
        "test['공휴일전후'] = 0"
      ],
      "execution_count": null,
      "outputs": []
    },
    {
      "cell_type": "markdown",
      "metadata": {
        "id": "Tt_afmXXtYD1"
      },
      "source": [
        "공휴일 지정 노가다...."
      ]
    },
    {
      "cell_type": "code",
      "metadata": {
        "id": "gHz3A6XutXTv"
      },
      "source": [
        "train['공휴일전후'][17] = 1\n",
        "train['공휴일전후'][3] = 1\n",
        "train['공휴일전후'][62] = 1\n",
        "# train['공휴일전후'][67] = 1\n",
        "# train['공휴일전후'][82] = 1\n",
        "train['공휴일전후'][131] = 1\n",
        "# train['공휴일전후'][130] = 1\n",
        "train['공휴일전후'][152] = 1\n",
        "train['공휴일전후'][226] = 1\n",
        "train['공휴일전후'][221] = 1\n",
        "train['공휴일전후'][224] = 1\n",
        "# train['공휴일전후'][244] = 1\n",
        "train['공휴일전후'][245] = 1\n",
        "# train['공휴일전후'][267] = 1\n",
        "train['공휴일전후'][310] = 2\n",
        "train['공휴일전후'][311] = 1\n",
        "train['공휴일전후'][309] = 1\n",
        "train['공휴일전후'][330] = 1\n",
        "train['공휴일전후'][379] = 1\n",
        "train['공휴일전후'][467] = 1\n",
        "# train['공휴일전후'][469] = 1\n",
        "train['공휴일전후'][470] = 1\n",
        "train['공휴일전후'][502] = 2\n",
        "# train['공휴일전후'][501] = 1\n",
        "# train['공휴일전후'][511] = 1\n",
        "train['공휴일전후'][565] = 1\n",
        "train['공휴일전후'][623] = 1\n",
        "train['공휴일전후'][651] = 1\n",
        "# train['공휴일전후'][650] = 1\n",
        "train['공휴일전후'][705] = 1\n",
        "# train['공휴일전후'][707] = 1\n",
        "train['공휴일전후'][709] = 1\n",
        "# train['공휴일전후'][733] = 1\n",
        "# train['공휴일전후'][748] = 1\n",
        "# train['공휴일전후'][792] = 1\n",
        "train['공휴일전후'][815] = 1\n",
        "train['공휴일전후'][864] = 1\n",
        "# train['공휴일전후'][863] = 1\n",
        "train['공휴일전후'][950] = 1\n",
        "train['공휴일전후'][951] = 1\n",
        "train['공휴일전후'][953] = 1\n",
        "train['공휴일전후'][954] = 1\n",
        "train['공휴일전후'][955] = 1\n",
        "train['공휴일전후'][971] = 2\n",
        "# train['공휴일전후'][970] = 1\n",
        "# train['공휴일전후'][1037] = 1\n",
        "train['공휴일전후'][1038] = 1\n",
        "train['공휴일전후'][1099] = 1\n",
        "train['공휴일전후'][1129] = 1\n",
        "# train['공휴일전후'][1128] = 1\n",
        "train['공휴일전후'][1187] = 1\n",
        "# train['공휴일전후'][1186] = 1\n",
        "\n",
        "test['공휴일전후'][10] =2\n",
        "test['공휴일전후'][20] = 1"
      ],
      "execution_count": null,
      "outputs": []
    },
    {
      "cell_type": "markdown",
      "metadata": {
        "id": "rXANglvAhup2"
      },
      "source": [
        "**원핫인코딩**"
      ]
    },
    {
      "cell_type": "code",
      "metadata": {
        "id": "c4c8KbnXhud3"
      },
      "source": [
        "train = pd.get_dummies(train, columns=['공휴일전후'])\n",
        "test = pd.get_dummies(test, columns=['공휴일전후'])"
      ],
      "execution_count": null,
      "outputs": []
    },
    {
      "cell_type": "code",
      "metadata": {
        "id": "UVhypUvU9bNw"
      },
      "source": [
        "test['공휴일전후_0'][20] = 1\n",
        "test['공휴일전후_1'][20] = 0"
      ],
      "execution_count": null,
      "outputs": []
    },
    {
      "cell_type": "markdown",
      "metadata": {
        "id": "V3N4bvkM0PI-"
      },
      "source": [
        "# **-Train Data Set & Test Data Set**"
      ]
    },
    {
      "cell_type": "markdown",
      "metadata": {
        "id": "wYkIhWOm0dG-"
      },
      "source": [
        "## **데이터 지정**\n",
        "\n",
        "*   중식은 주52시간 탄련근무제에 영향 안받음\n",
        "*   석식은 591번째 데이터 이후 (2018.07.01) 이후 부터 정의\n",
        "*   메뉴 데이터 포함\n",
        "----------------------------------------------------------------\n",
        "*   탄력근무제 반영하지 않은 FULL 석식 데이터에서 더 높은 성능을 보임\n",
        "\n"
      ]
    },
    {
      "cell_type": "code",
      "metadata": {
        "id": "yajBqX3tqv14"
      },
      "source": [
        "# -----------------------------<Full DATA>-----------------------------------\n",
        "\n",
        "train_lunch = train[['요일','공휴일전후_0','휴가비율','출장비율','재택비율', '공휴일전후_2', '공휴일전후_1','출근', '본사출장자수','현본사소속재택근무자수', '본사휴가자수','일', '주', '월', '년', '중식계']]\n",
        "test_lunch = test[['요일','공휴일전후_0','휴가비율','출장비율','재택비율', '공휴일전후_2', '공휴일전후_1','출근', '본사출장자수','현본사소속재택근무자수', '본사휴가자수','일', '주', '월', '년']]\n",
        "\n",
        "train_dinner = train[['요일','공휴일전후_0','휴가비율','출장비율','재택비율', '공휴일전후_2', '공휴일전후_1','출근', '본사휴가자수','현본사소속재택근무자수', '본사시간외근무명령서승인건수','본사출장자수', '석식계','일', '주', '월', '년']]\n",
        "test_dinner = test[['요일','공휴일전후_0','휴가비율','출장비율','재택비율', '공휴일전후_2', '공휴일전후_1','출근', '본사휴가자수','현본사소속재택근무자수', '본사시간외근무명령서승인건수','본사출장자수','일', '주', '월', '년']]"
      ],
      "execution_count": null,
      "outputs": []
    },
    {
      "cell_type": "code",
      "metadata": {
        "id": "7z0MGc0BoJWy"
      },
      "source": [
        "# ------------------------<AFTER 2018.07.01 DATA>----------------------------\n",
        "\n",
        "# train_1 = train[['요일','공휴일전후_0','휴가비율','출장비율','재택비율', '공휴일전후_2', '공휴일전후_1','출근', '본사출장자수','현본사소속재택근무자수', '본사휴가자수','일', '주', '월', '년', '중식계']][591:]\n",
        "# test_1 = test[['요일','공휴일전후_0','휴가비율','출장비율','재택비율', '공휴일전후_2', '공휴일전후_1','출근', '본사출장자수','현본사소속재택근무자수', '본사휴가자수','일', '주', '월', '년']]\n",
        "\n",
        "# train_2 = train[['요일','공휴일전후_0','휴가비율','출장비율','재택비율', '공휴일전후_2', '공휴일전후_1','출근', '본사휴가자수','현본사소속재택근무자수', '본사시간외근무명령서승인건수','본사출장자수', '석식계','일', '주', '월', '년']][591:]\n",
        "# test_2 = test[['요일','공휴일전후_0','휴가비율','출장비율','재택비율', '공휴일전후_2', '공휴일전후_1','출근', '본사휴가자수','현본사소속재택근무자수', '본사시간외근무명령서승인건수','본사출장자수','일', '주', '월', '년']]"
      ],
      "execution_count": null,
      "outputs": []
    },
    {
      "cell_type": "code",
      "metadata": {
        "id": "UAzGXV_EcVil",
        "colab": {
          "base_uri": "https://localhost:8080/"
        },
        "outputId": "d9cb0e76-7e27-4eab-ba6f-ef102474eec1"
      },
      "source": [
        "#메뉴\n",
        "train_lunch = pd.concat([train_lunch, lunch_sort], axis = 1)\n",
        "train_dinner = pd.concat([train_dinner, dinner_sort], axis = 1)\n",
        "test_lunch = pd.concat([test_lunch, lunch_sort_t], axis = 1)\n",
        "test_dinner = pd.concat([test_dinner, dinner_sort_t], axis = 1)\n",
        "print('done')"
      ],
      "execution_count": null,
      "outputs": [
        {
          "output_type": "stream",
          "text": [
            "done\n"
          ],
          "name": "stdout"
        }
      ]
    },
    {
      "cell_type": "markdown",
      "metadata": {
        "id": "76SoKbnM2br1"
      },
      "source": [
        "## **중식 모델링**"
      ]
    },
    {
      "cell_type": "code",
      "metadata": {
        "colab": {
          "base_uri": "https://localhost:8080/"
        },
        "id": "UIq7qbnxweKp",
        "outputId": "3093a579-ba0e-483c-eba0-e87a66164139"
      },
      "source": [
        "train_lunch.info()"
      ],
      "execution_count": null,
      "outputs": [
        {
          "output_type": "stream",
          "text": [
            "<class 'pandas.core.frame.DataFrame'>\n",
            "RangeIndex: 1205 entries, 0 to 1204\n",
            "Data columns (total 50 columns):\n",
            " #   Column       Non-Null Count  Dtype  \n",
            "---  ------       --------------  -----  \n",
            " 0   요일           1205 non-null   int64  \n",
            " 1   공휴일전후_0      1205 non-null   uint8  \n",
            " 2   휴가비율         1205 non-null   float64\n",
            " 3   출장비율         1205 non-null   float64\n",
            " 4   재택비율         1205 non-null   float64\n",
            " 5   공휴일전후_2      1205 non-null   uint8  \n",
            " 6   공휴일전후_1      1205 non-null   uint8  \n",
            " 7   출근           1205 non-null   int64  \n",
            " 8   본사출장자수       1205 non-null   int64  \n",
            " 9   현본사소속재택근무자수  1205 non-null   int64  \n",
            " 10  본사휴가자수       1205 non-null   int64  \n",
            " 11  일            1205 non-null   int64  \n",
            " 12  주            1205 non-null   int64  \n",
            " 13  월            1205 non-null   int64  \n",
            " 14  년            1205 non-null   int64  \n",
            " 15  중식계          1205 non-null   int64  \n",
            " 16  곡류           1203 non-null   float64\n",
            " 17  두류           1203 non-null   float64\n",
            " 18  난류           1203 non-null   float64\n",
            " 19  묵류           1203 non-null   float64\n",
            " 20  어패류          1203 non-null   float64\n",
            " 21  육류           1203 non-null   float64\n",
            " 22  채소류          1203 non-null   float64\n",
            " 23  해조류          1203 non-null   float64\n",
            " 24  떡류           1203 non-null   float64\n",
            " 25  양념.및.장류      1203 non-null   float64\n",
            " 26  김치류          1203 non-null   float64\n",
            " 27  만두류          1203 non-null   float64\n",
            " 28  면류           1203 non-null   float64\n",
            " 29  과일류          1203 non-null   float64\n",
            " 30  밥류           1203 non-null   float64\n",
            " 31  죽류           1203 non-null   float64\n",
            " 32  덮밥국밥류        1203 non-null   float64\n",
            " 33  비빔밥볶음밥류      1203 non-null   float64\n",
            " 34  김.초.밥류       1203 non-null   float64\n",
            " 35  국수류          1203 non-null   float64\n",
            " 36  국탕류          1203 non-null   float64\n",
            " 37  찌개류          1203 non-null   float64\n",
            " 38  구이류          1203 non-null   float64\n",
            " 39  무침류          1203 non-null   float64\n",
            " 40  볶음류          1203 non-null   float64\n",
            " 41  장아찌류         1203 non-null   float64\n",
            " 42  전류           1203 non-null   float64\n",
            " 43  조림류          1203 non-null   float64\n",
            " 44  찜류           1203 non-null   float64\n",
            " 45  튀김류          1203 non-null   float64\n",
            " 46  샐러드류         1203 non-null   float64\n",
            " 47  단품류          1203 non-null   float64\n",
            " 48  유제품          1203 non-null   float64\n",
            " 49  빵과자류         1203 non-null   float64\n",
            "dtypes: float64(37), int64(10), uint8(3)\n",
            "memory usage: 446.1 KB\n"
          ],
          "name": "stdout"
        }
      ]
    },
    {
      "cell_type": "code",
      "metadata": {
        "id": "cMG81-Zd0EpL",
        "colab": {
          "base_uri": "https://localhost:8080/",
          "height": 1000,
          "referenced_widgets": [
            "52698bee936b4cfc953699e48d217ecd",
            "02280bfba177493b8402a358b1fde828",
            "ff0bdedaaacd43aba31f14ce10f46544"
          ]
        },
        "outputId": "eadaac9d-61d7-4d4a-9328-ff8e5fdb574f"
      },
      "source": [
        "reg = setup(data=train_lunch,\n",
        "            target='중식계',\n",
        "            numeric_imputation = 'mean',\n",
        "            normalize = True,\n",
        "            silent= True)"
      ],
      "execution_count": null,
      "outputs": [
        {
          "output_type": "display_data",
          "data": {
            "text/html": [
              "<div>\n",
              "<style scoped>\n",
              "    .dataframe tbody tr th:only-of-type {\n",
              "        vertical-align: middle;\n",
              "    }\n",
              "\n",
              "    .dataframe tbody tr th {\n",
              "        vertical-align: top;\n",
              "    }\n",
              "\n",
              "    .dataframe thead th {\n",
              "        text-align: right;\n",
              "    }\n",
              "</style>\n",
              "<table border=\"1\" class=\"dataframe\">\n",
              "  <thead>\n",
              "    <tr style=\"text-align: right;\">\n",
              "      <th></th>\n",
              "      <th>Description</th>\n",
              "      <th>Value</th>\n",
              "    </tr>\n",
              "  </thead>\n",
              "  <tbody>\n",
              "    <tr>\n",
              "      <th>0</th>\n",
              "      <td>session_id</td>\n",
              "      <td>1978</td>\n",
              "    </tr>\n",
              "    <tr>\n",
              "      <th>1</th>\n",
              "      <td>Target</td>\n",
              "      <td>중식계</td>\n",
              "    </tr>\n",
              "    <tr>\n",
              "      <th>2</th>\n",
              "      <td>Original Data</td>\n",
              "      <td>(1205, 50)</td>\n",
              "    </tr>\n",
              "    <tr>\n",
              "      <th>3</th>\n",
              "      <td>Missing Values</td>\n",
              "      <td>True</td>\n",
              "    </tr>\n",
              "    <tr>\n",
              "      <th>4</th>\n",
              "      <td>Numeric Features</td>\n",
              "      <td>43</td>\n",
              "    </tr>\n",
              "    <tr>\n",
              "      <th>5</th>\n",
              "      <td>Categorical Features</td>\n",
              "      <td>6</td>\n",
              "    </tr>\n",
              "    <tr>\n",
              "      <th>6</th>\n",
              "      <td>Ordinal Features</td>\n",
              "      <td>False</td>\n",
              "    </tr>\n",
              "    <tr>\n",
              "      <th>7</th>\n",
              "      <td>High Cardinality Features</td>\n",
              "      <td>False</td>\n",
              "    </tr>\n",
              "    <tr>\n",
              "      <th>8</th>\n",
              "      <td>High Cardinality Method</td>\n",
              "      <td>None</td>\n",
              "    </tr>\n",
              "    <tr>\n",
              "      <th>9</th>\n",
              "      <td>Transformed Train Set</td>\n",
              "      <td>(843, 65)</td>\n",
              "    </tr>\n",
              "    <tr>\n",
              "      <th>10</th>\n",
              "      <td>Transformed Test Set</td>\n",
              "      <td>(362, 65)</td>\n",
              "    </tr>\n",
              "    <tr>\n",
              "      <th>11</th>\n",
              "      <td>Shuffle Train-Test</td>\n",
              "      <td>True</td>\n",
              "    </tr>\n",
              "    <tr>\n",
              "      <th>12</th>\n",
              "      <td>Stratify Train-Test</td>\n",
              "      <td>False</td>\n",
              "    </tr>\n",
              "    <tr>\n",
              "      <th>13</th>\n",
              "      <td>Fold Generator</td>\n",
              "      <td>KFold</td>\n",
              "    </tr>\n",
              "    <tr>\n",
              "      <th>14</th>\n",
              "      <td>Fold Number</td>\n",
              "      <td>10</td>\n",
              "    </tr>\n",
              "    <tr>\n",
              "      <th>15</th>\n",
              "      <td>CPU Jobs</td>\n",
              "      <td>-1</td>\n",
              "    </tr>\n",
              "    <tr>\n",
              "      <th>16</th>\n",
              "      <td>Use GPU</td>\n",
              "      <td>False</td>\n",
              "    </tr>\n",
              "    <tr>\n",
              "      <th>17</th>\n",
              "      <td>Log Experiment</td>\n",
              "      <td>False</td>\n",
              "    </tr>\n",
              "    <tr>\n",
              "      <th>18</th>\n",
              "      <td>Experiment Name</td>\n",
              "      <td>reg-default-name</td>\n",
              "    </tr>\n",
              "    <tr>\n",
              "      <th>19</th>\n",
              "      <td>USI</td>\n",
              "      <td>a605</td>\n",
              "    </tr>\n",
              "    <tr>\n",
              "      <th>20</th>\n",
              "      <td>Imputation Type</td>\n",
              "      <td>simple</td>\n",
              "    </tr>\n",
              "    <tr>\n",
              "      <th>21</th>\n",
              "      <td>Iterative Imputation Iteration</td>\n",
              "      <td>None</td>\n",
              "    </tr>\n",
              "    <tr>\n",
              "      <th>22</th>\n",
              "      <td>Numeric Imputer</td>\n",
              "      <td>mean</td>\n",
              "    </tr>\n",
              "    <tr>\n",
              "      <th>23</th>\n",
              "      <td>Iterative Imputation Numeric Model</td>\n",
              "      <td>None</td>\n",
              "    </tr>\n",
              "    <tr>\n",
              "      <th>24</th>\n",
              "      <td>Categorical Imputer</td>\n",
              "      <td>constant</td>\n",
              "    </tr>\n",
              "    <tr>\n",
              "      <th>25</th>\n",
              "      <td>Iterative Imputation Categorical Model</td>\n",
              "      <td>None</td>\n",
              "    </tr>\n",
              "    <tr>\n",
              "      <th>26</th>\n",
              "      <td>Unknown Categoricals Handling</td>\n",
              "      <td>least_frequent</td>\n",
              "    </tr>\n",
              "    <tr>\n",
              "      <th>27</th>\n",
              "      <td>Normalize</td>\n",
              "      <td>True</td>\n",
              "    </tr>\n",
              "    <tr>\n",
              "      <th>28</th>\n",
              "      <td>Normalize Method</td>\n",
              "      <td>zscore</td>\n",
              "    </tr>\n",
              "    <tr>\n",
              "      <th>29</th>\n",
              "      <td>Transformation</td>\n",
              "      <td>False</td>\n",
              "    </tr>\n",
              "    <tr>\n",
              "      <th>30</th>\n",
              "      <td>Transformation Method</td>\n",
              "      <td>None</td>\n",
              "    </tr>\n",
              "    <tr>\n",
              "      <th>31</th>\n",
              "      <td>PCA</td>\n",
              "      <td>False</td>\n",
              "    </tr>\n",
              "    <tr>\n",
              "      <th>32</th>\n",
              "      <td>PCA Method</td>\n",
              "      <td>None</td>\n",
              "    </tr>\n",
              "    <tr>\n",
              "      <th>33</th>\n",
              "      <td>PCA Components</td>\n",
              "      <td>None</td>\n",
              "    </tr>\n",
              "    <tr>\n",
              "      <th>34</th>\n",
              "      <td>Ignore Low Variance</td>\n",
              "      <td>False</td>\n",
              "    </tr>\n",
              "    <tr>\n",
              "      <th>35</th>\n",
              "      <td>Combine Rare Levels</td>\n",
              "      <td>False</td>\n",
              "    </tr>\n",
              "    <tr>\n",
              "      <th>36</th>\n",
              "      <td>Rare Level Threshold</td>\n",
              "      <td>None</td>\n",
              "    </tr>\n",
              "    <tr>\n",
              "      <th>37</th>\n",
              "      <td>Numeric Binning</td>\n",
              "      <td>False</td>\n",
              "    </tr>\n",
              "    <tr>\n",
              "      <th>38</th>\n",
              "      <td>Remove Outliers</td>\n",
              "      <td>False</td>\n",
              "    </tr>\n",
              "    <tr>\n",
              "      <th>39</th>\n",
              "      <td>Outliers Threshold</td>\n",
              "      <td>None</td>\n",
              "    </tr>\n",
              "    <tr>\n",
              "      <th>40</th>\n",
              "      <td>Remove Multicollinearity</td>\n",
              "      <td>False</td>\n",
              "    </tr>\n",
              "    <tr>\n",
              "      <th>41</th>\n",
              "      <td>Multicollinearity Threshold</td>\n",
              "      <td>None</td>\n",
              "    </tr>\n",
              "    <tr>\n",
              "      <th>42</th>\n",
              "      <td>Clustering</td>\n",
              "      <td>False</td>\n",
              "    </tr>\n",
              "    <tr>\n",
              "      <th>43</th>\n",
              "      <td>Clustering Iteration</td>\n",
              "      <td>None</td>\n",
              "    </tr>\n",
              "    <tr>\n",
              "      <th>44</th>\n",
              "      <td>Polynomial Features</td>\n",
              "      <td>False</td>\n",
              "    </tr>\n",
              "    <tr>\n",
              "      <th>45</th>\n",
              "      <td>Polynomial Degree</td>\n",
              "      <td>None</td>\n",
              "    </tr>\n",
              "    <tr>\n",
              "      <th>46</th>\n",
              "      <td>Trignometry Features</td>\n",
              "      <td>False</td>\n",
              "    </tr>\n",
              "    <tr>\n",
              "      <th>47</th>\n",
              "      <td>Polynomial Threshold</td>\n",
              "      <td>None</td>\n",
              "    </tr>\n",
              "    <tr>\n",
              "      <th>48</th>\n",
              "      <td>Group Features</td>\n",
              "      <td>False</td>\n",
              "    </tr>\n",
              "    <tr>\n",
              "      <th>49</th>\n",
              "      <td>Feature Selection</td>\n",
              "      <td>False</td>\n",
              "    </tr>\n",
              "    <tr>\n",
              "      <th>50</th>\n",
              "      <td>Feature Selection Method</td>\n",
              "      <td>classic</td>\n",
              "    </tr>\n",
              "    <tr>\n",
              "      <th>51</th>\n",
              "      <td>Features Selection Threshold</td>\n",
              "      <td>None</td>\n",
              "    </tr>\n",
              "    <tr>\n",
              "      <th>52</th>\n",
              "      <td>Feature Interaction</td>\n",
              "      <td>False</td>\n",
              "    </tr>\n",
              "    <tr>\n",
              "      <th>53</th>\n",
              "      <td>Feature Ratio</td>\n",
              "      <td>False</td>\n",
              "    </tr>\n",
              "    <tr>\n",
              "      <th>54</th>\n",
              "      <td>Interaction Threshold</td>\n",
              "      <td>None</td>\n",
              "    </tr>\n",
              "    <tr>\n",
              "      <th>55</th>\n",
              "      <td>Transform Target</td>\n",
              "      <td>False</td>\n",
              "    </tr>\n",
              "    <tr>\n",
              "      <th>56</th>\n",
              "      <td>Transform Target Method</td>\n",
              "      <td>box-cox</td>\n",
              "    </tr>\n",
              "  </tbody>\n",
              "</table>\n",
              "</div>"
            ],
            "text/plain": [
              "                               Description             Value\n",
              "0                               session_id              1978\n",
              "1                                   Target               중식계\n",
              "2                            Original Data        (1205, 50)\n",
              "3                           Missing Values              True\n",
              "4                         Numeric Features                43\n",
              "5                     Categorical Features                 6\n",
              "6                         Ordinal Features             False\n",
              "7                High Cardinality Features             False\n",
              "8                  High Cardinality Method              None\n",
              "9                    Transformed Train Set         (843, 65)\n",
              "10                    Transformed Test Set         (362, 65)\n",
              "11                      Shuffle Train-Test              True\n",
              "12                     Stratify Train-Test             False\n",
              "13                          Fold Generator             KFold\n",
              "14                             Fold Number                10\n",
              "15                                CPU Jobs                -1\n",
              "16                                 Use GPU             False\n",
              "17                          Log Experiment             False\n",
              "18                         Experiment Name  reg-default-name\n",
              "19                                     USI              a605\n",
              "20                         Imputation Type            simple\n",
              "21          Iterative Imputation Iteration              None\n",
              "22                         Numeric Imputer              mean\n",
              "23      Iterative Imputation Numeric Model              None\n",
              "24                     Categorical Imputer          constant\n",
              "25  Iterative Imputation Categorical Model              None\n",
              "26           Unknown Categoricals Handling    least_frequent\n",
              "27                               Normalize              True\n",
              "28                        Normalize Method            zscore\n",
              "29                          Transformation             False\n",
              "30                   Transformation Method              None\n",
              "31                                     PCA             False\n",
              "32                              PCA Method              None\n",
              "33                          PCA Components              None\n",
              "34                     Ignore Low Variance             False\n",
              "35                     Combine Rare Levels             False\n",
              "36                    Rare Level Threshold              None\n",
              "37                         Numeric Binning             False\n",
              "38                         Remove Outliers             False\n",
              "39                      Outliers Threshold              None\n",
              "40                Remove Multicollinearity             False\n",
              "41             Multicollinearity Threshold              None\n",
              "42                              Clustering             False\n",
              "43                    Clustering Iteration              None\n",
              "44                     Polynomial Features             False\n",
              "45                       Polynomial Degree              None\n",
              "46                    Trignometry Features             False\n",
              "47                    Polynomial Threshold              None\n",
              "48                          Group Features             False\n",
              "49                       Feature Selection             False\n",
              "50                Feature Selection Method           classic\n",
              "51            Features Selection Threshold              None\n",
              "52                     Feature Interaction             False\n",
              "53                           Feature Ratio             False\n",
              "54                   Interaction Threshold              None\n",
              "55                        Transform Target             False\n",
              "56                 Transform Target Method           box-cox"
            ]
          },
          "metadata": {
            "tags": []
          }
        }
      ]
    },
    {
      "cell_type": "code",
      "metadata": {
        "id": "9VwACtYG0FIi",
        "colab": {
          "base_uri": "https://localhost:8080/",
          "height": 601,
          "referenced_widgets": [
            "2230e1fbb1ef41ceb99b14dbf22ec44c",
            "bcce3f75610a47ff88285c13d38c0a13",
            "a12b0790725b40f38016960d458be080"
          ]
        },
        "outputId": "23a2caf6-8a7c-4936-da03-51764f8d5177"
      },
      "source": [
        "best_5_l = compare_models(sort='MAE', n_select=5)"
      ],
      "execution_count": null,
      "outputs": [
        {
          "output_type": "display_data",
          "data": {
            "text/html": [
              "<div>\n",
              "<style scoped>\n",
              "    .dataframe tbody tr th:only-of-type {\n",
              "        vertical-align: middle;\n",
              "    }\n",
              "\n",
              "    .dataframe tbody tr th {\n",
              "        vertical-align: top;\n",
              "    }\n",
              "\n",
              "    .dataframe thead th {\n",
              "        text-align: right;\n",
              "    }\n",
              "</style>\n",
              "<table border=\"1\" class=\"dataframe\">\n",
              "  <thead>\n",
              "    <tr style=\"text-align: right;\">\n",
              "      <th></th>\n",
              "      <th>Model</th>\n",
              "      <th>MAE</th>\n",
              "      <th>MSE</th>\n",
              "      <th>RMSE</th>\n",
              "      <th>R2</th>\n",
              "      <th>RMSLE</th>\n",
              "      <th>MAPE</th>\n",
              "      <th>TT (Sec)</th>\n",
              "    </tr>\n",
              "  </thead>\n",
              "  <tbody>\n",
              "    <tr>\n",
              "      <th>catboost</th>\n",
              "      <td>CatBoost Regressor</td>\n",
              "      <td>6.933270e+01</td>\n",
              "      <td>8.737664e+03</td>\n",
              "      <td>9.294470e+01</td>\n",
              "      <td>7.989000e-01</td>\n",
              "      <td>0.1186</td>\n",
              "      <td>8.640000e-02</td>\n",
              "      <td>3.295</td>\n",
              "    </tr>\n",
              "    <tr>\n",
              "      <th>gbr</th>\n",
              "      <td>Gradient Boosting Regressor</td>\n",
              "      <td>7.113080e+01</td>\n",
              "      <td>9.139276e+03</td>\n",
              "      <td>9.495740e+01</td>\n",
              "      <td>7.882000e-01</td>\n",
              "      <td>0.1207</td>\n",
              "      <td>8.800000e-02</td>\n",
              "      <td>0.230</td>\n",
              "    </tr>\n",
              "    <tr>\n",
              "      <th>huber</th>\n",
              "      <td>Huber Regressor</td>\n",
              "      <td>7.406720e+01</td>\n",
              "      <td>1.045964e+04</td>\n",
              "      <td>1.018139e+02</td>\n",
              "      <td>7.612000e-01</td>\n",
              "      <td>0.1288</td>\n",
              "      <td>9.170000e-02</td>\n",
              "      <td>0.074</td>\n",
              "    </tr>\n",
              "    <tr>\n",
              "      <th>lightgbm</th>\n",
              "      <td>Light Gradient Boosting Machine</td>\n",
              "      <td>7.445280e+01</td>\n",
              "      <td>9.978650e+03</td>\n",
              "      <td>9.914480e+01</td>\n",
              "      <td>7.700000e-01</td>\n",
              "      <td>0.1243</td>\n",
              "      <td>9.150000e-02</td>\n",
              "      <td>0.144</td>\n",
              "    </tr>\n",
              "    <tr>\n",
              "      <th>rf</th>\n",
              "      <td>Random Forest Regressor</td>\n",
              "      <td>7.470010e+01</td>\n",
              "      <td>1.037514e+04</td>\n",
              "      <td>1.013300e+02</td>\n",
              "      <td>7.597000e-01</td>\n",
              "      <td>0.1301</td>\n",
              "      <td>9.300000e-02</td>\n",
              "      <td>1.012</td>\n",
              "    </tr>\n",
              "    <tr>\n",
              "      <th>et</th>\n",
              "      <td>Extra Trees Regressor</td>\n",
              "      <td>7.499190e+01</td>\n",
              "      <td>1.071918e+04</td>\n",
              "      <td>1.030011e+02</td>\n",
              "      <td>7.522000e-01</td>\n",
              "      <td>0.1303</td>\n",
              "      <td>9.240000e-02</td>\n",
              "      <td>0.808</td>\n",
              "    </tr>\n",
              "    <tr>\n",
              "      <th>ridge</th>\n",
              "      <td>Ridge Regression</td>\n",
              "      <td>7.528150e+01</td>\n",
              "      <td>1.023645e+04</td>\n",
              "      <td>1.007816e+02</td>\n",
              "      <td>7.675000e-01</td>\n",
              "      <td>0.1272</td>\n",
              "      <td>9.330000e-02</td>\n",
              "      <td>0.015</td>\n",
              "    </tr>\n",
              "    <tr>\n",
              "      <th>lasso</th>\n",
              "      <td>Lasso Regression</td>\n",
              "      <td>7.544860e+01</td>\n",
              "      <td>1.030565e+04</td>\n",
              "      <td>1.011372e+02</td>\n",
              "      <td>7.661000e-01</td>\n",
              "      <td>0.1264</td>\n",
              "      <td>9.310000e-02</td>\n",
              "      <td>0.018</td>\n",
              "    </tr>\n",
              "    <tr>\n",
              "      <th>br</th>\n",
              "      <td>Bayesian Ridge</td>\n",
              "      <td>7.546600e+01</td>\n",
              "      <td>1.022732e+04</td>\n",
              "      <td>1.007519e+02</td>\n",
              "      <td>7.679000e-01</td>\n",
              "      <td>0.1268</td>\n",
              "      <td>9.340000e-02</td>\n",
              "      <td>0.023</td>\n",
              "    </tr>\n",
              "    <tr>\n",
              "      <th>omp</th>\n",
              "      <td>Orthogonal Matching Pursuit</td>\n",
              "      <td>7.683420e+01</td>\n",
              "      <td>1.091047e+04</td>\n",
              "      <td>1.041566e+02</td>\n",
              "      <td>7.516000e-01</td>\n",
              "      <td>0.1300</td>\n",
              "      <td>9.460000e-02</td>\n",
              "      <td>0.015</td>\n",
              "    </tr>\n",
              "    <tr>\n",
              "      <th>par</th>\n",
              "      <td>Passive Aggressive Regressor</td>\n",
              "      <td>7.798450e+01</td>\n",
              "      <td>1.135900e+04</td>\n",
              "      <td>1.062576e+02</td>\n",
              "      <td>7.386000e-01</td>\n",
              "      <td>0.1348</td>\n",
              "      <td>9.630000e-02</td>\n",
              "      <td>0.020</td>\n",
              "    </tr>\n",
              "    <tr>\n",
              "      <th>ada</th>\n",
              "      <td>AdaBoost Regressor</td>\n",
              "      <td>8.455580e+01</td>\n",
              "      <td>1.182777e+04</td>\n",
              "      <td>1.083599e+02</td>\n",
              "      <td>7.277000e-01</td>\n",
              "      <td>0.1367</td>\n",
              "      <td>1.056000e-01</td>\n",
              "      <td>0.171</td>\n",
              "    </tr>\n",
              "    <tr>\n",
              "      <th>lr</th>\n",
              "      <td>Linear Regression</td>\n",
              "      <td>8.525000e+01</td>\n",
              "      <td>9.813228e+04</td>\n",
              "      <td>1.845719e+02</td>\n",
              "      <td>-1.244700e+00</td>\n",
              "      <td>0.1498</td>\n",
              "      <td>1.234000e-01</td>\n",
              "      <td>0.366</td>\n",
              "    </tr>\n",
              "    <tr>\n",
              "      <th>llar</th>\n",
              "      <td>Lasso Least Angle Regression</td>\n",
              "      <td>9.129090e+01</td>\n",
              "      <td>1.422925e+04</td>\n",
              "      <td>1.186800e+02</td>\n",
              "      <td>6.809000e-01</td>\n",
              "      <td>0.1510</td>\n",
              "      <td>1.162000e-01</td>\n",
              "      <td>0.017</td>\n",
              "    </tr>\n",
              "    <tr>\n",
              "      <th>dt</th>\n",
              "      <td>Decision Tree Regressor</td>\n",
              "      <td>1.068569e+02</td>\n",
              "      <td>2.018766e+04</td>\n",
              "      <td>1.415732e+02</td>\n",
              "      <td>5.337000e-01</td>\n",
              "      <td>0.1829</td>\n",
              "      <td>1.338000e-01</td>\n",
              "      <td>0.030</td>\n",
              "    </tr>\n",
              "    <tr>\n",
              "      <th>en</th>\n",
              "      <td>Elastic Net</td>\n",
              "      <td>1.074581e+02</td>\n",
              "      <td>1.812559e+04</td>\n",
              "      <td>1.340196e+02</td>\n",
              "      <td>5.922000e-01</td>\n",
              "      <td>0.1651</td>\n",
              "      <td>1.337000e-01</td>\n",
              "      <td>0.018</td>\n",
              "    </tr>\n",
              "    <tr>\n",
              "      <th>knn</th>\n",
              "      <td>K Neighbors Regressor</td>\n",
              "      <td>1.351565e+02</td>\n",
              "      <td>2.874873e+04</td>\n",
              "      <td>1.688469e+02</td>\n",
              "      <td>3.538000e-01</td>\n",
              "      <td>0.2088</td>\n",
              "      <td>1.730000e-01</td>\n",
              "      <td>0.065</td>\n",
              "    </tr>\n",
              "    <tr>\n",
              "      <th>lar</th>\n",
              "      <td>Least Angle Regression</td>\n",
              "      <td>3.107488e+09</td>\n",
              "      <td>7.693840e+21</td>\n",
              "      <td>2.775072e+10</td>\n",
              "      <td>-1.761310e+17</td>\n",
              "      <td>5.5743</td>\n",
              "      <td>9.209990e+06</td>\n",
              "      <td>0.029</td>\n",
              "    </tr>\n",
              "  </tbody>\n",
              "</table>\n",
              "</div>"
            ],
            "text/plain": [
              "                                    Model           MAE           MSE  \\\n",
              "catboost               CatBoost Regressor  6.933270e+01  8.737664e+03   \n",
              "gbr           Gradient Boosting Regressor  7.113080e+01  9.139276e+03   \n",
              "huber                     Huber Regressor  7.406720e+01  1.045964e+04   \n",
              "lightgbm  Light Gradient Boosting Machine  7.445280e+01  9.978650e+03   \n",
              "rf                Random Forest Regressor  7.470010e+01  1.037514e+04   \n",
              "et                  Extra Trees Regressor  7.499190e+01  1.071918e+04   \n",
              "ridge                    Ridge Regression  7.528150e+01  1.023645e+04   \n",
              "lasso                    Lasso Regression  7.544860e+01  1.030565e+04   \n",
              "br                         Bayesian Ridge  7.546600e+01  1.022732e+04   \n",
              "omp           Orthogonal Matching Pursuit  7.683420e+01  1.091047e+04   \n",
              "par          Passive Aggressive Regressor  7.798450e+01  1.135900e+04   \n",
              "ada                    AdaBoost Regressor  8.455580e+01  1.182777e+04   \n",
              "lr                      Linear Regression  8.525000e+01  9.813228e+04   \n",
              "llar         Lasso Least Angle Regression  9.129090e+01  1.422925e+04   \n",
              "dt                Decision Tree Regressor  1.068569e+02  2.018766e+04   \n",
              "en                            Elastic Net  1.074581e+02  1.812559e+04   \n",
              "knn                 K Neighbors Regressor  1.351565e+02  2.874873e+04   \n",
              "lar                Least Angle Regression  3.107488e+09  7.693840e+21   \n",
              "\n",
              "                  RMSE            R2   RMSLE          MAPE  TT (Sec)  \n",
              "catboost  9.294470e+01  7.989000e-01  0.1186  8.640000e-02     3.295  \n",
              "gbr       9.495740e+01  7.882000e-01  0.1207  8.800000e-02     0.230  \n",
              "huber     1.018139e+02  7.612000e-01  0.1288  9.170000e-02     0.074  \n",
              "lightgbm  9.914480e+01  7.700000e-01  0.1243  9.150000e-02     0.144  \n",
              "rf        1.013300e+02  7.597000e-01  0.1301  9.300000e-02     1.012  \n",
              "et        1.030011e+02  7.522000e-01  0.1303  9.240000e-02     0.808  \n",
              "ridge     1.007816e+02  7.675000e-01  0.1272  9.330000e-02     0.015  \n",
              "lasso     1.011372e+02  7.661000e-01  0.1264  9.310000e-02     0.018  \n",
              "br        1.007519e+02  7.679000e-01  0.1268  9.340000e-02     0.023  \n",
              "omp       1.041566e+02  7.516000e-01  0.1300  9.460000e-02     0.015  \n",
              "par       1.062576e+02  7.386000e-01  0.1348  9.630000e-02     0.020  \n",
              "ada       1.083599e+02  7.277000e-01  0.1367  1.056000e-01     0.171  \n",
              "lr        1.845719e+02 -1.244700e+00  0.1498  1.234000e-01     0.366  \n",
              "llar      1.186800e+02  6.809000e-01  0.1510  1.162000e-01     0.017  \n",
              "dt        1.415732e+02  5.337000e-01  0.1829  1.338000e-01     0.030  \n",
              "en        1.340196e+02  5.922000e-01  0.1651  1.337000e-01     0.018  \n",
              "knn       1.688469e+02  3.538000e-01  0.2088  1.730000e-01     0.065  \n",
              "lar       2.775072e+10 -1.761310e+17  5.5743  9.209990e+06     0.029  "
            ]
          },
          "metadata": {
            "tags": []
          }
        }
      ]
    },
    {
      "cell_type": "markdown",
      "metadata": {
        "id": "widHOTF82rWu"
      },
      "source": [
        "### **앙상블 모델**"
      ]
    },
    {
      "cell_type": "code",
      "metadata": {
        "id": "LI6Gu_sIHccA",
        "colab": {
          "base_uri": "https://localhost:8080/",
          "height": 325,
          "referenced_widgets": [
            "0462ad56cdd04d79a317bafb4baf3101",
            "9dc657e412d34595b7f992db9fbf11cd",
            "ef316e4eebdd4d789dcedd925ebfeb3e"
          ]
        },
        "outputId": "9b3b8636-37d2-4efc-cc95-99c29675d6ef"
      },
      "source": [
        "blended_l = blend_models(estimator_list= best_5_l, fold=5, optimize='MAE')\n",
        "pred_holdout = predict_model(blended_l)\n",
        "final_model_l = finalize_model(blended_l)\n",
        "pred_esb_l = predict_model(final_model_l, test_lunch)"
      ],
      "execution_count": null,
      "outputs": [
        {
          "output_type": "display_data",
          "data": {
            "text/html": [
              "<div>\n",
              "<style scoped>\n",
              "    .dataframe tbody tr th:only-of-type {\n",
              "        vertical-align: middle;\n",
              "    }\n",
              "\n",
              "    .dataframe tbody tr th {\n",
              "        vertical-align: top;\n",
              "    }\n",
              "\n",
              "    .dataframe thead th {\n",
              "        text-align: right;\n",
              "    }\n",
              "</style>\n",
              "<table border=\"1\" class=\"dataframe\">\n",
              "  <thead>\n",
              "    <tr style=\"text-align: right;\">\n",
              "      <th></th>\n",
              "      <th>MAE</th>\n",
              "      <th>MSE</th>\n",
              "      <th>RMSE</th>\n",
              "      <th>R2</th>\n",
              "      <th>RMSLE</th>\n",
              "      <th>MAPE</th>\n",
              "    </tr>\n",
              "  </thead>\n",
              "  <tbody>\n",
              "    <tr>\n",
              "      <th>0</th>\n",
              "      <td>68.2846</td>\n",
              "      <td>8229.7357</td>\n",
              "      <td>90.7179</td>\n",
              "      <td>0.7951</td>\n",
              "      <td>0.1072</td>\n",
              "      <td>0.0804</td>\n",
              "    </tr>\n",
              "    <tr>\n",
              "      <th>1</th>\n",
              "      <td>70.1591</td>\n",
              "      <td>9602.4059</td>\n",
              "      <td>97.9919</td>\n",
              "      <td>0.8038</td>\n",
              "      <td>0.1334</td>\n",
              "      <td>0.0904</td>\n",
              "    </tr>\n",
              "    <tr>\n",
              "      <th>2</th>\n",
              "      <td>74.3421</td>\n",
              "      <td>9622.7516</td>\n",
              "      <td>98.0956</td>\n",
              "      <td>0.7844</td>\n",
              "      <td>0.1169</td>\n",
              "      <td>0.0875</td>\n",
              "    </tr>\n",
              "    <tr>\n",
              "      <th>3</th>\n",
              "      <td>63.6363</td>\n",
              "      <td>7347.7841</td>\n",
              "      <td>85.7192</td>\n",
              "      <td>0.8125</td>\n",
              "      <td>0.1186</td>\n",
              "      <td>0.0819</td>\n",
              "    </tr>\n",
              "    <tr>\n",
              "      <th>4</th>\n",
              "      <td>70.7891</td>\n",
              "      <td>9085.9003</td>\n",
              "      <td>95.3200</td>\n",
              "      <td>0.8239</td>\n",
              "      <td>0.1187</td>\n",
              "      <td>0.0889</td>\n",
              "    </tr>\n",
              "    <tr>\n",
              "      <th>Mean</th>\n",
              "      <td>69.4422</td>\n",
              "      <td>8777.7155</td>\n",
              "      <td>93.5689</td>\n",
              "      <td>0.8039</td>\n",
              "      <td>0.1189</td>\n",
              "      <td>0.0858</td>\n",
              "    </tr>\n",
              "    <tr>\n",
              "      <th>SD</th>\n",
              "      <td>3.5039</td>\n",
              "      <td>875.6899</td>\n",
              "      <td>4.7511</td>\n",
              "      <td>0.0136</td>\n",
              "      <td>0.0084</td>\n",
              "      <td>0.0040</td>\n",
              "    </tr>\n",
              "  </tbody>\n",
              "</table>\n",
              "</div>"
            ],
            "text/plain": [
              "          MAE        MSE     RMSE      R2   RMSLE    MAPE\n",
              "0     68.2846  8229.7357  90.7179  0.7951  0.1072  0.0804\n",
              "1     70.1591  9602.4059  97.9919  0.8038  0.1334  0.0904\n",
              "2     74.3421  9622.7516  98.0956  0.7844  0.1169  0.0875\n",
              "3     63.6363  7347.7841  85.7192  0.8125  0.1186  0.0819\n",
              "4     70.7891  9085.9003  95.3200  0.8239  0.1187  0.0889\n",
              "Mean  69.4422  8777.7155  93.5689  0.8039  0.1189  0.0858\n",
              "SD     3.5039   875.6899   4.7511  0.0136  0.0084  0.0040"
            ]
          },
          "metadata": {
            "tags": []
          }
        },
        {
          "output_type": "display_data",
          "data": {
            "text/html": [
              "<div>\n",
              "<style scoped>\n",
              "    .dataframe tbody tr th:only-of-type {\n",
              "        vertical-align: middle;\n",
              "    }\n",
              "\n",
              "    .dataframe tbody tr th {\n",
              "        vertical-align: top;\n",
              "    }\n",
              "\n",
              "    .dataframe thead th {\n",
              "        text-align: right;\n",
              "    }\n",
              "</style>\n",
              "<table border=\"1\" class=\"dataframe\">\n",
              "  <thead>\n",
              "    <tr style=\"text-align: right;\">\n",
              "      <th></th>\n",
              "      <th>Model</th>\n",
              "      <th>MAE</th>\n",
              "      <th>MSE</th>\n",
              "      <th>RMSE</th>\n",
              "      <th>R2</th>\n",
              "      <th>RMSLE</th>\n",
              "      <th>MAPE</th>\n",
              "    </tr>\n",
              "  </thead>\n",
              "  <tbody>\n",
              "    <tr>\n",
              "      <th>0</th>\n",
              "      <td>Voting Regressor</td>\n",
              "      <td>65.3561</td>\n",
              "      <td>7489.2231</td>\n",
              "      <td>86.5403</td>\n",
              "      <td>0.8183</td>\n",
              "      <td>0.1046</td>\n",
              "      <td>0.0771</td>\n",
              "    </tr>\n",
              "  </tbody>\n",
              "</table>\n",
              "</div>"
            ],
            "text/plain": [
              "              Model      MAE        MSE     RMSE      R2   RMSLE    MAPE\n",
              "0  Voting Regressor  65.3561  7489.2231  86.5403  0.8183  0.1046  0.0771"
            ]
          },
          "metadata": {
            "tags": []
          }
        }
      ]
    },
    {
      "cell_type": "code",
      "metadata": {
        "id": "t_1y_Am0ICHa",
        "colab": {
          "base_uri": "https://localhost:8080/"
        },
        "outputId": "75a14eab-c951-4471-9758-a521a963e33a"
      },
      "source": [
        "pred_esb_l['Label']"
      ],
      "execution_count": null,
      "outputs": [
        {
          "output_type": "execute_result",
          "data": {
            "text/plain": [
              "0     1004.276903\n",
              "1      884.135105\n",
              "2      635.752445\n",
              "3     1287.341946\n",
              "4     1030.694455\n",
              "5     1036.677121\n",
              "6      985.950300\n",
              "7      753.865085\n",
              "8     1309.878422\n",
              "9     1085.104712\n",
              "10     751.187659\n",
              "11    1304.834032\n",
              "12    1078.321271\n",
              "13    1079.834437\n",
              "14     912.094566\n",
              "15     713.188036\n",
              "16    1263.753155\n",
              "17    1032.908757\n",
              "18     980.516663\n",
              "19     895.684862\n",
              "20     664.195613\n",
              "21    1075.411910\n",
              "22    1001.834703\n",
              "23     935.314419\n",
              "24     734.622390\n",
              "25    1273.807905\n",
              "26    1036.315953\n",
              "27     990.499065\n",
              "28     909.692321\n",
              "29     745.893690\n",
              "30    1277.469761\n",
              "31    1028.626346\n",
              "32    1066.934359\n",
              "33     915.459788\n",
              "34     679.600347\n",
              "35    1258.782510\n",
              "36     995.428154\n",
              "37     948.054724\n",
              "38     851.449793\n",
              "39     626.113387\n",
              "40    1209.007017\n",
              "41    1016.270056\n",
              "42     963.441791\n",
              "43     859.076403\n",
              "44     642.731615\n",
              "45    1232.480271\n",
              "46    1018.236433\n",
              "47     985.785363\n",
              "48     878.489347\n",
              "49     630.328064\n",
              "Name: Label, dtype: float64"
            ]
          },
          "metadata": {
            "tags": []
          },
          "execution_count": 75
        }
      ]
    },
    {
      "cell_type": "code",
      "metadata": {
        "id": "8IgMrp_JH13n"
      },
      "source": [
        "submission_esb = pd.read_csv('data/sample_submission.csv')\n",
        "submission_esb['중식계'] = pred_esb_l['Label']"
      ],
      "execution_count": null,
      "outputs": []
    },
    {
      "cell_type": "markdown",
      "metadata": {
        "id": "lZfEJxKE3jXE"
      },
      "source": [
        "## **석식 모델링**"
      ]
    },
    {
      "cell_type": "code",
      "metadata": {
        "id": "KtJ9FqQeHmjL",
        "colab": {
          "base_uri": "https://localhost:8080/",
          "height": 1000,
          "referenced_widgets": [
            "ae2672e26fa948d39025214a144d6619",
            "89071dff48ba4707a026ac2c294274e4",
            "aac3408929e54391adfa0ab853d50e46"
          ]
        },
        "outputId": "5a72d6f1-f08d-48be-9b04-ac48110bfa26"
      },
      "source": [
        "reg = setup(data=train_dinner,\n",
        "            target='석식계', \n",
        "            numeric_imputation = 'mean',\n",
        "            normalize = True,\n",
        "            silent= True)"
      ],
      "execution_count": null,
      "outputs": [
        {
          "output_type": "display_data",
          "data": {
            "text/html": [
              "<div>\n",
              "<style scoped>\n",
              "    .dataframe tbody tr th:only-of-type {\n",
              "        vertical-align: middle;\n",
              "    }\n",
              "\n",
              "    .dataframe tbody tr th {\n",
              "        vertical-align: top;\n",
              "    }\n",
              "\n",
              "    .dataframe thead th {\n",
              "        text-align: right;\n",
              "    }\n",
              "</style>\n",
              "<table border=\"1\" class=\"dataframe\">\n",
              "  <thead>\n",
              "    <tr style=\"text-align: right;\">\n",
              "      <th></th>\n",
              "      <th>Description</th>\n",
              "      <th>Value</th>\n",
              "    </tr>\n",
              "  </thead>\n",
              "  <tbody>\n",
              "    <tr>\n",
              "      <th>0</th>\n",
              "      <td>session_id</td>\n",
              "      <td>8738</td>\n",
              "    </tr>\n",
              "    <tr>\n",
              "      <th>1</th>\n",
              "      <td>Target</td>\n",
              "      <td>석식계</td>\n",
              "    </tr>\n",
              "    <tr>\n",
              "      <th>2</th>\n",
              "      <td>Original Data</td>\n",
              "      <td>(1205, 51)</td>\n",
              "    </tr>\n",
              "    <tr>\n",
              "      <th>3</th>\n",
              "      <td>Missing Values</td>\n",
              "      <td>True</td>\n",
              "    </tr>\n",
              "    <tr>\n",
              "      <th>4</th>\n",
              "      <td>Numeric Features</td>\n",
              "      <td>44</td>\n",
              "    </tr>\n",
              "    <tr>\n",
              "      <th>5</th>\n",
              "      <td>Categorical Features</td>\n",
              "      <td>6</td>\n",
              "    </tr>\n",
              "    <tr>\n",
              "      <th>6</th>\n",
              "      <td>Ordinal Features</td>\n",
              "      <td>False</td>\n",
              "    </tr>\n",
              "    <tr>\n",
              "      <th>7</th>\n",
              "      <td>High Cardinality Features</td>\n",
              "      <td>False</td>\n",
              "    </tr>\n",
              "    <tr>\n",
              "      <th>8</th>\n",
              "      <td>High Cardinality Method</td>\n",
              "      <td>None</td>\n",
              "    </tr>\n",
              "    <tr>\n",
              "      <th>9</th>\n",
              "      <td>Transformed Train Set</td>\n",
              "      <td>(843, 68)</td>\n",
              "    </tr>\n",
              "    <tr>\n",
              "      <th>10</th>\n",
              "      <td>Transformed Test Set</td>\n",
              "      <td>(362, 68)</td>\n",
              "    </tr>\n",
              "    <tr>\n",
              "      <th>11</th>\n",
              "      <td>Shuffle Train-Test</td>\n",
              "      <td>True</td>\n",
              "    </tr>\n",
              "    <tr>\n",
              "      <th>12</th>\n",
              "      <td>Stratify Train-Test</td>\n",
              "      <td>False</td>\n",
              "    </tr>\n",
              "    <tr>\n",
              "      <th>13</th>\n",
              "      <td>Fold Generator</td>\n",
              "      <td>KFold</td>\n",
              "    </tr>\n",
              "    <tr>\n",
              "      <th>14</th>\n",
              "      <td>Fold Number</td>\n",
              "      <td>10</td>\n",
              "    </tr>\n",
              "    <tr>\n",
              "      <th>15</th>\n",
              "      <td>CPU Jobs</td>\n",
              "      <td>-1</td>\n",
              "    </tr>\n",
              "    <tr>\n",
              "      <th>16</th>\n",
              "      <td>Use GPU</td>\n",
              "      <td>False</td>\n",
              "    </tr>\n",
              "    <tr>\n",
              "      <th>17</th>\n",
              "      <td>Log Experiment</td>\n",
              "      <td>False</td>\n",
              "    </tr>\n",
              "    <tr>\n",
              "      <th>18</th>\n",
              "      <td>Experiment Name</td>\n",
              "      <td>reg-default-name</td>\n",
              "    </tr>\n",
              "    <tr>\n",
              "      <th>19</th>\n",
              "      <td>USI</td>\n",
              "      <td>eddc</td>\n",
              "    </tr>\n",
              "    <tr>\n",
              "      <th>20</th>\n",
              "      <td>Imputation Type</td>\n",
              "      <td>simple</td>\n",
              "    </tr>\n",
              "    <tr>\n",
              "      <th>21</th>\n",
              "      <td>Iterative Imputation Iteration</td>\n",
              "      <td>None</td>\n",
              "    </tr>\n",
              "    <tr>\n",
              "      <th>22</th>\n",
              "      <td>Numeric Imputer</td>\n",
              "      <td>mean</td>\n",
              "    </tr>\n",
              "    <tr>\n",
              "      <th>23</th>\n",
              "      <td>Iterative Imputation Numeric Model</td>\n",
              "      <td>None</td>\n",
              "    </tr>\n",
              "    <tr>\n",
              "      <th>24</th>\n",
              "      <td>Categorical Imputer</td>\n",
              "      <td>constant</td>\n",
              "    </tr>\n",
              "    <tr>\n",
              "      <th>25</th>\n",
              "      <td>Iterative Imputation Categorical Model</td>\n",
              "      <td>None</td>\n",
              "    </tr>\n",
              "    <tr>\n",
              "      <th>26</th>\n",
              "      <td>Unknown Categoricals Handling</td>\n",
              "      <td>least_frequent</td>\n",
              "    </tr>\n",
              "    <tr>\n",
              "      <th>27</th>\n",
              "      <td>Normalize</td>\n",
              "      <td>True</td>\n",
              "    </tr>\n",
              "    <tr>\n",
              "      <th>28</th>\n",
              "      <td>Normalize Method</td>\n",
              "      <td>zscore</td>\n",
              "    </tr>\n",
              "    <tr>\n",
              "      <th>29</th>\n",
              "      <td>Transformation</td>\n",
              "      <td>False</td>\n",
              "    </tr>\n",
              "    <tr>\n",
              "      <th>30</th>\n",
              "      <td>Transformation Method</td>\n",
              "      <td>None</td>\n",
              "    </tr>\n",
              "    <tr>\n",
              "      <th>31</th>\n",
              "      <td>PCA</td>\n",
              "      <td>False</td>\n",
              "    </tr>\n",
              "    <tr>\n",
              "      <th>32</th>\n",
              "      <td>PCA Method</td>\n",
              "      <td>None</td>\n",
              "    </tr>\n",
              "    <tr>\n",
              "      <th>33</th>\n",
              "      <td>PCA Components</td>\n",
              "      <td>None</td>\n",
              "    </tr>\n",
              "    <tr>\n",
              "      <th>34</th>\n",
              "      <td>Ignore Low Variance</td>\n",
              "      <td>False</td>\n",
              "    </tr>\n",
              "    <tr>\n",
              "      <th>35</th>\n",
              "      <td>Combine Rare Levels</td>\n",
              "      <td>False</td>\n",
              "    </tr>\n",
              "    <tr>\n",
              "      <th>36</th>\n",
              "      <td>Rare Level Threshold</td>\n",
              "      <td>None</td>\n",
              "    </tr>\n",
              "    <tr>\n",
              "      <th>37</th>\n",
              "      <td>Numeric Binning</td>\n",
              "      <td>False</td>\n",
              "    </tr>\n",
              "    <tr>\n",
              "      <th>38</th>\n",
              "      <td>Remove Outliers</td>\n",
              "      <td>False</td>\n",
              "    </tr>\n",
              "    <tr>\n",
              "      <th>39</th>\n",
              "      <td>Outliers Threshold</td>\n",
              "      <td>None</td>\n",
              "    </tr>\n",
              "    <tr>\n",
              "      <th>40</th>\n",
              "      <td>Remove Multicollinearity</td>\n",
              "      <td>False</td>\n",
              "    </tr>\n",
              "    <tr>\n",
              "      <th>41</th>\n",
              "      <td>Multicollinearity Threshold</td>\n",
              "      <td>None</td>\n",
              "    </tr>\n",
              "    <tr>\n",
              "      <th>42</th>\n",
              "      <td>Clustering</td>\n",
              "      <td>False</td>\n",
              "    </tr>\n",
              "    <tr>\n",
              "      <th>43</th>\n",
              "      <td>Clustering Iteration</td>\n",
              "      <td>None</td>\n",
              "    </tr>\n",
              "    <tr>\n",
              "      <th>44</th>\n",
              "      <td>Polynomial Features</td>\n",
              "      <td>False</td>\n",
              "    </tr>\n",
              "    <tr>\n",
              "      <th>45</th>\n",
              "      <td>Polynomial Degree</td>\n",
              "      <td>None</td>\n",
              "    </tr>\n",
              "    <tr>\n",
              "      <th>46</th>\n",
              "      <td>Trignometry Features</td>\n",
              "      <td>False</td>\n",
              "    </tr>\n",
              "    <tr>\n",
              "      <th>47</th>\n",
              "      <td>Polynomial Threshold</td>\n",
              "      <td>None</td>\n",
              "    </tr>\n",
              "    <tr>\n",
              "      <th>48</th>\n",
              "      <td>Group Features</td>\n",
              "      <td>False</td>\n",
              "    </tr>\n",
              "    <tr>\n",
              "      <th>49</th>\n",
              "      <td>Feature Selection</td>\n",
              "      <td>False</td>\n",
              "    </tr>\n",
              "    <tr>\n",
              "      <th>50</th>\n",
              "      <td>Feature Selection Method</td>\n",
              "      <td>classic</td>\n",
              "    </tr>\n",
              "    <tr>\n",
              "      <th>51</th>\n",
              "      <td>Features Selection Threshold</td>\n",
              "      <td>None</td>\n",
              "    </tr>\n",
              "    <tr>\n",
              "      <th>52</th>\n",
              "      <td>Feature Interaction</td>\n",
              "      <td>False</td>\n",
              "    </tr>\n",
              "    <tr>\n",
              "      <th>53</th>\n",
              "      <td>Feature Ratio</td>\n",
              "      <td>False</td>\n",
              "    </tr>\n",
              "    <tr>\n",
              "      <th>54</th>\n",
              "      <td>Interaction Threshold</td>\n",
              "      <td>None</td>\n",
              "    </tr>\n",
              "    <tr>\n",
              "      <th>55</th>\n",
              "      <td>Transform Target</td>\n",
              "      <td>False</td>\n",
              "    </tr>\n",
              "    <tr>\n",
              "      <th>56</th>\n",
              "      <td>Transform Target Method</td>\n",
              "      <td>box-cox</td>\n",
              "    </tr>\n",
              "  </tbody>\n",
              "</table>\n",
              "</div>"
            ],
            "text/plain": [
              "                               Description             Value\n",
              "0                               session_id              8738\n",
              "1                                   Target               석식계\n",
              "2                            Original Data        (1205, 51)\n",
              "3                           Missing Values              True\n",
              "4                         Numeric Features                44\n",
              "5                     Categorical Features                 6\n",
              "6                         Ordinal Features             False\n",
              "7                High Cardinality Features             False\n",
              "8                  High Cardinality Method              None\n",
              "9                    Transformed Train Set         (843, 68)\n",
              "10                    Transformed Test Set         (362, 68)\n",
              "11                      Shuffle Train-Test              True\n",
              "12                     Stratify Train-Test             False\n",
              "13                          Fold Generator             KFold\n",
              "14                             Fold Number                10\n",
              "15                                CPU Jobs                -1\n",
              "16                                 Use GPU             False\n",
              "17                          Log Experiment             False\n",
              "18                         Experiment Name  reg-default-name\n",
              "19                                     USI              eddc\n",
              "20                         Imputation Type            simple\n",
              "21          Iterative Imputation Iteration              None\n",
              "22                         Numeric Imputer              mean\n",
              "23      Iterative Imputation Numeric Model              None\n",
              "24                     Categorical Imputer          constant\n",
              "25  Iterative Imputation Categorical Model              None\n",
              "26           Unknown Categoricals Handling    least_frequent\n",
              "27                               Normalize              True\n",
              "28                        Normalize Method            zscore\n",
              "29                          Transformation             False\n",
              "30                   Transformation Method              None\n",
              "31                                     PCA             False\n",
              "32                              PCA Method              None\n",
              "33                          PCA Components              None\n",
              "34                     Ignore Low Variance             False\n",
              "35                     Combine Rare Levels             False\n",
              "36                    Rare Level Threshold              None\n",
              "37                         Numeric Binning             False\n",
              "38                         Remove Outliers             False\n",
              "39                      Outliers Threshold              None\n",
              "40                Remove Multicollinearity             False\n",
              "41             Multicollinearity Threshold              None\n",
              "42                              Clustering             False\n",
              "43                    Clustering Iteration              None\n",
              "44                     Polynomial Features             False\n",
              "45                       Polynomial Degree              None\n",
              "46                    Trignometry Features             False\n",
              "47                    Polynomial Threshold              None\n",
              "48                          Group Features             False\n",
              "49                       Feature Selection             False\n",
              "50                Feature Selection Method           classic\n",
              "51            Features Selection Threshold              None\n",
              "52                     Feature Interaction             False\n",
              "53                           Feature Ratio             False\n",
              "54                   Interaction Threshold              None\n",
              "55                        Transform Target             False\n",
              "56                 Transform Target Method           box-cox"
            ]
          },
          "metadata": {
            "tags": []
          }
        }
      ]
    },
    {
      "cell_type": "code",
      "metadata": {
        "id": "kJ8eorUIIF8R",
        "colab": {
          "base_uri": "https://localhost:8080/",
          "height": 570,
          "referenced_widgets": [
            "6e79cf9a2f094c8cab7a7bce2632c959",
            "d20dd2d0b74e429d86ba8c1346125876",
            "633cd5a8f2f844fda7285407e71055af"
          ]
        },
        "outputId": "1800e428-3c08-48a7-a5b4-b12866ff7418"
      },
      "source": [
        "best_5_d = compare_models(sort = 'MAE', n_select = 5)"
      ],
      "execution_count": null,
      "outputs": [
        {
          "output_type": "display_data",
          "data": {
            "text/html": [
              "<div>\n",
              "<style scoped>\n",
              "    .dataframe tbody tr th:only-of-type {\n",
              "        vertical-align: middle;\n",
              "    }\n",
              "\n",
              "    .dataframe tbody tr th {\n",
              "        vertical-align: top;\n",
              "    }\n",
              "\n",
              "    .dataframe thead th {\n",
              "        text-align: right;\n",
              "    }\n",
              "</style>\n",
              "<table border=\"1\" class=\"dataframe\">\n",
              "  <thead>\n",
              "    <tr style=\"text-align: right;\">\n",
              "      <th></th>\n",
              "      <th>Model</th>\n",
              "      <th>MAE</th>\n",
              "      <th>MSE</th>\n",
              "      <th>RMSE</th>\n",
              "      <th>R2</th>\n",
              "      <th>RMSLE</th>\n",
              "      <th>MAPE</th>\n",
              "      <th>TT (Sec)</th>\n",
              "    </tr>\n",
              "  </thead>\n",
              "  <tbody>\n",
              "    <tr>\n",
              "      <th>catboost</th>\n",
              "      <td>CatBoost Regressor</td>\n",
              "      <td>46.9567</td>\n",
              "      <td>4472.5444</td>\n",
              "      <td>66.1229</td>\n",
              "      <td>0.7838</td>\n",
              "      <td>0.6809</td>\n",
              "      <td>0.1104</td>\n",
              "      <td>4.633</td>\n",
              "    </tr>\n",
              "    <tr>\n",
              "      <th>gbr</th>\n",
              "      <td>Gradient Boosting Regressor</td>\n",
              "      <td>48.0411</td>\n",
              "      <td>4581.8141</td>\n",
              "      <td>66.9545</td>\n",
              "      <td>0.7782</td>\n",
              "      <td>0.7023</td>\n",
              "      <td>0.1126</td>\n",
              "      <td>0.259</td>\n",
              "    </tr>\n",
              "    <tr>\n",
              "      <th>rf</th>\n",
              "      <td>Random Forest Regressor</td>\n",
              "      <td>48.4957</td>\n",
              "      <td>4886.2868</td>\n",
              "      <td>68.9103</td>\n",
              "      <td>0.7646</td>\n",
              "      <td>0.4974</td>\n",
              "      <td>0.1167</td>\n",
              "      <td>1.053</td>\n",
              "    </tr>\n",
              "    <tr>\n",
              "      <th>lightgbm</th>\n",
              "      <td>Light Gradient Boosting Machine</td>\n",
              "      <td>49.1617</td>\n",
              "      <td>4830.7063</td>\n",
              "      <td>68.6447</td>\n",
              "      <td>0.7667</td>\n",
              "      <td>0.5805</td>\n",
              "      <td>0.1166</td>\n",
              "      <td>0.152</td>\n",
              "    </tr>\n",
              "    <tr>\n",
              "      <th>et</th>\n",
              "      <td>Extra Trees Regressor</td>\n",
              "      <td>49.2552</td>\n",
              "      <td>5332.1483</td>\n",
              "      <td>72.2040</td>\n",
              "      <td>0.7444</td>\n",
              "      <td>0.4161</td>\n",
              "      <td>0.1165</td>\n",
              "      <td>0.832</td>\n",
              "    </tr>\n",
              "    <tr>\n",
              "      <th>huber</th>\n",
              "      <td>Huber Regressor</td>\n",
              "      <td>50.3191</td>\n",
              "      <td>5619.3968</td>\n",
              "      <td>73.7810</td>\n",
              "      <td>0.7290</td>\n",
              "      <td>0.7557</td>\n",
              "      <td>0.1216</td>\n",
              "      <td>0.071</td>\n",
              "    </tr>\n",
              "    <tr>\n",
              "      <th>ridge</th>\n",
              "      <td>Ridge Regression</td>\n",
              "      <td>50.8814</td>\n",
              "      <td>5257.4237</td>\n",
              "      <td>71.6563</td>\n",
              "      <td>0.7469</td>\n",
              "      <td>0.8334</td>\n",
              "      <td>0.1180</td>\n",
              "      <td>0.016</td>\n",
              "    </tr>\n",
              "    <tr>\n",
              "      <th>br</th>\n",
              "      <td>Bayesian Ridge</td>\n",
              "      <td>50.9553</td>\n",
              "      <td>5275.4598</td>\n",
              "      <td>71.7667</td>\n",
              "      <td>0.7460</td>\n",
              "      <td>0.8336</td>\n",
              "      <td>0.1182</td>\n",
              "      <td>0.022</td>\n",
              "    </tr>\n",
              "    <tr>\n",
              "      <th>lr</th>\n",
              "      <td>Linear Regression</td>\n",
              "      <td>51.5749</td>\n",
              "      <td>5745.5067</td>\n",
              "      <td>74.7329</td>\n",
              "      <td>0.7223</td>\n",
              "      <td>0.8029</td>\n",
              "      <td>0.1230</td>\n",
              "      <td>0.017</td>\n",
              "    </tr>\n",
              "    <tr>\n",
              "      <th>lasso</th>\n",
              "      <td>Lasso Regression</td>\n",
              "      <td>52.2015</td>\n",
              "      <td>5384.7022</td>\n",
              "      <td>72.5837</td>\n",
              "      <td>0.7408</td>\n",
              "      <td>0.8393</td>\n",
              "      <td>0.1223</td>\n",
              "      <td>0.027</td>\n",
              "    </tr>\n",
              "    <tr>\n",
              "      <th>par</th>\n",
              "      <td>Passive Aggressive Regressor</td>\n",
              "      <td>58.5284</td>\n",
              "      <td>6632.6325</td>\n",
              "      <td>80.4456</td>\n",
              "      <td>0.6797</td>\n",
              "      <td>0.7644</td>\n",
              "      <td>0.1359</td>\n",
              "      <td>0.022</td>\n",
              "    </tr>\n",
              "    <tr>\n",
              "      <th>omp</th>\n",
              "      <td>Orthogonal Matching Pursuit</td>\n",
              "      <td>58.5606</td>\n",
              "      <td>6405.5177</td>\n",
              "      <td>79.3297</td>\n",
              "      <td>0.6924</td>\n",
              "      <td>0.7846</td>\n",
              "      <td>0.1382</td>\n",
              "      <td>0.016</td>\n",
              "    </tr>\n",
              "    <tr>\n",
              "      <th>ada</th>\n",
              "      <td>AdaBoost Regressor</td>\n",
              "      <td>62.4979</td>\n",
              "      <td>6904.2965</td>\n",
              "      <td>82.7382</td>\n",
              "      <td>0.6660</td>\n",
              "      <td>0.9385</td>\n",
              "      <td>0.1433</td>\n",
              "      <td>0.182</td>\n",
              "    </tr>\n",
              "    <tr>\n",
              "      <th>dt</th>\n",
              "      <td>Decision Tree Regressor</td>\n",
              "      <td>68.8722</td>\n",
              "      <td>9964.1824</td>\n",
              "      <td>98.9517</td>\n",
              "      <td>0.5139</td>\n",
              "      <td>0.5055</td>\n",
              "      <td>0.1632</td>\n",
              "      <td>0.028</td>\n",
              "    </tr>\n",
              "    <tr>\n",
              "      <th>knn</th>\n",
              "      <td>K Neighbors Regressor</td>\n",
              "      <td>73.5083</td>\n",
              "      <td>10202.7057</td>\n",
              "      <td>99.9946</td>\n",
              "      <td>0.5091</td>\n",
              "      <td>0.4282</td>\n",
              "      <td>0.1820</td>\n",
              "      <td>0.067</td>\n",
              "    </tr>\n",
              "    <tr>\n",
              "      <th>llar</th>\n",
              "      <td>Lasso Least Angle Regression</td>\n",
              "      <td>73.7330</td>\n",
              "      <td>9318.1781</td>\n",
              "      <td>96.1334</td>\n",
              "      <td>0.5504</td>\n",
              "      <td>1.0400</td>\n",
              "      <td>0.1739</td>\n",
              "      <td>0.270</td>\n",
              "    </tr>\n",
              "    <tr>\n",
              "      <th>en</th>\n",
              "      <td>Elastic Net</td>\n",
              "      <td>73.8111</td>\n",
              "      <td>11509.6761</td>\n",
              "      <td>107.0139</td>\n",
              "      <td>0.4463</td>\n",
              "      <td>1.1767</td>\n",
              "      <td>0.1484</td>\n",
              "      <td>0.018</td>\n",
              "    </tr>\n",
              "  </tbody>\n",
              "</table>\n",
              "</div>"
            ],
            "text/plain": [
              "                                    Model      MAE         MSE      RMSE  \\\n",
              "catboost               CatBoost Regressor  46.9567   4472.5444   66.1229   \n",
              "gbr           Gradient Boosting Regressor  48.0411   4581.8141   66.9545   \n",
              "rf                Random Forest Regressor  48.4957   4886.2868   68.9103   \n",
              "lightgbm  Light Gradient Boosting Machine  49.1617   4830.7063   68.6447   \n",
              "et                  Extra Trees Regressor  49.2552   5332.1483   72.2040   \n",
              "huber                     Huber Regressor  50.3191   5619.3968   73.7810   \n",
              "ridge                    Ridge Regression  50.8814   5257.4237   71.6563   \n",
              "br                         Bayesian Ridge  50.9553   5275.4598   71.7667   \n",
              "lr                      Linear Regression  51.5749   5745.5067   74.7329   \n",
              "lasso                    Lasso Regression  52.2015   5384.7022   72.5837   \n",
              "par          Passive Aggressive Regressor  58.5284   6632.6325   80.4456   \n",
              "omp           Orthogonal Matching Pursuit  58.5606   6405.5177   79.3297   \n",
              "ada                    AdaBoost Regressor  62.4979   6904.2965   82.7382   \n",
              "dt                Decision Tree Regressor  68.8722   9964.1824   98.9517   \n",
              "knn                 K Neighbors Regressor  73.5083  10202.7057   99.9946   \n",
              "llar         Lasso Least Angle Regression  73.7330   9318.1781   96.1334   \n",
              "en                            Elastic Net  73.8111  11509.6761  107.0139   \n",
              "\n",
              "              R2   RMSLE    MAPE  TT (Sec)  \n",
              "catboost  0.7838  0.6809  0.1104     4.633  \n",
              "gbr       0.7782  0.7023  0.1126     0.259  \n",
              "rf        0.7646  0.4974  0.1167     1.053  \n",
              "lightgbm  0.7667  0.5805  0.1166     0.152  \n",
              "et        0.7444  0.4161  0.1165     0.832  \n",
              "huber     0.7290  0.7557  0.1216     0.071  \n",
              "ridge     0.7469  0.8334  0.1180     0.016  \n",
              "br        0.7460  0.8336  0.1182     0.022  \n",
              "lr        0.7223  0.8029  0.1230     0.017  \n",
              "lasso     0.7408  0.8393  0.1223     0.027  \n",
              "par       0.6797  0.7644  0.1359     0.022  \n",
              "omp       0.6924  0.7846  0.1382     0.016  \n",
              "ada       0.6660  0.9385  0.1433     0.182  \n",
              "dt        0.5139  0.5055  0.1632     0.028  \n",
              "knn       0.5091  0.4282  0.1820     0.067  \n",
              "llar      0.5504  1.0400  0.1739     0.270  \n",
              "en        0.4463  1.1767  0.1484     0.018  "
            ]
          },
          "metadata": {
            "tags": []
          }
        }
      ]
    },
    {
      "cell_type": "markdown",
      "metadata": {
        "id": "o792tShV4fkX"
      },
      "source": [
        "### 앙상블 모델"
      ]
    },
    {
      "cell_type": "code",
      "metadata": {
        "id": "Y1ifzzKbIF3d",
        "colab": {
          "base_uri": "https://localhost:8080/",
          "height": 325,
          "referenced_widgets": [
            "6d2830dad35b4a7885cd3514488aac9d",
            "65570f4f6f7642c495c22edeaff9ce7d",
            "d88c230d750f4ab697b4a120ac73879b"
          ]
        },
        "outputId": "1e1ff53d-f65d-439b-d3b3-47102ca63c06"
      },
      "source": [
        "blended_d = blend_models(estimator_list = best_5_d, fold = 5, optimize = 'MAE')\n",
        "pred_holdout = predict_model(blended_d)\n",
        "final_model_d = finalize_model(blended_d)\n",
        "pred_esb_d = predict_model(final_model_d, test_dinner)"
      ],
      "execution_count": null,
      "outputs": [
        {
          "output_type": "display_data",
          "data": {
            "text/html": [
              "<div>\n",
              "<style scoped>\n",
              "    .dataframe tbody tr th:only-of-type {\n",
              "        vertical-align: middle;\n",
              "    }\n",
              "\n",
              "    .dataframe tbody tr th {\n",
              "        vertical-align: top;\n",
              "    }\n",
              "\n",
              "    .dataframe thead th {\n",
              "        text-align: right;\n",
              "    }\n",
              "</style>\n",
              "<table border=\"1\" class=\"dataframe\">\n",
              "  <thead>\n",
              "    <tr style=\"text-align: right;\">\n",
              "      <th></th>\n",
              "      <th>MAE</th>\n",
              "      <th>MSE</th>\n",
              "      <th>RMSE</th>\n",
              "      <th>R2</th>\n",
              "      <th>RMSLE</th>\n",
              "      <th>MAPE</th>\n",
              "    </tr>\n",
              "  </thead>\n",
              "  <tbody>\n",
              "    <tr>\n",
              "      <th>0</th>\n",
              "      <td>44.3648</td>\n",
              "      <td>4879.7042</td>\n",
              "      <td>69.8549</td>\n",
              "      <td>0.7953</td>\n",
              "      <td>0.8071</td>\n",
              "      <td>0.1012</td>\n",
              "    </tr>\n",
              "    <tr>\n",
              "      <th>1</th>\n",
              "      <td>40.6899</td>\n",
              "      <td>3712.7585</td>\n",
              "      <td>60.9324</td>\n",
              "      <td>0.7978</td>\n",
              "      <td>0.3851</td>\n",
              "      <td>0.0985</td>\n",
              "    </tr>\n",
              "    <tr>\n",
              "      <th>2</th>\n",
              "      <td>49.9478</td>\n",
              "      <td>5029.3726</td>\n",
              "      <td>70.9181</td>\n",
              "      <td>0.7537</td>\n",
              "      <td>0.6405</td>\n",
              "      <td>0.1157</td>\n",
              "    </tr>\n",
              "    <tr>\n",
              "      <th>3</th>\n",
              "      <td>49.2257</td>\n",
              "      <td>4566.9783</td>\n",
              "      <td>67.5794</td>\n",
              "      <td>0.7734</td>\n",
              "      <td>0.5641</td>\n",
              "      <td>0.1207</td>\n",
              "    </tr>\n",
              "    <tr>\n",
              "      <th>4</th>\n",
              "      <td>46.5838</td>\n",
              "      <td>3945.7369</td>\n",
              "      <td>62.8151</td>\n",
              "      <td>0.8148</td>\n",
              "      <td>0.6743</td>\n",
              "      <td>0.1141</td>\n",
              "    </tr>\n",
              "    <tr>\n",
              "      <th>Mean</th>\n",
              "      <td>46.1624</td>\n",
              "      <td>4426.9101</td>\n",
              "      <td>66.4200</td>\n",
              "      <td>0.7870</td>\n",
              "      <td>0.6142</td>\n",
              "      <td>0.1100</td>\n",
              "    </tr>\n",
              "    <tr>\n",
              "      <th>SD</th>\n",
              "      <td>3.3785</td>\n",
              "      <td>515.5856</td>\n",
              "      <td>3.9111</td>\n",
              "      <td>0.0212</td>\n",
              "      <td>0.1390</td>\n",
              "      <td>0.0086</td>\n",
              "    </tr>\n",
              "  </tbody>\n",
              "</table>\n",
              "</div>"
            ],
            "text/plain": [
              "          MAE        MSE     RMSE      R2   RMSLE    MAPE\n",
              "0     44.3648  4879.7042  69.8549  0.7953  0.8071  0.1012\n",
              "1     40.6899  3712.7585  60.9324  0.7978  0.3851  0.0985\n",
              "2     49.9478  5029.3726  70.9181  0.7537  0.6405  0.1157\n",
              "3     49.2257  4566.9783  67.5794  0.7734  0.5641  0.1207\n",
              "4     46.5838  3945.7369  62.8151  0.8148  0.6743  0.1141\n",
              "Mean  46.1624  4426.9101  66.4200  0.7870  0.6142  0.1100\n",
              "SD     3.3785   515.5856   3.9111  0.0212  0.1390  0.0086"
            ]
          },
          "metadata": {
            "tags": []
          }
        },
        {
          "output_type": "display_data",
          "data": {
            "text/html": [
              "<div>\n",
              "<style scoped>\n",
              "    .dataframe tbody tr th:only-of-type {\n",
              "        vertical-align: middle;\n",
              "    }\n",
              "\n",
              "    .dataframe tbody tr th {\n",
              "        vertical-align: top;\n",
              "    }\n",
              "\n",
              "    .dataframe thead th {\n",
              "        text-align: right;\n",
              "    }\n",
              "</style>\n",
              "<table border=\"1\" class=\"dataframe\">\n",
              "  <thead>\n",
              "    <tr style=\"text-align: right;\">\n",
              "      <th></th>\n",
              "      <th>Model</th>\n",
              "      <th>MAE</th>\n",
              "      <th>MSE</th>\n",
              "      <th>RMSE</th>\n",
              "      <th>R2</th>\n",
              "      <th>RMSLE</th>\n",
              "      <th>MAPE</th>\n",
              "    </tr>\n",
              "  </thead>\n",
              "  <tbody>\n",
              "    <tr>\n",
              "      <th>0</th>\n",
              "      <td>Voting Regressor</td>\n",
              "      <td>43.7736</td>\n",
              "      <td>3477.1082</td>\n",
              "      <td>58.967</td>\n",
              "      <td>0.7764</td>\n",
              "      <td>0.3983</td>\n",
              "      <td>0.1012</td>\n",
              "    </tr>\n",
              "  </tbody>\n",
              "</table>\n",
              "</div>"
            ],
            "text/plain": [
              "              Model      MAE        MSE    RMSE      R2   RMSLE    MAPE\n",
              "0  Voting Regressor  43.7736  3477.1082  58.967  0.7764  0.3983  0.1012"
            ]
          },
          "metadata": {
            "tags": []
          }
        }
      ]
    },
    {
      "cell_type": "code",
      "metadata": {
        "id": "maUlL_Dca3Qx"
      },
      "source": [
        "pred_esb_d = predict_model(final_model_d, test_dinner)"
      ],
      "execution_count": null,
      "outputs": []
    },
    {
      "cell_type": "code",
      "metadata": {
        "id": "StAqyP5rIFzy",
        "colab": {
          "base_uri": "https://localhost:8080/",
          "height": 1000
        },
        "outputId": "0a6ab7e8-7f24-41ad-ae91-e18bf7ab30cc"
      },
      "source": [
        "submission_esb['석식계'] = pred_esb_d['Label']\n",
        "submission_esb"
      ],
      "execution_count": null,
      "outputs": [
        {
          "output_type": "execute_result",
          "data": {
            "text/html": [
              "<div>\n",
              "<style scoped>\n",
              "    .dataframe tbody tr th:only-of-type {\n",
              "        vertical-align: middle;\n",
              "    }\n",
              "\n",
              "    .dataframe tbody tr th {\n",
              "        vertical-align: top;\n",
              "    }\n",
              "\n",
              "    .dataframe thead th {\n",
              "        text-align: right;\n",
              "    }\n",
              "</style>\n",
              "<table border=\"1\" class=\"dataframe\">\n",
              "  <thead>\n",
              "    <tr style=\"text-align: right;\">\n",
              "      <th></th>\n",
              "      <th>일자</th>\n",
              "      <th>중식계</th>\n",
              "      <th>석식계</th>\n",
              "    </tr>\n",
              "  </thead>\n",
              "  <tbody>\n",
              "    <tr>\n",
              "      <th>0</th>\n",
              "      <td>2021-01-27</td>\n",
              "      <td>1004.276903</td>\n",
              "      <td>376.426586</td>\n",
              "    </tr>\n",
              "    <tr>\n",
              "      <th>1</th>\n",
              "      <td>2021-01-28</td>\n",
              "      <td>884.135105</td>\n",
              "      <td>452.295420</td>\n",
              "    </tr>\n",
              "    <tr>\n",
              "      <th>2</th>\n",
              "      <td>2021-01-29</td>\n",
              "      <td>635.752445</td>\n",
              "      <td>242.125433</td>\n",
              "    </tr>\n",
              "    <tr>\n",
              "      <th>3</th>\n",
              "      <td>2021-02-01</td>\n",
              "      <td>1287.341946</td>\n",
              "      <td>534.180582</td>\n",
              "    </tr>\n",
              "    <tr>\n",
              "      <th>4</th>\n",
              "      <td>2021-02-02</td>\n",
              "      <td>1030.694455</td>\n",
              "      <td>474.103891</td>\n",
              "    </tr>\n",
              "    <tr>\n",
              "      <th>5</th>\n",
              "      <td>2021-02-03</td>\n",
              "      <td>1036.677121</td>\n",
              "      <td>10.437976</td>\n",
              "    </tr>\n",
              "    <tr>\n",
              "      <th>6</th>\n",
              "      <td>2021-02-04</td>\n",
              "      <td>985.950300</td>\n",
              "      <td>451.439057</td>\n",
              "    </tr>\n",
              "    <tr>\n",
              "      <th>7</th>\n",
              "      <td>2021-02-05</td>\n",
              "      <td>753.865085</td>\n",
              "      <td>425.490090</td>\n",
              "    </tr>\n",
              "    <tr>\n",
              "      <th>8</th>\n",
              "      <td>2021-02-08</td>\n",
              "      <td>1309.878422</td>\n",
              "      <td>598.785936</td>\n",
              "    </tr>\n",
              "    <tr>\n",
              "      <th>9</th>\n",
              "      <td>2021-02-09</td>\n",
              "      <td>1085.104712</td>\n",
              "      <td>513.535161</td>\n",
              "    </tr>\n",
              "    <tr>\n",
              "      <th>10</th>\n",
              "      <td>2021-02-10</td>\n",
              "      <td>751.187659</td>\n",
              "      <td>169.860182</td>\n",
              "    </tr>\n",
              "    <tr>\n",
              "      <th>11</th>\n",
              "      <td>2021-02-15</td>\n",
              "      <td>1304.834032</td>\n",
              "      <td>657.705771</td>\n",
              "    </tr>\n",
              "    <tr>\n",
              "      <th>12</th>\n",
              "      <td>2021-02-16</td>\n",
              "      <td>1078.321271</td>\n",
              "      <td>635.529687</td>\n",
              "    </tr>\n",
              "    <tr>\n",
              "      <th>13</th>\n",
              "      <td>2021-02-17</td>\n",
              "      <td>1079.834437</td>\n",
              "      <td>420.288897</td>\n",
              "    </tr>\n",
              "    <tr>\n",
              "      <th>14</th>\n",
              "      <td>2021-02-18</td>\n",
              "      <td>912.094566</td>\n",
              "      <td>499.739400</td>\n",
              "    </tr>\n",
              "    <tr>\n",
              "      <th>15</th>\n",
              "      <td>2021-02-19</td>\n",
              "      <td>713.188036</td>\n",
              "      <td>403.278847</td>\n",
              "    </tr>\n",
              "    <tr>\n",
              "      <th>16</th>\n",
              "      <td>2021-02-22</td>\n",
              "      <td>1263.753155</td>\n",
              "      <td>656.853037</td>\n",
              "    </tr>\n",
              "    <tr>\n",
              "      <th>17</th>\n",
              "      <td>2021-02-23</td>\n",
              "      <td>1032.908757</td>\n",
              "      <td>624.057873</td>\n",
              "    </tr>\n",
              "    <tr>\n",
              "      <th>18</th>\n",
              "      <td>2021-02-24</td>\n",
              "      <td>980.516663</td>\n",
              "      <td>444.996593</td>\n",
              "    </tr>\n",
              "    <tr>\n",
              "      <th>19</th>\n",
              "      <td>2021-02-25</td>\n",
              "      <td>895.684862</td>\n",
              "      <td>478.599305</td>\n",
              "    </tr>\n",
              "    <tr>\n",
              "      <th>20</th>\n",
              "      <td>2021-02-26</td>\n",
              "      <td>664.195613</td>\n",
              "      <td>286.452514</td>\n",
              "    </tr>\n",
              "    <tr>\n",
              "      <th>21</th>\n",
              "      <td>2021-03-02</td>\n",
              "      <td>1075.411910</td>\n",
              "      <td>647.961423</td>\n",
              "    </tr>\n",
              "    <tr>\n",
              "      <th>22</th>\n",
              "      <td>2021-03-03</td>\n",
              "      <td>1001.834703</td>\n",
              "      <td>478.690741</td>\n",
              "    </tr>\n",
              "    <tr>\n",
              "      <th>23</th>\n",
              "      <td>2021-03-04</td>\n",
              "      <td>935.314419</td>\n",
              "      <td>555.277329</td>\n",
              "    </tr>\n",
              "    <tr>\n",
              "      <th>24</th>\n",
              "      <td>2021-03-05</td>\n",
              "      <td>734.622390</td>\n",
              "      <td>439.179976</td>\n",
              "    </tr>\n",
              "    <tr>\n",
              "      <th>25</th>\n",
              "      <td>2021-03-08</td>\n",
              "      <td>1273.807905</td>\n",
              "      <td>670.394619</td>\n",
              "    </tr>\n",
              "    <tr>\n",
              "      <th>26</th>\n",
              "      <td>2021-03-09</td>\n",
              "      <td>1036.315953</td>\n",
              "      <td>668.843451</td>\n",
              "    </tr>\n",
              "    <tr>\n",
              "      <th>27</th>\n",
              "      <td>2021-03-10</td>\n",
              "      <td>990.499065</td>\n",
              "      <td>445.237610</td>\n",
              "    </tr>\n",
              "    <tr>\n",
              "      <th>28</th>\n",
              "      <td>2021-03-11</td>\n",
              "      <td>909.692321</td>\n",
              "      <td>563.016269</td>\n",
              "    </tr>\n",
              "    <tr>\n",
              "      <th>29</th>\n",
              "      <td>2021-03-12</td>\n",
              "      <td>745.893690</td>\n",
              "      <td>314.709698</td>\n",
              "    </tr>\n",
              "    <tr>\n",
              "      <th>30</th>\n",
              "      <td>2021-03-15</td>\n",
              "      <td>1277.469761</td>\n",
              "      <td>660.618092</td>\n",
              "    </tr>\n",
              "    <tr>\n",
              "      <th>31</th>\n",
              "      <td>2021-03-16</td>\n",
              "      <td>1028.626346</td>\n",
              "      <td>558.690011</td>\n",
              "    </tr>\n",
              "    <tr>\n",
              "      <th>32</th>\n",
              "      <td>2021-03-17</td>\n",
              "      <td>1066.934359</td>\n",
              "      <td>445.790223</td>\n",
              "    </tr>\n",
              "    <tr>\n",
              "      <th>33</th>\n",
              "      <td>2021-03-18</td>\n",
              "      <td>915.459788</td>\n",
              "      <td>499.021725</td>\n",
              "    </tr>\n",
              "    <tr>\n",
              "      <th>34</th>\n",
              "      <td>2021-03-19</td>\n",
              "      <td>679.600347</td>\n",
              "      <td>296.894576</td>\n",
              "    </tr>\n",
              "    <tr>\n",
              "      <th>35</th>\n",
              "      <td>2021-03-22</td>\n",
              "      <td>1258.782510</td>\n",
              "      <td>616.870659</td>\n",
              "    </tr>\n",
              "    <tr>\n",
              "      <th>36</th>\n",
              "      <td>2021-03-23</td>\n",
              "      <td>995.428154</td>\n",
              "      <td>599.037679</td>\n",
              "    </tr>\n",
              "    <tr>\n",
              "      <th>37</th>\n",
              "      <td>2021-03-24</td>\n",
              "      <td>948.054724</td>\n",
              "      <td>418.172802</td>\n",
              "    </tr>\n",
              "    <tr>\n",
              "      <th>38</th>\n",
              "      <td>2021-03-25</td>\n",
              "      <td>851.449793</td>\n",
              "      <td>437.425730</td>\n",
              "    </tr>\n",
              "    <tr>\n",
              "      <th>39</th>\n",
              "      <td>2021-03-26</td>\n",
              "      <td>626.113387</td>\n",
              "      <td>290.123579</td>\n",
              "    </tr>\n",
              "    <tr>\n",
              "      <th>40</th>\n",
              "      <td>2021-03-29</td>\n",
              "      <td>1209.007017</td>\n",
              "      <td>631.977590</td>\n",
              "    </tr>\n",
              "    <tr>\n",
              "      <th>41</th>\n",
              "      <td>2021-03-30</td>\n",
              "      <td>1016.270056</td>\n",
              "      <td>580.708870</td>\n",
              "    </tr>\n",
              "    <tr>\n",
              "      <th>42</th>\n",
              "      <td>2021-03-31</td>\n",
              "      <td>963.441791</td>\n",
              "      <td>416.554116</td>\n",
              "    </tr>\n",
              "    <tr>\n",
              "      <th>43</th>\n",
              "      <td>2021-04-01</td>\n",
              "      <td>859.076403</td>\n",
              "      <td>432.065690</td>\n",
              "    </tr>\n",
              "    <tr>\n",
              "      <th>44</th>\n",
              "      <td>2021-04-02</td>\n",
              "      <td>642.731615</td>\n",
              "      <td>289.090185</td>\n",
              "    </tr>\n",
              "    <tr>\n",
              "      <th>45</th>\n",
              "      <td>2021-04-05</td>\n",
              "      <td>1232.480271</td>\n",
              "      <td>589.020057</td>\n",
              "    </tr>\n",
              "    <tr>\n",
              "      <th>46</th>\n",
              "      <td>2021-04-06</td>\n",
              "      <td>1018.236433</td>\n",
              "      <td>577.449315</td>\n",
              "    </tr>\n",
              "    <tr>\n",
              "      <th>47</th>\n",
              "      <td>2021-04-07</td>\n",
              "      <td>985.785363</td>\n",
              "      <td>439.585198</td>\n",
              "    </tr>\n",
              "    <tr>\n",
              "      <th>48</th>\n",
              "      <td>2021-04-08</td>\n",
              "      <td>878.489347</td>\n",
              "      <td>445.732318</td>\n",
              "    </tr>\n",
              "    <tr>\n",
              "      <th>49</th>\n",
              "      <td>2021-04-09</td>\n",
              "      <td>630.328064</td>\n",
              "      <td>284.874191</td>\n",
              "    </tr>\n",
              "  </tbody>\n",
              "</table>\n",
              "</div>"
            ],
            "text/plain": [
              "            일자          중식계         석식계\n",
              "0   2021-01-27  1004.276903  376.426586\n",
              "1   2021-01-28   884.135105  452.295420\n",
              "2   2021-01-29   635.752445  242.125433\n",
              "3   2021-02-01  1287.341946  534.180582\n",
              "4   2021-02-02  1030.694455  474.103891\n",
              "5   2021-02-03  1036.677121   10.437976\n",
              "6   2021-02-04   985.950300  451.439057\n",
              "7   2021-02-05   753.865085  425.490090\n",
              "8   2021-02-08  1309.878422  598.785936\n",
              "9   2021-02-09  1085.104712  513.535161\n",
              "10  2021-02-10   751.187659  169.860182\n",
              "11  2021-02-15  1304.834032  657.705771\n",
              "12  2021-02-16  1078.321271  635.529687\n",
              "13  2021-02-17  1079.834437  420.288897\n",
              "14  2021-02-18   912.094566  499.739400\n",
              "15  2021-02-19   713.188036  403.278847\n",
              "16  2021-02-22  1263.753155  656.853037\n",
              "17  2021-02-23  1032.908757  624.057873\n",
              "18  2021-02-24   980.516663  444.996593\n",
              "19  2021-02-25   895.684862  478.599305\n",
              "20  2021-02-26   664.195613  286.452514\n",
              "21  2021-03-02  1075.411910  647.961423\n",
              "22  2021-03-03  1001.834703  478.690741\n",
              "23  2021-03-04   935.314419  555.277329\n",
              "24  2021-03-05   734.622390  439.179976\n",
              "25  2021-03-08  1273.807905  670.394619\n",
              "26  2021-03-09  1036.315953  668.843451\n",
              "27  2021-03-10   990.499065  445.237610\n",
              "28  2021-03-11   909.692321  563.016269\n",
              "29  2021-03-12   745.893690  314.709698\n",
              "30  2021-03-15  1277.469761  660.618092\n",
              "31  2021-03-16  1028.626346  558.690011\n",
              "32  2021-03-17  1066.934359  445.790223\n",
              "33  2021-03-18   915.459788  499.021725\n",
              "34  2021-03-19   679.600347  296.894576\n",
              "35  2021-03-22  1258.782510  616.870659\n",
              "36  2021-03-23   995.428154  599.037679\n",
              "37  2021-03-24   948.054724  418.172802\n",
              "38  2021-03-25   851.449793  437.425730\n",
              "39  2021-03-26   626.113387  290.123579\n",
              "40  2021-03-29  1209.007017  631.977590\n",
              "41  2021-03-30  1016.270056  580.708870\n",
              "42  2021-03-31   963.441791  416.554116\n",
              "43  2021-04-01   859.076403  432.065690\n",
              "44  2021-04-02   642.731615  289.090185\n",
              "45  2021-04-05  1232.480271  589.020057\n",
              "46  2021-04-06  1018.236433  577.449315\n",
              "47  2021-04-07   985.785363  439.585198\n",
              "48  2021-04-08   878.489347  445.732318\n",
              "49  2021-04-09   630.328064  284.874191"
            ]
          },
          "metadata": {
            "tags": []
          },
          "execution_count": 83
        }
      ]
    },
    {
      "cell_type": "code",
      "metadata": {
        "id": "iDbZYkrdIFvi"
      },
      "source": [
        "submission_esb.to_csv('submission.csv', index = False)"
      ],
      "execution_count": null,
      "outputs": []
    },
    {
      "cell_type": "markdown",
      "metadata": {
        "id": "1tUB-ZN8bHHO"
      },
      "source": [
        "# **간단한 시각화**"
      ]
    },
    {
      "cell_type": "code",
      "metadata": {
        "colab": {
          "base_uri": "https://localhost:8080/",
          "height": 283
        },
        "id": "ploVgfLDbLmc",
        "outputId": "01a3c9db-fc65-4998-d484-14f4d300977b"
      },
      "source": [
        "submission_esb['중식계'].plot()"
      ],
      "execution_count": null,
      "outputs": [
        {
          "output_type": "execute_result",
          "data": {
            "text/plain": [
              "<matplotlib.axes._subplots.AxesSubplot at 0x7fb0861fb150>"
            ]
          },
          "metadata": {
            "tags": []
          },
          "execution_count": 61
        },
        {
          "output_type": "display_data",
          "data": {
            "image/png": "[encoded data removed]",
            "text/plain": [
              "<Figure size 432x288 with 1 Axes>"
            ]
          },
          "metadata": {
            "tags": [],
            "needs_background": "light"
          }
        }
      ]
    },
    {
      "cell_type": "code",
      "metadata": {
        "colab": {
          "base_uri": "https://localhost:8080/",
          "height": 284
        },
        "id": "BCaAhF0FbV6g",
        "outputId": "88445447-f82a-4e9d-ed17-1307f53a0d09"
      },
      "source": [
        "submission_esb['석식계'].plot()"
      ],
      "execution_count": null,
      "outputs": [
        {
          "output_type": "execute_result",
          "data": {
            "text/plain": [
              "<matplotlib.axes._subplots.AxesSubplot at 0x7fb0861eb210>"
            ]
          },
          "metadata": {
            "tags": []
          },
          "execution_count": 62
        },
        {
          "output_type": "display_data",
          "data": {
            "image/png": "[encoded data removed]",
            "text/plain": [
              "<Figure size 432x288 with 1 Axes>"
            ]
          },
          "metadata": {
            "tags": [],
            "needs_background": "light"
          }
        }
      ]
    }
  ]
}