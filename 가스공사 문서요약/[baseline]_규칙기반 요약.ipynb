{
 "cells": [
  {
   "cell_type": "markdown",
   "metadata": {},
   "source": [
    "# 사용 패키지"
   ]
  },
  {
   "cell_type": "code",
   "execution_count": 1,
   "metadata": {},
   "outputs": [],
   "source": [
    "import pandas as pd\n",
    "import numpy as np\n",
    "import json"
   ]
  },
  {
   "cell_type": "markdown",
   "metadata": {},
   "source": [
    "# 데이터 로드"
   ]
  },
  {
   "cell_type": "code",
   "execution_count": 2,
   "metadata": {},
   "outputs": [],
   "source": [
    "with open('data/test.jsonl', \"r\", encoding=\"utf-8\") as f:\n",
    "    jsonl = list(f)\n",
    "\n",
    "test_data = []\n",
    "for json_str in jsonl:\n",
    "    test_data.append(json.loads(json_str))\n",
    "    \n",
    "submission = pd.read_csv('data/sample_submission.csv')"
   ]
  },
  {
   "cell_type": "code",
   "execution_count": 3,
   "metadata": {},
   "outputs": [
    {
     "data": {
      "text/plain": [
       "{'id': '368851881',\n",
       " 'article_original': ['한국은행이 지난달 기준금리를 추가 인하한 영향으로 대출금리가 일제 하락했다.',\n",
       "  '특히 기업대출금리는 1996년 관련 통계 집계 이후 가장 낮은 수준까지 하락했다.',\n",
       "  \"한국은행이 28일 발표한 '2019년 10월 중 금융기관 가중평균금리'에 따르면 신규취급액 기준 지난달 예금은행의 대출평균금리는 연 3.20%로 전월 대비 0.11%포인트 하락했다.\",\n",
       "  '대출금리를 기업과 가계로 나눠보면 기업대출금리 하락폭이 가팔랐다.',\n",
       "  '10월 기업대출금리는 연 3.28%로 전월 대비 0.14%포인트 떨어졌다.',\n",
       "  '연 3.28%는 1996년 1월 관련 통계 작성 이후 최저치다.',\n",
       "  '대기업의 경우 기준이 되는 단기지표 금리의 하락 영향으로 10월 대출금리가 연 3.13%로 전월 대비 0.17%포인트 빠졌다.',\n",
       "  '중소기업은 일부 은행의 저금리 대출 취급 등의 영향으로 연 3.39%로 0.11%포인트 하락했다.',\n",
       "  '한은 관계자는 \"지난달 기준금리가 인하되면서 단기 지표에 영향을 많이 받는 기업대출 금리도 역대 최저 수준으로 하락했다\"고 설명했다.',\n",
       "  '같은 기간 가계대출 금리도 하락했다.',\n",
       "  '10월 가계대출 금리는 연 3.01%로 전월 대비 0.01%포인트 하락했다.',\n",
       "  '같은 기간 주택담보대출 금리도 연 2.50%로 0.01%포인트 떨어졌다.',\n",
       "  '가계대출 금리의 경우 기업대출에 비해 장기지표 영향을 많이 받아 하락폭은 작았다.',\n",
       "  '한편 10월 중 비은행금융기관 예금금리(1년만기 정기예탁금 기준)는 모두 하락했고 대출금리(일반대출 기준)는 상호저축은행은 상승, 상호금융은 하락했다.'],\n",
       " 'media': '아시아경제'}"
      ]
     },
     "execution_count": 3,
     "metadata": {},
     "output_type": "execute_result"
    }
   ],
   "source": [
    "test_data[0]"
   ]
  },
  {
   "cell_type": "markdown",
   "metadata": {},
   "source": [
    "## 요약문 생성 및 제출\n",
    "\n",
    "자연어 생성 모델을 베이스라인으로 제공하기에 장시간의 학습시간을 필요로 하여 간단한 규칙기반 요약문 생성하였습니다.\n",
    "\n",
    "BART, GPT 등 자연어 생성 모델을 활용을 추천드리고 베이스라인은 데이터로드 부터 제출하는 과정의 용도로 참고해주시기 바랍니다."
   ]
  },
  {
   "cell_type": "code",
   "execution_count": 5,
   "metadata": {},
   "outputs": [],
   "source": [
    "for data in test_data:\n",
    "    did = int(data['id'])\n",
    "    summary = data['article_original'][0] + data['article_original'][-1]\n",
    "    idx = submission[submission['id']==did].index\n",
    "    submission.loc[idx, 'summary'] = summary"
   ]
  },
  {
   "cell_type": "code",
   "execution_count": 6,
   "metadata": {},
   "outputs": [
    {
     "data": {
      "text/html": [
       "<div>\n",
       "<style scoped>\n",
       "    .dataframe tbody tr th:only-of-type {\n",
       "        vertical-align: middle;\n",
       "    }\n",
       "\n",
       "    .dataframe tbody tr th {\n",
       "        vertical-align: top;\n",
       "    }\n",
       "\n",
       "    .dataframe thead th {\n",
       "        text-align: right;\n",
       "    }\n",
       "</style>\n",
       "<table border=\"1\" class=\"dataframe\">\n",
       "  <thead>\n",
       "    <tr style=\"text-align: right;\">\n",
       "      <th></th>\n",
       "      <th>id</th>\n",
       "      <th>summary</th>\n",
       "    </tr>\n",
       "  </thead>\n",
       "  <tbody>\n",
       "    <tr>\n",
       "      <th>0</th>\n",
       "      <td>250366726</td>\n",
       "      <td>가학리 주민들 호소문 통해 입장 전달 “텅텅 빈 산업단지 두고 왜 민가 근처에…”임...</td>\n",
       "    </tr>\n",
       "    <tr>\n",
       "      <th>1</th>\n",
       "      <td>251994086</td>\n",
       "      <td>10대 때부터 써온 한시 “옛 것 사라지는 것 아쉬워”김예나 yena0808@han...</td>\n",
       "    </tr>\n",
       "    <tr>\n",
       "      <th>2</th>\n",
       "      <td>252639804</td>\n",
       "      <td>당진서 군복무하며 인연 맺어 “당진시대는 훌륭한 지역의 소식통”이영민 erfgp92...</td>\n",
       "    </tr>\n",
       "    <tr>\n",
       "      <th>3</th>\n",
       "      <td>252639915</td>\n",
       "      <td>진옥성결교회김예나 yena0808@hanmail.net</td>\n",
       "    </tr>\n",
       "    <tr>\n",
       "      <th>4</th>\n",
       "      <td>253427793</td>\n",
       "      <td>이달 중 청년정책네트워크 구성해 본격 논의 면접 서비스, 청년 사회적기업 창업 지원...</td>\n",
       "    </tr>\n",
       "    <tr>\n",
       "      <th>...</th>\n",
       "      <td>...</td>\n",
       "      <td>...</td>\n",
       "    </tr>\n",
       "    <tr>\n",
       "      <th>4156</th>\n",
       "      <td>372705621</td>\n",
       "      <td>울산경찰청은 31일 자정을 기준으로 '2020년 운전면허 행정처분 특별감면'을 실시...</td>\n",
       "    </tr>\n",
       "    <tr>\n",
       "      <th>4157</th>\n",
       "      <td>372751633</td>\n",
       "      <td>디지털뉴스부2010년 캔 정규앨범 7.5집 《Special Edition》까지 발매했다</td>\n",
       "    </tr>\n",
       "    <tr>\n",
       "      <th>4158</th>\n",
       "      <td>372770123</td>\n",
       "      <td>제주관광공사 관광객 신용카드 매출 빅데이터 분석한편, 제주관광공사는 국내 높은 시장...</td>\n",
       "    </tr>\n",
       "    <tr>\n",
       "      <th>4159</th>\n",
       "      <td>372779075</td>\n",
       "      <td>박길수 기자/임실=박길수 기자</td>\n",
       "    </tr>\n",
       "    <tr>\n",
       "      <th>4160</th>\n",
       "      <td>372779090</td>\n",
       "      <td>박상래 기자/박상래 기자</td>\n",
       "    </tr>\n",
       "  </tbody>\n",
       "</table>\n",
       "<p>4161 rows × 2 columns</p>\n",
       "</div>"
      ],
      "text/plain": [
       "             id                                            summary\n",
       "0     250366726  가학리 주민들 호소문 통해 입장 전달 “텅텅 빈 산업단지 두고 왜 민가 근처에…”임...\n",
       "1     251994086  10대 때부터 써온 한시 “옛 것 사라지는 것 아쉬워”김예나 yena0808@han...\n",
       "2     252639804  당진서 군복무하며 인연 맺어 “당진시대는 훌륭한 지역의 소식통”이영민 erfgp92...\n",
       "3     252639915                     진옥성결교회김예나 yena0808@hanmail.net\n",
       "4     253427793  이달 중 청년정책네트워크 구성해 본격 논의 면접 서비스, 청년 사회적기업 창업 지원...\n",
       "...         ...                                                ...\n",
       "4156  372705621  울산경찰청은 31일 자정을 기준으로 '2020년 운전면허 행정처분 특별감면'을 실시...\n",
       "4157  372751633   디지털뉴스부2010년 캔 정규앨범 7.5집 《Special Edition》까지 발매했다\n",
       "4158  372770123  제주관광공사 관광객 신용카드 매출 빅데이터 분석한편, 제주관광공사는 국내 높은 시장...\n",
       "4159  372779075                                   박길수 기자/임실=박길수 기자\n",
       "4160  372779090                                      박상래 기자/박상래 기자\n",
       "\n",
       "[4161 rows x 2 columns]"
      ]
     },
     "execution_count": 6,
     "metadata": {},
     "output_type": "execute_result"
    }
   ],
   "source": [
    "submission"
   ]
  },
  {
   "cell_type": "code",
   "execution_count": 7,
   "metadata": {},
   "outputs": [],
   "source": [
    "submission.to_csv('baseline.csv', index=False)"
   ]
  }
 ],
 "metadata": {
  "kernelspec": {
   "display_name": "eunil",
   "language": "python",
   "name": "eunil"
  },
  "language_info": {
   "codemirror_mode": {
    "name": "ipython",
    "version": 3
   },
   "file_extension": ".py",
   "mimetype": "text/x-python",
   "name": "python",
   "nbconvert_exporter": "python",
   "pygments_lexer": "ipython3",
   "version": "3.6.13"
  }
 },
 "nbformat": 4,
 "nbformat_minor": 4
}
